{
 "cells": [
  {
   "cell_type": "markdown",
   "metadata": {},
   "source": [
    "环境配置对于大多数人来说都是拦路虎，我们小白往往不知道：\n",
    "- 怎么正确的安装\n",
    "- 不知道选择什么\n",
    "- 怎么安装常用的第三方库\n",
    "- 。。。\n",
    "\n",
    "Google推出了一个在线的网站 **[https://colab.research.google.com](https://colab.research.google.com)** ，这些问题现在已经不是问题了。而且Colab还有更多新奇的功能，绝对亮瞎我们的眼睛。下面跟着大邓一起去看看吧"
   ]
  },
  {
   "cell_type": "markdown",
   "metadata": {},
   "source": [
    "### 一、新建云端notebook\n",
    "打开 ** [https://colab.research.google.com](https://colab.research.google.com)** 网站，我们就能看到浏览器中出现了新建python notebook\n",
    "![](img/新建.gif)"
   ]
  },
  {
   "cell_type": "markdown",
   "metadata": {},
   "source": [
    "### 二、分享代码\n",
    "有时候同学之间或者同事之间分享项目代码，过去都是使用邮箱，繁琐费事。现在一键分享，这里我是给自己的邮箱里转发\n",
    "![](img/分享代码.gif)\n",
    "然后大邓打开自己的邮箱，wow，6666\n",
    "![](img/大邓接收代码.gif)"
   ]
  },
  {
   "cell_type": "markdown",
   "metadata": {},
   "source": [
    "### 三、团队成员可以评论代码\n",
    "比如在一个团队中，有的人写错了代码，我们可以在远隔十万八千的另外一台电脑上做评论，提示错误。\n",
    "![](img/添加评论.gif)"
   ]
  },
  {
   "cell_type": "markdown",
   "metadata": {},
   "source": [
    "### 四、链接到stackoverflow\n",
    "单元格中运行如果出错，会直接弹出 **SEARCH STACK OVERFLOW**, 点击该按钮我们直接就能进入谷歌搜索界面，方便我们检索解决方案。\n",
    "![](img/错误提示网站.gif)"
   ]
  },
  {
   "cell_type": "markdown",
   "metadata": {},
   "source": [
    "### 五、备份到github\n",
    "如果你喜欢将代码备份到github，Colab也能满足你这一点\n",
    "![](img/上传github.gif)"
   ]
  },
  {
   "cell_type": "markdown",
   "metadata": {},
   "source": [
    "### 六、还有免费的GPU/TPU\n",
    "如果你有深度学习项目，需要使用GPU/TPU，也没问题。我们可以如下操作\n",
    "![](img/gputpu.gif)"
   ]
  },
  {
   "cell_type": "markdown",
   "metadata": {},
   "source": [
    "### 七、保存本地\n",
    "最后我们还可以将我们的Colab的云端代码下载到本地，可以选择下载为py或ipynb文件\n",
    "![](img/保存到本地.gif)"
   ]
  },
  {
   "cell_type": "code",
   "execution_count": null,
   "metadata": {},
   "outputs": [],
   "source": []
  }
 ],
 "metadata": {
  "kernelspec": {
   "display_name": "Python 3",
   "language": "python",
   "name": "python3"
  },
  "language_info": {
   "codemirror_mode": {
    "name": "ipython",
    "version": 3
   },
   "file_extension": ".py",
   "mimetype": "text/x-python",
   "name": "python",
   "nbconvert_exporter": "python",
   "pygments_lexer": "ipython3",
   "version": "3.7.2"
  }
 },
 "nbformat": 4,
 "nbformat_minor": 2
}
