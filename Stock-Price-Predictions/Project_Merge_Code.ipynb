{
 "cells": [
  {
   "cell_type": "code",
   "execution_count": 1,
   "metadata": {},
   "outputs": [],
   "source": [
    "import pandas as pd"
   ]
  },
  {
   "cell_type": "markdown",
   "metadata": {},
   "source": [
    " <b> Manipulate analyst reports dataset (procesed sentiment analysis) </b>"
   ]
  },
  {
   "cell_type": "code",
   "execution_count": 2,
   "metadata": {},
   "outputs": [
    {
     "data": {
      "text/plain": [
       "655"
      ]
     },
     "execution_count": 2,
     "metadata": {},
     "output_type": "execute_result"
    }
   ],
   "source": [
    "df_rep = pd.read_csv(\"Sentiments.csv\") \n",
    "len(df_rep)"
   ]
  },
  {
   "cell_type": "code",
   "execution_count": 4,
   "metadata": {},
   "outputs": [],
   "source": [
    "#Create quarter column in analyst reports to merge databases\n",
    "df_rep['Date'] = pd.to_datetime(df_rep['Date']) #convert to datetime\n",
    "df_rep['Quarter'] = df_rep['Date'].dt.to_period(\"Q\")"
   ]
  },
  {
   "cell_type": "code",
   "execution_count": 5,
   "metadata": {},
   "outputs": [],
   "source": [
    "def clean_time(row):    \n",
    "    return row.replace(hour=0, minute=0, second=0)"
   ]
  },
  {
   "cell_type": "code",
   "execution_count": 6,
   "metadata": {},
   "outputs": [],
   "source": [
    "df_rep[\"Date\"]=df_rep[\"Date\"].apply(clean_time)"
   ]
  },
  {
   "cell_type": "code",
   "execution_count": 8,
   "metadata": {},
   "outputs": [],
   "source": [
    "#Add TICS to each review\n",
    "df=pd.read_csv(\"Tics.csv\")\n",
    "df_rep = pd.merge(left=df_rep, right = df, how = \"left\", on= 'Company')"
   ]
  },
  {
   "cell_type": "code",
   "execution_count": 9,
   "metadata": {},
   "outputs": [],
   "source": [
    "#create unique identifier by row (TIC + Quarter) for merging databases\n",
    "df_rep['UniqueID'] = df_rep['TIC'].map(str) +'_'+ df_rep['Quarter'].map(str)"
   ]
  },
  {
   "cell_type": "code",
   "execution_count": 10,
   "metadata": {},
   "outputs": [
    {
     "data": {
      "text/plain": [
       "pandas._libs.tslibs.timestamps.Timestamp"
      ]
     },
     "execution_count": 10,
     "metadata": {},
     "output_type": "execute_result"
    }
   ],
   "source": [
    "#change Date format to Datetime\n",
    "df_rep['Date'] = pd.to_datetime(df_rep['Date'])"
   ]
  },
  {
   "cell_type": "code",
   "execution_count": 11,
   "metadata": {},
   "outputs": [
    {
     "data": {
      "text/plain": [
       "586"
      ]
     },
     "execution_count": 11,
     "metadata": {},
     "output_type": "execute_result"
    }
   ],
   "source": [
    "#remove reviews out of 2 year analysis period\n",
    "# remove any 2018_Q4 reviews \n",
    "filter1= df_rep['Date']< '2018-09-30'\n",
    "df_rep = df_rep[filter1]\n",
    "\n",
    "# remove reviews prior to 2016_Q3\n",
    "filter2= df_rep['Date'] > \"2016-10-01\"\n",
    "df_rep = df_rep[filter2]\n",
    "\n",
    "#check final length\n",
    "len(df_rep)"
   ]
  },
  {
   "cell_type": "code",
   "execution_count": 12,
   "metadata": {},
   "outputs": [
    {
     "data": {
      "text/plain": [
       "1   2018-08-16\n",
       "2   2018-07-18\n",
       "3   2018-08-03\n",
       "4   2018-07-18\n",
       "5   2018-05-17\n",
       "Name: T1, dtype: datetime64[ns]"
      ]
     },
     "execution_count": 12,
     "metadata": {},
     "output_type": "execute_result"
    }
   ],
   "source": [
    "from pandas.tseries.offsets import BDay\n",
    "#Identify date + 1 (one day after effect)\n",
    "df_rep['T1'] = df_rep['Date'] + BDay(1)"
   ]
  },
  {
   "cell_type": "code",
   "execution_count": 13,
   "metadata": {},
   "outputs": [
    {
     "data": {
      "text/plain": [
       "1   2018-08-22\n",
       "2   2018-07-24\n",
       "3   2018-08-09\n",
       "4   2018-07-24\n",
       "5   2018-05-23\n",
       "Name: T5, dtype: datetime64[ns]"
      ]
     },
     "execution_count": 13,
     "metadata": {},
     "output_type": "execute_result"
    }
   ],
   "source": [
    "#Identify date + 5 (one week after effect)\n",
    "df_rep['T5'] = df_rep['Date'] + BDay(5)\n",
    "df_rep['T5'].head()"
   ]
  },
  {
   "cell_type": "code",
   "execution_count": 14,
   "metadata": {},
   "outputs": [
    {
     "data": {
      "text/plain": [
       "1   2018-09-13\n",
       "2   2018-08-15\n",
       "3   2018-08-31\n",
       "4   2018-08-15\n",
       "5   2018-06-14\n",
       "Name: T30, dtype: datetime64[ns]"
      ]
     },
     "execution_count": 14,
     "metadata": {},
     "output_type": "execute_result"
    }
   ],
   "source": [
    "#Identify date + 30 (one month after effect)\n",
    "df_rep['T30'] = df_rep['Date'] + BDay(21)\n",
    "df_rep['T30'].head()"
   ]
  },
  {
   "cell_type": "code",
   "execution_count": 15,
   "metadata": {},
   "outputs": [],
   "source": [
    "#Change column names for Date to become T0\n",
    "df_rep.rename(columns = {'Date' : \"T0\"}, inplace = True)"
   ]
  },
  {
   "cell_type": "markdown",
   "metadata": {},
   "source": [
    "<b> Manipulate Company data set </b>"
   ]
  },
  {
   "cell_type": "code",
   "execution_count": 16,
   "metadata": {},
   "outputs": [
    {
     "data": {
      "text/html": [
       "<div>\n",
       "<style scoped>\n",
       "    .dataframe tbody tr th:only-of-type {\n",
       "        vertical-align: middle;\n",
       "    }\n",
       "\n",
       "    .dataframe tbody tr th {\n",
       "        vertical-align: top;\n",
       "    }\n",
       "\n",
       "    .dataframe thead th {\n",
       "        text-align: right;\n",
       "    }\n",
       "</style>\n",
       "<table border=\"1\" class=\"dataframe\">\n",
       "  <thead>\n",
       "    <tr style=\"text-align: right;\">\n",
       "      <th></th>\n",
       "      <th>gvkey</th>\n",
       "      <th>datadate</th>\n",
       "      <th>fyearq</th>\n",
       "      <th>fqtr</th>\n",
       "      <th>indfmt</th>\n",
       "      <th>consol</th>\n",
       "      <th>popsrc</th>\n",
       "      <th>datafmt</th>\n",
       "      <th>tic</th>\n",
       "      <th>conm</th>\n",
       "      <th>...</th>\n",
       "      <th>datacqtr</th>\n",
       "      <th>datafqtr</th>\n",
       "      <th>rdq</th>\n",
       "      <th>niq</th>\n",
       "      <th>revtq</th>\n",
       "      <th>costat</th>\n",
       "      <th>mkvaltq</th>\n",
       "      <th>prccq</th>\n",
       "      <th>prchq</th>\n",
       "      <th>prclq</th>\n",
       "    </tr>\n",
       "  </thead>\n",
       "  <tbody>\n",
       "    <tr>\n",
       "      <th>0</th>\n",
       "      <td>1690</td>\n",
       "      <td>20100331</td>\n",
       "      <td>2010</td>\n",
       "      <td>2</td>\n",
       "      <td>INDL</td>\n",
       "      <td>C</td>\n",
       "      <td>D</td>\n",
       "      <td>STD</td>\n",
       "      <td>AAPL</td>\n",
       "      <td>APPLE INC</td>\n",
       "      <td>...</td>\n",
       "      <td>2010Q1</td>\n",
       "      <td>2010Q2</td>\n",
       "      <td>20100420.0</td>\n",
       "      <td>3074.0</td>\n",
       "      <td>13499.0</td>\n",
       "      <td>A</td>\n",
       "      <td>213764.4600</td>\n",
       "      <td>235.0000</td>\n",
       "      <td>237.48</td>\n",
       "      <td>190.2500</td>\n",
       "    </tr>\n",
       "    <tr>\n",
       "      <th>1</th>\n",
       "      <td>1690</td>\n",
       "      <td>20100630</td>\n",
       "      <td>2010</td>\n",
       "      <td>3</td>\n",
       "      <td>INDL</td>\n",
       "      <td>C</td>\n",
       "      <td>D</td>\n",
       "      <td>STD</td>\n",
       "      <td>AAPL</td>\n",
       "      <td>APPLE INC</td>\n",
       "      <td>...</td>\n",
       "      <td>2010Q2</td>\n",
       "      <td>2010Q3</td>\n",
       "      <td>20100720.0</td>\n",
       "      <td>3253.0</td>\n",
       "      <td>15700.0</td>\n",
       "      <td>A</td>\n",
       "      <td>229768.1275</td>\n",
       "      <td>251.5300</td>\n",
       "      <td>279.01</td>\n",
       "      <td>199.2500</td>\n",
       "    </tr>\n",
       "    <tr>\n",
       "      <th>2</th>\n",
       "      <td>1690</td>\n",
       "      <td>20100930</td>\n",
       "      <td>2010</td>\n",
       "      <td>4</td>\n",
       "      <td>INDL</td>\n",
       "      <td>C</td>\n",
       "      <td>D</td>\n",
       "      <td>STD</td>\n",
       "      <td>AAPL</td>\n",
       "      <td>APPLE INC</td>\n",
       "      <td>...</td>\n",
       "      <td>2010Q3</td>\n",
       "      <td>2010Q4</td>\n",
       "      <td>20101018.0</td>\n",
       "      <td>4308.0</td>\n",
       "      <td>20343.0</td>\n",
       "      <td>A</td>\n",
       "      <td>259906.4875</td>\n",
       "      <td>283.7500</td>\n",
       "      <td>294.73</td>\n",
       "      <td>235.5600</td>\n",
       "    </tr>\n",
       "    <tr>\n",
       "      <th>3</th>\n",
       "      <td>1690</td>\n",
       "      <td>20101231</td>\n",
       "      <td>2011</td>\n",
       "      <td>1</td>\n",
       "      <td>INDL</td>\n",
       "      <td>C</td>\n",
       "      <td>D</td>\n",
       "      <td>STD</td>\n",
       "      <td>AAPL</td>\n",
       "      <td>APPLE INC</td>\n",
       "      <td>...</td>\n",
       "      <td>2010Q4</td>\n",
       "      <td>2011Q1</td>\n",
       "      <td>20110118.0</td>\n",
       "      <td>6004.0</td>\n",
       "      <td>26741.0</td>\n",
       "      <td>A</td>\n",
       "      <td>297089.0496</td>\n",
       "      <td>322.5600</td>\n",
       "      <td>326.66</td>\n",
       "      <td>277.7700</td>\n",
       "    </tr>\n",
       "    <tr>\n",
       "      <th>4</th>\n",
       "      <td>1690</td>\n",
       "      <td>20110331</td>\n",
       "      <td>2011</td>\n",
       "      <td>2</td>\n",
       "      <td>INDL</td>\n",
       "      <td>C</td>\n",
       "      <td>D</td>\n",
       "      <td>STD</td>\n",
       "      <td>AAPL</td>\n",
       "      <td>APPLE INC</td>\n",
       "      <td>...</td>\n",
       "      <td>2011Q1</td>\n",
       "      <td>2011Q2</td>\n",
       "      <td>20110420.0</td>\n",
       "      <td>5987.0</td>\n",
       "      <td>24667.0</td>\n",
       "      <td>A</td>\n",
       "      <td>322255.8241</td>\n",
       "      <td>348.5075</td>\n",
       "      <td>364.90</td>\n",
       "      <td>324.8365</td>\n",
       "    </tr>\n",
       "  </tbody>\n",
       "</table>\n",
       "<p>5 rows × 21 columns</p>\n",
       "</div>"
      ],
      "text/plain": [
       "   gvkey  datadate  fyearq  fqtr indfmt consol popsrc datafmt   tic  \\\n",
       "0   1690  20100331    2010     2   INDL      C      D     STD  AAPL   \n",
       "1   1690  20100630    2010     3   INDL      C      D     STD  AAPL   \n",
       "2   1690  20100930    2010     4   INDL      C      D     STD  AAPL   \n",
       "3   1690  20101231    2011     1   INDL      C      D     STD  AAPL   \n",
       "4   1690  20110331    2011     2   INDL      C      D     STD  AAPL   \n",
       "\n",
       "        conm    ...    datacqtr datafqtr         rdq     niq    revtq  costat  \\\n",
       "0  APPLE INC    ...      2010Q1   2010Q2  20100420.0  3074.0  13499.0       A   \n",
       "1  APPLE INC    ...      2010Q2   2010Q3  20100720.0  3253.0  15700.0       A   \n",
       "2  APPLE INC    ...      2010Q3   2010Q4  20101018.0  4308.0  20343.0       A   \n",
       "3  APPLE INC    ...      2010Q4   2011Q1  20110118.0  6004.0  26741.0       A   \n",
       "4  APPLE INC    ...      2011Q1   2011Q2  20110420.0  5987.0  24667.0       A   \n",
       "\n",
       "       mkvaltq     prccq   prchq     prclq  \n",
       "0  213764.4600  235.0000  237.48  190.2500  \n",
       "1  229768.1275  251.5300  279.01  199.2500  \n",
       "2  259906.4875  283.7500  294.73  235.5600  \n",
       "3  297089.0496  322.5600  326.66  277.7700  \n",
       "4  322255.8241  348.5075  364.90  324.8365  \n",
       "\n",
       "[5 rows x 21 columns]"
      ]
     },
     "execution_count": 16,
     "metadata": {},
     "output_type": "execute_result"
    }
   ],
   "source": [
    "df_comp = pd.read_csv(\"WRDS Company Data.csv\", sep = \",\")\n",
    "df_comp.head()"
   ]
  },
  {
   "cell_type": "code",
   "execution_count": 18,
   "metadata": {},
   "outputs": [],
   "source": [
    "#create unique identifier by row (TIC + Quarter) for merging databases\n",
    "df_comp['UniqueID'] = df_comp['tic'].map(str) +'_'+ df_comp['datacqtr'].map(str)"
   ]
  },
  {
   "cell_type": "code",
   "execution_count": 19,
   "metadata": {},
   "outputs": [],
   "source": [
    "#remove unncesary colums\n",
    "delete = ['gvkey',  'fyearq', 'fqtr', 'indfmt', 'consol', 'popsrc','datafmt',  'curcdq','costat', 'prchq', 'prclq']\n",
    "df_comp = df_comp.drop(labels=delete, axis = 1)"
   ]
  },
  {
   "cell_type": "code",
   "execution_count": 20,
   "metadata": {},
   "outputs": [],
   "source": [
    "#merge analyst reports and financial data\n",
    "df_final = pd.merge(left=df_rep, right = df_comp, how = \"left\", on= 'UniqueID')"
   ]
  },
  {
   "cell_type": "code",
   "execution_count": 22,
   "metadata": {},
   "outputs": [],
   "source": [
    "#create unique time& company id for merging with stock prices\n",
    "df_final['UniqueT0'] = df_final['tic'].map(str) +'_'+ df_final['T0'].map(str)\n",
    "df_final['UniqueT1'] = df_final['tic'].map(str) +'_'+ df_final['T1'].map(str)\n",
    "df_final['UniqueT5'] = df_final['tic'].map(str) +'_'+ df_final['T5'].map(str)\n",
    "df_final['UniqueT30'] = df_final['tic'].map(str) +'_'+ df_final['T30'].map(str)"
   ]
  },
  {
   "cell_type": "markdown",
   "metadata": {},
   "source": [
    "<b> Add stock data set </b>"
   ]
  },
  {
   "cell_type": "code",
   "execution_count": 25,
   "metadata": {},
   "outputs": [
    {
     "name": "stdout",
     "output_type": "stream",
     "text": [
      "17220\n",
      "<class 'pandas.core.frame.DataFrame'>\n",
      "RangeIndex: 17220 entries, 0 to 17219\n",
      "Data columns (total 8 columns):\n",
      "Date         17220 non-null object\n",
      "Open         17220 non-null float64\n",
      "High         17220 non-null float64\n",
      "Low          17220 non-null float64\n",
      "Close        17220 non-null float64\n",
      "Adj Close    17220 non-null float64\n",
      "Volume       17220 non-null int64\n",
      "Company      17220 non-null object\n",
      "dtypes: float64(5), int64(1), object(2)\n",
      "memory usage: 1.1+ MB\n"
     ]
    },
    {
     "data": {
      "text/plain": [
       "Index(['Date', 'Open', 'High', 'Low', 'Close', 'Adj Close', 'Volume',\n",
       "       'Company'],\n",
       "      dtype='object')"
      ]
     },
     "execution_count": 25,
     "metadata": {},
     "output_type": "execute_result"
    }
   ],
   "source": [
    "df_stock = pd.read_csv(\"StockPrices.csv\") \n",
    "print(len(df_stock))\n",
    "df_stock.info()\n",
    "df_stock.tail()\n",
    "df_stock.columns"
   ]
  },
  {
   "cell_type": "code",
   "execution_count": 26,
   "metadata": {},
   "outputs": [
    {
     "data": {
      "text/plain": [
       "Timestamp('2016-10-03 00:00:00')"
      ]
     },
     "execution_count": 26,
     "metadata": {},
     "output_type": "execute_result"
    }
   ],
   "source": [
    "#change date format on stock price data\n",
    "df_stock['Date'] = pd.to_datetime(df_stock['Date']) #convert to datetime"
   ]
  },
  {
   "cell_type": "code",
   "execution_count": 27,
   "metadata": {},
   "outputs": [],
   "source": [
    "#remove unncesary colums\n",
    "delete = ['Open', 'High', 'Low', 'Adj Close', 'Volume']\n",
    "df_stock = df_stock.drop(labels=delete, axis = 1)"
   ]
  },
  {
   "cell_type": "code",
   "execution_count": 29,
   "metadata": {},
   "outputs": [
    {
     "data": {
      "text/html": [
       "<div>\n",
       "<style scoped>\n",
       "    .dataframe tbody tr th:only-of-type {\n",
       "        vertical-align: middle;\n",
       "    }\n",
       "\n",
       "    .dataframe tbody tr th {\n",
       "        vertical-align: top;\n",
       "    }\n",
       "\n",
       "    .dataframe thead th {\n",
       "        text-align: right;\n",
       "    }\n",
       "</style>\n",
       "<table border=\"1\" class=\"dataframe\">\n",
       "  <thead>\n",
       "    <tr style=\"text-align: right;\">\n",
       "      <th></th>\n",
       "      <th></th>\n",
       "      <th>Close</th>\n",
       "      <th>Company</th>\n",
       "    </tr>\n",
       "    <tr>\n",
       "      <th>Company</th>\n",
       "      <th>Date</th>\n",
       "      <th></th>\n",
       "      <th></th>\n",
       "    </tr>\n",
       "  </thead>\n",
       "  <tbody>\n",
       "    <tr>\n",
       "      <th rowspan=\"5\" valign=\"top\">AAP</th>\n",
       "      <th>2016-06-06</th>\n",
       "      <td>150.240005</td>\n",
       "      <td>AAP</td>\n",
       "    </tr>\n",
       "    <tr>\n",
       "      <th>2016-06-07</th>\n",
       "      <td>151.710007</td>\n",
       "      <td>AAP</td>\n",
       "    </tr>\n",
       "    <tr>\n",
       "      <th>2016-06-08</th>\n",
       "      <td>153.520004</td>\n",
       "      <td>AAP</td>\n",
       "    </tr>\n",
       "    <tr>\n",
       "      <th>2016-06-09</th>\n",
       "      <td>156.779999</td>\n",
       "      <td>AAP</td>\n",
       "    </tr>\n",
       "    <tr>\n",
       "      <th>2016-06-10</th>\n",
       "      <td>153.020004</td>\n",
       "      <td>AAP</td>\n",
       "    </tr>\n",
       "  </tbody>\n",
       "</table>\n",
       "</div>"
      ],
      "text/plain": [
       "                         Close Company\n",
       "Company Date                          \n",
       "AAP     2016-06-06  150.240005     AAP\n",
       "        2016-06-07  151.710007     AAP\n",
       "        2016-06-08  153.520004     AAP\n",
       "        2016-06-09  156.779999     AAP\n",
       "        2016-06-10  153.020004     AAP"
      ]
     },
     "execution_count": 29,
     "metadata": {},
     "output_type": "execute_result"
    }
   ],
   "source": [
    "df_stock.Date = pd.to_datetime(df_stock.Date)\n",
    "df_stock.Close = pd.to_numeric(df_stock.Close, 'coerce')\n",
    "\n",
    "#df_stock = df_stock.set_index('Date')\n",
    "\n",
    "df_stock = df_stock.groupby('Company').apply(lambda x: x.set_index('Date').resample('D').pad())"
   ]
  },
  {
   "cell_type": "code",
   "execution_count": 30,
   "metadata": {},
   "outputs": [],
   "source": [
    "# move date from index to a column\n",
    "df_stock = df_stock.reset_index(level=['Date'])\n",
    "\n",
    "#reset index from company tic to generic 1,2,3...\n",
    "df_stock = df_stock.reset_index(drop = True)"
   ]
  },
  {
   "cell_type": "code",
   "execution_count": 31,
   "metadata": {},
   "outputs": [],
   "source": [
    "#create unique time & company id for merging with stock prices\n",
    "df_stock['UniqueT'] = df_stock['Company'].map(str) +'_'+ df_stock['Date'].map(str)"
   ]
  },
  {
   "cell_type": "code",
   "execution_count": 32,
   "metadata": {},
   "outputs": [],
   "source": [
    "#remove unncesary colums\n",
    "delete = ['Company']\n",
    "df_stock = df_stock.drop(labels=delete, axis = 1)"
   ]
  },
  {
   "cell_type": "code",
   "execution_count": 36,
   "metadata": {},
   "outputs": [],
   "source": [
    "# add stock price at T0\n",
    "df_T0 = pd.merge(left = df_stock, right = df_final, left_on = 'UniqueT', right_on = 'UniqueT0', how = 'right')\n",
    "\n",
    "#Change column names for Date to become T0\n",
    "df_T0.rename(columns = {'Close' : \"Close_Price_T0\"}, inplace = True)\n",
    "\n",
    "#drop \"date\" - created column\n",
    "#remove unncesary colums\n",
    "delete = ['Date']\n",
    "df_T0 = df_T0.drop(labels=delete, axis = 1)"
   ]
  },
  {
   "cell_type": "code",
   "execution_count": 37,
   "metadata": {},
   "outputs": [],
   "source": [
    "# add stock price at T1\n",
    "df_T1 = pd.merge(left = df_stock, right = df_T0, left_on = 'UniqueT', right_on = 'UniqueT1', how = 'right')\n",
    "\n",
    "#Change column names for Date to become T0\n",
    "df_T1.rename(columns = {'Close' : \"Close_Price_T1\"}, inplace = True)\n",
    "\n",
    "#drop \"date\" - created column\n",
    "#remove unncesary colums\n",
    "delete = ['Date']\n",
    "df_T1 = df_T1.drop(labels=delete, axis = 1)"
   ]
  },
  {
   "cell_type": "code",
   "execution_count": 38,
   "metadata": {},
   "outputs": [],
   "source": [
    "# add stock price at T5\n",
    "df_T5 = pd.merge(left = df_stock, right = df_T1, left_on = 'UniqueT', right_on = 'UniqueT5', how = 'right')\n",
    "\n",
    "#Change column names for Date to become T0\n",
    "df_T5.rename(columns = {'Close' : \"Close_Price_T5\"}, inplace = True)\n",
    "\n",
    "#drop \"date\" - created column\n",
    "#remove unncesary colums\n",
    "delete = ['Date']\n",
    "df_T5 = df_T5.drop(labels=delete, axis = 1)"
   ]
  },
  {
   "cell_type": "code",
   "execution_count": 39,
   "metadata": {},
   "outputs": [],
   "source": [
    "# add stock price at T30\n",
    "df_model = pd.merge(left = df_stock, right = df_T5, left_on = 'UniqueT', right_on = 'UniqueT30', how = 'right')\n",
    "\n",
    "#Change column names for Date to become T0\n",
    "df_model.rename(columns = {'Close' : \"Close_Price_T30\"}, inplace = True)\n",
    "\n",
    "#drop \"date\" - created column\n",
    "#remove unncesary colums\n",
    "delete = ['Date']\n",
    "df_model = df_model.drop(labels=delete, axis = 1)"
   ]
  },
  {
   "cell_type": "code",
   "execution_count": 41,
   "metadata": {},
   "outputs": [],
   "source": [
    "#format date of earnings report \n",
    "df_model ['rdq'] = df_model ['rdq'].astype(str).str[:-2]\n",
    "\n",
    "#Define function to correct datadate format\n",
    "import datetime\n",
    "def date1(s):\n",
    "    \n",
    "    e = '%Y%m%d'\n",
    "    d = datetime.datetime.strptime(str(s), e)\n",
    "    return d\n",
    "\n",
    "#apply formula\n",
    "df_model ['rdq'] = df_model ['rdq'].apply(date1)"
   ]
  },
  {
   "cell_type": "code",
   "execution_count": 43,
   "metadata": {},
   "outputs": [],
   "source": [
    "#remove unncesary colums\n",
    "delete = ['UniqueT_x', 'UniqueT_y',\n",
    "        'UniqueT_x',  'UniqueT_y']\n",
    "df_model = df_model.drop(labels=delete, axis = 1)"
   ]
  },
  {
   "cell_type": "code",
   "execution_count": 44,
   "metadata": {},
   "outputs": [],
   "source": [
    "#create an industry variable\n",
    "#define function\n",
    "def industry(row):\n",
    "    retail = ['AMZN' ,'WMT', 'HD',  'COST' , 'CVS', 'WBA', 'LOW', 'TGT', 'ROST',\n",
    "              'TJX', 'ORLY', 'KR', 'AZO', 'AAP', 'BBY']\n",
    "\n",
    "    if row['tic'] in retail:\n",
    "        return 'RETAIL'\n",
    "    else:\n",
    "        return 'TECH'\n",
    "\n",
    "#apply function\n",
    "df_model['Industry'] = df_model.apply(industry, axis =1)"
   ]
  },
  {
   "cell_type": "code",
   "execution_count": 45,
   "metadata": {},
   "outputs": [
    {
     "data": {
      "text/plain": [
       "0   -112 days\n",
       "1    -99 days\n",
       "2    -97 days\n",
       "3    -92 days\n",
       "4    -63 days\n",
       "Name: TimeDelta, dtype: timedelta64[ns]"
      ]
     },
     "execution_count": 45,
     "metadata": {},
     "output_type": "execute_result"
    }
   ],
   "source": [
    "#create new variable: time until quaterly earnings announcement\n",
    "df_model['TimeDelta'] = df_model['T0'] - df_model['rdq']\n"
   ]
  },
  {
   "cell_type": "code",
   "execution_count": 46,
   "metadata": {},
   "outputs": [],
   "source": [
    "#create new variable: % of stock change T0 to TX\n",
    "\n",
    "#T1\n",
    "df_model['Change_T1'] = df_model['Close_Price_T1'] - df_model['Close_Price_T0']\n",
    "df_model['Per_Change_T1'] = df_model['Change_T1'] / df_model['Close_Price_T0']\n",
    "\n",
    "#T5\n",
    "df_model['Change_T5'] = df_model['Close_Price_T5'] - df_model['Close_Price_T0']\n",
    "df_model['Per_Change_T5'] = df_model['Change_T5'] / df_model['Close_Price_T0']\n",
    "\n",
    "#T30\n",
    "df_model['Change_T30'] = df_model['Close_Price_T30'] - df_model['Close_Price_T0']\n",
    "df_model['Per_Change_T30'] = df_model['Change_T30'] / df_model['Close_Price_T0']"
   ]
  },
  {
   "cell_type": "code",
   "execution_count": 53,
   "metadata": {},
   "outputs": [],
   "source": [
    "df_model.to_csv('chkk.csv')"
   ]
  },
  {
   "cell_type": "code",
   "execution_count": 47,
   "metadata": {},
   "outputs": [],
   "source": [
    "#remove unncesary columns\n",
    "delete = ['Change_T1', 'Change_T5', 'Change_T30', 'Close_Price_T30',\n",
    "       'Close_Price_T5', 'Close_Price_T1', 'Close_Price_T0', 'rdq',\n",
    "         'UniqueT0', 'UniqueT1', 'UniqueT5', 'UniqueT30', 'UniqueID', 'T1', 'T5',\n",
    "         'T30', 'datadate', 'conm', 'datacqtr']\n",
    "df_model = df_model.drop(labels=delete, axis = 1)"
   ]
  },
  {
   "cell_type": "code",
   "execution_count": 48,
   "metadata": {},
   "outputs": [],
   "source": [
    "# remove because of incomplete data\n",
    "#delete = ['dvpspq', 'dvpsxq']\n",
    "#df_model = df_model.drop(labels=delete, axis = 1)"
   ]
  },
  {
   "cell_type": "code",
   "execution_count": 49,
   "metadata": {},
   "outputs": [],
   "source": [
    "# rename variables for easier modeling\n",
    "#df_model.rename(columns = {'prccq' : 'Price_Close_Q', 'mkvaltq' : 'Market_Value_Q'  }, inplace = True)"
   ]
  },
  {
   "cell_type": "code",
   "execution_count": 51,
   "metadata": {},
   "outputs": [
    {
     "name": "stdout",
     "output_type": "stream",
     "text": [
      "<class 'pandas.core.frame.DataFrame'>\n",
      "Int64Index: 586 entries, 0 to 585\n",
      "Data columns (total 24 columns):\n",
      "Company                    586 non-null object\n",
      "T0                         586 non-null datetime64[ns]\n",
      "Author                     586 non-null object\n",
      "Finance Headline           586 non-null float64\n",
      "General Headline           586 non-null float64\n",
      "Finance First Paragraph    586 non-null float64\n",
      "General First Paragraph    586 non-null float64\n",
      "Finance Last Paragraph     586 non-null float64\n",
      "General Last Paragraph     586 non-null float64\n",
      "Finance Combined           586 non-null float64\n",
      "General Combined           586 non-null float64\n",
      "Quarter                    586 non-null object\n",
      "TIC                        586 non-null object\n",
      "tic                        586 non-null object\n",
      "datafqtr                   586 non-null object\n",
      "niq                        586 non-null float64\n",
      "revtq                      586 non-null float64\n",
      "mkvaltq                    577 non-null float64\n",
      "prccq                      577 non-null float64\n",
      "Industry                   586 non-null object\n",
      "TimeDelta                  586 non-null timedelta64[ns]\n",
      "Per_Change_T1              586 non-null float64\n",
      "Per_Change_T5              586 non-null float64\n",
      "Per_Change_T30             586 non-null float64\n",
      "dtypes: datetime64[ns](1), float64(15), object(7), timedelta64[ns](1)\n",
      "memory usage: 114.5+ KB\n"
     ]
    }
   ],
   "source": [
    "df_model.info()"
   ]
  },
  {
   "cell_type": "code",
   "execution_count": 52,
   "metadata": {},
   "outputs": [],
   "source": [
    "df_model.to_csv(\"Model Data.csv\", index = None)"
   ]
  }
 ],
 "metadata": {
  "kernelspec": {
   "display_name": "Python 3",
   "language": "python",
   "name": "python3"
  },
  "language_info": {
   "codemirror_mode": {
    "name": "ipython",
    "version": 3
   },
   "file_extension": ".py",
   "mimetype": "text/x-python",
   "name": "python",
   "nbconvert_exporter": "python",
   "pygments_lexer": "ipython3",
   "version": "3.7.0"
  }
 },
 "nbformat": 4,
 "nbformat_minor": 2
}
