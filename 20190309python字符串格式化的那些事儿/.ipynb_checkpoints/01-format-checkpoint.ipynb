{
 "cells": [
  {
   "cell_type": "markdown",
   "metadata": {},
   "source": [
    "# 字符串格式化那些事儿\n",
    "去年年底报名了python计算机二级，本以为自己学了很久，python二级的知识点应该都很熟悉。\n",
    "\n",
    "![](img/python文本分析.jpg)没想到翻开教材收获还挺大的，字符串格式化format方法这部分真得值得学习一下，让自己的程序打印出来的内容更标准更好看。format不难，我就直接上例子把，这样大家花个几分钟就学会了。"
   ]
  },
  {
   "cell_type": "markdown",
   "metadata": {},
   "source": [
    "## 最基本\n",
    "\n",
    "**<模板字符串>.format(<填入模板的内容>)**\n"
   ]
  },
  {
   "cell_type": "code",
   "execution_count": 1,
   "metadata": {},
   "outputs": [
    {
     "name": "stdout",
     "output_type": "stream",
     "text": [
      "孔子曰：有朋自远方来，不亦说乎。\n"
     ]
    }
   ],
   "source": [
    "print(\"{}曰：有朋自远方来，不亦说乎。\".format('孔子'))"
   ]
  },
  {
   "cell_type": "code",
   "execution_count": 2,
   "metadata": {},
   "outputs": [
    {
     "name": "stdout",
     "output_type": "stream",
     "text": [
      "孔子曰：有朋自远方来，不亦说乎。\n"
     ]
    }
   ],
   "source": [
    "print(\"{}曰：有朋自远方来，不亦{}。\".format('孔子', '说乎'))"
   ]
  },
  {
   "cell_type": "markdown",
   "metadata": {},
   "source": [
    "## 有序号的填充\n",
    "\n",
    "**'{<序号参数>}'.format(<填入模板的内容>)**\n",
    "\n",
    "\n",
    "注意format内的参数是根据模板字符串中的序号，按位置填充。看例子你就懂了"
   ]
  },
  {
   "cell_type": "code",
   "execution_count": 3,
   "metadata": {},
   "outputs": [
    {
     "name": "stdout",
     "output_type": "stream",
     "text": [
      "孔子曰：有朋自远方来，不亦说乎。\n",
      "说乎曰：有朋自远方来，不亦孔子。\n"
     ]
    }
   ],
   "source": [
    "print(\"{0}曰：有朋自远方来，不亦{1}。\".format('孔子', '说乎'))\n",
    "print(\"{1}曰：有朋自远方来，不亦{0}。\".format('孔子', '说乎'))"
   ]
  },
  {
   "cell_type": "markdown",
   "metadata": {},
   "source": [
    "## 格式控制\n",
    "**{<序号参数>: <格式控制表达式>}**\n",
    "\n",
    "|格式控制表达式|功能|\n",
    "|---|---|\n",
    "|<|左对齐|\n",
    "|^|居中|\n",
    "|>|右对齐|\n",
    "|n|字符串长度为n|\n",
    "|.nf|浮点数保留小数点后n位数|\n",
    "|.n|对传入的字符串截断，只保留前n个字符|\n",
    "\n",
    "下面我们直接看例子。\n",
    "\n",
    "默认为左对齐，注意输出结果有一个单引号哦"
   ]
  },
  {
   "cell_type": "code",
   "execution_count": 9,
   "metadata": {},
   "outputs": [
    {
     "data": {
      "text/plain": [
       "'很高兴您关注大邓的公众号             '"
      ]
     },
     "execution_count": 9,
     "metadata": {},
     "output_type": "execute_result"
    }
   ],
   "source": [
    "s = \"很高兴您关注大邓的公众号\"\n",
    "\n",
    "\"{:25}\".format(s)"
   ]
  },
  {
   "cell_type": "markdown",
   "metadata": {},
   "source": [
    "^居中对齐"
   ]
  },
  {
   "cell_type": "code",
   "execution_count": 10,
   "metadata": {},
   "outputs": [
    {
     "data": {
      "text/plain": [
       "'      很高兴您关注大邓的公众号       '"
      ]
     },
     "execution_count": 10,
     "metadata": {},
     "output_type": "execute_result"
    }
   ],
   "source": [
    "\"{:^25}\".format(s)"
   ]
  },
  {
   "cell_type": "markdown",
   "metadata": {},
   "source": [
    ">右对齐"
   ]
  },
  {
   "cell_type": "code",
   "execution_count": 11,
   "metadata": {},
   "outputs": [
    {
     "data": {
      "text/plain": [
       "'             很高兴您关注大邓的公众号'"
      ]
     },
     "execution_count": 11,
     "metadata": {},
     "output_type": "execute_result"
    }
   ],
   "source": [
    "\"{:>25}\".format(s)"
   ]
  },
  {
   "cell_type": "markdown",
   "metadata": {},
   "source": [
    "居中对齐并用\\*填充"
   ]
  },
  {
   "cell_type": "code",
   "execution_count": 12,
   "metadata": {},
   "outputs": [
    {
     "data": {
      "text/plain": [
       "'******很高兴您关注大邓的公众号*******'"
      ]
     },
     "execution_count": 12,
     "metadata": {},
     "output_type": "execute_result"
    }
   ],
   "source": [
    "\"{:*^25}\".format(s)"
   ]
  },
  {
   "cell_type": "markdown",
   "metadata": {},
   "source": [
    "右对齐并用+填充"
   ]
  },
  {
   "cell_type": "code",
   "execution_count": 13,
   "metadata": {},
   "outputs": [
    {
     "data": {
      "text/plain": [
       "'+++++++++++++很高兴您关注大邓的公众号'"
      ]
     },
     "execution_count": 13,
     "metadata": {},
     "output_type": "execute_result"
    }
   ],
   "source": [
    "\"{:+>25}\".format(s)"
   ]
  },
  {
   "cell_type": "code",
   "execution_count": 18,
   "metadata": {},
   "outputs": [
    {
     "data": {
      "text/plain": [
       "'3.14'"
      ]
     },
     "execution_count": 18,
     "metadata": {},
     "output_type": "execute_result"
    }
   ],
   "source": [
    "\"{:.2f}\".format(3.14151926)"
   ]
  },
  {
   "cell_type": "markdown",
   "metadata": {},
   "source": [
    ".n对传入的字符串截断，只保留前n个字符"
   ]
  },
  {
   "cell_type": "code",
   "execution_count": 24,
   "metadata": {},
   "outputs": [
    {
     "data": {
      "text/plain": [
       "'很高兴您关'"
      ]
     },
     "execution_count": 24,
     "metadata": {},
     "output_type": "execute_result"
    }
   ],
   "source": [
    "\"{:.5}\".format(s)"
   ]
  },
  {
   "cell_type": "markdown",
   "metadata": {},
   "source": [
    "格式控制表达式也可以用变量来表示，更方便我们操作格式化。例如"
   ]
  },
  {
   "cell_type": "code",
   "execution_count": 26,
   "metadata": {},
   "outputs": [
    {
     "data": {
      "text/plain": [
       "'感谢你关注大邓                  '"
      ]
     },
     "execution_count": 26,
     "metadata": {},
     "output_type": "execute_result"
    }
   ],
   "source": [
    "def format_manipulate(content, lenth, filling='', align='<'):\n",
    "    #content: 准备格式化的内容\n",
    "    #lenth: 输出的字符串长度\n",
    "    #filling： 空位置填充的字符，默认为''\n",
    "    #align: 对齐方式，左对齐<，右对齐>，居中对齐^；默认左对齐<\n",
    "    return \"{0:{1}{2}{3}}\".format(content, filling, align, lenth)\n",
    "\n",
    "\n",
    "format_manipulate('感谢你关注大邓', lenth=25)"
   ]
  },
  {
   "cell_type": "code",
   "execution_count": 29,
   "metadata": {},
   "outputs": [
    {
     "data": {
      "text/plain": [
       "'感谢你关注大邓!!!!!!!!!!!!!!!!!!'"
      ]
     },
     "execution_count": 29,
     "metadata": {},
     "output_type": "execute_result"
    }
   ],
   "source": [
    "format_manipulate('感谢你关注大邓', lenth=25, filling='!')"
   ]
  },
  {
   "cell_type": "code",
   "execution_count": 30,
   "metadata": {},
   "outputs": [
    {
     "data": {
      "text/plain": [
       "'~~~~~~~~~感谢你关注大邓~~~~~~~~~'"
      ]
     },
     "execution_count": 30,
     "metadata": {},
     "output_type": "execute_result"
    }
   ],
   "source": [
    "format_manipulate('感谢你关注大邓', lenth=25, filling='~', align='^')"
   ]
  },
  {
   "cell_type": "code",
   "execution_count": null,
   "metadata": {},
   "outputs": [],
   "source": []
  }
 ],
 "metadata": {
  "kernelspec": {
   "display_name": "Python 3",
   "language": "python",
   "name": "python3"
  },
  "language_info": {
   "codemirror_mode": {
    "name": "ipython",
    "version": 3
   },
   "file_extension": ".py",
   "mimetype": "text/x-python",
   "name": "python",
   "nbconvert_exporter": "python",
   "pygments_lexer": "ipython3",
   "version": "3.7.2"
  }
 },
 "nbformat": 4,
 "nbformat_minor": 2
}
