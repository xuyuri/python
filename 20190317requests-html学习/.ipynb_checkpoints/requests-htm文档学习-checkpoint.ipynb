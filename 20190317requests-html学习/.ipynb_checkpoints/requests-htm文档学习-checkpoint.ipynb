{
 "cells": [
  {
   "cell_type": "markdown",
   "metadata": {},
   "source": [
    "requests库的作者kennethreitz又设计出一个新的库**requests-html**. 目前stars数高达9195\n",
    "![](img/01-stars.png)\n",
    "\n",
    "之前的requests库号称是给人用的请求库，而requests-html号称是给人用的html解析库。kennethreitz的牛掰我是相信的，他不会吹的。新库的文档我阅读了一遍确实很不简单，以后学习爬虫可能再也不要requests+bs4作为起步的标配了，直接用requests-html一个库就可以搞定所有的事情。\n",
    "![](img/01-首页.png)\n",
    "我在谷歌趋势搜索了requests-html，发现最早搜索是2018年1月。大邓距离掌握爬虫圈最新技术落后了一年多，我知道的太晚了。以后大家有什么好的新的东西可以留言或者后台留言。\n",
    "![](img/02-谷歌趋势.png)\n",
    "\n",
    "## requests-html强大之处在于：\n",
    "1. 拥有了requests之外的超强且神奇的页面解析能力\n",
    "2. 完全支持javascript\n",
    "3. 定位元素支持CSS选择器（jQuery，类似于pyquery库的用法）、Xpath选择器\n",
    "4. 访问过程伪装成成浏览器行为模式（User-agent）\n",
    "5. 对于静态页面而言，本库内置自动翻页，省去构造网址的苦差事\n",
    "\n",
    "## 安装\n",
    "文档中说目前支持python3.6，但是我经过安装和测试，在python3.7也能正常安装和使用\n",
    "\n",
    "```bash\n",
    "pip install requests-html\n",
    "```\n"
   ]
  },
  {
   "cell_type": "markdown",
   "metadata": {},
   "source": [
    "## 智能翻页（待改进）\n",
    "这是我看到的最亮的功能，但是实际使用还是有问题的，但是我仍要把ta列在第一个要讲的内容。平常我们写静态网页的爬虫前，需要先发现网址规律，如\n",
    "\n",
    "```\n",
    "第一页   https://book.douban.com/tag/小说\n",
    "第二页   https://book.douban.com/tag/小说?start=20&type=T\n",
    "第三页   https://book.douban.com/tag/小说?start=40&type=T\n",
    "第四页   https://book.douban.com/tag/小说?start=60&type=T\n",
    "```\n",
    "\n",
    "当我们可能批量发起请求的时候，代码需要这样写\n",
    "\n",
    "```python\n",
    "from bs4 import BeautifulSoup\n",
    "import requests \n",
    "\n",
    "base = 'https://book.douban.com/tag/小说?start={page}&type=T\n",
    "headers = {'User-Agent': 'Mozilla/5.0 (Macintosh; Intel Mac OS X 10_13_6) AppleWebKit/537.36 (KHTML, like Gecko) Chrome/72.0.3626.121 Safari/537.36'}\n",
    "\n",
    "for i in range(100):\n",
    "    url = base.format(page=i*20)\n",
    "    resp = requests.get(url, headers=headers)\n",
    "    bsObj = BeautifulSoup(resp.text, 'html.parser')\n",
    "```\n",
    "\n",
    "但是requests-html只需要"
   ]
  },
  {
   "cell_type": "code",
   "execution_count": 52,
   "metadata": {},
   "outputs": [
    {
     "name": "stdout",
     "output_type": "stream",
     "text": [
      "<HTML url='https://book.douban.com/tag/%E5%B0%8F%E8%AF%B4'>\n"
     ]
    }
   ],
   "source": [
    "from requests_html import HTMLSession\n",
    "session = HTMLSession()\n",
    "\n",
    "r = session.get('https://book.douban.com/tag/小说')\n",
    "for html in r.html:\n",
    "    print(html)"
   ]
  },
  {
   "cell_type": "markdown",
   "metadata": {},
   "source": [
    "但是实际使用过程中该方法并未奏效，kennethreitz也在文档中提到\n",
    "``There’s also intelligent pagination support (always improving)``\n",
    "always improving就是该库在智能翻页这块表现还差强人意，还需要一直改进。但是这个功能的设想真的很棒，期待早日更新出能使用的智能翻页功能。\n",
    "\n",
    "希望大家的心情不要``希望->失望``，其实后面还有很多精彩的内容等待着你\n",
    "\n",
    "## 正儿八经的GET请求\n",
    "我们对python编程语言的官网 ``https://python.org/`` ,发起GET请求的，并得到网站响应**Response对象**。\n",
    "\n",
    "该Response对象方法与requests库的类似，我们看看常用的方法\n",
    "\n",
    "|Response对象方法|功能|\n",
    "|---|---|\n",
    "|Response.text|获取响应的html文本数据|\n",
    "|Response.json()|如果响应的是json格式，该方法可以奏效，返回字典类型|\n",
    "|Response.content|获取响应的二进制数据|\n",
    "|Response.html|获取响应html数据，并转化为HTML类型，方便解析定位|"
   ]
  },
  {
   "cell_type": "code",
   "execution_count": 60,
   "metadata": {},
   "outputs": [
    {
     "data": {
      "text/plain": [
       "<Response [200]>"
      ]
     },
     "execution_count": 60,
     "metadata": {},
     "output_type": "execute_result"
    }
   ],
   "source": [
    "from requests_html import HTMLSession\n",
    "session = HTMLSession()\n",
    "\n",
    "r = session.get('https://python.org/')\n",
    "r"
   ]
  },
  {
   "cell_type": "markdown",
   "metadata": {},
   "source": [
    "获取响应的html文本数据"
   ]
  },
  {
   "cell_type": "code",
   "execution_count": 63,
   "metadata": {},
   "outputs": [
    {
     "data": {
      "text/plain": [
       "'<!doctype html>\\n<!--[if lt IE 7]>   <html class=\"n'"
      ]
     },
     "execution_count": 63,
     "metadata": {},
     "output_type": "execute_result"
    }
   ],
   "source": [
    "r.text[:50]"
   ]
  },
  {
   "cell_type": "markdown",
   "metadata": {},
   "source": [
    "获取响应的html数据，以二进制显示"
   ]
  },
  {
   "cell_type": "code",
   "execution_count": 64,
   "metadata": {},
   "outputs": [
    {
     "data": {
      "text/plain": [
       "b'<!doctype html>\\n<!--[if lt IE 7]>   <html class=\"n'"
      ]
     },
     "execution_count": 64,
     "metadata": {},
     "output_type": "execute_result"
    }
   ],
   "source": [
    "r.content[:50]"
   ]
  },
  {
   "cell_type": "markdown",
   "metadata": {},
   "source": [
    "将响应转化为HTML类型，方便解析定位。"
   ]
  },
  {
   "cell_type": "code",
   "execution_count": 65,
   "metadata": {},
   "outputs": [
    {
     "data": {
      "text/plain": [
       "<HTML url='https://www.python.org/'>"
      ]
     },
     "execution_count": 65,
     "metadata": {},
     "output_type": "execute_result"
    }
   ],
   "source": [
    "r.html"
   ]
  },
  {
   "cell_type": "markdown",
   "metadata": {},
   "source": [
    "## HTML对象的方法\n",
    "HTML对象拥有一些特殊的属性和方法\n",
    "\n",
    "|HTML对象的方法|作用|\n",
    "|---|---|\n",
    "|HTML.find(name,containing)| 默认first=False，containings指是否含有某内容，获取所有name元素，返回所有Element组成列表|\n",
    "|HTML.xpath('xpath')| 默认first=False，获取所有满足xpath表达式的Element元素组成的列表|\n",
    "|HTML.render()|将javescript页面渲染后，htmlObj中含有的了过去不存在的js填充的内容|\n",
    "|HTML.search(pattern)|pattern类似于正则表达式，如``pattern='Python 2 will retire in only {months} months!')`` 将匹配到months这个位置的内容。此htmlObj.search(pattern)返回的是含有months关键词的字典。|\n",
    "|HTML.links|返回当前页面所有的网址（含有相对路径网址）,数据类型为集合|\n",
    "|HTML.absolute_links|返回当前页面所有的网址（全部为绝对路径网址），数据类型为集合|"
   ]
  },
  {
   "cell_type": "code",
   "execution_count": 70,
   "metadata": {},
   "outputs": [
    {
     "name": "stdout",
     "output_type": "stream",
     "text": [
      "119\n"
     ]
    },
    {
     "data": {
      "text/plain": [
       "['/success-stories/category/arts/',\n",
       " 'https://kivy.org/',\n",
       " 'https://www.python.org/psf/codeofconduct/',\n",
       " 'http://www.scipy.org',\n",
       " 'https://docs.python.org/3/license.html']"
      ]
     },
     "execution_count": 70,
     "metadata": {},
     "output_type": "execute_result"
    }
   ],
   "source": [
    "#混合着绝对和相对网址\n",
    "print(len(r.html.links))\n",
    "list(r.html.links)[:5]"
   ]
  },
  {
   "cell_type": "markdown",
   "metadata": {},
   "source": [
    "htmlObj.absolute_links将相对路径也转化为绝对路径"
   ]
  },
  {
   "cell_type": "code",
   "execution_count": 71,
   "metadata": {},
   "outputs": [
    {
     "name": "stdout",
     "output_type": "stream",
     "text": [
      "119\n"
     ]
    },
    {
     "data": {
      "text/plain": [
       "['https://kivy.org/',\n",
       " 'https://www.python.org/psf/codeofconduct/',\n",
       " 'http://www.scipy.org',\n",
       " 'https://jobs.python.org',\n",
       " 'https://docs.python.org/3/license.html']"
      ]
     },
     "execution_count": 71,
     "metadata": {},
     "output_type": "execute_result"
    }
   ],
   "source": [
    "print(len(r.html.absolute_links))\n",
    "list(r.html.absolute_links)[:5]"
   ]
  },
  {
   "cell_type": "markdown",
   "metadata": {},
   "source": [
    "#### Notes\n",
    "\n",
    "```\n",
    "相对路径网址   //docs.python.org/3/tutorial/\n",
    "绝对路径网址   http://docs.python.org/3/tutorial/\n",
    "```\n",
    "\n",
    "- HTML.links获取网址\n",
    "- HTML.absolute_links获得绝对路径网址\n",
    "\n",
    "我们发现两种方法返回的网址数量都是119，所以absolute_links实际上对links中的相对路径进行了填充将其转化为绝对路径网址。"
   ]
  },
  {
   "cell_type": "markdown",
   "metadata": {},
   "source": [
    "## 支持javascript\n",
    "requests-html支持javascrip，现在我们找一个网站 ``https://pythonclock.org/``， 我们看到有一个倒计时时间表。这个页面内置了\n",
    "javascript，像这种数据正常的网页解析库是无法解析到的。\n",
    "![](img/04-javascript.gif)"
   ]
  },
  {
   "cell_type": "code",
   "execution_count": 89,
   "metadata": {},
   "outputs": [
    {
     "data": {
      "text/plain": [
       "'</h1>\\n        </div>\\n        <div class=\"python-27-clock\"></div>\\n        <div class=\"center\">\\n            <div class=\"guido-button-block\">\\n                <button class=\"js-guido-mode guido-button\">'"
      ]
     },
     "execution_count": 89,
     "metadata": {},
     "output_type": "execute_result"
    }
   ],
   "source": [
    "from requests_html import HTMLSession\n",
    "session = HTMLSession()\n",
    "r2 = session.get('https://pythonclock.org/')\n",
    "r2.html.search('Python 2.7 will retire in...{}Enable Guido Mode')[0]"
   ]
  },
  {
   "cell_type": "markdown",
   "metadata": {},
   "source": [
    "requests-html有一个render渲染方法，可以用Chromium把javascript渲染出来，但是第一次使用时会下载chromium，大概需要几分钟时间把。"
   ]
  },
  {
   "cell_type": "code",
   "execution_count": 93,
   "metadata": {},
   "outputs": [],
   "source": [
    "r2.html.render()\n",
    "r2.html.search('Python 2 will retire in only {months} months!')"
   ]
  },
  {
   "cell_type": "code",
   "execution_count": null,
   "metadata": {},
   "outputs": [],
   "source": [
    "'</h1>\\n        </div>\\n        <div class=\"python-27-clock is-countdown\"><span class=\"countdown-row countdown-show6\"><span class=\"countdown-section\"><span class=\"countdown-amount\">1</span><span class=\"countdown-period\">Year</span></span><span class=\"countdown-section\"><span class=\"countdown-amount\">2</span><span class=\"countdown-period\">Months</span></span><span class=\"countdown-section\"><span class=\"countdown-amount\">28</span><span class=\"countdown-period\">Days</span></span><span class=\"countdown-section\"><span class=\"countdown-amount\">16</span><span class=\"countdown-period\">Hours</span></span><span class=\"countdown-section\"><span class=\"countdown-amount\">52</span><span class=\"countdown-period\">Minutes</span></span><span class=\"countdown-section\"><span class=\"countdown-amount\">46</span><span class=\"countdown-period\">Seconds</span></span></span></div>\\n        <div class=\"center\">\\n            <div class=\"guido-button-block\">\\n                <button class=\"js-guido-mode guido-button\">'"
   ]
  },
  {
   "cell_type": "markdown",
   "metadata": {},
   "source": [
    "上面的结果已经得到了倒计时的数据，接下来可以这样提取时间"
   ]
  },
  {
   "cell_type": "code",
   "execution_count": null,
   "metadata": {},
   "outputs": [],
   "source": [
    "periods = [element.text for element in r.html.find('.countdown-period')]\n",
    "amounts = [element.text for element in r.html.find('.countdown-amount')]\n",
    "countdown_data = dict(zip(periods, amounts))\n",
    "countdown_data"
   ]
  },
  {
   "cell_type": "code",
   "execution_count": null,
   "metadata": {},
   "outputs": [],
   "source": [
    "{'Year': '1', 'Months': '2', 'Days': '5', 'Hours': '23', 'Minutes': '34', 'Seconds': '37'}"
   ]
  },
  {
   "cell_type": "markdown",
   "metadata": {},
   "source": [
    "## CSS定位\n",
    "从HTML对象中抽取指定位置的元素\n",
    "htmlObj.find('元素选择器', first=False) 返回满足条件的所有Element元素，**返回的数据类型是由Element组成的列表。**"
   ]
  },
  {
   "cell_type": "code",
   "execution_count": 72,
   "metadata": {},
   "outputs": [
    {
     "data": {
      "text/plain": [
       "[<Element 'li' aria-haspopup='true' class=('tier-1', 'element-1') id='about'>]"
      ]
     },
     "execution_count": 72,
     "metadata": {},
     "output_type": "execute_result"
    }
   ],
   "source": [
    "r.html.find('#about')"
   ]
  },
  {
   "cell_type": "markdown",
   "metadata": {},
   "source": [
    "将first设置为True，只返回满足条件的第一个Element，此时返回的不是列表，而是Element。"
   ]
  },
  {
   "cell_type": "code",
   "execution_count": 73,
   "metadata": {},
   "outputs": [
    {
     "data": {
      "text/plain": [
       "<Element 'li' aria-haspopup='true' class=('tier-1', 'element-1') id='about'>"
      ]
     },
     "execution_count": 73,
     "metadata": {},
     "output_type": "execute_result"
    }
   ],
   "source": [
    "about = r.html.find('#about',first=True)\n",
    "about"
   ]
  },
  {
   "cell_type": "markdown",
   "metadata": {},
   "source": [
    "## Element对象的方法\n",
    "|Element方法|作用|\n",
    "|---|---|\n",
    "|Element.text| 获取当前Element内的文本，返回的是文本|\n",
    "|Element.attrs| 获取当前Element的属性，返回的是字典|\n",
    "|Element.html| 获取当前Element的html对象，此时仍可以使用html对象的find方法|\n",
    "|Element.search(pattern)|pattern类似于正则表达式，如 pattern='Python is a {text} language'，返回满足{text}位置的内容。该方法运行结果返回的是列表|\n",
    "|||"
   ]
  },
  {
   "cell_type": "code",
   "execution_count": 35,
   "metadata": {},
   "outputs": [
    {
     "data": {
      "text/plain": [
       "<Element 'a' class=('btn', 'ml-2') href='https://help.github.com/articles/supported-browsers'>"
      ]
     },
     "execution_count": 35,
     "metadata": {},
     "output_type": "execute_result"
    }
   ],
   "source": [
    "r = session.get('https://github.com/')\n",
    "htmlObj = r.html\n",
    "htmlObj.xpath('a',first=True)"
   ]
  },
  {
   "cell_type": "markdown",
   "metadata": {},
   "source": [
    "更多内容请看requests-html文档 ``http://html.python-requests.org/``"
   ]
  }
 ],
 "metadata": {
  "kernelspec": {
   "display_name": "Python 3",
   "language": "python",
   "name": "python3"
  },
  "language_info": {
   "codemirror_mode": {
    "name": "ipython",
    "version": 3
   },
   "file_extension": ".py",
   "mimetype": "text/x-python",
   "name": "python",
   "nbconvert_exporter": "python",
   "pygments_lexer": "ipython3",
   "version": "3.7.2"
  }
 },
 "nbformat": 4,
 "nbformat_minor": 2
}
