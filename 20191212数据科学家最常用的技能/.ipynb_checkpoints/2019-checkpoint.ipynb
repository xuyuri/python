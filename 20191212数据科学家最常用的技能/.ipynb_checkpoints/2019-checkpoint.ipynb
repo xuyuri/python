{
 "cells": [
  {
   "cell_type": "markdown",
   "metadata": {},
   "source": [
    ">Jeff Hale\n",
    "The Most In Demand Tech Skills for Data Scientists\n",
    "https://towardsdatascience.com/the-most-in-demand-tech-skills-for-data-scientists-d716d10c191d\n",
    "\n",
    "\n",
    "\n",
    "\n",
    "数据科学家是多能手，需要具备机器学习（深度学习）、计算科学、统计学、数据可视化，可能还需要掌握传播学。那么在这个领域，\n",
    "- 哪些编程语言或者框架最值得学习呢？\n",
    "- 学习这些语言有什么经验和技巧？\n",
    "\n",
    "我对四个网站招聘网做了简单对数据分析\n",
    "- 数据来源:SimplyHired,Indeed,Monster和LinkedIn\n",
    "- 检索关键词:``Data Scientist``\n",
    "- 检索区域: ``美国``\n",
    "- 检索日期范围: 2018-2019\n",
    "\n"
   ]
  },
  {
   "cell_type": "markdown",
   "metadata": {},
   "source": [
    "### 分析结果\n",
    "![](img/1.png)"
   ]
  },
  {
   "cell_type": "code",
   "execution_count": null,
   "metadata": {},
   "outputs": [],
   "source": []
  }
 ],
 "metadata": {
  "kernelspec": {
   "display_name": "Python 3",
   "language": "python",
   "name": "python3"
  },
  "language_info": {
   "codemirror_mode": {
    "name": "ipython",
    "version": 3
   },
   "file_extension": ".py",
   "mimetype": "text/x-python",
   "name": "python",
   "nbconvert_exporter": "python",
   "pygments_lexer": "ipython3",
   "version": "3.7.4"
  },
  "toc": {
   "base_numbering": 1,
   "nav_menu": {},
   "number_sections": true,
   "sideBar": true,
   "skip_h1_title": false,
   "title_cell": "Table of Contents",
   "title_sidebar": "Contents",
   "toc_cell": false,
   "toc_position": {},
   "toc_section_display": true,
   "toc_window_display": false
  }
 },
 "nbformat": 4,
 "nbformat_minor": 2
}
