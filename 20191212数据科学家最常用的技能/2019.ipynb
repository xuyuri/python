{
 "cells": [
  {
   "cell_type": "markdown",
   "metadata": {},
   "source": [
    ">Jeff Hale\n",
    "The Most In Demand Tech Skills for Data Scientists\n",
    "https://towardsdatascience.com/the-most-in-demand-tech-skills-for-data-scientists-d716d10c191d\n",
    "\n",
    "\n",
    "\n",
    "\n",
    "数据科学家是多能手，需要具备机器学习（深度学习）、计算科学、统计学、数据可视化，可能还需要掌握传播学。那么在这个领域，\n",
    "- 哪些编程语言或者框架最值得学习呢？\n",
    "- 学习这些语言有什么经验和技巧？\n",
    "\n",
    "我对四个网站招聘网做了简单对数据分析\n",
    "- 数据来源:SimplyHired,Indeed,Monster和LinkedIn\n",
    "- 检索关键词:``Data Scientist``\n",
    "- 检索区域: ``美国``\n",
    "- 检索日期范围: 2018-2019\n",
    "\n"
   ]
  },
  {
   "cell_type": "markdown",
   "metadata": {},
   "source": [
    "### 分析结果\n",
    "#### 1. Python是数据科学家的通用必备技能\n",
    "![](img/1.png)\n",
    "在2019招聘工作列表中，Python出现在超过70%的工作中。"
   ]
  },
  {
   "cell_type": "markdown",
   "metadata": {},
   "source": [
    "### 2. 2019新变化\n",
    "2019年度相比于2018，在工作列表中Pytorch需求增长了一倍多，Sas和Matlab需求减杀超过20%。\n",
    "![](img/2.png)\n",
    "下面是具体数据\n",
    "![](img/3.png)\n",
    "\n",
    "### 2019赢家\n",
    "#### No.1 Python\n",
    "Python在2019年仍位于数据科学家编程语言榜首，超过四分之三的工作都需要Python技能。\n",
    "![](img/python.png)\n",
    "#### No.2 SQL\n",
    "2019年，SQL以微弱优势超过R语言，成为仅次于python的数据科学家工具包中第二常用语言。\n",
    "#### No.3 深度学习\n",
    "深度学习框架，诸如Pytorch、Tensorflow和Keras都有显著增长，其中Pytorch涨幅最高，高达108%。\n",
    "![](img/pytorch.png)\n",
    "![](img/tf.png)\n",
    "![](img/keras.png)\n",
    "### No.4 云平台\n",
    "云平台技能在2019年也有较大需求增长。AWS增长了将近20%，Azure也增长了将近10%。\n",
    "![](img/aws.png)\n",
    "![](img/azure.png)"
   ]
  },
  {
   "cell_type": "markdown",
   "metadata": {},
   "source": [
    "### 2019输家\n",
    "相比2018，2019年R语言是数据科学家工具语言中跌幅最大的，跌幅接近7%。当然目前R语言仍然是相当流行的数据科学家语言，但是如果你目前仅仅擅长R，可以考虑多学学Python和SQL。\n",
    "\n",
    "工作需求中关于统计软件如MATLAB和SAS的也出现了显著的减少。MATLAB在数据科学家工具排位中降低了四名，SAS从第六跌落到第八名。\n",
    "\n",
    "### 建议\n",
    "数据科学家需要学习的东西很多，但你肯定也不用全部了解，一专多能是可以找到好工作的。想从事数据科学岗，你需要聚焦于正在迅速增长的需求，记住一次只学一样技能。推荐的技能，按照学习先后顺序\n",
    "![](img/python.png)\n",
    "掌握python，基本就能胜任绝大多数的数据分析工作。\n",
    "![](img/pandas.png)\n",
    "学习pandas进行数据操作。 我相信聘用Python担任数据科学家角色的组织将期望申请人知道pandas。 您将在学习pandas的同时，顺带着可以学习Matplotlib可视化和一些NumPy数组操作。\n",
    "![](img/sklearn.png)\n",
    "机器学习最好从scikit-learn库开始学起来。推荐Müller & Guido写的 Introduction to Machine Leaning with Python\n",
    "学习SQL主要用于关系型数据库进行高效的检索\n",
    "![](img/tableau.png)\n",
    "学习Tableau可以简单高效美观的将分析结果可视化\n",
    "\n",
    "熟悉一个云计算平台(国内的不比国外的差，这里不多述说)\n",
    "掌握一个深度学习框架，Pytorch语法简单，适合学术界，但在工业界正在赶超tensorflow。"
   ]
  },
  {
   "cell_type": "code",
   "execution_count": null,
   "metadata": {},
   "outputs": [],
   "source": []
  }
 ],
 "metadata": {
  "kernelspec": {
   "display_name": "Python 3",
   "language": "python",
   "name": "python3"
  },
  "language_info": {
   "codemirror_mode": {
    "name": "ipython",
    "version": 3
   },
   "file_extension": ".py",
   "mimetype": "text/x-python",
   "name": "python",
   "nbconvert_exporter": "python",
   "pygments_lexer": "ipython3",
   "version": "3.7.4"
  },
  "toc": {
   "base_numbering": 1,
   "nav_menu": {},
   "number_sections": true,
   "sideBar": true,
   "skip_h1_title": false,
   "title_cell": "Table of Contents",
   "title_sidebar": "Contents",
   "toc_cell": false,
   "toc_position": {},
   "toc_section_display": true,
   "toc_window_display": false
  }
 },
 "nbformat": 4,
 "nbformat_minor": 2
}
