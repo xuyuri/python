{
 "cells": [
  {
   "cell_type": "markdown",
   "metadata": {
    "heading_collapsed": true
   },
   "source": [
    "### 读取工资条\n",
    "HR核算每个人的工资"
   ]
  },
  {
   "cell_type": "code",
   "execution_count": 1,
   "metadata": {
    "hidden": true
   },
   "outputs": [
    {
     "data": {
      "text/html": [
       "<div>\n",
       "<style scoped>\n",
       "    .dataframe tbody tr th:only-of-type {\n",
       "        vertical-align: middle;\n",
       "    }\n",
       "\n",
       "    .dataframe tbody tr th {\n",
       "        vertical-align: top;\n",
       "    }\n",
       "\n",
       "    .dataframe thead th {\n",
       "        text-align: right;\n",
       "    }\n",
       "</style>\n",
       "<table border=\"1\" class=\"dataframe\">\n",
       "  <thead>\n",
       "    <tr style=\"text-align: right;\">\n",
       "      <th></th>\n",
       "      <th>员工id</th>\n",
       "      <th>姓名</th>\n",
       "      <th>年龄</th>\n",
       "      <th>岗位</th>\n",
       "      <th>底薪</th>\n",
       "      <th>奖金</th>\n",
       "      <th>交通补助</th>\n",
       "      <th>餐补</th>\n",
       "      <th>邮箱</th>\n",
       "    </tr>\n",
       "  </thead>\n",
       "  <tbody>\n",
       "    <tr>\n",
       "      <td>0</td>\n",
       "      <td>1</td>\n",
       "      <td>张三</td>\n",
       "      <td>25</td>\n",
       "      <td>销售</td>\n",
       "      <td>3000</td>\n",
       "      <td>10000</td>\n",
       "      <td>1000</td>\n",
       "      <td>1000</td>\n",
       "      <td>thunderhit@qq.com</td>\n",
       "    </tr>\n",
       "    <tr>\n",
       "      <td>1</td>\n",
       "      <td>2</td>\n",
       "      <td>李四</td>\n",
       "      <td>30</td>\n",
       "      <td>后勤</td>\n",
       "      <td>3200</td>\n",
       "      <td>500</td>\n",
       "      <td>200</td>\n",
       "      <td>500</td>\n",
       "      <td>372335839@qq.com</td>\n",
       "    </tr>\n",
       "    <tr>\n",
       "      <td>2</td>\n",
       "      <td>3</td>\n",
       "      <td>王五</td>\n",
       "      <td>21</td>\n",
       "      <td>前台</td>\n",
       "      <td>4000</td>\n",
       "      <td>1000</td>\n",
       "      <td>500</td>\n",
       "      <td>200</td>\n",
       "      <td>372335839@qq.com</td>\n",
       "    </tr>\n",
       "    <tr>\n",
       "      <td>3</td>\n",
       "      <td>4</td>\n",
       "      <td>赵六</td>\n",
       "      <td>34</td>\n",
       "      <td>财务</td>\n",
       "      <td>5000</td>\n",
       "      <td>1000</td>\n",
       "      <td>500</td>\n",
       "      <td>500</td>\n",
       "      <td>thunderhit@qq.com</td>\n",
       "    </tr>\n",
       "  </tbody>\n",
       "</table>\n",
       "</div>"
      ],
      "text/plain": [
       "   员工id  姓名  年龄  岗位    底薪     奖金  交通补助    餐补                 邮箱\n",
       "0     1  张三  25  销售  3000  10000  1000  1000  thunderhit@qq.com\n",
       "1     2  李四  30  后勤  3200    500   200   500   372335839@qq.com\n",
       "2     3  王五  21  前台  4000   1000   500   200   372335839@qq.com\n",
       "3     4  赵六  34  财务  5000   1000   500   500  thunderhit@qq.com"
      ]
     },
     "execution_count": 1,
     "metadata": {},
     "output_type": "execute_result"
    }
   ],
   "source": [
    "import pandas as pd\n",
    "\n",
    "df = pd.read_excel('工资条.xlsx')\n",
    "df"
   ]
  },
  {
   "cell_type": "markdown",
   "metadata": {
    "heading_collapsed": true
   },
   "source": [
    "### 计算每个人的工资"
   ]
  },
  {
   "cell_type": "code",
   "execution_count": 2,
   "metadata": {
    "code_folding": [],
    "hidden": true
   },
   "outputs": [
    {
     "data": {
      "text/html": [
       "<div>\n",
       "<style scoped>\n",
       "    .dataframe tbody tr th:only-of-type {\n",
       "        vertical-align: middle;\n",
       "    }\n",
       "\n",
       "    .dataframe tbody tr th {\n",
       "        vertical-align: top;\n",
       "    }\n",
       "\n",
       "    .dataframe thead th {\n",
       "        text-align: right;\n",
       "    }\n",
       "</style>\n",
       "<table border=\"1\" class=\"dataframe\">\n",
       "  <thead>\n",
       "    <tr style=\"text-align: right;\">\n",
       "      <th></th>\n",
       "      <th>员工id</th>\n",
       "      <th>姓名</th>\n",
       "      <th>年龄</th>\n",
       "      <th>岗位</th>\n",
       "      <th>底薪</th>\n",
       "      <th>奖金</th>\n",
       "      <th>交通补助</th>\n",
       "      <th>餐补</th>\n",
       "      <th>邮箱</th>\n",
       "      <th>工资总计</th>\n",
       "    </tr>\n",
       "  </thead>\n",
       "  <tbody>\n",
       "    <tr>\n",
       "      <td>0</td>\n",
       "      <td>1</td>\n",
       "      <td>张三</td>\n",
       "      <td>25</td>\n",
       "      <td>销售</td>\n",
       "      <td>3000</td>\n",
       "      <td>10000</td>\n",
       "      <td>1000</td>\n",
       "      <td>1000</td>\n",
       "      <td>thunderhit@qq.com</td>\n",
       "      <td>15000</td>\n",
       "    </tr>\n",
       "    <tr>\n",
       "      <td>1</td>\n",
       "      <td>2</td>\n",
       "      <td>李四</td>\n",
       "      <td>30</td>\n",
       "      <td>后勤</td>\n",
       "      <td>3200</td>\n",
       "      <td>500</td>\n",
       "      <td>200</td>\n",
       "      <td>500</td>\n",
       "      <td>372335839@qq.com</td>\n",
       "      <td>4400</td>\n",
       "    </tr>\n",
       "    <tr>\n",
       "      <td>2</td>\n",
       "      <td>3</td>\n",
       "      <td>王五</td>\n",
       "      <td>21</td>\n",
       "      <td>前台</td>\n",
       "      <td>4000</td>\n",
       "      <td>1000</td>\n",
       "      <td>500</td>\n",
       "      <td>200</td>\n",
       "      <td>372335839@qq.com</td>\n",
       "      <td>5700</td>\n",
       "    </tr>\n",
       "    <tr>\n",
       "      <td>3</td>\n",
       "      <td>4</td>\n",
       "      <td>赵六</td>\n",
       "      <td>34</td>\n",
       "      <td>财务</td>\n",
       "      <td>5000</td>\n",
       "      <td>1000</td>\n",
       "      <td>500</td>\n",
       "      <td>500</td>\n",
       "      <td>thunderhit@qq.com</td>\n",
       "      <td>7000</td>\n",
       "    </tr>\n",
       "  </tbody>\n",
       "</table>\n",
       "</div>"
      ],
      "text/plain": [
       "   员工id  姓名  年龄  岗位    底薪     奖金  交通补助    餐补                 邮箱   工资总计\n",
       "0     1  张三  25  销售  3000  10000  1000  1000  thunderhit@qq.com  15000\n",
       "1     2  李四  30  后勤  3200    500   200   500   372335839@qq.com   4400\n",
       "2     3  王五  21  前台  4000   1000   500   200   372335839@qq.com   5700\n",
       "3     4  赵六  34  财务  5000   1000   500   500  thunderhit@qq.com   7000"
      ]
     },
     "execution_count": 2,
     "metadata": {},
     "output_type": "execute_result"
    }
   ],
   "source": [
    "df['工资总计'] = df.eval(\"底薪+奖金+交通补助+餐补\")\n",
    "df"
   ]
  },
  {
   "cell_type": "markdown",
   "metadata": {},
   "source": [
    "### 通知信"
   ]
  },
  {
   "cell_type": "code",
   "execution_count": 3,
   "metadata": {},
   "outputs": [
    {
     "name": "stdout",
     "output_type": "stream",
     "text": [
      "张三先生(女士),您好！\n",
      "\n",
      "  这是2019年12月的工资条信息:\n",
      "\n",
      "     销售底薪￥3000\n",
      "     交通补助￥1000\n",
      "     餐补￥1000\n",
      "\n",
      "  由于您当月出色的表现,\n",
      "  公司决定奖励你￥10000\n",
      "  当月工资总计15000\n",
      "\n",
      "  希望张兄弟(姐妹)继续为了公司加油~\n",
      "\n",
      "\n",
      "                     from 杭州XX公司\n",
      "\n"
     ]
    }
   ],
   "source": [
    "\n",
    "template = \"\"\"{name}先生(女士),您好！\\n\\n\\\n",
    "  这是{date}的工资条信息:\\n\\n\\\n",
    "     {gangwei}底薪￥{base}\\n\\\n",
    "     交通补助￥{transport}\\n\\\n",
    "     餐补￥{food}\\n\\n\\\n",
    "  由于您当月出色的表现,\n",
    "  公司决定奖励你￥{bonus}\\n\\\n",
    "  当月工资总计{salary}\\n\n",
    "  希望{familyname}兄弟(姐妹)继续为了公司加油~\\n\\n\n",
    "                     from {company}公司\n",
    "\"\"\"\n",
    "\n",
    "info = template.format(name='张三',\n",
    "                       date='2019年12月',\n",
    "                       gangwei='销售',\n",
    "                       base=3000,\n",
    "                       transport=1000,\n",
    "                       food=1000,\n",
    "                       bonus=10000,\n",
    "                       salary=15000,\n",
    "                       familyname='张',\n",
    "                       company='杭州XX')\n",
    "print(info)"
   ]
  },
  {
   "cell_type": "markdown",
   "metadata": {
    "heading_collapsed": true
   },
   "source": [
    "### 所有人的通知信"
   ]
  },
  {
   "cell_type": "code",
   "execution_count": 4,
   "metadata": {
    "hidden": true,
    "scrolled": true
   },
   "outputs": [
    {
     "name": "stdout",
     "output_type": "stream",
     "text": [
      "张三先生(女士),您好！\n",
      "\n",
      "  这是2019年12月的工资条信息:\n",
      "\n",
      "     销售底薪￥3000\n",
      "     交通补助￥1000\n",
      "     餐补￥1000\n",
      "\n",
      "  由于您当月出色的表现,\n",
      "  公司决定奖励你￥10000\n",
      "  当月工资总计15000\n",
      "\n",
      "  希望张兄弟(姐妹)继续为了公司加油~\n",
      "\n",
      "\n",
      "                     from 杭州XX公司\n",
      "\n",
      "===============================================================\n",
      "李四先生(女士),您好！\n",
      "\n",
      "  这是2019年12月的工资条信息:\n",
      "\n",
      "     后勤底薪￥3200\n",
      "     交通补助￥200\n",
      "     餐补￥500\n",
      "\n",
      "  由于您当月出色的表现,\n",
      "  公司决定奖励你￥500\n",
      "  当月工资总计4400\n",
      "\n",
      "  希望李兄弟(姐妹)继续为了公司加油~\n",
      "\n",
      "\n",
      "                     from 杭州XX公司\n",
      "\n",
      "===============================================================\n",
      "王五先生(女士),您好！\n",
      "\n",
      "  这是2019年12月的工资条信息:\n",
      "\n",
      "     前台底薪￥4000\n",
      "     交通补助￥500\n",
      "     餐补￥200\n",
      "\n",
      "  由于您当月出色的表现,\n",
      "  公司决定奖励你￥1000\n",
      "  当月工资总计5700\n",
      "\n",
      "  希望王兄弟(姐妹)继续为了公司加油~\n",
      "\n",
      "\n",
      "                     from 杭州XX公司\n",
      "\n",
      "===============================================================\n",
      "赵六先生(女士),您好！\n",
      "\n",
      "  这是2019年12月的工资条信息:\n",
      "\n",
      "     财务底薪￥5000\n",
      "     交通补助￥500\n",
      "     餐补￥500\n",
      "\n",
      "  由于您当月出色的表现,\n",
      "  公司决定奖励你￥1000\n",
      "  当月工资总计7000\n",
      "\n",
      "  希望赵兄弟(姐妹)继续为了公司加油~\n",
      "\n",
      "\n",
      "                     from 杭州XX公司\n",
      "\n",
      "===============================================================\n"
     ]
    }
   ],
   "source": [
    "for idx, employee in df.iterrows():\n",
    "    info = template.format(name=employee['姓名'],\n",
    "                           gangwei=employee['岗位'],\n",
    "                           base=employee['底薪'],\n",
    "                           transport=employee['交通补助'],\n",
    "                           food=employee['餐补'],\n",
    "                           bonus=employee['奖金'],\n",
    "                           salary=employee['工资总计'],\n",
    "                           familyname=employee['姓名'][0],\n",
    "                           company='杭州XX',\n",
    "                           date='2019年12月')\n",
    "    print(info)\n",
    "    print('===============================================================')\n",
    "    "
   ]
  },
  {
   "cell_type": "markdown",
   "metadata": {},
   "source": [
    "### 群发通知信"
   ]
  },
  {
   "cell_type": "markdown",
   "metadata": {},
   "source": [
    "#### 代码"
   ]
  },
  {
   "cell_type": "code",
   "execution_count": 5,
   "metadata": {},
   "outputs": [
    {
     "name": "stdout",
     "output_type": "stream",
     "text": [
      "Looking in indexes: https://pypi.tuna.tsinghua.edu.cn/simple\n",
      "Collecting zmail\n",
      "  Downloading https://pypi.tuna.tsinghua.edu.cn/packages/b9/d4/62f287905651333c8ef8056e9a38f2dd588a03f5edf5705d246a0ddbf066/zmail-0.2.7-py3-none-any.whl\n",
      "Installing collected packages: zmail\n",
      "Successfully installed zmail-0.2.7\n"
     ]
    },
    {
     "name": "stderr",
     "output_type": "stream",
     "text": [
      "You are using pip version 19.0.3, however version 19.3.1 is available.\n",
      "You should consider upgrading via the 'python -m pip install --upgrade pip' command.\n"
     ]
    }
   ],
   "source": [
    "!pip3 install zmail"
   ]
  },
  {
   "cell_type": "code",
   "execution_count": 6,
   "metadata": {},
   "outputs": [
    {
     "name": "stdout",
     "output_type": "stream",
     "text": [
      "张三 的工资条发送成功！\n",
      "李四 的工资条发送成功！\n",
      "王五 的工资条发送成功！\n",
      "赵六 的工资条发送成功！\n",
      "\n",
      "\n",
      "\n",
      "\n",
      "\n",
      "\n",
      "ヽ(￣▽￣)و全部通知完成，下班，回家，过元旦~\n"
     ]
    }
   ],
   "source": [
    "import zmail\n",
    "import pandas as pd\n",
    "\n",
    "#设置好邮箱\n",
    "server =zmail.server('thunderhit@qq.com','flvhtehmotvicafc')\n",
    "\n",
    "#计算工资\n",
    "df = pd.read_excel('工资条.xlsx')\n",
    "df['工资总计'] = df.eval(\"底薪+奖金+交通补助+餐补\")\n",
    "\n",
    "#群发邮件\n",
    "for idx, employee in df.iterrows():\n",
    "    #工资条内容\n",
    "    info = template.format(name=employee['姓名'],\n",
    "                           gangwei=employee['岗位'],\n",
    "                           base=employee['底薪'],\n",
    "                           transport=employee['交通补助'],\n",
    "                           food=employee['餐补'],\n",
    "                           bonus=employee['奖金'],\n",
    "                           salary=employee['工资总计'],\n",
    "                           familyname=employee['姓名'][0],\n",
    "                           company='杭州XX',\n",
    "                           date='2019年12月')\n",
    "    \n",
    "    #邮件内容\n",
    "    mailcontent ={'subject':'{} 工资条到了, 注意查收！'.format(employee['姓名']),\n",
    "                  'content_text': info,\n",
    "                  'attachments': '感谢有你.png' }\n",
    "    server.send_mail(employee['邮箱'], mailcontent)\n",
    "    print('{} 的工资条发送成功！'.format(employee['姓名']))\n",
    "    \n",
    "    \n",
    "    \n",
    "\n",
    "print('\\n'*5)\n",
    "print('ヽ(￣▽￣)و全部通知完成，下班，回家，过元旦~')"
   ]
  },
  {
   "cell_type": "markdown",
   "metadata": {},
   "source": [
    "#### 发邮件教程\n",
    "\n",
    "https://mp.weixin.qq.com/s?__biz=MzI1MTE2ODg4MA==&mid=2650070502&idx=1&sn=8bbf83081630792c96ed81a365b173ef&chksm=f1f76cf9c680e5ef82fe97d139eb987c5a98a579ed4eee91adda22ee34d674872b36aaa97dc2&scene=21#wechat_redirect"
   ]
  },
  {
   "cell_type": "markdown",
   "metadata": {
    "heading_collapsed": true
   },
   "source": [
    "## 用到的知识点\n",
    "- 模块导入 import pandas as pd\n",
    "- 字符串操作  工资条填充info\n",
    "- 字典操作  employee['姓名']\n",
    "- 对象与方法(理解)   df.eval 、 server.send_mail\n",
    "\n",
    "对象与方法，本质也是数据。\n",
    "\n",
    "字典是数据\n",
    "\n",
    "字符串是数据\n",
    "\n",
    "excel是数据\n",
    "\n",
    "都是数据~，针对不同的数据类型，使用不同的处理方法，完整任务。"
   ]
  },
  {
   "cell_type": "code",
   "execution_count": null,
   "metadata": {
    "hidden": true
   },
   "outputs": [],
   "source": []
  }
 ],
 "metadata": {
  "kernelspec": {
   "display_name": "Python 3",
   "language": "python",
   "name": "python3"
  },
  "language_info": {
   "codemirror_mode": {
    "name": "ipython",
    "version": 3
   },
   "file_extension": ".py",
   "mimetype": "text/x-python",
   "name": "python",
   "nbconvert_exporter": "python",
   "pygments_lexer": "ipython3",
   "version": "3.7.4"
  },
  "toc": {
   "base_numbering": 1,
   "nav_menu": {},
   "number_sections": false,
   "sideBar": true,
   "skip_h1_title": false,
   "title_cell": "Table of Contents",
   "title_sidebar": "Contents",
   "toc_cell": false,
   "toc_position": {},
   "toc_section_display": true,
   "toc_window_display": true
  }
 },
 "nbformat": 4,
 "nbformat_minor": 2
}
