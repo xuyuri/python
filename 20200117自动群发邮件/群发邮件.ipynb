{
 "cells": [
  {
   "cell_type": "markdown",
   "metadata": {
    "heading_collapsed": true
   },
   "source": [
    "年关降至，肯定有群发短信发感谢信的需求，今天继续接着昨天的自动化办公教程来一个自动群发邮件。仍然假设是给员工核算工资，发送工资条详情顺带着表达一下公司的感谢。\n",
    "\n",
    "### 读取工资条\n",
    "HR核算每个人的工资"
   ]
  },
  {
   "cell_type": "code",
   "execution_count": 1,
   "metadata": {
    "hidden": true
   },
   "outputs": [
    {
     "name": "stdout",
     "output_type": "stream",
     "text": [
      "|    |   员工id | 姓名   |   年龄 | 岗位   |   底薪 |   奖金 |   交通补助 |   餐补 | 邮箱              |\n",
      "|---:|---------:|:-------|-------:|:-------|-------:|-------:|-----------:|-------:|:------------------|\n",
      "|  0 |        1 | 张三   |     25 | 销售   |   3000 |  10000 |       1000 |   1000 | thunderhit@qq.com |\n",
      "|  1 |        2 | 李四   |     30 | 后勤   |   3200 |    500 |        200 |    500 | 372335839@qq.com  |\n",
      "|  2 |        3 | 王五   |     21 | 前台   |   4000 |   1000 |        500 |    200 | 372335839@qq.com  |\n",
      "|  3 |        4 | 赵六   |     34 | 财务   |   5000 |   1000 |        500 |    500 | thunderhit@qq.com |\n"
     ]
    }
   ],
   "source": [
    "import pandas as pd\n",
    "\n",
    "df = pd.read_excel('工资条.xlsx')\n",
    "print(df.to_markdown())"
   ]
  },
  {
   "cell_type": "markdown",
   "metadata": {
    "heading_collapsed": true
   },
   "source": [
    "### 计算每个人的工资"
   ]
  },
  {
   "cell_type": "code",
   "execution_count": 2,
   "metadata": {
    "code_folding": [],
    "hidden": true
   },
   "outputs": [
    {
     "name": "stdout",
     "output_type": "stream",
     "text": [
      "|    |   员工id | 姓名   |   年龄 | 岗位   |   底薪 |   奖金 |   交通补助 |   餐补 | 邮箱              |   工资总计 |\n",
      "|---:|---------:|:-------|-------:|:-------|-------:|-------:|-----------:|-------:|:------------------|-----------:|\n",
      "|  0 |        1 | 张三   |     25 | 销售   |   3000 |  10000 |       1000 |   1000 | thunderhit@qq.com |      15000 |\n",
      "|  1 |        2 | 李四   |     30 | 后勤   |   3200 |    500 |        200 |    500 | 372335839@qq.com  |       4400 |\n",
      "|  2 |        3 | 王五   |     21 | 前台   |   4000 |   1000 |        500 |    200 | 372335839@qq.com  |       5700 |\n",
      "|  3 |        4 | 赵六   |     34 | 财务   |   5000 |   1000 |        500 |    500 | thunderhit@qq.com |       7000 |\n"
     ]
    }
   ],
   "source": [
    "df['工资总计'] = df.eval(\"底薪+奖金+交通补助+餐补\")\n",
    "print(df.to_markdown())"
   ]
  },
  {
   "cell_type": "markdown",
   "metadata": {},
   "source": [
    "### 通知信"
   ]
  },
  {
   "cell_type": "code",
   "execution_count": 5,
   "metadata": {},
   "outputs": [
    {
     "name": "stdout",
     "output_type": "stream",
     "text": [
      "张三先生(女士),您好！\n",
      "\n",
      "  这是2019年12月的工资条信息:\n",
      "\n",
      "     销售底薪￥3000\n",
      "     交通补助￥1000\n",
      "     餐补￥1000\n",
      "\n",
      "  由于您当月出色的表现,\n",
      "  公司决定奖励你￥10000\n",
      "  当月工资总计15000\n",
      "\n",
      "  希望张兄弟(姐妹)继续为了公司加油~\n",
      "\n",
      "\n",
      "                     from 杭州XX公司\n",
      "\n"
     ]
    }
   ],
   "source": [
    "\n",
    "template = \"\"\"{name}先生(女士),您好！\\n\\n\\\n",
    "  这是{date}的工资条信息:\\n\\n\\\n",
    "     {gangwei}底薪￥{base}\\n\\\n",
    "     交通补助￥{transport}\\n\\\n",
    "     餐补￥{food}\\n\\n\\\n",
    "  由于您当月出色的表现,\n",
    "  公司决定奖励你￥{bonus}\\n\\\n",
    "  当月工资总计{salary}\\n\n",
    "  希望{familyname}兄弟(姐妹)继续为了公司加油~\\n\\n\n",
    "                     from {company}公司\n",
    "\"\"\"\n",
    "\n",
    "info = template.format(name='张三',\n",
    "                       date='2019年12月',\n",
    "                       gangwei='销售',\n",
    "                       base=3000,\n",
    "                       transport=1000,\n",
    "                       food=1000,\n",
    "                       bonus=10000,\n",
    "                       salary=15000,\n",
    "                       familyname='张',\n",
    "                       company='杭州XX')\n",
    "print(info)"
   ]
  },
  {
   "cell_type": "markdown",
   "metadata": {
    "heading_collapsed": true
   },
   "source": [
    "### 所有人的通知信"
   ]
  },
  {
   "cell_type": "code",
   "execution_count": 4,
   "metadata": {
    "hidden": true,
    "scrolled": true
   },
   "outputs": [
    {
     "name": "stdout",
     "output_type": "stream",
     "text": [
      "张三先生(女士),您好！\n",
      "\n",
      "  这是2019年12月的工资条信息:\n",
      "\n",
      "     销售底薪￥3000\n",
      "     交通补助￥1000\n",
      "     餐补￥1000\n",
      "\n",
      "  由于您当月出色的表现,\n",
      "  公司决定奖励你￥10000\n",
      "  当月工资总计15000\n",
      "\n",
      "  希望张兄弟(姐妹)继续为了公司加油~\n",
      "\n",
      "\n",
      "                     from 杭州XX公司\n",
      "\n",
      "===============================================================\n",
      "李四先生(女士),您好！\n",
      "\n",
      "  这是2019年12月的工资条信息:\n",
      "\n",
      "     后勤底薪￥3200\n",
      "     交通补助￥200\n",
      "     餐补￥500\n",
      "\n",
      "  由于您当月出色的表现,\n",
      "  公司决定奖励你￥500\n",
      "  当月工资总计4400\n",
      "\n",
      "  希望李兄弟(姐妹)继续为了公司加油~\n",
      "\n",
      "\n",
      "                     from 杭州XX公司\n",
      "\n",
      "===============================================================\n",
      "王五先生(女士),您好！\n",
      "\n",
      "  这是2019年12月的工资条信息:\n",
      "\n",
      "     前台底薪￥4000\n",
      "     交通补助￥500\n",
      "     餐补￥200\n",
      "\n",
      "  由于您当月出色的表现,\n",
      "  公司决定奖励你￥1000\n",
      "  当月工资总计5700\n",
      "\n",
      "  希望王兄弟(姐妹)继续为了公司加油~\n",
      "\n",
      "\n",
      "                     from 杭州XX公司\n",
      "\n",
      "===============================================================\n",
      "赵六先生(女士),您好！\n",
      "\n",
      "  这是2019年12月的工资条信息:\n",
      "\n",
      "     财务底薪￥5000\n",
      "     交通补助￥500\n",
      "     餐补￥500\n",
      "\n",
      "  由于您当月出色的表现,\n",
      "  公司决定奖励你￥1000\n",
      "  当月工资总计7000\n",
      "\n",
      "  希望赵兄弟(姐妹)继续为了公司加油~\n",
      "\n",
      "\n",
      "                     from 杭州XX公司\n",
      "\n",
      "===============================================================\n"
     ]
    }
   ],
   "source": [
    "for idx, employee in df.iterrows():\n",
    "    info = template.format(name=employee['姓名'],\n",
    "                           gangwei=employee['岗位'],\n",
    "                           base=employee['底薪'],\n",
    "                           transport=employee['交通补助'],\n",
    "                           food=employee['餐补'],\n",
    "                           bonus=employee['奖金'],\n",
    "                           salary=employee['工资总计'],\n",
    "                           familyname=employee['姓名'][0],\n",
    "                           company='杭州XX',\n",
    "                           date='2019年12月')\n",
    "    print(info)\n",
    "    print('===============================================================')\n",
    "    "
   ]
  },
  {
   "cell_type": "markdown",
   "metadata": {},
   "source": [
    "### 群发通知信"
   ]
  },
  {
   "cell_type": "markdown",
   "metadata": {},
   "source": [
    "#### 代码"
   ]
  },
  {
   "cell_type": "code",
   "execution_count": 3,
   "metadata": {},
   "outputs": [
    {
     "name": "stdout",
     "output_type": "stream",
     "text": [
      "Looking in indexes: https://pypi.tuna.tsinghua.edu.cn/simple\r\n",
      "Requirement already satisfied: zmail in /usr/local/lib/python3.7/site-packages (0.2.7)\r\n"
     ]
    }
   ],
   "source": [
    "!pip3 install zmail"
   ]
  },
  {
   "cell_type": "code",
   "execution_count": 6,
   "metadata": {
    "scrolled": true
   },
   "outputs": [
    {
     "name": "stdout",
     "output_type": "stream",
     "text": [
      "张三 的工资条发送成功！\n",
      "李四 的工资条发送成功！\n",
      "王五 的工资条发送成功！\n",
      "赵六 的工资条发送成功！\n",
      "\n",
      "\n",
      "\n",
      "\n",
      "\n",
      "\n",
      "ヽ(￣▽￣)و全部通知完成，下班，回家，过元旦~\n"
     ]
    }
   ],
   "source": [
    "import zmail\n",
    "import pandas as pd\n",
    "\n",
    "# 邮件的pop设置后的密码\n",
    "server =zmail.server('thunderhit@qq.com','flvhtehmotvicafc')\n",
    "\n",
    "#计算工资\n",
    "df = pd.read_excel('工资条.xlsx')\n",
    "df['工资总计'] = df.eval(\"底薪+奖金+交通补助+餐补\")\n",
    "\n",
    "#群发邮件\n",
    "for idx, employee in df.iterrows():\n",
    "    #工资条内容\n",
    "    info = template.format(name=employee['姓名'],\n",
    "                           gangwei=employee['岗位'],\n",
    "                           base=employee['底薪'],\n",
    "                           transport=employee['交通补助'],\n",
    "                           food=employee['餐补'],\n",
    "                           bonus=employee['奖金'],\n",
    "                           salary=employee['工资总计'],\n",
    "                           familyname=employee['姓名'][0],\n",
    "                           company='杭州XX',\n",
    "                           date='2019年12月')\n",
    "    \n",
    "    #邮件内容\n",
    "    mailcontent ={'subject':'{} 工资条到了, 注意查收！'.format(employee['姓名']),\n",
    "                  'content_text': info,\n",
    "                  'attachments': 'img/感谢有你.png' }\n",
    "    server.send_mail(employee['邮箱'], mailcontent)\n",
    "    print('{} 的工资条发送成功！'.format(employee['姓名']))\n",
    "    \n",
    "    \n",
    "    \n",
    "\n",
    "print('\\n'*5)\n",
    "print('ヽ(￣▽￣)و全部通知完成，下班，回家，过元旦~')"
   ]
  },
  {
   "cell_type": "markdown",
   "metadata": {},
   "source": [
    "运行效果\n",
    "![](img/群发邮件.gif)\n",
    "### 邮箱POP设置\n",
    "这里以qq邮箱为例，动图教大家如何设置邮箱的POP\n",
    "\n",
    "https://mp.weixin.qq.com/s?__biz=MzI1MTE2ODg4MA==&mid=2650070502&idx=1&sn=8bbf83081630792c96ed81a365b173ef&chksm=f1f76cf9c680e5ef82fe97d139eb987c5a98a579ed4eee91adda22ee34d674872b36aaa97dc2&scene=21#wechat_redirect"
   ]
  },
  {
   "cell_type": "code",
   "execution_count": null,
   "metadata": {},
   "outputs": [],
   "source": []
  }
 ],
 "metadata": {
  "kernelspec": {
   "display_name": "Python 3",
   "language": "python",
   "name": "python3"
  },
  "language_info": {
   "codemirror_mode": {
    "name": "ipython",
    "version": 3
   },
   "file_extension": ".py",
   "mimetype": "text/x-python",
   "name": "python",
   "nbconvert_exporter": "python",
   "pygments_lexer": "ipython3",
   "version": "3.7.4"
  },
  "toc": {
   "base_numbering": 1,
   "nav_menu": {},
   "number_sections": false,
   "sideBar": true,
   "skip_h1_title": false,
   "title_cell": "Table of Contents",
   "title_sidebar": "Contents",
   "toc_cell": false,
   "toc_position": {},
   "toc_section_display": true,
   "toc_window_display": true
  }
 },
 "nbformat": 4,
 "nbformat_minor": 2
}
