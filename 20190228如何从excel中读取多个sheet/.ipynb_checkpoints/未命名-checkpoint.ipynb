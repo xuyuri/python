{
 "cells": [
  {
   "cell_type": "markdown",
   "metadata": {},
   "source": [
    "近期有学员学习《python文本分析：从入门到到精通》第四部分时，后台问如果要处理的excel数据是含有多个sheet表，我们该怎么处理。因为默认都是假设一个excel只有一个sheet，所以我一开始也没考虑到这种情况。\n",
    "\n",
    "不过不用怕，明白问题就能找到解决办法。我用谷歌搜索 \n",
    "\n",
    "> How to read mutiple sheets from one excel in Python?\n",
    "\n",
    "![](img/问题.png)\n",
    "打开stackoverflow，浏览了一番，看到这个解答。我对其中的第二条思路很感兴趣\n",
    "![](img/answer.png)\n"
   ]
  },
  {
   "cell_type": "markdown",
   "metadata": {},
   "source": [
    "## 解决思路:\n",
    "\n",
    "读取excel文件，获得所有的sheet名\n",
    "\n",
    "根据sheet名，再去读取excel中的不同的worksheet。"
   ]
  },
  {
   "cell_type": "code",
   "execution_count": 7,
   "metadata": {},
   "outputs": [
    {
     "data": {
      "text/plain": [
       "['莫干·遥远的山',\n",
       " '莫干山青漫·一屋',\n",
       " '莫干山山氧·开态',\n",
       " '莫干山居图',\n",
       " '莫干山野奢',\n",
       " '莫干山慕色',\n",
       " '莫干山西部时光山居',\n",
       " '莫干山隐西39精品民宿',\n",
       " '莫干山莫梵',\n",
       " '莫干山蕨宿设计精品民宿']"
      ]
     },
     "execution_count": 7,
     "metadata": {},
     "output_type": "execute_result"
    }
   ],
   "source": [
    "##获取sheet名列表\n",
    "import pandas as pd\n",
    "\n",
    "xls = pd.ExcelFile('data.xlsx')\n",
    "xls.sheet_names"
   ]
  },
  {
   "cell_type": "code",
   "execution_count": 4,
   "metadata": {},
   "outputs": [
    {
     "data": {
      "text/plain": [
       "Index(['名称', '评分', '时间', '内容'], dtype='object')"
      ]
     },
     "execution_count": 4,
     "metadata": {},
     "output_type": "execute_result"
    }
   ],
   "source": [
    "#我这个excel的字段如下\n",
    "df.columns"
   ]
  },
  {
   "cell_type": "code",
   "execution_count": 6,
   "metadata": {},
   "outputs": [
    {
     "data": {
      "text/html": [
       "<div>\n",
       "<style scoped>\n",
       "    .dataframe tbody tr th:only-of-type {\n",
       "        vertical-align: middle;\n",
       "    }\n",
       "\n",
       "    .dataframe tbody tr th {\n",
       "        vertical-align: top;\n",
       "    }\n",
       "\n",
       "    .dataframe thead th {\n",
       "        text-align: right;\n",
       "    }\n",
       "</style>\n",
       "<table border=\"1\" class=\"dataframe\">\n",
       "  <thead>\n",
       "    <tr style=\"text-align: right;\">\n",
       "      <th></th>\n",
       "      <th>名称</th>\n",
       "      <th>评分</th>\n",
       "      <th>时间</th>\n",
       "      <th>内容</th>\n",
       "    </tr>\n",
       "  </thead>\n",
       "  <tbody>\n",
       "    <tr>\n",
       "      <th>0</th>\n",
       "      <td>莫干山居图</td>\n",
       "      <td>5.0</td>\n",
       "      <td>2017-01-16 00:00:00</td>\n",
       "      <td>酒店环境好 服务好 吃得好 ！下次一定再来！</td>\n",
       "    </tr>\n",
       "    <tr>\n",
       "      <th>1</th>\n",
       "      <td>莫干山居图</td>\n",
       "      <td>5.0</td>\n",
       "      <td>2017-01-29 00:00:00</td>\n",
       "      <td>莫干山居图，是一所中西文化完美融合的民宿。从图书馆的万卷藏书，到家庭房的温馨简洁，还有小高管...</td>\n",
       "    </tr>\n",
       "    <tr>\n",
       "      <th>2</th>\n",
       "      <td>莫干山居图</td>\n",
       "      <td>5.0</td>\n",
       "      <td>2017-01-29 00:00:00</td>\n",
       "      <td>年初二带家人来莫干山小住，很庆幸提前在携程上订了莫干山居图精品民宿。房间宽敞舒适，有空调和地...</td>\n",
       "    </tr>\n",
       "    <tr>\n",
       "      <th>3</th>\n",
       "      <td>莫干山居图</td>\n",
       "      <td>5.0</td>\n",
       "      <td>2017-01-30 00:00:00</td>\n",
       "      <td>莫干山的民宿很多，找了半天才找到这家有书香特色的，特别适合有考生的家庭度假！虽然是春节期间，...</td>\n",
       "    </tr>\n",
       "    <tr>\n",
       "      <th>4</th>\n",
       "      <td>莫干山居图</td>\n",
       "      <td>5.0</td>\n",
       "      <td>2017-01-30 00:00:00</td>\n",
       "      <td>环境优雅，适合休闲游，有个超大的图书馆</td>\n",
       "    </tr>\n",
       "  </tbody>\n",
       "</table>\n",
       "</div>"
      ],
      "text/plain": [
       "      名称   评分                   时间  \\\n",
       "0  莫干山居图  5.0  2017-01-16 00:00:00   \n",
       "1  莫干山居图  5.0  2017-01-29 00:00:00   \n",
       "2  莫干山居图  5.0  2017-01-29 00:00:00   \n",
       "3  莫干山居图  5.0  2017-01-30 00:00:00   \n",
       "4  莫干山居图  5.0  2017-01-30 00:00:00   \n",
       "\n",
       "                                                  内容  \n",
       "0                             酒店环境好 服务好 吃得好 ！下次一定再来！  \n",
       "1  莫干山居图，是一所中西文化完美融合的民宿。从图书馆的万卷藏书，到家庭房的温馨简洁，还有小高管...  \n",
       "2  年初二带家人来莫干山小住，很庆幸提前在携程上订了莫干山居图精品民宿。房间宽敞舒适，有空调和地...  \n",
       "3  莫干山的民宿很多，找了半天才找到这家有书香特色的，特别适合有考生的家庭度假！虽然是春节期间，...  \n",
       "4                                环境优雅，适合休闲游，有个超大的图书馆  "
      ]
     },
     "execution_count": 6,
     "metadata": {},
     "output_type": "execute_result"
    }
   ],
   "source": [
    "df = pd.read_excel('data.xlsx', sheetname='莫干山居图')\n",
    "df.head()"
   ]
  },
  {
   "cell_type": "code",
   "execution_count": null,
   "metadata": {},
   "outputs": [],
   "source": []
  }
 ],
 "metadata": {
  "celltoolbar": "编辑元数据",
  "kernelspec": {
   "display_name": "Python 3",
   "language": "python",
   "name": "python3"
  },
  "language_info": {
   "codemirror_mode": {
    "name": "ipython",
    "version": 3
   },
   "file_extension": ".py",
   "mimetype": "text/x-python",
   "name": "python",
   "nbconvert_exporter": "python",
   "pygments_lexer": "ipython3",
   "version": "3.7.2"
  }
 },
 "nbformat": 4,
 "nbformat_minor": 2
}
