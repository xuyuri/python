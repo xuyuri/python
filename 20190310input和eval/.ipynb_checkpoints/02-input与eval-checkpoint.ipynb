{
 "cells": [
  {
   "cell_type": "markdown",
   "metadata": {},
   "source": [
    "input()是从控制台获取用户输入的信息，不论用户输入的是什么，input()都会返回字符串类型。\n",
    "## input函数\n",
    "<变量> = input(<提示性文字>)"
   ]
  },
  {
   "cell_type": "code",
   "execution_count": 7,
   "metadata": {},
   "outputs": [
    {
     "name": "stdout",
     "output_type": "stream",
     "text": [
      "请输入你的年龄:25\n",
      "<class 'str'>\n"
     ]
    }
   ],
   "source": [
    "a = input(\"请输入你的年龄:\")\n",
    "print(type(a))"
   ]
  },
  {
   "cell_type": "markdown",
   "metadata": {},
   "source": [
    "![](img/input.gif)\n",
    "我们看到当我们运行代码时，我们输入的是数字，但是返回的数据类型是字符串。这点要注意哦！\n",
    "\n",
    "## eval函数\n",
    "eval()可以将字符串类型转化成python对象。具体我们看下面的例子"
   ]
  },
  {
   "cell_type": "code",
   "execution_count": 14,
   "metadata": {},
   "outputs": [
    {
     "name": "stdout",
     "output_type": "stream",
     "text": [
      "25\n",
      "<class 'int'>\n"
     ]
    }
   ],
   "source": [
    "print(eval(\"25\"))\n",
    "print(type(eval(\"25\")))"
   ]
  },
  {
   "cell_type": "markdown",
   "metadata": {},
   "source": [
    "可见eval将字符串转化为python中的整型数据类型。eval实际上能将字符串转化为任意的python对象，如变量名、函数名等。我们继续看几个例子\n",
    "\n",
    "### 转化为变量名\n",
    "eval将字符串转化为python里的变量"
   ]
  },
  {
   "cell_type": "code",
   "execution_count": 9,
   "metadata": {},
   "outputs": [
    {
     "data": {
      "text/plain": [
       "'python is very easy to learn!'"
      ]
     },
     "execution_count": 9,
     "metadata": {},
     "output_type": "execute_result"
    }
   ],
   "source": [
    "sentence = 'python is very easy to learn!'\n",
    "\n",
    "eval('sentence')"
   ]
  },
  {
   "cell_type": "code",
   "execution_count": 12,
   "metadata": {},
   "outputs": [
    {
     "data": {
      "text/plain": [
       "<function __main__.hello()>"
      ]
     },
     "execution_count": 12,
     "metadata": {},
     "output_type": "execute_result"
    }
   ],
   "source": [
    "### 转化为函数名\n",
    "def hello():\n",
    "    print('hello world!')\n",
    "    \n",
    "eval('hello')"
   ]
  },
  {
   "cell_type": "markdown",
   "metadata": {},
   "source": [
    "不要奇怪哦，因为上面的eval('hello')等同于hello，但是我们调用函数时候一定要加上括号。"
   ]
  },
  {
   "cell_type": "code",
   "execution_count": 13,
   "metadata": {},
   "outputs": [
    {
     "name": "stdout",
     "output_type": "stream",
     "text": [
      "hello world!\n"
     ]
    }
   ],
   "source": [
    "eval('hello')()"
   ]
  },
  {
   "cell_type": "markdown",
   "metadata": {},
   "source": [
    "## input与eval\n",
    "实际上eval()经常与input()一起使用，用来获取用户输入的数据，并将输入的数据转化成python对象。"
   ]
  },
  {
   "cell_type": "code",
   "execution_count": 16,
   "metadata": {},
   "outputs": [
    {
     "name": "stdout",
     "output_type": "stream",
     "text": [
      "请输入一个列表:[1,2,3,4]\n",
      "<class 'str'>\n",
      "<class 'list'>\n"
     ]
    }
   ],
   "source": [
    "a = input('请输入一个列表:')\n",
    "print(type(a))\n",
    "print(type(eval(a)))"
   ]
  },
  {
   "cell_type": "markdown",
   "metadata": {},
   "source": [
    "![](img/list.gif)\n",
    "从图中我们看到，我们输入的列表经过input函数变成了字符串。为了在python程序中继续使用a的列表特性，我们必须使用eval将再转化为python列表对象。同理eval还可以将字符串转化为字典、元组、集合等python对象，这里就不一一做讲解了。"
   ]
  },
  {
   "cell_type": "markdown",
   "metadata": {},
   "source": [
    "![](img/python文本分析.jpg)"
   ]
  },
  {
   "cell_type": "code",
   "execution_count": null,
   "metadata": {},
   "outputs": [],
   "source": []
  }
 ],
 "metadata": {
  "kernelspec": {
   "display_name": "Python 3",
   "language": "python",
   "name": "python3"
  },
  "language_info": {
   "codemirror_mode": {
    "name": "ipython",
    "version": 3
   },
   "file_extension": ".py",
   "mimetype": "text/x-python",
   "name": "python",
   "nbconvert_exporter": "python",
   "pygments_lexer": "ipython3",
   "version": "3.7.2"
  }
 },
 "nbformat": 4,
 "nbformat_minor": 2
}
