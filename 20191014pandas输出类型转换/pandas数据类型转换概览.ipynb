{
 "cells": [
  {
   "cell_type": "markdown",
   "metadata": {},
   "source": [
    "![](img/pandas_dtypes.png)\n",
    "\n",
    "当我们做数据分析时，确保自己使用的是正确的数据类型，这一点很重要。而在pandas中，一般情况下会根据我们导入的数据，自动分配最合适的数据类型。\n",
    "\n",
    "但是有时候pandas也会犯错，这时候我们就需要diy自定义数据类型。本文主要将pandas的dtype，如何进行数据类型的操作。\n",
    "\n",
    "### pands数据类型\n",
    "数据类型是编程语言的基础性概念，ta会告诉电脑如何存储数据、如何操作数据。\n",
    "\n",
    "例如，当我们给程序两个数字，进行 ``5+10``操作时, 程序要能理解这是两个整数，且知道整数是可以进行加法操作。\n",
    "\n",
    "而当有两个字符串，进行 ``\"cat\"+\"hat\"`` 我们知道会得到 ``cathat`` 。\n",
    "\n",
    "现在可能大家有点疑惑，python、pandas、numpy代表着数据分析领域三大数据类型门派，彼此会有重合，导致各位看官学杂学邪，走火入魔。我列一个表格，以作区分。\n",
    "\n",
    "pandas数据类型|python数据类型|numpy数据类型|使用\n",
    "---|---|---|---\n",
    "object|str|``stringa_, unicode_``|文本数据\n",
    "int64|int|``int_, int8, int16, int32, int64, uint8, uint16, uint32, uint64``|整数数字\n",
    "float64|float|``float_, float16, float32, float64``|浮点型数字\n",
    "bool|bool|``bool_``|True或False\n",
    "datetime64|NA|datetime64|日期时间数据\n",
    "\n",
    "本文主要学习pandas的：\n",
    "- object\n",
    "- int64\n",
    "- float64\n",
    "- datetime64\n",
    "- bool\n",
    "\n",
    "### 为什么这么在意数据类型？\n",
    "一般情况我们都不会去想数据类型问题，直到发现问题出现了。"
   ]
  },
  {
   "cell_type": "code",
   "execution_count": 14,
   "metadata": {},
   "outputs": [
    {
     "data": {
      "text/html": [
       "<div>\n",
       "<style scoped>\n",
       "    .dataframe tbody tr th:only-of-type {\n",
       "        vertical-align: middle;\n",
       "    }\n",
       "\n",
       "    .dataframe tbody tr th {\n",
       "        vertical-align: top;\n",
       "    }\n",
       "\n",
       "    .dataframe thead th {\n",
       "        text-align: right;\n",
       "    }\n",
       "</style>\n",
       "<table border=\"1\" class=\"dataframe\">\n",
       "  <thead>\n",
       "    <tr style=\"text-align: right;\">\n",
       "      <th></th>\n",
       "      <th>Customer Number</th>\n",
       "      <th>Customer Name</th>\n",
       "      <th>2016</th>\n",
       "      <th>2017</th>\n",
       "      <th>Percent Growth</th>\n",
       "      <th>Jan Units</th>\n",
       "      <th>Month</th>\n",
       "      <th>Day</th>\n",
       "      <th>Year</th>\n",
       "      <th>Active</th>\n",
       "    </tr>\n",
       "  </thead>\n",
       "  <tbody>\n",
       "    <tr>\n",
       "      <td>0</td>\n",
       "      <td>10002.0</td>\n",
       "      <td>Quest Industries</td>\n",
       "      <td>$125,000.00</td>\n",
       "      <td>$162500.00</td>\n",
       "      <td>30.00%</td>\n",
       "      <td>500</td>\n",
       "      <td>1</td>\n",
       "      <td>10</td>\n",
       "      <td>2015</td>\n",
       "      <td>Y</td>\n",
       "    </tr>\n",
       "    <tr>\n",
       "      <td>1</td>\n",
       "      <td>552278.0</td>\n",
       "      <td>Smith Plumbing</td>\n",
       "      <td>$920,000.00</td>\n",
       "      <td>$101,2000.00</td>\n",
       "      <td>10.00%</td>\n",
       "      <td>700</td>\n",
       "      <td>6</td>\n",
       "      <td>15</td>\n",
       "      <td>2014</td>\n",
       "      <td>Y</td>\n",
       "    </tr>\n",
       "    <tr>\n",
       "      <td>2</td>\n",
       "      <td>23477.0</td>\n",
       "      <td>ACME Industrial</td>\n",
       "      <td>$50,000.00</td>\n",
       "      <td>$62500.00</td>\n",
       "      <td>25.00%</td>\n",
       "      <td>125</td>\n",
       "      <td>3</td>\n",
       "      <td>29</td>\n",
       "      <td>2016</td>\n",
       "      <td>Y</td>\n",
       "    </tr>\n",
       "    <tr>\n",
       "      <td>3</td>\n",
       "      <td>24900.0</td>\n",
       "      <td>Brekke LTD</td>\n",
       "      <td>$350,000.00</td>\n",
       "      <td>$490000.00</td>\n",
       "      <td>4.00%</td>\n",
       "      <td>75</td>\n",
       "      <td>10</td>\n",
       "      <td>27</td>\n",
       "      <td>2015</td>\n",
       "      <td>Y</td>\n",
       "    </tr>\n",
       "    <tr>\n",
       "      <td>4</td>\n",
       "      <td>651029.0</td>\n",
       "      <td>Harbor Co</td>\n",
       "      <td>$15,000.00</td>\n",
       "      <td>$12750.00</td>\n",
       "      <td>-15.00%</td>\n",
       "      <td>Closed</td>\n",
       "      <td>2</td>\n",
       "      <td>2</td>\n",
       "      <td>2014</td>\n",
       "      <td>N</td>\n",
       "    </tr>\n",
       "  </tbody>\n",
       "</table>\n",
       "</div>"
      ],
      "text/plain": [
       "   Customer Number     Customer Name         2016          2017  \\\n",
       "0          10002.0  Quest Industries  $125,000.00    $162500.00   \n",
       "1         552278.0    Smith Plumbing  $920,000.00  $101,2000.00   \n",
       "2          23477.0   ACME Industrial   $50,000.00     $62500.00   \n",
       "3          24900.0        Brekke LTD  $350,000.00    $490000.00   \n",
       "4         651029.0         Harbor Co   $15,000.00     $12750.00   \n",
       "\n",
       "  Percent Growth Jan Units  Month  Day  Year Active  \n",
       "0         30.00%       500      1   10  2015      Y  \n",
       "1         10.00%       700      6   15  2014      Y  \n",
       "2         25.00%       125      3   29  2016      Y  \n",
       "3          4.00%        75     10   27  2015      Y  \n",
       "4        -15.00%    Closed      2    2  2014      N  "
      ]
     },
     "execution_count": 14,
     "metadata": {},
     "output_type": "execute_result"
    }
   ],
   "source": [
    "import pandas as pd\n",
    "import numpy as np\n",
    "\n",
    "df = pd.read_csv('sales_data_types.csv')\n",
    "df"
   ]
  },
  {
   "cell_type": "markdown",
   "metadata": {},
   "source": [
    "一打眼看这结果，我就发现一个问题。**Customer number** 应该是整数，不应该带有小数点（浮点型数字）。2016和2017是字符串，但是如果后续对2016和2017列进行数值计算，肯定不行，所以也应该转换成数字型数据。看来问题还是有不少对，那么我们看看所有字段的数据类型"
   ]
  },
  {
   "cell_type": "code",
   "execution_count": 15,
   "metadata": {},
   "outputs": [
    {
     "data": {
      "text/plain": [
       "Customer Number    float64\n",
       "Customer Name       object\n",
       "2016                object\n",
       "2017                object\n",
       "Percent Growth      object\n",
       "Jan Units           object\n",
       "Month                int64\n",
       "Day                  int64\n",
       "Year                 int64\n",
       "Active              object\n",
       "dtype: object"
      ]
     },
     "execution_count": 15,
     "metadata": {},
     "output_type": "execute_result"
    }
   ],
   "source": [
    "df.dtypes"
   ]
  },
  {
   "cell_type": "markdown",
   "metadata": {},
   "source": [
    "### 数据中暴露的问题\n",
    "\n",
    "现在我们可以总结下这个数据有哪些问题：\n",
    "- **Customer number** 应该是int64，不应该是float64\n",
    "- 2016和2017两个字段是object字符串，但我们应该将其转换为float64或者int64\n",
    "- **Percent Growth** 应该是数字，但是这里是object字符串\n",
    "- **Year、Month、Day** 三个字段应该合并为一个datetime类型的日期数据\n",
    "- Active应该是bool型数据\n",
    "\n",
    "\n",
    "### 转换数据类型的思路\n",
    "- 使用astype()方法强制转化dtype\n",
    "- 自定义一个数据转换函数函数\n",
    "- 使用pandas内置的to_numeric()和to_datetime()\n",
    "- 导入数据时转换数据类型\n",
    "\n",
    "### 一、使用astype()方法\n",
    "处理pandas数据类型最简单的办法是astype()，例如，我们将**Customer Number** 转为整数型数据。"
   ]
  },
  {
   "cell_type": "code",
   "execution_count": 16,
   "metadata": {},
   "outputs": [
    {
     "data": {
      "text/plain": [
       "0     10002\n",
       "1    552278\n",
       "2     23477\n",
       "3     24900\n",
       "4    651029\n",
       "Name: Customer Number, dtype: int64"
      ]
     },
     "execution_count": 16,
     "metadata": {},
     "output_type": "execute_result"
    }
   ],
   "source": [
    "df['Customer Number'].astype('int')"
   ]
  },
  {
   "cell_type": "markdown",
   "metadata": {},
   "source": [
    "为了将原始数据更改，我们需要进行原地操作，将处理结果更新到原始数据中来"
   ]
  },
  {
   "cell_type": "code",
   "execution_count": 17,
   "metadata": {},
   "outputs": [
    {
     "data": {
      "text/plain": [
       "Customer Number     int64\n",
       "Customer Name      object\n",
       "2016               object\n",
       "2017               object\n",
       "Percent Growth     object\n",
       "Jan Units          object\n",
       "Month               int64\n",
       "Day                 int64\n",
       "Year                int64\n",
       "Active             object\n",
       "dtype: object"
      ]
     },
     "execution_count": 17,
     "metadata": {},
     "output_type": "execute_result"
    }
   ],
   "source": [
    "df['Customer Number'] = df['Customer Number'].astype('int')\n",
    "df.dtypes"
   ]
  },
  {
   "cell_type": "markdown",
   "metadata": {},
   "source": [
    "现在我们再看看心的dataframe"
   ]
  },
  {
   "cell_type": "code",
   "execution_count": 18,
   "metadata": {},
   "outputs": [
    {
     "data": {
      "text/html": [
       "<div>\n",
       "<style scoped>\n",
       "    .dataframe tbody tr th:only-of-type {\n",
       "        vertical-align: middle;\n",
       "    }\n",
       "\n",
       "    .dataframe tbody tr th {\n",
       "        vertical-align: top;\n",
       "    }\n",
       "\n",
       "    .dataframe thead th {\n",
       "        text-align: right;\n",
       "    }\n",
       "</style>\n",
       "<table border=\"1\" class=\"dataframe\">\n",
       "  <thead>\n",
       "    <tr style=\"text-align: right;\">\n",
       "      <th></th>\n",
       "      <th>Customer Number</th>\n",
       "      <th>Customer Name</th>\n",
       "      <th>2016</th>\n",
       "      <th>2017</th>\n",
       "      <th>Percent Growth</th>\n",
       "      <th>Jan Units</th>\n",
       "      <th>Month</th>\n",
       "      <th>Day</th>\n",
       "      <th>Year</th>\n",
       "      <th>Active</th>\n",
       "    </tr>\n",
       "  </thead>\n",
       "  <tbody>\n",
       "    <tr>\n",
       "      <td>0</td>\n",
       "      <td>10002</td>\n",
       "      <td>Quest Industries</td>\n",
       "      <td>$125,000.00</td>\n",
       "      <td>$162500.00</td>\n",
       "      <td>30.00%</td>\n",
       "      <td>500</td>\n",
       "      <td>1</td>\n",
       "      <td>10</td>\n",
       "      <td>2015</td>\n",
       "      <td>Y</td>\n",
       "    </tr>\n",
       "    <tr>\n",
       "      <td>1</td>\n",
       "      <td>552278</td>\n",
       "      <td>Smith Plumbing</td>\n",
       "      <td>$920,000.00</td>\n",
       "      <td>$101,2000.00</td>\n",
       "      <td>10.00%</td>\n",
       "      <td>700</td>\n",
       "      <td>6</td>\n",
       "      <td>15</td>\n",
       "      <td>2014</td>\n",
       "      <td>Y</td>\n",
       "    </tr>\n",
       "    <tr>\n",
       "      <td>2</td>\n",
       "      <td>23477</td>\n",
       "      <td>ACME Industrial</td>\n",
       "      <td>$50,000.00</td>\n",
       "      <td>$62500.00</td>\n",
       "      <td>25.00%</td>\n",
       "      <td>125</td>\n",
       "      <td>3</td>\n",
       "      <td>29</td>\n",
       "      <td>2016</td>\n",
       "      <td>Y</td>\n",
       "    </tr>\n",
       "    <tr>\n",
       "      <td>3</td>\n",
       "      <td>24900</td>\n",
       "      <td>Brekke LTD</td>\n",
       "      <td>$350,000.00</td>\n",
       "      <td>$490000.00</td>\n",
       "      <td>4.00%</td>\n",
       "      <td>75</td>\n",
       "      <td>10</td>\n",
       "      <td>27</td>\n",
       "      <td>2015</td>\n",
       "      <td>Y</td>\n",
       "    </tr>\n",
       "    <tr>\n",
       "      <td>4</td>\n",
       "      <td>651029</td>\n",
       "      <td>Harbor Co</td>\n",
       "      <td>$15,000.00</td>\n",
       "      <td>$12750.00</td>\n",
       "      <td>-15.00%</td>\n",
       "      <td>Closed</td>\n",
       "      <td>2</td>\n",
       "      <td>2</td>\n",
       "      <td>2014</td>\n",
       "      <td>N</td>\n",
       "    </tr>\n",
       "  </tbody>\n",
       "</table>\n",
       "</div>"
      ],
      "text/plain": [
       "   Customer Number     Customer Name         2016          2017  \\\n",
       "0            10002  Quest Industries  $125,000.00    $162500.00   \n",
       "1           552278    Smith Plumbing  $920,000.00  $101,2000.00   \n",
       "2            23477   ACME Industrial   $50,000.00     $62500.00   \n",
       "3            24900        Brekke LTD  $350,000.00    $490000.00   \n",
       "4           651029         Harbor Co   $15,000.00     $12750.00   \n",
       "\n",
       "  Percent Growth Jan Units  Month  Day  Year Active  \n",
       "0         30.00%       500      1   10  2015      Y  \n",
       "1         10.00%       700      6   15  2014      Y  \n",
       "2         25.00%       125      3   29  2016      Y  \n",
       "3          4.00%        75     10   27  2015      Y  \n",
       "4        -15.00%    Closed      2    2  2014      N  "
      ]
     },
     "execution_count": 18,
     "metadata": {},
     "output_type": "execute_result"
    }
   ],
   "source": [
    "df"
   ]
  },
  {
   "cell_type": "markdown",
   "metadata": {},
   "source": [
    "我们试着将 ``2016、2017、Percent Growth、Jan Units列`` 从 字符串 转化为  数字"
   ]
  },
  {
   "cell_type": "code",
   "execution_count": 20,
   "metadata": {},
   "outputs": [],
   "source": [
    "df['2016'].astype('int')"
   ]
  },
  {
   "cell_type": "markdown",
   "metadata": {},
   "source": [
    "---------------------------------------------------------------------------\n",
    "ValueError                                Traceback (most recent call last)\n",
    "<ipython-input-9-2a4747b37519> in <module>\n",
    "----> 1 df['2016'].astype('int')\n",
    "...\n",
    "ValueError: invalid literal for int() with base 10: '$125,000.00'"
   ]
  },
  {
   "cell_type": "markdown",
   "metadata": {},
   "source": [
    "同样的问题出现在2017、Percent Growth、Jan Units列, 说明astype这种方法不是万能的，还是需要设计自定义转换函数，具体问题具体处理。\n",
    "\n",
    "### 二、自定义转换函数\n",
    "这里我们以 2016和2017列为例，在强制从字符串转为数字之前，我们需要先将 ``\"$\"、\".\"、\",\"`` 剔除掉，然后再转换。"
   ]
  },
  {
   "cell_type": "code",
   "execution_count": 21,
   "metadata": {},
   "outputs": [],
   "source": [
    "def convert_currency(val):\n",
    "    \"\"\"\n",
    "    将字符串val转为一个浮点型数值\n",
    "    - 移除 $\n",
    "    - 去掉 ','、 '.'\n",
    "    - 转为 浮点型数值\n",
    "    \"\"\"\n",
    "    new_val = val.replace(',', '').replace('$', '')\n",
    "    return float(new_val)"
   ]
  },
  {
   "cell_type": "code",
   "execution_count": 22,
   "metadata": {},
   "outputs": [
    {
     "data": {
      "text/html": [
       "<div>\n",
       "<style scoped>\n",
       "    .dataframe tbody tr th:only-of-type {\n",
       "        vertical-align: middle;\n",
       "    }\n",
       "\n",
       "    .dataframe tbody tr th {\n",
       "        vertical-align: top;\n",
       "    }\n",
       "\n",
       "    .dataframe thead th {\n",
       "        text-align: right;\n",
       "    }\n",
       "</style>\n",
       "<table border=\"1\" class=\"dataframe\">\n",
       "  <thead>\n",
       "    <tr style=\"text-align: right;\">\n",
       "      <th></th>\n",
       "      <th>Customer Number</th>\n",
       "      <th>Customer Name</th>\n",
       "      <th>2016</th>\n",
       "      <th>2017</th>\n",
       "      <th>Percent Growth</th>\n",
       "      <th>Jan Units</th>\n",
       "      <th>Month</th>\n",
       "      <th>Day</th>\n",
       "      <th>Year</th>\n",
       "      <th>Active</th>\n",
       "    </tr>\n",
       "  </thead>\n",
       "  <tbody>\n",
       "    <tr>\n",
       "      <td>0</td>\n",
       "      <td>10002</td>\n",
       "      <td>Quest Industries</td>\n",
       "      <td>125000.0</td>\n",
       "      <td>162500.0</td>\n",
       "      <td>30.00%</td>\n",
       "      <td>500</td>\n",
       "      <td>1</td>\n",
       "      <td>10</td>\n",
       "      <td>2015</td>\n",
       "      <td>Y</td>\n",
       "    </tr>\n",
       "    <tr>\n",
       "      <td>1</td>\n",
       "      <td>552278</td>\n",
       "      <td>Smith Plumbing</td>\n",
       "      <td>920000.0</td>\n",
       "      <td>1012000.0</td>\n",
       "      <td>10.00%</td>\n",
       "      <td>700</td>\n",
       "      <td>6</td>\n",
       "      <td>15</td>\n",
       "      <td>2014</td>\n",
       "      <td>Y</td>\n",
       "    </tr>\n",
       "    <tr>\n",
       "      <td>2</td>\n",
       "      <td>23477</td>\n",
       "      <td>ACME Industrial</td>\n",
       "      <td>50000.0</td>\n",
       "      <td>62500.0</td>\n",
       "      <td>25.00%</td>\n",
       "      <td>125</td>\n",
       "      <td>3</td>\n",
       "      <td>29</td>\n",
       "      <td>2016</td>\n",
       "      <td>Y</td>\n",
       "    </tr>\n",
       "    <tr>\n",
       "      <td>3</td>\n",
       "      <td>24900</td>\n",
       "      <td>Brekke LTD</td>\n",
       "      <td>350000.0</td>\n",
       "      <td>490000.0</td>\n",
       "      <td>4.00%</td>\n",
       "      <td>75</td>\n",
       "      <td>10</td>\n",
       "      <td>27</td>\n",
       "      <td>2015</td>\n",
       "      <td>Y</td>\n",
       "    </tr>\n",
       "    <tr>\n",
       "      <td>4</td>\n",
       "      <td>651029</td>\n",
       "      <td>Harbor Co</td>\n",
       "      <td>15000.0</td>\n",
       "      <td>12750.0</td>\n",
       "      <td>-15.00%</td>\n",
       "      <td>Closed</td>\n",
       "      <td>2</td>\n",
       "      <td>2</td>\n",
       "      <td>2014</td>\n",
       "      <td>N</td>\n",
       "    </tr>\n",
       "  </tbody>\n",
       "</table>\n",
       "</div>"
      ],
      "text/plain": [
       "   Customer Number     Customer Name      2016       2017 Percent Growth  \\\n",
       "0            10002  Quest Industries  125000.0   162500.0         30.00%   \n",
       "1           552278    Smith Plumbing  920000.0  1012000.0         10.00%   \n",
       "2            23477   ACME Industrial   50000.0    62500.0         25.00%   \n",
       "3            24900        Brekke LTD  350000.0   490000.0          4.00%   \n",
       "4           651029         Harbor Co   15000.0    12750.0        -15.00%   \n",
       "\n",
       "  Jan Units  Month  Day  Year Active  \n",
       "0       500      1   10  2015      Y  \n",
       "1       700      6   15  2014      Y  \n",
       "2       125      3   29  2016      Y  \n",
       "3        75     10   27  2015      Y  \n",
       "4    Closed      2    2  2014      N  "
      ]
     },
     "execution_count": 22,
     "metadata": {},
     "output_type": "execute_result"
    }
   ],
   "source": [
    "df['2016'] = df['2016'].apply(convert_currency)\n",
    "df['2017'] = df['2017'].apply(convert_currency)\n",
    "df"
   ]
  },
  {
   "cell_type": "markdown",
   "metadata": {},
   "source": [
    "可能有的人会说用 lambda 一行代码就能解决的事儿"
   ]
  },
  {
   "cell_type": "code",
   "execution_count": null,
   "metadata": {},
   "outputs": [],
   "source": [
    "#df['2016'] = df['2016'].apply(lambda x:x.replace('.', '').replace(',', '')).astype('float')"
   ]
  },
  {
   "cell_type": "markdown",
   "metadata": {},
   "source": [
    "上面这一样确实能一行搞定，但是我不推荐，原因有：\n",
    "- 对于初学者不友好，你写的能看懂，但不代表其他人能看懂你的代码\n",
    "- 如果要处理的字段比较多，我们可以多次调用自定义函数。比如定义好以后，在2016和2017上调用\n",
    "\n",
    "下面我们再用自定义方法处理 ``Percent Growth`` 列"
   ]
  },
  {
   "cell_type": "code",
   "execution_count": 23,
   "metadata": {},
   "outputs": [
    {
     "data": {
      "text/plain": [
       "0    0.30\n",
       "1    0.10\n",
       "2    0.25\n",
       "3    0.04\n",
       "4   -0.15\n",
       "Name: Percent Growth, dtype: float64"
      ]
     },
     "execution_count": 23,
     "metadata": {},
     "output_type": "execute_result"
    }
   ],
   "source": [
    "def convert_percent(val):\n",
    "    \"\"\"\n",
    "    将百分比字符串数据 转为 浮点型数值\n",
    "    - 移除 '%'\n",
    "    - 除以100\n",
    "    \"\"\"\n",
    "    \n",
    "    new_val = val.replace('%', '')\n",
    "    return float(new_val)/100\n",
    "\n",
    "df['Percent Growth'] = df['Percent Growth'].apply(convert_percent)\n",
    "df['Percent Growth']"
   ]
  },
  {
   "cell_type": "markdown",
   "metadata": {},
   "source": [
    "如果你还是想用lambda处理 ``Percent Growth``， 那么处理方法如下"
   ]
  },
  {
   "cell_type": "code",
   "execution_count": null,
   "metadata": {},
   "outputs": [],
   "source": [
    "#df['Percent Growth'] = df['Percent Growth'].apply(lambda x: x.replace('%', '')).astype('float')/100"
   ]
  },
  {
   "cell_type": "markdown",
   "metadata": {},
   "source": [
    "最后我们要将 ``Active`` 从 ``Y、X`` 转为 ``True和False`` 。"
   ]
  },
  {
   "cell_type": "code",
   "execution_count": 24,
   "metadata": {},
   "outputs": [
    {
     "data": {
      "text/plain": [
       "0     True\n",
       "1     True\n",
       "2     True\n",
       "3     True\n",
       "4    False\n",
       "Name: Active, dtype: bool"
      ]
     },
     "execution_count": 24,
     "metadata": {},
     "output_type": "execute_result"
    }
   ],
   "source": [
    "def convert_active(val):\n",
    "    if val=='Y':\n",
    "        return True\n",
    "    else:\n",
    "        return False\n",
    "    \n",
    "df['Active'] = df['Active'].apply(convert_active)\n",
    "df['Active']"
   ]
  },
  {
   "cell_type": "markdown",
   "metadata": {},
   "source": [
    "这里我们不自定义函数，也可以用numpy中的np.where函数\n",
    "\n",
    "np.where(condition, do1, do2)\n",
    "\n",
    "如果condition满足条件，执行do1，否则执行do2"
   ]
  },
  {
   "cell_type": "code",
   "execution_count": null,
   "metadata": {},
   "outputs": [],
   "source": [
    "#df['Active'] = np.where(df['Active']=='Y', True, False)\n",
    "#df['Active']"
   ]
  },
  {
   "cell_type": "markdown",
   "metadata": {},
   "source": [
    "### 三、pandas内置的处理函数\n",
    "pandas还有 ``pd.to_numeric(arg, errors='raise')和pd.to_datetime(arg, errors='raise')`` 函数帮助我们转为数据类型。\n",
    "\n",
    "errors参数有：\n",
    "- raise， errors默认为raise\n",
    "- ignore 忽略错误\n",
    "- coerce 将错误数据标注为NaN"
   ]
  },
  {
   "cell_type": "code",
   "execution_count": 27,
   "metadata": {},
   "outputs": [
    {
     "data": {
      "text/plain": [
       "0    500.0\n",
       "1    700.0\n",
       "2    125.0\n",
       "3     75.0\n",
       "4      NaN\n",
       "Name: Jan Units, dtype: float64"
      ]
     },
     "execution_count": 27,
     "metadata": {},
     "output_type": "execute_result"
    }
   ],
   "source": [
    "pd.to_numeric(df['Jan Units'], errors='coerce')"
   ]
  },
  {
   "cell_type": "markdown",
   "metadata": {},
   "source": [
    "我们将处理结果中的NaN用0替代"
   ]
  },
  {
   "cell_type": "code",
   "execution_count": 29,
   "metadata": {},
   "outputs": [
    {
     "data": {
      "text/plain": [
       "0    500.0\n",
       "1    700.0\n",
       "2    125.0\n",
       "3     75.0\n",
       "4      0.0\n",
       "Name: Jan Units, dtype: float64"
      ]
     },
     "execution_count": 29,
     "metadata": {},
     "output_type": "execute_result"
    }
   ],
   "source": [
    "df['Jan Units'] = pd.to_numeric(df['Jan Units'], errors='coerce').fillna(0)\n",
    "df['Jan Units']"
   ]
  },
  {
   "cell_type": "markdown",
   "metadata": {},
   "source": [
    "最后一个要转换的是日期数据，我们要把``Year、Month、Day`` 三列数据 转化 为一个日期数据型新列"
   ]
  },
  {
   "cell_type": "code",
   "execution_count": 30,
   "metadata": {},
   "outputs": [
    {
     "data": {
      "text/html": [
       "<div>\n",
       "<style scoped>\n",
       "    .dataframe tbody tr th:only-of-type {\n",
       "        vertical-align: middle;\n",
       "    }\n",
       "\n",
       "    .dataframe tbody tr th {\n",
       "        vertical-align: top;\n",
       "    }\n",
       "\n",
       "    .dataframe thead th {\n",
       "        text-align: right;\n",
       "    }\n",
       "</style>\n",
       "<table border=\"1\" class=\"dataframe\">\n",
       "  <thead>\n",
       "    <tr style=\"text-align: right;\">\n",
       "      <th></th>\n",
       "      <th>Customer Number</th>\n",
       "      <th>Customer Name</th>\n",
       "      <th>2016</th>\n",
       "      <th>2017</th>\n",
       "      <th>Percent Growth</th>\n",
       "      <th>Jan Units</th>\n",
       "      <th>Month</th>\n",
       "      <th>Day</th>\n",
       "      <th>Year</th>\n",
       "      <th>Active</th>\n",
       "      <th>Start_Date</th>\n",
       "    </tr>\n",
       "  </thead>\n",
       "  <tbody>\n",
       "    <tr>\n",
       "      <td>0</td>\n",
       "      <td>10002</td>\n",
       "      <td>Quest Industries</td>\n",
       "      <td>125000.0</td>\n",
       "      <td>162500.0</td>\n",
       "      <td>0.30</td>\n",
       "      <td>500.0</td>\n",
       "      <td>1</td>\n",
       "      <td>10</td>\n",
       "      <td>2015</td>\n",
       "      <td>True</td>\n",
       "      <td>2015-01-10</td>\n",
       "    </tr>\n",
       "    <tr>\n",
       "      <td>1</td>\n",
       "      <td>552278</td>\n",
       "      <td>Smith Plumbing</td>\n",
       "      <td>920000.0</td>\n",
       "      <td>1012000.0</td>\n",
       "      <td>0.10</td>\n",
       "      <td>700.0</td>\n",
       "      <td>6</td>\n",
       "      <td>15</td>\n",
       "      <td>2014</td>\n",
       "      <td>True</td>\n",
       "      <td>2014-06-15</td>\n",
       "    </tr>\n",
       "    <tr>\n",
       "      <td>2</td>\n",
       "      <td>23477</td>\n",
       "      <td>ACME Industrial</td>\n",
       "      <td>50000.0</td>\n",
       "      <td>62500.0</td>\n",
       "      <td>0.25</td>\n",
       "      <td>125.0</td>\n",
       "      <td>3</td>\n",
       "      <td>29</td>\n",
       "      <td>2016</td>\n",
       "      <td>True</td>\n",
       "      <td>2016-03-29</td>\n",
       "    </tr>\n",
       "    <tr>\n",
       "      <td>3</td>\n",
       "      <td>24900</td>\n",
       "      <td>Brekke LTD</td>\n",
       "      <td>350000.0</td>\n",
       "      <td>490000.0</td>\n",
       "      <td>0.04</td>\n",
       "      <td>75.0</td>\n",
       "      <td>10</td>\n",
       "      <td>27</td>\n",
       "      <td>2015</td>\n",
       "      <td>True</td>\n",
       "      <td>2015-10-27</td>\n",
       "    </tr>\n",
       "    <tr>\n",
       "      <td>4</td>\n",
       "      <td>651029</td>\n",
       "      <td>Harbor Co</td>\n",
       "      <td>15000.0</td>\n",
       "      <td>12750.0</td>\n",
       "      <td>-0.15</td>\n",
       "      <td>0.0</td>\n",
       "      <td>2</td>\n",
       "      <td>2</td>\n",
       "      <td>2014</td>\n",
       "      <td>False</td>\n",
       "      <td>2014-02-02</td>\n",
       "    </tr>\n",
       "  </tbody>\n",
       "</table>\n",
       "</div>"
      ],
      "text/plain": [
       "   Customer Number     Customer Name      2016       2017  Percent Growth  \\\n",
       "0            10002  Quest Industries  125000.0   162500.0            0.30   \n",
       "1           552278    Smith Plumbing  920000.0  1012000.0            0.10   \n",
       "2            23477   ACME Industrial   50000.0    62500.0            0.25   \n",
       "3            24900        Brekke LTD  350000.0   490000.0            0.04   \n",
       "4           651029         Harbor Co   15000.0    12750.0           -0.15   \n",
       "\n",
       "   Jan Units  Month  Day  Year  Active Start_Date  \n",
       "0      500.0      1   10  2015    True 2015-01-10  \n",
       "1      700.0      6   15  2014    True 2014-06-15  \n",
       "2      125.0      3   29  2016    True 2016-03-29  \n",
       "3       75.0     10   27  2015    True 2015-10-27  \n",
       "4        0.0      2    2  2014   False 2014-02-02  "
      ]
     },
     "execution_count": 30,
     "metadata": {},
     "output_type": "execute_result"
    }
   ],
   "source": [
    "df['Start_Date'] = pd.to_datetime(df[['Month', 'Day', 'Year']])\n",
    "df"
   ]
  },
  {
   "cell_type": "markdown",
   "metadata": {},
   "source": [
    "### 四、导入数据时转换数据类型\n",
    "除了上面的三种方法，实际上我们也可以在导入数据的时候就处理好。"
   ]
  },
  {
   "cell_type": "code",
   "execution_count": 31,
   "metadata": {},
   "outputs": [
    {
     "data": {
      "text/html": [
       "<div>\n",
       "<style scoped>\n",
       "    .dataframe tbody tr th:only-of-type {\n",
       "        vertical-align: middle;\n",
       "    }\n",
       "\n",
       "    .dataframe tbody tr th {\n",
       "        vertical-align: top;\n",
       "    }\n",
       "\n",
       "    .dataframe thead th {\n",
       "        text-align: right;\n",
       "    }\n",
       "</style>\n",
       "<table border=\"1\" class=\"dataframe\">\n",
       "  <thead>\n",
       "    <tr style=\"text-align: right;\">\n",
       "      <th></th>\n",
       "      <th>Customer Number</th>\n",
       "      <th>Customer Name</th>\n",
       "      <th>2016</th>\n",
       "      <th>2017</th>\n",
       "      <th>Percent Growth</th>\n",
       "      <th>Jan Units</th>\n",
       "      <th>Month</th>\n",
       "      <th>Day</th>\n",
       "      <th>Year</th>\n",
       "      <th>Active</th>\n",
       "    </tr>\n",
       "  </thead>\n",
       "  <tbody>\n",
       "    <tr>\n",
       "      <td>0</td>\n",
       "      <td>10002</td>\n",
       "      <td>Quest Industries</td>\n",
       "      <td>125000.0</td>\n",
       "      <td>162500.0</td>\n",
       "      <td>0.30</td>\n",
       "      <td>500.0</td>\n",
       "      <td>1</td>\n",
       "      <td>10</td>\n",
       "      <td>2015</td>\n",
       "      <td>True</td>\n",
       "    </tr>\n",
       "    <tr>\n",
       "      <td>1</td>\n",
       "      <td>552278</td>\n",
       "      <td>Smith Plumbing</td>\n",
       "      <td>920000.0</td>\n",
       "      <td>1012000.0</td>\n",
       "      <td>0.10</td>\n",
       "      <td>700.0</td>\n",
       "      <td>6</td>\n",
       "      <td>15</td>\n",
       "      <td>2014</td>\n",
       "      <td>True</td>\n",
       "    </tr>\n",
       "    <tr>\n",
       "      <td>2</td>\n",
       "      <td>23477</td>\n",
       "      <td>ACME Industrial</td>\n",
       "      <td>50000.0</td>\n",
       "      <td>62500.0</td>\n",
       "      <td>0.25</td>\n",
       "      <td>125.0</td>\n",
       "      <td>3</td>\n",
       "      <td>29</td>\n",
       "      <td>2016</td>\n",
       "      <td>True</td>\n",
       "    </tr>\n",
       "    <tr>\n",
       "      <td>3</td>\n",
       "      <td>24900</td>\n",
       "      <td>Brekke LTD</td>\n",
       "      <td>350000.0</td>\n",
       "      <td>490000.0</td>\n",
       "      <td>0.04</td>\n",
       "      <td>75.0</td>\n",
       "      <td>10</td>\n",
       "      <td>27</td>\n",
       "      <td>2015</td>\n",
       "      <td>True</td>\n",
       "    </tr>\n",
       "    <tr>\n",
       "      <td>4</td>\n",
       "      <td>651029</td>\n",
       "      <td>Harbor Co</td>\n",
       "      <td>15000.0</td>\n",
       "      <td>12750.0</td>\n",
       "      <td>-0.15</td>\n",
       "      <td>NaN</td>\n",
       "      <td>2</td>\n",
       "      <td>2</td>\n",
       "      <td>2014</td>\n",
       "      <td>False</td>\n",
       "    </tr>\n",
       "  </tbody>\n",
       "</table>\n",
       "</div>"
      ],
      "text/plain": [
       "   Customer Number     Customer Name      2016       2017  Percent Growth  \\\n",
       "0            10002  Quest Industries  125000.0   162500.0            0.30   \n",
       "1           552278    Smith Plumbing  920000.0  1012000.0            0.10   \n",
       "2            23477   ACME Industrial   50000.0    62500.0            0.25   \n",
       "3            24900        Brekke LTD  350000.0   490000.0            0.04   \n",
       "4           651029         Harbor Co   15000.0    12750.0           -0.15   \n",
       "\n",
       "   Jan Units  Month  Day  Year  Active  \n",
       "0      500.0      1   10  2015    True  \n",
       "1      700.0      6   15  2014    True  \n",
       "2      125.0      3   29  2016    True  \n",
       "3       75.0     10   27  2015    True  \n",
       "4        NaN      2    2  2014   False  "
      ]
     },
     "execution_count": 31,
     "metadata": {},
     "output_type": "execute_result"
    }
   ],
   "source": [
    "df2 = pd.read_csv(\"sales_data_types.csv\",\n",
    "                 dtype = {'Customer Number': 'int'},\n",
    "                 converters={'2016': convert_currency,\n",
    "                             '2017': convert_currency,\n",
    "                             'Percent Growth': convert_percent,\n",
    "                             'Jan Units': lambda x: pd.to_numeric(x, errors='coerce'),\n",
    "                             'Active': lambda x: True if x=='Y' else False})\n",
    "\n",
    "df2"
   ]
  },
  {
   "cell_type": "code",
   "execution_count": 32,
   "metadata": {},
   "outputs": [
    {
     "data": {
      "text/plain": [
       "Customer Number      int64\n",
       "Customer Name       object\n",
       "2016               float64\n",
       "2017               float64\n",
       "Percent Growth     float64\n",
       "Jan Units          float64\n",
       "Month                int64\n",
       "Day                  int64\n",
       "Year                 int64\n",
       "Active                bool\n",
       "dtype: object"
      ]
     },
     "execution_count": 32,
     "metadata": {},
     "output_type": "execute_result"
    }
   ],
   "source": [
    "df2.dtypes"
   ]
  },
  {
   "cell_type": "markdown",
   "metadata": {},
   "source": [
    "### 总结\n",
    "做数据分析时，我们要确保数据类型是符合"
   ]
  }
 ],
 "metadata": {
  "kernelspec": {
   "display_name": "Python 3",
   "language": "python",
   "name": "python3"
  },
  "language_info": {
   "codemirror_mode": {
    "name": "ipython",
    "version": 3
   },
   "file_extension": ".py",
   "mimetype": "text/x-python",
   "name": "python",
   "nbconvert_exporter": "python",
   "pygments_lexer": "ipython3",
   "version": "3.7.2"
  }
 },
 "nbformat": 4,
 "nbformat_minor": 2
}
