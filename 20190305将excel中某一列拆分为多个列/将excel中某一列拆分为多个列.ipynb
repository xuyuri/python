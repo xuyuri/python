{
 "cells": [
  {
   "cell_type": "markdown",
   "metadata": {},
   "source": [
    "昨天有学员学 [python文本分析:从入门到精通](http://t.cn/EfESawM) 这门课时遇到jupyter配置问题，交流快结束的时候聊到excel数据拆分,说如果咱们后续提供excel数据分析的课程，比如excel数据拆分我还会购买大邓你的课。\n",
    "![](img/对话.jpg)\n",
    "其实我这门课虽然叫做 [python文本分析:从入门到精通](http://t.cn/EfESawM) ，但其实毕竟是营销专业出身，要有吸引眼球的营销语言。虽然精通倒不至于，但是让大家同时入门python、爬虫、文本分析、机器学习和数据分析我认为还是可以做到的。我看到这位学员的对话，说明我的课真的帮助到大家解决一些问题，课程质量达到学员预期。\n",
    "\n",
    "\n",
    "### 数据\n",
    "软广就说到此打住，本来学员给我发来了数据，但是数据对于大家可能不熟悉，所以我将学员的数据抽象简化了。\n",
    "![](img/data.gif)\n",
    "\n",
    "我们先看看数据,再来说问题"
   ]
  },
  {
   "cell_type": "code",
   "execution_count": 1,
   "metadata": {},
   "outputs": [
    {
     "data": {
      "text/html": [
       "<div>\n",
       "<style scoped>\n",
       "    .dataframe tbody tr th:only-of-type {\n",
       "        vertical-align: middle;\n",
       "    }\n",
       "\n",
       "    .dataframe tbody tr th {\n",
       "        vertical-align: top;\n",
       "    }\n",
       "\n",
       "    .dataframe thead th {\n",
       "        text-align: right;\n",
       "    }\n",
       "</style>\n",
       "<table border=\"1\" class=\"dataframe\">\n",
       "  <thead>\n",
       "    <tr style=\"text-align: right;\">\n",
       "      <th></th>\n",
       "      <th>id</th>\n",
       "      <th>name</th>\n",
       "      <th>gender</th>\n",
       "      <th>address</th>\n",
       "      <th>birthday</th>\n",
       "    </tr>\n",
       "  </thead>\n",
       "  <tbody>\n",
       "    <tr>\n",
       "      <th>0</th>\n",
       "      <td>1</td>\n",
       "      <td>张三</td>\n",
       "      <td>男</td>\n",
       "      <td>山东省济南市</td>\n",
       "      <td>1990/05/01</td>\n",
       "    </tr>\n",
       "    <tr>\n",
       "      <th>1</th>\n",
       "      <td>2</td>\n",
       "      <td>李四</td>\n",
       "      <td>男</td>\n",
       "      <td>陕西省西安市</td>\n",
       "      <td>1995/07/08</td>\n",
       "    </tr>\n",
       "    <tr>\n",
       "      <th>2</th>\n",
       "      <td>3</td>\n",
       "      <td>王五</td>\n",
       "      <td>男</td>\n",
       "      <td>浙江省杭州市</td>\n",
       "      <td>2000/08/15</td>\n",
       "    </tr>\n",
       "    <tr>\n",
       "      <th>3</th>\n",
       "      <td>4</td>\n",
       "      <td>赵六</td>\n",
       "      <td>男</td>\n",
       "      <td>辽宁省沈阳市</td>\n",
       "      <td>1986/11/03</td>\n",
       "    </tr>\n",
       "  </tbody>\n",
       "</table>\n",
       "</div>"
      ],
      "text/plain": [
       "   id name gender address    birthday\n",
       "0   1   张三      男  山东省济南市  1990/05/01\n",
       "1   2   李四      男  陕西省西安市  1995/07/08\n",
       "2   3   王五      男  浙江省杭州市  2000/08/15\n",
       "3   4   赵六      男  辽宁省沈阳市  1986/11/03"
      ]
     },
     "execution_count": 1,
     "metadata": {},
     "output_type": "execute_result"
    }
   ],
   "source": [
    "import pandas as pd\n",
    "\n",
    "df = pd.read_excel('data.xls')\n",
    "df.head()"
   ]
  },
  {
   "cell_type": "markdown",
   "metadata": {},
   "source": [
    "### 问题\n",
    "将excel中的某一列拆分成多个列，比如：\n",
    "- 将 **address** 拆分，并新建 **province、city** \n",
    "- 将 **birthday** 拆分，并新建 **year、month、day**\n",
    "\n",
    "### 思路\n",
    "之前我们分享过 [使用python做更好的数据分析](http://t.cn/EISlRJy)  这篇文章，里面就提到df.agg()方法，可以自定义列的操作函数。\n",
    "\n",
    "```python\n",
    "df.agg({'列名a':'操作函数名1'})\n",
    "```\n",
    "\n",
    "### 自定义操作函数\n",
    "这两个问题，我们要知道每个列对应的数据是什么类型的。因为这是我自己设计的数据，每个单元格中的数据都是字符串。我先设计address列的操作函数"
   ]
  },
  {
   "cell_type": "code",
   "execution_count": 2,
   "metadata": {},
   "outputs": [
    {
     "data": {
      "text/plain": [
       "'陕西省'"
      ]
     },
     "execution_count": 2,
     "metadata": {},
     "output_type": "execute_result"
    }
   ],
   "source": [
    "def address_output_province(text):\n",
    "    return text.split('省')[0]+'省'\n",
    "\n",
    "address_output_province(text='陕西省西安市')"
   ]
  },
  {
   "cell_type": "code",
   "execution_count": 3,
   "metadata": {},
   "outputs": [
    {
     "data": {
      "text/plain": [
       "'西安市'"
      ]
     },
     "execution_count": 3,
     "metadata": {},
     "output_type": "execute_result"
    }
   ],
   "source": [
    "def address_output_city(text):\n",
    "    return text.split('省')[-1]\n",
    "\n",
    "address_output_city(text='陕西省西安市')"
   ]
  },
  {
   "cell_type": "markdown",
   "metadata": {},
   "source": [
    "接着我们设计下 **birthday** 的操作函数"
   ]
  },
  {
   "cell_type": "code",
   "execution_count": 4,
   "metadata": {},
   "outputs": [
    {
     "data": {
      "text/plain": [
       "'1995'"
      ]
     },
     "execution_count": 4,
     "metadata": {},
     "output_type": "execute_result"
    }
   ],
   "source": [
    "def birthday_output_year(text):\n",
    "    return text.split('/')[0]\n",
    "\n",
    "birthday_output_year(text='1995/07/08')"
   ]
  },
  {
   "cell_type": "code",
   "execution_count": 6,
   "metadata": {},
   "outputs": [
    {
     "data": {
      "text/plain": [
       "'07'"
      ]
     },
     "execution_count": 6,
     "metadata": {},
     "output_type": "execute_result"
    }
   ],
   "source": [
    "def birthday_output_month(text):\n",
    "    return text.split('/')[1]\n",
    "\n",
    "birthday_output_month(text='1995/07/08')"
   ]
  },
  {
   "cell_type": "code",
   "execution_count": 7,
   "metadata": {},
   "outputs": [
    {
     "data": {
      "text/plain": [
       "'08'"
      ]
     },
     "execution_count": 7,
     "metadata": {},
     "output_type": "execute_result"
    }
   ],
   "source": [
    "def birthday_output_day(text):\n",
    "    return text.split('/')[-1]\n",
    "\n",
    "birthday_output_day(text='1995/07/08')"
   ]
  },
  {
   "cell_type": "markdown",
   "metadata": {},
   "source": [
    "### 组装\n",
    "现在我们只需要先新建对应的列newcolumn，然后将拆分的列的值赋值给newcolumn列。"
   ]
  },
  {
   "cell_type": "code",
   "execution_count": 8,
   "metadata": {},
   "outputs": [
    {
     "data": {
      "text/html": [
       "<div>\n",
       "<style scoped>\n",
       "    .dataframe tbody tr th:only-of-type {\n",
       "        vertical-align: middle;\n",
       "    }\n",
       "\n",
       "    .dataframe tbody tr th {\n",
       "        vertical-align: top;\n",
       "    }\n",
       "\n",
       "    .dataframe thead th {\n",
       "        text-align: right;\n",
       "    }\n",
       "</style>\n",
       "<table border=\"1\" class=\"dataframe\">\n",
       "  <thead>\n",
       "    <tr style=\"text-align: right;\">\n",
       "      <th></th>\n",
       "      <th>id</th>\n",
       "      <th>name</th>\n",
       "      <th>gender</th>\n",
       "      <th>address</th>\n",
       "      <th>birthday</th>\n",
       "      <th>province</th>\n",
       "      <th>city</th>\n",
       "      <th>year</th>\n",
       "      <th>month</th>\n",
       "      <th>day</th>\n",
       "    </tr>\n",
       "  </thead>\n",
       "  <tbody>\n",
       "    <tr>\n",
       "      <th>0</th>\n",
       "      <td>1</td>\n",
       "      <td>张三</td>\n",
       "      <td>男</td>\n",
       "      <td>山东省济南市</td>\n",
       "      <td>1990/05/01</td>\n",
       "      <td>山东省</td>\n",
       "      <td>济南市</td>\n",
       "      <td>1990</td>\n",
       "      <td>05</td>\n",
       "      <td>01</td>\n",
       "    </tr>\n",
       "    <tr>\n",
       "      <th>1</th>\n",
       "      <td>2</td>\n",
       "      <td>李四</td>\n",
       "      <td>男</td>\n",
       "      <td>陕西省西安市</td>\n",
       "      <td>1995/07/08</td>\n",
       "      <td>陕西省</td>\n",
       "      <td>西安市</td>\n",
       "      <td>1995</td>\n",
       "      <td>07</td>\n",
       "      <td>08</td>\n",
       "    </tr>\n",
       "    <tr>\n",
       "      <th>2</th>\n",
       "      <td>3</td>\n",
       "      <td>王五</td>\n",
       "      <td>男</td>\n",
       "      <td>浙江省杭州市</td>\n",
       "      <td>2000/08/15</td>\n",
       "      <td>浙江省</td>\n",
       "      <td>杭州市</td>\n",
       "      <td>2000</td>\n",
       "      <td>08</td>\n",
       "      <td>15</td>\n",
       "    </tr>\n",
       "    <tr>\n",
       "      <th>3</th>\n",
       "      <td>4</td>\n",
       "      <td>赵六</td>\n",
       "      <td>男</td>\n",
       "      <td>辽宁省沈阳市</td>\n",
       "      <td>1986/11/03</td>\n",
       "      <td>辽宁省</td>\n",
       "      <td>沈阳市</td>\n",
       "      <td>1986</td>\n",
       "      <td>11</td>\n",
       "      <td>03</td>\n",
       "    </tr>\n",
       "  </tbody>\n",
       "</table>\n",
       "</div>"
      ],
      "text/plain": [
       "   id name gender address    birthday province city  year month day\n",
       "0   1   张三      男  山东省济南市  1990/05/01      山东省  济南市  1990    05  01\n",
       "1   2   李四      男  陕西省西安市  1995/07/08      陕西省  西安市  1995    07  08\n",
       "2   3   王五      男  浙江省杭州市  2000/08/15      浙江省  杭州市  2000    08  15\n",
       "3   4   赵六      男  辽宁省沈阳市  1986/11/03      辽宁省  沈阳市  1986    11  03"
      ]
     },
     "execution_count": 8,
     "metadata": {},
     "output_type": "execute_result"
    }
   ],
   "source": [
    "df['province'] = df.agg({'address':address_output_province})\n",
    "df['city'] = df.agg({'address':address_output_city})\n",
    "df['year'] = df.agg({'birthday':birthday_output_year})\n",
    "df['month'] = df.agg({'birthday':birthday_output_month})\n",
    "df['day'] = df.agg({'birthday':birthday_output_day})\n",
    "df.head()"
   ]
  },
  {
   "cell_type": "markdown",
   "metadata": {},
   "source": [
    "通过上面的运行结果，我们知道拆分成功了。现在我们将新的df导出保存。"
   ]
  },
  {
   "cell_type": "code",
   "execution_count": 11,
   "metadata": {},
   "outputs": [],
   "source": [
    "#将df导出为xls\n",
    "df.to_excel('newdata.xls')"
   ]
  },
  {
   "cell_type": "markdown",
   "metadata": {},
   "source": [
    "![](img/newdata.gif)"
   ]
  }
 ],
 "metadata": {
  "kernelspec": {
   "display_name": "Python 3",
   "language": "python",
   "name": "python3"
  },
  "language_info": {
   "codemirror_mode": {
    "name": "ipython",
    "version": 3
   },
   "file_extension": ".py",
   "mimetype": "text/x-python",
   "name": "python",
   "nbconvert_exporter": "python",
   "pygments_lexer": "ipython3",
   "version": "3.7.2"
  }
 },
 "nbformat": 4,
 "nbformat_minor": 2
}
