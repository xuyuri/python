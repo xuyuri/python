{
 "cells": [
  {
   "cell_type": "markdown",
   "metadata": {},
   "source": [
    "Arrow是python中最友好的日期时间库，诸如对日期时间数据的创建、操纵、格式化、转化，arrow都可以搞定，而且接口对普通人来说很友好。\n",
    "\n",
    "### 为什么不使用python内置模块，而是使用Arrrow？\n",
    "python标准化库和其他第三方库都有提供日期时间处理操作，但是从应用角度来说，不够好用\n",
    "- 太多的库，选择困难。诸如datetime, time, calendar, dateutil, pytz等等\n",
    "- 太多的数据类型，记不住。 诸如date, time, datetime, tzinfo, timedelta, relativedelta等等\n",
    "- 时区、时间戳转换晦涩难懂\n",
    "- 非结构日期处理 如“我生于1990腊月”\n",
    "\n",
    "### Arrow类的特性\n",
    "- 完全实现的datatime的直接替换\n",
    "- 支持python2和python3\n",
    "- 默认时区自动感知，使用UTC世界标准时间\n",
    "- 为许多常见的输入方案提供超简单的创建选项\n",
    "- 支持shift偏移量\n",
    "- 字符串日期的识别\n",
    "- 时区转换\n",
    "- 内置时间戳属性\n",
    "- diy自己的日期类型\n",
    "\n",
    "### 安装"
   ]
  },
  {
   "cell_type": "code",
   "execution_count": 1,
   "metadata": {},
   "outputs": [
    {
     "name": "stdout",
     "output_type": "stream",
     "text": [
      "Looking in indexes: https://pypi.tuna.tsinghua.edu.cn/simple\n",
      "Collecting arrow\n",
      "\u001b[?25l  Downloading https://pypi.tuna.tsinghua.edu.cn/packages/cc/f5/f618f8423fe674a60461e58683edfeead93f4bbf95b9fca0e9699e765b35/arrow-0.15.2-py2.py3-none-any.whl (40kB)\n",
      "\u001b[K     |████████████████████████████████| 40kB 2.6MB/s eta 0:00:011\n",
      "\u001b[?25hRequirement already satisfied: python-dateutil in /Library/Frameworks/Python.framework/Versions/3.7/lib/python3.7/site-packages (from arrow) (2.8.0)\n",
      "Requirement already satisfied: six>=1.5 in /Library/Frameworks/Python.framework/Versions/3.7/lib/python3.7/site-packages (from python-dateutil->arrow) (1.12.0)\n",
      "Installing collected packages: arrow\n",
      "Successfully installed arrow-0.15.2\n"
     ]
    }
   ],
   "source": [
    "!pip3 install arrow"
   ]
  },
  {
   "cell_type": "markdown",
   "metadata": {},
   "source": [
    "### 获取日期\n",
    "- arrow.utcnow() 获取世界标准时间\n",
    "- arrow.now()  当地时区的时间\n",
    "- arrow.get(datestr, datefmt)"
   ]
  },
  {
   "cell_type": "code",
   "execution_count": 22,
   "metadata": {},
   "outputs": [
    {
     "name": "stdout",
     "output_type": "stream",
     "text": [
      "2019-10-13T08:40:59.289458+00:00\n",
      "2013-05-11T00:00:00+00:00\n"
     ]
    }
   ],
   "source": [
    "import arrow\n",
    "\n",
    "now = arrow.utcnow()\n",
    "print(now)\n",
    "print(arrow.get('2013-05-11', 'YYYY-MM-DD'))"
   ]
  },
  {
   "cell_type": "code",
   "execution_count": 67,
   "metadata": {},
   "outputs": [
    {
     "name": "stdout",
     "output_type": "stream",
     "text": [
      "1980-05-01T00:00:00+00:00\n"
     ]
    }
   ],
   "source": [
    "print(arrow.get('June was born in May 1980', 'MMMM YYYY', locale='en'))"
   ]
  },
  {
   "cell_type": "markdown",
   "metadata": {},
   "source": [
    "### Arrow类的方法和属性\n",
    "- Arrow.to() 转化日期，如从utc转为local\n",
    "- Arrow.shift() 更改日期，向前或者向后偏移一段时间\n",
    "- Arrow.timestamp 转化为时间戳\n",
    "- Arrow.format() 设定日期， 例如``YYYY-MM-DD HH:mm:ss``\n"
   ]
  },
  {
   "cell_type": "code",
   "execution_count": 18,
   "metadata": {},
   "outputs": [
    {
     "data": {
      "text/plain": [
       "<Arrow [2019-10-13T07:32:51.357522+00:00]>"
      ]
     },
     "execution_count": 18,
     "metadata": {},
     "output_type": "execute_result"
    }
   ],
   "source": [
    "now.shift(hours=-1)"
   ]
  },
  {
   "cell_type": "markdown",
   "metadata": {},
   "source": [
    "前一个月"
   ]
  },
  {
   "cell_type": "code",
   "execution_count": 6,
   "metadata": {},
   "outputs": [
    {
     "data": {
      "text/plain": [
       "<Arrow [2019-09-13T08:27:37.736815+00:00]>"
      ]
     },
     "execution_count": 6,
     "metadata": {},
     "output_type": "execute_result"
    }
   ],
   "source": [
    "utc.shift(months=-1)"
   ]
  },
  {
   "cell_type": "markdown",
   "metadata": {},
   "source": [
    "**时间戳**"
   ]
  },
  {
   "cell_type": "code",
   "execution_count": 11,
   "metadata": {},
   "outputs": [
    {
     "data": {
      "text/plain": [
       "1570955385"
      ]
     },
     "execution_count": 11,
     "metadata": {},
     "output_type": "execute_result"
    }
   ],
   "source": [
    "local.timestamp"
   ]
  },
  {
   "cell_type": "markdown",
   "metadata": {},
   "source": [
    "**设定日期格式** \n",
    "\n",
    "Arrow.format(fmt)\n",
    "\n",
    "fmt日期的格式字符串，例如 ``YYYY-MM-DD HH:mm:ss``"
   ]
  },
  {
   "cell_type": "code",
   "execution_count": 15,
   "metadata": {},
   "outputs": [
    {
     "data": {
      "text/plain": [
       "'2019-10-13 16:29:45'"
      ]
     },
     "execution_count": 15,
     "metadata": {},
     "output_type": "execute_result"
    }
   ],
   "source": [
    "local.format('YYYY-MM-DD HH:mm:ss')"
   ]
  },
  {
   "cell_type": "markdown",
   "metadata": {},
   "source": [
    "### 说人话"
   ]
  },
  {
   "cell_type": "code",
   "execution_count": 51,
   "metadata": {},
   "outputs": [
    {
     "data": {
      "text/plain": [
       "'a year ago'"
      ]
     },
     "execution_count": 51,
     "metadata": {},
     "output_type": "execute_result"
    }
   ],
   "source": [
    "import arrow\n",
    "\n",
    "past = arrow.now().shift(years=-1)\n",
    "past.humanize(locale='en_us')"
   ]
  },
  {
   "cell_type": "code",
   "execution_count": 52,
   "metadata": {},
   "outputs": [
    {
     "data": {
      "text/plain": [
       "'2小时后'"
      ]
     },
     "execution_count": 52,
     "metadata": {},
     "output_type": "execute_result"
    }
   ],
   "source": [
    "future = arrow.now().shift(hours=2)\n",
    "future.humanize(locale='zh_cn')"
   ]
  }
 ],
 "metadata": {
  "kernelspec": {
   "display_name": "Python 3",
   "language": "python",
   "name": "python3"
  },
  "language_info": {
   "codemirror_mode": {
    "name": "ipython",
    "version": 3
   },
   "file_extension": ".py",
   "mimetype": "text/x-python",
   "name": "python",
   "nbconvert_exporter": "python",
   "pygments_lexer": "ipython3",
   "version": "3.7.2"
  }
 },
 "nbformat": 4,
 "nbformat_minor": 2
}
