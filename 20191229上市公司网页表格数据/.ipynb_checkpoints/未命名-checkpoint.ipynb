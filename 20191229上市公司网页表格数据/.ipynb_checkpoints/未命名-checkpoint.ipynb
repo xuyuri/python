{
 "cells": [
  {
   "cell_type": "markdown",
   "metadata": {},
   "source": [
    "我们最想要的数据格式就是表数据，但这表格并不是excel文件，而是存在于网页上的表数据。比如本教程实验网站\n",
    "\n",
    "http://s.askci.com/stock/a\n",
    "    \n",
    "![](img/1.png)\n",
    "\n",
    "一般遇到这种数据，最简单的方法就是复制粘贴，但是当\n",
    "- 复制粘贴格式混乱\n",
    "- 粘贴工作量太多\n",
    "就需要写爬虫帮我们处理这件事情。但是常见的爬虫教程没有详细教大家怎么处理这种网址，今天我就简单说下办法。\n",
    "\n",
    "### 审查网页\n",
    "![](img/2.png)\n",
    "我们可以看到视图(平常肉眼所见)与html(图片下方的html)的一一对应对关系, "
   ]
  },
  {
   "cell_type": "code",
   "execution_count": null,
   "metadata": {},
   "outputs": [],
   "source": [
    "<table class=\"...\" id=\"...\">\n",
    "    <thead>\n",
    "    <tr>\n",
    "    <th>...</th>\n",
    "    </tr>\n",
    "    </thead>\n",
    "    <tbody>\n",
    "        <tr>\n",
    "            <td>...</td>\n",
    "        </tr>\n",
    "        <tr>...</tr>\n",
    "        <tr>...</tr>\n",
    "        <tr>...</tr>\n",
    "        <tr>...</tr>\n",
    "        ...\n",
    "        <tr>...</tr>\n",
    "        <tr>...</tr>\n",
    "        <tr>...</tr>\n",
    "        <tr>...</tr>        \n",
    "    </tbody>\n",
    "</table>\n"
   ]
  }
 ],
 "metadata": {
  "kernelspec": {
   "display_name": "Python 3",
   "language": "python",
   "name": "python3"
  },
  "language_info": {
   "codemirror_mode": {
    "name": "ipython",
    "version": 3
   },
   "file_extension": ".py",
   "mimetype": "text/x-python",
   "name": "python",
   "nbconvert_exporter": "python",
   "pygments_lexer": "ipython3",
   "version": "3.7.4"
  },
  "toc": {
   "base_numbering": 1,
   "nav_menu": {},
   "number_sections": true,
   "sideBar": true,
   "skip_h1_title": false,
   "title_cell": "Table of Contents",
   "title_sidebar": "Contents",
   "toc_cell": false,
   "toc_position": {},
   "toc_section_display": true,
   "toc_window_display": false
  }
 },
 "nbformat": 4,
 "nbformat_minor": 2
}
