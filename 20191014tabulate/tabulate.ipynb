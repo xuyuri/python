{
 "cells": [
  {
   "cell_type": "markdown",
   "metadata": {},
   "source": [
    "写公众号文章dataframe运行的结果直接复制粘贴到公众号格式会乱，今天看到一个tabulate库可以解决这个问题。\n",
    "\n",
    "\n",
    "### tabulate参数\n",
    "tabulate(data, headers, showindex, tablefmt, colalign, numalign, stralign, floatfmt)\n",
    "- data 传入的数据\n",
    "- headers 字段名，参数可以是firstrow，也可以是指定的列名列表\n",
    "- showindex 显示行索引。布尔值，或者 行索引列表\n",
    "- tablefmt 表格样式，常见的有github、plain、psql等\n",
    "- colalign、numalign、stralign 对齐方式，可以传入列表或者字符串，参数有right、center、left\n",
    "- floatfmt 浮点型对齐方式，可以传入列表或者字符串。例如 “.4f”小数点后4位\n",
    "\n",
    "\n",
    "### tabulate支持传入的数据为\n",
    "- 列表的列表\n",
    "- 字典列表（关键词作为列名）\n",
    "- 二维numpy数组\n",
    "- pandas.DataFrame\n",
    "- ...\n",
    "\n",
    "\n",
    "### 安装"
   ]
  },
  {
   "cell_type": "code",
   "execution_count": 2,
   "metadata": {},
   "outputs": [],
   "source": [
    "!pip3 install tabulate"
   ]
  },
  {
   "cell_type": "markdown",
   "metadata": {},
   "source": [
    "### qucik start\n",
    "这里我自定义了一个函数 ``println(data, **kw)``\n",
    "- data 传入的数据\n",
    "- 关键词参数。关键词可以是headers、showindex、tablefmt、colalign, numalign, stralign, floatfmt\n",
    "\n",
    "这样后面我只需要调用``println(data, **kw)``即可"
   ]
  },
  {
   "cell_type": "code",
   "execution_count": 47,
   "metadata": {},
   "outputs": [
    {
     "name": "stdout",
     "output_type": "stream",
     "text": [
      "-----  ------  ----------\n",
      "Sun    696000  1.9891e+09\n",
      "Earth  6371    5973.6\n",
      "Moon   1737    73.5\n",
      "Mars   3390    641.85\n",
      "-----  ------  ----------\n"
     ]
    }
   ],
   "source": [
    "from tabulate import tabulate\n",
    "\n",
    "def println(data,**kw):\n",
    "    print(tabulate(data, **kw))\n",
    "    \n",
    "    \n",
    "    \n",
    "table = [[\"Sun\",696000,1989100000],\n",
    "         [\"Earth\",6371,5973.6],\n",
    "         [\"Moon\",1737,73.5],\n",
    "         [\"Mars\",3390,641.85]]\n",
    "\n",
    "println(table, colalign=['left', 'left', 'left'])"
   ]
  },
  {
   "cell_type": "markdown",
   "metadata": {},
   "source": [
    "### headers\n",
    "\n",
    "显示字段名\n",
    "- 传入字段名列表\n",
    "- 或者“firstrow”"
   ]
  },
  {
   "cell_type": "code",
   "execution_count": 13,
   "metadata": {},
   "outputs": [
    {
     "name": "stdout",
     "output_type": "stream",
     "text": [
      "Planet      R(kw)    mass(x 10^29 kg)\n",
      "--------  -------  ------------------\n",
      "Sun        696000          1.9891e+09\n",
      "Earth        6371       5973.6\n",
      "Moon         1737         73.5\n",
      "Mars         3390        641.85\n"
     ]
    }
   ],
   "source": [
    "println(table, headers=['Planet', 'R(kw)', 'mass(x 10^29 kg)'])"
   ]
  },
  {
   "cell_type": "markdown",
   "metadata": {},
   "source": [
    "headers也可以传入\"firstrow\""
   ]
  },
  {
   "cell_type": "code",
   "execution_count": 15,
   "metadata": {},
   "outputs": [
    {
     "name": "stdout",
     "output_type": "stream",
     "text": [
      "Name      Age\n",
      "------  -----\n",
      "Alice      24\n",
      "Bob        19\n"
     ]
    }
   ],
   "source": [
    "table = [[\"Name\",\"Age\"],[\"Alice\",24],[\"Bob\",19]]\n",
    "\n",
    "println(table, headers=\"firstrow\")"
   ]
  },
  {
   "cell_type": "markdown",
   "metadata": {},
   "source": [
    "### showindex\n",
    "显示行索引值，传入True或False\n",
    "\n",
    "或者\n",
    "\n",
    "行索引值列表"
   ]
  },
  {
   "cell_type": "code",
   "execution_count": 17,
   "metadata": {},
   "outputs": [
    {
     "name": "stdout",
     "output_type": "stream",
     "text": [
      "-  --\n",
      "F  24\n",
      "M  19\n",
      "-  --\n"
     ]
    }
   ],
   "source": [
    "println([[\"F\",24],[\"M\",19]], showindex=False)"
   ]
  },
  {
   "cell_type": "code",
   "execution_count": 18,
   "metadata": {},
   "outputs": [
    {
     "name": "stdout",
     "output_type": "stream",
     "text": [
      "-  -  --\n",
      "0  F  24\n",
      "1  M  19\n",
      "-  -  --\n"
     ]
    }
   ],
   "source": [
    "\n",
    "println([[\"F\",24],[\"M\",19]], showindex=True)"
   ]
  },
  {
   "cell_type": "code",
   "execution_count": 19,
   "metadata": {},
   "outputs": [
    {
     "name": "stdout",
     "output_type": "stream",
     "text": [
      "----  -  --\n",
      "第一  F  24\n",
      "第二  M  19\n",
      "----  -  --\n"
     ]
    }
   ],
   "source": [
    "#自定义行索引 ['第一', '第二']\n",
    "println([[\"F\",24],[\"M\",19]], showindex=['第一', '第二'])"
   ]
  },
  {
   "cell_type": "markdown",
   "metadata": {},
   "source": [
    "### tablefmt\n",
    "\n",
    "设定表格样式，支持\n",
    "\n",
    "- \"plain\"\n",
    "- \"simple\"\n",
    "- \"github\"\n",
    "- \"grid\"\n",
    "- \"fancy_grid\"\n",
    "- \"pipe\"\n",
    "- \"orgtbl\"\n",
    "- \"jira\"\n",
    "- \"presto\"\n",
    "- \"psql\"\n",
    "- \"rst\"\n",
    "- \"mediawiki\"\n",
    "- \"moinmoin\"\n",
    "- \"youtrack\"\n",
    "- \"html\"\n",
    "- \"latex\"\n",
    "- \"latex_raw\"\n",
    "- \"latex_booktabs\"\n",
    "- \"textile\"\n",
    "\n",
    "大家都试一下tablefmt的参数，选择自己喜欢的格式"
   ]
  },
  {
   "cell_type": "code",
   "execution_count": 23,
   "metadata": {},
   "outputs": [
    {
     "name": "stdout",
     "output_type": "stream",
     "text": [
      "item      qty\n",
      "spam       42\n",
      "eggs      451\n",
      "bacon       0\n"
     ]
    }
   ],
   "source": [
    "table = [[\"spam\",42],[\"eggs\",451],[\"bacon\",0]]\n",
    "headers = [\"item\", \"qty\"]\n",
    "\n",
    "#字段名， 表格样式位plain\n",
    "println(table, headers=headers, tablefmt=\"plain\")"
   ]
  },
  {
   "cell_type": "code",
   "execution_count": 24,
   "metadata": {},
   "outputs": [
    {
     "name": "stdout",
     "output_type": "stream",
     "text": [
      "| item   |   qty |\n",
      "|--------|-------|\n",
      "| spam   |    42 |\n",
      "| eggs   |   451 |\n",
      "| bacon  |     0 |\n"
     ]
    }
   ],
   "source": [
    "#字段名， 表格样式位github\n",
    "println(table, headers=headers, tablefmt=\"github\")"
   ]
  },
  {
   "cell_type": "code",
   "execution_count": 25,
   "metadata": {},
   "outputs": [
    {
     "name": "stdout",
     "output_type": "stream",
     "text": [
      "+--------+-------+\n",
      "| item   |   qty |\n",
      "|--------+-------|\n",
      "| spam   |    42 |\n",
      "| eggs   |   451 |\n",
      "| bacon  |     0 |\n",
      "+--------+-------+\n"
     ]
    }
   ],
   "source": [
    "#字段名， 表格样式位psql\n",
    "println(table, headers=headers, tablefmt=\"psql\")"
   ]
  },
  {
   "cell_type": "markdown",
   "metadata": {},
   "source": [
    "### 对齐方式\n",
    "设定对齐方式的参数有\n",
    "- colalign\n",
    "- numalign\n",
    "- stralign \n",
    "- floatfmt\n",
    "\n",
    "前三个的参数都可以用center、left、right、decimal设置。\n",
    "\n",
    "floatfmt需要用特殊的方法， 例如 \".5f\"小数点后五位"
   ]
  },
  {
   "cell_type": "code",
   "execution_count": 32,
   "metadata": {},
   "outputs": [
    {
     "name": "stdout",
     "output_type": "stream",
     "text": [
      "----------\n",
      "    1.2345\n",
      "  123.45\n",
      "   12.345\n",
      "12345\n",
      " 1234.5\n",
      "----------\n"
     ]
    }
   ],
   "source": [
    "table = [[1.2345],[123.45],[12.345],[12345],[1234.5]]\n",
    "\n",
    "println(table)"
   ]
  },
  {
   "cell_type": "code",
   "execution_count": 37,
   "metadata": {},
   "outputs": [
    {
     "name": "stdout",
     "output_type": "stream",
     "text": [
      "------\n",
      "1.2345\n",
      "123.45\n",
      "12.345\n",
      "12345\n",
      "1234.5\n",
      "------\n"
     ]
    }
   ],
   "source": [
    "#左对齐\n",
    "println(table, numalign='left')"
   ]
  },
  {
   "cell_type": "code",
   "execution_count": 40,
   "metadata": {},
   "outputs": [
    {
     "name": "stdout",
     "output_type": "stream",
     "text": [
      "---------\n",
      "1.234\n",
      "123.450\n",
      "12.345\n",
      "12345.000\n",
      "1234.500\n",
      "---------\n"
     ]
    }
   ],
   "source": [
    "#左对齐， 小数点后三位\n",
    "println(table, numalign='left', floatfmt='.3f')"
   ]
  }
 ],
 "metadata": {
  "kernelspec": {
   "display_name": "Python 3",
   "language": "python",
   "name": "python3"
  },
  "language_info": {
   "codemirror_mode": {
    "name": "ipython",
    "version": 3
   },
   "file_extension": ".py",
   "mimetype": "text/x-python",
   "name": "python",
   "nbconvert_exporter": "python",
   "pygments_lexer": "ipython3",
   "version": "3.7.2"
  }
 },
 "nbformat": 4,
 "nbformat_minor": 2
}
