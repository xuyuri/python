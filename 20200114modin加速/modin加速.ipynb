{
 "cells": [
  {
   "cell_type": "markdown",
   "metadata": {},
   "source": [
    "# Modin一行代码让pandas加速\n",
    "pandas库是python中最有名的数据分析库，因为dataframe这种易用强大的数据类型，pandas成为数据科学必备套件。pandas可以和很多包联合使用，比如与机器学习sklearn、统计分析statsmodels、可视化searborn&matplotlib等等。下图是近几年python包的使用量趋势，pandas一骑绝尘\n",
    "\n",
    "![](img/一骑绝尘.png)\n",
    "\n",
    "但pandas有一个弱点：不适用于大规模数据。\n",
    "\n",
    "pandas默认只调用电脑单个的CPU进行数据读取和运算，但是当前的电脑大多是4核，甚至8核，而如果常规使用pandas意味着我们没有充分使用电脑的性能。\n",
    "\n",
    "Modin是为加速pandas而开发的包，可以自动按照电脑CPU数调整运行的核数。\n",
    "\n",
    "### 安装"
   ]
  },
  {
   "cell_type": "code",
   "execution_count": null,
   "metadata": {},
   "outputs": [],
   "source": [
    "!pip3 install ray\n",
    "!pip3 install dask\n",
    "!pip3 install modin"
   ]
  },
  {
   "cell_type": "markdown",
   "metadata": {},
   "source": [
    "### modin使用\n",
    "modin的用法与pandas相差无几，只是在导入的时候略有不同。\n",
    "\n",
    "```python\n",
    "import modin.pandas as pd\n",
    "```\n",
    "\n",
    "现在这个pd就拥有与pandas一样的功能\n",
    "\n",
    "\n",
    "### 读取速度\n",
    "说了这么多了，我们先看看pandas导入test.csv文件(107M)的速度。"
   ]
  },
  {
   "cell_type": "code",
   "execution_count": 4,
   "metadata": {},
   "outputs": [
    {
     "name": "stdout",
     "output_type": "stream",
     "text": [
      "1.611081838607788\n"
     ]
    }
   ],
   "source": [
    "import time\n",
    "import pandas as pd\n",
    "\n",
    "\n",
    "start = time.time()\n",
    "df = pd.read_csv('data/test.csv')\n",
    "end = time.time()\n",
    "print(end-start)"
   ]
  },
  {
   "cell_type": "markdown",
   "metadata": {},
   "source": [
    "pandas导入107M的test.csv耗时1.78s"
   ]
  },
  {
   "cell_type": "code",
   "execution_count": 5,
   "metadata": {},
   "outputs": [
    {
     "name": "stdout",
     "output_type": "stream",
     "text": [
      "0.7474761009216309\n"
     ]
    }
   ],
   "source": [
    "import time\n",
    "import modin.pandas as pd\n",
    "\n",
    "\n",
    "start = time.time()\n",
    "#test.csv 107M\n",
    "df = pd.read_csv('data/test.csv')\n",
    "end = time.time()\n",
    "print(end-start)"
   ]
  },
  {
   "cell_type": "markdown",
   "metadata": {},
   "source": [
    "modin只用了0.75s，加快了2.1倍。"
   ]
  },
  {
   "cell_type": "markdown",
   "metadata": {},
   "source": [
    "\n",
    "\n",
    "### 运算速度\n",
    "pd.concat是用来连接多个dataframe的操作函数，当我们的df很大时，pd.concat就会变慢。我们在这里实验一下pandas和modin各自的速度"
   ]
  },
  {
   "cell_type": "code",
   "execution_count": 39,
   "metadata": {},
   "outputs": [
    {
     "name": "stdout",
     "output_type": "stream",
     "text": [
      "10.625022888183594\n"
     ]
    }
   ],
   "source": [
    "import time\n",
    "import pandas as pd\n",
    "\n",
    "df = pd.read_csv('data/test.csv')\n",
    "start = time.time()\n",
    "newdf = pd.concat([df for _ in range(100)])\n",
    "end = time.time()\n",
    "print(end-start)"
   ]
  },
  {
   "cell_type": "code",
   "execution_count": 6,
   "metadata": {},
   "outputs": [
    {
     "name": "stdout",
     "output_type": "stream",
     "text": [
      "0.7488729953765869\n"
     ]
    }
   ],
   "source": [
    "import time\n",
    "import modin.pandas as pd\n",
    "\n",
    "df = pd.read_csv('data/test.csv')\n",
    "start = time.time()\n",
    "newdf = pd.concat([df for _ in range(100)])\n",
    "end = time.time()\n",
    "print(end-start)"
   ]
  },
  {
   "cell_type": "markdown",
   "metadata": {},
   "source": [
    "同样的pd.concat操作，modin比pandas快了14倍。我又做了几个对比，制作成表格"
   ]
  },
  {
   "cell_type": "markdown",
   "metadata": {},
   "source": [
    "|操作|pandas时间|modin时间|提速倍数|\n",
    "|---|---|---|---|\n",
    "|pd.read_csv('train.csv')#195M的train.csv|2.58|1.02|2.53|\n",
    "|pd.concat(\\[df for _ in range(100)\\])|29.81|1.33|22|\n",
    "|\\[df.describe() for i in range(100)\\]|30.8|11.4|2.7|\n",
    "|\\[df.count() for i in range(100)\\]|64.16|11.02|5.8|\n"
   ]
  },
  {
   "cell_type": "markdown",
   "metadata": {},
   "source": [
    "### 实战技巧\n",
    "modin目前仍然正在发展中，并不是所有的pandas的函数都能加速。如果加速遇到报错，说明这个操作modin不支持。\n",
    "\n",
    "默认modin会调用电脑全部的cpu，如果不想全部调用，可以使用ray来限制cpu使用数。\n"
   ]
  },
  {
   "cell_type": "code",
   "execution_count": 4,
   "metadata": {},
   "outputs": [
    {
     "name": "stderr",
     "output_type": "stream",
     "text": [
      "2020-01-13 23:25:25,093\tERROR worker.py:1379 -- Calling ray.init() again after it has already been called.\n"
     ]
    }
   ],
   "source": [
    "import ray\n",
    "import warnings\n",
    "warnings.filterwarnings('ignore')\n",
    "ray.init(num_cpus=4, ignore_reinit_error=True)\n",
    "import modin.pandas as pd"
   ]
  },
  {
   "cell_type": "markdown",
   "metadata": {},
   "source": [
    "如果待操作的数据文件远大于电脑内存RAM，可以设置"
   ]
  },
  {
   "cell_type": "code",
   "execution_count": 7,
   "metadata": {},
   "outputs": [],
   "source": [
    "import os\n",
    "os.environ[\"MODIN_OUT_OF_CORE\"]='true'\n",
    "import modin.pandas as pd"
   ]
  }
 ],
 "metadata": {
  "kernelspec": {
   "display_name": "Python 3",
   "language": "python",
   "name": "python3"
  },
  "language_info": {
   "codemirror_mode": {
    "name": "ipython",
    "version": 3
   },
   "file_extension": ".py",
   "mimetype": "text/x-python",
   "name": "python",
   "nbconvert_exporter": "python",
   "pygments_lexer": "ipython3",
   "version": "3.7.4"
  },
  "toc": {
   "base_numbering": 1,
   "nav_menu": {},
   "number_sections": true,
   "sideBar": true,
   "skip_h1_title": false,
   "title_cell": "Table of Contents",
   "title_sidebar": "Contents",
   "toc_cell": false,
   "toc_position": {},
   "toc_section_display": true,
   "toc_window_display": false
  }
 },
 "nbformat": 4,
 "nbformat_minor": 2
}
