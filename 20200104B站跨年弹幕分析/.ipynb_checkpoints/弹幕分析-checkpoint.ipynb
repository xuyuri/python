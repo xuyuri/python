{
 "cells": [
  {
   "cell_type": "markdown",
   "metadata": {},
   "source": [
    "昨天刷B站看到B站跨年晚会9.9分好评，抱着试试的态度，结果控制不住自己刷了两遍，书到用时方恨少，只想用两个字概括\"卧槽\"。\n",
    "![](img/rating.png)\n",
    "![](img/2.png)\n",
    "B站内容安排精彩，拿捏住了不同年代的情怀点，比如1980-1990的港台风、1990-2000年代数码宝贝柯南、2000-2020年代魔兽世界，每个人的时代联结略有不同，这仅是我自己的感受。\n",
    "\n",
    "除了内容，弹幕互动也是挺令人舒爽的事情，精彩来临时刻也就是弹幕大军压镜的时候，我把我认为比较精彩的部分截图制作成了小视频。\n",
    "\n",
    "## 小视频\n",
    "\n",
    "这次我采集了跨年晚会的两种数据\n",
    "- 弹幕数据，正在观看时用户的感受\n",
    "- 评论数据，已观看完成的用户感受\n",
    "\n",
    "爬虫制作成视频教程已经上传至千聊课程中，感兴趣的同学可以关注一下\n",
    "\n",
    "### 弹幕分析\n",
    "B站晚会有三个篇章，每个篇章视频长度大约60-70min。我们采集的数据集字段包括：\n",
    "- Date：采集时间2019.01.03,所以有三天的弹幕\n",
    "- Chapter: 第几个篇章，B站跨年有三个篇章，每个篇章60min左右\n",
    "- VideoTime: 在Chapter中的当前播放时间（相对于篇章开头的秒数）\n",
    "- SenderId: 弹幕发送者的匿名ID\n",
    "- DanMuContent: 弹幕文本内容"
   ]
  },
  {
   "cell_type": "code",
   "execution_count": 29,
   "metadata": {},
   "outputs": [
    {
     "data": {
      "text/html": [
       "<div>\n",
       "<style scoped>\n",
       "    .dataframe tbody tr th:only-of-type {\n",
       "        vertical-align: middle;\n",
       "    }\n",
       "\n",
       "    .dataframe tbody tr th {\n",
       "        vertical-align: top;\n",
       "    }\n",
       "\n",
       "    .dataframe thead th {\n",
       "        text-align: right;\n",
       "    }\n",
       "</style>\n",
       "<table border=\"1\" class=\"dataframe\">\n",
       "  <thead>\n",
       "    <tr style=\"text-align: right;\">\n",
       "      <th></th>\n",
       "      <th>Date</th>\n",
       "      <th>Chapter</th>\n",
       "      <th>VideoTime</th>\n",
       "      <th>SenderId</th>\n",
       "      <th>DanMuContent</th>\n",
       "    </tr>\n",
       "  </thead>\n",
       "  <tbody>\n",
       "    <tr>\n",
       "      <th>0</th>\n",
       "      <td>2020-01-01</td>\n",
       "      <td>1</td>\n",
       "      <td>3547.54100</td>\n",
       "      <td>ee7c0146</td>\n",
       "      <td>我不管你们的嘲笑了，我祖安人请求出战！</td>\n",
       "    </tr>\n",
       "    <tr>\n",
       "      <th>1</th>\n",
       "      <td>2020-01-01</td>\n",
       "      <td>1</td>\n",
       "      <td>3228.31800</td>\n",
       "      <td>f89a8128</td>\n",
       "      <td>就冲这一首</td>\n",
       "    </tr>\n",
       "    <tr>\n",
       "      <th>2</th>\n",
       "      <td>2020-01-01</td>\n",
       "      <td>1</td>\n",
       "      <td>1676.28600</td>\n",
       "      <td>c08912dd</td>\n",
       "      <td>大过年的提什么青霉素啊</td>\n",
       "    </tr>\n",
       "    <tr>\n",
       "      <th>3</th>\n",
       "      <td>2020-01-01</td>\n",
       "      <td>1</td>\n",
       "      <td>2822.63000</td>\n",
       "      <td>91fc2f45</td>\n",
       "      <td>啊啊啊啊啊啊啊啊啊啊啊啊啊</td>\n",
       "    </tr>\n",
       "    <tr>\n",
       "      <th>4</th>\n",
       "      <td>2020-01-01</td>\n",
       "      <td>1</td>\n",
       "      <td>3397.16200</td>\n",
       "      <td>ccde1dd6</td>\n",
       "      <td>哇~</td>\n",
       "    </tr>\n",
       "  </tbody>\n",
       "</table>\n",
       "</div>"
      ],
      "text/plain": [
       "         Date Chapter   VideoTime  SenderId         DanMuContent\n",
       "0  2020-01-01       1  3547.54100  ee7c0146  我不管你们的嘲笑了，我祖安人请求出战！\n",
       "1  2020-01-01       1  3228.31800  f89a8128                就冲这一首\n",
       "2  2020-01-01       1  1676.28600  c08912dd          大过年的提什么青霉素啊\n",
       "3  2020-01-01       1  2822.63000  91fc2f45        啊啊啊啊啊啊啊啊啊啊啊啊啊\n",
       "4  2020-01-01       1  3397.16200  ccde1dd6                   哇~"
      ]
     },
     "execution_count": 29,
     "metadata": {},
     "output_type": "execute_result"
    }
   ],
   "source": [
    "import pandas as pd\n",
    "\n",
    "df = pd.read_csv('data/弹幕.csv', encoding='gbk')\n",
    "#剔去重复项\n",
    "df.drop_duplicates(inplace=True)\n",
    "#显示前5行\n",
    "df.head()"
   ]
  },
  {
   "cell_type": "markdown",
   "metadata": {},
   "source": [
    "我们想看一下各个章节在时间上弹幕量的分布情况(以min为单位),\n",
    "- 横坐标为分钟刻度\n",
    "- 纵坐标为弹幕量\n",
    "注意跨年有三个篇章，我们需要将三个篇章按照**一个时间线** 。\n",
    "\n",
    "再将VideoTime变为**整数分钟**，然后**从小到大排序**，相当于是**时间从开头到结尾**。\n",
    "\n"
   ]
  },
  {
   "cell_type": "code",
   "execution_count": 31,
   "metadata": {},
   "outputs": [
    {
     "name": "stdout",
     "output_type": "stream",
     "text": [
      "Chapter 1 997.52700\n",
      "Chapter 2 996.05000\n",
      "Chapter 3 988.09400\n"
     ]
    }
   ],
   "source": [
    "print('Chapter 1', df[df['Chapter']=='1']['VideoTime'].max())\n",
    "print('Chapter 2', df[df['Chapter']=='2']['VideoTime'].max())\n",
    "print('Chapter 3', df[df['Chapter']=='3']['VideoTime'].max())"
   ]
  },
  {
   "cell_type": "code",
   "execution_count": 26,
   "metadata": {},
   "outputs": [
    {
     "data": {
      "text/html": [
       "<div>\n",
       "<style scoped>\n",
       "    .dataframe tbody tr th:only-of-type {\n",
       "        vertical-align: middle;\n",
       "    }\n",
       "\n",
       "    .dataframe tbody tr th {\n",
       "        vertical-align: top;\n",
       "    }\n",
       "\n",
       "    .dataframe thead th {\n",
       "        text-align: right;\n",
       "    }\n",
       "</style>\n",
       "<table border=\"1\" class=\"dataframe\">\n",
       "  <thead>\n",
       "    <tr style=\"text-align: right;\">\n",
       "      <th></th>\n",
       "      <th>Date</th>\n",
       "      <th>Chapter</th>\n",
       "      <th>VideoTime</th>\n",
       "      <th>SenderId</th>\n",
       "      <th>DanMuContent</th>\n",
       "    </tr>\n",
       "  </thead>\n",
       "  <tbody>\n",
       "    <tr>\n",
       "      <th>1669</th>\n",
       "      <td>2020-01-03</td>\n",
       "      <td>1</td>\n",
       "      <td>0</td>\n",
       "      <td>c500d984</td>\n",
       "      <td>上班摸鱼吗</td>\n",
       "    </tr>\n",
       "    <tr>\n",
       "      <th>3235</th>\n",
       "      <td>2020-01-01</td>\n",
       "      <td>3</td>\n",
       "      <td>0</td>\n",
       "      <td>9ceee4fb</td>\n",
       "      <td>集体戴帽子可爱</td>\n",
       "    </tr>\n",
       "    <tr>\n",
       "      <th>2442</th>\n",
       "      <td>2020-01-03</td>\n",
       "      <td>2</td>\n",
       "      <td>0</td>\n",
       "      <td>61900459</td>\n",
       "      <td>教主排面</td>\n",
       "    </tr>\n",
       "    <tr>\n",
       "      <th>3233</th>\n",
       "      <td>2020-01-01</td>\n",
       "      <td>3</td>\n",
       "      <td>0</td>\n",
       "      <td>aeab0e5e</td>\n",
       "      <td>这神仙阵容……排面也太</td>\n",
       "    </tr>\n",
       "    <tr>\n",
       "      <th>429</th>\n",
       "      <td>2020-01-02</td>\n",
       "      <td>1</td>\n",
       "      <td>0</td>\n",
       "      <td>72803286</td>\n",
       "      <td>补课！棒</td>\n",
       "    </tr>\n",
       "  </tbody>\n",
       "</table>\n",
       "</div>"
      ],
      "text/plain": [
       "            Date Chapter  VideoTime  SenderId DanMuContent\n",
       "1669  2020-01-03       1          0  c500d984        上班摸鱼吗\n",
       "3235  2020-01-01       3          0  9ceee4fb      集体戴帽子可爱\n",
       "2442  2020-01-03       2          0  61900459         教主排面\n",
       "3233  2020-01-01       3          0  aeab0e5e  这神仙阵容……排面也太\n",
       "429   2020-01-02       1          0  72803286         补课！棒"
      ]
     },
     "execution_count": 26,
     "metadata": {},
     "output_type": "execute_result"
    }
   ],
   "source": [
    "def second2minute(second):\n",
    "    #将VideoTime从秒数变为分钟数\n",
    "    try:\n",
    "        return int(float(second)/60)\n",
    "    except:\n",
    "        return 0\n",
    "\n",
    "\n",
    "df['VideoTime'] = df['VideoTime'].apply(second2minute)\n",
    "df.sort_values(by='VideoTime', ascending=True, inplace=True)\n",
    "df.head()"
   ]
  },
  {
   "cell_type": "markdown",
   "metadata": {},
   "source": [
    "第0分钟是视频的开头，那么结尾应该"
   ]
  },
  {
   "cell_type": "code",
   "execution_count": 19,
   "metadata": {},
   "outputs": [
    {
     "data": {
      "text/html": [
       "<div>\n",
       "<style scoped>\n",
       "    .dataframe tbody tr th:only-of-type {\n",
       "        vertical-align: middle;\n",
       "    }\n",
       "\n",
       "    .dataframe tbody tr th {\n",
       "        vertical-align: top;\n",
       "    }\n",
       "\n",
       "    .dataframe thead th {\n",
       "        text-align: right;\n",
       "    }\n",
       "</style>\n",
       "<table border=\"1\" class=\"dataframe\">\n",
       "  <thead>\n",
       "    <tr style=\"text-align: right;\">\n",
       "      <th></th>\n",
       "      <th>Date</th>\n",
       "      <th>Chapter</th>\n",
       "      <th>VideoTime</th>\n",
       "      <th>SenderId</th>\n",
       "      <th>DanMuContent</th>\n",
       "    </tr>\n",
       "  </thead>\n",
       "  <tbody>\n",
       "    <tr>\n",
       "      <th>4343</th>\n",
       "      <td>2020-01-03</td>\n",
       "      <td>3</td>\n",
       "      <td>74</td>\n",
       "      <td>d312ce50</td>\n",
       "      <td>多谢款待~</td>\n",
       "    </tr>\n",
       "    <tr>\n",
       "      <th>4110</th>\n",
       "      <td>2020-01-03</td>\n",
       "      <td>3</td>\n",
       "      <td>74</td>\n",
       "      <td>99b1c0da</td>\n",
       "      <td>多谢款待!</td>\n",
       "    </tr>\n",
       "    <tr>\n",
       "      <th>3302</th>\n",
       "      <td>2020-01-01</td>\n",
       "      <td>3</td>\n",
       "      <td>75</td>\n",
       "      <td>6e2c95c0</td>\n",
       "      <td>各位，晚安了！</td>\n",
       "    </tr>\n",
       "    <tr>\n",
       "      <th>3232</th>\n",
       "      <td>2020-01-01</td>\n",
       "      <td>3</td>\n",
       "      <td>75</td>\n",
       "      <td>e3f64234</td>\n",
       "      <td>辛苦工作人员！哔哩哔哩干杯</td>\n",
       "    </tr>\n",
       "    <tr>\n",
       "      <th>3368</th>\n",
       "      <td>2020-01-01</td>\n",
       "      <td>3</td>\n",
       "      <td>75</td>\n",
       "      <td>dfeb7628</td>\n",
       "      <td>新年快乐！！</td>\n",
       "    </tr>\n",
       "  </tbody>\n",
       "</table>\n",
       "</div>"
      ],
      "text/plain": [
       "            Date Chapter  VideoTime  SenderId   DanMuContent\n",
       "4343  2020-01-03       3         74  d312ce50          多谢款待~\n",
       "4110  2020-01-03       3         74  99b1c0da          多谢款待!\n",
       "3302  2020-01-01       3         75  6e2c95c0        各位，晚安了！\n",
       "3232  2020-01-01       3         75  e3f64234  辛苦工作人员！哔哩哔哩干杯\n",
       "3368  2020-01-01       3         75  dfeb7628         新年快乐！！"
      ]
     },
     "execution_count": 19,
     "metadata": {},
     "output_type": "execute_result"
    }
   ],
   "source": [
    "df.tail()"
   ]
  },
  {
   "cell_type": "markdown",
   "metadata": {},
   "source": [
    "对的，结尾是第75分钟。说明上面的数据清洗实现了我们的设想。现在我们就要绘制弹幕分布了 "
   ]
  },
  {
   "cell_type": "code",
   "execution_count": null,
   "metadata": {},
   "outputs": [],
   "source": []
  }
 ],
 "metadata": {
  "kernelspec": {
   "display_name": "Python 3",
   "language": "python",
   "name": "python3"
  },
  "language_info": {
   "codemirror_mode": {
    "name": "ipython",
    "version": 3
   },
   "file_extension": ".py",
   "mimetype": "text/x-python",
   "name": "python",
   "nbconvert_exporter": "python",
   "pygments_lexer": "ipython3",
   "version": "3.7.4"
  },
  "toc": {
   "base_numbering": 1,
   "nav_menu": {},
   "number_sections": false,
   "sideBar": true,
   "skip_h1_title": false,
   "title_cell": "Table of Contents",
   "title_sidebar": "Contents",
   "toc_cell": false,
   "toc_position": {},
   "toc_section_display": true,
   "toc_window_display": true
  }
 },
 "nbformat": 4,
 "nbformat_minor": 2
}
