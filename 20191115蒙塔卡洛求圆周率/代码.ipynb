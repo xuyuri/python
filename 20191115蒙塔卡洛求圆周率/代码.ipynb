{
 "cells": [
  {
   "cell_type": "markdown",
   "metadata": {},
   "source": [
    "蒙特卡洛法（Monte Carlo method），也称统计模拟方法，是二十世纪四十年代中期由于科学技术的发展和电子计算机的发明，而被提出的一种以概率统计理论为指导的一类非常重要的数值计算方法。\n",
    "\n",
    "是指使用随机数（或更常见的伪随机数）来解决很多计算问题的方法,与它对应的是确定性算法。蒙特·卡罗方法在金融工程学，宏观经济学，计算物理学（如粒子输运计算、量子热力学计算、空气动力学计算）等领域应用广泛。\n",
    "\n",
    "**下面我们使用蒙特卡洛方法计算圆周率：**\n",
    "![](示意图.png)\n",
    "首先在一个x,y坐标系内，划分一个实际大小的正方形，以正方形点边长作为圆点直径做圆\n",
    "\n",
    "然后假定向这个正方形里面洒芝麻粒，\n",
    "\n",
    "计算落在圆内芝麻粒数量，和正方形里面的芝麻粒数量，然后根据数学关系即可计算出圆周率的值。\n",
    "\n",
    "自然地，撒点芝麻粒越多，得到的圆周率越接近与真实值。"
   ]
  },
  {
   "cell_type": "code",
   "execution_count": 19,
   "metadata": {},
   "outputs": [
    {
     "name": "stdout",
     "output_type": "stream",
     "text": [
      "4*圆形内芝麻数    正方形内芝麻数    圆周率pi    耗时(s)\n",
      "----------------  ----------------  ----------  ----------\n",
      "78                100               3.12        9.9544e-05\n",
      "782               1000              3.128       0.00116697\n",
      "7825              10000             3.13        0.00992664\n",
      "78520             100000            3.1408      0.0946946\n",
      "785163            1000000           3.14065     0.885821\n"
     ]
    }
   ],
   "source": [
    "import random\n",
    "import time\n",
    "import numpy as np\n",
    "from tabulate import tabulate\n",
    "\n",
    "\n",
    "result = []\n",
    "for i in range(2, 7):\n",
    "    start = time.perf_counter()\n",
    "    \n",
    "    \n",
    "    # 落入圆形内计数\n",
    "    circle_count = 0\n",
    "    # 往正方形中扔了 10 的 i 次方次\n",
    "    square_count = 10 ** i\n",
    "    for i in range(square_count):\n",
    "        x = random.uniform(-1, 1)\n",
    "        y = random.uniform(-1, 1)\n",
    "        # 落入了圆形点芝麻个数\n",
    "        if x**2 + y**2 < 1:\n",
    "            circle_count += 1\n",
    "    end = time.perf_counter()\n",
    "    pi = 4*circle_count/square_count\n",
    "    result.append([circle_count, square_count, pi, end-start])\n",
    "\n",
    "print(tabulate(result, \n",
    "               headers = ['4*圆形内芝麻数', '正方形内芝麻数', '圆周率pi', '耗时(s)'],\n",
    "               colalign =['left', 'left', 'left', 'left']))"
   ]
  }
 ],
 "metadata": {
  "anaconda-cloud": {},
  "kernelspec": {
   "display_name": "Python 3",
   "language": "python",
   "name": "python3"
  },
  "language_info": {
   "codemirror_mode": {
    "name": "ipython",
    "version": 3
   },
   "file_extension": ".py",
   "mimetype": "text/x-python",
   "name": "python",
   "nbconvert_exporter": "python",
   "pygments_lexer": "ipython3",
   "version": "3.7.4"
  },
  "toc": {
   "base_numbering": 1,
   "nav_menu": {},
   "number_sections": true,
   "sideBar": true,
   "skip_h1_title": false,
   "title_cell": "Table of Contents",
   "title_sidebar": "Contents",
   "toc_cell": false,
   "toc_position": {},
   "toc_section_display": true,
   "toc_window_display": false
  }
 },
 "nbformat": 4,
 "nbformat_minor": 1
}
