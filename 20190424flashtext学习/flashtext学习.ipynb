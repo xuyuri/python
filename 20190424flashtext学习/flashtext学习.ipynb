{
 "cells": [
  {
   "cell_type": "code",
   "execution_count": null,
   "metadata": {},
   "outputs": [],
   "source": []
  },
  {
   "cell_type": "markdown",
   "metadata": {},
   "source": [
    "做文本分析时候经常遇到同意多形词，如 ``Big Apple/New York/NN`` 都可能代指纽约市，当我们统计纽约市出现的次数的时候我们需要分别统计这三个词的数目并进行加总。\n",
    "\n",
    "flashtext对于处理上面的问题非常擅长，而且运算速度特别快。清洗数据的速度，我们可以拿正则表达式来和flashtext作比较\n",
    "![](img/速度.png)\n",
    "我们发现运行正则表达式来清洗数据，速度会随着数据量线性下降，而flashtext的清洗性能基本保持不变。\n",
    "## 一、安装\n",
    "\n",
    "```\n",
    "pip3 install flashtext\n",
    "```\n",
    "## 二、官方文档\n",
    "\n",
    "```\n",
    "https://flashtext.readthedocs.io/en/latest/\n",
    "```\n",
    "\n",
    "## 三、常用用法"
   ]
  },
  {
   "cell_type": "markdown",
   "metadata": {},
   "source": [
    "### 3.1 不清洗，直接提取关键词"
   ]
  },
  {
   "cell_type": "code",
   "execution_count": 23,
   "metadata": {},
   "outputs": [
    {
     "data": {
      "text/plain": [
       "['Big Apple', 'Bay Area']"
      ]
     },
     "execution_count": 23,
     "metadata": {},
     "output_type": "execute_result"
    }
   ],
   "source": [
    "from flashtext import KeywordProcessor\n",
    "keyword_processor = KeywordProcessor()\n",
    "keyword_processor.add_keyword('Big Apple')\n",
    "keyword_processor.add_keyword('Bay Area')\n",
    "keywords_found = keyword_processor.extract_keywords('I love big Apple and Bay Area.')\n",
    "keywords_found"
   ]
  },
  {
   "cell_type": "markdown",
   "metadata": {},
   "source": [
    "### 3.2 同义词指代，抽取关键词\n",
    "像big apple 和new york都代指纽约，我们需要先清洗好数据，统一用一个词语代指纽约，再去抽取关键词语。这就用到 add_keyword方法。"
   ]
  },
  {
   "cell_type": "code",
   "execution_count": 11,
   "metadata": {},
   "outputs": [
    {
     "data": {
      "text/plain": [
       "['New York', 'Bay Area']"
      ]
     },
     "execution_count": 11,
     "metadata": {},
     "output_type": "execute_result"
    }
   ],
   "source": [
    "from flashtext import KeywordProcessor\n",
    "kw_processor = KeywordProcessor()\n",
    "#给关键词处理器对象中加入待识别的关键词\n",
    "kw_processor.add_keyword('Big Apple', 'New York')\n",
    "kw_processor.add_keyword('Bay Area')\n",
    "#对文本数据进行关键词提取\n",
    "kws_found = kw_processor.extract_keywords('I love Big Apple and Bay Area.')\n",
    "kws_found"
   ]
  },
  {
   "cell_type": "markdown",
   "metadata": {},
   "source": [
    "### 3.3 多个同义词指代\n",
    "如果同义词太多，可以用字典构建映射关系。使用到的方法是add_keywords_from_dict"
   ]
  },
  {
   "cell_type": "code",
   "execution_count": 12,
   "metadata": {},
   "outputs": [
    {
     "data": {
      "text/plain": [
       "['product management', 'java', 'python']"
      ]
     },
     "execution_count": 12,
     "metadata": {},
     "output_type": "execute_result"
    }
   ],
   "source": [
    "from flashtext import KeywordProcessor\n",
    "keyword_processor = KeywordProcessor()\n",
    "keyword_dict = {\"java\": [\"java_2e\", \"java programing\"],\n",
    "                \"product management\": [\"PM\", \"product manager\"]}\n",
    "#从字典中加入映射关系\n",
    "keyword_processor.add_keywords_from_dict(keyword_dict)\n",
    "#从列表中加入关键词\n",
    "keyword_processor.add_keywords_from_list([\"java\", \"python\"])\n",
    "keyword_processor.extract_keywords('I am a product manager for a java_2e and python platform')\n"
   ]
  },
  {
   "cell_type": "markdown",
   "metadata": {},
   "source": [
    "### 3.4 移除关键词\n",
    "有的时候我们可能加错了关键词，想去除之前添加的关键词。这就用到remove_keyword/remove_keywords/remove_keywords_from_dict/remove_keywords_from_list"
   ]
  },
  {
   "cell_type": "code",
   "execution_count": 13,
   "metadata": {},
   "outputs": [
    {
     "name": "stdout",
     "output_type": "stream",
     "text": [
      "['product management', 'java']\n"
     ]
    },
    {
     "data": {
      "text/plain": [
       "['product management']"
      ]
     },
     "execution_count": 13,
     "metadata": {},
     "output_type": "execute_result"
    }
   ],
   "source": [
    "from flashtext import KeywordProcessor\n",
    "keyword_processor = KeywordProcessor()\n",
    "keyword_dict = {\n",
    "    \"java\": [\"java_2e\", \"java programing\"],\n",
    "    \"product management\": [\"PM\", \"product manager\"]}\n",
    "keyword_processor.add_keywords_from_dict(keyword_dict)\n",
    "print(keyword_processor.extract_keywords('I am a product manager for a java_2e platform'))\n",
    "\n",
    "keyword_processor.remove_keyword('java_2e')\n",
    "\n",
    "keyword_processor.remove_keywords_from_dict({\"product management\": [\"PM\"]})\n",
    "keyword_processor.remove_keywords_from_list([\"java programing\"])\n",
    "keyword_processor.extract_keywords('I am a product manager for a java_2e platform')"
   ]
  },
  {
   "cell_type": "markdown",
   "metadata": {},
   "source": [
    "### 3.5 关键词个数\n",
    "查看自定义的关键词个数"
   ]
  },
  {
   "cell_type": "code",
   "execution_count": 15,
   "metadata": {},
   "outputs": [
    {
     "name": "stdout",
     "output_type": "stream",
     "text": [
      "4\n"
     ]
    }
   ],
   "source": [
    "from flashtext import KeywordProcessor\n",
    "keyword_processor = KeywordProcessor()\n",
    "keyword_dict = {\n",
    "    \"java\": [\"java_2e\", \"java programing\"],\n",
    "    \"product management\": [\"PM\", \"product manager\"]\n",
    "}\n",
    "keyword_processor.add_keywords_from_dict(keyword_dict)\n",
    "print(len(keyword_processor))"
   ]
  },
  {
   "cell_type": "markdown",
   "metadata": {},
   "source": [
    "### 3.6 判断某个词是否存在于关键词处理器中"
   ]
  },
  {
   "cell_type": "code",
   "execution_count": 17,
   "metadata": {},
   "outputs": [
    {
     "name": "stdout",
     "output_type": "stream",
     "text": [
      "True\n"
     ]
    }
   ],
   "source": [
    "from flashtext import KeywordProcessor\n",
    "keyword_processor = KeywordProcessor()\n",
    "keyword_processor.add_keyword('j2ee', 'Java')\n",
    "print('j2ee' in keyword_processor)"
   ]
  },
  {
   "cell_type": "code",
   "execution_count": 21,
   "metadata": {},
   "outputs": [
    {
     "name": "stdout",
     "output_type": "stream",
     "text": [
      "Java\n",
      "None\n"
     ]
    }
   ],
   "source": [
    "print(keyword_processor.get_keyword('j2ee'))\n",
    "print(keyword_processor.get_keyword('Java'))"
   ]
  },
  {
   "cell_type": "code",
   "execution_count": 19,
   "metadata": {},
   "outputs": [
    {
     "name": "stdout",
     "output_type": "stream",
     "text": [
      "color\n"
     ]
    }
   ],
   "source": [
    "keyword_processor['colour'] = 'color'\n",
    "print(keyword_processor['colour'])"
   ]
  },
  {
   "cell_type": "markdown",
   "metadata": {},
   "source": [
    "### 3.7 获取关键词映射关系"
   ]
  },
  {
   "cell_type": "code",
   "execution_count": 22,
   "metadata": {},
   "outputs": [
    {
     "data": {
      "text/plain": [
       "{'j2ee': 'Java', 'colour': 'color'}"
      ]
     },
     "execution_count": 22,
     "metadata": {},
     "output_type": "execute_result"
    }
   ],
   "source": [
    "from flashtext import KeywordProcessor\n",
    "keyword_processor = KeywordProcessor()\n",
    "keyword_processor.add_keyword('j2ee', 'Java')\n",
    "keyword_processor.add_keyword('colour', 'color')\n",
    "keyword_processor.get_all_keywords()"
   ]
  },
  {
   "cell_type": "markdown",
   "metadata": {},
   "source": [
    "### 3.8 替换关键词"
   ]
  },
  {
   "cell_type": "code",
   "execution_count": 5,
   "metadata": {},
   "outputs": [
    {
     "data": {
      "text/plain": [
       "'I love New York and NCR region.'"
      ]
     },
     "execution_count": 5,
     "metadata": {},
     "output_type": "execute_result"
    }
   ],
   "source": [
    "from flashtext import KeywordProcessor\n",
    "kw_processor2 = KeywordProcessor()\n",
    "# 给关键词处理器对象中加入待识别的关键词\n",
    "kw_processor2.add_keyword('New Delhi', 'NCR region')\n",
    "kw_processor2.add_keyword('Big Apple','New York')  # 注意顺序\n",
    "#对文本数据进行关键词替换\n",
    "new_sentence = kw_processor2.replace_keywords('I love Big Apple and new delhi.')\n",
    "new_sentence"
   ]
  },
  {
   "cell_type": "markdown",
   "metadata": {},
   "source": [
    "### 3.9 关键词的位置\n",
    "flashtext还能计算待考察词语的开始与结束的索引值"
   ]
  },
  {
   "cell_type": "code",
   "execution_count": 6,
   "metadata": {},
   "outputs": [
    {
     "data": {
      "text/plain": [
       "[('New York', 7, 16), ('Bay Area', 21, 29)]"
      ]
     },
     "execution_count": 6,
     "metadata": {},
     "output_type": "execute_result"
    }
   ],
   "source": [
    "from flashtext import KeywordProcessor\n",
    "keyword_processor = KeywordProcessor()\n",
    "keyword_processor.add_keyword('Big Apple', 'New York')\n",
    "keyword_processor.add_keyword('Bay Area')\n",
    "keywords_found = keyword_processor.extract_keywords('I love big Apple and Bay Area.', span_info=True)\n",
    "keywords_found"
   ]
  },
  {
   "cell_type": "markdown",
   "metadata": {},
   "source": [
    "### 3.10 额外的信息\n",
    "根据关键词，还能抽取一些额外的信息，如时间、位置等。但这些功能在中文中可能不太适用，英文问题不大。"
   ]
  },
  {
   "cell_type": "code",
   "execution_count": 7,
   "metadata": {},
   "outputs": [
    {
     "data": {
      "text/plain": [
       "[('Monument', 'Taj Mahal'), ('Location', 'Delhi')]"
      ]
     },
     "execution_count": 7,
     "metadata": {},
     "output_type": "execute_result"
    }
   ],
   "source": [
    "from flashtext import KeywordProcessor\n",
    "kp = KeywordProcessor()\n",
    "kp.add_keyword('Taj Mahal', ('Monument', 'Taj Mahal'))\n",
    "kp.add_keyword('Delhi', ('Location', 'Delhi'))\n",
    "kp.extract_keywords('Taj Mahal is in Delhi.')"
   ]
  }
 ],
 "metadata": {
  "kernelspec": {
   "display_name": "Python 3",
   "language": "python",
   "name": "python3"
  },
  "language_info": {
   "codemirror_mode": {
    "name": "ipython",
    "version": 3
   },
   "file_extension": ".py",
   "mimetype": "text/x-python",
   "name": "python",
   "nbconvert_exporter": "python",
   "pygments_lexer": "ipython3",
   "version": "3.7.2"
  }
 },
 "nbformat": 4,
 "nbformat_minor": 2
}
