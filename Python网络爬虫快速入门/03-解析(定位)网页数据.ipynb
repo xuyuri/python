{
 "cells": [
  {
   "cell_type": "markdown",
   "metadata": {
    "toc": true
   },
   "source": [
    "<h1>Table of Contents<span class=\"tocSkip\"></span></h1>\n",
    "<div class=\"toc\"><ul class=\"toc-item\"><li><span><a href=\"#视频讲解链接\" data-toc-modified-id=\"视频讲解链接-1\"><span class=\"toc-item-num\">1&nbsp;&nbsp;</span>视频讲解链接</a></span></li><li><span><a href=\"#解析(定位)网页数据\" data-toc-modified-id=\"解析(定位)网页数据-2\"><span class=\"toc-item-num\">2&nbsp;&nbsp;</span>解析(定位)网页数据</a></span></li><li><span><a href=\"#html文件示例\" data-toc-modified-id=\"html文件示例-3\"><span class=\"toc-item-num\">3&nbsp;&nbsp;</span>html文件示例</a></span></li><li><span><a href=\"#PyQuery解析定位库\" data-toc-modified-id=\"PyQuery解析定位库-4\"><span class=\"toc-item-num\">4&nbsp;&nbsp;</span>PyQuery解析定位库</a></span><ul class=\"toc-item\"><li><span><a href=\"#安装\" data-toc-modified-id=\"安装-4.1\"><span class=\"toc-item-num\">4.1&nbsp;&nbsp;</span>安装</a></span></li><li><span><a href=\"#初始化为PyQuery对象\" data-toc-modified-id=\"初始化为PyQuery对象-4.2\"><span class=\"toc-item-num\">4.2&nbsp;&nbsp;</span>初始化为PyQuery对象</a></span></li><li><span><a href=\"#常用的CCS选择器【重点】\" data-toc-modified-id=\"常用的CCS选择器【重点】-4.3\"><span class=\"toc-item-num\">4.3&nbsp;&nbsp;</span>常用的CCS选择器【重点】</a></span><ul class=\"toc-item\"><li><span><a href=\"#定位id为container的标签\" data-toc-modified-id=\"定位id为container的标签-4.3.1\"><span class=\"toc-item-num\">4.3.1&nbsp;&nbsp;</span>定位id为container的标签</a></span></li><li><span><a href=\"#定位class为object-1的标签\" data-toc-modified-id=\"定位class为object-1的标签-4.3.2\"><span class=\"toc-item-num\">4.3.2&nbsp;&nbsp;</span>定位class为object-1的标签</a></span></li><li><span><a href=\"#定位标签名为body的标签\" data-toc-modified-id=\"定位标签名为body的标签-4.3.3\"><span class=\"toc-item-num\">4.3.3&nbsp;&nbsp;</span>定位标签名为body的标签</a></span></li><li><span><a href=\"#多种css选择器使用\" data-toc-modified-id=\"多种css选择器使用-4.3.4\"><span class=\"toc-item-num\">4.3.4&nbsp;&nbsp;</span>多种css选择器使用</a></span></li></ul></li><li><span><a href=\"#伪类选择器【了解】\" data-toc-modified-id=\"伪类选择器【了解】-4.4\"><span class=\"toc-item-num\">4.4&nbsp;&nbsp;</span>伪类选择器【了解】</a></span><ul class=\"toc-item\"><li><span><a href=\"#伪类nth\" data-toc-modified-id=\"伪类nth-4.4.1\"><span class=\"toc-item-num\">4.4.1&nbsp;&nbsp;</span>伪类nth</a></span></li><li><span><a href=\"#contains\" data-toc-modified-id=\"contains-4.4.2\"><span class=\"toc-item-num\">4.4.2&nbsp;&nbsp;</span>contains</a></span></li></ul></li><li><span><a href=\"#查找标签【重点】\" data-toc-modified-id=\"查找标签【重点】-4.5\"><span class=\"toc-item-num\">4.5&nbsp;&nbsp;</span>查找标签【重点】</a></span><ul class=\"toc-item\"><li><span><a href=\"#PyQuery.item(selector)\" data-toc-modified-id=\"PyQuery.item(selector)-4.5.1\"><span class=\"toc-item-num\">4.5.1&nbsp;&nbsp;</span>PyQuery.item(selector)</a></span></li><li><span><a href=\"#PyQuery.text()\" data-toc-modified-id=\"PyQuery.text()-4.5.2\"><span class=\"toc-item-num\">4.5.2&nbsp;&nbsp;</span>PyQuery.text()</a></span></li><li><span><a href=\"#PyQuery.attr(属性名)\" data-toc-modified-id=\"PyQuery.attr(属性名)-4.5.3\"><span class=\"toc-item-num\">4.5.3&nbsp;&nbsp;</span>PyQuery.attr(属性名)</a></span></li><li><span><a href=\"#PyQuery.find(selector)\" data-toc-modified-id=\"PyQuery.find(selector)-4.5.4\"><span class=\"toc-item-num\">4.5.4&nbsp;&nbsp;</span>PyQuery.find(selector)</a></span></li><li><span><a href=\"#PyQuery.contents()\" data-toc-modified-id=\"PyQuery.contents()-4.5.5\"><span class=\"toc-item-num\">4.5.5&nbsp;&nbsp;</span>PyQuery.contents()</a></span></li><li><span><a href=\"#PyQuery.eq(index)\" data-toc-modified-id=\"PyQuery.eq(index)-4.5.6\"><span class=\"toc-item-num\">4.5.6&nbsp;&nbsp;</span>PyQuery.eq(index)</a></span></li></ul></li></ul></li><li><span><a href=\"#数据存储\" data-toc-modified-id=\"数据存储-5\"><span class=\"toc-item-num\">5&nbsp;&nbsp;</span>数据存储</a></span><ul class=\"toc-item\"><li><span><a href=\"#存储到txt\" data-toc-modified-id=\"存储到txt-5.1\"><span class=\"toc-item-num\">5.1&nbsp;&nbsp;</span>存储到txt</a></span></li><li><span><a href=\"#存入csv\" data-toc-modified-id=\"存入csv-5.2\"><span class=\"toc-item-num\">5.2&nbsp;&nbsp;</span>存入csv</a></span></li></ul></li></ul></div>"
   ]
  },
  {
   "cell_type": "markdown",
   "metadata": {},
   "source": [
    "# 视频讲解链接 \n",
    "https://www.bilibili.com/video/av72010301/?p=4\n",
    "\n",
    "# 解析(定位)网页数据\n",
    "将需要的data从网页中提取出来，常用的库有：\n",
    "- pyquery库\n",
    "- re库\n",
    "- json库\n",
    "\n",
    "\n",
    "html就像家族树，有层级结构\n",
    "![](img/家族树.jpeg)"
   ]
  },
  {
   "cell_type": "markdown",
   "metadata": {},
   "source": [
    "# html文件示例\n",
    "\n",
    "[**data/测试网页.html**](data/测试网页.html)"
   ]
  },
  {
   "cell_type": "markdown",
   "metadata": {},
   "source": [
    "# PyQuery解析定位库\n",
    "pyquery库是jQuery的Python实现，能够以jQuery的语法来操作解析 HTML 文档，易用性和解析速度都很好。\n",
    "\n",
    ">父母子女节点都能以相似的性状表现，方便我们定位数据。 \n",
    "\n",
    "PyQuery库官方文档  https://pythonhosted.org/pyquery/index.html\n",
    "\n",
    "\n",
    "\n",
    "## 安装\n",
    "\n",
    "命令行安装方法\n",
    "```\n",
    "pip3 install pyquery\n",
    "```\n",
    "\n",
    "notebook安装方法\n",
    "\n"
   ]
  },
  {
   "cell_type": "code",
   "execution_count": null,
   "metadata": {},
   "outputs": [],
   "source": [
    "!pip3 install pyquery"
   ]
  },
  {
   "cell_type": "markdown",
   "metadata": {},
   "source": [
    "\n",
    "\n",
    "本文章节：\n",
    "\n",
    "1. 初始化为PyQuery对象\n",
    "2. 常用的CCS选择器\n",
    "3. 伪类选择器\n",
    "4. 查找标签\n",
    "5. 获取标签信息\n",
    "6. 高级方法\n",
    "\n",
    "## 初始化为PyQuery对象"
   ]
  },
  {
   "cell_type": "code",
   "execution_count": 2,
   "metadata": {},
   "outputs": [
    {
     "data": {
      "text/plain": [
       "'\\n<html lang=\"en\">\\n    <head>\\n        简单好用的\\n        <title>PyQuery</title>\\n    </head>\\n    <body>\\n        <ul id=\"container\">\\n            <li class=\"object-1\" title=\"编程语言\">Python</li>\\n            <li class=\"object-2\" title=\"夸张的编程语言\">大法</li>\\n            <li class=\"object-3\" title=\"评价\">好</li>\\n        </ul>\\n    </body>\\n</html>\\n'"
      ]
     },
     "execution_count": 2,
     "metadata": {},
     "output_type": "execute_result"
    }
   ],
   "source": [
    "html_string = \"\"\"\n",
    "<html lang=\"en\">\n",
    "    <head>\n",
    "        简单好用的\n",
    "        <title>PyQuery</title>\n",
    "    </head>\n",
    "    <body>\n",
    "        <ul id=\"container\">\n",
    "            <li class=\"object-1\" title=\"编程语言\">Python</li>\n",
    "            <li class=\"object-2\" title=\"夸张的编程语言\">大法</li>\n",
    "            <li class=\"object-3\" title=\"评价\">好</li>\n",
    "        </ul>\n",
    "    </body>\n",
    "</html>\n",
    "\"\"\"\n",
    "\n",
    "html_string"
   ]
  },
  {
   "cell_type": "code",
   "execution_count": 3,
   "metadata": {},
   "outputs": [
    {
     "name": "stdout",
     "output_type": "stream",
     "text": [
      "<class 'pyquery.pyquery.PyQuery'>\n",
      "<html lang=\"en\">\n",
      "    <head>\n",
      "        简单好用的\n",
      "        <title>PyQuery</title>\n",
      "    </head>\n",
      "    <body>\n",
      "        <ul id=\"container\">\n",
      "            <li class=\"object-1\" title=\"编程语言\">Python</li>\n",
      "            <li class=\"object-2\" title=\"夸张的编程语言\">大法</li>\n",
      "            <li class=\"object-3\" title=\"评价\">好</li>\n",
      "        </ul>\n",
      "    </body>\n",
      "</html>\n"
     ]
    }
   ],
   "source": [
    "from pyquery import PyQuery \n",
    "\n",
    "#初始化为PyQuery对象。这里请先用手机拍照，方便后面理解\n",
    "doc = PyQuery(html_string)\n",
    "print(type(doc))\n",
    "print(doc)"
   ]
  },
  {
   "cell_type": "markdown",
   "metadata": {},
   "source": [
    "## 常用的CCS选择器【重点】\n",
    "为了定位html中对应的节点及其属性和含有的信息，我们需要使用选择器。\n",
    "\n",
    "\n",
    "\n",
    "|css选择器|例子|解释|\n",
    "|---|---|---|\n",
    "|``class属性``|``.intro``|选出``class=\"intro\"``的节点|\n",
    "|``id属性``|``#firstname``|选出``id=\"firstname\"``的节点|\n",
    "|节点名|p|选出所有p标签的节点|\n",
    "|多层节点名|``div p``|选出div节点后辈p的所有节点|\n",
    "|``节点到属性``|``div[target]``|选出带有 target 属性所有div节点|\n",
    "|``节点名属性及属性值``|``div[target=_blank]``|选出所有div节点，其中div都带有 ``target=\"_blank\"`` 属性值|\n",
    "\n",
    "\n",
    "常用的css选择器主要有 .class  #id  节点名 这三种"
   ]
  },
  {
   "cell_type": "markdown",
   "metadata": {},
   "source": [
    "### 定位id为container的标签"
   ]
  },
  {
   "cell_type": "code",
   "execution_count": 4,
   "metadata": {},
   "outputs": [
    {
     "name": "stdout",
     "output_type": "stream",
     "text": [
      "<ul id=\"container\">\n",
      "            <li class=\"object-1\" title=\"编程语言\">Python</li>\n",
      "            <li class=\"object-2\" title=\"夸张的编程语言\">大法</li>\n",
      "            <li class=\"object-3\" title=\"评价\">好</li>\n",
      "        </ul>\n",
      "    \n"
     ]
    }
   ],
   "source": [
    "print(doc('#container'))"
   ]
  },
  {
   "cell_type": "code",
   "execution_count": 7,
   "metadata": {},
   "outputs": [
    {
     "name": "stdout",
     "output_type": "stream",
     "text": [
      "<class 'pyquery.pyquery.PyQuery'>\n"
     ]
    }
   ],
   "source": [
    "print(type(doc('#container')))"
   ]
  },
  {
   "cell_type": "markdown",
   "metadata": {},
   "source": [
    "### 定位class为object-1的标签"
   ]
  },
  {
   "cell_type": "code",
   "execution_count": 9,
   "metadata": {},
   "outputs": [
    {
     "name": "stdout",
     "output_type": "stream",
     "text": [
      "<li class=\"object-1\" title=\"&#x7F16;&#x7A0B;&#x8BED;&#x8A00;\">Python</li>\n",
      "            \n",
      "<class 'pyquery.pyquery.PyQuery'>\n"
     ]
    }
   ],
   "source": [
    "print(doc('.object-1'))\n",
    "print(type(doc('.object-1')))"
   ]
  },
  {
   "cell_type": "markdown",
   "metadata": {},
   "source": [
    "### 定位标签名为body的标签"
   ]
  },
  {
   "cell_type": "code",
   "execution_count": 10,
   "metadata": {},
   "outputs": [
    {
     "name": "stdout",
     "output_type": "stream",
     "text": [
      "<body>\n",
      "        <ul id=\"container\">\n",
      "            <li class=\"object-1\" title=\"编程语言\">Python</li>\n",
      "            <li class=\"object-2\" title=\"夸张的编程语言\">大法</li>\n",
      "            <li class=\"object-3\" title=\"评价\">好</li>\n",
      "        </ul>\n",
      "    </body>\n",
      "\n",
      "<class 'pyquery.pyquery.PyQuery'>\n"
     ]
    }
   ],
   "source": [
    "print(doc('body'))\n",
    "print(type(doc('body')))"
   ]
  },
  {
   "cell_type": "markdown",
   "metadata": {},
   "source": [
    "### 多种css选择器使用\n",
    "选出ul节点，有很多种表达方式。\n",
    "\n",
    "比如ul节点（该ul节点中的属性键值对为id=container）\n",
    "\n",
    "这样子到条件更严格，定位会更精细"
   ]
  },
  {
   "cell_type": "code",
   "execution_count": 11,
   "metadata": {},
   "outputs": [
    {
     "name": "stdout",
     "output_type": "stream",
     "text": [
      "<ul id=\"container\">\n",
      "            <li class=\"object-1\" title=\"编程语言\">Python</li>\n",
      "            <li class=\"object-2\" title=\"夸张的编程语言\">大法</li>\n",
      "            <li class=\"object-3\" title=\"评价\">好</li>\n",
      "        </ul>\n",
      "    \n"
     ]
    }
   ],
   "source": [
    "print(doc(\"ul[id=container]\"))"
   ]
  },
  {
   "cell_type": "code",
   "execution_count": 13,
   "metadata": {},
   "outputs": [
    {
     "name": "stdout",
     "output_type": "stream",
     "text": [
      "<ul id=\"container\">\n",
      "            <li class=\"object-1\" title=\"编程语言\">Python</li>\n",
      "            <li class=\"object-2\" title=\"夸张的编程语言\">大法</li>\n",
      "            <li class=\"object-3\" title=\"评价\">好</li>\n",
      "        </ul>\n",
      "    \n"
     ]
    }
   ],
   "source": [
    "print(doc('html body ul'))"
   ]
  },
  {
   "cell_type": "code",
   "execution_count": 14,
   "metadata": {},
   "outputs": [
    {
     "name": "stdout",
     "output_type": "stream",
     "text": [
      "<ul id=\"container\">\n",
      "            <li class=\"object-1\" title=\"编程语言\">Python</li>\n",
      "            <li class=\"object-2\" title=\"夸张的编程语言\">大法</li>\n",
      "            <li class=\"object-3\" title=\"评价\">好</li>\n",
      "        </ul>\n",
      "    \n"
     ]
    }
   ],
   "source": [
    "print(doc('html ul'))"
   ]
  },
  {
   "cell_type": "code",
   "execution_count": 15,
   "metadata": {},
   "outputs": [
    {
     "name": "stdout",
     "output_type": "stream",
     "text": [
      "<ul id=\"container\">\n",
      "            <li class=\"object-1\" title=\"编程语言\">Python</li>\n",
      "            <li class=\"object-2\" title=\"夸张的编程语言\">大法</li>\n",
      "            <li class=\"object-3\" title=\"评价\">好</li>\n",
      "        </ul>\n",
      "    \n"
     ]
    }
   ],
   "source": [
    "print(doc('html #container'))"
   ]
  },
  {
   "cell_type": "markdown",
   "metadata": {},
   "source": [
    "## 伪类选择器【了解】\n",
    "极少数情况下，css选择器还是无法对我们需要的数据进行定位，我们还需要使用伪类选择器。\n",
    "\n",
    "|css选择器|例子|解释|\n",
    "|---|---|---|\n",
    "|``:nth-child(n)``|``p:nth-child(2)``|找到第二个p节点标签|\n",
    "|``:first-child``|``p:first-child``|找到第一个p节点标签|\n",
    "|``:last-child``|``p:last-child``|找到最后一个p标签|\n",
    "|``:gt(n)``|``p:gt(2)``|找到第二个以后标签|\n",
    "|``:lt(n)``|``p:lt(5)``|找到第5个以前标签|\n",
    "|``:contains()``|``p:contains('second')\t``|找到包含second文本的p标签\n",
    "\n",
    "\n",
    "这里只需要了解即可，不用太下功夫联系"
   ]
  },
  {
   "cell_type": "code",
   "execution_count": 17,
   "metadata": {},
   "outputs": [
    {
     "name": "stdout",
     "output_type": "stream",
     "text": [
      "<html lang=\"en\">\n",
      "    <head>\n",
      "        简单好用的\n",
      "        <title>PyQuery</title>\n",
      "    </head>\n",
      "    <body>\n",
      "        <ul id=\"container\">\n",
      "            <li class=\"object-1\" title=\"编程语言\">Python</li>\n",
      "            <li class=\"object-2\" title=\"夸张的编程语言\">大法</li>\n",
      "            <li class=\"object-3\" title=\"评价\">好</li>\n",
      "        </ul>\n",
      "    </body>\n",
      "</html>\n"
     ]
    }
   ],
   "source": [
    "pseudo_html  = \"\"\"\n",
    "<html lang=\"en\">\n",
    "    <head>\n",
    "        简单好用的\n",
    "        <title>PyQuery</title>\n",
    "    </head>\n",
    "    <body>\n",
    "        <ul id=\"container\">\n",
    "            <li class=\"object-1\" title=\"编程语言\">Python</li>\n",
    "            <li class=\"object-2\" title=\"夸张的编程语言\">大法</li>\n",
    "            <li class=\"object-3\" title=\"评价\">好</li>\n",
    "        </ul>\n",
    "    </body>\n",
    "</html>\n",
    "\"\"\"\n",
    "\n",
    "\n",
    "pseudo_doc = PyQuery(pseudo_html)\n",
    "print(pseudo_doc)"
   ]
  },
  {
   "cell_type": "markdown",
   "metadata": {},
   "source": [
    "### 伪类nth"
   ]
  },
  {
   "cell_type": "code",
   "execution_count": 29,
   "metadata": {},
   "outputs": [
    {
     "name": "stdout",
     "output_type": "stream",
     "text": [
      "<li class=\"object-1\" title=\"&#x7F16;&#x7A0B;&#x8BED;&#x8A00;\">Python</li>\n",
      "            \n",
      "<li class=\"object-3\" title=\"&#x8BC4;&#x4EF7;\">好</li>\n",
      "        \n"
     ]
    }
   ],
   "source": [
    "#打印第一个li标签\n",
    "print(pseudo_doc('li:first-child'))\n",
    "\n",
    "#打印最后一个标签\n",
    "print(pseudo_doc('li:last-child'))\n",
    "\n",
    "#print(pseudo_doc('li[class=\"object-2\"]:nth-child(2)'))"
   ]
  },
  {
   "cell_type": "markdown",
   "metadata": {},
   "source": [
    "### contains"
   ]
  },
  {
   "cell_type": "code",
   "execution_count": 28,
   "metadata": {},
   "outputs": [
    {
     "name": "stdout",
     "output_type": "stream",
     "text": [
      "<li class=\"object-1\" title=\"&#x7F16;&#x7A0B;&#x8BED;&#x8A00;\">Python</li>\n",
      "            \n",
      "<li class=\"object-3\" title=\"&#x8BC4;&#x4EF7;\">好</li>\n",
      "        \n"
     ]
    }
   ],
   "source": [
    "#找到含有Python的li标签\n",
    "print(pseudo_doc(\"li:contains('Python')\"))\n",
    "\n",
    "#找到含有好的li标签\n",
    "print(pseudo_doc(\"li:contains('好')\"))"
   ]
  },
  {
   "cell_type": "markdown",
   "metadata": {},
   "source": [
    "## 查找标签【重点】\n",
    "PyQuery对象拥有很多实用的定位方法\n",
    "\n",
    "|PyQuery对象方法|功能|\n",
    "|---|---|\n",
    "|.items(selector)|迭代每一个element，返回的是PyQuery对象|\n",
    "|.find(selector)|找到selector的节点|\n",
    "|.eq(index)|获得第 index+1 个节点|\n",
    "|.text()|获得节点内的文本|\n",
    "|.attr(属性名)|获得节点属性值|\n",
    "|.contents(selector)|获得子节点（带文本）|\n",
    "\n",
    "\n",
    "**常用的有items/find/eq/text/attr这五个方法**"
   ]
  },
  {
   "cell_type": "code",
   "execution_count": 30,
   "metadata": {},
   "outputs": [
    {
     "name": "stdout",
     "output_type": "stream",
     "text": [
      "<html lang=\"en\">\n",
      "    <head>\n",
      "        简单好用的\n",
      "        <title>PyQuery</title>\n",
      "    </head>\n",
      "    <body>\n",
      "        <ul id=\"container\">\n",
      "            <li class=\"object-1\" title=\"编程语言\">Python</li>\n",
      "            <li class=\"object-2\" title=\"夸张的编程语言\">大法</li>\n",
      "            <li class=\"object-3\" title=\"评价\">好</li>\n",
      "        </ul>\n",
      "    </body>\n",
      "</html>\n"
     ]
    }
   ],
   "source": [
    "print(doc)"
   ]
  },
  {
   "cell_type": "markdown",
   "metadata": {},
   "source": [
    "### PyQuery.item(selector)\n",
    "\n",
    "一般写爬虫建议先用items。\n",
    "\n",
    "获得所有的li标签"
   ]
  },
  {
   "cell_type": "code",
   "execution_count": 33,
   "metadata": {},
   "outputs": [
    {
     "data": {
      "text/plain": [
       "<generator object PyQuery.items at 0x10d490570>"
      ]
     },
     "execution_count": 33,
     "metadata": {},
     "output_type": "execute_result"
    }
   ],
   "source": [
    "doc.items('li')"
   ]
  },
  {
   "cell_type": "code",
   "execution_count": 32,
   "metadata": {},
   "outputs": [
    {
     "name": "stdout",
     "output_type": "stream",
     "text": [
      "<li class=\"object-1\" title=\"&#x7F16;&#x7A0B;&#x8BED;&#x8A00;\">Python</li>\n",
      "            \n",
      "<li class=\"object-2\" title=\"&#x5938;&#x5F20;&#x7684;&#x7F16;&#x7A0B;&#x8BED;&#x8A00;\">大法</li>\n",
      "            \n",
      "<li class=\"object-3\" title=\"&#x8BC4;&#x4EF7;\">好</li>\n",
      "        \n"
     ]
    }
   ],
   "source": [
    "for i in doc.items('li'):\n",
    "    print(i)"
   ]
  },
  {
   "cell_type": "code",
   "execution_count": 34,
   "metadata": {},
   "outputs": [
    {
     "data": {
      "text/plain": [
       "[[<li.object-1>], [<li.object-2>], [<li.object-3>]]"
      ]
     },
     "execution_count": 34,
     "metadata": {},
     "output_type": "execute_result"
    }
   ],
   "source": [
    "list(doc.items('li'))"
   ]
  },
  {
   "cell_type": "markdown",
   "metadata": {},
   "source": [
    "查看doc.items迭代出的对象的数据类型"
   ]
  },
  {
   "cell_type": "code",
   "execution_count": 37,
   "metadata": {},
   "outputs": [
    {
     "data": {
      "text/plain": [
       "[pyquery.pyquery.PyQuery, pyquery.pyquery.PyQuery, pyquery.pyquery.PyQuery]"
      ]
     },
     "execution_count": 37,
     "metadata": {},
     "output_type": "execute_result"
    }
   ],
   "source": [
    "[type(item) for item in doc.items('li')]"
   ]
  },
  {
   "cell_type": "markdown",
   "metadata": {},
   "source": [
    "### PyQuery.text()"
   ]
  },
  {
   "cell_type": "code",
   "execution_count": 38,
   "metadata": {},
   "outputs": [
    {
     "data": {
      "text/plain": [
       "['Python', '大法', '好']"
      ]
     },
     "execution_count": 38,
     "metadata": {},
     "output_type": "execute_result"
    }
   ],
   "source": [
    "[item.text() for item in doc.items('li')]"
   ]
  },
  {
   "cell_type": "markdown",
   "metadata": {},
   "source": [
    "### PyQuery.attr(属性名)"
   ]
  },
  {
   "cell_type": "code",
   "execution_count": 39,
   "metadata": {},
   "outputs": [
    {
     "data": {
      "text/plain": [
       "['object-1', 'object-2', 'object-3']"
      ]
     },
     "execution_count": 39,
     "metadata": {},
     "output_type": "execute_result"
    }
   ],
   "source": [
    "[item.attr('class') for item in doc.items('li')]"
   ]
  },
  {
   "cell_type": "code",
   "execution_count": 40,
   "metadata": {},
   "outputs": [
    {
     "data": {
      "text/plain": [
       "['编程语言', '夸张的编程语言', '评价']"
      ]
     },
     "execution_count": 40,
     "metadata": {},
     "output_type": "execute_result"
    }
   ],
   "source": [
    "[item.attr('title') for item in doc.items('li')]"
   ]
  },
  {
   "cell_type": "markdown",
   "metadata": {},
   "source": [
    "### PyQuery.find(selector)"
   ]
  },
  {
   "cell_type": "code",
   "execution_count": 42,
   "metadata": {},
   "outputs": [
    {
     "name": "stdout",
     "output_type": "stream",
     "text": [
      "<ul id=\"container\">\n",
      "            <li class=\"object-1\" title=\"编程语言\">Python</li>\n",
      "            <li class=\"object-2\" title=\"夸张的编程语言\">大法</li>\n",
      "            <li class=\"object-3\" title=\"评价\">好</li>\n",
      "        </ul>\n",
      "    \n"
     ]
    }
   ],
   "source": [
    "print(doc.find('#container'))"
   ]
  },
  {
   "cell_type": "markdown",
   "metadata": {},
   "source": [
    " id='container' 的节点的子节点们"
   ]
  },
  {
   "cell_type": "markdown",
   "metadata": {},
   "source": [
    "### PyQuery.contents()\n",
    "id='container' 的节点的子节点们（节点内带字符串）"
   ]
  },
  {
   "cell_type": "code",
   "execution_count": 43,
   "metadata": {},
   "outputs": [
    {
     "data": {
      "text/plain": [
       "['\\n            ', <Element li at 0x10d4f4988>, '\\n            ', <Element li at 0x10d4ea348>, '\\n            ', <Element li at 0x10d4eaac8>, '\\n        ']"
      ]
     },
     "execution_count": 43,
     "metadata": {},
     "output_type": "execute_result"
    }
   ],
   "source": [
    "doc.find('#container').contents()"
   ]
  },
  {
   "cell_type": "markdown",
   "metadata": {},
   "source": [
    " id='container' 的节点的第二个子节点"
   ]
  },
  {
   "cell_type": "markdown",
   "metadata": {},
   "source": [
    "### PyQuery.eq(index)\n",
    "获取结果中第  第index+1 节点"
   ]
  },
  {
   "cell_type": "code",
   "execution_count": 46,
   "metadata": {},
   "outputs": [
    {
     "name": "stdout",
     "output_type": "stream",
     "text": [
      "<li class=\"object-1\" title=\"&#x7F16;&#x7A0B;&#x8BED;&#x8A00;\">Python</li>\n",
      "            \n"
     ]
    }
   ],
   "source": [
    "print(doc.find('#container').contents().eq(1))"
   ]
  },
  {
   "cell_type": "markdown",
   "metadata": {},
   "source": [
    "# 数据存储\n",
    "一般爬虫数据常常存储于txt和或csv文件中。\n",
    "\n",
    "## 存储到txt\n",
    "\n",
    "```python\n",
    "txtf = 'data.txt'  \n",
    "\n",
    "#新建一个data.txt文件， 使用追加方式（a+），编码采用utf-8\n",
    "f = open(txtf, 'a+', encoding='utf-8')\n",
    "\n",
    "#采集到的文本数据\n",
    "content = '采集到的文本数据'\n",
    "\n",
    "#将content写入到data.txt中\n",
    "f.write(content)\n",
    "\n",
    "#关闭f\n",
    "f.close()\n",
    "```\n",
    "\n",
    "\n",
    "|**txt与代码文件是否在同一文件夹**|txt文件路径写法|例子|\n",
    "|---|---|---|\n",
    "|是|文件名.txt|'data.txt'|\n",
    "|否|路径/文件名.txt|\"/Users/suosuo/Desktop/data.txt\"|"
   ]
  },
  {
   "cell_type": "code",
   "execution_count": 47,
   "metadata": {},
   "outputs": [],
   "source": [
    "#data.txt 与 代码脚本在同一路径\n",
    "txtf = 'output/data.txt'  \n",
    "f = open(txtf, 'a+', encoding='utf-8')\n",
    "content = '采集到的文本数据20191021'\n",
    "f.write(content)\n",
    "f.close()"
   ]
  },
  {
   "cell_type": "markdown",
   "metadata": {},
   "source": [
    "## 存入csv"
   ]
  },
  {
   "cell_type": "code",
   "execution_count": 49,
   "metadata": {},
   "outputs": [],
   "source": [
    "import csv \n",
    "\n",
    "file = 'output/data.csv'\n",
    "#使用utf-8编码保存，使用excell打开会显示乱码。这里使用gbk保存\n",
    "csvf = open(file, 'a+', encoding='gbk', newline = '')\n",
    "writer = csv.writer(csvf)\n",
    "\n",
    "#定义data.csv文件的列名\n",
    "line1 = ('name', 'gender', 'age')\n",
    "writer.writerow(line1)\n",
    "\n",
    "#写入数据\n",
    "line2 = ('David', 'male', '25')\n",
    "writer.writerow(line2)\n",
    "line3 = ('Mark', 'male', '23')\n",
    "writer.writerow(line3)\n",
    "\n",
    "#关闭\n",
    "csvf.close()"
   ]
  },
  {
   "cell_type": "code",
   "execution_count": null,
   "metadata": {},
   "outputs": [],
   "source": [
    "import csv\n",
    "\n",
    "#采集到的数据以列表和元组形式组合\n",
    "datas = [('David', 'male', '25'),\n",
    "        ('Mark', 'male', '23'),\n",
    "        ('Mary', 'female', '18')]\n",
    "\n",
    "csvf = open('data/data2.csv', 'a+', encoding='gbk', newline='')\n",
    "writer = csv.writer(csvf)\n",
    "#定义列名时要在for循环之外\n",
    "writer.writerow(('name', 'gender', 'age'))\n",
    "\n",
    "for data in datas:\n",
    "    #写入csv数据时，要在for循环内\n",
    "    writer.writerow(data)\n",
    "\n",
    "#关闭要在for循环外"
   ]
  }
 ],
 "metadata": {
  "kernelspec": {
   "display_name": "Python 3",
   "language": "python",
   "name": "python3"
  },
  "language_info": {
   "codemirror_mode": {
    "name": "ipython",
    "version": 3
   },
   "file_extension": ".py",
   "mimetype": "text/x-python",
   "name": "python",
   "nbconvert_exporter": "python",
   "pygments_lexer": "ipython3",
   "version": "3.7.2"
  },
  "toc": {
   "base_numbering": 1,
   "nav_menu": {},
   "number_sections": true,
   "sideBar": true,
   "skip_h1_title": false,
   "title_cell": "Table of Contents",
   "title_sidebar": "Contents",
   "toc_cell": true,
   "toc_position": {
    "height": "calc(100% - 180px)",
    "left": "10px",
    "top": "150px",
    "width": "384px"
   },
   "toc_section_display": true,
   "toc_window_display": true
  }
 },
 "nbformat": 4,
 "nbformat_minor": 2
}
