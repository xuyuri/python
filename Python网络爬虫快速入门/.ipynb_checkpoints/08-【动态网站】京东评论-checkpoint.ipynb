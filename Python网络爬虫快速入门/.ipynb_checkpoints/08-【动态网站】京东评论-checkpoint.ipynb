{
 "cells": [
  {
   "cell_type": "markdown",
   "metadata": {},
   "source": []
  },
  {
   "cell_type": "markdown",
   "metadata": {},
   "source": [
    "# 实战\n",
    "写爬虫流程：\n",
    "\n",
    "1. 在浏览器中打开网站的某个页面\n",
    "2. 打开开发者工具，对该网页进行刷新（查看Network信息，一般都会先点击”第二页“或者”查看更多“，试图发现规律，找到真正的网址）\n",
    "3. 如果是html网页，那么就用Element进行页面数据定位；如果是json数据，就在network中进行数据定位\n",
    "4. 存储数据\n",
    "5. 让程序自动化访问多个页面，重复1-4\n",
    "\n",
    "# 实战分类\n",
    "- 静态网站：如天涯、boss直聘、大众点评\n",
    "- 动态网页：京东评论、豆瓣电影、百度企业信用等 "
   ]
  },
  {
   "cell_type": "code",
   "execution_count": null,
   "metadata": {},
   "outputs": [],
   "source": [
    "import requests\n",
    "import json\n",
    "\n",
    "base = 'https://sclub.jd.com/comment/productPageComments.action?callback=fetchJSON_comment98vv15191&productId=100002749549&score=0&sortType=5&page={page}&pageSize=10&isShadowSku=0&rid=0&fold=1'\n",
    "#for p in range(1,10):\n",
    "    #print(base.format(page=p))\n",
    "    \n",
    "headers = {\"Referer\": \"https://item.jd.com/100002749549.html\",\n",
    "           \"User-Agent\": \"Mozilla/5.0 (Macintosh; Intel Mac OS X 10_14_5) AppleWebKit/537.36 (KHTML, like Gecko) Chrome/75.0.3770.142 Safari/537.36\"}\n",
    "\n",
    "\n",
    "for page in range(1, 3):\n",
    "    url = base.format(page=page)\n",
    "    req = requests.get(url, headers=headers)\n",
    "    try:\n",
    "        dict_str = req.text.split('(')[-1].split(')')[0]\n",
    "        dictdata = json.loads(dict_str)\n",
    "        comments = dictdata['comments']\n",
    "        for comment in comments:\n",
    "            print(comment['content'])\n",
    "    except:\n",
    "        pass"
   ]
  },
  {
   "cell_type": "markdown",
   "metadata": {},
   "source": [
    "## 如何应对反爬？\n",
    "- 控制访问频率, time.sleep(1) 1s一次访问\n",
    "- 伪装装成浏览器,或者直接用selenium                         \n",
    "- 使用代理IP（速度并不快，还要花钱）,可以用手机网络开热点，飞行模式开启后，手机的ip就切换成新的ip\n",
    "\n",
    "基本上使用前两者就能满足绝大部分数据采集需要。"
   ]
  },
  {
   "cell_type": "code",
   "execution_count": null,
   "metadata": {},
   "outputs": [],
   "source": []
  }
 ],
 "metadata": {
  "kernelspec": {
   "display_name": "Python 3",
   "language": "python",
   "name": "python3"
  },
  "language_info": {
   "codemirror_mode": {
    "name": "ipython",
    "version": 3
   },
   "file_extension": ".py",
   "mimetype": "text/x-python",
   "name": "python",
   "nbconvert_exporter": "python",
   "pygments_lexer": "ipython3",
   "version": "3.7.2"
  },
  "toc": {
   "base_numbering": 1,
   "nav_menu": {},
   "number_sections": true,
   "sideBar": true,
   "skip_h1_title": false,
   "title_cell": "Table of Contents",
   "title_sidebar": "Contents",
   "toc_cell": false,
   "toc_position": {},
   "toc_section_display": true,
   "toc_window_display": false
  }
 },
 "nbformat": 4,
 "nbformat_minor": 2
}
