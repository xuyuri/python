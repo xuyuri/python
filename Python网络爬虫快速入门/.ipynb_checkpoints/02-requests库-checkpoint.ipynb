{
 "cells": [
  {
   "cell_type": "markdown",
   "metadata": {
    "toc": true
   },
   "source": [
    "<h1>Table of Contents<span class=\"tocSkip\"></span></h1>\n",
    "<div class=\"toc\"><ul class=\"toc-item\"><li><span><a href=\"#视频讲解链接\" data-toc-modified-id=\"视频讲解链接-1\"><span class=\"toc-item-num\">1&nbsp;&nbsp;</span>视频讲解链接</a></span></li><li><span><a href=\"#requests库\" data-toc-modified-id=\"requests库-2\"><span class=\"toc-item-num\">2&nbsp;&nbsp;</span>requests库</a></span><ul class=\"toc-item\"><li><span><a href=\"#安装\" data-toc-modified-id=\"安装-2.1\"><span class=\"toc-item-num\">2.1&nbsp;&nbsp;</span>安装</a></span></li><li><span><a href=\"#访问方法\" data-toc-modified-id=\"访问方法-2.2\"><span class=\"toc-item-num\">2.2&nbsp;&nbsp;</span>访问方法</a></span><ul class=\"toc-item\"><li><span><a href=\"#get访问\" data-toc-modified-id=\"get访问-2.2.1\"><span class=\"toc-item-num\">2.2.1&nbsp;&nbsp;</span>get访问</a></span></li><li><span><a href=\"#注意Response后面带有的状态码：\" data-toc-modified-id=\"注意Response后面带有的状态码：-2.2.2\"><span class=\"toc-item-num\">2.2.2&nbsp;&nbsp;</span>注意Response后面带有的状态码：</a></span></li></ul></li><li><span><a href=\"#Response对象\" data-toc-modified-id=\"Response对象-2.3\"><span class=\"toc-item-num\">2.3&nbsp;&nbsp;</span>Response对象</a></span><ul class=\"toc-item\"><li><span><a href=\"#Response.text\" data-toc-modified-id=\"Response.text-2.3.1\"><span class=\"toc-item-num\">2.3.1&nbsp;&nbsp;</span>Response.text</a></span></li><li><span><a href=\"#Response.json()\" data-toc-modified-id=\"Response.json()-2.3.2\"><span class=\"toc-item-num\">2.3.2&nbsp;&nbsp;</span>Response.json()</a></span></li></ul></li></ul></li><li><span><a href=\"#自定义访问\" data-toc-modified-id=\"自定义访问-3\"><span class=\"toc-item-num\">3&nbsp;&nbsp;</span>自定义访问</a></span><ul class=\"toc-item\"><li><span><a href=\"#headers将爬虫伪装成浏览器\" data-toc-modified-id=\"headers将爬虫伪装成浏览器-3.1\"><span class=\"toc-item-num\">3.1&nbsp;&nbsp;</span>headers将爬虫伪装成浏览器</a></span></li><li><span><a href=\"#cookies-爬虫的免检令牌\" data-toc-modified-id=\"cookies-爬虫的免检令牌-3.2\"><span class=\"toc-item-num\">3.2&nbsp;&nbsp;</span>cookies-爬虫的免检令牌</a></span></li><li><span><a href=\"#如何应对反爬？\" data-toc-modified-id=\"如何应对反爬？-3.3\"><span class=\"toc-item-num\">3.3&nbsp;&nbsp;</span>如何应对反爬？</a></span></li></ul></li></ul></div>"
   ]
  },
  {
   "cell_type": "markdown",
   "metadata": {},
   "source": [
    "# 视频讲解链接 \n",
    "https://www.bilibili.com/video/av72010301/?p=2\n",
    "\n",
    "# requests库\n",
    "\n",
    "\n",
    "## 安装 \n",
    "\n",
    "命令行输入\n",
    "\n",
    "```python\n",
    "pip3 install requests\n",
    "```\n",
    "\n",
    "或者在jupyter notebook的Cell中输入\n",
    "\n",
    "```python\n",
    "!pip3 install requests\n",
    "```\n",
    "\n"
   ]
  },
  {
   "cell_type": "markdown",
   "metadata": {},
   "source": [
    "找到网页url规律后，我们需要将这些url对应的网页数据下载下来，\n",
    "\n",
    "这里就用到[**requests库文档链接**](http://docs.python-requests.org/zh_CN/latest/user/quickstart.html)。"
   ]
  },
  {
   "cell_type": "markdown",
   "metadata": {},
   "source": [
    "## 访问方法\n",
    "\n",
    "**requests两种访问方法** ,两者都返回Response对象：\n",
    "\n",
    "|requests常用函数|参数解读|\n",
    "|:---|:---|\n",
    "|**requests.get(url, headers, cookies, params)** |发起get访问，返回**Response对象**| \n",
    "|**requests.post(url, headers, cookies, data)** |发起post访问，返回**Response对象**| \n"
   ]
  },
  {
   "cell_type": "markdown",
   "metadata": {},
   "source": [
    "### get访问\n",
    "比如我们访问``豆瓣阅读小说类目第一页``，python代码"
   ]
  },
  {
   "cell_type": "code",
   "execution_count": 2,
   "metadata": {},
   "outputs": [
    {
     "data": {
      "text/plain": [
       "<Response [200]>"
      ]
     },
     "execution_count": 2,
     "metadata": {},
     "output_type": "execute_result"
    }
   ],
   "source": [
    "import requests\n",
    "\n",
    "url = 'https://book.douban.com/tag/小说?start=0&type=T'\n",
    "resp = requests.get(url)  #极少数情况会用到verify=False这参数\n",
    "resp"
   ]
  },
  {
   "cell_type": "code",
   "execution_count": null,
   "metadata": {},
   "outputs": [],
   "source": []
  },
  {
   "cell_type": "code",
   "execution_count": 3,
   "metadata": {
    "collapsed": true
   },
   "outputs": [
    {
     "data": {
      "text/plain": [
       "'\\n\\n<!DOCTYPE html>\\n<html lang=\"zh-cmn-Hans\" class=\" book-new-nav\">\\n<head>\\n  <meta http-equiv=\"Content-Type\" content=\"text/html; charset=utf-8\">\\n  <title>\\n  豆瓣图书标签: 小说\\n</title>\\n  \\n<script>!function(e){var o=function(o,n,t){var c,i,r=new Date;n=n||30,t=t||\"/\",r.setTime(r.getTime()+24*n*60*60*1e3),c=\"; expires=\"+r.toGMTString();for(i in o)e.cookie=i+\"=\"+o[i]+c+\"; path=\"+t},n=function(o){var n,t,c,i=o+\"=\",r=e.cookie.split(\";\");for(t=0,c=r.length;t<c;t++)if(n=r[t].replace(/^\\\\s+|\\\\s+$/g,\"\"),0==n.indexOf(i))return n.substring(i.length,n.length).replace(/\\\\\"/g,\"\");return null},t=e.write,c={\"douban.com\":1,\"douban.fm\":1,\"google.com\":1,\"google.cn\":1,\"googleapis.com\":1,\"gmaptiles.co.kr\":1,\"gstatic.com\":1,\"gstatic.cn\":1,\"google-analytics.com\":1,\"googleadservices.com\":1},i=function(e,o){var n=new Image;n.onload=function(){},n.src=\"https://www.douban.com/j/except_report?kind=ra022&reason=\"+encodeURIComponent(e)+\"&environment=\"+encodeURIComponent(o)},r=function(o){try{t.call(e,o)}catch(e){t(o)}},a=/<script.*?src\\\\=[\"\\']?([^\"\\'\\\\s>]+)/gi,g=/http:\\\\/\\\\/(.+?)\\\\.([^\\\\/]+).+/i;e.writeln=e.write=function(e){var t,l=a.exec(e);return l&&(t=g.exec(l[1]))?c[t[2]]?void r(e):void(\"tqs\"!==n(\"hj\")&&(i(l[1],location.href),o({hj:\"tqs\"},1),setTimeout(function(){location.replace(location.href)},50))):void r(e)}}(document);\\n</script>\\n\\n  \\n  <meta http-equiv=\"Pragma\" content=\"no-cache\">\\n  <meta http-equiv=\"Expires\" content=\"Sun, 6 Mar 2005 01:00:00 GMT\">\\n  \\n  <script>var _head_start = new Date();</script>\\n  \\n  <link href=\"https://img3.doubanio.com/f/book/bbcdd27f404a86f87fd672ea2c8e55c830f049af/css/book/master.css\" rel=\"stylesheet\" type=\"text/css\">\\n\\n  <link href=\"https://img3.doubanio.com/f/book/222a5c61e041638af8defc87cf97f4a863a77922/css/book/base/init.css\" rel=\"stylesheet\">\\n  <style type=\"text/css\"></style>\\n  <script src=\"https://img3.doubanio.com/f/book/0495cb173e298c28593766009c7b0a953246c5b5/js/book/lib/jquery/jquery.js\"></script>\\n  <script src=\"https://img3.doubanio.com/f/shire/5ecaf46d6954d5a30bc7d99be86ae34031646e00/js/douban.js\"></script>\\n  <script src=\"https://img3.doubanio.com/f/book/165dc24cf2570e1b0d6294c948e46f3bc8259388/js/book/master.js\"></script>\\n  \\n\\n  \\n  <script>  </script>\\n  <link rel=\"stylesheet\" href=\"https://img3.doubanio.com/misc/mixed_static/28fc3e84f96f7794.css\">\\n\\n  <link rel=\"shortcut icon\" href=\"https://img3.doubanio.com/favicon.ico\" type=\"image/x-icon\">\\n</head>\\n<body>\\n  \\n    <script>var _body_start = new Date();</script>\\n    \\n  \\n\\n\\n\\n    <link href=\"//img3.doubanio.com/dae/accounts/resources/a4a38a5/shire/bundle.css\" rel=\"stylesheet\" type=\"text/css\">\\n\\n\\n\\n<div id=\"db-global-nav\" class=\"global-nav\">\\n  <div class=\"bd\">\\n    \\n<div class=\"top-nav-info\">\\n  <a href=\"https://accounts.douban.com/passport/login?source=book\" class=\"nav-login\" rel=\"nofollow\">登录/注册</a>\\n</div>\\n\\n\\n    <div class=\"top-nav-doubanapp\">\\n  <a href=\"https://www.douban.com/doubanapp/app?channel=top-nav\" class=\"lnk-doubanapp\">下载豆瓣客户端</a>\\n  <div id=\"doubanapp-tip\">\\n    <a href=\"https://www.douban.com/doubanapp/app?channel=qipao\" class=\"tip-link\">豆瓣 <span class=\"version\">6.0</span> 全新发布</a>\\n    <a href=\"javascript: void 0;\" class=\"tip-close\">×</a>\\n  </div>\\n  <div id=\"top-nav-appintro\" class=\"more-items\">\\n    <p class=\"appintro-title\">豆瓣</p>\\n    <p class=\"qrcode\">扫码直接下载</p>\\n    <div class=\"download\">\\n      <a href=\"https://www.douban.com/doubanapp/redirect?channel=top-nav&direct_dl=1&download=iOS\">iPhone</a>\\n      <span>·</span>\\n      <a href=\"https://www.douban.com/doubanapp/redirect?channel=top-nav&direct_dl=1&download=Android\" class=\"download-android\">Android</a>\\n    </div>\\n  </div>\\n</div>\\n\\n    \\n\\n\\n<div class=\"global-nav-items\">\\n  <ul>\\n    <li class=\"\">\\n      <a href=\"https://www.douban.com\" target=\"_blank\" data-moreurl-dict=\"{&quot;from&quot;:&quot;top-nav-click-main&quot;,&quot;uid&quot;:&quot;0&quot;}\">豆瓣</a>\\n    </li>\\n    <li class=\"on\">\\n      <a href=\"https://book.douban.com\"  data-moreurl-dict=\"{&quot;from&quot;:&quot;top-nav-click-book&quot;,&quot;uid&quot;:&quot;0&quot;}\">读书</a>\\n    </li>\\n    <li class=\"\">\\n      <a href=\"https://movie.douban.com\" target=\"_blank\" data-moreurl-dict=\"{&quot;from&quot;:&quot;top-nav-click-movie&quot;,&quot;uid&quot;:&quot;0&quot;}\">电影</a>\\n    </li>\\n    <li class=\"\">\\n      <a href=\"https://music.douban.com\" target=\"_blank\" data-moreurl-dict=\"{&quot;from&quot;:&quot;top-nav-click-music&quot;,&quot;uid&quot;:&quot;0&quot;}\">音乐</a>\\n    </li>\\n    <li class=\"\">\\n      <a href=\"https://www.douban.com/location\" target=\"_blank\" data-moreurl-dict=\"{&quot;from&quot;:&quot;top-nav-click-location&quot;,&quot;uid&quot;:&quot;0&quot;}\">同城</a>\\n    </li>\\n    <li class=\"\">\\n      <a href=\"https://www.douban.com/group\" target=\"_blank\" data-moreurl-dict=\"{&quot;from&quot;:&quot;top-nav-click-group&quot;,&quot;uid&quot;:&quot;0&quot;}\">小组</a>\\n    </li>\\n    <li class=\"\">\\n      <a href=\"https://read.douban.com&#47;?dcs=top-nav&amp;dcm=douban\" target=\"_blank\" data-moreurl-dict=\"{&quot;from&quot;:&quot;top-nav-click-read&quot;,&quot;uid&quot;:&quot;0&quot;}\">阅读</a>\\n    </li>\\n    <li class=\"\">\\n      <a href=\"https://douban.fm&#47;?from_=shire_top_nav\" target=\"_blank\" data-moreurl-dict=\"{&quot;from&quot;:&quot;top-nav-click-fm&quot;,&quot;uid&quot;:&quot;0&quot;}\">FM</a>\\n    </li>\\n    <li class=\"\">\\n      <a href=\"https://time.douban.com&#47;?dt_time_source=douban-web_top_nav\" target=\"_blank\" data-moreurl-dict=\"{&quot;from&quot;:&quot;top-nav-click-time&quot;,&quot;uid&quot;:&quot;0&quot;}\">时间</a>\\n    </li>\\n    <li class=\"\">\\n      <a href=\"https://market.douban.com&#47;?utm_campaign=douban_top_nav&amp;utm_source=douban&amp;utm_medium=pc_web\" target=\"_blank\" data-moreurl-dict=\"{&quot;from&quot;:&quot;top-nav-click-market&quot;,&quot;uid&quot;:&quot;0&quot;}\">豆品</a>\\n    </li>\\n    <li>\\n      <a href=\"#more\" class=\"bn-more\"><span>更多</span></a>\\n      <div class=\"more-items\">\\n        <table cellpadding=\"0\" cellspacing=\"0\">\\n          <tbody>\\n            <tr>\\n              <td>\\n                <a href=\"https://ypy.douban.com\" target=\"_blank\" data-moreurl-dict=\"{&quot;from&quot;:&quot;top-nav-click-ypy&quot;,&quot;uid&quot;:&quot;0&quot;}\">豆瓣摄影</a>\\n              </td>\\n            </tr>\\n          </tbody>\\n        </table>\\n      </div>\\n    </li>\\n  </ul>\\n</div>\\n\\n  </div>\\n</div>\\n<script>\\n  ;window._GLOBAL_NAV = {\\n    DOUBAN_URL: \"https://www.douban.com\",\\n    N_NEW_NOTIS: 0,\\n    N_NEW_DOUMAIL: 0\\n  };\\n</script>\\n\\n\\n\\n    <script src=\"//img3.doubanio.com/dae/accounts/resources/a4a38a5/shire/bundle.js\" defer=\"defer\"></script>\\n\\n\\n\\n\\n  \\n\\n\\n\\n    <link href=\"//img3.doubanio.com/dae/accounts/resources/a4a38a5/book/bundle.css\" rel=\"stylesheet\" type=\"text/css\">\\n\\n\\n\\n\\n<div id=\"db-nav-book\" class=\"nav\">\\n  <div class=\"nav-wrap\">\\n  <div class=\"nav-primary\">\\n    <div class=\"nav-logo\">\\n      <a href=\"https:&#47;&#47;book.douban.com\">豆瓣读书</a>\\n    </div>\\n    <div class=\"nav-search\">\\n      <form action=\"https:&#47;&#47;search.douban.com&#47;book/subject_search\" method=\"get\">\\n        <fieldset>\\n          <legend>搜索：</legend>\\n          <label for=\"inp-query\">\\n          </label>\\n          <div class=\"inp\"><input id=\"inp-query\" name=\"search_text\" size=\"22\" maxlength=\"60\" placeholder=\"书名、作者、ISBN\" value=\"\"></div>\\n          <div class=\"inp-btn\"><input type=\"submit\" value=\"搜索\"></div>\\n          <input type=\"hidden\" name=\"cat\" value=\"1001\" />\\n        </fieldset>\\n      </form>\\n    </div>\\n  </div>\\n  </div>\\n  <div class=\"nav-secondary\">\\n    \\n\\n<div class=\"nav-items\">\\n  <ul>\\n    <li    ><a href=\"https://book.douban.com/cart/\"\\n     >购书单</a>\\n    </li>\\n    <li    ><a href=\"https://read.douban.com/ebooks/?dcs=book-nav&dcm=douban\"\\n            target=\"_blank\"\\n     >电子图书</a>\\n    </li>\\n    <li    ><a href=\"https://market.douban.com/book?utm_campaign=book_nav_freyr&utm_source=douban&utm_medium=pc_web\"\\n     >豆瓣书店</a>\\n    </li>\\n    <li    ><a href=\"https://book.douban.com/annual/2018?source=navigation\"\\n            target=\"_blank\"\\n     >2018年度榜单</a>\\n    </li>\\n    <li    ><a href=\"https://www.douban.com/standbyme/2018?source=navigation\"\\n            target=\"_blank\"\\n     >2018书影音报告</a>\\n    </li>\\n    <li          class=\" book-cart\"\\n    ><a href=\"https://market.douban.com/cart/?biz_type=book&utm_campaign=book_nav_cart&utm_source=douban&utm_medium=pc_web\"\\n            target=\"_blank\"\\n     >购物车</a>\\n    </li>\\n  </ul>\\n</div>\\n\\n    <a href=\"https://book.douban.com/annual/2018?source=book_navigation\" class=\"bookannual2018\"></a>\\n  </div>\\n</div>\\n\\n<script id=\"suggResult\" type=\"text/x-jquery-tmpl\">\\n  <li data-link=\"{{= url}}\">\\n            <a href=\"{{= url}}\" onclick=\"moreurl(this, {from:\\'book_search_sugg\\', query:\\'{{= keyword }}\\', subject_id:\\'{{= id}}\\', i: \\'{{= index}}\\', type: \\'{{= type}}\\'})\">\\n            <img src=\"{{= pic}}\" width=\"40\" />\\n            <div>\\n                <em>{{= title}}</em>\\n                {{if year}}\\n                    <span>{{= year}}</span>\\n                {{/if}}\\n                <p>\\n                {{if type == \"b\"}}\\n                    {{= author_name}}\\n                {{else type == \"a\" }}\\n                    {{if en_name}}\\n                        {{= en_name}}\\n                    {{/if}}\\n                {{/if}}\\n                 </p>\\n            </div>\\n        </a>\\n        </li>\\n  </script>\\n\\n\\n\\n\\n    <script src=\"//img3.doubanio.com/dae/accounts/resources/a4a38a5/book/bundle.js\" defer=\"defer\"></script>\\n\\n\\n\\n\\n\\n    <div id=\"wrapper\">\\n        \\n        \\n  <div id=\"content\">\\n    \\n    <h1>豆瓣图书标签: 小说</h1>\\n\\n    <div class=\"grid-16-8 clearfix\">\\n      \\n      <div class=\"article\">\\n  <div id=\"subject_list\">\\n\\n      \\n  \\n  \\n  <div class=\"clearfix\">\\n    <span class=\"rr greyinput\">\\n\\n          综合排序\\n          &nbsp;/&nbsp;\\n\\n          <a href=\"/tag/%E5%B0%8F%E8%AF%B4?type=R\">按出版日期排序</a>\\n          &nbsp;/&nbsp;\\n\\n          <a href=\"/tag/%E5%B0%8F%E8%AF%B4?type=S\">按评价排序</a>\\n    </span>\\n  </div>\\n\\n\\n\\n    \\n  \\n  <ul class=\"subject-list\">\\n      \\n      \\n  \\n  <li class=\"subject-item\">\\n    <div class=\"pic\">\\n      <a class=\"nbg\" href=\"https://book.douban.com/subject/25862578/\" \\n  onclick=\"moreurl(this,{i:\\'0\\',query:\\'\\',subject_id:\\'25862578\\',from:\\'book_subject_search\\'})\">\\n        <img class=\"\" src=\"https://img3.doubanio.com/view/subject/m/public/s27264181.jpg\"\\n          width=\"90\">\\n      </a>\\n    </div>\\n    <div class=\"info\">\\n      <h2 class=\"\">\\n        \\n  \\n  <a href=\"https://book.douban.com/subject/25862578/\" title=\"解忧杂货店\" \\n  onclick=\"moreurl(this,{i:\\'0\\',query:\\'\\',subject_id:\\'25862578\\',from:\\'book_subject_search\\'})\">\\n\\n    解忧杂货店\\n\\n\\n    \\n\\n  </a>\\n\\n      </h2>\\n      <div class=\"pub\">\\n        \\n  \\n  [日] 东野圭吾 / 李盈春 / 南海出版公司 / 2014-5 / 39.50元\\n\\n      </div>\\n\\n\\n        \\n  \\n  \\n  \\n  <div class=\"star clearfix\">\\n        <span class=\"allstar45\"></span>\\n        <span class=\"rating_nums\">8.5</span>\\n\\n    <span class=\"pl\">\\n        (535154人评价)\\n    </span>\\n  </div>\\n\\n\\n\\n        \\n  \\n  \\n  \\n    <p>现代人内心流失的东西，这家杂货店能帮你找回——\\n僻静的街道旁有一家杂货店，只要写下烦恼投进卷帘门的投信口，第二天就会在店后的牛奶箱里得到回答。\\n因男友身患绝... </p>\\n\\n\\n\\n\\n\\n\\n      <div class=\"ft\">\\n          \\n  <div class=\"collect-info\">\\n  </div>\\n\\n\\n          <div class=\"cart-actions\">\\n            \\n              <span class=\"market-info\">\\n                <a href=\"https://book.douban.com/subject/25862578/?channel=subject_list&amp;platform=web\" target=\"_blank\">在豆瓣购买</a>\\n              </span>\\n          </div>\\n\\n            \\n            \\n  \\n\\n      </div>\\n\\n    </div>\\n  </li>\\n  \\n\\n      \\n      \\n  \\n  <li class=\"subject-item\">\\n    <div class=\"pic\">\\n      <a class=\"nbg\" href=\"https://book.douban.com/subject/4913064/\" \\n  onclick=\"moreurl(this,{i:\\'1\\',query:\\'\\',subject_id:\\'4913064\\',from:\\'book_subject_search\\'})\">\\n        <img class=\"\" src=\"https://img3.doubanio.com/view/subject/m/public/s29053580.jpg\"\\n          width=\"90\">\\n      </a>\\n    </div>\\n    <div class=\"info\">\\n      <h2 class=\"\">\\n        \\n  \\n  <a href=\"https://book.douban.com/subject/4913064/\" title=\"活着\" \\n  onclick=\"moreurl(this,{i:\\'1\\',query:\\'\\',subject_id:\\'4913064\\',from:\\'book_subject_search\\'})\">\\n\\n    活着\\n\\n\\n    \\n\\n  </a>\\n\\n      </h2>\\n      <div class=\"pub\">\\n        \\n  \\n  余华 / 作家出版社 / 2012-8-1 / 20.00元\\n\\n      </div>\\n\\n\\n        \\n  \\n  \\n  \\n  <div class=\"star clearfix\">\\n        <span class=\"allstar45\"></span>\\n        <span class=\"rating_nums\">9.4</span>\\n\\n    <span class=\"pl\">\\n        (337221人评价)\\n    </span>\\n  </div>\\n\\n\\n\\n        \\n  \\n  \\n  \\n    <p>《活着(新版)》讲述了农村人福贵悲惨的人生遭遇。福贵本是个阔少爷，可他嗜赌如命，终于赌光了家业，一贫如洗。他的父亲被他活活气死，母亲则在穷困中患了重病，福贵... </p>\\n\\n\\n\\n\\n\\n\\n      <div class=\"ft\">\\n          \\n  <div class=\"collect-info\">\\n  </div>\\n\\n\\n          <div class=\"cart-actions\">\\n            \\n              <span class=\"market-info\">\\n                <a href=\"https://book.douban.com/subject/4913064/?channel=subject_list&amp;platform=web\" target=\"_blank\">在豆瓣购买</a>\\n              </span>\\n          </div>\\n\\n            \\n            \\n  \\n    \\n    \\n  <div class=\"ebook-link\">\\n    <a target=\"_blank\" href=\"https://read.douban.com/ebook/30541512/?dcs=tag-buylink&amp;dcm=douban&amp;dct=4913064\">去看电子版</a>\\n  </div>\\n  \\n\\n\\n      </div>\\n\\n    </div>\\n  </li>\\n  \\n\\n      \\n      \\n  \\n  <li class=\"subject-item\">\\n    <div class=\"pic\">\\n      <a class=\"nbg\" href=\"https://book.douban.com/subject/1770782/\" \\n  onclick=\"moreurl(this,{i:\\'2\\',query:\\'\\',subject_id:\\'1770782\\',from:\\'book_subject_search\\'})\">\\n        <img class=\"\" src=\"https://img3.doubanio.com/view/subject/m/public/s1727290.jpg\"\\n          width=\"90\">\\n      </a>\\n    </div>\\n    <div class=\"info\">\\n      <h2 class=\"\">\\n        \\n  \\n  <a href=\"https://book.douban.com/subject/1770782/\" title=\"追风筝的人\" \\n  onclick=\"moreurl(this,{i:\\'2\\',query:\\'\\',subject_id:\\'1770782\\',from:\\'book_subject_search\\'})\">\\n\\n    追风筝的人\\n\\n\\n    \\n\\n  </a>\\n\\n      </h2>\\n      <div class=\"pub\">\\n        \\n  \\n  [美] 卡勒德·胡赛尼 / 李继宏 / 上海人民出版社 / 2006-5 / 29.00元\\n\\n      </div>\\n\\n\\n        \\n  \\n  \\n  \\n  <div class=\"star clearfix\">\\n        <span class=\"allstar45\"></span>\\n        <span class=\"rating_nums\">8.9</span>\\n\\n    <span class=\"pl\">\\n        (539237人评价)\\n    </span>\\n  </div>\\n\\n\\n\\n        \\n  \\n  \\n  \\n    <p>12岁的阿富汗富家少爷阿米尔与仆人哈桑情同手足。然而，在一场风筝比赛后，发生了一件悲惨不堪的事，阿米尔为自己的懦弱感到自责和痛苦，逼走了哈桑，不久，自己也跟... </p>\\n\\n\\n\\n\\n\\n\\n      <div class=\"ft\">\\n          \\n  <div class=\"collect-info\">\\n  </div>\\n\\n\\n          <div class=\"cart-actions\">\\n            \\n              <span class=\"market-info\">\\n                <a href=\"https://book.douban.com/subject/1770782/?channel=subject_list&amp;platform=web\" target=\"_blank\">在豆瓣购买</a>\\n              </span>\\n          </div>\\n\\n            \\n            \\n  \\n    \\n    \\n  <div class=\"ebook-link\">\\n    <a target=\"_blank\" href=\"https://read.douban.com/ebook/1162265/?dcs=tag-buylink&amp;dcm=douban&amp;dct=1770782\">去看电子版</a>\\n  </div>\\n  \\n\\n\\n      </div>\\n\\n    </div>\\n  </li>\\n  \\n\\n      \\n      \\n  \\n  <li class=\"subject-item\">\\n    <div class=\"pic\">\\n      <a class=\"nbg\" href=\"https://book.douban.com/subject/3259440/\" \\n  onclick=\"moreurl(this,{i:\\'3\\',query:\\'\\',subject_id:\\'3259440\\',from:\\'book_subject_search\\'})\">\\n        <img class=\"\" src=\"https://img3.doubanio.com/view/subject/m/public/s4610502.jpg\"\\n          width=\"90\">\\n      </a>\\n    </div>\\n    <div class=\"info\">\\n      <h2 class=\"\">\\n        \\n  \\n  <a href=\"https://book.douban.com/subject/3259440/\" title=\"白夜行\" \\n  onclick=\"moreurl(this,{i:\\'3\\',query:\\'\\',subject_id:\\'3259440\\',from:\\'book_subject_search\\'})\">\\n\\n    白夜行\\n\\n\\n    \\n\\n  </a>\\n\\n      </h2>\\n      <div class=\"pub\">\\n        \\n  \\n  [日] 东野圭吾 / 刘姿君 / 南海出版公司 / 2008-9 / 29.80元\\n\\n      </div>\\n\\n\\n        \\n  \\n  \\n  \\n  <div class=\"star clearfix\">\\n        <span class=\"allstar45\"></span>\\n        <span class=\"rating_nums\">9.1</span>\\n\\n    <span class=\"pl\">\\n        (399165人评价)\\n    </span>\\n  </div>\\n\\n\\n\\n        \\n  \\n  \\n  \\n    <p>“只希望能手牵手在太阳下散步”，这个象征故事内核的绝望念想，有如一个美丽的幌子，随着无数凌乱、压抑、悲凉的故事片段像纪录片一样一一还原：没有痴痴相思，没有海... </p>\\n\\n\\n\\n\\n\\n\\n      <div class=\"ft\">\\n          \\n  <div class=\"collect-info\">\\n  </div>\\n\\n\\n          <div class=\"cart-actions\">\\n            \\n                \\n  \\n\\n\\n          </div>\\n\\n            \\n            \\n  \\n\\n      </div>\\n\\n    </div>\\n  </li>\\n  \\n\\n      \\n      \\n  \\n  <li class=\"subject-item\">\\n    <div class=\"pic\">\\n      <a class=\"nbg\" href=\"https://book.douban.com/subject/3211779/\" \\n  onclick=\"moreurl(this,{i:\\'4\\',query:\\'\\',subject_id:\\'3211779\\',from:\\'book_subject_search\\'})\">\\n        <img class=\"\" src=\"https://img3.doubanio.com/view/subject/m/public/s3254244.jpg\"\\n          width=\"90\">\\n      </a>\\n    </div>\\n    <div class=\"info\">\\n      <h2 class=\"\">\\n        \\n  \\n  <a href=\"https://book.douban.com/subject/3211779/\" title=\"嫌疑人X的献身\" \\n  onclick=\"moreurl(this,{i:\\'4\\',query:\\'\\',subject_id:\\'3211779\\',from:\\'book_subject_search\\'})\">\\n\\n    嫌疑人X的献身\\n\\n\\n    \\n\\n  </a>\\n\\n      </h2>\\n      <div class=\"pub\">\\n        \\n  \\n  [日] 东野圭吾 / 刘子倩 / 南海出版公司 / 2008-9 / 28.00\\n\\n      </div>\\n\\n\\n        \\n  \\n  \\n  \\n  <div class=\"star clearfix\">\\n        <span class=\"allstar45\"></span>\\n        <span class=\"rating_nums\">8.9</span>\\n\\n    <span class=\"pl\">\\n        (332079人评价)\\n    </span>\\n  </div>\\n\\n\\n\\n        \\n  \\n  \\n  \\n    <p>百年一遇的数学天才石神，每天唯一的乐趣，便是去固定的便当店买午餐，只为看一眼在便当店做事的邻居靖子。\\n靖子与女儿相依为命，失手杀了前来纠缠的前夫。石神提出由... </p>\\n\\n\\n\\n\\n\\n\\n      <div class=\"ft\">\\n          \\n  <div class=\"collect-info\">\\n  </div>\\n\\n\\n          <div class=\"cart-actions\">\\n            \\n                \\n  \\n\\n    <span class=\"buy-info\">\\n      <a href=\"https://book.douban.com/subject/3211779/buylinks\">\\n        纸质版 14.70 元起\\n      </a>\\n    </span>\\n\\n          </div>\\n\\n            \\n            \\n  \\n\\n      </div>\\n\\n    </div>\\n  </li>\\n  \\n\\n      \\n      \\n  \\n  <li class=\"subject-item\">\\n    <div class=\"pic\">\\n      <a class=\"nbg\" href=\"https://book.douban.com/subject/2567698/\" \\n  onclick=\"moreurl(this,{i:\\'5\\',query:\\'\\',subject_id:\\'2567698\\',from:\\'book_subject_search\\'})\">\\n        <img class=\"\" src=\"https://img1.doubanio.com/view/subject/m/public/s2768378.jpg\"\\n          width=\"90\">\\n      </a>\\n    </div>\\n    <div class=\"info\">\\n      <h2 class=\"\">\\n        \\n  \\n  <a href=\"https://book.douban.com/subject/2567698/\" title=\"三体\" \\n  onclick=\"moreurl(this,{i:\\'5\\',query:\\'\\',subject_id:\\'2567698\\',from:\\'book_subject_search\\'})\">\\n\\n    三体\\n\\n\\n    \\n      <span style=\"font-size:12px;\"> : “地球往事”三部曲之一 </span>\\n\\n  </a>\\n\\n      </h2>\\n      <div class=\"pub\">\\n        \\n  \\n  刘慈欣 / 重庆出版社 / 2008-1 / 23.00\\n\\n      </div>\\n\\n\\n        \\n  \\n  \\n  \\n  <div class=\"star clearfix\">\\n        <span class=\"allstar45\"></span>\\n        <span class=\"rating_nums\">8.8</span>\\n\\n    <span class=\"pl\">\\n        (320034人评价)\\n    </span>\\n  </div>\\n\\n\\n\\n        \\n  \\n  \\n  \\n    <p>文化大革命如火如荼进行的同时。军方探寻外星文明的绝秘计划“红岸工程”取得了突破性进展。但在按下发射键的那一刻，历经劫难的叶文洁没有意识到，她彻底改变了人类的... </p>\\n\\n\\n\\n\\n\\n\\n      <div class=\"ft\">\\n          \\n  <div class=\"collect-info\">\\n  </div>\\n\\n\\n          <div class=\"cart-actions\">\\n            \\n              <span class=\"market-info\">\\n                <a href=\"https://book.douban.com/subject/2567698/?channel=subject_list&amp;platform=web\" target=\"_blank\">在豆瓣购买</a>\\n              </span>\\n          </div>\\n\\n            \\n            \\n  \\n\\n      </div>\\n\\n    </div>\\n  </li>\\n  \\n\\n      \\n      \\n  \\n  <li class=\"subject-item\">\\n    <div class=\"pic\">\\n      <a class=\"nbg\" href=\"https://book.douban.com/subject/1008145/\" \\n  onclick=\"moreurl(this,{i:\\'6\\',query:\\'\\',subject_id:\\'1008145\\',from:\\'book_subject_search\\'})\">\\n        <img class=\"\" src=\"https://img3.doubanio.com/view/subject/m/public/s1070222.jpg\"\\n          width=\"90\">\\n      </a>\\n    </div>\\n    <div class=\"info\">\\n      <h2 class=\"\">\\n        \\n  \\n  <a href=\"https://book.douban.com/subject/1008145/\" title=\"围城\" \\n  onclick=\"moreurl(this,{i:\\'6\\',query:\\'\\',subject_id:\\'1008145\\',from:\\'book_subject_search\\'})\">\\n\\n    围城\\n\\n\\n    \\n\\n  </a>\\n\\n      </h2>\\n      <div class=\"pub\">\\n        \\n  \\n  钱锺书 / 人民文学出版社 / 1991-2 / 19.00\\n\\n      </div>\\n\\n\\n        \\n  \\n  \\n  \\n  <div class=\"star clearfix\">\\n        <span class=\"allstar45\"></span>\\n        <span class=\"rating_nums\">8.9</span>\\n\\n    <span class=\"pl\">\\n        (314975人评价)\\n    </span>\\n  </div>\\n\\n\\n\\n        \\n  \\n  \\n  \\n    <p>《围城》是钱钟书所著的长篇小说。第一版于1947年由上海晨光出版公司出版。1949年之后，由于政治等方面的原因，本书长期无法在中国大陆和台湾重印，仅在香港出... </p>\\n\\n\\n\\n\\n\\n\\n      <div class=\"ft\">\\n          \\n  <div class=\"collect-info\">\\n  </div>\\n\\n\\n          <div class=\"cart-actions\">\\n            \\n                \\n  \\n\\n\\n          </div>\\n\\n            \\n            \\n  \\n\\n      </div>\\n\\n    </div>\\n  </li>\\n  \\n\\n      \\n      \\n  \\n  <li class=\"subject-item\">\\n    <div class=\"pic\">\\n      <a class=\"nbg\" href=\"https://book.douban.com/subject/1200840/\" \\n  onclick=\"moreurl(this,{i:\\'7\\',query:\\'\\',subject_id:\\'1200840\\',from:\\'book_subject_search\\'})\">\\n        <img class=\"\" src=\"https://img3.doubanio.com/view/subject/m/public/s1144911.jpg\"\\n          width=\"90\">\\n      </a>\\n    </div>\\n    <div class=\"info\">\\n      <h2 class=\"\">\\n        \\n  \\n  <a href=\"https://book.douban.com/subject/1200840/\" title=\"平凡的世界（全三部）\" \\n  onclick=\"moreurl(this,{i:\\'7\\',query:\\'\\',subject_id:\\'1200840\\',from:\\'book_subject_search\\'})\">\\n\\n    平凡的世界（全三部）\\n\\n\\n    \\n\\n  </a>\\n\\n      </h2>\\n      <div class=\"pub\">\\n        \\n  \\n  路遥 / 人民文学出版社 / 2005-1 / 64.00元\\n\\n      </div>\\n\\n\\n        \\n  \\n  \\n  \\n  <div class=\"star clearfix\">\\n        <span class=\"allstar45\"></span>\\n        <span class=\"rating_nums\">9.0</span>\\n\\n    <span class=\"pl\">\\n        (202162人评价)\\n    </span>\\n  </div>\\n\\n\\n\\n        \\n  \\n  \\n  \\n    <p>《平凡的世界》是一部现实主义小说，也是一部小说形式的家族史。作者浓缩了中国西北农村的历史变迁过程，在小说中全景式地表现了中国当代城乡的社会生活。在近十年的广... </p>\\n\\n\\n\\n\\n\\n\\n      <div class=\"ft\">\\n          \\n  <div class=\"collect-info\">\\n  </div>\\n\\n\\n          <div class=\"cart-actions\">\\n            \\n                \\n  \\n\\n\\n          </div>\\n\\n            \\n            \\n  \\n\\n      </div>\\n\\n    </div>\\n  </li>\\n  \\n\\n      \\n      \\n  \\n  <li class=\"subject-item\">\\n    <div class=\"pic\">\\n      <a class=\"nbg\" href=\"https://book.douban.com/subject/1007305/\" \\n  onclick=\"moreurl(this,{i:\\'8\\',query:\\'\\',subject_id:\\'1007305\\',from:\\'book_subject_search\\'})\">\\n        <img class=\"\" src=\"https://img1.doubanio.com/view/subject/m/public/s1070959.jpg\"\\n          width=\"90\">\\n      </a>\\n    </div>\\n    <div class=\"info\">\\n      <h2 class=\"\">\\n        \\n  \\n  <a href=\"https://book.douban.com/subject/1007305/\" title=\"红楼梦\" \\n  onclick=\"moreurl(this,{i:\\'8\\',query:\\'\\',subject_id:\\'1007305\\',from:\\'book_subject_search\\'})\">\\n\\n    红楼梦\\n\\n\\n    \\n\\n  </a>\\n\\n      </h2>\\n      <div class=\"pub\">\\n        \\n  \\n  [清] 曹雪芹 著、高鹗 续 / 人民文学出版社 / 1996-12 / 59.70元\\n\\n      </div>\\n\\n\\n        \\n  \\n  \\n  \\n  <div class=\"star clearfix\">\\n        <span class=\"allstar50\"></span>\\n        <span class=\"rating_nums\">9.6</span>\\n\\n    <span class=\"pl\">\\n        (227392人评价)\\n    </span>\\n  </div>\\n\\n\\n\\n        \\n  \\n  \\n  \\n    <p>《红楼梦》是一部百科全书式的长篇小说。以宝黛爱情悲剧为主线，以四大家族的荣辱兴衰为背景，描绘出18世纪中国封建社会的方方面面，以及封建专制下新兴资本主义民主... </p>\\n\\n\\n\\n\\n\\n\\n      <div class=\"ft\">\\n          \\n  <div class=\"collect-info\">\\n  </div>\\n\\n\\n          <div class=\"cart-actions\">\\n            \\n              <span class=\"market-info\">\\n                <a href=\"https://book.douban.com/subject/1007305/?channel=subject_list&amp;platform=web\" target=\"_blank\">在豆瓣购买</a>\\n              </span>\\n          </div>\\n\\n            \\n            \\n  \\n\\n      </div>\\n\\n    </div>\\n  </li>\\n  \\n\\n      \\n      \\n  \\n  <li class=\"subject-item\">\\n    <div class=\"pic\">\\n      <a class=\"nbg\" href=\"https://book.douban.com/subject/1084336/\" \\n  onclick=\"moreurl(this,{i:\\'9\\',query:\\'\\',subject_id:\\'1084336\\',from:\\'book_subject_search\\'})\">\\n        <img class=\"\" src=\"https://img3.doubanio.com/view/subject/m/public/s1103152.jpg\"\\n          width=\"90\">\\n      </a>\\n    </div>\\n    <div class=\"info\">\\n      <h2 class=\"\">\\n        \\n  \\n  <a href=\"https://book.douban.com/subject/1084336/\" title=\"小王子\" \\n  onclick=\"moreurl(this,{i:\\'9\\',query:\\'\\',subject_id:\\'1084336\\',from:\\'book_subject_search\\'})\">\\n\\n    小王子\\n\\n\\n    \\n\\n  </a>\\n\\n      </h2>\\n      <div class=\"pub\">\\n        \\n  \\n  [法] 圣埃克苏佩里 / 马振聘 / 人民文学出版社 / 2003-8 / 22.00元\\n\\n      </div>\\n\\n\\n        \\n  \\n  \\n  \\n  <div class=\"star clearfix\">\\n        <span class=\"allstar45\"></span>\\n        <span class=\"rating_nums\">9.0</span>\\n\\n    <span class=\"pl\">\\n        (460604人评价)\\n    </span>\\n  </div>\\n\\n\\n\\n        \\n  \\n  \\n  \\n    <p>小王子是一个超凡脱俗的仙童，他住在一颗只比他大一丁点儿的小行星上。陪伴他的是一朵他非常喜爱的小玫瑰花。但玫瑰花的虚荣心伤害了小王子对她的感情。小王子告别小行... </p>\\n\\n\\n\\n\\n\\n\\n      <div class=\"ft\">\\n          \\n  <div class=\"collect-info\">\\n  </div>\\n\\n\\n          <div class=\"cart-actions\">\\n            \\n                \\n  \\n\\n\\n          </div>\\n\\n            \\n            \\n  \\n\\n      </div>\\n\\n    </div>\\n  </li>\\n  \\n\\n      \\n      \\n  \\n  <li class=\"subject-item\">\\n    <div class=\"pic\">\\n      <a class=\"nbg\" href=\"https://book.douban.com/subject/26954760/\" \\n  onclick=\"moreurl(this,{i:\\'10\\',query:\\'\\',subject_id:\\'26954760\\',from:\\'book_subject_search\\'})\">\\n        <img class=\"\" src=\"https://img1.doubanio.com/view/subject/m/public/s29634528.jpg\"\\n          width=\"90\">\\n      </a>\\n    </div>\\n    <div class=\"info\">\\n      <h2 class=\"\">\\n        \\n  \\n  <a href=\"https://book.douban.com/subject/26954760/\" title=\"月亮与六便士\" \\n  onclick=\"moreurl(this,{i:\\'10\\',query:\\'\\',subject_id:\\'26954760\\',from:\\'book_subject_search\\'})\">\\n\\n    月亮与六便士\\n\\n\\n    \\n\\n  </a>\\n\\n      </h2>\\n      <div class=\"pub\">\\n        \\n  \\n  [英] 威廉·萨默塞特·毛姆 / 徐淳刚 / 浙江文艺出版社 / 2017-1-1 / 39.80元\\n\\n      </div>\\n\\n\\n        \\n  \\n  \\n  \\n  <div class=\"star clearfix\">\\n        <span class=\"allstar45\"></span>\\n        <span class=\"rating_nums\">8.8</span>\\n\\n    <span class=\"pl\">\\n        (102126人评价)\\n    </span>\\n  </div>\\n\\n\\n\\n        \\n  \\n  \\n  \\n    <p>“满地都是六便士，他却抬头看见了月亮。”\\n银行家查尔斯，人到中年，事业有成，为了追求内心隐秘的绘画梦想，突然抛妻别子，弃家出走。他深知：人的每一种身份都是一... </p>\\n\\n\\n\\n\\n\\n\\n      <div class=\"ft\">\\n          \\n  <div class=\"collect-info\">\\n  </div>\\n\\n\\n          <div class=\"cart-actions\">\\n            \\n              <span class=\"market-info\">\\n                <a href=\"https://book.douban.com/subject/26954760/?channel=subject_list&amp;platform=web\" target=\"_blank\">在豆瓣购买</a>\\n              </span>\\n          </div>\\n\\n            \\n            \\n  \\n    \\n    \\n  <div class=\"ebook-link\">\\n    <a target=\"_blank\" href=\"https://read.douban.com/ebook/34157247/?dcs=tag-buylink&amp;dcm=douban&amp;dct=26954760\">去看电子版</a>\\n  </div>\\n  \\n\\n\\n      </div>\\n\\n    </div>\\n  </li>\\n  \\n\\n      \\n      \\n  \\n  <li class=\"subject-item\">\\n    <div class=\"pic\">\\n      <a class=\"nbg\" href=\"https://book.douban.com/subject/1043815/\" \\n  onclick=\"moreurl(this,{i:\\'11\\',query:\\'\\',subject_id:\\'1043815\\',from:\\'book_subject_search\\'})\">\\n        <img class=\"\" src=\"https://img3.doubanio.com/view/subject/m/public/s1146040.jpg\"\\n          width=\"90\">\\n      </a>\\n    </div>\\n    <div class=\"info\">\\n      <h2 class=\"\">\\n        \\n  \\n  <a href=\"https://book.douban.com/subject/1043815/\" title=\"骆驼祥子\" \\n  onclick=\"moreurl(this,{i:\\'11\\',query:\\'\\',subject_id:\\'1043815\\',from:\\'book_subject_search\\'})\">\\n\\n    骆驼祥子\\n\\n\\n    \\n\\n  </a>\\n\\n      </h2>\\n      <div class=\"pub\">\\n        \\n  \\n  老舍 / 人民文学出版社 / 2000-3-1 / 12.00\\n\\n      </div>\\n\\n\\n        \\n  \\n  \\n  \\n  <div class=\"star clearfix\">\\n        <span class=\"allstar40\"></span>\\n        <span class=\"rating_nums\">8.4</span>\\n\\n    <span class=\"pl\">\\n        (113277人评价)\\n    </span>\\n  </div>\\n\\n\\n\\n        \\n  \\n  \\n  \\n    <p>《骆驼祥子》是老舍用同情的笔触描绘的一幕悲剧：二十年代的北京，一个勤劳、壮实的底层社会小人物怀着发家、奋斗的美好梦想，却最终为黑暗的暴风雨所吞噬。它揭示了当... </p>\\n\\n\\n\\n\\n\\n\\n      <div class=\"ft\">\\n          \\n  <div class=\"collect-info\">\\n  </div>\\n\\n\\n          <div class=\"cart-actions\">\\n            \\n                \\n  \\n\\n\\n          </div>\\n\\n            \\n            \\n  \\n\\n      </div>\\n\\n    </div>\\n  </li>\\n  \\n\\n      \\n      \\n  \\n  <li class=\"subject-item\">\\n    <div class=\"pic\">\\n      <a class=\"nbg\" href=\"https://book.douban.com/subject/6082808/\" \\n  onclick=\"moreurl(this,{i:\\'12\\',query:\\'\\',subject_id:\\'6082808\\',from:\\'book_subject_search\\'})\">\\n        <img class=\"\" src=\"https://img3.doubanio.com/view/subject/m/public/s6384944.jpg\"\\n          width=\"90\">\\n      </a>\\n    </div>\\n    <div class=\"info\">\\n      <h2 class=\"\">\\n        \\n  \\n  <a href=\"https://book.douban.com/subject/6082808/\" title=\"百年孤独\" \\n  onclick=\"moreurl(this,{i:\\'12\\',query:\\'\\',subject_id:\\'6082808\\',from:\\'book_subject_search\\'})\">\\n\\n    百年孤独\\n\\n\\n    \\n\\n  </a>\\n\\n      </h2>\\n      <div class=\"pub\">\\n        \\n  \\n  [哥伦比亚] 加西亚·马尔克斯 / 范晔 / 南海出版公司 / 2011-6 / 39.50元\\n\\n      </div>\\n\\n\\n        \\n  \\n  \\n  \\n  <div class=\"star clearfix\">\\n        <span class=\"allstar45\"></span>\\n        <span class=\"rating_nums\">9.2</span>\\n\\n    <span class=\"pl\">\\n        (234037人评价)\\n    </span>\\n  </div>\\n\\n\\n\\n        \\n  \\n  \\n  \\n    <p>《百年孤独》是魔幻现实主义文学的代表作，描写了布恩迪亚家族七代人的传奇故事，以及加勒比海沿岸小镇马孔多的百年兴衰，反映了拉丁美洲一个世纪以来风云变幻的历史。... </p>\\n\\n\\n\\n\\n\\n\\n      <div class=\"ft\">\\n          \\n  <div class=\"collect-info\">\\n  </div>\\n\\n\\n          <div class=\"cart-actions\">\\n            \\n                \\n  \\n\\n    <span class=\"buy-info\">\\n      <a href=\"https://book.douban.com/subject/6082808/buylinks\">\\n        纸质版 31.60 元起\\n      </a>\\n    </span>\\n\\n          </div>\\n\\n            \\n            \\n  \\n\\n      </div>\\n\\n    </div>\\n  </li>\\n  \\n\\n      \\n      \\n  \\n  <li class=\"subject-item\">\\n    <div class=\"pic\">\\n      <a class=\"nbg\" href=\"https://book.douban.com/subject/1029791/\" \\n  onclick=\"moreurl(this,{i:\\'13\\',query:\\'\\',subject_id:\\'1029791\\',from:\\'book_subject_search\\'})\">\\n        <img class=\"\" src=\"https://img3.doubanio.com/view/subject/m/public/s1074291.jpg\"\\n          width=\"90\">\\n      </a>\\n    </div>\\n    <div class=\"info\">\\n      <h2 class=\"\">\\n        \\n  \\n  <a href=\"https://book.douban.com/subject/1029791/\" title=\"许三观卖血记\" \\n  onclick=\"moreurl(this,{i:\\'13\\',query:\\'\\',subject_id:\\'1029791\\',from:\\'book_subject_search\\'})\">\\n\\n    许三观卖血记\\n\\n\\n    \\n\\n  </a>\\n\\n      </h2>\\n      <div class=\"pub\">\\n        \\n  \\n  余华 / 南海出版公司 / 1998-9 / 16.80元\\n\\n      </div>\\n\\n\\n        \\n  \\n  \\n  \\n  <div class=\"star clearfix\">\\n        <span class=\"allstar45\"></span>\\n        <span class=\"rating_nums\">8.7</span>\\n\\n    <span class=\"pl\">\\n        (150274人评价)\\n    </span>\\n  </div>\\n\\n\\n\\n        \\n  \\n  \\n  \\n    <p>《许三观卖血记》是余华1995年创作的一部长篇小说，它以博大的温情描绘了磨难中的人生，以激烈的故事形式表达了人在面对厄运时求生的欲望。小说讲述了许三观靠着卖... </p>\\n\\n\\n\\n\\n\\n\\n      <div class=\"ft\">\\n          \\n  <div class=\"collect-info\">\\n  </div>\\n\\n\\n          <div class=\"cart-actions\">\\n            \\n                \\n  \\n\\n\\n          </div>\\n\\n            \\n            \\n  \\n\\n      </div>\\n\\n    </div>\\n  </li>\\n  \\n\\n      \\n      \\n  \\n  <li class=\"subject-item\">\\n    <div class=\"pic\">\\n      <a class=\"nbg\" href=\"https://book.douban.com/subject/27614904/\" \\n  onclick=\"moreurl(this,{i:\\'14\\',query:\\'\\',subject_id:\\'27614904\\',from:\\'book_subject_search\\'})\">\\n        <img class=\"\" src=\"https://img3.doubanio.com/view/subject/m/public/s29651121.jpg\"\\n          width=\"90\">\\n      </a>\\n    </div>\\n    <div class=\"info\">\\n      <h2 class=\"\">\\n        \\n  \\n  <a href=\"https://book.douban.com/subject/27614904/\" title=\"房思琪的初恋乐园\" \\n  onclick=\"moreurl(this,{i:\\'14\\',query:\\'\\',subject_id:\\'27614904\\',from:\\'book_subject_search\\'})\">\\n\\n    房思琪的初恋乐园\\n\\n\\n    \\n\\n  </a>\\n\\n      </h2>\\n      <div class=\"pub\">\\n        \\n  \\n  林奕含 / 北京联合出版公司 / 2018-1 / 45.00元\\n\\n      </div>\\n\\n\\n        \\n  \\n  \\n  \\n  <div class=\"star clearfix\">\\n        <span class=\"allstar45\"></span>\\n        <span class=\"rating_nums\">9.2</span>\\n\\n    <span class=\"pl\">\\n        (113087人评价)\\n    </span>\\n  </div>\\n\\n\\n\\n        \\n  \\n  \\n  \\n    <p>令人心碎却无能为力的真实故事。\\n向死而生的文学绝唱  打动万千读者的年度华语小说。\\n李银河 戴锦华 骆以军 张悦然 冯唐 詹宏志 蒋方舟 史航 等多位学者作... </p>\\n\\n\\n\\n\\n\\n\\n      <div class=\"ft\">\\n          \\n  <div class=\"collect-info\">\\n  </div>\\n\\n\\n          <div class=\"cart-actions\">\\n            \\n              <span class=\"market-info\">\\n                <a href=\"https://book.douban.com/subject/27614904/?channel=subject_list&amp;platform=web\" target=\"_blank\">在豆瓣购买</a>\\n              </span>\\n          </div>\\n\\n            \\n            \\n  \\n    \\n    \\n  <div class=\"ebook-link\">\\n    <a target=\"_blank\" href=\"https://read.douban.com/ebook/46023318/?dcs=tag-buylink&amp;dcm=douban&amp;dct=27614904\">去看电子版</a>\\n  </div>\\n  \\n\\n\\n      </div>\\n\\n    </div>\\n  </li>\\n  \\n\\n      \\n      \\n  \\n  <li class=\"subject-item\">\\n    <div class=\"pic\">\\n      <a class=\"nbg\" href=\"https://book.douban.com/subject/1016003/\" \\n  onclick=\"moreurl(this,{i:\\'15\\',query:\\'\\',subject_id:\\'1016003\\',from:\\'book_subject_search\\'})\">\\n        <img class=\"\" src=\"https://img9.doubanio.com/view/subject/m/public/s1242786.jpg\"\\n          width=\"90\">\\n      </a>\\n    </div>\\n    <div class=\"info\">\\n      <h2 class=\"\">\\n        \\n  \\n  <a href=\"https://book.douban.com/subject/1016003/\" title=\"鲁滨逊漂流记\" \\n  onclick=\"moreurl(this,{i:\\'15\\',query:\\'\\',subject_id:\\'1016003\\',from:\\'book_subject_search\\'})\">\\n\\n    鲁滨逊漂流记\\n\\n\\n    \\n\\n  </a>\\n\\n      </h2>\\n      <div class=\"pub\">\\n        \\n  \\n  [英] 笛福 / 马静 / 广西民族出版社 / 2002-1 / 9.20元\\n\\n      </div>\\n\\n\\n        \\n  \\n  \\n  \\n  <div class=\"star clearfix\">\\n        <span class=\"allstar40\"></span>\\n        <span class=\"rating_nums\">8.1</span>\\n\\n    <span class=\"pl\">\\n        (124294人评价)\\n    </span>\\n  </div>\\n\\n\\n\\n        \\n  \\n  \\n  \\n    <p>《鲁滨逊飘流记》是18世纪英国作家达尼尔·笛福的代表作品，也是一部具有广泛的世界性影响的作品。\\n小说以1704年一名苏格兰水手亚历山大·薛里基洛克航海遇险，... </p>\\n\\n\\n\\n\\n\\n\\n      <div class=\"ft\">\\n          \\n  <div class=\"collect-info\">\\n  </div>\\n\\n\\n          <div class=\"cart-actions\">\\n            \\n                \\n  \\n\\n\\n          </div>\\n\\n            \\n            \\n  \\n\\n      </div>\\n\\n    </div>\\n  </li>\\n  \\n\\n      \\n      \\n  \\n  <li class=\"subject-item\">\\n    <div class=\"pic\">\\n      <a class=\"nbg\" href=\"https://book.douban.com/subject/4011670/\" \\n  onclick=\"moreurl(this,{i:\\'16\\',query:\\'\\',subject_id:\\'4011670\\',from:\\'book_subject_search\\'})\">\\n        <img class=\"\" src=\"https://img9.doubanio.com/view/subject/m/public/s6100756.jpg\"\\n          width=\"90\">\\n      </a>\\n    </div>\\n    <div class=\"info\">\\n      <h2 class=\"\">\\n        \\n  \\n  <a href=\"https://book.douban.com/subject/4011670/\" title=\"人间失格\" \\n  onclick=\"moreurl(this,{i:\\'16\\',query:\\'\\',subject_id:\\'4011670\\',from:\\'book_subject_search\\'})\">\\n\\n    人间失格\\n\\n\\n    \\n\\n  </a>\\n\\n      </h2>\\n      <div class=\"pub\">\\n        \\n  \\n  太宰治 / 许时嘉 / 吉林出版集团有限责任公司 / 2009年9月 / 16.00元\\n\\n      </div>\\n\\n\\n        \\n  \\n  \\n  \\n  <div class=\"star clearfix\">\\n        <span class=\"allstar40\"></span>\\n        <span class=\"rating_nums\">8.3</span>\\n\\n    <span class=\"pl\">\\n        (149289人评价)\\n    </span>\\n  </div>\\n\\n\\n\\n        \\n  \\n  \\n  \\n    <p>《人间失格》是日本著名小说家太宰治最具影响力的小说作品，同时也是糸色望（注：动漫《再见！绝望先生》的主角）老师日常生活必备的读物之一。另外在日本轻小说《文学... </p>\\n\\n\\n\\n\\n\\n\\n      <div class=\"ft\">\\n          \\n  <div class=\"collect-info\">\\n  </div>\\n\\n\\n          <div class=\"cart-actions\">\\n            \\n                \\n  \\n\\n\\n          </div>\\n\\n            \\n            \\n  \\n\\n      </div>\\n\\n    </div>\\n  </li>\\n  \\n\\n      \\n      \\n  \\n  <li class=\"subject-item\">\\n    <div class=\"pic\">\\n      <a class=\"nbg\" href=\"https://book.douban.com/subject/1948901/\" \\n  onclick=\"moreurl(this,{i:\\'17\\',query:\\'\\',subject_id:\\'1948901\\',from:\\'book_subject_search\\'})\">\\n        <img class=\"\" src=\"https://img3.doubanio.com/view/subject/m/public/s4442295.jpg\"\\n          width=\"90\">\\n      </a>\\n    </div>\\n    <div class=\"info\">\\n      <h2 class=\"\">\\n        \\n  \\n  <a href=\"https://book.douban.com/subject/1948901/\" title=\"盗墓笔记\" \\n  onclick=\"moreurl(this,{i:\\'17\\',query:\\'\\',subject_id:\\'1948901\\',from:\\'book_subject_search\\'})\">\\n\\n    盗墓笔记\\n\\n\\n    \\n      <span style=\"font-size:12px;\"> : 七星鲁王宫 </span>\\n\\n  </a>\\n\\n      </h2>\\n      <div class=\"pub\">\\n        \\n  \\n  南派三叔 / 中国友谊出版公司 / 2007-1 / 26.80元\\n\\n      </div>\\n\\n\\n        \\n  \\n  \\n  \\n  <div class=\"star clearfix\">\\n        <span class=\"allstar40\"></span>\\n        <span class=\"rating_nums\">8.3</span>\\n\\n    <span class=\"pl\">\\n        (137690人评价)\\n    </span>\\n  </div>\\n\\n\\n\\n        \\n  \\n  \\n  \\n    <p>五十年前，一群长沙土夫子（盗墓贼）挖到一部战国帛书，残篇中记载了一座奇特的战国古墓的位置，但那群土夫子在地下碰上了诡异事件，几乎全部身亡。\\n五十年后，其中一... </p>\\n\\n\\n\\n\\n\\n\\n      <div class=\"ft\">\\n          \\n  <div class=\"collect-info\">\\n  </div>\\n\\n\\n          <div class=\"cart-actions\">\\n            \\n                \\n  \\n\\n    <span class=\"buy-info\">\\n      <a href=\"https://book.douban.com/subject/1948901/buylinks\">\\n        纸质版 19.60 元起\\n      </a>\\n    </span>\\n\\n          </div>\\n\\n            \\n            \\n  \\n\\n      </div>\\n\\n    </div>\\n  </li>\\n  \\n\\n      \\n      \\n  \\n  <li class=\"subject-item\">\\n    <div class=\"pic\">\\n      <a class=\"nbg\" href=\"https://book.douban.com/subject/1057244/\" \\n  onclick=\"moreurl(this,{i:\\'18\\',query:\\'\\',subject_id:\\'1057244\\',from:\\'book_subject_search\\'})\">\\n        <img class=\"\" src=\"https://img1.doubanio.com/view/subject/m/public/s1595557.jpg\"\\n          width=\"90\">\\n      </a>\\n    </div>\\n    <div class=\"info\">\\n      <h2 class=\"\">\\n        \\n  \\n  <a href=\"https://book.douban.com/subject/1057244/\" title=\"边城\" \\n  onclick=\"moreurl(this,{i:\\'18\\',query:\\'\\',subject_id:\\'1057244\\',from:\\'book_subject_search\\'})\">\\n\\n    边城\\n\\n\\n    \\n\\n  </a>\\n\\n      </h2>\\n      <div class=\"pub\">\\n        \\n  \\n  沈从文、黄永玉 卓雅 插图. / 北岳文艺出版社 / 2002-4 / 12.00元\\n\\n      </div>\\n\\n\\n        \\n  \\n  \\n  \\n  <div class=\"star clearfix\">\\n        <span class=\"allstar45\"></span>\\n        <span class=\"rating_nums\">8.6</span>\\n\\n    <span class=\"pl\">\\n        (145447人评价)\\n    </span>\\n  </div>\\n\\n\\n\\n        \\n  \\n  \\n  \\n    <p>《边城》是沈从文的代表作，写于一九三三年至一九三四年初。这篇作品如沈从文的其他湘西作品，着眼于普通人、善良人的命运变迁，描摹了湘女翠翠阴差阳错的生活悲剧，诚... </p>\\n\\n\\n\\n\\n\\n\\n      <div class=\"ft\">\\n          \\n  <div class=\"collect-info\">\\n  </div>\\n\\n\\n          <div class=\"cart-actions\">\\n            \\n                \\n  \\n\\n    <span class=\"buy-info\">\\n      <a href=\"https://book.douban.com/subject/1057244/buylinks\">\\n        纸质版 7.10 元起\\n      </a>\\n    </span>\\n\\n          </div>\\n\\n            \\n            \\n  \\n\\n      </div>\\n\\n    </div>\\n  </li>\\n  \\n\\n      \\n      \\n  \\n  <li class=\"subject-item\">\\n    <div class=\"pic\">\\n      <a class=\"nbg\" href=\"https://book.douban.com/subject/1046265/\" \\n  onclick=\"moreurl(this,{i:\\'19\\',query:\\'\\',subject_id:\\'1046265\\',from:\\'book_subject_search\\'})\">\\n        <img class=\"\" src=\"https://img3.doubanio.com/view/subject/m/public/s1228930.jpg\"\\n          width=\"90\">\\n      </a>\\n    </div>\\n    <div class=\"info\">\\n      <h2 class=\"\">\\n        \\n  \\n  <a href=\"https://book.douban.com/subject/1046265/\" title=\"挪威的森林\" \\n  onclick=\"moreurl(this,{i:\\'19\\',query:\\'\\',subject_id:\\'1046265\\',from:\\'book_subject_search\\'})\">\\n\\n    挪威的森林\\n\\n\\n    \\n\\n  </a>\\n\\n      </h2>\\n      <div class=\"pub\">\\n        \\n  \\n  [日] 村上春树 / 林少华 / 上海译文出版社 / 2001-2 / 18.80元\\n\\n      </div>\\n\\n\\n        \\n  \\n  \\n  \\n  <div class=\"star clearfix\">\\n        <span class=\"allstar40\"></span>\\n        <span class=\"rating_nums\">8.0</span>\\n\\n    <span class=\"pl\">\\n        (287832人评价)\\n    </span>\\n  </div>\\n\\n\\n\\n        \\n  \\n  \\n  \\n    <p>这是一部动人心弦的、平缓舒雅的、略带感伤的恋爱小说。小说主人公渡边以第一人称展开他同两个女孩间的爱情纠葛。渡边的第一个恋人直子原是他高中要好同学木月的女友，... </p>\\n\\n\\n\\n\\n\\n\\n      <div class=\"ft\">\\n          \\n  <div class=\"collect-info\">\\n  </div>\\n\\n\\n          <div class=\"cart-actions\">\\n            \\n                \\n  \\n\\n    <span class=\"buy-info\">\\n      <a href=\"https://book.douban.com/subject/1046265/buylinks\">\\n        纸质版 7.20 元起\\n      </a>\\n    </span>\\n\\n          </div>\\n\\n            \\n            \\n  \\n\\n      </div>\\n\\n    </div>\\n  </li>\\n  \\n\\n  </ul>\\n\\n\\n      \\n    \\n    \\n    \\n        <div class=\"paginator\">\\n        <span class=\"prev\">\\n            &lt;前页\\n        </span>\\n        \\n        \\n\\n                <span class=\"thispage\">1</span>\\n                \\n            <a href=\"/tag/小说?start=20&amp;type=T\" >2</a>\\n        \\n                \\n            <a href=\"/tag/小说?start=40&amp;type=T\" >3</a>\\n        \\n                \\n            <a href=\"/tag/小说?start=60&amp;type=T\" >4</a>\\n        \\n                \\n            <a href=\"/tag/小说?start=80&amp;type=T\" >5</a>\\n        \\n                \\n            <a href=\"/tag/小说?start=100&amp;type=T\" >6</a>\\n        \\n                \\n            <a href=\"/tag/小说?start=120&amp;type=T\" >7</a>\\n        \\n                \\n            <a href=\"/tag/小说?start=140&amp;type=T\" >8</a>\\n        \\n                \\n            <a href=\"/tag/小说?start=160&amp;type=T\" >9</a>\\n        \\n            <span class=\"break\">...</span>\\n                \\n            <a href=\"/tag/小说?start=7600&amp;type=T\" >381</a>\\n        \\n            <a href=\"/tag/小说?start=7620&amp;type=T\" >382</a>\\n        \\n        <span class=\"next\">\\n            <link rel=\"next\" href=\"/tag/小说?start=20&amp;type=T\"/>\\n            <a href=\"/tag/小说?start=20&amp;type=T\" >后页&gt;</a>\\n        </span>\\n\\n        </div>\\n\\n\\n  </div>\\n</div>\\n      <div class=\"aside\">\\n        \\n  <br/>\\n  <div id=\"dale_book_tag_top_right\"></div>\\n\\n    \\n  \\n\\n  <h2>\\n    <span class=\"\">相关的标签</span>\\n      &nbsp;&middot;&nbsp;&middot;&nbsp;&middot;&nbsp;&middot;&nbsp;&middot;&nbsp;&middot;\\n\\n  </h2>\\n\\n\\n    \\n  <div class=\"tags-list\">\\n      <a href=\"/tag/外国文学\">外国文学</a>\\n      <a href=\"/tag/言情\">言情</a>\\n      <a href=\"/tag/美国\">美国</a>\\n      <a href=\"/tag/文学\">文学</a>\\n      <a href=\"/tag/爱情\">爱情</a>\\n      <a href=\"/tag/中国\">中国</a>\\n      <a href=\"/tag/中国文学\">中国文学</a>\\n      <a href=\"/tag/英国\">英国</a>\\n  </div>\\n\\n\\n  \\n  <form name=\"tsp_form\" action=\"/tag/\" method=\"GET\">\\n    <input name=\"search_text\" class=\"j a_search_text\" type=\"text\" size=\"24\" maxlength=\"36\" title=\"去其他标签\" value=\"\"/>\\n    <input class=\"butt\" type=\"submit\" value=\"进入\"/>\\n  </form>\\n  <br/>\\n  <br/>\\n\\n\\n  <p class=\"pl2 mb30\">\\n    &gt; <a href=\"/tag/\">浏览全部图书标签</a>\\n  </p>\\n\\n\\n    <br/>\\n    <br/>\\n    \\n<div class=\"block5 movie_show\">\\n    <h2>最近受关注的书-小说</h2>\\n    <div class=\"content clearfix\" id=\"book_rec\">\\n            <dl>\\n                <dt><a onclick=\"moreurl(this, {\\'r1001\\':\\'book-tag-top\\'})\" \\n                href=\"https://book.douban.com/subject/2230208/\"><img src=\"https://img1.doubanio.com/view/subject/s/public/s2720819.jpg\" \\n                class=\"m_sub_img\" /></a></dt>\\n                <dd><a onclick=\"moreurl(this, {\\'r1001\\':\\'book-tag-top\\'})\"\\n                href=\"https://book.douban.com/subject/2230208/\">我的前半生</a>\\n                </dd>\\n            </dl>\\n            <dl>\\n                <dt><a onclick=\"moreurl(this, {\\'r1001\\':\\'book-tag-top\\'})\" \\n                href=\"https://book.douban.com/subject/25967870/\"><img src=\"https://img1.doubanio.com/view/subject/s/public/s27432697.jpg\" \\n                class=\"m_sub_img\" /></a></dt>\\n                <dd><a onclick=\"moreurl(this, {\\'r1001\\':\\'book-tag-top\\'})\"\\n                href=\"https://book.douban.com/subject/25967870/\">长白秘闻之不咸灵迹</a>\\n                </dd>\\n            </dl>\\n            <dl>\\n                <dt><a onclick=\"moreurl(this, {\\'r1001\\':\\'book-tag-top\\'})\" \\n                href=\"https://book.douban.com/subject/1003000/\"><img src=\"https://img3.doubanio.com/view/subject/s/public/s9026255.jpg\" \\n                class=\"m_sub_img\" /></a></dt>\\n                <dd><a onclick=\"moreurl(this, {\\'r1001\\':\\'book-tag-top\\'})\"\\n                href=\"https://book.douban.com/subject/1003000/\">悟空传</a>\\n                </dd>\\n            </dl>\\n            <div class=\"clearfix rr\" style=\"width:100%\"></div>\\n            <dl>\\n                <dt><a onclick=\"moreurl(this, {\\'r1001\\':\\'book-tag-top\\'})\" \\n                href=\"https://book.douban.com/subject/27035382/\"><img src=\"https://img1.doubanio.com/view/subject/s/public/s29460229.jpg\" \\n                class=\"m_sub_img\" /></a></dt>\\n                <dd><a onclick=\"moreurl(this, {\\'r1001\\':\\'book-tag-top\\'})\"\\n                href=\"https://book.douban.com/subject/27035382/\">七根凶简</a>\\n                </dd>\\n            </dl>\\n            <dl>\\n                <dt><a onclick=\"moreurl(this, {\\'r1001\\':\\'book-tag-top\\'})\" \\n                href=\"https://book.douban.com/subject/27028847/\"><img src=\"https://img9.doubanio.com/view/subject/s/public/s29466436.jpg\" \\n                class=\"m_sub_img\" /></a></dt>\\n                <dd><a onclick=\"moreurl(this, {\\'r1001\\':\\'book-tag-top\\'})\"\\n                href=\"https://book.douban.com/subject/27028847/\">沉睡的人鱼之家</a>\\n                </dd>\\n            </dl>\\n            <dl>\\n                <dt><a onclick=\"moreurl(this, {\\'r1001\\':\\'book-tag-top\\'})\" \\n                href=\"https://book.douban.com/subject/27079142/\"><img src=\"https://img1.doubanio.com/view/subject/s/public/s29484809.jpg\" \\n                class=\"m_sub_img\" /></a></dt>\\n                <dd><a onclick=\"moreurl(this, {\\'r1001\\':\\'book-tag-top\\'})\"\\n                href=\"https://book.douban.com/subject/27079142/\">有匪3</a>\\n                </dd>\\n            </dl>\\n            <div class=\"clearfix rr\" style=\"width:100%\"></div>\\n    </div>\\n</div>\\n\\n\\n\\n  \\n\\n\\n\\n\\n    \\n<script type=\"text/javascript\">\\n    (function (global) {\\n        var newNode = global.document.createElement(\\'script\\'),\\n            existingNode = global.document.getElementsByTagName(\\'script\\')[0],\\n            adSource = \\'//erebor.douban.com/\\',\\n            userId = \\'\\',\\n            browserId = \\'j5AtOBvzX_s\\',\\n            criteria = \\'3:/tag/小说?start=0&amp;type=T\\',\\n            preview = \\'\\',\\n            debug = false,\\n            adSlots = [\\'dale_book_tag_top_right\\'];\\n\\n        global.DoubanAdRequest = {src: adSource, uid: userId, bid: browserId, crtr: criteria, prv: preview, debug: debug};\\n        global.DoubanAdSlots = (global.DoubanAdSlots || []).concat(adSlots);\\n\\n        newNode.setAttribute(\\'type\\', \\'text/javascript\\');\\n        newNode.setAttribute(\\'src\\', \\'//img1.doubanio.com/dDY0Zjl6NS9mL2FkanMvNGQ1MjFiYTY2ZGE0MjE4OTc4YmYyOWZhODVjZDA2ZDdmODAyMTlkMy9hZC5yZWxlYXNlLmpz\\');\\n        newNode.setAttribute(\\'async\\', true);\\n        existingNode.parentNode.insertBefore(newNode, existingNode);\\n    })(this);\\n</script>\\n\\n\\n\\n\\n\\n\\n\\n\\n\\n\\n\\n      </div>\\n      <div class=\"extra\">\\n        \\n      </div>\\n    </div>\\n  </div>\\n\\n        \\n  <div id=\"footer\">\\n    \\n<span id=\"icp\" class=\"fleft gray-link\">\\n    &copy; 2005－2019 douban.com, all rights reserved 北京豆网科技有限公司\\n</span>\\n\\n<a href=\"https://www.douban.com/hnypt/variformcyst.py\" style=\"display: none;\"></a>\\n\\n<span class=\"fright\">\\n    <a href=\"https://www.douban.com/about\">关于豆瓣</a>\\n    · <a href=\"https://www.douban.com/jobs\">在豆瓣工作</a>\\n    · <a href=\"https://www.douban.com/about?topic=contactus\">联系我们</a>\\n    · <a href=\"https://www.douban.com/about/legal\">法律声明</a>\\n    \\n    · <a href=\"https://help.douban.com/?app=book\" target=\"_blank\">帮助中心</a>\\n    · <a href=\"https://book.douban.com/library_invitation\">图书馆合作</a>\\n    · <a href=\"https://www.douban.com/doubanapp/\">移动应用</a>\\n    · <a href=\"https://www.douban.com/partner/\">豆瓣广告</a>\\n</span>\\n\\n  </div>\\n\\n    </div>\\n      \\n  \\n\\n    <!-- COLLECTED JS -->\\n    <!-- mako -->\\n    \\n  <script>\\n    $(function () {\\n      function update_tags(current) {\\n        html = $.map(current, function(o) {return \\'<span class=\"tags-name\">\\' + o + \\'</span><sup class=\"tags-del\"></sup> \\'}).join(\\'<span class=\"tags-add\">+</span>\\');\\n        $(\\'h1\\').html(\\'<span class=\"name\">电影标签：</span>\\' + html);\\n      };\\n\\n      function get_current_tags() {\\n        var r = [];\\n        $(\\'.tags-name\\').each(function() {r.push($(this).text())});\\n        return r;\\n      };\\n\\n      function get_current_sort_type() {\\n        url = location.href;\\n        array = url.split(\"?\")\\n        if (array.length == 1) {\\n          return \"\";\\n        }\\n        query = array[1];\\n        arr = query.split(\"&\");\\n        for (var i = 0; i < arr.length; i++) {\\n          arr2 = arr[i].split(\\'=\\');\\n          if (arr2[0] == \"type\") {\\n            if (arr2.length == 1) {\\n              return \"\";\\n            }\\n            return arr2[1];\\n          }\\n        }\\n        return \"\";\\n      };\\n\\n      function update_subject_list(current, sort_type) {\\n        $(\\'#subject_list\\').html(\\'<span class=\"pl\">载入中，请稍候...</span>\\');\\n        $(\\'#subject_list\\').load_withck(\\'/j/tag/j_subject_list\\', {tags:current.join(\\' \\'), type:sort_type}, function() {});\\n      };\\n\\n      function update_related_tags_and_subject(current, sort_type) {\\n        update_related_tags(current, sort_type);\\n        // update_subject_list(current, sort_type);\\n      };\\n\\n      function update_related_tags(current, sort_type) {\\n        $(\\'#related_tags\\').load_withck(\\'/j/tag/j_related_tag\\', {tags:current.join(\\' \\'), type:sort_type}, function() {\\n          $(\\'.more\\').toggle(\\n            function () {\\n              $(\\'.tags-hide\\').css(\\'display\\', \\'inline\\');\\n              $(this).text(\\'收起▲\\');\\n            },\\n            function () {\\n              $(\\'.tags-hide\\').hide();\\n              $(this).text(\\'更多▼\\');\\n            }\\n          );\\n          $(\\'.tags-del\\').click(function () {\\n            if($(this).prev().prev().text() == \\'+\\') {\\n              $(this).prev().prev().remove();\\n            } else if ($(this).next().text() == \\'+\\') {\\n              $(this).next().remove();\\n            }\\n            $(this).prev().remove().end().remove();\\n            current = get_current_tags();\\n            if (current.length == 0){\\n              document.location.href = \\'/tag/\\';\\n            } else {\\n              //setHash(current.join(\\' \\'));\\n              //location.href = \\'/tag/\\' + (location.href).split(\\'#\\')[1] + \\'?type=\\' + sort_type;\\n              sort_type = get_current_sort_type();\\n              location.href = \\'/tag/\\' + current.join(\\' \\') + \\'?type=\\' + sort_type;\\n            }\\n          });\\n          $(\\'.add-tag\\').click(function () {\\n            current = get_current_tags();\\n            current.push($(this).text());\\n            update_tags(current);\\n            //setHash(current.join(\\' \\'));\\n            //location.href = \\'/tag/\\' + (location.href).split(\\'#\\')[1] + \\'?type=\\' + sort_type;\\n            sort_type = get_current_sort_type();\\n            location.href = \\'/tag/\\' + current.join(\\' \\') + \\'?type=\\' + sort_type;\\n          });\\n          $(\\'.tagsInput\\').keypress(function (e) {\\n            if (e.which == 13) {\\n              current = get_current_tags();\\n              current.push($(this).val());\\n              update_tags(current);\\n              sort_type = get_current_sort_type();\\n              //setHash(current.join(\\' \\'));\\n              //location.href = \\'/tag/\\' + (location.href).split(\\'#\\')[1] + \\'?type=\\' + sort_type;\\n              location.href = \\'/tag/\\' + current.join(\\' \\') + \\'?type=\\' + sort_type;\\n            }\\n          });\\n          checkInput($(\\'.tagsInput\\'));\\n        });\\n      };\\n\\n      current = get_current_tags();\\n      sort_type = get_current_sort_type();\\n      update_related_tags_and_subject(current, sort_type);\\n\\n      function checkInput (o) {\\n        if (!o.val() || o.val() == o.attr(\\'title\\')) {\\n          o.addClass(\\'greyinput\\');\\n          o.val(o.attr(\\'title\\'));\\n        }\\n        o.focus(function(){\\n          o.removeClass(\\'greyinput\\');\\n          if(o.val() == o.attr(\\'title\\')) o.val(\\'\\');\\n        });\\n        o.blur(function(){\\n          if(!o.val()){\\n            o.addClass(\\'greyinput\\');\\n            o.val(o.attr(\\'title\\'));\\n          }\\n        });\\n      }\\n\\n      if($.browser.msie && $.browser.version == 6.0) {\\n        $(\\'.tags-del\\').hover(\\n          function () { $(this).addClass(\\'tags-hover\\'); },\\n          function () { $(this).removeClass(\\'tags-hover\\'); }\\n        );\\n      }\\n      if (location.href.split(\\'#\\').length > 1) {\\n        //changeUrl ();\\n      }\\n\\n  });\\n\\n  function setHash (a) {\\n    $.browser.msie?$.locationHash(a):location.hash = a;\\n  }\\n  </script>\\n\\n    \\n  \\n\\n<script type=\"text/javascript\">\\n  var _paq = _paq || [];\\n  _paq.push([\\'trackPageView\\']);\\n  _paq.push([\\'enableLinkTracking\\']);\\n  (function() {\\n    var p=((\\'https:\\' == document.location.protocol) ? \\'https\\' : \\'http\\'), u=p+\\'://fundin.douban.com/\\';\\n    _paq.push([\\'setTrackerUrl\\', u+\\'piwik\\']);\\n    _paq.push([\\'setSiteId\\', \\'100001\\']);\\n    var d=document, g=d.createElement(\\'script\\'), s=d.getElementsByTagName(\\'script\\')[0]; \\n    g.type=\\'text/javascript\\';\\n    g.defer=true; \\n    g.async=true; \\n    g.src=p+\\'://s.doubanio.com/dae/fundin/piwik.js\\';\\n    s.parentNode.insertBefore(g,s);\\n  })();\\n</script>\\n\\n<script type=\"text/javascript\">\\nvar setMethodWithNs = function(namespace) {\\n  var ns = namespace ? namespace + \\'.\\' : \\'\\'\\n    , fn = function(string) {\\n        if(!ns) {return string}\\n        return ns + string\\n      }\\n  return fn\\n}\\n\\nvar gaWithNamespace = function(fn, namespace) {\\n  var method = setMethodWithNs(namespace)\\n  fn.call(this, method)\\n}\\n\\nvar _gaq = _gaq || []\\n  , accounts = [\\n      { id: \\'UA-7019765-1\\', namespace: \\'douban\\' }\\n    , { id: \\'UA-7019765-16\\', namespace: \\'\\' }\\n    ]\\n  , gaInit = function(account) {\\n      gaWithNamespace(function(method) {\\n        gaInitFn.call(this, method, account)\\n      }, account.namespace)\\n    }\\n  , gaInitFn = function(method, account) {\\n      _gaq.push([method(\\'_setAccount\\'), account.id])\\n\\n      \\n  _gaq.push([method(\\'_addOrganic\\'), \\'google\\', \\'q\\'])\\n  _gaq.push([method(\\'_addOrganic\\'), \\'baidu\\', \\'wd\\'])\\n  _gaq.push([method(\\'_addOrganic\\'), \\'soso\\', \\'w\\'])\\n  _gaq.push([method(\\'_addOrganic\\'), \\'youdao\\', \\'q\\'])\\n  _gaq.push([method(\\'_addOrganic\\'), \\'so.360.cn\\', \\'q\\'])\\n  _gaq.push([method(\\'_addOrganic\\'), \\'sogou\\', \\'query\\'])\\n  if (account.namespace) {\\n    _gaq.push([method(\\'_addIgnoredOrganic\\'), \\'豆瓣\\'])\\n    _gaq.push([method(\\'_addIgnoredOrganic\\'), \\'douban\\'])\\n    _gaq.push([method(\\'_addIgnoredOrganic\\'), \\'豆瓣网\\'])\\n    _gaq.push([method(\\'_addIgnoredOrganic\\'), \\'www.douban.com\\'])\\n  }\\n\\n      if (account.namespace === \\'douban\\') {\\n        _gaq.push([method(\\'_setDomainName\\'), \\'.douban.com\\'])\\n      }\\n\\n        _gaq.push([method(\\'_setCustomVar\\'), 1, \\'responsive_view_mode\\', \\'desktop\\', 3])\\n\\n        _gaq.push([method(\\'_setCustomVar\\'), 2, \\'login_status\\', \\'0\\', 2]);\\n\\n      _gaq.push([method(\\'_trackPageview\\')])\\n    }\\n\\nfor(var i = 0, l = accounts.length; i < l; i++) {\\n  var account = accounts[i]\\n  gaInit(account)\\n}\\n\\n\\n;(function() {\\n    var ga = document.createElement(\\'script\\');\\n    ga.src = (\\'https:\\' == document.location.protocol ? \\'https://ssl\\' : \\'http://www\\') + \\'.google-analytics.com/ga.js\\';\\n    ga.setAttribute(\\'async\\', \\'true\\');\\n    document.documentElement.firstChild.appendChild(ga);\\n})()\\n</script>\\n\\n\\n\\n\\n\\n\\n\\n\\n    <!-- dae-web-book--default-f97c5587f-xkzdb-->\\n\\n</body>\\n</html>\\n\\n\\n\\n\\n\\n\\n\\n\\n\\n\\n\\n\\n\\n\\n\\n\\n\\n\\n\\n\\n\\n\\n\\n\\n\\n\\n\\n\\n\\n\\n\\n\\n\\n\\n\\n\\n'"
      ]
     },
     "execution_count": 3,
     "metadata": {},
     "output_type": "execute_result"
    }
   ],
   "source": [
    "resp.text"
   ]
  },
  {
   "cell_type": "markdown",
   "metadata": {},
   "source": [
    "### 注意Response后面带有的状态码：\n",
    "- 2开头表示访问正常\n",
    "- 4开头，比如403表示爬虫被网站封锁\n",
    "- 5开头表示服务器出问题"
   ]
  },
  {
   "cell_type": "markdown",
   "metadata": {},
   "source": [
    "## Response对象\n",
    "\n",
    "|**Response对象的方法**|作用|\n",
    "|:---|:---|\n",
    "|**Response.json()**|获得json格式网页数据|\n",
    "|**Response.text**|获得html网页数据|\n",
    "|**Response.encoding**|更改网页数据的编码方式。除非使用Response.text得到的html中文本是乱码的，否则一般不用Response.encoding|\n",
    "|**Response.status_code**|查看当前访问的状态码， ``200`` 表示访问正常， ``4开头`` 的状态码表示访问出问题， ``5开头`` 的状态码表示服务器出问题|\n",
    "\n",
    "以上三种方法，最常用的是 ``text和json方法``， 分别对应于 ``html网页数据和json网页数据``"
   ]
  },
  {
   "cell_type": "markdown",
   "metadata": {},
   "source": [
    "### Response.text\n",
    "比如我们要获取``豆瓣阅读小说类目第一页的 html网页数据``，需要使用``Response.text``方法。"
   ]
  },
  {
   "cell_type": "code",
   "execution_count": 6,
   "metadata": {},
   "outputs": [],
   "source": [
    "#获取html网页数据。 注意req是Response对象\n",
    "resp.text"
   ]
  },
  {
   "cell_type": "markdown",
   "metadata": {},
   "source": [
    "### Response.json()\n",
    "\n",
    "例子：访问[**豆瓣电影**](https://movie.douban.com/tag)。\n",
    "\n",
    "\n",
    "这里经过抓包分析（**爬虫最重要的就是抓包分析**）找到页面对应的url为\n",
    "\n",
    "```\n",
    "https://movie.douban.com/j/new_search_subjects?sort=U&range=0,10&tags=&start=60\n",
    "\n",
    "https://movie.douban.com/j/new_search_subjects?sort=U&range=0,10&tags=&start=100\n",
    "https://movie.douban.com/j/new_search_subjects?sort=U&range=0,10&tags=&start=120\n",
    "https://movie.douban.com/j/new_search_subjects?sort=U&range=0,10&tags=&start=140\n",
    "https://movie.douban.com/j/new_search_subjects?sort=U&range=0,10&tags=&start=160\n",
    "```"
   ]
  },
  {
   "cell_type": "code",
   "execution_count": 7,
   "metadata": {},
   "outputs": [
    {
     "name": "stdout",
     "output_type": "stream",
     "text": [
      "https://movie.douban.com/j/new_search_subjects?sort=U&range=0,10&tags=&start=0\n",
      "https://movie.douban.com/j/new_search_subjects?sort=U&range=0,10&tags=&start=20\n",
      "https://movie.douban.com/j/new_search_subjects?sort=U&range=0,10&tags=&start=40\n",
      "https://movie.douban.com/j/new_search_subjects?sort=U&range=0,10&tags=&start=60\n",
      "https://movie.douban.com/j/new_search_subjects?sort=U&range=0,10&tags=&start=80\n",
      "https://movie.douban.com/j/new_search_subjects?sort=U&range=0,10&tags=&start=100\n",
      "https://movie.douban.com/j/new_search_subjects?sort=U&range=0,10&tags=&start=120\n",
      "https://movie.douban.com/j/new_search_subjects?sort=U&range=0,10&tags=&start=140\n",
      "https://movie.douban.com/j/new_search_subjects?sort=U&range=0,10&tags=&start=160\n"
     ]
    }
   ],
   "source": [
    "url_template = 'https://movie.douban.com/j/new_search_subjects?sort=U&range=0,10&tags=&start={param}'\n",
    "\n",
    "for p in range(1, 10):\n",
    "    url = url_template.format(param=(p-1)*20)\n",
    "    print(url)"
   ]
  },
  {
   "cell_type": "code",
   "execution_count": 9,
   "metadata": {
    "collapsed": true
   },
   "outputs": [
    {
     "data": {
      "text/plain": [
       "{'data': [{'directors': ['庄文强'],\n",
       "   'rate': '8.1',\n",
       "   'cover_x': 1000,\n",
       "   'star': '40',\n",
       "   'title': '无双',\n",
       "   'url': 'https://movie.douban.com/subject/26425063/',\n",
       "   'casts': ['周润发', '郭富城', '张静初', '冯文娟', '廖启智'],\n",
       "   'cover': 'https://img9.doubanio.com/view/photo/s_ratio_poster/public/p2535260806.jpg',\n",
       "   'id': '26425063',\n",
       "   'cover_y': 1400},\n",
       "  {'directors': ['黄渤'],\n",
       "   'rate': '7.1',\n",
       "   'cover_x': 1080,\n",
       "   'star': '35',\n",
       "   'title': '一出好戏',\n",
       "   'url': 'https://movie.douban.com/subject/26985127/',\n",
       "   'casts': ['黄渤', '舒淇', '王宝强', '张艺兴', '于和伟'],\n",
       "   'cover': 'https://img3.doubanio.com/view/photo/s_ratio_poster/public/p2529571873.jpg',\n",
       "   'id': '26985127',\n",
       "   'cover_y': 1512},\n",
       "  {'directors': ['李力持'],\n",
       "   'rate': '8.6',\n",
       "   'cover_x': 400,\n",
       "   'star': '45',\n",
       "   'title': '唐伯虎点秋香',\n",
       "   'url': 'https://movie.douban.com/subject/1306249/',\n",
       "   'casts': ['周星驰', '巩俐', '陈百祥', '郑佩佩', '朱咪咪'],\n",
       "   'cover': 'https://img3.doubanio.com/view/photo/s_ratio_poster/public/p1946455272.jpg',\n",
       "   'id': '1306249',\n",
       "   'cover_y': 530},\n",
       "  {'directors': ['刘伟强', '麦兆辉'],\n",
       "   'rate': '9.2',\n",
       "   'cover_x': 1000,\n",
       "   'star': '45',\n",
       "   'title': '无间道',\n",
       "   'url': 'https://movie.douban.com/subject/1307914/',\n",
       "   'casts': ['刘德华', '梁朝伟', '黄秋生', '曾志伟', '郑秀文'],\n",
       "   'cover': 'https://img3.doubanio.com/view/photo/s_ratio_poster/public/p2564556863.jpg',\n",
       "   'id': '1307914',\n",
       "   'cover_y': 1518},\n",
       "  {'directors': ['彼特·道格特', '鲍勃·彼德森'],\n",
       "   'rate': '9.0',\n",
       "   'cover_x': 2700,\n",
       "   'star': '45',\n",
       "   'title': '飞屋环游记',\n",
       "   'url': 'https://movie.douban.com/subject/2129039/',\n",
       "   'casts': ['爱德华·阿斯纳', '克里斯托弗·普卢默', '乔丹·长井', '鲍勃·彼德森', '戴尔里·林多'],\n",
       "   'cover': 'https://img3.doubanio.com/view/photo/s_ratio_poster/public/p485887754.jpg',\n",
       "   'id': '2129039',\n",
       "   'cover_y': 4000},\n",
       "  {'directors': ['罗伯·莱特曼'],\n",
       "   'rate': '6.5',\n",
       "   'cover_x': 1350,\n",
       "   'star': '35',\n",
       "   'title': '大侦探皮卡丘',\n",
       "   'url': 'https://movie.douban.com/subject/26835471/',\n",
       "   'casts': ['瑞恩·雷诺兹', '贾斯蒂斯·史密斯', '凯瑟琳·纽顿', '克里斯·吉尔', '比尔·奈伊'],\n",
       "   'cover': 'https://img1.doubanio.com/view/photo/s_ratio_poster/public/p2555538168.jpg',\n",
       "   'id': '26835471',\n",
       "   'cover_y': 2000},\n",
       "  {'directors': ['克里斯托夫·巴拉蒂'],\n",
       "   'rate': '9.3',\n",
       "   'cover_x': 491,\n",
       "   'star': '45',\n",
       "   'title': '放牛班的春天',\n",
       "   'url': 'https://movie.douban.com/subject/1291549/',\n",
       "   'casts': ['热拉尔·朱尼奥', '弗朗索瓦·贝莱昂', '凯德·麦拉德', '让-保罗·博奈雷', '玛丽·布奈尔'],\n",
       "   'cover': 'https://img3.doubanio.com/view/photo/s_ratio_poster/public/p1910824951.jpg',\n",
       "   'id': '1291549',\n",
       "   'cover_y': 655},\n",
       "  {'directors': ['安德鲁·斯坦顿'],\n",
       "   'rate': '9.3',\n",
       "   'cover_x': 3000,\n",
       "   'star': '45',\n",
       "   'title': '机器人总动员',\n",
       "   'url': 'https://movie.douban.com/subject/2131459/',\n",
       "   'casts': ['本·贝尔特', '艾丽莎·奈特', '杰夫·格尔林', '佛莱德·威拉特', '西格妮·韦弗'],\n",
       "   'cover': 'https://img3.doubanio.com/view/photo/s_ratio_poster/public/p1461851991.jpg',\n",
       "   'id': '2131459',\n",
       "   'cover_y': 4447},\n",
       "  {'directors': ['乔恩·费儒'],\n",
       "   'rate': '8.2',\n",
       "   'cover_x': 448,\n",
       "   'star': '40',\n",
       "   'title': '钢铁侠',\n",
       "   'url': 'https://movie.douban.com/subject/1432146/',\n",
       "   'casts': ['小罗伯特·唐尼', '泰伦斯·霍华德', '格温妮斯·帕特洛', '杰夫·布里吉斯', '莱丝莉·比伯'],\n",
       "   'cover': 'https://img1.doubanio.com/view/photo/s_ratio_poster/public/p725871968.jpg',\n",
       "   'id': '1432146',\n",
       "   'cover_y': 672},\n",
       "  {'directors': ['皮埃尔·柯芬', '克里斯·雷纳德'],\n",
       "   'rate': '8.6',\n",
       "   'cover_x': 1013,\n",
       "   'star': '45',\n",
       "   'title': '神偷奶爸',\n",
       "   'url': 'https://movie.douban.com/subject/3287562/',\n",
       "   'casts': ['史蒂夫·卡瑞尔', '杰森·席格尔', '拉塞尔·布兰德', '朱莉·安德鲁斯', '威尔·阿奈特'],\n",
       "   'cover': 'https://img1.doubanio.com/view/photo/s_ratio_poster/public/p792776858.jpg',\n",
       "   'id': '3287562',\n",
       "   'cover_y': 1500},\n",
       "  {'directors': ['鲁本·弗雷斯彻'],\n",
       "   'rate': '7.2',\n",
       "   'cover_x': 2050,\n",
       "   'star': '35',\n",
       "   'title': '毒液：致命守护者',\n",
       "   'url': 'https://movie.douban.com/subject/3168101/',\n",
       "   'casts': ['汤姆·哈迪', '米歇尔·威廉姆斯', '里兹·阿迈德', '斯科特·黑兹', '里德·斯科特'],\n",
       "   'cover': 'https://img3.doubanio.com/view/photo/s_ratio_poster/public/p2537158013.jpg',\n",
       "   'id': '3168101',\n",
       "   'cover_y': 2910},\n",
       "  {'directors': ['闫非', '彭大魔'],\n",
       "   'rate': '7.6',\n",
       "   'cover_x': 5906,\n",
       "   'star': '40',\n",
       "   'title': '夏洛特烦恼',\n",
       "   'url': 'https://movie.douban.com/subject/25964071/',\n",
       "   'casts': ['沈腾', '马丽', '尹正', '艾伦', '王智'],\n",
       "   'cover': 'https://img3.doubanio.com/view/photo/s_ratio_poster/public/p2264377763.jpg',\n",
       "   'id': '25964071',\n",
       "   'cover_y': 8268},\n",
       "  {'directors': ['克里斯托弗·诺兰'],\n",
       "   'rate': '9.2',\n",
       "   'cover_x': 4050,\n",
       "   'star': '45',\n",
       "   'title': '蝙蝠侠：黑暗骑士',\n",
       "   'url': 'https://movie.douban.com/subject/1851857/',\n",
       "   'casts': ['克里斯蒂安·贝尔', '希斯·莱杰', '艾伦·艾克哈特', '迈克尔·凯恩', '玛吉·吉伦哈尔'],\n",
       "   'cover': 'https://img3.doubanio.com/view/photo/s_ratio_poster/public/p462657443.jpg',\n",
       "   'id': '1851857',\n",
       "   'cover_y': 6000},\n",
       "  {'directors': ['罗伯托·贝尼尼'],\n",
       "   'rate': '9.5',\n",
       "   'cover_x': 2015,\n",
       "   'star': '50',\n",
       "   'title': '美丽人生',\n",
       "   'url': 'https://movie.douban.com/subject/1292063/',\n",
       "   'casts': ['罗伯托·贝尼尼', '尼可莱塔·布拉斯基', '乔治·坎塔里尼', '朱斯蒂诺·杜拉诺', '赛尔乔·比尼·布斯特里克'],\n",
       "   'cover': 'https://img3.doubanio.com/view/photo/s_ratio_poster/public/p510861873.jpg',\n",
       "   'id': '1292063',\n",
       "   'cover_y': 3000},\n",
       "  {'directors': ['宋阳', '张吃鱼'],\n",
       "   'rate': '6.9',\n",
       "   'cover_x': 2268,\n",
       "   'star': '35',\n",
       "   'title': '羞羞的铁拳',\n",
       "   'url': 'https://movie.douban.com/subject/27038183/',\n",
       "   'casts': ['艾伦', '马丽', '沈腾', '田雨', '宋阳'],\n",
       "   'cover': 'https://img1.doubanio.com/view/photo/s_ratio_poster/public/p2499793218.jpg',\n",
       "   'id': '27038183',\n",
       "   'cover_y': 3174},\n",
       "  {'directors': ['斯科特·德瑞克森'],\n",
       "   'rate': '7.6',\n",
       "   'cover_x': 1800,\n",
       "   'star': '40',\n",
       "   'title': '奇异博士',\n",
       "   'url': 'https://movie.douban.com/subject/3025375/',\n",
       "   'casts': ['本尼迪克特·康伯巴奇', '蒂尔达·斯文顿', '麦斯·米科尔森', '切瓦特·埃加福', '瑞秋·麦克亚当斯'],\n",
       "   'cover': 'https://img3.doubanio.com/view/photo/s_ratio_poster/public/p2388501883.jpg',\n",
       "   'id': '3025375',\n",
       "   'cover_y': 2521},\n",
       "  {'directors': ['陈思诚'],\n",
       "   'rate': '7.6',\n",
       "   'cover_x': 2850,\n",
       "   'star': '40',\n",
       "   'title': '唐人街探案',\n",
       "   'url': 'https://movie.douban.com/subject/26311973/',\n",
       "   'casts': ['王宝强', '刘昊然', '佟丽娅', '陈赫', '肖央'],\n",
       "   'cover': 'https://img9.doubanio.com/view/photo/s_ratio_poster/public/p2302930556.jpg',\n",
       "   'id': '26311973',\n",
       "   'cover_y': 3990},\n",
       "  {'directors': ['黄家康', '赵霁'],\n",
       "   'rate': '7.9',\n",
       "   'cover_x': 5315,\n",
       "   'star': '40',\n",
       "   'title': '白蛇：缘起',\n",
       "   'url': 'https://movie.douban.com/subject/30331149/',\n",
       "   'casts': ['张喆', '杨天翔', '唐小喜', '刘薇', '张遥函'],\n",
       "   'cover': 'https://img9.doubanio.com/view/photo/s_ratio_poster/public/p2544313786.jpg',\n",
       "   'id': '30331149',\n",
       "   'cover_y': 7441},\n",
       "  {'directors': ['克里斯·哥伦布'],\n",
       "   'rate': '8.9',\n",
       "   'cover_x': 550,\n",
       "   'star': '45',\n",
       "   'title': '哈利·波特与魔法石',\n",
       "   'url': 'https://movie.douban.com/subject/1295038/',\n",
       "   'casts': ['丹尼尔·雷德克里夫', '艾玛·沃森', '鲁伯特·格林特', '艾伦·瑞克曼', '玛吉·史密斯'],\n",
       "   'cover': 'https://img9.doubanio.com/view/photo/s_ratio_poster/public/p804947166.jpg',\n",
       "   'id': '1295038',\n",
       "   'cover_y': 814},\n",
       "  {'directors': ['乔·沃茨'],\n",
       "   'rate': '7.4',\n",
       "   'cover_x': 703,\n",
       "   'star': '35',\n",
       "   'title': '蜘蛛侠：英雄归来',\n",
       "   'url': 'https://movie.douban.com/subject/24753477/',\n",
       "   'casts': ['汤姆·赫兰德', '小罗伯特·唐尼', '玛丽莎·托梅', '迈克尔·基顿', '雅各布·巴特朗'],\n",
       "   'cover': 'https://img3.doubanio.com/view/photo/s_ratio_poster/public/p2497756471.jpg',\n",
       "   'id': '24753477',\n",
       "   'cover_y': 1000}]}"
      ]
     },
     "execution_count": 9,
     "metadata": {},
     "output_type": "execute_result"
    }
   ],
   "source": [
    "import requests\n",
    "\n",
    "url = 'https://movie.douban.com/j/new_search_subjects?sort=U&range=0,10&tags=&start=60'\n",
    "req = requests.get(url)\n",
    "\n",
    "req.json()"
   ]
  },
  {
   "cell_type": "markdown",
   "metadata": {},
   "source": [
    "# 自定义访问\n",
    "requests.get(url, headers, cookies)\n",
    "\n",
    "## headers将爬虫伪装成浏览器\n",
    "为了防止被网站封锁，我们需要将请求头headers加进访问信息中，从而将爬虫伪装成浏览器访问。\n",
    "\n",
    "最常见的headers只有一个**User-Agent参数**即可,**让网站误以为是Chrome浏览器在访问网页数据**。\n",
    "\n",
    "```python\n",
    "import requests\n",
    "\n",
    "h = {'User-Agent': 'Mozilla/5.0 (Macintosh; Intel Mac OS X 10_13_6) AppleWebKit/537.36 (KHTML, like Gecko) Chrome/72.0.3626.109 Safari/537.36'}\n",
    "\n",
    "url = '要访问网页的url'\n",
    "\n",
    "resp  = requests.get(url, headers = h)\n",
    "```\n",
    "\n",
    "**[大众点评杭州酒店页面](http://www.dianping.com/hangzhou/hotel)** 、 http://www.dianping.com/hangzhou/hotel"
   ]
  },
  {
   "cell_type": "code",
   "execution_count": 10,
   "metadata": {},
   "outputs": [
    {
     "data": {
      "text/plain": [
       "<Response [403]>"
      ]
     },
     "execution_count": 10,
     "metadata": {},
     "output_type": "execute_result"
    }
   ],
   "source": [
    "import requests\n",
    "\n",
    "url = 'http://www.dianping.com/hangzhou/hotel'\n",
    "resp = requests.get(url)\n",
    "\n",
    "#403，禁止我们爬虫访问\n",
    "resp"
   ]
  },
  {
   "cell_type": "code",
   "execution_count": 11,
   "metadata": {},
   "outputs": [
    {
     "data": {
      "text/plain": [
       "<Response [200]>"
      ]
     },
     "execution_count": 11,
     "metadata": {},
     "output_type": "execute_result"
    }
   ],
   "source": [
    "import requests\n",
    "\n",
    "url = 'http://www.dianping.com/hangzhou/hotel'\n",
    "headers = {'User-Agent': 'Mozilla/5.0 (Macintosh; Intel Mac OS X 10_14_6) AppleWebKit/537.36 (KHTML, like Gecko) Chrome/77.0.3865.120 Safari/537.36'}\n",
    "resp = requests.get(url, headers=headers)\n",
    "\n",
    "#200，经过简单伪装后的爬虫能正常访问\n",
    "resp"
   ]
  },
  {
   "cell_type": "markdown",
   "metadata": {},
   "source": [
    "## cookies-爬虫的免检令牌\n",
    "如果请求头加入headers还是得不到我们想要的网页数据，那么可能还缺cookies参数。因为这样的网站往往需要先登录后才能浏览网页，但是在写爬虫的时候我们可以使用cookies来解决无法访问的问题\n",
    "\n",
    "```python\n",
    "Cookie = {'Cookie':   '您的cookies'}\n",
    "\n",
    "req = requests.get(url, cookies=cookies)\n",
    "```"
   ]
  },
  {
   "cell_type": "markdown",
   "metadata": {},
   "source": [
    "## 如何应对反爬？\n",
    "- 控制访问频率, time.sleep(1) 1s一次访问\n",
    "- 伪装装成浏览器\n",
    "- 直接用selenium                         \n",
    "- 使用代理IP（速度并不快，还要花钱）,可以用手机网络开热点，飞行模式开启后，手机的ip就切换成新的ip\n",
    "\n",
    "基本上使用前两者就能满足绝大部分数据采集需要。"
   ]
  },
  {
   "cell_type": "code",
   "execution_count": null,
   "metadata": {},
   "outputs": [],
   "source": []
  }
 ],
 "metadata": {
  "kernelspec": {
   "display_name": "Python 3",
   "language": "python",
   "name": "python3"
  },
  "language_info": {
   "codemirror_mode": {
    "name": "ipython",
    "version": 3
   },
   "file_extension": ".py",
   "mimetype": "text/x-python",
   "name": "python",
   "nbconvert_exporter": "python",
   "pygments_lexer": "ipython3",
   "version": "3.7.2"
  },
  "toc": {
   "base_numbering": 1,
   "nav_menu": {},
   "number_sections": true,
   "sideBar": true,
   "skip_h1_title": false,
   "title_cell": "Table of Contents",
   "title_sidebar": "Contents",
   "toc_cell": true,
   "toc_position": {},
   "toc_section_display": true,
   "toc_window_display": true
  }
 },
 "nbformat": 4,
 "nbformat_minor": 2
}
