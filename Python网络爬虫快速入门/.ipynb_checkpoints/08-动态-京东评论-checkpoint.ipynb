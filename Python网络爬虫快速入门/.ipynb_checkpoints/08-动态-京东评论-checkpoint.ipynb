{
 "cells": [
  {
   "cell_type": "markdown",
   "metadata": {
    "toc": true
   },
   "source": [
    "<h1>Table of Contents<span class=\"tocSkip\"></span></h1>\n",
    "<div class=\"toc\"><ul class=\"toc-item\"><li><span><a href=\"#实战\" data-toc-modified-id=\"实战-1\"><span class=\"toc-item-num\">1&nbsp;&nbsp;</span>实战</a></span></li><li><span><a href=\"#实战分类\" data-toc-modified-id=\"实战分类-2\"><span class=\"toc-item-num\">2&nbsp;&nbsp;</span>实战分类</a></span><ul class=\"toc-item\"><li><span><a href=\"#视频讲解链接\" data-toc-modified-id=\"视频讲解链接-2.1\"><span class=\"toc-item-num\">2.1&nbsp;&nbsp;</span>视频讲解链接</a></span></li><li><span><a href=\"#京东评论\" data-toc-modified-id=\"京东评论-2.2\"><span class=\"toc-item-num\">2.2&nbsp;&nbsp;</span>京东评论</a></span><ul class=\"toc-item\"><li><span><a href=\"#京东爬虫的收获\" data-toc-modified-id=\"京东爬虫的收获-2.2.1\"><span class=\"toc-item-num\">2.2.1&nbsp;&nbsp;</span>京东爬虫的收获</a></span></li></ul></li></ul></li></ul></div>"
   ]
  },
  {
   "cell_type": "markdown",
   "metadata": {
    "slideshow": {
     "slide_type": "slide"
    }
   },
   "source": [
    "# 实战\n",
    "写爬虫流程：\n",
    "\n",
    "1. 在浏览器中打开网站的某个页面\n",
    "2. 打开开发者工具，对该网页进行刷新（查看Network信息，一般都会先点击”第二页“或者”查看更多“，试图发现规律，找到真正的网址）\n",
    "3. 如果是html网页，那么就用Element进行页面数据定位；如果是json数据，就在network中进行数据定位\n",
    "4. 存储数据\n",
    "5. 让程序自动化访问多个页面，重复1-4\n"
   ]
  },
  {
   "cell_type": "markdown",
   "metadata": {
    "slideshow": {
     "slide_type": "slide"
    }
   },
   "source": [
    "\n",
    "# 实战分类\n",
    "- 静态网站：如天涯、boss直聘、大众点评\n",
    "- 动态网页：京东评论、百度企业信用等 "
   ]
  },
  {
   "cell_type": "markdown",
   "metadata": {
    "slideshow": {
     "slide_type": "slide"
    }
   },
   "source": [
    "## 视频讲解链接\n",
    "https://www.bilibili.com/video/av72010301/?p=9\n",
    "\n",
    "## 京东评论\n",
    "https://item.jd.com/100001484839.html#comment\n",
    "\n",
    "https://sclub.jd.com/comment/productPageComments.action?callback=fetchJSON_comment98vv2990&productId=100001484839&score=0&sortType=5&page=3&pageSize=10&isShadowSku=0&rid=0&fold=1\n",
    "\n",
    "\n",
    "https://sclub.jd.com/comment/productPageComments.action?callback=fetchJSON_comment98vv2990&productId=100001484839&score=0&sortType=5&page=4&pageSize=10&isShadowSku=0&rid=0&fold=1\n"
   ]
  },
  {
   "cell_type": "code",
   "execution_count": null,
   "metadata": {
    "slideshow": {
     "slide_type": "subslide"
    }
   },
   "outputs": [],
   "source": [
    "import requests\n",
    "import json\n",
    "import csv \n",
    "import time\n",
    "\n",
    "csvf = open('output/京东.csv', 'a+', encoding='gbk', newline='')\n",
    "writer = csv.writer(csvf)\n",
    "writer.writerow(('content', 'creationTime', 'imageCount', 'days'))\n",
    "\n",
    "headers = {\"User-Agent\": \"Mozilla/5.0 (Macintosh; Intel Mac OS X 10_14_6) AppleWebKit/537.36 (KHTML, like Gecko) Chrome/77.0.3865.120 Safari/537.36\",\n",
    "           \"Referer\": \"https://item.jd.com/100001484839.html\"}\n",
    "url_template = 'https://sclub.jd.com/comment/productPageComments.action?callback=fetchJSON_comment98vv2990&productId=100001484839&score=0&sortType=5&page={Page}&pageSize=10&isShadowSku=0&rid=0&fold=1'\n",
    "\n",
    "\n",
    "for P in range(1, 10):\n",
    "    time.sleep(0.5)\n",
    "    url = url_template.format(Page=P)\n",
    "    resp = requests.get(url, headers=headers)\n",
    "    raw_datas = resp.text\n",
    "    datas = json.loads(raw_datas[26:-2])\n",
    "    comments = datas['comments']\n",
    "    for comment in comments:\n",
    "        content = comment['content']\n",
    "        creationTime = comment.get('creationTime')\n",
    "        imageCount = comment.get('imageCount')\n",
    "        days = comment.get('days')\n",
    "        try:\n",
    "            writer.writerow((content, creationTime, imageCount, days))\n",
    "            print(P, content, creationTime, imageCount, days)\n",
    "        except:\n",
    "            pass \n",
    "        \n",
    "csvf.close()"
   ]
  },
  {
   "cell_type": "markdown",
   "metadata": {
    "slideshow": {
     "slide_type": "slide"
    }
   },
   "source": [
    "### 京东爬虫的收获\n",
    "- headers很重要，没有headers京东不让爬呀\n",
    "- headers里不止有user-agent，还有Referer\n",
    "- Referer的意思是告诉网站我在哪里看到的你"
   ]
  }
 ],
 "metadata": {
  "celltoolbar": "幻灯片",
  "kernelspec": {
   "display_name": "Python 3",
   "language": "python",
   "name": "python3"
  },
  "language_info": {
   "codemirror_mode": {
    "name": "ipython",
    "version": 3
   },
   "file_extension": ".py",
   "mimetype": "text/x-python",
   "name": "python",
   "nbconvert_exporter": "python",
   "pygments_lexer": "ipython3",
   "version": "3.7.2"
  },
  "toc": {
   "base_numbering": 1,
   "nav_menu": {},
   "number_sections": true,
   "sideBar": true,
   "skip_h1_title": false,
   "title_cell": "Table of Contents",
   "title_sidebar": "Contents",
   "toc_cell": true,
   "toc_position": {
    "height": "calc(100% - 180px)",
    "left": "10px",
    "top": "150px",
    "width": "285px"
   },
   "toc_section_display": true,
   "toc_window_display": false
  }
 },
 "nbformat": 4,
 "nbformat_minor": 2
}
