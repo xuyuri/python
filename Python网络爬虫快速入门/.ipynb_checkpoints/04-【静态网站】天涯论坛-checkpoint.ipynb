{
 "cells": [
  {
   "cell_type": "markdown",
   "metadata": {},
   "source": []
  },
  {
   "cell_type": "markdown",
   "metadata": {},
   "source": [
    "# 实战\n",
    "写爬虫流程：\n",
    "\n",
    "1. 在浏览器中打开网站的某个页面\n",
    "2. 打开开发者工具，对该网页进行刷新（查看Network信息，一般都会先点击”第二页“或者”查看更多“，试图发现规律，找到真正的网址）\n",
    "3. 如果是html网页，那么就用Element进行页面数据定位；如果是json数据，就在network中进行数据定位\n",
    "4. 存储数据\n",
    "5. 让程序自动化访问多个页面，重复1-4\n",
    "\n",
    "# 实战分类\n",
    "- 静态网站：如天涯、boss直聘、大众点评\n",
    "- 动态网页：京东评论、豆瓣电影、百度企业信用等 "
   ]
  },
  {
   "cell_type": "markdown",
   "metadata": {},
   "source": [
    "## 天涯论坛\n",
    "\n",
    "http://bbs.tianya.cn/hotArticle.jsp?pn=3"
   ]
  },
  {
   "cell_type": "code",
   "execution_count": null,
   "metadata": {},
   "outputs": [],
   "source": []
  }
 ],
 "metadata": {
  "kernelspec": {
   "display_name": "Python 3",
   "language": "python",
   "name": "python3"
  },
  "language_info": {
   "codemirror_mode": {
    "name": "ipython",
    "version": 3
   },
   "file_extension": ".py",
   "mimetype": "text/x-python",
   "name": "python",
   "nbconvert_exporter": "python",
   "pygments_lexer": "ipython3",
   "version": "3.7.2"
  },
  "toc": {
   "base_numbering": 1,
   "nav_menu": {},
   "number_sections": true,
   "sideBar": true,
   "skip_h1_title": false,
   "title_cell": "Table of Contents",
   "title_sidebar": "Contents",
   "toc_cell": false,
   "toc_position": {},
   "toc_section_display": true,
   "toc_window_display": false
  }
 },
 "nbformat": 4,
 "nbformat_minor": 2
}
