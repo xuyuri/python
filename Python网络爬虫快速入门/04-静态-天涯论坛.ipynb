{
 "cells": [
  {
   "cell_type": "markdown",
   "metadata": {},
   "source": []
  },
  {
   "cell_type": "markdown",
   "metadata": {},
   "source": [
    "# 实战\n",
    "写爬虫流程：\n",
    "\n",
    "1. 在浏览器中打开网站的某个url页面\n",
    "2. 找网址规律（开发者工具）\n",
    "3. 开发者工具定位\n",
    "4. 保存数据\n",
    "5. for循环把所有对url批量访问和保存\n",
    "\n",
    "# 实战分类\n",
    "- 静态网站html：如天涯、boss直聘、大众点评\n",
    "- 动态网页json：京东评论、百度企业信用等 "
   ]
  },
  {
   "cell_type": "markdown",
   "metadata": {},
   "source": [
    "## 视频讲解链接\n",
    "https://www.bilibili.com/video/av72010301/?p=5\n",
    "\n",
    "## 天涯论坛\n",
    "\n",
    "http://bbs.tianya.cn/hotArticle.jsp?pn=3\n"
   ]
  },
  {
   "cell_type": "code",
   "execution_count": null,
   "metadata": {},
   "outputs": [],
   "source": [
    "import csv\n",
    "import requests\n",
    "from pyquery import PyQuery\n",
    "\n",
    "#新建文件保存\n",
    "# mac\n",
    "# csvf = open('output/tianya.csv', 'a+', encoding='gbk', newline='')\n",
    "csvf = open('output\\\\tianya.csv', 'a+', encoding='gbk', newline='')\n",
    "writer = csv.writer(csvf)\n",
    "writer.writerow(('title', 'author'))\n",
    "\n",
    "#访问\n",
    "url_template = 'http://bbs.tianya.cn/hotArticle.jsp?pn={page}'\n",
    "for page in range(1, 8):\n",
    "    url = url_template.format(page=page)\n",
    "    resp = requests.get(url)\n",
    "    doc = PyQuery(resp.text)\n",
    "\n",
    "    for item in doc.items('table tbody tr'):\n",
    "        #print(item)\n",
    "        title = item('td').eq(0).text()\n",
    "        author = item('td').eq(1).text()\n",
    "        print(page, title, author)\n",
    "        try:\n",
    "            writer.writerow((title, author))\n",
    "        except:\n",
    "            pass\n",
    "\n",
    "csvf.close()"
   ]
  }
 ],
 "metadata": {
  "kernelspec": {
   "display_name": "Python 3",
   "language": "python",
   "name": "python3"
  },
  "language_info": {
   "codemirror_mode": {
    "name": "ipython",
    "version": 3
   },
   "file_extension": ".py",
   "mimetype": "text/x-python",
   "name": "python",
   "nbconvert_exporter": "python",
   "pygments_lexer": "ipython3",
   "version": "3.7.2"
  },
  "toc": {
   "base_numbering": 1,
   "nav_menu": {},
   "number_sections": true,
   "sideBar": true,
   "skip_h1_title": false,
   "title_cell": "Table of Contents",
   "title_sidebar": "Contents",
   "toc_cell": false,
   "toc_position": {},
   "toc_section_display": true,
   "toc_window_display": false
  }
 },
 "nbformat": 4,
 "nbformat_minor": 2
}
