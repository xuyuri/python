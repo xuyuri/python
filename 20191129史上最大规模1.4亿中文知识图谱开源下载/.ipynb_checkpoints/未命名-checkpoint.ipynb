{
 "cells": [
  {
   "cell_type": "markdown",
   "metadata": {},
   "source": [
    "![](kg.png)\n",
    "知识就是力量，知识图谱是人工智能新时代的产物，简单地说知识图谱就是通过关联关系将知识组成网状的结构，然后我们的人工智能可以通过这个图谱来认识其代表的这一个现实事件，这个事件可以是现实，也可以是虚构的。\n",
    "\n",
    "本次ownthink开源了史上最大规模的中文知识图谱，数据是以\n",
    "- 实体、属性、值\n",
    "- 实体、关系、实体\n",
    "\n",
    "混合的形式组织，采用csv数据格式，ownthink_v2.csv下载链接见文末。\n",
    "\n",
    "查看知识图谱数据："
   ]
  },
  {
   "cell_type": "code",
   "execution_count": null,
   "metadata": {},
   "outputs": [],
   "source": [
    "import pandas as pd\n",
    "\n",
    "chunks = pd.read_csv('ownthink_v2.csv', iterator=True, low_memory=False)\n",
    "chunk = chunks.get_chunk(5)\n",
    "chunk"
   ]
  },
  {
   "cell_type": "code",
   "execution_count": null,
   "metadata": {},
   "outputs": [],
   "source": [
    "\n",
    "\n",
    "$ head ownthink_v2.csv\n",
    "实体,属性,值\n",
    "胶饴,描述,别名: 饴糖、畅糖、畅、软糖。\n",
    "词条,描述,词条（拼音：cí tiáo）也叫词目，是辞书学用语，指收列的词语及其释文。\n",
    "词条,标签,文化\n",
    "红色食品,描述,红色食品是指食品为红色、橙红色或棕红色的食品。\n",
    "红色食品,中文名,红色食品\n",
    "红色食品,是否含防腐剂,否\n",
    "红色食品,主要食用功效,预防感冒，缓解疲劳\n",
    "红色食品,适宜人群,全部人群\n",
    "红色食品,用途,增强表皮细胞再生和防止皮肤衰老"
   ]
  }
 ],
 "metadata": {
  "kernelspec": {
   "display_name": "Python 3",
   "language": "python",
   "name": "python3"
  },
  "language_info": {
   "codemirror_mode": {
    "name": "ipython",
    "version": 3
   },
   "file_extension": ".py",
   "mimetype": "text/x-python",
   "name": "python",
   "nbconvert_exporter": "python",
   "pygments_lexer": "ipython3",
   "version": "3.7.4"
  },
  "toc": {
   "base_numbering": 1,
   "nav_menu": {},
   "number_sections": false,
   "sideBar": true,
   "skip_h1_title": false,
   "title_cell": "Table of Contents",
   "title_sidebar": "Contents",
   "toc_cell": false,
   "toc_position": {},
   "toc_section_display": true,
   "toc_window_display": true
  }
 },
 "nbformat": 4,
 "nbformat_minor": 2
}
