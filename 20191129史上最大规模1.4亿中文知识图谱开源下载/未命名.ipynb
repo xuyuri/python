{
 "cells": [
  {
   "cell_type": "markdown",
   "metadata": {},
   "source": [
    "![](kg.png)\n",
    "知识就是力量，知识图谱是人工智能新时代的产物，简单地说知识图谱就是通过关联关系将知识组成网状的结构，然后我们的人工智能可以通过这个图谱来认识其代表的这一个现实事件，这个事件可以是现实，也可以是虚构的。\n",
    "\n",
    "本次ownthink开源了史上最大规模的中文知识图谱，数据是以\n",
    "- 实体、属性、值\n",
    "- 实体、关系、实体\n",
    "\n",
    "混合的形式组织，采用csv数据格式，ownthink_v2.csv下载链接见文末。\n",
    "\n",
    "ownthink_v2.csv文件8.57G,直接读取肯定会很慢很卡。\n",
    "\n",
    "### 先读取前5条数据看看样子\n",
    "下面的代码是可迭代读取方式"
   ]
  },
  {
   "cell_type": "code",
   "execution_count": 3,
   "metadata": {},
   "outputs": [
    {
     "name": "stdout",
     "output_type": "stream",
     "text": [
      "<class 'pandas.core.frame.DataFrame'>\n"
     ]
    },
    {
     "data": {
      "text/html": [
       "<div>\n",
       "<style scoped>\n",
       "    .dataframe tbody tr th:only-of-type {\n",
       "        vertical-align: middle;\n",
       "    }\n",
       "\n",
       "    .dataframe tbody tr th {\n",
       "        vertical-align: top;\n",
       "    }\n",
       "\n",
       "    .dataframe thead th {\n",
       "        text-align: right;\n",
       "    }\n",
       "</style>\n",
       "<table border=\"1\" class=\"dataframe\">\n",
       "  <thead>\n",
       "    <tr style=\"text-align: right;\">\n",
       "      <th></th>\n",
       "      <th>实体</th>\n",
       "      <th>属性</th>\n",
       "      <th>值</th>\n",
       "    </tr>\n",
       "  </thead>\n",
       "  <tbody>\n",
       "    <tr>\n",
       "      <th>0</th>\n",
       "      <td>胶饴</td>\n",
       "      <td>描述</td>\n",
       "      <td>别名: 饴糖、畅糖、畅、软糖。</td>\n",
       "    </tr>\n",
       "    <tr>\n",
       "      <th>1</th>\n",
       "      <td>词条</td>\n",
       "      <td>描述</td>\n",
       "      <td>词条（拼音：cí tiáo）也叫词目，是辞书学用语，指收列的词语及其释文。</td>\n",
       "    </tr>\n",
       "    <tr>\n",
       "      <th>2</th>\n",
       "      <td>词条</td>\n",
       "      <td>标签</td>\n",
       "      <td>文化</td>\n",
       "    </tr>\n",
       "    <tr>\n",
       "      <th>3</th>\n",
       "      <td>红色食品</td>\n",
       "      <td>描述</td>\n",
       "      <td>红色食品是指食品为红色、橙红色或棕红色的食品。</td>\n",
       "    </tr>\n",
       "    <tr>\n",
       "      <th>4</th>\n",
       "      <td>红色食品</td>\n",
       "      <td>中文名</td>\n",
       "      <td>红色食品</td>\n",
       "    </tr>\n",
       "  </tbody>\n",
       "</table>\n",
       "</div>"
      ],
      "text/plain": [
       "     实体   属性                                      值\n",
       "0    胶饴   描述                        别名: 饴糖、畅糖、畅、软糖。\n",
       "1    词条   描述  词条（拼音：cí tiáo）也叫词目，是辞书学用语，指收列的词语及其释文。\n",
       "2    词条   标签                                     文化\n",
       "3  红色食品   描述                红色食品是指食品为红色、橙红色或棕红色的食品。\n",
       "4  红色食品  中文名                                   红色食品"
      ]
     },
     "execution_count": 3,
     "metadata": {},
     "output_type": "execute_result"
    }
   ],
   "source": [
    "import pandas as pd\n",
    "\n",
    "chunks = pd.read_csv('ownthink_v2.csv', iterator=True)\n",
    "chunk = chunks.get_chunk(5)\n",
    "print(type(chunk))\n",
    "chunk"
   ]
  },
  {
   "cell_type": "markdown",
   "metadata": {},
   "source": [
    "\n",
    "### 分块读取"
   ]
  },
  {
   "cell_type": "code",
   "execution_count": null,
   "metadata": {},
   "outputs": [],
   "source": [
    "import pandas as pd\n",
    "\n",
    "max_times = 10\n",
    "readers = pd.read_csv('ownthink_v2.csv', chunksize=5)\n",
    "for reader in readers:\n",
    "    reader\n",
    "    #做一些查询"
   ]
  },
  {
   "cell_type": "markdown",
   "metadata": {},
   "source": [
    "到现在我也不知道有多少行，实在是太大了。\n",
    "\n",
    "如果想获取某个实体的属性和值，可以使用pd.read_csv的chunksize分批读取,这里我每批次读取5条数据，总共就显示50行就结束程序"
   ]
  },
  {
   "cell_type": "code",
   "execution_count": 9,
   "metadata": {},
   "outputs": [
    {
     "name": "stdout",
     "output_type": "stream",
     "text": [
      "     实体   属性                                      值\n",
      "0    胶饴   描述                        别名: 饴糖、畅糖、畅、软糖。\n",
      "1    词条   描述  词条（拼音：cí tiáo）也叫词目，是辞书学用语，指收列的词语及其释文。\n",
      "2    词条   标签                                     文化\n",
      "3  红色食品   描述                红色食品是指食品为红色、橙红色或棕红色的食品。\n",
      "4  红色食品  中文名                                   红色食品\n",
      "     实体      属性                值\n",
      "5  红色食品  是否含防腐剂                否\n",
      "6  红色食品  主要食用功效        预防感冒，缓解疲劳\n",
      "7  红色食品    适宜人群             全部人群\n",
      "8  红色食品      用途  增强表皮细胞再生和防止皮肤衰老\n",
      "9  红色食品      标签              非科学\n",
      "      实体    属性                                 值\n",
      "10  红色食品    标签                                生活\n",
      "11   大龙湫    描述  雁荡山景区分散，东起羊角洞，西至锯板岭；南起筋竹溪，北至六坪山。\n",
      "12   大龙湫  中文名称                               大龙湫\n",
      "13   大龙湫  外文名称                 big dragon autrum\n",
      "14   大龙湫  地理位置                       浙江省温州市雁荡山景区\n",
      "     实体    属性            值\n",
      "15  大龙湫  开放时间  08:00~18:00\n",
      "16  大龙湫  门票价格          50元\n",
      "17  大龙湫  著名景点          芙蓉峰\n",
      "18  大龙湫  著名景点          剪刀峰\n",
      "19  大龙湫  著名景点          连云嶂\n",
      "     实体      属性       值\n",
      "20  大龙湫    著名景点    经行峡‍\n",
      "21  大龙湫    所属国家      中国\n",
      "22  大龙湫    所属城市  浙江省温州市\n",
      "23  大龙湫  建议游玩时长     2小时\n",
      "24  大龙湫  适宜游玩季节   6月-8月\n",
      "      实体  属性                  值\n",
      "25   大龙湫  标签               景观景点\n",
      "26   大龙湫  标签                 旅游\n",
      "27   大龙湫  标签                 地理\n",
      "28   大龙湫  标签               地形地貌\n",
      "29  五大夫松  描述  五大夫松位于云步桥北侧的五松亭旁。\n",
      "      实体      属性                 值\n",
      "30  五大夫松    中文名称              五大夫松\n",
      "31  五大夫松    地理位置        云步桥北侧的五松亭旁\n",
      "32  五大夫松    门票价格  无需门票，包含在泰山景区门票内。\n",
      "33  五大夫松  建议游玩时长             建议1小时\n",
      "34  五大夫松    所属国家                中国\n",
      "      实体    属性       值\n",
      "35  五大夫松  所属城市  山东省泰安市\n",
      "36  五大夫松    标签      旅游\n",
      "37  五大夫松    标签      地理\n",
      "38  五大夫松    标签      地点\n",
      "39  五大夫松    标签      历史\n",
      "    实体     属性                         值\n",
      "40  灵峰     描述  灵峰为雁荡山的东大门景区，总面积约46平方公里。\n",
      "41  灵峰   中文名称                        灵峰\n",
      "42  灵峰     别名                     东大门景区\n",
      "43  灵峰  行政区类别                        景区\n",
      "44  灵峰   所属地区                       雁荡山\n",
      "    实体    属性          值\n",
      "45  灵峰  政府驻地        乐清市\n",
      "46  灵峰  电话区号       0577\n",
      "47  灵峰  邮政区码     325600\n",
      "48  灵峰  地理位置  浙江省温州乐清境内\n",
      "49  灵峰    面积     46平方公里\n"
     ]
    }
   ],
   "source": [
    "import pandas as pd\n",
    "\n",
    "max_times = 10\n",
    "\n",
    "readers = pd.read_csv('ownthink_v2.csv', chunksize=5)\n",
    "\n",
    "for reader in readers:\n",
    "    if max_times>0:\n",
    "        print(reader)\n",
    "        max_times-=1\n",
    "    else:\n",
    "        break"
   ]
  },
  {
   "cell_type": "markdown",
   "metadata": {},
   "source": [
    "### 数据下载方式：\n",
    "\n",
    "关注思知机器人回复【数据下载】获取下载链接\n",
    "\n",
    "百度网盘（链接: https://pan.baidu.com/s/1LZjs9Dsta0yD9NH-1y0sAw 提取码: 3hpp ）注：解压密码是：https://www.ownthink.com/\n",
    "\n",
    "阿里云下载 https://nebula-graph.oss-accelerate.aliyuncs.com/ownthink/kg_v2.tar.gz"
   ]
  }
 ],
 "metadata": {
  "kernelspec": {
   "display_name": "Python 3",
   "language": "python",
   "name": "python3"
  },
  "language_info": {
   "codemirror_mode": {
    "name": "ipython",
    "version": 3
   },
   "file_extension": ".py",
   "mimetype": "text/x-python",
   "name": "python",
   "nbconvert_exporter": "python",
   "pygments_lexer": "ipython3",
   "version": "3.7.4"
  },
  "toc": {
   "base_numbering": 1,
   "nav_menu": {},
   "number_sections": false,
   "sideBar": true,
   "skip_h1_title": false,
   "title_cell": "Table of Contents",
   "title_sidebar": "Contents",
   "toc_cell": false,
   "toc_position": {},
   "toc_section_display": true,
   "toc_window_display": true
  }
 },
 "nbformat": 4,
 "nbformat_minor": 2
}
