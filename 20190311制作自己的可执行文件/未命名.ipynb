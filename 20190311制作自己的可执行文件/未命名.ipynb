{
 "cells": [
  {
   "cell_type": "markdown",
   "metadata": {},
   "source": [
    "昨天发现之前更新的《PySimpleGUI: 开发自己第一个软件》有些代码已经失效，我觉得这个库特别有用今天还是重新制作一遍。\n",
    "\n",
    "## PySimpleGui\n",
    "PySimpleGui是一个很Python的库，虽然不如Qt功能强大，但由于使用的python风格设计的语法所以对于编程小白来说体验很接地气。我先给大家看一个PySimpleGui做出来的效果图\n",
    "![](img/完整的gui.gif)\n",
    "\n",
    "### 使用思路\n",
    "### step1 画出gui草图\n",
    "![](img/画出gui草图.jpg)"
   ]
  },
  {
   "cell_type": "markdown",
   "metadata": {},
   "source": [
    "### 将gui分成多个行\n",
    "![](img/分行.jpg)\n",
    "### 给每部分使用相应的组件\n",
    "![](img/给每部分使用相应的组件.jpg)\n",
    "### 写代码\n",
    "第一行只是文本提示作用，使用sg.Text"
   ]
  },
  {
   "cell_type": "code",
   "execution_count": null,
   "metadata": {},
   "outputs": [],
   "source": [
    "[ sg.Text('Enter a number') ]"
   ]
  },
  {
   "cell_type": "markdown",
   "metadata": {},
   "source": [
    "第二行有一个输入字段"
   ]
  },
  {
   "cell_type": "code",
   "execution_count": 2,
   "metadata": {
    "scrolled": true
   },
   "outputs": [],
   "source": [
    "[ sg.Input() ]"
   ]
  },
  {
   "cell_type": "code",
   "execution_count": null,
   "metadata": {},
   "outputs": [],
   "source": [
    "第三行是一个OK按钮"
   ]
  },
  {
   "cell_type": "code",
   "execution_count": null,
   "metadata": {},
   "outputs": [],
   "source": [
    "[ sg.OK() ]"
   ]
  },
  {
   "cell_type": "code",
   "execution_count": null,
   "metadata": {},
   "outputs": [],
   "source": [
    "现在我们已经将这三行都定义了，那么将这三行定义好的代码放到一个列表中就代表了整个窗口的组织结构。"
   ]
  },
  {
   "cell_type": "code",
   "execution_count": null,
   "metadata": {},
   "outputs": [],
   "source": [
    "layout = [ [sg.Text('Enter a Number')],\n",
    "           [sg.Input()],\n",
    "           [sg.OK()] ]"
   ]
  },
  {
   "cell_type": "markdown",
   "metadata": {},
   "source": [
    "完整代码如下"
   ]
  },
  {
   "cell_type": "code",
   "execution_count": null,
   "metadata": {},
   "outputs": [],
   "source": [
    "import PySimpleGUI as sg\n",
    "\n",
    "#给gui按行布局\n",
    "layout = [[sg.Text('Enter a Number')],      \n",
    "          [sg.Input()],      \n",
    "          [sg.OK()] ]\n",
    "\n",
    "#生成gui\n",
    "event, (number,) = sg.Window('Enter a number example').Layout(layout).Read()\n",
    "\n",
    "#弹出框\n",
    "sg.Popup(event, number)"
   ]
  },
  {
   "cell_type": "markdown",
   "metadata": {},
   "source": [
    "运行效果\n",
    "![](img/输入一个数字.gif)"
   ]
  },
  {
   "cell_type": "markdown",
   "metadata": {},
   "source": [
    "### 下拉选项\n",
    "![](img/下拉框.gif)\n",
    "### 滑动条\n",
    "![](img/滑动条.gif)\n",
    "### 按钮\n",
    "![](img/按钮.gif)\n",
    "### 复选框\n",
    "![](img/复选框.gif)\n",
    "### Ok/Cancel\n",
    "![](img/OK_Cancel.gif)\n",
    "### 文件夹浏览\n",
    "![](img/文件夹浏览.gif)\n",
    "### 文件浏览\n",
    "![](img/文件浏览.gif)\n",
    "### 进度条\n",
    "![](img/进度条.gif)\n",
    "### 列的布局\n",
    "![](img/列的布局.gif)"
   ]
  },
  {
   "cell_type": "code",
   "execution_count": null,
   "metadata": {},
   "outputs": [],
   "source": []
  }
 ],
 "metadata": {
  "kernelspec": {
   "display_name": "Python 3",
   "language": "python",
   "name": "python3"
  },
  "language_info": {
   "codemirror_mode": {
    "name": "ipython",
    "version": 3
   },
   "file_extension": ".py",
   "mimetype": "text/x-python",
   "name": "python",
   "nbconvert_exporter": "python",
   "pygments_lexer": "ipython3",
   "version": "3.7.2"
  }
 },
 "nbformat": 4,
 "nbformat_minor": 2
}
