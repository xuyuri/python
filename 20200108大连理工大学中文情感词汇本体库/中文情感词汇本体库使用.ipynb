{
 "cells": [
  {
   "cell_type": "markdown",
   "metadata": {},
   "source": [
    "## 中文文本情绪计算\n",
    "昨天介绍了英文的NRC情绪词典，虽然支持中文，但由于制作问题，导致并不完全适应中文场景。今天介绍**大连理工大学中文情感词汇本体库**\n",
    "\n",
    "\n",
    "依旧使用微博数据"
   ]
  },
  {
   "cell_type": "code",
   "execution_count": null,
   "metadata": {},
   "outputs": [],
   "source": [
    "import pandas as pd\n",
    "\n",
    "weibo_df = pd.read_csv('simplifyweibo_4_moods.csv')\n",
    "weibo_df.head()"
   ]
  },
  {
   "cell_type": "markdown",
   "metadata": {},
   "source": [
    "# df1\n",
    "我们使用中文的情绪词典重复昨天的分析，看看效果。首先我们了解一下大工的这个词库"
   ]
  },
  {
   "cell_type": "markdown",
   "metadata": {},
   "source": [
    "## 大连理工大学中文情感词汇本体库介绍\n",
    "中文情感词汇本体库是大连理工大学信息检索研究室在林鸿飞教授的指导下经过全体 教研室成员的努力整理和标注的一个中文本体资源。该资源从不同角度描述一个中文词汇或 者短语，包括词语词性种类、情感类别、情感强度及极性等信息。\n",
    "\n",
    "中文情感词汇本体的情感分类体系是在国外比较有影响的 Ekman 的 6 大类情感分类体 系的基础上构建的。在 Ekman 的基础上，词汇本体加入情感类别“好”对褒义情感进行了 更细致的划分。最终词汇本体中的情感共分为 7 大类 21 小类。\n",
    "\n",
    "构造该资源的宗旨是在情感计算领域，为中文文本情感分析和倾向性分析提供一个便捷 可靠的辅助手段。中文情感词汇本体可以用于解决多类别情感分类的问题，同时也可以用于 解决一般的倾向性分析的问题。\n"
   ]
  },
  {
   "cell_type": "markdown",
   "metadata": {},
   "source": [
    "### 本体格式介绍\n",
    "![](img/1.png)\n",
    "情感分类按照论文《情感词汇本体的构造》所述，情感分为 7 大类 21 小类。 情感强度分为 1,3,5,7,9 五档，9 表示强度最大，1 为强度最小。"
   ]
  },
  {
   "cell_type": "markdown",
   "metadata": {},
   "source": [
    "### 情感分类及情感强度\n",
    "![](img/2.png)\n",
    "![](img/3.png)\n"
   ]
  },
  {
   "cell_type": "markdown",
   "metadata": {},
   "source": [
    "### 词性种类\n",
    "情感词汇本体中的词性种类一共分为 7 类，分别是\n",
    "- 名词（noun）\n",
    "- 动词（verb）\n",
    "- 形容词 （adj）\n",
    "- 副词（adv）\n",
    "- 网络词语（nw）\n",
    "- 成语（idiom）\n",
    "- 介词短语（prep）\n",
    "\n"
   ]
  },
  {
   "cell_type": "markdown",
   "metadata": {},
   "source": [
    "### 极性标注\n",
    "每个词在每一类情感下都对应了一个极性。其中，0 代表中性，1 代表褒义，2 代表贬 义，3 代表兼有褒贬两性。\n",
    "\n",
    "注：褒贬标注时，通过词本身和情感共同确定，所以有些情感在一些词中可能极性 1， 而其他的词中有可能极性为 0。"
   ]
  },
  {
   "cell_type": "markdown",
   "metadata": {},
   "source": [
    "### 存储格式及规模\n",
    "中文情感本体以 excel 的格式进行存储，共含有情感词共计 27466 个，文件大小为 1.22M。"
   ]
  },
  {
   "cell_type": "markdown",
   "metadata": {},
   "source": [
    "## 词典使用\n"
   ]
  },
  {
   "cell_type": "markdown",
   "metadata": {},
   "source": [
    "### 读取"
   ]
  },
  {
   "cell_type": "code",
   "execution_count": null,
   "metadata": {},
   "outputs": [],
   "source": [
    "import pandas as pd\n",
    "\n",
    "df = pd.read_excel('大连理工大学中文情感词汇本体.xlsx')\n",
    "df.head(10)"
   ]
  },
  {
   "cell_type": "markdown",
   "metadata": {},
   "source": [
    "# df2\n",
    "我们暂时只使用```['词语', '词性种类', '词义数', '词义序号', '情感分类', '强度', '极性']```"
   ]
  },
  {
   "cell_type": "code",
   "execution_count": null,
   "metadata": {},
   "outputs": [],
   "source": [
    "df = df[['词语', '词性种类', '词义数', '词义序号', '情感分类', '强度', '极性']]\n",
    "df.head()"
   ]
  },
  {
   "cell_type": "markdown",
   "metadata": {},
   "source": [
    "# df3 \n",
    "### 情绪词语列表整理完成\n",
    "\n",
    "按照七大情绪划分"
   ]
  },
  {
   "cell_type": "code",
   "execution_count": 5,
   "metadata": {},
   "outputs": [
    {
     "name": "stdout",
     "output_type": "stream",
     "text": [
      "情绪词语列表整理完成\n"
     ]
    }
   ],
   "source": [
    "Happy = []\n",
    "Good = []\n",
    "Surprise = []\n",
    "Anger = []\n",
    "Sad = []\n",
    "Fear = []\n",
    "Disgust = []\n",
    "\n",
    "\n",
    "for idx, row in df.iterrows():\n",
    "    if row['情感分类'] in ['PA', 'PE']:\n",
    "        Happy.append(row['词语'])\n",
    "    if row['情感分类'] in ['PD', 'PH', 'PG', 'PB', 'PK']:\n",
    "        Good.append(row['词语']) \n",
    "    if row['情感分类'] in ['PC']:\n",
    "        Surprise.append(row['词语'])     \n",
    "    if row['情感分类'] in ['NA']:\n",
    "        Anger.append(row['词语'])    \n",
    "    if row['情感分类'] in ['NB', 'NJ', 'NH', 'PF']:\n",
    "        Sad.append(row['词语'])\n",
    "    if row['情感分类'] in ['NI', 'NC', 'NG']:\n",
    "        Fear.append(row['词语'])\n",
    "    if row['情感分类'] in ['NE', 'ND', 'NN', 'NK', 'NL']:\n",
    "        Disgust.append(row['词语'])\n",
    "        \n",
    "Positive = Happy + Good +Surprise\n",
    "Negative = Anger + Sad + Fear + Disgust\n",
    "\n",
    "print('情绪词语列表整理完成')     "
   ]
  },
  {
   "cell_type": "markdown",
   "metadata": {},
   "source": [
    "### 计情绪计算函数"
   ]
  },
  {
   "cell_type": "code",
   "execution_count": 27,
   "metadata": {},
   "outputs": [
    {
     "data": {
      "text/plain": [
       "length      25\n",
       "positive     0\n",
       "negative     4\n",
       "anger        0\n",
       "disgust      4\n",
       "fear         0\n",
       "sadness      0\n",
       "surprise     0\n",
       "good         0\n",
       "happy        0\n",
       "dtype: int64"
      ]
     },
     "execution_count": 27,
     "metadata": {},
     "output_type": "execute_result"
    }
   ],
   "source": [
    "import jieba\n",
    "import time\n",
    "\n",
    "\n",
    "def emotion_caculate(text):\n",
    "    positive = 0\n",
    "    negative = 0\n",
    "    \n",
    "    anger = 0\n",
    "    disgust = 0\n",
    "    fear = 0\n",
    "    sad = 0\n",
    "    surprise = 0\n",
    "    good = 0\n",
    "    happy = 0\n",
    "    \n",
    "\n",
    "    wordlist = jieba.lcut(text)\n",
    "    wordset = set(wordlist)\n",
    "    wordfreq = []\n",
    "    for word in wordset:\n",
    "        freq = wordlist.count(word)\n",
    "        if word in Positive:\n",
    "            positive+=freq\n",
    "        if word in Negative:\n",
    "            negative+=freq\n",
    "        if word in Anger:\n",
    "            anger+=freq  \n",
    "        if word in Disgust:\n",
    "            disgust+=freq\n",
    "        if word in Fear:\n",
    "            fear+=freq\n",
    "        if word in Sad:\n",
    "            sad+=freq\n",
    "        if word in Surprise:\n",
    "            surprise+=freq\n",
    "        if word in Good:\n",
    "            good+=freq\n",
    "        if word in Happy:\n",
    "            happy+=freq\n",
    "            \n",
    "    emotion_info = {\n",
    "        'length':len(wordlist),\n",
    "        'positive': positive,\n",
    "        'negative': negative,\n",
    "        'anger': anger,\n",
    "        'disgust': disgust,\n",
    "        'fear':fear,\n",
    "        'good':good,\n",
    "        'sadness':sad,\n",
    "        'surprise':surprise,\n",
    "        'happy':happy,\n",
    "        \n",
    "    }\n",
    "\n",
    "    indexs = ['length', 'positive', 'negative', 'anger', 'disgust','fear','sadness','surprise', 'good', 'happy']\n",
    "    return pd.Series(emotion_info, index=indexs)\n",
    "        \n",
    "\n",
    "emotion_caculate(text='这个国家再对这些制造假冒伪劣食品药品的人手软的话，那后果真的会相当糟糕。坐牢？从快判个死刑')"
   ]
  },
  {
   "cell_type": "markdown",
   "metadata": {},
   "source": [
    "### 并行加速\n",
    "这个df.apply很慢，需要使用pandarallel并行加速库"
   ]
  },
  {
   "cell_type": "code",
   "execution_count": 28,
   "metadata": {},
   "outputs": [],
   "source": [
    "!pip3 install pandarallel"
   ]
  },
  {
   "cell_type": "code",
   "execution_count": null,
   "metadata": {},
   "outputs": [],
   "source": [
    "from pandarallel import pandarallel\n",
    "\n",
    "#并行初始化\n",
    "pandarallel.initialize()\n",
    "\n",
    "start = time.time()   \n",
    "emotion_df = weibo_df['review'].parallel_apply(emotion_caculate)\n",
    "#emotion_df = weibo_df['review'].apply(emotion_caculate)\n",
    "end = time.time()\n",
    "\n",
    "print(end-start)\n",
    "emotion_df.head()"
   ]
  },
  {
   "cell_type": "markdown",
   "metadata": {},
   "source": [
    "# df4\n",
    "series数据变为dataframe，详情可了解下apply http://dwz.date/dzB"
   ]
  },
  {
   "cell_type": "markdown",
   "metadata": {},
   "source": [
    "### 输出分析结果\n",
    "将原始数据与分析结果合并, 输出到新的csv中。"
   ]
  },
  {
   "cell_type": "code",
   "execution_count": null,
   "metadata": {},
   "outputs": [],
   "source": [
    "output_df = pd.concat([weibo_df, emotion_df], axis=1)\n",
    "output_df.to_csv('output.csv', index=False)\n",
    "output_df.head()"
   ]
  },
  {
   "cell_type": "markdown",
   "metadata": {},
   "source": [
    "# df5\n",
    "### 检查\n",
    "我们查看一下随机抽查一下，看看\n",
    "\n",
    "- 最fear\n",
    "- 最positive\n",
    "- 最negative 的分别是什么内容"
   ]
  },
  {
   "cell_type": "code",
   "execution_count": null,
   "metadata": {},
   "outputs": [],
   "source": [
    "fear = output_df.sort_values(by='fear',ascending=False)\n",
    "fear.head()"
   ]
  },
  {
   "cell_type": "markdown",
   "metadata": {},
   "source": [
    "# df6"
   ]
  },
  {
   "cell_type": "code",
   "execution_count": 32,
   "metadata": {},
   "outputs": [
    {
     "name": "stdout",
     "output_type": "stream",
     "text": [
      "回复奴隶式教化都没有把你们改造好啊，失败【开篇】李公明《大学生的恐惧与冷漠是怎样炼成的》起主要作用的倒不是冷漠，而是恐惧，有关眼下利益（各种奖学金等等）与未来（就业等等）的恐惧。这时候长期以来的奴化教育自然会显示其功能。\n"
     ]
    }
   ],
   "source": [
    "fear = output_df.sort_values(by='fear',ascending=False)\n",
    "print(fear.iloc[0, :]['review'])"
   ]
  },
  {
   "cell_type": "code",
   "execution_count": 33,
   "metadata": {},
   "outputs": [
    {
     "name": "stdout",
     "output_type": "stream",
     "text": [
      "回复菜鸟已经被宰掉鸟啊呀，错过鸟，错过鸟！什么事？围观，围观他们在造谣，不要脸的无耻之徒好了，SB 都进垃圾箱了一会儿就车去焚烧炉了按照某些人的逻辑。你说句成语，你得注明出处，否则就是抄袭。按照某些人的逻辑，你写，某某说。。。你也是抄袭，我真莫名了，别人不也是转某人的话的吗？为什么别人不是抄袭！所以，那些人就是在发泄私愤，完全是没有逻辑的小人！傻逼！！！！牛鬼蛇神！！！！！！！！\n"
     ]
    }
   ],
   "source": [
    "negative = output_df.sort_values(by='negative',ascending=False)\n",
    "print(negative.iloc[0, :]['review'])"
   ]
  },
  {
   "cell_type": "code",
   "execution_count": 34,
   "metadata": {},
   "outputs": [
    {
     "name": "stdout",
     "output_type": "stream",
     "text": [
      "。彼岸的Blue: 对，这才是喜欢一个人的态度。。。喜欢一个人不是要疯狂的追逐，而是要站在正确的位置关心他，爱护他，小哇，真心的为你祝福，希望你永远健康、开心、快乐，享受你所享受的，爱你所爱的，善良的人，一生幸福，平安。。。真心的为你祝福顶\n"
     ]
    }
   ],
   "source": [
    "positive = output_df.sort_values(by='positive',ascending=False)\n",
    "print(positive.iloc[0, :]['review'])"
   ]
  },
  {
   "cell_type": "markdown",
   "metadata": {},
   "source": [
    "分析结束\n",
    "\n",
    "### tips:\n",
    "以上的案例只是简单的使用了大连理工大学中文情感词汇本体库， 用最朴素的统计情绪词的个数作为情绪值的度量方法。\n",
    "\n",
    "其实中文情感词汇本体库每个词语还有**权重**和**极性**，上面的方法有些粗糙。各位如果要使用，需要多学习pandas的知识点，**自己diy适用于自己场景的情绪计算函数**。"
   ]
  }
 ],
 "metadata": {
  "kernelspec": {
   "display_name": "Python 3",
   "language": "python",
   "name": "python3"
  },
  "toc": {
   "base_numbering": 1,
   "nav_menu": {},
   "number_sections": false,
   "sideBar": true,
   "skip_h1_title": false,
   "title_cell": "Table of Contents",
   "title_sidebar": "Contents",
   "toc_cell": false,
   "toc_position": {},
   "toc_section_display": true,
   "toc_window_display": true
  }
 },
 "nbformat": 4,
 "nbformat_minor": 2
}
