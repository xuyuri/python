{
 "cells": [
  {
   "cell_type": "markdown",
   "metadata": {},
   "source": [
    "今天在知乎上看问题看到有人问如何展示程序进度，之前我在写爬虫好像都是自己使用print来显示进度，对于自己写的代码我还是很熟悉的，没啥问题。但是当我们把代码交给其他人使用，如果有进度条显示会更友好一些。\n",
    "\n",
    "tqdm是一个小巧、可扩展的进度条python库，在github的star数高达8K。\n",
    "\n",
    "## 安装\n",
    "\n",
    "在命令行中的安装命令 \n",
    "\n",
    "```\n",
    "pip install tqdm\n",
    "```\n",
    "\n",
    "在jupyter notebeook的Cell中的安装命令 \n",
    "\n",
    "```\n",
    "!pip install tqdm\n",
    "```"
   ]
  },
  {
   "cell_type": "code",
   "execution_count": 2,
   "metadata": {},
   "outputs": [
    {
     "name": "stdout",
     "output_type": "stream",
     "text": [
      "Requirement already satisfied: tqdm in /Users/suosuo/anaconda3/lib/python3.7/site-packages (4.26.0)\r\n"
     ]
    }
   ],
   "source": [
    "!pip install tqdm"
   ]
  },
  {
   "cell_type": "markdown",
   "metadata": {},
   "source": [
    "# 一、使用\n",
    "tqdm实现进度条效果有多重形式，最常用的就是下面给出的三种\n",
    "## 1.1 基于可迭代对象\n",
    "将可迭代对象放入 ``tqdm.tqdm函数中`` , 可迭代对象长度为n，则进度条有n个进度。"
   ]
  },
  {
   "cell_type": "code",
   "execution_count": 46,
   "metadata": {},
   "outputs": [
    {
     "name": "stderr",
     "output_type": "stream",
     "text": [
      "100%|██████████| 2/2 [00:01<00:00,  1.99it/s]\n"
     ]
    }
   ],
   "source": [
    "from tqdm import tqdm\n",
    "import time \n",
    "\n",
    "text = \"\"\n",
    "for char in tqdm([\"a\", \"b\"]):\n",
    "    text = text + char\n",
    "    time.sleep(0.5)"
   ]
  },
  {
   "cell_type": "code",
   "execution_count": 47,
   "metadata": {},
   "outputs": [
    {
     "name": "stderr",
     "output_type": "stream",
     "text": [
      "100%|██████████| 4/4 [00:02<00:00,  1.98it/s]\n"
     ]
    }
   ],
   "source": [
    "from tqdm import tqdm\n",
    "\n",
    "for i in tqdm(range(4)):   \n",
    "    pass\n",
    "    time.sleep(0.5)"
   ]
  },
  {
   "cell_type": "markdown",
   "metadata": {},
   "source": [
    "trange(i)是tqdm(range(i))的简化版"
   ]
  },
  {
   "cell_type": "code",
   "execution_count": 48,
   "metadata": {},
   "outputs": [
    {
     "name": "stderr",
     "output_type": "stream",
     "text": [
      "100%|██████████| 5/5 [00:02<00:00,  1.99it/s]\n"
     ]
    }
   ],
   "source": [
    "from tqdm import trange\n",
    "\n",
    "for i in trange(5):\n",
    "    pass\n",
    "    time.sleep(0.5)"
   ]
  },
  {
   "cell_type": "markdown",
   "metadata": {},
   "source": [
    "我们可以将进度条先实例化，再放到for循环体中，这样就可以做一些操作"
   ]
  },
  {
   "cell_type": "code",
   "execution_count": 49,
   "metadata": {},
   "outputs": [
    {
     "name": "stderr",
     "output_type": "stream",
     "text": [
      "程序进度 e: 100%|██████████| 5/5 [00:02<00:00,  1.97it/s]\n"
     ]
    }
   ],
   "source": [
    "pbar = tqdm(['a', 'b', 'c', 'd', 'e'])\n",
    "for char in pbar:\n",
    "    pbar.set_description(\"程序进度 {}\".format(char))\n",
    "    time.sleep(0.5)"
   ]
  },
  {
   "cell_type": "markdown",
   "metadata": {},
   "source": [
    "## 1.2 手动"
   ]
  },
  {
   "cell_type": "code",
   "execution_count": 50,
   "metadata": {},
   "outputs": [
    {
     "name": "stderr",
     "output_type": "stream",
     "text": [
      " 10%|█         | 10/100 [00:04<00:44,  2.04it/s]\n"
     ]
    }
   ],
   "source": [
    "from tqdm import tqdm\n",
    "with tqdm(total=100) as pbar:\n",
    "    for i in range(10): \n",
    "        pbar.update(1)  \n",
    "        time.sleep(0.5)"
   ]
  },
  {
   "cell_type": "code",
   "execution_count": 51,
   "metadata": {},
   "outputs": [
    {
     "name": "stderr",
     "output_type": "stream",
     "text": [
      " 20%|██        | 20/100 [00:09<00:40,  1.99it/s]\n"
     ]
    }
   ],
   "source": [
    "from tqdm import tqdm\n",
    "with tqdm(total=100) as pbar:\n",
    "    for i in range(20): \n",
    "        pbar.update(1)  \n",
    "        time.sleep(0.5)"
   ]
  },
  {
   "cell_type": "code",
   "execution_count": 33,
   "metadata": {},
   "outputs": [
    {
     "name": "stderr",
     "output_type": "stream",
     "text": [
      " 40%|████      | 40/100 [00:00<00:00, 129055.51it/s]\n"
     ]
    }
   ],
   "source": [
    "from tqdm import tqdm\n",
    "with tqdm(total=100) as pbar:\n",
    "    for i in range(20): \n",
    "        pbar.update(2)  \n",
    "        time.sleep(0.5)"
   ]
  },
  {
   "cell_type": "markdown",
   "metadata": {},
   "source": [
    "如果不适用with语句，我们记得在代码后close掉。"
   ]
  },
  {
   "cell_type": "code",
   "execution_count": 68,
   "metadata": {},
   "outputs": [
    {
     "name": "stderr",
     "output_type": "stream",
     "text": [
      " 10%|█         | 10/100 [00:00<00:08, 10.03it/s]\n"
     ]
    }
   ],
   "source": [
    "import time \n",
    "\n",
    "pbar = tqdm(total=100)\n",
    "for i in range(10):\n",
    "    pbar.update(1)\n",
    "    time.sleep(0.1)\n",
    "pbar.close()"
   ]
  },
  {
   "cell_type": "markdown",
   "metadata": {},
   "source": [
    "## tqdm常见参数\n",
    "我们看看tqdm类的各个参数及其作用。\n",
    "\n",
    "```python\n",
    "class tqdm(object):\n",
    "  def __init__(self, iterable=None, desc=None, total=None):\n",
    "```        \n",
    "\n",
    "- iterable: 待修饰的可迭代对象，上面所有的tqdm使用例子实际上都是iterable参数起作用。默认接受第一个参数\n",
    "- desc: 进度条里加入前缀\n",
    "- total: 进度条长度，比如total=100，进度条完整的要更新一百次。"
   ]
  },
  {
   "cell_type": "code",
   "execution_count": 69,
   "metadata": {},
   "outputs": [
    {
     "name": "stderr",
     "output_type": "stream",
     "text": [
      " 10%|█         | 10/100 [00:00<00:09,  9.92it/s]\n"
     ]
    }
   ],
   "source": [
    "import time \n",
    "\n",
    "pbar = tqdm(total=100)\n",
    "for i in range(10):\n",
    "    pbar.update(1)\n",
    "    time.sleep(0.1)\n",
    "pbar.close()"
   ]
  },
  {
   "cell_type": "code",
   "execution_count": 74,
   "metadata": {},
   "outputs": [
    {
     "name": "stderr",
     "output_type": "stream",
     "text": [
      "大邓: 100%|██████████| 100/100 [00:05<00:00, 18.66it/s]\n"
     ]
    }
   ],
   "source": [
    "import time \n",
    "\n",
    "pbar = tqdm(total=100, desc='大邓')\n",
    "for i in range(100):\n",
    "    pbar.update(1)\n",
    "    time.sleep(0.05)\n",
    "pbar.close()"
   ]
  },
  {
   "cell_type": "code",
   "execution_count": null,
   "metadata": {},
   "outputs": [],
   "source": []
  }
 ],
 "metadata": {
  "kernelspec": {
   "display_name": "Python 3",
   "language": "python",
   "name": "python3"
  },
  "language_info": {
   "codemirror_mode": {
    "name": "ipython",
    "version": 3
   },
   "file_extension": ".py",
   "mimetype": "text/x-python",
   "name": "python",
   "nbconvert_exporter": "python",
   "pygments_lexer": "ipython3",
   "version": "3.7.0"
  }
 },
 "nbformat": 4,
 "nbformat_minor": 2
}
