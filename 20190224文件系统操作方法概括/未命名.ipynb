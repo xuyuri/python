{
 "cells": [
  {
   "cell_type": "markdown",
   "metadata": {},
   "source": [
    "\n",
    "\n",
    ">最近公众号内推送了我的系列视频教程《python文本分析：从入门到精通》，这个课程的分享原则是只讲最简单最好用的知识，用最少的时间去解决最头疼的问题。这样对于python初学者会降低认知压力，增强学习自信。\n",
    "\n",
    "今天我们汇总整理下文件读写的一些事情，对文本分析系列课做一些有意义的补充。涉及到的库包括os、shutil、zipfile\n",
    "\n",
    "\n",
    "## 获取信息\n",
    "|代码|功能|\n",
    "|:---|:---|\n",
    "|**os.getcwd(\"path\")**|<p align=\"left\">获取代码当前工作路径|\n",
    "|**os.listdir(\"path\")**|<p align=\"left\">获取当前工作文件夹内的文件夹或文件|\n",
    "|**os.scandir(\"path\")**|<p align=\"left\">获取当前工作文件夹内的文件夹或文件|\n",
    "|**os.walk(top)**|<p align=\"left\">通过在top中游走输出在top中的文件名，向上或者向下。<br>每次遍历对象返回的是三元组(root,dirs,files)|\n",
    "\n",
    "\n",
    "## 改变文件系统\n",
    "文件系统因为下面的操作发生变化，比如压缩解压、新建文件夹、复制移动、移除\n",
    "\n",
    "|代码|功能|\n",
    "|---|:---|\n",
    "|**os.chdir(\"path\")**| <p align=\"left\">更改当前工作路径为path|\n",
    "|**os.path.join(dir1,dir2,dir3,...)**|<p align=\"left\">路径拼接为dir1/dir2/dir3|\n",
    "|**os.makedirs(\"dir1/dir2\")**|<p align=\"left\">创建文件夹|\n",
    "|**os.remove(\"my_file_path\")**|<p align=\"left\">移除一个文件|\n",
    "|**os.rmdir(\"path\")**|<p align=\"left\">会删除path路径文件夹，如果path内有文件，移除path会报错|\n",
    "|**os.rename(\"old\", \"new\")**|<p align=\"left\">对old这个文件或者路径更改为新名new|\n",
    "|**shutil.copy(\"source\", \"destination\")**|<p align=\"left\">复制一个文件或者文件夹（source）<br>到另外一个文件夹（destination）|\n",
    "|**shutil.move(\"source\", \"destination\")**|<p align=\"left\">移动一个文件或者文件夹（source）<br>到另外一个文件夹（destination）|\n",
    "|**shutil.rmtree(\"my_directory_path\")**|<p align=\"left\">移除一个文件夹及其内部的所有文件和文件夹|\n",
    "\n",
    "## 压缩与解压\n",
    "|代码|功能|\n",
    "|---|:---|\n",
    "|**zipfile.ZipFile('zip文件.zip', 'w')**|<p align=\"left\">新建zip文件|\n",
    "|**zipfile.ZipFile('zip文件.zip', 'r')**|<p align=\"left\">打开zip文件|"
   ]
  },
  {
   "cell_type": "markdown",
   "metadata": {},
   "source": [
    "## 一、获取信息\n",
    "### 1.1 os.getcwd()\n",
    "获取当前工作路径"
   ]
  },
  {
   "cell_type": "code",
   "execution_count": 2,
   "metadata": {},
   "outputs": [
    {
     "data": {
      "text/plain": [
       "'/Users/suosuo/Desktop/20190224文件系统操作方法概括'"
      ]
     },
     "execution_count": 2,
     "metadata": {},
     "output_type": "execute_result"
    }
   ],
   "source": [
    "import os \n",
    "os.getcwd()"
   ]
  },
  {
   "cell_type": "markdown",
   "metadata": {},
   "source": [
    "### 1.2 os.listdir()\n",
    "获取当前工作文件夹内的文件夹或文件"
   ]
  },
  {
   "cell_type": "code",
   "execution_count": 3,
   "metadata": {},
   "outputs": [
    {
     "data": {
      "text/plain": [
       "['.DS_Store', '未命名.ipynb', '.ipynb_checkpoints', 'data', 'data2']"
      ]
     },
     "execution_count": 3,
     "metadata": {},
     "output_type": "execute_result"
    }
   ],
   "source": [
    "os.listdir()"
   ]
  },
  {
   "cell_type": "markdown",
   "metadata": {},
   "source": [
    "### 1.3 os.scandir()\n",
    "\n",
    "获取当前工作文件夹内的文件夹或文件。类似于os.listdir(),但是返回的是可迭代对象"
   ]
  },
  {
   "cell_type": "code",
   "execution_count": 5,
   "metadata": {},
   "outputs": [
    {
     "data": {
      "text/plain": [
       "<posix.ScandirIterator at 0x1074b5090>"
      ]
     },
     "execution_count": 5,
     "metadata": {},
     "output_type": "execute_result"
    }
   ],
   "source": [
    "os.scandir()"
   ]
  },
  {
   "cell_type": "code",
   "execution_count": 6,
   "metadata": {},
   "outputs": [
    {
     "name": "stdout",
     "output_type": "stream",
     "text": [
      "这是文件: <DirEntry '.DS_Store'>\n",
      "这是文件: <DirEntry '未命名.ipynb'>\n",
      "这是文件夹： <DirEntry '.ipynb_checkpoints'>\n",
      "这是文件夹： <DirEntry 'data'>\n",
      "这是文件夹： <DirEntry 'data2'>\n"
     ]
    }
   ],
   "source": [
    "for f in os.scandir():\n",
    "    if not f.is_file(): #is_file判断是否是文件\n",
    "        print('这是文件夹：',f)\n",
    "    else:\n",
    "        print('这是文件:', f)\n",
    "    #print(type(f), f)"
   ]
  },
  {
   "cell_type": "markdown",
   "metadata": {},
   "source": [
    "### 1.4 os.walk()\n",
    "随机漫走"
   ]
  },
  {
   "cell_type": "code",
   "execution_count": 7,
   "metadata": {},
   "outputs": [
    {
     "data": {
      "text/plain": [
       "<generator object walk at 0x1073d4c78>"
      ]
     },
     "execution_count": 7,
     "metadata": {},
     "output_type": "execute_result"
    }
   ],
   "source": [
    "os.walk(top='data')"
   ]
  },
  {
   "cell_type": "code",
   "execution_count": 8,
   "metadata": {},
   "outputs": [
    {
     "name": "stdout",
     "output_type": "stream",
     "text": [
      "('.', ['.ipynb_checkpoints', 'data', 'data2'], ['.DS_Store', '未命名.ipynb'])\n",
      "('./.ipynb_checkpoints', [], ['未命名-checkpoint.ipynb'])\n",
      "('./data', ['test'], ['.DS_Store'])\n",
      "('./data/test', [], ['.DS_Store', '学习文件操作.txt'])\n",
      "('./data2', [], [])\n"
     ]
    }
   ],
   "source": [
    "for x in os.walk(top='.'):\n",
    "    print(x)"
   ]
  },
  {
   "cell_type": "markdown",
   "metadata": {},
   "source": [
    "## 二、改变文件系统\n",
    "### 2.1 os.chdir()\n",
    "变换工作路径"
   ]
  },
  {
   "cell_type": "code",
   "execution_count": 9,
   "metadata": {},
   "outputs": [
    {
     "name": "stdout",
     "output_type": "stream",
     "text": [
      "/Users/suosuo/Desktop/20190224文件系统操作方法概括\n"
     ]
    },
    {
     "data": {
      "text/plain": [
       "'/Users/suosuo/Desktop'"
      ]
     },
     "execution_count": 9,
     "metadata": {},
     "output_type": "execute_result"
    }
   ],
   "source": [
    "print(os.getcwd())\n",
    "os.chdir('/Users/suosuo/Desktop')\n",
    "os.getcwd()"
   ]
  },
  {
   "cell_type": "markdown",
   "metadata": {},
   "source": [
    "### 2.2 os.path.join()\n",
    "拼接多个字符串，形成新的路径字符串。os.path.join()内不能传入tuple"
   ]
  },
  {
   "cell_type": "code",
   "execution_count": 16,
   "metadata": {},
   "outputs": [
    {
     "data": {
      "text/plain": [
       "'desktop/data/python学习.md'"
      ]
     },
     "execution_count": 16,
     "metadata": {},
     "output_type": "execute_result"
    }
   ],
   "source": [
    "os.path.join('desktop', 'data', 'python学习.md')"
   ]
  },
  {
   "cell_type": "code",
   "execution_count": 17,
   "metadata": {},
   "outputs": [
    {
     "ename": "TypeError",
     "evalue": "expected str, bytes or os.PathLike object, not tuple",
     "output_type": "error",
     "traceback": [
      "\u001b[0;31m---------------------------------------------------------------------------\u001b[0m",
      "\u001b[0;31mTypeError\u001b[0m                                 Traceback (most recent call last)",
      "\u001b[0;32m<ipython-input-17-9bb1ad13c0bb>\u001b[0m in \u001b[0;36m<module>\u001b[0;34m\u001b[0m\n\u001b[1;32m      1\u001b[0m \u001b[0mpath\u001b[0m \u001b[0;34m=\u001b[0m \u001b[0;34m(\u001b[0m\u001b[0;34m'desktop'\u001b[0m\u001b[0;34m,\u001b[0m \u001b[0;34m'data'\u001b[0m\u001b[0;34m,\u001b[0m \u001b[0;34m'python学习'\u001b[0m\u001b[0;34m,\u001b[0m \u001b[0;34m'笔记.md'\u001b[0m\u001b[0;34m)\u001b[0m\u001b[0;34m\u001b[0m\u001b[0;34m\u001b[0m\u001b[0m\n\u001b[0;32m----> 2\u001b[0;31m \u001b[0mos\u001b[0m\u001b[0;34m.\u001b[0m\u001b[0mpath\u001b[0m\u001b[0;34m.\u001b[0m\u001b[0mjoin\u001b[0m\u001b[0;34m(\u001b[0m\u001b[0mpath\u001b[0m\u001b[0;34m)\u001b[0m\u001b[0;34m\u001b[0m\u001b[0;34m\u001b[0m\u001b[0m\n\u001b[0m",
      "\u001b[0;32m/Library/Frameworks/Python.framework/Versions/3.7/lib/python3.7/posixpath.py\u001b[0m in \u001b[0;36mjoin\u001b[0;34m(a, *p)\u001b[0m\n\u001b[1;32m     78\u001b[0m     \u001b[0mwill\u001b[0m \u001b[0mbe\u001b[0m \u001b[0mdiscarded\u001b[0m\u001b[0;34m.\u001b[0m  \u001b[0mAn\u001b[0m \u001b[0mempty\u001b[0m \u001b[0mlast\u001b[0m \u001b[0mpart\u001b[0m \u001b[0mwill\u001b[0m \u001b[0mresult\u001b[0m \u001b[0;32min\u001b[0m \u001b[0ma\u001b[0m \u001b[0mpath\u001b[0m \u001b[0mthat\u001b[0m\u001b[0;34m\u001b[0m\u001b[0;34m\u001b[0m\u001b[0m\n\u001b[1;32m     79\u001b[0m     ends with a separator.\"\"\"\n\u001b[0;32m---> 80\u001b[0;31m     \u001b[0ma\u001b[0m \u001b[0;34m=\u001b[0m \u001b[0mos\u001b[0m\u001b[0;34m.\u001b[0m\u001b[0mfspath\u001b[0m\u001b[0;34m(\u001b[0m\u001b[0ma\u001b[0m\u001b[0;34m)\u001b[0m\u001b[0;34m\u001b[0m\u001b[0;34m\u001b[0m\u001b[0m\n\u001b[0m\u001b[1;32m     81\u001b[0m     \u001b[0msep\u001b[0m \u001b[0;34m=\u001b[0m \u001b[0m_get_sep\u001b[0m\u001b[0;34m(\u001b[0m\u001b[0ma\u001b[0m\u001b[0;34m)\u001b[0m\u001b[0;34m\u001b[0m\u001b[0;34m\u001b[0m\u001b[0m\n\u001b[1;32m     82\u001b[0m     \u001b[0mpath\u001b[0m \u001b[0;34m=\u001b[0m \u001b[0ma\u001b[0m\u001b[0;34m\u001b[0m\u001b[0;34m\u001b[0m\u001b[0m\n",
      "\u001b[0;31mTypeError\u001b[0m: expected str, bytes or os.PathLike object, not tuple"
     ]
    }
   ],
   "source": [
    "path = ('desktop', 'data', 'python学习', '笔记.md')\n",
    "os.path.join(path)"
   ]
  },
  {
   "cell_type": "markdown",
   "metadata": {},
   "source": [
    "### 2.3 os.makedirs()\n",
    "创建新的文件夹"
   ]
  },
  {
   "cell_type": "code",
   "execution_count": 27,
   "metadata": {},
   "outputs": [],
   "source": [
    "os.chdir('20190224文件系统操作方法概括')\n",
    "os.makedirs('data2')"
   ]
  },
  {
   "cell_type": "markdown",
   "metadata": {},
   "source": [
    "### 2.4 os.remove()\n",
    "移除一个文件"
   ]
  },
  {
   "cell_type": "code",
   "execution_count": 31,
   "metadata": {},
   "outputs": [],
   "source": [
    "os.remove('data/移除.txt')"
   ]
  },
  {
   "cell_type": "markdown",
   "metadata": {},
   "source": [
    "### 2.5 os.rmdir()\n",
    "移除文件夹,但是这个被移除的文件夹必须是空的才能移除"
   ]
  },
  {
   "cell_type": "code",
   "execution_count": 32,
   "metadata": {},
   "outputs": [
    {
     "ename": "OSError",
     "evalue": "[Errno 66] Directory not empty: 'data/test'",
     "output_type": "error",
     "traceback": [
      "\u001b[0;31m---------------------------------------------------------------------------\u001b[0m",
      "\u001b[0;31mOSError\u001b[0m                                   Traceback (most recent call last)",
      "\u001b[0;32m<ipython-input-32-dc6cea8f9fda>\u001b[0m in \u001b[0;36m<module>\u001b[0;34m\u001b[0m\n\u001b[0;32m----> 1\u001b[0;31m \u001b[0mos\u001b[0m\u001b[0;34m.\u001b[0m\u001b[0mrmdir\u001b[0m\u001b[0;34m(\u001b[0m\u001b[0;34m'data/test'\u001b[0m\u001b[0;34m)\u001b[0m\u001b[0;34m\u001b[0m\u001b[0;34m\u001b[0m\u001b[0m\n\u001b[0m",
      "\u001b[0;31mOSError\u001b[0m: [Errno 66] Directory not empty: 'data/test'"
     ]
    }
   ],
   "source": [
    "#test内有文件，所以移除会报错\n",
    "os.rmdir('data/test')"
   ]
  },
  {
   "cell_type": "markdown",
   "metadata": {},
   "source": [
    "### 2.6 os.rename(old, new)\n",
    "将old文件名（或路径）改为new文件名（或者路径）"
   ]
  },
  {
   "cell_type": "code",
   "execution_count": 33,
   "metadata": {},
   "outputs": [],
   "source": [
    "os.rename('data/test/重命名rename.txt', 'data/test/重命名rename2.txt')"
   ]
  },
  {
   "cell_type": "markdown",
   "metadata": {},
   "source": [
    "### 2.7 shutil.copy(src, dst)\n",
    "将src复制到dst中"
   ]
  },
  {
   "cell_type": "code",
   "execution_count": 34,
   "metadata": {},
   "outputs": [
    {
     "data": {
      "text/plain": [
       "'data2/移除.txt'"
      ]
     },
     "execution_count": 34,
     "metadata": {},
     "output_type": "execute_result"
    }
   ],
   "source": [
    "import shutil \n",
    "\n",
    "shutil.copy('data/移除.txt', 'data2')"
   ]
  },
  {
   "cell_type": "markdown",
   "metadata": {},
   "source": [
    "### 2.8 shutil.move(src, dst)\n",
    "将src移动到dst中"
   ]
  },
  {
   "cell_type": "code",
   "execution_count": 37,
   "metadata": {},
   "outputs": [
    {
     "data": {
      "text/plain": [
       "'data2/dong.txt'"
      ]
     },
     "execution_count": 37,
     "metadata": {},
     "output_type": "execute_result"
    }
   ],
   "source": [
    "shutil.move('data/dong.txt', 'data2')"
   ]
  },
  {
   "cell_type": "markdown",
   "metadata": {},
   "source": [
    "### 2.9 shutil.rmtree()\n",
    "移动一个文件夹内的全部文件和文件夹"
   ]
  },
  {
   "cell_type": "code",
   "execution_count": 38,
   "metadata": {},
   "outputs": [],
   "source": [
    "shutil.rmtree('data2')"
   ]
  },
  {
   "cell_type": "markdown",
   "metadata": {},
   "source": [
    "## 三、压缩与解压\n",
    "这部分内容实际上之前分享过，今天就当复习一下吧。zipfile和tarfile是python内置库"
   ]
  },
  {
   "cell_type": "markdown",
   "metadata": {},
   "source": [
    "### 3.1 新建zip文件\n",
    "对data文件夹进行压缩"
   ]
  },
  {
   "cell_type": "code",
   "execution_count": 42,
   "metadata": {},
   "outputs": [],
   "source": [
    "import zipfile\n",
    "\n",
    "#将 “三体.txt” 压缩到 “三体.zip”中\n",
    "with zipfile.ZipFile('三体.zip', 'w') as z:\n",
    "    \n",
    "    #请注意这里写的是当前文件夹下的文件名\n",
    "    z.write('三体第一部.txt')\n",
    "    z.write('三体第二部.txt')\n",
    "    z.write('三体第三部.txt')"
   ]
  },
  {
   "cell_type": "markdown",
   "metadata": {},
   "source": [
    "### 3.2 解压zip文件"
   ]
  },
  {
   "cell_type": "code",
   "execution_count": 47,
   "metadata": {},
   "outputs": [
    {
     "name": "stdout",
     "output_type": "stream",
     "text": [
      "['三体第一部.txt', '三体第二部.txt', '三体第三部.txt']\n"
     ]
    }
   ],
   "source": [
    "with zipfile.ZipFile('三体.zip', 'r') as z:\n",
    "    # 查看压缩包中的文件列表\n",
    "    print(z.namelist())\n",
    "\n",
    "    # 解压 “三体.zip”中的 “三体第一部.txt”文件\n",
    "    z.extract('三体第一部.txt')\n",
    "    \n",
    "    # 解压，在当前文件夹下会出现一个名为\"三体extractall\"的文件夹\n",
    "    z.extractall('三体extractall')     "
   ]
  }
 ],
 "metadata": {
  "kernelspec": {
   "display_name": "Python 3",
   "language": "python",
   "name": "python3"
  },
  "language_info": {
   "codemirror_mode": {
    "name": "ipython",
    "version": 3
   },
   "file_extension": ".py",
   "mimetype": "text/x-python",
   "name": "python",
   "nbconvert_exporter": "python",
   "pygments_lexer": "ipython3",
   "version": "3.7.2"
  }
 },
 "nbformat": 4,
 "nbformat_minor": 2
}
