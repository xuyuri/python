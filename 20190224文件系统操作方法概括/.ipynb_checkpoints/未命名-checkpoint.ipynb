{
 "cells": [
  {
   "cell_type": "markdown",
   "metadata": {},
   "source": [
    ">最近公众号内推送了我的系列视频教程《python文本分析：从入门到精通》，这个课程的分享原则是只讲最简单最好用的知识，用最少的时间去解决最头疼的问题。这样对于python初学者会降低认知压力，增强学习自信。\n",
    "\n",
    "今天我们汇总整理下文件读写的一些事情，对文本分析系列课做一些有意义的补充。涉及到的库包括os、shutil、zipfile、tarfile。\n",
    "\n",
    "\n",
    "## 获取信息\n",
    "|代码|功能|\n",
    "|---|:-|\n",
    "|os.getcwd(\"path\")|获取代码当前工作路径|\n",
    "|os.listdir(\"path\")|获取当前工作文件夹内的文件夹或文件|\n",
    "|os.walk(top)|通过在top中游走输出在top中的文件名，向上或者向下。<br>每次遍历对象返回的是三元组(root,dirs,files)|\n",
    "\n",
    "\n",
    "## 改变文件系统\n",
    "文件系统因为下面的操作发生变化，比如压缩解压、新建文件夹、复制移动、移除\n",
    "\n",
    "|代码|功能|\n",
    "|---|:---|\n",
    "|os.chdir(\"path\")| 更改当前工作路径为path|\n",
    "|os.path.join(dir1,dir2,dir3,...)|路径拼接为dir1/dir2/dir3|\n",
    "|os.makedirs(\"dir1/dir2\")|创建文件夹|\n",
    "|os.remove(\"my_file_path\")|移除一个文件|\n",
    "|os.rmdir(\"path\")|会删除path路径文件夹，但是这个|\n",
    "|os.rename(\"old\", \"new\")|对old这个文件或者路径更改为新名new|\n",
    "|shutil.copy(\"source\", \"destination\")|复制一个文件或者文件夹（source）<br>到另外一个文件夹（destination）|\n",
    "|shutil.move(\"source\", \"destination\")|移动一个文件或者文件夹（source）<br>到另外一个文件夹（destination）|\n",
    "|shutil.rmtree(\"my_directory_path\")|移除一个文件夹及其内部的所有文件和文件夹|\n",
    "\n",
    "## 压缩与解压\n",
    "|代码|功能|\n",
    "|---|:---|\n",
    "|zipfile.ZipFile('zip文件.zip', 'w')|新建zip文件|\n",
    "|zipfile.ZipFile('zip文件.zip', 'r')|打开zip文件|\n",
    "|tarfile.open('tar文件.tar', 'w')|新建tar文件|\n",
    "|tarfile.open('tar文件.tar', 'r')|打开tar文件|"
   ]
  },
  {
   "cell_type": "code",
   "execution_count": null,
   "metadata": {},
   "outputs": [],
   "source": []
  }
 ],
 "metadata": {
  "kernelspec": {
   "display_name": "Python 3",
   "language": "python",
   "name": "python3"
  },
  "language_info": {
   "codemirror_mode": {
    "name": "ipython",
    "version": 3
   },
   "file_extension": ".py",
   "mimetype": "text/x-python",
   "name": "python",
   "nbconvert_exporter": "python",
   "pygments_lexer": "ipython3",
   "version": "3.7.2"
  }
 },
 "nbformat": 4,
 "nbformat_minor": 2
}
