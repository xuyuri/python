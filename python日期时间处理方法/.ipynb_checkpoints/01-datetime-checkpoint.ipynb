{
 "cells": [
  {
   "cell_type": "markdown",
   "metadata": {
    "toc": true
   },
   "source": [
    "<h1>Table of Contents<span class=\"tocSkip\"></span></h1>\n",
    "<div class=\"toc\"><ul class=\"toc-item\"><li><span><a href=\"#datetime模块\" data-toc-modified-id=\"datetime模块-1\">datetime模块</a></span><ul class=\"toc-item\"><li><span><a href=\"#构建datetime型数据\" data-toc-modified-id=\"构建datetime型数据-1.1\">构建datetime型数据</a></span></li><li><span><a href=\"#strftime-格式化字符串\" data-toc-modified-id=\"strftime-格式化字符串-1.2\">strftime 格式化字符串</a></span></li><li><span><a href=\"#strptime-将日期字符串解析为datetime\" data-toc-modified-id=\"strptime-将日期字符串解析为datetime-1.3\">strptime 将日期字符串解析为datetime</a></span></li><li><span><a href=\"#timedelta-时间间隔操作\" data-toc-modified-id=\"timedelta-时间间隔操作-1.4\">timedelta 时间间隔操作</a></span></li></ul></li></ul></div>"
   ]
  },
  {
   "cell_type": "markdown",
   "metadata": {},
   "source": [
    "## datetime模块\n",
    "### 构建datetime型数据\n",
    "日期时间类，常用的参数包含year、month、day、hour、minute、second、microsecond。但是至少要包含year、month、day三个参数。"
   ]
  },
  {
   "cell_type": "code",
   "execution_count": 11,
   "metadata": {},
   "outputs": [
    {
     "name": "stdout",
     "output_type": "stream",
     "text": [
      "2018-05-11 00:00:00\n",
      "<class 'datetime.datetime'>\n"
     ]
    }
   ],
   "source": [
    "import datetime\n",
    "\n",
    "date1 = datetime.datetime(year=2018, month=5, day=11)\n",
    "print(date1)\n",
    "print(type(date1))"
   ]
  },
  {
   "cell_type": "code",
   "execution_count": 12,
   "metadata": {},
   "outputs": [
    {
     "name": "stdout",
     "output_type": "stream",
     "text": [
      "11 2018\n"
     ]
    }
   ],
   "source": [
    "print(date1.day, date1.year)"
   ]
  },
  {
   "cell_type": "markdown",
   "metadata": {},
   "source": [
    "### strftime 格式化字符串\n",
    "datetime.datetime数据类型可以根据自身需要转换表现形式，\n",
    "\n",
    "datetime_obj.strftime('日期表达式')\n",
    "\n",
    "日期表达式\n",
    "\n",
    "```\n",
    "%a  星期的简写。如 星期三为Web\n",
    "%A  星期的全写。如 星期三为Wednesday\n",
    "%b  月份的简写。如4月份为Apr\n",
    "%B  月份的全写。如4月份为April \n",
    "%c:  日期时间的字符串表示。（如： 04/07/10 10:43:39）\n",
    "%d:  日在这个月中的天数（是这个月的第几天）\n",
    "%f:  微秒（范围[0,999999]）\n",
    "%H:  小时（24小时制，[0, 23]）\n",
    "%I:  小时（12小时制，[0, 11]）\n",
    "%j:  日在年中的天数 [001,366]（是当年的第几天）\n",
    "%m:  月份（[01,12]）\n",
    "%M:  分钟（[00,59]）\n",
    "%p:  AM或者PM\n",
    "%S:  秒（范围为[00,61]，为什么不是[00, 59]\n",
    "%U:  周在当年的周数当年的第几周），星期天作为周的第一天\n",
    "%w:  今天在这周的天数，范围为[0, 6]，6表示星期天\n",
    "%W:  周在当年的周数（是当年的第几周），星期一作为周的第一天\n",
    "%x:  日期字符串（如：04/07/10）\n",
    "%X:  时间字符串（如：10:43:39）\n",
    "%y:  2个数字表示的年份\n",
    "%Y:  4个数字表示的年份\n",
    "%z:  与utc时间的间隔 （如果是本地时间，返回空字符串）\n",
    "%Z:  时区名称（如果是本地时间，返回空字符串）\n",
    "```"
   ]
  },
  {
   "cell_type": "code",
   "execution_count": 14,
   "metadata": {},
   "outputs": [
    {
     "name": "stdout",
     "output_type": "stream",
     "text": [
      "11/05/2018\n",
      "2018-05-11\n"
     ]
    }
   ],
   "source": [
    "print(date1.strftime('%d/%m/%Y'))\n",
    "print(date1.strftime('%Y-%m-%d'))"
   ]
  },
  {
   "cell_type": "markdown",
   "metadata": {},
   "source": [
    "### strptime 将日期字符串解析为datetime\n",
    "将日期字符串解析为datetime数据类型\n",
    "\n",
    "datetime.datetime.strptime('日期字符串', '日期格式')"
   ]
  },
  {
   "cell_type": "code",
   "execution_count": 18,
   "metadata": {},
   "outputs": [
    {
     "data": {
      "text/plain": [
       "datetime.datetime(2019, 11, 11, 0, 0)"
      ]
     },
     "execution_count": 18,
     "metadata": {},
     "output_type": "execute_result"
    }
   ],
   "source": [
    "datetime.datetime.strptime('2019-11-11', '%Y-%m-%d')"
   ]
  },
  {
   "cell_type": "markdown",
   "metadata": {},
   "source": [
    "### timedelta 时间间隔操作\n",
    "表示时间间隔类，给一个时间点加上此类，即可得到一个新的时间。\n",
    "\n",
    "参数包含days、hours、minutes、seconds、microseconds。"
   ]
  },
  {
   "cell_type": "code",
   "execution_count": 19,
   "metadata": {},
   "outputs": [
    {
     "data": {
      "text/plain": [
       "datetime.timedelta(days=1, seconds=3661, microseconds=10)"
      ]
     },
     "execution_count": 19,
     "metadata": {},
     "output_type": "execute_result"
    }
   ],
   "source": [
    "#1天零1小时零1分零1秒又10毫秒的时间间隔\n",
    "datetime.timedelta(days=1,hours=1,minutes=1,seconds=1,microseconds=10)"
   ]
  },
  {
   "cell_type": "code",
   "execution_count": 20,
   "metadata": {},
   "outputs": [
    {
     "data": {
      "text/plain": [
       "datetime.timedelta(days=35)"
      ]
     },
     "execution_count": 20,
     "metadata": {},
     "output_type": "execute_result"
    }
   ],
   "source": [
    "#35天间隔\n",
    "datetime.timedelta(days=35)"
   ]
  },
  {
   "cell_type": "code",
   "execution_count": 22,
   "metadata": {},
   "outputs": [
    {
     "name": "stdout",
     "output_type": "stream",
     "text": [
      "2018-06-15 00:00:00\n",
      "2018-06-15\n"
     ]
    }
   ],
   "source": [
    "date1 = datetime.datetime(year=2018, month=5, day=11)\n",
    "delta = datetime.timedelta(days=35)\n",
    "date2 = date1+delta\n",
    "print(date2)\n",
    "print(date2.strftime('%Y-%m-%d'))"
   ]
  },
  {
   "cell_type": "markdown",
   "metadata": {},
   "source": []
  }
 ],
 "metadata": {
  "kernelspec": {
   "display_name": "Python 3",
   "language": "python",
   "name": "python3"
  },
  "language_info": {
   "codemirror_mode": {
    "name": "ipython",
    "version": 3
   },
   "file_extension": ".py",
   "mimetype": "text/x-python",
   "name": "python",
   "nbconvert_exporter": "python",
   "pygments_lexer": "ipython3",
   "version": "3.7.4"
  },
  "toc": {
   "base_numbering": 1,
   "nav_menu": {},
   "number_sections": false,
   "sideBar": true,
   "skip_h1_title": false,
   "title_cell": "Table of Contents",
   "title_sidebar": "Contents",
   "toc_cell": true,
   "toc_position": {},
   "toc_section_display": true,
   "toc_window_display": true
  }
 },
 "nbformat": 4,
 "nbformat_minor": 2
}
