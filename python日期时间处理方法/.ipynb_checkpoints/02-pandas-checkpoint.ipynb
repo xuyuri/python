{
 "cells": [
  {
   "cell_type": "markdown",
   "metadata": {},
   "source": [
    "## pandas时间操作\n",
    "\n",
    "pandas 可以做的时间操作有：\n",
    "- 生成指定日期区间\n",
    "- 统一不同的日期格式\n",
    "- 提取指定日期的数据\n",
    "\n",
    "-----\n",
    "\n",
    "**常用的方法有**\n",
    "- pd.date_range(start, end, freq) 生成一个日期区间\n",
    "- pd.to_datetime(data)  将data数据转换为datetime类型。\n",
    "\n",
    "----\n",
    "\n",
    "**参数解读**\n",
    "- start 开始日期\n",
    "- end 结束日期\n",
    "- freq参数由英文(M D H Min 。。。)、英文数字结合。D表示一天，M表示一月如20D表示20天，5M表示5个月。\n",
    "- data  时间序列型数据\n",
    "\n",
    "### 生成一个日期区间"
   ]
  },
  {
   "cell_type": "code",
   "execution_count": 2,
   "metadata": {},
   "outputs": [
    {
     "data": {
      "text/plain": [
       "DatetimeIndex(['2017-10-11', '2017-10-14', '2017-10-17', '2017-10-20',\n",
       "               '2017-10-23', '2017-10-26', '2017-10-29'],\n",
       "              dtype='datetime64[ns]', freq='3D')"
      ]
     },
     "execution_count": 2,
     "metadata": {},
     "output_type": "execute_result"
    }
   ],
   "source": [
    "import pandas as pd\n",
    "\n",
    "pd.date_range('20171011', '20171030', freq='3D') "
   ]
  },
  {
   "cell_type": "markdown",
   "metadata": {},
   "source": [
    "### 统一日期格式\n",
    "把不规则的日期序列series转化为统一日期格式的日期数据\n",
    "\n",
    "pd.to_datetime(data)  将data数据转换为datetime类型。"
   ]
  },
  {
   "cell_type": "code",
   "execution_count": 6,
   "metadata": {},
   "outputs": [
    {
     "data": {
      "text/plain": [
       "0   2015-05-20 08:00:00\n",
       "1   2017-05-12 11:38:00\n",
       "2   2017-05-30 18:22:00\n",
       "3   2017-10-11 23:01:00\n",
       "4   2017-12-11 03:00:00\n",
       "dtype: datetime64[ns]"
      ]
     },
     "execution_count": 6,
     "metadata": {},
     "output_type": "execute_result"
    }
   ],
   "source": [
    "import pandas as pd\n",
    "\n",
    "data = pd.Series(['May 20, 2015 08:00',\n",
    "                  '2017-05-12 11:38',\n",
    "                  '20170530 18:22',\n",
    "                  '2017/10/11 23:01',\n",
    "                  '2017 12 11 03:00'])\n",
    "\n",
    "#统一日期格式\n",
    "output = pd.to_datetime(data)\n",
    "output"
   ]
  },
  {
   "cell_type": "markdown",
   "metadata": {},
   "source": [
    "pd.Series是时间序列"
   ]
  },
  {
   "cell_type": "code",
   "execution_count": 2,
   "metadata": {},
   "outputs": [
    {
     "data": {
      "text/plain": [
       "<pandas.core.indexes.accessors.DatetimeProperties object at 0x127415e10>"
      ]
     },
     "execution_count": 2,
     "metadata": {},
     "output_type": "execute_result"
    }
   ],
   "source": [
    "#DatetimeProperties\n",
    "output.dt"
   ]
  },
  {
   "cell_type": "markdown",
   "metadata": {},
   "source": [
    "### datatime.dt可以使用year、month、day、hour属性"
   ]
  },
  {
   "cell_type": "code",
   "execution_count": 8,
   "metadata": {},
   "outputs": [],
   "source": [
    "#得到年series\n",
    "output.dt.year"
   ]
  },
  {
   "cell_type": "code",
   "execution_count": 7,
   "metadata": {},
   "outputs": [],
   "source": [
    "##得到月份series\n",
    "output.dt.month"
   ]
  },
  {
   "cell_type": "code",
   "execution_count": 10,
   "metadata": {},
   "outputs": [],
   "source": [
    "#得到 天 series\n",
    "output.dt.day"
   ]
  },
  {
   "cell_type": "code",
   "execution_count": 9,
   "metadata": {},
   "outputs": [],
   "source": [
    "#得到小时series\n",
    "output.dt.hour"
   ]
  },
  {
   "cell_type": "code",
   "execution_count": 11,
   "metadata": {},
   "outputs": [],
   "source": [
    "#得到分钟series\n",
    "output.dt.minute"
   ]
  },
  {
   "cell_type": "code",
   "execution_count": 12,
   "metadata": {},
   "outputs": [],
   "source": [
    "#按照小时统计\n",
    "output.dt.month.value_counts()"
   ]
  },
  {
   "cell_type": "markdown",
   "metadata": {},
   "source": [
    "### 提取指定日期的数据\n",
    "如下tm_rng是以10小时时间间隔，生成了10个数据。我们只要2018-01-02的数据。\n",
    "\n",
    "- **注意当日期数据作为index时，可以提取指定日期**\n",
    "- **提取方法：使用日期字符串操作，选取指定时间范围的数据。**"
   ]
  },
  {
   "cell_type": "code",
   "execution_count": 14,
   "metadata": {},
   "outputs": [
    {
     "name": "stdout",
     "output_type": "stream",
     "text": [
      "<class 'pandas.core.series.Series'>\n",
      "2017-12-31 12:00:00    0.502666\n",
      "2017-12-31 22:00:00   -0.286884\n",
      "2018-01-01 08:00:00    0.272272\n",
      "2018-01-01 18:00:00   -0.918555\n",
      "2018-01-02 04:00:00   -1.030750\n",
      "2018-01-02 14:00:00   -1.265136\n",
      "2018-01-03 00:00:00   -0.371972\n",
      "2018-01-03 10:00:00   -1.849510\n",
      "2018-01-03 20:00:00    0.543425\n",
      "2018-01-04 06:00:00    1.777583\n",
      "Freq: 10H, dtype: float64\n"
     ]
    }
   ],
   "source": [
    "import pandas as pd\n",
    "import numpy as np\n",
    "\n",
    "#使用pd.date_range生成的是datetime类型，注意当日期数据作为index时，可以提取指定日期\n",
    "tm_rng = pd.date_range('2017-12-31 12:00:00',periods=10, freq='10H')\n",
    "\n",
    "tm_series = pd.Series(np.random.randn(len(tm_rng)), \n",
    "                      index=tm_rng)  #日期数据作为index时，可以提取指定日期\n",
    "\n",
    "print(type(tm_series))\n",
    "print(tm_series)"
   ]
  },
  {
   "cell_type": "code",
   "execution_count": 15,
   "metadata": {},
   "outputs": [
    {
     "data": {
      "text/plain": [
       "2018-01-02 04:00:00   -1.030750\n",
       "2018-01-02 14:00:00   -1.265136\n",
       "Freq: 10H, dtype: float64"
      ]
     },
     "execution_count": 15,
     "metadata": {},
     "output_type": "execute_result"
    }
   ],
   "source": [
    "#我们只要tm_series中是2018-01-02的数据\n",
    "tm_series['2018-01-02']"
   ]
  },
  {
   "cell_type": "code",
   "execution_count": 51,
   "metadata": {},
   "outputs": [
    {
     "data": {
      "text/plain": [
       "2017-12-31 12:00:00   -0.926347\n",
       "2017-12-31 17:00:00    0.298299\n",
       "2017-12-31 22:00:00    0.120255\n",
       "Freq: 5H, dtype: float64"
      ]
     },
     "execution_count": 51,
     "metadata": {},
     "output_type": "execute_result"
    }
   ],
   "source": [
    "#我们要2017年的数据，结果全保留\n",
    "tm_series['2017']"
   ]
  },
  {
   "cell_type": "markdown",
   "metadata": {},
   "source": [
    "# 练习"
   ]
  },
  {
   "cell_type": "code",
   "execution_count": 19,
   "metadata": {},
   "outputs": [],
   "source": [
    "import pandas as pd\n",
    "\n",
    "#df = pd.read_excel('data/sample-salesv3.xlsx')\n",
    "\n",
    "#查看前5条数据\n",
    "#df.head(10)"
   ]
  },
  {
   "cell_type": "markdown",
   "metadata": {},
   "source": []
  }
 ],
 "metadata": {
  "kernelspec": {
   "display_name": "Python 3",
   "language": "python",
   "name": "python3"
  },
  "language_info": {
   "codemirror_mode": {
    "name": "ipython",
    "version": 3
   },
   "file_extension": ".py",
   "mimetype": "text/x-python",
   "name": "python",
   "nbconvert_exporter": "python",
   "pygments_lexer": "ipython3",
   "version": "3.7.4"
  },
  "toc": {
   "base_numbering": 1,
   "nav_menu": {},
   "number_sections": false,
   "sideBar": true,
   "skip_h1_title": false,
   "title_cell": "Table of Contents",
   "title_sidebar": "Contents",
   "toc_cell": false,
   "toc_position": {},
   "toc_section_display": true,
   "toc_window_display": true
  }
 },
 "nbformat": 4,
 "nbformat_minor": 2
}
