{
 "cells": [
  {
   "cell_type": "markdown",
   "metadata": {
    "toc": true
   },
   "source": [
    "<h1>Table of Contents<span class=\"tocSkip\"></span></h1>\n",
    "<div class=\"toc\"><ul class=\"toc-item\"><li><span><a href=\"#Python基础\" data-toc-modified-id=\"Python基础-1\">Python基础</a></span><ul class=\"toc-item\"><li><span><a href=\"#Python是一门“语言”\" data-toc-modified-id=\"Python是一门“语言”-1.1\">Python是一门“语言”</a></span></li><li><span><a href=\"#理解对|类|属性|方法\" data-toc-modified-id=\"理解对|类|属性|方法-1.2\">理解对|类|属性|方法</a></span><ul class=\"toc-item\"><li><span><a href=\"#利用属性与方法解决实际问题\" data-toc-modified-id=\"利用属性与方法解决实际问题-1.2.1\">利用属性与方法解决实际问题</a></span></li><li><span><a href=\"#具体问题具体分析，具体对象具体分析。\" data-toc-modified-id=\"具体问题具体分析，具体对象具体分析。-1.2.2\">具体问题具体分析，具体对象具体分析。</a></span></li></ul></li></ul></li><li><span><a href=\"#python语言的单词-数据类型\" data-toc-modified-id=\"python语言的单词-数据类型-2\">python语言的单词-数据类型</a></span><ul class=\"toc-item\"><li><span><a href=\"#1.-空值\" data-toc-modified-id=\"1.-空值-2.1\">1. 空值</a></span></li><li><span><a href=\"#2.-布尔型\" data-toc-modified-id=\"2.-布尔型-2.2\">2. 布尔型</a></span></li><li><span><a href=\"#3.--字符串\" data-toc-modified-id=\"3.--字符串-2.3\">3.  字符串</a></span><ul class=\"toc-item\"><li><span><a href=\"#3.1--字符串拼接\" data-toc-modified-id=\"3.1--字符串拼接-2.3.1\">3.1  字符串拼接</a></span></li><li><span><a href=\"#3.2-字符串常用方法\" data-toc-modified-id=\"3.2-字符串常用方法-2.3.2\">3.2 字符串常用方法</a></span><ul class=\"toc-item\"><li><span><a href=\"#.lower()、upper()\" data-toc-modified-id=\".lower()、upper()-2.3.2.1\">.lower()、upper()</a></span></li><li><span><a href=\"#.replace()\" data-toc-modified-id=\".replace()-2.3.2.2\">.replace()</a></span></li><li><span><a href=\"#格式化-format\" data-toc-modified-id=\"格式化-format-2.3.2.3\">格式化 format</a></span></li><li><span><a href=\"#转义符-\\\" data-toc-modified-id=\"转义符-\\-2.3.2.4\">转义符 \\</a></span></li></ul></li></ul></li><li><span><a href=\"#4.-列表list\" data-toc-modified-id=\"4.-列表list-2.4\">4. 列表list</a></span><ul class=\"toc-item\"><li><span><a href=\"#4.1-列表常用方法\" data-toc-modified-id=\"4.1-列表常用方法-2.4.1\">4.1 列表常用方法</a></span><ul class=\"toc-item\"><li><span><a href=\"#.append()\" data-toc-modified-id=\".append()-2.4.1.1\">.append()</a></span></li><li><span><a href=\"#.count()\" data-toc-modified-id=\".count()-2.4.1.2\">.count()</a></span></li></ul></li><li><span><a href=\"#4.2-加法\" data-toc-modified-id=\"4.2-加法-2.4.2\">4.2 加法</a></span></li><li><span><a href=\"#4.3-索引值\" data-toc-modified-id=\"4.3-索引值-2.4.3\">4.3 索引值</a></span></li><li><span><a href=\"#4.4-'sep'.join(字符串列表)\" data-toc-modified-id=\"4.4-'sep'.join(字符串列表)-2.4.4\">4.4 'sep'.join(字符串列表)</a></span></li><li><span><a href=\"#练习\" data-toc-modified-id=\"练习-2.4.5\">练习</a></span></li></ul></li><li><span><a href=\"#5.-元组tuple\" data-toc-modified-id=\"5.-元组tuple-2.5\">5. 元组tuple</a></span><ul class=\"toc-item\"><li><ul class=\"toc-item\"><li><span><a href=\"#拆包\" data-toc-modified-id=\"拆包-2.5.0.1\">拆包</a></span></li></ul></li></ul></li><li><span><a href=\"#6.-字典dict\" data-toc-modified-id=\"6.-字典dict-2.6\">6. 字典dict</a></span><ul class=\"toc-item\"><li><span><a href=\"#字典常用的方法：\" data-toc-modified-id=\"字典常用的方法：-2.6.1\">字典常用的方法：</a></span><ul class=\"toc-item\"><li><span><a href=\"#.values()\" data-toc-modified-id=\".values()-2.6.1.1\">.values()</a></span></li><li><span><a href=\"#.items()\" data-toc-modified-id=\".items()-2.6.1.2\">.items()</a></span></li><li><span><a href=\"#查询\" data-toc-modified-id=\"查询-2.6.1.3\">查询</a></span></li></ul></li></ul></li><li><span><a href=\"#7.-集合set\" data-toc-modified-id=\"7.-集合set-2.7\">7. 集合set</a></span><ul class=\"toc-item\"><li><span><a href=\"#.add()\" data-toc-modified-id=\".add()-2.7.1\">.add()</a></span></li></ul></li><li><span><a href=\"#8.-JSON字符串\" data-toc-modified-id=\"8.-JSON字符串-2.8\">8. JSON字符串</a></span><ul class=\"toc-item\"><li><span><a href=\"#json.dumps()\" data-toc-modified-id=\"json.dumps()-2.8.1\">json.dumps()</a></span></li><li><span><a href=\"#json.loads()\" data-toc-modified-id=\"json.loads()-2.8.2\">json.loads()</a></span></li></ul></li></ul></li></ul></div>"
   ]
  },
  {
   "cell_type": "markdown",
   "metadata": {},
   "source": [
    "# Python基础\n",
    "\n",
    "## Python是一门“语言”\n",
    "![](img/python.jpeg)"
   ]
  },
  {
   "cell_type": "code",
   "execution_count": 1,
   "metadata": {
    "collapsed": true
   },
   "outputs": [
    {
     "name": "stdout",
     "output_type": "stream",
     "text": [
      "50\n"
     ]
    }
   ],
   "source": [
    "#输出数字a的绝对数\n",
    "\n",
    "a = -50\n",
    "\n",
    "if a >= 0:\n",
    "    print(a)\n",
    "else:\n",
    "    print(-a)"
   ]
  },
  {
   "cell_type": "code",
   "execution_count": null,
   "metadata": {},
   "outputs": [],
   "source": [
    "import matplotlib.pyplot as plt\n",
    "import math\n",
    "%matplotlib inline\n",
    "\n",
    "Be_better = 1.01\n",
    "\n",
    "every_day_powers = []\n",
    "for day in range(1, 365):\n",
    "    more_power = math.pow(Be_better, day)\n",
    "    every_day_powers.append(more_power)\n",
    "    \n",
    "plt.plot(range(1, 365), every_day_powers)\n",
    "plt.title('Be better everyday!')"
   ]
  },
  {
   "cell_type": "markdown",
   "metadata": {},
   "source": [
    "**总结：**\n",
    "\n",
    "- 单行注释  #后面的代码不执行，用来写注释\n",
    "- 多行注释 使用\"\"\"将需要不执行或者注释的内容包裹\n",
    "- a是变量，变量名根据自己需要起名字。变量是用来存储 -50 这个值的\n",
    "- 当语句以冒号:结尾时，缩进（4个空格）的语句视为 代码块。\n",
    "- 一般的编辑器默认 Tab键 等同于4空格。\n",
    "- 由于python的缩进，复制-粘贴 原来的代码要特别注意！！\n",
    "- 一定要注意 **中英文书写格式**\n"
   ]
  },
  {
   "cell_type": "markdown",
   "metadata": {},
   "source": [
    "\n",
    "## 理解对|类|属性|方法\n",
    "编程中的数据类型与这些动物一样，都是人类根据自身需要，找最合适的对象解决人类需求。\n",
    "\n",
    "### 利用属性与方法解决实际问题\n",
    "\n",
    "![](img/对象与属性.png)\n",
    "\n",
    "### 具体问题具体分析，具体对象具体分析。"
   ]
  },
  {
   "cell_type": "markdown",
   "metadata": {},
   "source": [
    "# python语言的单词-数据类型\n",
    "\n",
    "学习英语需要背单词，学习编程语言同样也需要记“单词”，只不过这“单词”是数据类型。数据类型是编程语言的基石，下面我们看看数据类型是什么样子\n",
    "\n",
    "|类型|例子|\n",
    "|---|---|\n",
    "|数字|``a = 5``|\n",
    "|字符串|``my_str = \"abcdefg\"``|\n",
    "|列表|``my_list = [1, 2, 3]``|\n",
    "|元组|``my_tuple = (1, 2, 3)``|\n",
    "|字典|``my_dict = {'David': 25, 'Mark':30}``|\n",
    "|空值|``None、''、[]、``|"
   ]
  },
  {
   "cell_type": "markdown",
   "metadata": {},
   "source": [
    "\n",
    "## 1. 空值\n",
    "python还有空字符串、空列表等等，\n",
    "\n",
    "None是python中特殊的空值，不能理解为0，\n",
    "\n",
    "因为0是有意义的，而None是一个特殊的空值。 \n",
    "\n"
   ]
  },
  {
   "cell_type": "code",
   "execution_count": 1,
   "metadata": {},
   "outputs": [],
   "source": [
    "None"
   ]
  },
  {
   "cell_type": "code",
   "execution_count": 2,
   "metadata": {
    "collapsed": true,
    "jupyter": {
     "outputs_hidden": true
    }
   },
   "outputs": [
    {
     "data": {
      "text/plain": [
       "''"
      ]
     },
     "execution_count": 2,
     "metadata": {},
     "output_type": "execute_result"
    }
   ],
   "source": [
    "''"
   ]
  },
  {
   "cell_type": "code",
   "execution_count": 3,
   "metadata": {
    "collapsed": true,
    "jupyter": {
     "outputs_hidden": true
    }
   },
   "outputs": [
    {
     "data": {
      "text/plain": [
       "[]"
      ]
     },
     "execution_count": 3,
     "metadata": {},
     "output_type": "execute_result"
    }
   ],
   "source": [
    "[]"
   ]
  },
  {
   "cell_type": "markdown",
   "metadata": {},
   "source": [
    "## 2. 布尔型\n",
    "\n",
    "一个布尔值只有``True、False``两种值，要么是``True``，要么是``False``.\n",
    "\n",
    "布尔值可以进行``且and、或or和非not运算``，一般与``if语句``结合使用。"
   ]
  },
  {
   "cell_type": "code",
   "execution_count": 5,
   "metadata": {
    "collapsed": true
   },
   "outputs": [
    {
     "data": {
      "text/plain": [
       "False"
      ]
     },
     "execution_count": 5,
     "metadata": {},
     "output_type": "execute_result"
    }
   ],
   "source": [
    "a = 5\n",
    "b = 3\n",
    "a == b"
   ]
  },
  {
   "cell_type": "code",
   "execution_count": 3,
   "metadata": {
    "collapsed": true,
    "tags": [
     "code"
    ]
   },
   "outputs": [
    {
     "name": "stdout",
     "output_type": "stream",
     "text": [
      "False\n",
      "True\n",
      "False\n"
     ]
    }
   ],
   "source": [
    "print(True and False)\n",
    "print(True or False)\n",
    "print(not True)"
   ]
  },
  {
   "cell_type": "markdown",
   "metadata": {},
   "source": [
    "## 3.  字符串\n",
    "字符串是以  **单引号**  或  **双引号**  或 **三引号** 括起来的任意文本，比如``'abc'，\"xyz\"``等等。\n",
    "\n",
    "**注意**:  \n",
    "- 这里所说的引号都是英文引号\n",
    "- ``''`` 或 ``\"\"`` 本身不是字符串的一部分，因此，字符串 ``'abc'`` 只有a，b，c这3个字符。\n"
   ]
  },
  {
   "cell_type": "code",
   "execution_count": 6,
   "metadata": {
    "jupyter": {
     "outputs_hidden": true
    }
   },
   "outputs": [
    {
     "name": "stdout",
     "output_type": "stream",
     "text": [
      "abc\n",
      "abc\n",
      "True\n",
      "<class 'str'>\n"
     ]
    }
   ],
   "source": [
    "print('abc')\n",
    "print(\"abc\")\n",
    "print('abc'==\"abc\")\n",
    "print(type('abc'))"
   ]
  },
  {
   "cell_type": "markdown",
   "metadata": {},
   "source": [
    "如果字符串内部既包含 ``单引号`` 又包含 ``双引号`` 怎么办？\n",
    "\n",
    "\n",
    "```\n",
    "'I'm \"OK\"!'\n",
    "```\n",
    "\n"
   ]
  },
  {
   "cell_type": "code",
   "execution_count": 13,
   "metadata": {
    "collapsed": true,
    "jupyter": {
     "outputs_hidden": true
    }
   },
   "outputs": [
    {
     "ename": "SyntaxError",
     "evalue": "invalid syntax (<ipython-input-13-af5dc904b170>, line 1)",
     "output_type": "error",
     "traceback": [
      "\u001b[0;36m  File \u001b[0;32m\"<ipython-input-13-af5dc904b170>\"\u001b[0;36m, line \u001b[0;32m1\u001b[0m\n\u001b[0;31m    print('I'm \"OK\"!')\u001b[0m\n\u001b[0m             ^\u001b[0m\n\u001b[0;31mSyntaxError\u001b[0m\u001b[0;31m:\u001b[0m invalid syntax\n"
     ]
    }
   ],
   "source": [
    "print('I'm \"OK\"!')"
   ]
  },
  {
   "cell_type": "markdown",
   "metadata": {},
   "source": [
    "可以用 ``转义字符\\`` 来标识，比如："
   ]
  },
  {
   "cell_type": "code",
   "execution_count": 14,
   "metadata": {
    "collapsed": true,
    "jupyter": {
     "outputs_hidden": true
    }
   },
   "outputs": [
    {
     "name": "stdout",
     "output_type": "stream",
     "text": [
      "I'm \"OK\"!\n"
     ]
    }
   ],
   "source": [
    "print('I\\'m \\\"OK\\\"!')"
   ]
  },
  {
   "cell_type": "markdown",
   "metadata": {},
   "source": [
    "### 3.1  字符串拼接\n",
    "使用 ``+`` ，可以将两个字符串按照顺序拼接起来，"
   ]
  },
  {
   "cell_type": "code",
   "execution_count": 15,
   "metadata": {
    "collapsed": true,
    "jupyter": {
     "outputs_hidden": true
    }
   },
   "outputs": [
    {
     "name": "stdout",
     "output_type": "stream",
     "text": [
      "Python\n",
      "ythonP\n"
     ]
    }
   ],
   "source": [
    "#字符串拼接\n",
    "a = 'P'\n",
    "b = 'ython'\n",
    "print(a+b)\n",
    "print(b+a)"
   ]
  },
  {
   "cell_type": "markdown",
   "metadata": {},
   "source": [
    "### 3.2 字符串常用方法\n",
    "- str.lower() /str.upper() 变小写、变大写\n",
    "- str.split(sep)  使用sep将字符串分割，默认sep为空格\n",
    "- str.replace(old, new) 将str中的old替换为new\n",
    "- str.format() 向str中填充内容\n"
   ]
  },
  {
   "cell_type": "markdown",
   "metadata": {},
   "source": [
    "#### .lower()、upper()"
   ]
  },
  {
   "cell_type": "code",
   "execution_count": 7,
   "metadata": {
    "collapsed": true,
    "jupyter": {
     "outputs_hidden": true
    }
   },
   "outputs": [
    {
     "name": "stdout",
     "output_type": "stream",
     "text": [
      "welcome to learn python!\n",
      "WELCOME TO LEARN PYTHON!\n",
      "Welcome to learn Julia!\n"
     ]
    }
   ],
   "source": [
    "content = \"Welcome to learn python!\"\n",
    "\n",
    "print(content.lower())   #变小写"
   ]
  },
  {
   "cell_type": "code",
   "execution_count": null,
   "metadata": {},
   "outputs": [],
   "source": [
    "print(content.upper())   #变大写"
   ]
  },
  {
   "cell_type": "markdown",
   "metadata": {},
   "source": [
    "#### .replace()"
   ]
  },
  {
   "cell_type": "code",
   "execution_count": null,
   "metadata": {},
   "outputs": [],
   "source": [
    "print(content.replace('python', 'Julia')) #替换"
   ]
  },
  {
   "cell_type": "markdown",
   "metadata": {},
   "source": [
    "#### 格式化 format\n",
    "比如每个月给员工发放工资时，需要发送每个员工的工资组成详情。\n",
    "\n",
    "```\n",
    "\"张三,你这个月的工资是2310元；以下是你的工资详情。。。。\"\n",
    "\"李四,你这个月的工资是3456元；以下是你的工资详情。。。。\"\n",
    "\"王五,你这个月的工资是2431元；以下是你的工资详情。。。。\"\n",
    "...\n",
    "```\n",
    "\n",
    "如何自动化自动化填充"
   ]
  },
  {
   "cell_type": "code",
   "execution_count": null,
   "metadata": {},
   "outputs": [],
   "source": [
    "content = '{name},你这个月的工资是{salary}元；以下是你的工资详情'\n",
    "\n",
    "print(content.format(name='张三', salary='2310'))"
   ]
  },
  {
   "cell_type": "code",
   "execution_count": null,
   "metadata": {},
   "outputs": [],
   "source": [
    "print(content.format(name='李四', salary='3456'))"
   ]
  },
  {
   "cell_type": "code",
   "execution_count": null,
   "metadata": {},
   "outputs": [],
   "source": [
    "print(content.format(name='王五', salary='2431'))"
   ]
  },
  {
   "cell_type": "markdown",
   "metadata": {},
   "source": [
    "####    转义符 \\\n",
    "转义字符\\可以转义很多字符，比如:\n",
    "\n",
    "- ``\\n`` 换行\n",
    "- ``\\t`` 制表符\n",
    "- ``字符\\`` 本身也要转义，所以 ``\\\\`` 表示的字符就是 ``\\``\n",
    "\n",
    "可以print()打印字符串看看下面打印结果是?：\n",
    "\n",
    "```python\n",
    "print('Hello\\tWorld!')\n",
    "print('转义\\n换行!')\n",
    "print('反斜杠线\\\\')\n",
    "```"
   ]
  },
  {
   "cell_type": "code",
   "execution_count": 8,
   "metadata": {
    "collapsed": true,
    "jupyter": {
     "outputs_hidden": true
    }
   },
   "outputs": [
    {
     "name": "stdout",
     "output_type": "stream",
     "text": [
      "Hello\tWorld!\n",
      "Hello World!\n"
     ]
    }
   ],
   "source": [
    "print('Hello\\tWorld!')\n",
    "print('Hello World!')"
   ]
  },
  {
   "cell_type": "code",
   "execution_count": 26,
   "metadata": {
    "collapsed": true,
    "jupyter": {
     "outputs_hidden": true
    }
   },
   "outputs": [
    {
     "name": "stdout",
     "output_type": "stream",
     "text": [
      "转义\n",
      "换行!\n"
     ]
    }
   ],
   "source": [
    "print('转义\\n换行!')"
   ]
  },
  {
   "cell_type": "code",
   "execution_count": 27,
   "metadata": {
    "collapsed": true,
    "jupyter": {
     "outputs_hidden": true
    }
   },
   "outputs": [
    {
     "name": "stdout",
     "output_type": "stream",
     "text": [
      "反斜杠线\\\n"
     ]
    }
   ],
   "source": [
    "print('反斜杠线\\\\')"
   ]
  },
  {
   "cell_type": "markdown",
   "metadata": {},
   "source": [
    "如果字符串里面有很多字符都需要转义，就需要加很多``\\``,\n",
    "\n",
    "为了简化，Python还允许用``r''``表示``''内部``的字符串默认不转义,例如\n",
    "\n",
    "```python\n",
    "print('\\\\\\t\\\\')\n",
    "print(r'\\\\\\t\\\\')\n",
    "print('hello world!')\n",
    "```"
   ]
  },
  {
   "cell_type": "code",
   "execution_count": 28,
   "metadata": {
    "collapsed": true,
    "jupyter": {
     "outputs_hidden": true
    }
   },
   "outputs": [
    {
     "name": "stdout",
     "output_type": "stream",
     "text": [
      "\\\\n\t\\\n"
     ]
    }
   ],
   "source": [
    "print('\\\\\\\\n\\t\\\\')"
   ]
  },
  {
   "cell_type": "code",
   "execution_count": 29,
   "metadata": {
    "collapsed": true,
    "jupyter": {
     "outputs_hidden": true
    }
   },
   "outputs": [
    {
     "name": "stdout",
     "output_type": "stream",
     "text": [
      "\\\\\\t\\\\\n"
     ]
    }
   ],
   "source": [
    "print(r'\\\\\\t\\\\')"
   ]
  },
  {
   "cell_type": "markdown",
   "metadata": {},
   "source": [
    "##  4. 列表list\n",
    "list是一种有序的集合，可以随时添加和删除其中的元素(该元素可以是字符串、元组、列表等)。"
   ]
  },
  {
   "cell_type": "code",
   "execution_count": 32,
   "metadata": {
    "collapsed": true,
    "jupyter": {
     "outputs_hidden": true
    }
   },
   "outputs": [
    {
     "data": {
      "text/plain": [
       "6"
      ]
     },
     "execution_count": 32,
     "metadata": {},
     "output_type": "execute_result"
    }
   ],
   "source": [
    "A = ['a', 'b', 'a', 'c', 'a', 'a']\n",
    "\n",
    "#A的元素个数（长度）\n",
    "len(A)"
   ]
  },
  {
   "cell_type": "code",
   "execution_count": 33,
   "metadata": {
    "collapsed": true,
    "jupyter": {
     "outputs_hidden": true
    }
   },
   "outputs": [
    {
     "data": {
      "text/plain": [
       "['a', 'b', 'a', 'c', 'a', 'a']"
      ]
     },
     "execution_count": 33,
     "metadata": {},
     "output_type": "execute_result"
    }
   ],
   "source": [
    "A"
   ]
  },
  {
   "cell_type": "markdown",
   "metadata": {},
   "source": [
    "### 4.1 列表常用方法\n",
    "- list.append(a) 向list中添加元素a\n",
    "- list.count(a) 统计list中a的个数"
   ]
  },
  {
   "cell_type": "markdown",
   "metadata": {},
   "source": [
    "#### .append()"
   ]
  },
  {
   "cell_type": "code",
   "execution_count": 34,
   "metadata": {
    "collapsed": true,
    "jupyter": {
     "outputs_hidden": true
    }
   },
   "outputs": [
    {
     "name": "stdout",
     "output_type": "stream",
     "text": [
      "['a', 'b', 'a', 'c', 'a', 'a']\n",
      "['a', 'b', 'a', 'c', 'a', 'a', 'ffff']\n"
     ]
    }
   ],
   "source": [
    "A = ['a', 'b', 'a', 'c', 'a', 'a']\n",
    "print(A)\n",
    "A.append('ffff')     #list.append(a) 向list中添加元素a\n",
    "print(A)"
   ]
  },
  {
   "cell_type": "markdown",
   "metadata": {},
   "source": [
    "#### .count()"
   ]
  },
  {
   "cell_type": "code",
   "execution_count": 36,
   "metadata": {
    "collapsed": true,
    "jupyter": {
     "outputs_hidden": true
    }
   },
   "outputs": [
    {
     "name": "stdout",
     "output_type": "stream",
     "text": [
      "4\n"
     ]
    }
   ],
   "source": [
    "#A中a的个数\n",
    "print(A.count('a'))"
   ]
  },
  {
   "cell_type": "markdown",
   "metadata": {},
   "source": [
    "### 4.2 加法\n",
    "将一个列表与另一个列表合并（拼接）"
   ]
  },
  {
   "cell_type": "code",
   "execution_count": 37,
   "metadata": {
    "collapsed": true,
    "jupyter": {
     "outputs_hidden": true
    }
   },
   "outputs": [
    {
     "name": "stdout",
     "output_type": "stream",
     "text": [
      "['Michael', 'Bob', 'David', 'Lee']\n",
      "['David', 'Lee', 'Michael', 'Bob']\n"
     ]
    }
   ],
   "source": [
    "names1 = ['Michael', 'Bob']\n",
    "names2 = ['David', 'Lee']\n",
    "\n",
    "print(names1 + names2)\n",
    "print(names2 + names1)"
   ]
  },
  {
   "cell_type": "markdown",
   "metadata": {},
   "source": [
    "### 4.3 索引值\n",
    "根据索引值，我们可以拿到列表中对应的数据。\n",
    "\n",
    "索引值一般 **从左往右** 计数，从0开始，0表示'第一个'。\n",
    "\n",
    "如果是 **从右向左** 计数，-1表示‘倒数第一个’，-2表示倒数第二个"
   ]
  },
  {
   "cell_type": "code",
   "execution_count": 6,
   "metadata": {
    "collapsed": true,
    "jupyter": {
     "outputs_hidden": true
    }
   },
   "outputs": [
    {
     "name": "stdout",
     "output_type": "stream",
     "text": [
      "David\n",
      "Unique\n"
     ]
    }
   ],
   "source": [
    "names3 = ['Michael', 'Bob', 'David', 'Lee', 'Mary', 'Unique']\n",
    "\n",
    "print(names3[2])\n",
    "print(names3[-1])"
   ]
  },
  {
   "cell_type": "markdown",
   "metadata": {},
   "source": [
    "### 4.4 'sep'.join(字符串列表)\n",
    "将字符串列表以sep作为间隔，转化为字符串。\n",
    "\n",
    "sep是代指某些字符"
   ]
  },
  {
   "cell_type": "code",
   "execution_count": 2,
   "metadata": {
    "collapsed": true
   },
   "outputs": [
    {
     "data": {
      "text/plain": [
       "'1a2a3a4'"
      ]
     },
     "execution_count": 2,
     "metadata": {},
     "output_type": "execute_result"
    }
   ],
   "source": [
    "str_list = ['1','2','3','4']\n",
    "'a'.join(str_list)"
   ]
  },
  {
   "cell_type": "code",
   "execution_count": 3,
   "metadata": {
    "collapsed": true
   },
   "outputs": [
    {
     "data": {
      "text/plain": [
       "'1 2 3 4'"
      ]
     },
     "execution_count": 3,
     "metadata": {},
     "output_type": "execute_result"
    }
   ],
   "source": [
    "' '.join(str_list)"
   ]
  },
  {
   "cell_type": "code",
   "execution_count": 4,
   "metadata": {
    "collapsed": true
   },
   "outputs": [
    {
     "data": {
      "text/plain": [
       "'1234'"
      ]
     },
     "execution_count": 4,
     "metadata": {},
     "output_type": "execute_result"
    }
   ],
   "source": [
    "''.join(str_list)"
   ]
  },
  {
   "cell_type": "markdown",
   "metadata": {},
   "source": [
    "### 练习"
   ]
  },
  {
   "cell_type": "code",
   "execution_count": 8,
   "metadata": {},
   "outputs": [],
   "source": [
    "L = [['Apple', 'Google', 'Microsoft'],\n",
    "     ['Java', 'Python', 'Ruby', 'PHP'],\n",
    "     ['Adam', 'Bart', 'Lisa']]\n",
    "\n",
    "# 打印出Apple:\n",
    "# 打印出Python:\n",
    "# 打印出Lisa:"
   ]
  },
  {
   "cell_type": "markdown",
   "metadata": {},
   "source": [
    "## 5. 元组tuple\n",
    "与list类型类似，可以简单地认为列表与元组的区别仅仅是``[]``变成了``()``。"
   ]
  },
  {
   "cell_type": "code",
   "execution_count": 9,
   "metadata": {
    "collapsed": true,
    "jupyter": {
     "outputs_hidden": true
    }
   },
   "outputs": [
    {
     "data": {
      "text/plain": [
       "('Michael', 'Bob', 'David', 'Lee', 'Mary', 'Unique')"
      ]
     },
     "execution_count": 9,
     "metadata": {},
     "output_type": "execute_result"
    }
   ],
   "source": [
    "my_tuples = ('Michael', 'Bob', 'David', 'Lee', 'Mary', 'Unique')\n",
    "my_tuples"
   ]
  },
  {
   "cell_type": "markdown",
   "metadata": {},
   "source": [
    "#### 拆包"
   ]
  },
  {
   "cell_type": "code",
   "execution_count": 9,
   "metadata": {},
   "outputs": [
    {
     "name": "stdout",
     "output_type": "stream",
     "text": [
      "1\n",
      "2\n"
     ]
    }
   ],
   "source": [
    "a, b = (1, 2)\n",
    "print(a)\n",
    "print(b)"
   ]
  },
  {
   "cell_type": "code",
   "execution_count": 13,
   "metadata": {
    "collapsed": true
   },
   "outputs": [
    {
     "ename": "ValueError",
     "evalue": "too many values to unpack (expected 2)",
     "output_type": "error",
     "traceback": [
      "\u001b[0;31m---------------------------------------------------------------------------\u001b[0m",
      "\u001b[0;31mValueError\u001b[0m                                Traceback (most recent call last)",
      "\u001b[0;32m<ipython-input-13-e16a7a67f0c0>\u001b[0m in \u001b[0;36m<module>\u001b[0;34m\u001b[0m\n\u001b[0;32m----> 1\u001b[0;31m \u001b[0ma\u001b[0m\u001b[0;34m,\u001b[0m \u001b[0mb\u001b[0m \u001b[0;34m=\u001b[0m \u001b[0;34m(\u001b[0m\u001b[0;34m'a'\u001b[0m\u001b[0;34m,\u001b[0m \u001b[0;34m'b'\u001b[0m\u001b[0;34m,\u001b[0m \u001b[0;34m'c'\u001b[0m\u001b[0;34m)\u001b[0m\u001b[0;34m\u001b[0m\u001b[0;34m\u001b[0m\u001b[0m\n\u001b[0m\u001b[1;32m      2\u001b[0m \u001b[0mprint\u001b[0m\u001b[0;34m(\u001b[0m\u001b[0ma\u001b[0m\u001b[0;34m)\u001b[0m\u001b[0;34m\u001b[0m\u001b[0;34m\u001b[0m\u001b[0m\n\u001b[1;32m      3\u001b[0m \u001b[0mprint\u001b[0m\u001b[0;34m(\u001b[0m\u001b[0mb\u001b[0m\u001b[0;34m)\u001b[0m\u001b[0;34m\u001b[0m\u001b[0;34m\u001b[0m\u001b[0m\n",
      "\u001b[0;31mValueError\u001b[0m: too many values to unpack (expected 2)"
     ]
    }
   ],
   "source": [
    "a, b = ('a', 'b', 'c')\n",
    "print(a)\n",
    "print(b)"
   ]
  },
  {
   "cell_type": "code",
   "execution_count": 14,
   "metadata": {
    "collapsed": true
   },
   "outputs": [
    {
     "name": "stdout",
     "output_type": "stream",
     "text": [
      "4\n",
      "5\n"
     ]
    }
   ],
   "source": [
    "a, b = [4, 5]\n",
    "print(a)\n",
    "print(b)"
   ]
  },
  {
   "cell_type": "markdown",
   "metadata": {},
   "source": [
    "## 6. 字典dict\n",
    "dict全称dictionary，使用**键-值对（key-value-pair）**存储。\n",
    "\n",
    "一般我们将dict作为数据容器，可以用来记录对象（个体）的属性信息。"
   ]
  },
  {
   "cell_type": "code",
   "execution_count": 15,
   "metadata": {
    "collapsed": true
   },
   "outputs": [
    {
     "name": "stdout",
     "output_type": "stream",
     "text": [
      "0\n",
      "{}\n"
     ]
    }
   ],
   "source": [
    "#字典的初始化,  空字典\n",
    "empty = dict()\n",
    "print(len(empty))\n",
    "print(empty)"
   ]
  },
  {
   "cell_type": "code",
   "execution_count": 16,
   "metadata": {
    "collapsed": true
   },
   "outputs": [
    {
     "name": "stdout",
     "output_type": "stream",
     "text": [
      "3\n",
      "75\n"
     ]
    }
   ],
   "source": [
    "#生成一个典型的字典\n",
    "grades = {'Michael': 95, \n",
    "          'Bob': 75, \n",
    "          'Tracy': 85}\n",
    "\n",
    "print(len(grades))\n",
    "print(grades['Bob'])"
   ]
  },
  {
   "cell_type": "code",
   "execution_count": 18,
   "metadata": {
    "collapsed": true
   },
   "outputs": [
    {
     "data": {
      "text/plain": [
       "{'Michael': 95, 'Bob': 75, 'Tracy': 85, 'David': 100}"
      ]
     },
     "execution_count": 18,
     "metadata": {},
     "output_type": "execute_result"
    }
   ],
   "source": [
    "#写入新的数据\n",
    "grades['David'] = 100\n",
    "grades"
   ]
  },
  {
   "cell_type": "code",
   "execution_count": 65,
   "metadata": {
    "collapsed": true
   },
   "outputs": [
    {
     "data": {
      "text/plain": [
       "{'Michael': 95, 'Bob': 75, 'Tracy': 85, 'David': 99}"
      ]
     },
     "execution_count": 65,
     "metadata": {},
     "output_type": "execute_result"
    }
   ],
   "source": [
    "grades['David'] = 99\n",
    "grades"
   ]
  },
  {
   "cell_type": "code",
   "execution_count": 11,
   "metadata": {
    "collapsed": true
   },
   "outputs": [
    {
     "ename": "KeyError",
     "evalue": "'Mary'",
     "output_type": "error",
     "traceback": [
      "\u001b[0;31m---------------------------------------------------------------------------\u001b[0m",
      "\u001b[0;31mKeyError\u001b[0m                                  Traceback (most recent call last)",
      "\u001b[0;32m<ipython-input-11-77dd275c6fe1>\u001b[0m in \u001b[0;36m<module>\u001b[0;34m\u001b[0m\n\u001b[1;32m      1\u001b[0m \u001b[0;31m#对未知Key进行查询，报错\u001b[0m\u001b[0;34m\u001b[0m\u001b[0;34m\u001b[0m\u001b[0;34m\u001b[0m\u001b[0m\n\u001b[0;32m----> 2\u001b[0;31m \u001b[0mgrades\u001b[0m\u001b[0;34m[\u001b[0m\u001b[0;34m'Mary'\u001b[0m\u001b[0;34m]\u001b[0m\u001b[0;34m\u001b[0m\u001b[0;34m\u001b[0m\u001b[0m\n\u001b[0m",
      "\u001b[0;31mKeyError\u001b[0m: 'Mary'"
     ]
    }
   ],
   "source": [
    "#对未知Key进行查询，报错\n",
    "grades['Mary']"
   ]
  },
  {
   "cell_type": "code",
   "execution_count": 12,
   "metadata": {
    "collapsed": true
   },
   "outputs": [
    {
     "name": "stdout",
     "output_type": "stream",
     "text": [
      "None\n"
     ]
    }
   ],
   "source": [
    "#使用get方法对未知Key进行查询，不报错，返回None\n",
    "result = grades.get('Mary')\n",
    "print(result)"
   ]
  },
  {
   "cell_type": "markdown",
   "metadata": {},
   "source": [
    "### 字典常用的方法：\n",
    "- dictdata.keys()  返回该dictdata所有的关键词key\n",
    "- dictdata.values()  返回该dictdata所有的值value\n",
    "- dcitdata.items() 返回键值对序列"
   ]
  },
  {
   "cell_type": "code",
   "execution_count": 88,
   "metadata": {
    "collapsed": true,
    "jupyter": {
     "outputs_hidden": true
    }
   },
   "outputs": [
    {
     "data": {
      "text/plain": [
       "[1, 2, 3, 4]"
      ]
     },
     "execution_count": 88,
     "metadata": {},
     "output_type": "execute_result"
    }
   ],
   "source": [
    "grades = {'Michael': [1,2,3,4], \n",
    "          'Bob': 75, \n",
    "          'Tracy': 85}\n"
   ]
  },
  {
   "cell_type": "markdown",
   "metadata": {},
   "source": [
    "#### .values()"
   ]
  },
  {
   "cell_type": "code",
   "execution_count": 69,
   "metadata": {
    "collapsed": true,
    "jupyter": {
     "outputs_hidden": true
    }
   },
   "outputs": [
    {
     "data": {
      "text/plain": [
       "dict_values([95, 75, 85])"
      ]
     },
     "execution_count": 69,
     "metadata": {},
     "output_type": "execute_result"
    }
   ],
   "source": [
    "grades.values()"
   ]
  },
  {
   "cell_type": "markdown",
   "metadata": {},
   "source": [
    "#### .items()"
   ]
  },
  {
   "cell_type": "code",
   "execution_count": 70,
   "metadata": {
    "collapsed": true,
    "jupyter": {
     "outputs_hidden": true
    }
   },
   "outputs": [
    {
     "data": {
      "text/plain": [
       "dict_items([('Michael', 95), ('Bob', 75), ('Tracy', 85)])"
      ]
     },
     "execution_count": 70,
     "metadata": {},
     "output_type": "execute_result"
    }
   ],
   "source": [
    "grades.items()"
   ]
  },
  {
   "cell_type": "code",
   "execution_count": 19,
   "metadata": {
    "collapsed": true,
    "jupyter": {
     "outputs_hidden": true
    }
   },
   "outputs": [
    {
     "name": "stdout",
     "output_type": "stream",
     "text": [
      "Michael 95\n",
      "Bob 75\n",
      "Tracy 85\n",
      "David 100\n"
     ]
    }
   ],
   "source": [
    "#items\n",
    "items = grades.items()\n",
    "for name, grade in items:\n",
    "    print(name, grade)"
   ]
  },
  {
   "cell_type": "markdown",
   "metadata": {},
   "source": [
    "#### 查询"
   ]
  },
  {
   "cell_type": "code",
   "execution_count": null,
   "metadata": {},
   "outputs": [],
   "source": [
    "grades['Michael']"
   ]
  },
  {
   "cell_type": "markdown",
   "metadata": {},
   "source": [
    "## 7. 集合set\n",
    "要创建一个set，有两种方法:\n",
    "- 先建空集合\n",
    "- 或者将list转换为集合"
   ]
  },
  {
   "cell_type": "code",
   "execution_count": 20,
   "metadata": {
    "collapsed": true,
    "jupyter": {
     "outputs_hidden": true
    }
   },
   "outputs": [
    {
     "data": {
      "text/plain": [
       "{'a', 'b', 'c'}"
      ]
     },
     "execution_count": 20,
     "metadata": {},
     "output_type": "execute_result"
    }
   ],
   "source": [
    "empty2 = set(['c' ,'a', 'b', 'c', 'a'])\n",
    "empty2"
   ]
  },
  {
   "cell_type": "markdown",
   "metadata": {},
   "source": [
    "### .add()\n",
    "通过add()方法可以向集合中添加元素。\n",
    "\n",
    "注意：\n",
    "- 向集合中添加 ``已有的元素``， 集合不会发生变化。\n",
    "- 向集合中添加 ``新的元素``， 集合发生变化。"
   ]
  },
  {
   "cell_type": "code",
   "execution_count": 78,
   "metadata": {
    "collapsed": true,
    "jupyter": {
     "outputs_hidden": true
    }
   },
   "outputs": [
    {
     "data": {
      "text/plain": [
       "{2, 4, 5, 7, 9, 100}"
      ]
     },
     "execution_count": 78,
     "metadata": {},
     "output_type": "execute_result"
    }
   ],
   "source": [
    "numbers = set([5,4,7,9,2])\n",
    "numbers.add(100)\n",
    "numbers"
   ]
  },
  {
   "cell_type": "code",
   "execution_count": 79,
   "metadata": {
    "collapsed": true,
    "jupyter": {
     "outputs_hidden": true
    }
   },
   "outputs": [
    {
     "data": {
      "text/plain": [
       "{2, 4, 5, 7, 9, 100}"
      ]
     },
     "execution_count": 79,
     "metadata": {},
     "output_type": "execute_result"
    }
   ],
   "source": [
    "#向集合中添加已有的元素，集合没有变化\n",
    "numbers.add(5)\n",
    "numbers"
   ]
  },
  {
   "cell_type": "markdown",
   "metadata": {},
   "source": [
    "## 8. JSON字符串\n",
    "特殊的字符串，需要用到json库来处理，\n",
    "\n",
    "实现 ``json数据类型对象`` 与 ``python数据类型对象`` 之间的转化。\n",
    "\n",
    "- **json.dumps()**\t\n",
    "- **json.loads()**\t\n"
   ]
  },
  {
   "cell_type": "code",
   "execution_count": 6,
   "metadata": {},
   "outputs": [
    {
     "name": "stdout",
     "output_type": "stream",
     "text": [
      "<class 'list'>\n"
     ]
    },
    {
     "data": {
      "text/plain": [
       "[{'a': 1, 'b': 2, 'c': 3, 'd': 4, 'e': 5}]"
      ]
     },
     "execution_count": 6,
     "metadata": {},
     "output_type": "execute_result"
    }
   ],
   "source": [
    "import json\n",
    "\n",
    "data = [ { 'a' : 1, 'b' : 2, 'c' : 3, 'd' : 4, 'e' : 5 } ]\n",
    "print(type(data))\n",
    "data"
   ]
  },
  {
   "cell_type": "markdown",
   "metadata": {},
   "source": [
    "### json.dumps()\n",
    "将 Python 对象编码成 JSON 字符串"
   ]
  },
  {
   "cell_type": "code",
   "execution_count": 7,
   "metadata": {},
   "outputs": [
    {
     "name": "stdout",
     "output_type": "stream",
     "text": [
      "<class 'str'>\n"
     ]
    },
    {
     "data": {
      "text/plain": [
       "'[{\"a\": 1, \"b\": 2, \"c\": 3, \"d\": 4, \"e\": 5}]'"
      ]
     },
     "execution_count": 7,
     "metadata": {},
     "output_type": "execute_result"
    }
   ],
   "source": [
    "json_data = json.dumps(data)\n",
    "print(type(json_data))\n",
    "json_data"
   ]
  },
  {
   "cell_type": "markdown",
   "metadata": {},
   "source": [
    "### json.loads()\n",
    "json库可以帮我将像python对象的字符串数据转化为python对象"
   ]
  },
  {
   "cell_type": "code",
   "execution_count": 10,
   "metadata": {},
   "outputs": [
    {
     "name": "stdout",
     "output_type": "stream",
     "text": [
      "<class 'list'>\n"
     ]
    },
    {
     "data": {
      "text/plain": [
       "[{'a': 1, 'b': 2, 'c': 3, 'd': 4, 'e': 5}]"
      ]
     },
     "execution_count": 10,
     "metadata": {},
     "output_type": "execute_result"
    }
   ],
   "source": [
    "python_data = json.loads(json_data)\n",
    "print(type(python_data))\n",
    "python_data"
   ]
  }
 ],
 "metadata": {
  "kernelspec": {
   "display_name": "Python 3",
   "language": "python",
   "name": "python3"
  },
  "language_info": {
   "codemirror_mode": {
    "name": "ipython",
    "version": 3
   },
   "file_extension": ".py",
   "mimetype": "text/x-python",
   "name": "python",
   "nbconvert_exporter": "python",
   "pygments_lexer": "ipython3",
   "version": "3.7.2"
  },
  "toc": {
   "base_numbering": 1,
   "nav_menu": {},
   "number_sections": false,
   "sideBar": true,
   "skip_h1_title": false,
   "title_cell": "Table of Contents",
   "title_sidebar": "Contents",
   "toc_cell": true,
   "toc_position": {
    "height": "calc(100% - 180px)",
    "left": "10px",
    "top": "150px",
    "width": "384px"
   },
   "toc_section_display": true,
   "toc_window_display": true
  }
 },
 "nbformat": 4,
 "nbformat_minor": 4
}
