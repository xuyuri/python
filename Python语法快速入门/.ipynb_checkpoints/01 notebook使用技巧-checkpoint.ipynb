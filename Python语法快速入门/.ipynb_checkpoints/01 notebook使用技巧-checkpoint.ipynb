{
 "cells": [
  {
   "cell_type": "markdown",
   "metadata": {
    "slideshow": {
     "slide_type": "slide"
    }
   },
   "source": [
    "## notebook课件使用方法\n",
    "#### 1. 快捷键\n",
    "在jupyter notebook菜单栏有Help按钮，可以查看jupyter的快捷键\n",
    "\n",
    "|快捷键组合|功能|\n",
    "|---|---|\n",
    "|Esc+M|将cell的代码编辑模式变为markdown编辑模式|\n",
    "|Esc+A|在当前cell上面新建一个cell|\n",
    "|Esc+B|在当前cell下面新建一个cell|\n",
    "|D+D|删除当前cell|"
   ]
  },
  {
   "cell_type": "markdown",
   "metadata": {
    "slideshow": {
     "slide_type": "slide"
    }
   },
   "source": [
    "#### 2 问号？\n",
    "除了Help菜单能让我们快读查看numpy、pandas、scipy和matplotlib库，其实在cell中使用``?``可以查看库、函数、方法和变量的信息。"
   ]
  },
  {
   "cell_type": "code",
   "execution_count": 1,
   "metadata": {
    "slideshow": {
     "slide_type": "slide"
    }
   },
   "outputs": [],
   "source": [
    "#查看库的信息\n",
    "import os\n",
    "\n",
    "?os"
   ]
  },
  {
   "cell_type": "code",
   "execution_count": 2,
   "metadata": {},
   "outputs": [],
   "source": [
    "help(os)"
   ]
  },
  {
   "cell_type": "markdown",
   "metadata": {
    "slideshow": {
     "slide_type": "slide"
    }
   },
   "source": [
    "![](img/01-os.png)"
   ]
  },
  {
   "cell_type": "code",
   "execution_count": 4,
   "metadata": {
    "slideshow": {
     "slide_type": "slide"
    }
   },
   "outputs": [],
   "source": [
    "#查看函数信息\n",
    "?print"
   ]
  },
  {
   "cell_type": "markdown",
   "metadata": {},
   "source": [
    "![](img/02-print.png)"
   ]
  },
  {
   "cell_type": "code",
   "execution_count": 2,
   "metadata": {
    "slideshow": {
     "slide_type": "slide"
    }
   },
   "outputs": [],
   "source": [
    "#查看变量信息\n",
    "a = [1,2,3,4]\n",
    "?a"
   ]
  },
  {
   "cell_type": "markdown",
   "metadata": {},
   "source": [
    "![](img/03-变量.png)"
   ]
  },
  {
   "cell_type": "markdown",
   "metadata": {
    "slideshow": {
     "slide_type": "slide"
    }
   },
   "source": [
    "#### 3.  在notebook中画图\n",
    "作图最常用的就是matplotlib，记得在cell中写上这句\n",
    "\n",
    "```python\n",
    "%matplotlib inline\n",
    "```"
   ]
  },
  {
   "cell_type": "code",
   "execution_count": 1,
   "metadata": {
    "slideshow": {
     "slide_type": "slide"
    }
   },
   "outputs": [
    {
     "data": {
      "text/plain": [
       "<matplotlib.axes._subplots.AxesSubplot at 0x1177197b8>"
      ]
     },
     "execution_count": 1,
     "metadata": {},
     "output_type": "execute_result"
    },
    {
     "data": {
      "image/png": "[encoded data removed]",
      "text/plain": [
       "<Figure size 432x288 with 1 Axes>"
      ]
     },
     "metadata": {},
     "output_type": "display_data"
    }
   ],
   "source": [
    "%matplotlib inline\n",
    "import pandas as pd\n",
    "\n",
    "series = pd.Series([1,3,5,6,2])\n",
    "series.plot(kind='pie')"
   ]
  },
  {
   "cell_type": "markdown",
   "metadata": {
    "slideshow": {
     "slide_type": "slide"
    }
   },
   "source": [
    "#### 4 执行shell命令\n",
    "命令行的命令前面加个``!``即可在notebook中进行。\n",
    "\n",
    "比如我们想要安装jieba库,需要打开终端输入\n",
    "\n",
    "```\n",
    "pip3 install jieba\n",
    "```\n",
    "\n",
    "现在，我们可以在notebook中输入下面命令安装jieba"
   ]
  },
  {
   "cell_type": "code",
   "execution_count": 5,
   "metadata": {
    "slideshow": {
     "slide_type": "slide"
    }
   },
   "outputs": [],
   "source": [
    "!pip3 install jieba"
   ]
  },
  {
   "cell_type": "markdown",
   "metadata": {
    "slideshow": {
     "slide_type": "slide"
    }
   },
   "source": [
    "#### 5. 做笔记 markdown\n",
    "\n",
    "|markdown语法|作用|\n",
    "|---|---|\n",
    "|#|有几个#就是几级标题|\n",
    "|**|两对**夹住的内容变为斜体|\n",
    "|-|无序列表|\n",
    "\n",
    "-------\n",
    "\n",
    "\n",
    "# 一级标题\n",
    "\n",
    "```\n",
    "# 一级标题\n",
    "```\n",
    "\n",
    "## 二级标题\n",
    "\n",
    "```\n",
    "## 二级标题\n",
    "```\n",
    "\n",
    "### 三级标题\n",
    "\n",
    "```\n",
    "### 三级标题\n",
    "```\n",
    "-----\n",
    "\n",
    "有序列表\n",
    "\n",
    "1. 元素1\n",
    "2. 元素2\n",
    "3. 元素3\n",
    "\n",
    "\n",
    "\n",
    "```\n",
    "有序列表\n",
    "\n",
    "1. 元素1\n",
    "2. 元素2\n",
    "3. 元素3\n",
    "```\n",
    "\n",
    "-----\n",
    "\n",
    "无序列表\n",
    "\n",
    "- 元素1\n",
    "- 元素2\n",
    "- 元素3\n",
    "\n",
    "\n",
    "\n",
    "```\n",
    "无序列表\n",
    "\n",
    "- 元素1\n",
    "- 元素2\n",
    "- 元素3\n",
    "```\n",
    "\n",
    "------\n",
    "\n",
    "|函数|作用|\n",
    "|---|---|\n",
    "|print()|打印|\n",
    "|help()|查看帮助文档|\n",
    "\n",
    "```\n",
    "|函数|作用|\n",
    "|---|---|\n",
    "|print()|打印|\n",
    "|help()|查看帮助文档|\n",
    "```"
   ]
  },
  {
   "cell_type": "markdown",
   "metadata": {},
   "source": [
    "#### 6 插入图片\n",
    "\n",
    "```\n",
    "![](图片路径)\n",
    "```\n",
    "\n",
    "![](img/python.jpeg)"
   ]
  },
  {
   "cell_type": "markdown",
   "metadata": {
    "slideshow": {
     "slide_type": "slide"
    }
   },
   "source": [
    "#### 7. 使用LaTex写公式\n",
    "\n",
    "当我们在markdown编辑模式下输入\n",
    "\n",
    "```\n",
    "$P(A|B)=\\frac{P(B|A)P(A)}{P(B)}$\n",
    "```\n",
    "\n",
    "会被MathJax渲染成\n",
    "\n",
    "$P(A|B)=\\frac{P(B|A)P(A)}{P(B)}$"
   ]
  },
  {
   "cell_type": "code",
   "execution_count": null,
   "metadata": {},
   "outputs": [],
   "source": []
  }
 ],
 "metadata": {
  "kernelspec": {
   "display_name": "Python 3",
   "language": "python",
   "name": "python3"
  },
  "language_info": {
   "codemirror_mode": {
    "name": "ipython",
    "version": 3
   },
   "file_extension": ".py",
   "mimetype": "text/x-python",
   "name": "python",
   "nbconvert_exporter": "python",
   "pygments_lexer": "ipython3",
   "version": "3.7.2"
  }
 },
 "nbformat": 4,
 "nbformat_minor": 2
}
