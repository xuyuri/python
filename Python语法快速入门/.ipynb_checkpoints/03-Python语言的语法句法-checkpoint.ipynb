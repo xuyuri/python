{
 "cells": [
  {
   "cell_type": "markdown",
   "metadata": {
    "toc": true
   },
   "source": [
    "<h1>Table of Contents<span class=\"tocSkip\"></span></h1>\n",
    "<div class=\"toc\"><ul class=\"toc-item\"><li><span><a href=\"#Python语言的语法句法\" data-toc-modified-id=\"Python语言的语法句法-1\">Python语言的语法句法</a></span></li><li><span><a href=\"#一、条件语句\" data-toc-modified-id=\"一、条件语句-2\">一、条件语句</a></span><ul class=\"toc-item\"><li><span><a href=\"#1.-简单的if\" data-toc-modified-id=\"1.-简单的if-2.1\">1. 简单的if</a></span></li><li><span><a href=\"#2.-if-else\" data-toc-modified-id=\"2.-if-else-2.2\">2. if-else</a></span></li><li><span><a href=\"#3.-if-elif-else\" data-toc-modified-id=\"3.-if-elif-else-2.3\">3. if-elif-else</a></span></li><li><span><a href=\"#4.--注意\" data-toc-modified-id=\"4.--注意-2.4\">4.  注意</a></span></li></ul></li><li><span><a href=\"#二、循环\" data-toc-modified-id=\"二、循环-3\">二、循环</a></span><ul class=\"toc-item\"><li><span><a href=\"#for循环语句\" data-toc-modified-id=\"for循环语句-3.1\">for循环语句</a></span><ul class=\"toc-item\"><li><span><a href=\"#1.迭代出来\" data-toc-modified-id=\"1.迭代出来-3.1.1\">1.迭代出来</a></span></li><li><span><a href=\"#2.-重复操作\" data-toc-modified-id=\"2.-重复操作-3.1.2\">2. 重复操作</a></span></li><li><span><a href=\"#3.字典的for循环\" data-toc-modified-id=\"3.字典的for循环-3.1.3\">3.字典的for循环</a></span></li></ul></li><li><span><a href=\"#while循环\" data-toc-modified-id=\"while循环-3.2\">while循环</a></span></li><li><span><a href=\"#细说迭代\" data-toc-modified-id=\"细说迭代-3.3\">细说迭代</a></span></li></ul></li><li><span><a href=\"#三、-让程序更强壮-（try-except）\" data-toc-modified-id=\"三、-让程序更强壮-（try-except）-4\">三、 让程序更强壮 （try-except）</a></span></li></ul></div>"
   ]
  },
  {
   "cell_type": "markdown",
   "metadata": {},
   "source": [
    "# Python语言的语法句法\n",
    "- 条件语句（if-else  if-elif-else）\n",
    "- 循环语句（for、while）\n",
    "- 异常处理语句try-except\n",
    "\n",
    "# 一、条件语句\n",
    "## 1. 简单的if\n",
    "\n",
    "```python\n",
    "if condition:\n",
    "    dosomething\n",
    "```\n",
    "\n",
    "``condition`` 为True时，执行 ``dosomething``\n",
    "\n",
    "输入用户年龄，根据年龄打印不同的内容"
   ]
  },
  {
   "cell_type": "code",
   "execution_count": 2,
   "metadata": {},
   "outputs": [],
   "source": [
    "age = 17\n",
    "if age >= 18:\n",
    "    print('your age is', age)\n",
    "    print('adult')"
   ]
  },
  {
   "cell_type": "markdown",
   "metadata": {},
   "source": [
    "## 2. if-else\n",
    "根据Python的缩进规则，如果if语句判断是True，就把缩进的两行print语句执行了，否则，什么也不做。\n",
    "\n",
    "也可以给if添加一个else语句，意思是，如果if判断是False，不要执行if的内容，去把else执行了："
   ]
  },
  {
   "cell_type": "code",
   "execution_count": 3,
   "metadata": {},
   "outputs": [
    {
     "name": "stdout",
     "output_type": "stream",
     "text": [
      "your age is 3\n",
      "teenager\n"
     ]
    }
   ],
   "source": [
    "age = 3\n",
    "if age >= 18:\n",
    "    print('your age is', age)\n",
    "    print('adult')\n",
    "else:\n",
    "    print('your age is', age)\n",
    "    print('teenager')"
   ]
  },
  {
   "cell_type": "markdown",
   "metadata": {},
   "source": [
    "**注意不要少写了冒号:**。\n",
    "\n",
    "## 3. if-elif-else\n",
    "当然上面的判断是很粗略的，完全可以用elif做更细致的判断："
   ]
  },
  {
   "cell_type": "code",
   "execution_count": 4,
   "metadata": {
    "collapsed": true
   },
   "outputs": [
    {
     "name": "stdout",
     "output_type": "stream",
     "text": [
      "your age is 20\n",
      "adult\n"
     ]
    }
   ],
   "source": [
    "age = 20\n",
    "\n",
    "if 0<=age <= 3:\n",
    "    print('your age is', age)\n",
    "    print('baby')\n",
    "elif 3<age<18:\n",
    "    print('your age is', age)\n",
    "    print('teenager')\n",
    "else:\n",
    "    print('your age is', age)\n",
    "    print('adult')"
   ]
  },
  {
   "cell_type": "markdown",
   "metadata": {},
   "source": [
    "## 4.  注意\n",
    "\n",
    "```python\n",
    "if condition:\n",
    "    dosomeding\n",
    "```\n",
    "\n",
    "注意：``None、[]、''、0``与False功效几乎完全等同！\n",
    "\n",
    "如果condition为``None、[]、''、0、False``，dosomething是不执行的！"
   ]
  },
  {
   "cell_type": "code",
   "execution_count": 8,
   "metadata": {
    "collapsed": true
   },
   "outputs": [
    {
     "name": "stdout",
     "output_type": "stream",
     "text": [
      "执行else语句的命令\n"
     ]
    }
   ],
   "source": [
    "if '':\n",
    "    print('执行if语句内的命令')\n",
    "else:\n",
    "    print('执行else语句的命令')"
   ]
  },
  {
   "cell_type": "code",
   "execution_count": 9,
   "metadata": {
    "collapsed": true
   },
   "outputs": [
    {
     "name": "stdout",
     "output_type": "stream",
     "text": [
      "执行if语句内的命令\n"
     ]
    }
   ],
   "source": [
    "if 'sss':\n",
    "    print('执行if语句内的命令')\n",
    "else:\n",
    "    print('执行else语句的命令')"
   ]
  },
  {
   "cell_type": "code",
   "execution_count": 10,
   "metadata": {
    "collapsed": true
   },
   "outputs": [
    {
     "name": "stdout",
     "output_type": "stream",
     "text": [
      "执行if语句的命令\n"
     ]
    }
   ],
   "source": [
    "if {'a':1}:\n",
    "    print(\"执行if语句的命令\")\n",
    "else:\n",
    "    print('执行else语句的命令')"
   ]
  },
  {
   "cell_type": "markdown",
   "metadata": {},
   "source": [
    "# 二、循环\n",
    "## for循环语句\n",
    "要计算1+2+3+4+。。。+10,我们可能逐个码入加总。但是假如要计算``[1,100]``，可能逐个码入变得不经济。这时候需要使用for循环\n",
    "\n",
    "常用的for循环有两种作用：\n",
    "\n",
    "- 迭代\n",
    "- 重复操作"
   ]
  },
  {
   "cell_type": "markdown",
   "metadata": {},
   "source": [
    "### 1.迭代出来\n",
    "依次把list或tuple中的每个元素迭代出来,没有多余的操作"
   ]
  },
  {
   "cell_type": "code",
   "execution_count": 11,
   "metadata": {
    "collapsed": true
   },
   "outputs": [
    {
     "name": "stdout",
     "output_type": "stream",
     "text": [
      "Michael\n",
      "Bob\n",
      "Tracy\n"
     ]
    }
   ],
   "source": [
    "#迭代功能\n",
    "names = ['Michael', 'Bob', 'Tracy']\n",
    "for name in names:\n",
    "    print(name)"
   ]
  },
  {
   "cell_type": "markdown",
   "metadata": {},
   "source": [
    "### 2. 重复操作\n",
    "将重复操作通过for循环减轻代码量"
   ]
  },
  {
   "cell_type": "code",
   "execution_count": 12,
   "metadata": {
    "collapsed": true
   },
   "outputs": [
    {
     "data": {
      "text/plain": [
       "5050"
      ]
     },
     "execution_count": 12,
     "metadata": {},
     "output_type": "execute_result"
    }
   ],
   "source": [
    "#进行一定目的或逻辑的for循环\n",
    "result = 0\n",
    "for i in range(1, 101):\n",
    "    result = result + i  \n",
    "result"
   ]
  },
  {
   "cell_type": "markdown",
   "metadata": {},
   "source": [
    "### 3.字典的for循环"
   ]
  },
  {
   "cell_type": "code",
   "execution_count": 18,
   "metadata": {
    "collapsed": true
   },
   "outputs": [
    {
     "name": "stdout",
     "output_type": "stream",
     "text": [
      "Michael 95\n",
      "Bob 75\n",
      "Tracy 85\n"
     ]
    }
   ],
   "source": [
    "grades = {'Michael': 95, \n",
    "          'Bob': 75, \n",
    "          'Tracy': 85}\n",
    "\n",
    "for name, grde in grades.items():\n",
    "    print(name, grde)"
   ]
  },
  {
   "cell_type": "markdown",
   "metadata": {},
   "source": [
    "##  while循环\n",
    "只要条件满足，就不断循环，条件不满足时退出循环"
   ]
  },
  {
   "cell_type": "code",
   "execution_count": 19,
   "metadata": {
    "collapsed": true
   },
   "outputs": [
    {
     "name": "stdout",
     "output_type": "stream",
     "text": [
      "1\n",
      "2\n",
      "3\n",
      "4\n",
      "5\n",
      "END\n"
     ]
    }
   ],
   "source": [
    "n = 1\n",
    "while n <= 5:\n",
    "    print(n)\n",
    "    n = n + 1\n",
    "print('END')"
   ]
  },
  {
   "cell_type": "markdown",
   "metadata": {},
   "source": [
    "## 细说迭代\n",
    "可以for循环的对象统称为  **可迭代对象：Iterable**。\n",
    "\n",
    "大概有以下两大类\n",
    "\n",
    "- 一类是集合数据类型，如list、tuple、dict、set、str等；\n",
    "\n",
    "- 另一类是generator（进阶知识，绝大多数场景用不到，除非为了提升运算效率）\n",
    "\n"
   ]
  },
  {
   "cell_type": "markdown",
   "metadata": {},
   "source": [
    "# 三、 让程序更强壮 （try-except）\n",
    "如果代码中遇到 **错误Error** ，那么程序会在 **错误** 所在的代码行停止。而错误后面的代码将无法执行。"
   ]
  },
  {
   "cell_type": "code",
   "execution_count": 28,
   "metadata": {
    "collapsed": true
   },
   "outputs": [
    {
     "name": "stdout",
     "output_type": "stream",
     "text": [
      "10 3 3.3333333333333335\n",
      "10 4 2.5\n",
      "10 5 2.0\n",
      "10 2 5.0\n"
     ]
    },
    {
     "ename": "ZeroDivisionError",
     "evalue": "division by zero",
     "output_type": "error",
     "traceback": [
      "\u001b[0;31m---------------------------------------------------------------------------\u001b[0m",
      "\u001b[0;31mZeroDivisionError\u001b[0m                         Traceback (most recent call last)",
      "\u001b[0;32m<ipython-input-28-7a76035dfc42>\u001b[0m in \u001b[0;36m<module>\u001b[0;34m\u001b[0m\n\u001b[1;32m      2\u001b[0m \u001b[0mnums\u001b[0m \u001b[0;34m=\u001b[0m \u001b[0;34m[\u001b[0m\u001b[0;36m3\u001b[0m\u001b[0;34m,\u001b[0m\u001b[0;36m4\u001b[0m\u001b[0;34m,\u001b[0m\u001b[0;36m5\u001b[0m\u001b[0;34m,\u001b[0m\u001b[0;36m2\u001b[0m\u001b[0;34m,\u001b[0m\u001b[0;36m0\u001b[0m\u001b[0;34m,\u001b[0m\u001b[0;36m1\u001b[0m\u001b[0;34m,\u001b[0m\u001b[0;36m7\u001b[0m\u001b[0;34m,\u001b[0m\u001b[0;36m8\u001b[0m\u001b[0;34m]\u001b[0m\u001b[0;34m\u001b[0m\u001b[0;34m\u001b[0m\u001b[0m\n\u001b[1;32m      3\u001b[0m \u001b[0;32mfor\u001b[0m \u001b[0mb\u001b[0m \u001b[0;32min\u001b[0m \u001b[0mnums\u001b[0m\u001b[0;34m:\u001b[0m\u001b[0;34m\u001b[0m\u001b[0;34m\u001b[0m\u001b[0m\n\u001b[0;32m----> 4\u001b[0;31m     \u001b[0mprint\u001b[0m\u001b[0;34m(\u001b[0m\u001b[0ma\u001b[0m\u001b[0;34m,\u001b[0m \u001b[0mb\u001b[0m\u001b[0;34m,\u001b[0m \u001b[0ma\u001b[0m\u001b[0;34m/\u001b[0m\u001b[0mb\u001b[0m\u001b[0;34m)\u001b[0m\u001b[0;34m\u001b[0m\u001b[0;34m\u001b[0m\u001b[0m\n\u001b[0m",
      "\u001b[0;31mZeroDivisionError\u001b[0m: division by zero"
     ]
    }
   ],
   "source": [
    "a = 10\n",
    "nums = [3,4,5,2,0,1,7,8]\n",
    "for b in nums:\n",
    "    print(a, b, a/b)\n"
   ]
  },
  {
   "cell_type": "code",
   "execution_count": null,
   "metadata": {},
   "outputs": [],
   "source": [
    "a = 10\n",
    "nums = [3,4,5,2,0,1,7,8]\n",
    "for b in nums:\n",
    "    try:\n",
    "        print(a, b, a/b)\n",
    "    except:\n",
    "        pass"
   ]
  },
  {
   "cell_type": "markdown",
   "metadata": {},
   "source": [
    "有时候我们想忽略这个错误，继续执行后面的代码。"
   ]
  }
 ],
 "metadata": {
  "kernelspec": {
   "display_name": "Python 3",
   "language": "python",
   "name": "python3"
  },
  "language_info": {
   "codemirror_mode": {
    "name": "ipython",
    "version": 3
   },
   "file_extension": ".py",
   "mimetype": "text/x-python",
   "name": "python",
   "nbconvert_exporter": "python",
   "pygments_lexer": "ipython3",
   "version": "3.7.2"
  },
  "toc": {
   "base_numbering": 1,
   "nav_menu": {},
   "number_sections": false,
   "sideBar": true,
   "skip_h1_title": false,
   "title_cell": "Table of Contents",
   "title_sidebar": "Contents",
   "toc_cell": true,
   "toc_position": {},
   "toc_section_display": true,
   "toc_window_display": true
  }
 },
 "nbformat": 4,
 "nbformat_minor": 2
}
