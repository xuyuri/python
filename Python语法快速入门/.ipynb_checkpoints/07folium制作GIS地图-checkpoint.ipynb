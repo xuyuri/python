{
 "cells": [
  {
   "cell_type": "markdown",
   "metadata": {},
   "source": [
    "## 7. folium绘制地图\n",
    "folium是一个基于leaflet.js的python地图库，可以通过folium来操纵数据，并将其可视化。\n",
    "\n",
    "官方文档  https://python-visualization.github.io/folium/\n",
    "\n",
    "### 安装"
   ]
  },
  {
   "cell_type": "code",
   "execution_count": 3,
   "metadata": {},
   "outputs": [],
   "source": [
    "!pip3 install folium"
   ]
  },
  {
   "cell_type": "markdown",
   "metadata": {},
   "source": [
    "### 最简单的地图\n",
    "这里我使用哈尔滨（45.7476198321, 126.6324558375）所在的经纬度信息，绘制出最简单的Map地图对象，直接调用该对象即可在notebook中显示。"
   ]
  },
  {
   "cell_type": "code",
   "execution_count": 12,
   "metadata": {},
   "outputs": [],
   "source": [
    "import folium\n",
    "\n",
    "#绘制哈尔滨地图图层\n",
    "m = folium.Map(location=[45.7476198321,126.6324558375])\n",
    "m"
   ]
  },
  {
   "cell_type": "markdown",
   "metadata": {},
   "source": [
    "![](img/01.png)"
   ]
  },
  {
   "cell_type": "markdown",
   "metadata": {},
   "source": [
    "### 保存地图到html\n",
    "为了将地图保存到html文件中，可以使用如下命令"
   ]
  },
  {
   "cell_type": "code",
   "execution_count": 5,
   "metadata": {},
   "outputs": [],
   "source": [
    "m.save('data/Harbin.html')"
   ]
  },
  {
   "cell_type": "markdown",
   "metadata": {},
   "source": [
    "### 地图纹理样式 tiles\n",
    "tiles默认是设置成 ``OpenStreetMap``，但folium也内置了 ``Stamen Terrain, Stamen Toner, Mapbox Bright, and Mapbox Control Room``。具体大家可以试试不同的tiles的显示效果"
   ]
  },
  {
   "cell_type": "code",
   "execution_count": 11,
   "metadata": {},
   "outputs": [],
   "source": [
    "import folium\n",
    "\n",
    "m = folium.Map(location=[45.747,126.632],\n",
    "               tiles='Stamen Toner',  \n",
    "               zoom_start=12) #地图缩放程度\n",
    "m"
   ]
  },
  {
   "cell_type": "markdown",
   "metadata": {},
   "source": [
    "![](img/03.png)"
   ]
  },
  {
   "cell_type": "code",
   "execution_count": 21,
   "metadata": {},
   "outputs": [],
   "source": [
    "import folium\n",
    "\n",
    "m = folium.Map(location=[45.747,126.632],\n",
    "               tiles='Stamen Terrain',  \n",
    "               zoom_start=12) #地图缩放程度\n",
    "m"
   ]
  },
  {
   "cell_type": "markdown",
   "metadata": {},
   "source": [
    "![](img/04.png)"
   ]
  },
  {
   "cell_type": "markdown",
   "metadata": {},
   "source": [
    "### 地图标注\n",
    "在folium中有很多标记类型，而且拥有popup和tooltip 的 HTML，这块我翻译的也不太到位，大家直接看代码和运行结果吧"
   ]
  },
  {
   "cell_type": "code",
   "execution_count": 26,
   "metadata": {},
   "outputs": [
    {
     "data": {
      "text/plain": [
       "<folium.map.Marker at 0x117045400>"
      ]
     },
     "execution_count": 26,
     "metadata": {},
     "output_type": "execute_result"
    }
   ],
   "source": [
    "import folium\n",
    "\n",
    "m = folium.Map(location=[45.747,126.632],\n",
    "               tiles='Stamen Terrain',  \n",
    "               zoom_start=12) #地图缩放程度\n",
    "\n",
    "tooltip = '请点击我查看该点信息'\n",
    "folium.Marker([45.7476198321,126.6324558375], \n",
    "             popup='<i>哈工大</i>', \n",
    "             tooltip=tooltip).add_to(m)\n",
    "folium.Marker([45.7757912763,126.6821874003], \n",
    "             popup='<b>哈工程</b>', \n",
    "             tooltip=tooltip).add_to(m)\n",
    "m"
   ]
  },
  {
   "cell_type": "markdown",
   "metadata": {},
   "source": [
    "![](img/05.gif)"
   ]
  },
  {
   "cell_type": "markdown",
   "metadata": {},
   "source": [
    "### 标记的样式\n",
    "标记marker的icon可以设置不同的风格，如下面的颜色不同的三种标记"
   ]
  },
  {
   "cell_type": "code",
   "execution_count": 29,
   "metadata": {},
   "outputs": [
    {
     "data": {
      "text/plain": [
       "<folium.map.Marker at 0x1170735f8>"
      ]
     },
     "execution_count": 29,
     "metadata": {},
     "output_type": "execute_result"
    }
   ],
   "source": [
    "import folium\n",
    "\n",
    "#哈尔滨地图图层\n",
    "m = folium.Map(location=[45.747,126.632],\n",
    "               tiles='Stamen Terrain',  \n",
    "               zoom_start=12) #地图缩放程度\n",
    "\n",
    "tooltip = '请点击我查看该点信息'\n",
    "#在哈尔滨地图图层中添加标记\n",
    "folium.Marker([45.7476198321,126.6324558375], \n",
    "             popup='<i>哈工大</i>', \n",
    "             tooltip=tooltip,\n",
    "             icon=folium.Icon(color='red')).add_to(m)\n",
    "\n",
    "folium.Marker([45.7757912763,126.6821874003], \n",
    "             popup='<b>哈工程</b>', \n",
    "             tooltip=tooltip,\n",
    "             icon=folium.Icon(color='blue')).add_to(m)\n",
    "\n",
    "folium.Marker([45.7207185264,126.6381461963], \n",
    "             popup='<b>东北林业大学</b>', \n",
    "             tooltip=tooltip,\n",
    "             icon=folium.Icon(color='green')).add_to(m)\n",
    "m"
   ]
  },
  {
   "cell_type": "markdown",
   "metadata": {},
   "source": [
    "![](img/06.gif)"
   ]
  },
  {
   "cell_type": "markdown",
   "metadata": {},
   "source": [
    "### 地图中画圈\n",
    "有时候我们需要标记某个点的周围，如使用圆形或者圆点。"
   ]
  },
  {
   "cell_type": "code",
   "execution_count": 13,
   "metadata": {},
   "outputs": [
    {
     "data": {
      "text/html": [
       "<div style=\"width:100%;\"><div style=\"position:relative;width:100%;height:0;padding-bottom:60%;\"><iframe src=\"data:text/html;charset=utf-8;base64,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\" style=\"position:absolute;width:100%;height:100%;left:0;top:0;border:none !important;\" allowfullscreen webkitallowfullscreen mozallowfullscreen></iframe></div></div>"
      ],
      "text/plain": [
       "<folium.folium.Map at 0x117c479e8>"
      ]
     },
     "execution_count": 13,
     "metadata": {},
     "output_type": "execute_result"
    }
   ],
   "source": [
    "import folium\n",
    "\n",
    "#哈尔滨地图图层\n",
    "m = folium.Map(location=[45.747,126.632],\n",
    "               tiles='Stamen Toner',  \n",
    "               zoom_start=13) #地图缩放程度\n",
    "\n",
    "\n",
    "#在哈尔滨地图图层中添加标记\n",
    "folium.Circle(\n",
    "    location = [45.7207185264,126.6381461963], \n",
    "    radius=100,\n",
    "    popup='东北林业大学',\n",
    "    color='blue',\n",
    "    fill=False\n",
    ").add_to(m)\n",
    "\n",
    "folium.CircleMarker(\n",
    "    location = [45.7476198321,126.6324558375],\n",
    "    radius=100,\n",
    "    popup='哈工大',\n",
    "    color='#3186cc',\n",
    "    fill=True,\n",
    "    fill_color='#3186cc'\n",
    ").add_to(m)\n",
    "\n",
    "m"
   ]
  },
  {
   "cell_type": "markdown",
   "metadata": {},
   "source": [
    "folium其实还有更多的精致的地图可视化效果，但是代码比较复杂，现在只是为了让大家知道python很好玩，也很强大。课后大家如果对folium感兴趣，可以阅读官方文档。\n",
    "\n",
    "``\n",
    "https://python-visualization.github.io/folium/index.html\n",
    "``"
   ]
  },
  {
   "cell_type": "code",
   "execution_count": null,
   "metadata": {},
   "outputs": [],
   "source": []
  }
 ],
 "metadata": {
  "kernelspec": {
   "display_name": "Python 3",
   "language": "python",
   "name": "python3"
  },
  "language_info": {
   "codemirror_mode": {
    "name": "ipython",
    "version": 3
   },
   "file_extension": ".py",
   "mimetype": "text/x-python",
   "name": "python",
   "nbconvert_exporter": "python",
   "pygments_lexer": "ipython3",
   "version": "3.7.2"
  }
 },
 "nbformat": 4,
 "nbformat_minor": 2
}
