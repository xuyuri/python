{
 "cells": [
  {
   "cell_type": "markdown",
   "metadata": {},
   "source": [
    "## 4. 读写操作-open()函数\n",
    "可以读csv、txt、html等文件\n",
    "\n",
    "### 4.1读取操作\n",
    "``open(file)``\n",
    "\n",
    "- file:代表文件或者文件路径  "
   ]
  },
  {
   "cell_type": "code",
   "execution_count": 1,
   "metadata": {
    "scrolled": true
   },
   "outputs": [],
   "source": [
    "#mac\n",
    "#open('data/用python做文本分析.txt')\n",
    "\n",
    "#win\n",
    "#open('data\\\\用python做文本分析.txt') "
   ]
  },
  {
   "cell_type": "code",
   "execution_count": 2,
   "metadata": {},
   "outputs": [],
   "source": [
    "#mac\n",
    "#open('data/用python做文本分析.txt').read()\n",
    "\n",
    "#win\n",
    "#open('data\\\\用python做文本分析.txt').read()"
   ]
  },
  {
   "cell_type": "code",
   "execution_count": 5,
   "metadata": {},
   "outputs": [
    {
     "data": {
      "text/plain": [
       "'章节设计\\n\\n第一部分  环境配置\\n第二部分  快速入门python\\n第三部分  网络爬虫\\n第四部分  简单的文本分析\\n第五部分  进阶文本分析'"
      ]
     },
     "execution_count": 5,
     "metadata": {},
     "output_type": "execute_result"
    }
   ],
   "source": [
    "open('test.txt').read()"
   ]
  },
  {
   "cell_type": "markdown",
   "metadata": {},
   "source": [
    "**注意： win/mac路径的写法是不同的**\n",
    "\n",
    "- win： ``\\``\n",
    "- mac :``/``"
   ]
  },
  {
   "cell_type": "markdown",
   "metadata": {},
   "source": [
    "win下的路径会有字符串转义问题，所以需要对``\\``本身进行转义。 ``\\\\``\n",
    "\n",
    "```python\n",
    "open('\\\\Users\\\\suosuo\\\\Desktop\\\\用python做文本分析\\\\用python做文本分析（课件）\\\\02-快速入门Python语法\\\\data\\\\用python做文本分析.txt').read()\n",
    "```\n",
    "\n",
    "win路径 的上面的写法太繁琐了。实际我们可以使用 ``r'字符串'``\n",
    "\n",
    "```\n",
    "open(r'\\Users\\suosuo\\Desktop\\用python做文本分析\\用python做文本分析（课件）\\02-快速入门Python语法\\data\\用python做文本分析.txt').read()\n",
    "```"
   ]
  },
  {
   "cell_type": "markdown",
   "metadata": {},
   "source": [
    "### 4.2 写入操作（新建一个文件）\n",
    "open(file, mode) \n",
    "\n",
    "- mode:a+(append)/w(write)\n",
    "- ``a+`` 追加\n",
    "- ``w``  写"
   ]
  },
  {
   "cell_type": "markdown",
   "metadata": {},
   "source": [
    "**追加保存-open(file, 'a+')**\n",
    "\n",
    "mode = a追加\n",
    "\n",
    "如果没有这个文件，就新建\n",
    "\n",
    "如果有这个文件，就不停的往里面追加\n",
    "\n",
    "**注意：从后面开始代码的路径都是win的写法**"
   ]
  },
  {
   "cell_type": "code",
   "execution_count": 3,
   "metadata": {},
   "outputs": [],
   "source": [
    "f = open('data\\\\test.txt', 'a+')\n",
    "f.write('这是a+模式下的写入操作\\n')\n",
    "f.close()"
   ]
  },
  {
   "cell_type": "code",
   "execution_count": 5,
   "metadata": {},
   "outputs": [],
   "source": [
    "f = open('data\\\\test.txt', 'a+')\n",
    "f.write('a+第二次写入\\n')\n",
    "f.close()"
   ]
  },
  {
   "cell_type": "markdown",
   "metadata": {},
   "source": [
    "**覆盖写入w**"
   ]
  },
  {
   "cell_type": "code",
   "execution_count": 6,
   "metadata": {},
   "outputs": [],
   "source": [
    "wf = open('data\\\\w覆盖写入.txt', 'w')\n",
    "wf.write('w覆盖写第一次')\n",
    "wf.close()"
   ]
  },
  {
   "cell_type": "code",
   "execution_count": 8,
   "metadata": {},
   "outputs": [],
   "source": [
    "wf = open('data/w覆盖写入.txt', 'w')\n",
    "wf.write('w覆盖写第二次')\n",
    "wf.close()"
   ]
  }
 ],
 "metadata": {
  "kernelspec": {
   "display_name": "Python 3",
   "language": "python",
   "name": "python3"
  },
  "language_info": {
   "codemirror_mode": {
    "name": "ipython",
    "version": 3
   },
   "file_extension": ".py",
   "mimetype": "text/x-python",
   "name": "python",
   "nbconvert_exporter": "python",
   "pygments_lexer": "ipython3",
   "version": "3.7.4"
  }
 },
 "nbformat": 4,
 "nbformat_minor": 2
}
