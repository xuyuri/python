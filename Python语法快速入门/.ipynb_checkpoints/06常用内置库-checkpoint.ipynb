{
 "cells": [
  {
   "cell_type": "markdown",
   "metadata": {},
   "source": [
    "## 5. 常用内置库"
   ]
  },
  {
   "cell_type": "markdown",
   "metadata": {},
   "source": [
    "python的库有两种：\n",
    "- 内置库，如os、time、csv、re等\n",
    "- 第三方库，需要先安装才能使用。如jieba、pandas、scikit-learn"
   ]
  },
  {
   "cell_type": "markdown",
   "metadata": {},
   "source": [
    "**第三方库的安装方法**\n",
    "\n",
    "\n",
    "```\n",
    "!pip install 库的名字\n",
    "```\n",
    "\n",
    "或\n",
    "\n",
    "```\n",
    "!pip3 install 库的名字\n",
    "```\n",
    "\n",
    "**解释**\n",
    "\n",
    "苹果电脑中自带着python2.x，所以使用pip对应的是python2，而pip3对应的是python3。\n",
    "\n",
    "在windows电脑中，原始电脑中没有安装python，所以安装python3的用户可以直接使用pip来安装包。"
   ]
  },
  {
   "cell_type": "markdown",
   "metadata": {},
   "source": [
    "**导入库语法**\n",
    "\n",
    "语法1\n",
    "\n",
    "```python\n",
    "import packagename\n",
    "```\n",
    "\n",
    "语法2\n",
    "\n",
    "```python\n",
    "from packagename import somemethod\n",
    "```\n",
    "\n",
    "语法3\n",
    "\n",
    "```python\n",
    "#取别名\n",
    "from packagename import somemethod as smd\n",
    "```\n",
    "\n"
   ]
  },
  {
   "cell_type": "markdown",
   "metadata": {},
   "source": [
    "### 5.1 csv\n",
    "将数据保存到csv中，最常用的库是csv库。常用的写法有以下几种"
   ]
  },
  {
   "cell_type": "code",
   "execution_count": 1,
   "metadata": {},
   "outputs": [],
   "source": [
    "#给csv文件写入一行数据\n",
    "import csv\n",
    "\n",
    "csvf = open('data/csv测试.csv', 'a+', encoding='utf-8', newline='')\n",
    "writer = csv.writer(csvf)\n",
    "\n",
    "line1 = ('张三', '25')\n",
    "writer.writerow(line1)\n",
    "\n",
    "csvf.close()"
   ]
  },
  {
   "cell_type": "code",
   "execution_count": 2,
   "metadata": {},
   "outputs": [],
   "source": [
    "#给csv文件写入多行数据\n",
    "import csv\n",
    "\n",
    "csvf = open('data/csv测试.csv', 'a+', encoding='utf-8')\n",
    "writer = csv.writer(csvf)\n",
    "\n",
    "line1 = ('张三', '25')\n",
    "writer.writerow(line1)\n",
    "line2 = ('李四', '26')\n",
    "writer.writerow(line2)\n",
    "line3 = ('王五', '27')\n",
    "writer.writerow(line3)\n",
    "\n",
    "csvf.close()"
   ]
  },
  {
   "cell_type": "code",
   "execution_count": 8,
   "metadata": {},
   "outputs": [],
   "source": [
    "# for循环去做重复的写入操作\n",
    "import csv\n",
    "\n",
    "csvf = open('data/for循环写入csv文件.csv', 'a+', encoding='utf-8', newline='')\n",
    "writer = csv.writer(csvf)\n",
    "writer.writerow(('name', 'age'))  #给csv文件写抬头（变量名）\n",
    "\n",
    "nameages = [('张三', '25'), ('李四', '26'), ('王五', '27')]\n",
    "\n",
    "for nameage in nameages:\n",
    "    writer.writerow(nameage)\n",
    "    \n",
    "csvf.close()"
   ]
  },
  {
   "cell_type": "markdown",
   "metadata": {},
   "source": [
    "### 5.2 os\n",
    "os 模块提供了非常丰富的方法用来处理文件（夹）和路径。\n",
    "\n",
    "|常用方法|功能|\n",
    "|---|---|\n",
    "|os.getcwd()|返回当前工作路径（获取当前运行脚本所在的路径）|\n",
    "|os.listdir(path)|获取某个path下的所有文件名|\n",
    "|os.mkdir(path)|基于path创建一个文件夹|"
   ]
  },
  {
   "cell_type": "code",
   "execution_count": 3,
   "metadata": {},
   "outputs": [
    {
     "data": {
      "text/plain": [
       "'/Users/thunderhit/Desktop/十一工作坊/notes/01-Python基础'"
      ]
     },
     "execution_count": 3,
     "metadata": {},
     "output_type": "execute_result"
    }
   ],
   "source": [
    "import os\n",
    "#currentworkdirectory\n",
    "os.getcwd()"
   ]
  },
  {
   "cell_type": "code",
   "execution_count": 4,
   "metadata": {},
   "outputs": [
    {
     "data": {
      "text/plain": [
       "['.DS_Store', '用python做文本分析.txt', 'csv测试.csv']"
      ]
     },
     "execution_count": 4,
     "metadata": {},
     "output_type": "execute_result"
    }
   ],
   "source": [
    "os.listdir('data')"
   ]
  },
  {
   "cell_type": "code",
   "execution_count": 5,
   "metadata": {},
   "outputs": [],
   "source": [
    "#在test文件夹中  新建名字为MKDIR的文件夹\n",
    "os.mkdir('data/MKDIR')"
   ]
  },
  {
   "cell_type": "markdown",
   "metadata": {},
   "source": [
    "**MAC路径样式(/)**\n",
    "\n",
    "'C:/Users/hunderhit/Desktop/02-base/MKDIR'\n",
    "\n",
    "**WINDOWS路径样式(``\\\\``)**\n",
    "- 'C:\\\\Users\\\\thunderhit\\\\Desktop\\\\02-base'\n",
    "- r'C:\\\\Users\\\\thunderhit\\\\Desktop\\\\02-base'"
   ]
  },
  {
   "cell_type": "markdown",
   "metadata": {},
   "source": [
    "### 5.3 time\n",
    "time提供了时间操作，常用的方法有获取时间戳和等待（睡眠）。\n",
    "\n",
    "|常用方法|功能|\n",
    "|---|---|\n",
    "|time.time()|获取当前时间戳|\n",
    "|time.sleep(delay)|程序在该代码行等待（睡眠）delay秒|"
   ]
  },
  {
   "cell_type": "code",
   "execution_count": 14,
   "metadata": {},
   "outputs": [
    {
     "data": {
      "text/plain": [
       "1563334354.409339"
      ]
     },
     "execution_count": 14,
     "metadata": {},
     "output_type": "execute_result"
    }
   ],
   "source": [
    "import time\n",
    "\n",
    "time.time()"
   ]
  },
  {
   "cell_type": "code",
   "execution_count": 15,
   "metadata": {},
   "outputs": [
    {
     "name": "stdout",
     "output_type": "stream",
     "text": [
      "0\n",
      "1\n",
      "2\n",
      "3\n",
      "4\n",
      "5\n",
      "6\n",
      "7\n",
      "8\n",
      "9\n"
     ]
    }
   ],
   "source": [
    "for i in range(10):\n",
    "    print(i)"
   ]
  },
  {
   "cell_type": "code",
   "execution_count": 16,
   "metadata": {},
   "outputs": [
    {
     "name": "stdout",
     "output_type": "stream",
     "text": [
      "0\n",
      "1\n",
      "2\n",
      "3\n",
      "4\n",
      "5\n",
      "6\n",
      "7\n",
      "8\n",
      "9\n"
     ]
    }
   ],
   "source": [
    "#控制节奏\n",
    "import time\n",
    "for i in range(10):\n",
    "    print(i)\n",
    "    time.sleep(1)"
   ]
  },
  {
   "cell_type": "markdown",
   "metadata": {},
   "source": [
    "### 5.4 re库-正则表达式\n",
    "\n",
    "#### 部分正则符号\n",
    "\n",
    "|正则符号|描述|\n",
    "|---|---|\n",
    "|``( )``|标记一个子表达式的开始和结束位置。|\n",
    "|.|\t匹配除换行符 ``\\n`` 之外的任何单字符。要匹配 ``. ``，请使用 ``\\. ``。|\n",
    "|\\*|\t匹配前面的子表达式零次或多次。要匹配 \\* 字符，请使用 ``\\*``。|\n",
    "|?|\t匹配前面的子表达式零次或一次，或指明一个非贪婪限定符。要匹配 \\? 字符，请使用 \\\\?。|\n",
    "|+|匹配前面的子表达式一次或多次。要匹配 ``+ ``字符，请使用 ``\\+``。|\n",
    "|``[``|\t标记一个中括号表达式的开始。|\n",
    "|``\\``|\t转义字符。例如， 'n' 匹配字符 'n'。``'\\n'`` 匹配换行符。|\n",
    "|\\d|匹配字符串中的单个数字|\n",
    "|a-zA-Z|匹配全部英文字符|\n",
    "|0-9|匹配全部数字|\n",
    "|``\\s``|匹配字符串中的``\\n``,``\\t``,``空格``|"
   ]
  },
  {
   "cell_type": "markdown",
   "metadata": {},
   "source": [
    "**正则符号**组成**正则表达式**，用于**匹配**需要的字符。\n",
    "\n",
    "#### re库常用方法\n",
    "\n",
    "|re库常用函数|作用|\n",
    "|---|---|\n",
    "|``re.findall(pattern, string)``|根据pattern返回匹配结果（列表）|\n",
    "|``re.split(pattern, string)`` |使用pattern分割string，返回列表        \n",
    "|``re.sub(pattern, repl, string)``|使用repl替换string中的pattern|\n",
    "\n",
    "### re.findall(pattern, text)\n",
    "在text中查找满足pattern条件的文本，返回列表\n",
    "\n",
    "- pattern:用正则表达式设计的匹配规则\n",
    "- text：文本数据"
   ]
  },
  {
   "cell_type": "code",
   "execution_count": 7,
   "metadata": {},
   "outputs": [
    {
     "data": {
      "text/plain": [
       "[('张三', '25')]"
      ]
     },
     "execution_count": 7,
     "metadata": {},
     "output_type": "execute_result"
    }
   ],
   "source": [
    "import re\n",
    "\n",
    "description = '我叫张三,今年25岁'\n",
    "\n",
    "pattern = '我叫(.*?),今年(\\d+)岁'\n",
    "name_age = re.findall(pattern, description)\n",
    "name_age"
   ]
  },
  {
   "cell_type": "code",
   "execution_count": 8,
   "metadata": {},
   "outputs": [
    {
     "data": {
      "text/plain": [
       "['Good', 'Moring']"
      ]
     },
     "execution_count": 8,
     "metadata": {},
     "output_type": "execute_result"
    }
   ],
   "source": [
    "string = 'Good Moring，张三！'\n",
    "\n",
    "#english = re.findall('[a-zA-Z]+', string)\n",
    "english = re.findall('[a-zA-Z]+', string)\n",
    "english"
   ]
  },
  {
   "cell_type": "code",
   "execution_count": 1,
   "metadata": {},
   "outputs": [
    {
     "data": {
      "text/plain": [
       "[' 天文学家叶文洁在期间历经劫难，被带到军方绝秘计划“红岸工程”。\\n             ',\n",
       " ' 人类组建起同样庞大的太空舰队，同时（PDC）利用三体人思维透明的致命缺陷，制订了“面壁计划”。\\n             ',\n",
       " ' 只有程心和艾AA两个幸存者乘坐光速飞船离开。她们在冥王星带走人类文明的精华。']"
      ]
     },
     "execution_count": 1,
     "metadata": {},
     "output_type": "execute_result"
    }
   ],
   "source": [
    "import re\n",
    "#re.split()\n",
    "string3 = \"\"\"第一部 天文学家叶文洁在期间历经劫难，被带到军方绝秘计划“红岸工程”。\n",
    "             第二部 人类组建起同样庞大的太空舰队，同时（PDC）利用三体人思维透明的致命缺陷，制订了“面壁计划”。\n",
    "             第三部 只有程心和艾AA两个幸存者乘坐光速飞船离开。她们在冥王星带走人类文明的精华。\"\"\"\n",
    "\n",
    "\n",
    "titles = re.split('第[一二三]部', string3)\n",
    "\n",
    "[ t for t in titles if t!='']"
   ]
  },
  {
   "cell_type": "markdown",
   "metadata": {},
   "source": [
    "### re.split(pattern, text)\n",
    "用pattern分割text，返回列表\n",
    "\n",
    "- pattern:用正则表达式设计的匹配规则\n",
    "- text：待分割的文本数据"
   ]
  },
  {
   "cell_type": "code",
   "execution_count": 2,
   "metadata": {
    "scrolled": true
   },
   "outputs": [
    {
     "data": {
      "text/plain": [
       "[' 天文学家叶文洁在期间历经劫难，被带到军方绝秘计划“红岸工程”。\\n             ',\n",
       " ' 人类组建起同样庞大的太空舰队，同时（PDC）利用三体人思维透明的致命缺陷，制订了“面壁计划”。\\n             ',\n",
       " ' 只有程心和艾AA两个幸存者乘坐光速飞船离开。她们在冥王星带走人类文明的精华。']"
      ]
     },
     "execution_count": 2,
     "metadata": {},
     "output_type": "execute_result"
    }
   ],
   "source": [
    "import re\n",
    "\n",
    "string2 = \"\"\"第一部 天文学家叶文洁在期间历经劫难，被带到军方绝秘计划“红岸工程”。\n",
    "             第二部 人类组建起同样庞大的太空舰队，同时（PDC）利用三体人思维透明的致命缺陷，制订了“面壁计划”。\n",
    "             第三部 只有程心和艾AA两个幸存者乘坐光速飞船离开。她们在冥王星带走人类文明的精华。\"\"\"\n",
    "\n",
    "\n",
    "#\n",
    "parts = re.split('第[一二三]+部', string2)\n",
    "\n",
    "#剔除空数据\n",
    "parts = [part \n",
    "         for part in parts \n",
    "         if part]\n",
    "parts"
   ]
  },
  {
   "cell_type": "markdown",
   "metadata": {},
   "source": [
    "### re.sub(old, new, text)\n",
    "将text中的old替换为new，返回字符串"
   ]
  },
  {
   "cell_type": "code",
   "execution_count": null,
   "metadata": {},
   "outputs": [],
   "source": [
    "import re\n",
    "\n",
    "string4 = \"\"\"第一部 文化大革命如火如荼地进行  第二部 面对地球文明前所未有的危局。 第三部 在地球人类接近灭亡之际\"\"\"\n",
    "#文化大革命  替换为  革命\n",
    "titles = re.sub('文化大革命', '革命', string4)\n",
    "\n",
    "print(titles)"
   ]
  },
  {
   "cell_type": "markdown",
   "metadata": {},
   "source": [
    "## 6. 常见Python编程错误\n",
    "- 缩进\n",
    "- 中英文输入法\n",
    "- 常用库、函数名方法的拼写错误\n",
    "- 使用未命名的变量"
   ]
  },
  {
   "cell_type": "code",
   "execution_count": null,
   "metadata": {},
   "outputs": [],
   "source": []
  }
 ],
 "metadata": {
  "kernelspec": {
   "display_name": "Python 3",
   "language": "python",
   "name": "python3"
  },
  "language_info": {
   "codemirror_mode": {
    "name": "ipython",
    "version": 3
   },
   "file_extension": ".py",
   "mimetype": "text/x-python",
   "name": "python",
   "nbconvert_exporter": "python",
   "pygments_lexer": "ipython3",
   "version": "3.7.4"
  }
 },
 "nbformat": 4,
 "nbformat_minor": 2
}
