{
 "cells": [
  {
   "cell_type": "markdown",
   "metadata": {
    "toc": true
   },
   "source": [
    "<h1>Table of Contents<span class=\"tocSkip\"></span></h1>\n",
    "<div class=\"toc\"><ul class=\"toc-item\"><li><span><a href=\"#高级语法知识\" data-toc-modified-id=\"高级语法知识-1\">高级语法知识</a></span></li><li><span><a href=\"#一、切片-将想要的切下来\" data-toc-modified-id=\"一、切片-将想要的切下来-2\">一、切片-将想要的切下来</a></span><ul class=\"toc-item\"><li><span><a href=\"#1.-列表切片操作\" data-toc-modified-id=\"1.-列表切片操作-2.1\">1. 列表切片操作</a></span></li><li><span><a href=\"#2.-字符串切片\" data-toc-modified-id=\"2.-字符串切片-2.2\">2. 字符串切片</a></span></li><li><span><a href=\"#3.-切片总结\" data-toc-modified-id=\"3.-切片总结-2.3\">3. 切片总结</a></span></li></ul></li><li><span><a href=\"#二、-列表生成式\" data-toc-modified-id=\"二、-列表生成式-3\">二、 列表生成式</a></span><ul class=\"toc-item\"><li><span><a href=\"#1.-先对本身进行复制\" data-toc-modified-id=\"1.-先对本身进行复制-3.1\">1. 先对本身进行复制</a></span></li><li><span><a href=\"#2.-对内部元素操作\" data-toc-modified-id=\"2.-对内部元素操作-3.2\">2. 对内部元素操作</a></span></li><li><span><a href=\"#3.-加条件对元素操作\" data-toc-modified-id=\"3.-加条件对元素操作-3.3\">3. 加条件对元素操作</a></span></li><li><span><a href=\"#练习1\" data-toc-modified-id=\"练习1-3.4\">练习1</a></span></li><li><span><a href=\"#练习2\" data-toc-modified-id=\"练习2-3.5\">练习2</a></span></li></ul></li><li><span><a href=\"#三、-函数\" data-toc-modified-id=\"三、-函数-4\">三、 函数</a></span><ul class=\"toc-item\"><li><span><a href=\"#1.-def函数\" data-toc-modified-id=\"1.-def函数-4.1\">1. def函数</a></span></li><li><span><a href=\"#2.-lambda函数行\" data-toc-modified-id=\"2.-lambda函数行-4.2\">2. lambda函数行</a></span></li><li><span><a href=\"#3.-函数总结\" data-toc-modified-id=\"3.-函数总结-4.3\">3. 函数总结</a></span></li><li><span><a href=\"#4.--常用内置函数\" data-toc-modified-id=\"4.--常用内置函数-4.4\">4.  常用内置函数</a></span><ul class=\"toc-item\"><li><span><a href=\"#4.1-help()\" data-toc-modified-id=\"4.1-help()-4.4.1\">4.1 help()</a></span></li><li><span><a href=\"#4.2-range(start,-end,-step)\" data-toc-modified-id=\"4.2-range(start,-end,-step)-4.4.2\">4.2 range(start, end, step)</a></span></li><li><span><a href=\"#4.3-len()\" data-toc-modified-id=\"4.3-len()-4.4.3\">4.3 len()</a></span></li><li><span><a href=\"#4.4-max/min/mean\" data-toc-modified-id=\"4.4-max/min/mean-4.4.4\">4.4 max/min/mean</a></span></li><li><span><a href=\"#4.5-print()\" data-toc-modified-id=\"4.5-print()-4.4.5\">4.5 print()</a></span></li><li><span><a href=\"#4.6-enumerate()\" data-toc-modified-id=\"4.6-enumerate()-4.4.6\">4.6 enumerate()</a></span></li><li><span><a href=\"#4.7-sorted()\" data-toc-modified-id=\"4.7-sorted()-4.4.7\">4.7 sorted()</a></span></li><li><span><a href=\"#4.8-eval()\" data-toc-modified-id=\"4.8-eval()-4.4.8\">4.8 eval()</a></span></li></ul></li></ul></li></ul></div>"
   ]
  },
  {
   "cell_type": "markdown",
   "metadata": {},
   "source": [
    "# 高级语法知识\n",
    "\n",
    "- 切片\n",
    "- 列表生成式\n",
    "- 函数\n",
    "- 库"
   ]
  },
  {
   "cell_type": "markdown",
   "metadata": {},
   "source": [
    "# 一、切片-将想要的切下来\n",
    "![](img/切糕.jpeg)\n",
    "一般来说，像列表、字符串、元组 这样**有顺序的（像固体食物）**多于一个元素的数据类型都是可以切片的。\n",
    "\n",
    "可以形象的理解为，固体食物用刀子切割。\n",
    "\n",
    "集合和字典 没有顺序的，像流体食物，不能切片操作。"
   ]
  },
  {
   "cell_type": "markdown",
   "metadata": {},
   "source": []
  },
  {
   "cell_type": "markdown",
   "metadata": {},
   "source": [
    "## 1. 列表切片操作"
   ]
  },
  {
   "cell_type": "code",
   "execution_count": 1,
   "metadata": {
    "collapsed": true
   },
   "outputs": [
    {
     "name": "stdout",
     "output_type": "stream",
     "text": [
      "Michael\n"
     ]
    }
   ],
   "source": [
    "classmates = ['Michael', 'Bob', 'Tracy','Katy', 'Bei']\n",
    "\n",
    "#获取classmates中第一个同学\n",
    "classmates[0]"
   ]
  },
  {
   "cell_type": "code",
   "execution_count": 2,
   "metadata": {
    "collapsed": true
   },
   "outputs": [
    {
     "name": "stdout",
     "output_type": "stream",
     "text": [
      "Tracy\n"
     ]
    }
   ],
   "source": [
    "#获取classmates中最后一个同学\n",
    "classmates[-1]"
   ]
  },
  {
   "cell_type": "code",
   "execution_count": 11,
   "metadata": {
    "collapsed": true
   },
   "outputs": [
    {
     "name": "stdout",
     "output_type": "stream",
     "text": [
      "['Michael', 'Bob', 'Tracy', 'ssss']\n",
      "['Michael', 'Bob', 'Tracy', 'ssss']\n"
     ]
    }
   ],
   "source": [
    "#获取classmates中前两个同学\n",
    "classmates[:2]"
   ]
  },
  {
   "cell_type": "code",
   "execution_count": null,
   "metadata": {},
   "outputs": [],
   "source": [
    "#选取第2至第4个\n",
    "classmates[1:4]"
   ]
  },
  {
   "cell_type": "code",
   "execution_count": null,
   "metadata": {},
   "outputs": [],
   "source": [
    "#超出范围\n",
    "classmates[7]"
   ]
  },
  {
   "cell_type": "markdown",
   "metadata": {},
   "source": [
    "## 2. 字符串切片"
   ]
  },
  {
   "cell_type": "code",
   "execution_count": 17,
   "metadata": {},
   "outputs": [
    {
     "name": "stdout",
     "output_type": "stream",
     "text": [
      "张三\n"
     ]
    }
   ],
   "source": [
    "describption = '我叫张三，来自美国'\n",
    "#获取姓名\n",
    "print(describption[2:4])"
   ]
  },
  {
   "cell_type": "code",
   "execution_count": 18,
   "metadata": {},
   "outputs": [
    {
     "name": "stdout",
     "output_type": "stream",
     "text": [
      "美国\n"
     ]
    }
   ],
   "source": [
    "#获取国籍信息\n",
    "print(describption[7:9])"
   ]
  },
  {
   "cell_type": "code",
   "execution_count": 10,
   "metadata": {
    "collapsed": true
   },
   "outputs": [
    {
     "name": "stdout",
     "output_type": "stream",
     "text": [
      "美国\n"
     ]
    }
   ],
   "source": [
    "#另外一种表达方法\n",
    "print(describption[-2:])"
   ]
  },
  {
   "cell_type": "code",
   "execution_count": 12,
   "metadata": {
    "collapsed": true
   },
   "outputs": [
    {
     "data": {
      "text/plain": [
       "'简化'"
      ]
     },
     "execution_count": 12,
     "metadata": {},
     "output_type": "execute_result"
    }
   ],
   "source": [
    "aaa = '列表生成式可以简化代码语句'\n",
    "\n",
    "aaa[7:9]"
   ]
  },
  {
   "cell_type": "markdown",
   "metadata": {},
   "source": [
    "## 3. 切片总结\n",
    "- 使用 **方括号、起点、冒号、终点** 共同选取list、str、tuple中需要的部分\n",
    "- 正数 表示从 **左边第一个元素** 开始计算\n",
    "- 负数 表示从 **右边第一个元素** 开始计算\n",
    "- 左闭，右开（即取不到最右边的那个值）\n",
    "- ``[:]`` 全部选中\n",
    "- 索引值超出字符串长度范围，报错 ``IndexError: string index out of range``\n",
    "\n",
    "**注意**\n",
    "当索引超出了范围时，Python会报一个 **IndexError** 错误，所以，要确保索引不要越界，记得最后一个元素的索引是len(classmates) - 1"
   ]
  },
  {
   "cell_type": "markdown",
   "metadata": {},
   "source": [
    "# 二、 列表生成式\n",
    "列表生成式可以简化代码语句，使代码更具有可读性。\n",
    "\n",
    "## 1. 先对本身进行复制"
   ]
  },
  {
   "cell_type": "code",
   "execution_count": 9,
   "metadata": {},
   "outputs": [
    {
     "data": {
      "text/plain": [
       "True"
      ]
     },
     "execution_count": 9,
     "metadata": {},
     "output_type": "execute_result"
    }
   ],
   "source": [
    "numbers_a = [1, 2, 3, 4, 5, 6, 7, 8, 9, 10]\n",
    "\n",
    "#numbers_b的写法相当于是复制了numbers_a\n",
    "numbers_b = [num for num in numbers_a]\n",
    "numbers_a==numbers_b"
   ]
  },
  {
   "cell_type": "markdown",
   "metadata": {},
   "source": [
    "## 2. 对内部元素操作\n",
    "例如我们想生成1到10步长为1的序列，并对该序列中每个元素求平方，得到新的序列。"
   ]
  },
  {
   "cell_type": "code",
   "execution_count": null,
   "metadata": {},
   "outputs": [],
   "source": [
    "numbers = [1, 2, 3, 4, 5, 6, 7, 8, 9, 10]\n",
    "L = []\n",
    "\n",
    "for num in numbers:\n",
    "    L.append(num * num)\n",
    "L"
   ]
  },
  {
   "cell_type": "code",
   "execution_count": null,
   "metadata": {},
   "outputs": [],
   "source": [
    "[num*num for num in numbers]"
   ]
  },
  {
   "cell_type": "markdown",
   "metadata": {},
   "source": [
    "## 3. 加条件对元素操作"
   ]
  },
  {
   "cell_type": "code",
   "execution_count": 11,
   "metadata": {},
   "outputs": [],
   "source": [
    "[num*num for num in numbers if num%2==0]"
   ]
  },
  {
   "cell_type": "markdown",
   "metadata": {},
   "source": [
    "## 练习1\n",
    "\n",
    "```python\n",
    "d = {'x': 'A', \n",
    "     'y': 'B', \n",
    "     'z': 'C' }\n",
    "```\n",
    "\n",
    "如何将d中的  键值对  拼接,输出为\n",
    "\n",
    "```\n",
    "['xA', 'yB', 'zC]\n",
    "```"
   ]
  },
  {
   "cell_type": "markdown",
   "metadata": {},
   "source": [
    "## 练习2\n",
    "\n",
    "```python\n",
    "words = ['Hello', 'World', 'IBM', 'Apple']\n",
    "```\n",
    "\n",
    "如何将words列表变为\n",
    "\n",
    "```python\n",
    "words = ['hello', 'world', 'ibm', 'apple']\n",
    "```"
   ]
  },
  {
   "cell_type": "markdown",
   "metadata": {},
   "source": [
    "# 三、 函数\n",
    "python中有两种函数\n",
    "- **def函数**        包括自定义函数、python内置函数\n",
    "- **lambda**  定义的函数行（较少使用）\n",
    "\n",
    "## 1. def函数\n",
    "\n",
    "使用def定义函数，依次写出函数名、括号、括号中的参数和冒号:，\n",
    "\n",
    "然后，在缩进块中编写函数体，函数的返回值用return语句返回。\n",
    "\n",
    "```python\n",
    "def functionname(param):\n",
    "    dosomething\n",
    "    return something\n",
    "    \n",
    "```\n",
    "\n",
    "例如定义一个求绝对数的函数my\\_abs()"
   ]
  },
  {
   "cell_type": "code",
   "execution_count": 28,
   "metadata": {
    "collapsed": true
   },
   "outputs": [
    {
     "data": {
      "text/plain": [
       "100"
      ]
     },
     "execution_count": 28,
     "metadata": {},
     "output_type": "execute_result"
    }
   ],
   "source": [
    "def my_abs(x):\n",
    "    if x >= 0:\n",
    "        return x\n",
    "    else:\n",
    "        return -x\n",
    "    \n",
    "my_abs(-100)"
   ]
  },
  {
   "cell_type": "code",
   "execution_count": 12,
   "metadata": {},
   "outputs": [],
   "source": [
    "def my_abs(x):\n",
    "    pass\n",
    "    \n",
    "my_abs(-100)"
   ]
  },
  {
   "cell_type": "markdown",
   "metadata": {},
   "source": [
    "## 2. lambda函数行\n",
    "lambda函数行作用与列表生成式一样，主要为了增加代码的可阅读性。\n",
    "\n",
    "主要认识下，形如\n",
    "\n",
    "```python3\n",
    "f1 = lambda x: x**2\n",
    "f2 = lambda x,y: x+y\n",
    "```\n",
    "\n",
    "这里的f1、f2是函数名，后面可以调用。我们用def与lambda做个对比方便大家理解"
   ]
  },
  {
   "cell_type": "code",
   "execution_count": 19,
   "metadata": {},
   "outputs": [],
   "source": [
    "def f1(x):\n",
    "    return x+2\n",
    "\n",
    "f2 = lambda x:x+2"
   ]
  },
  {
   "cell_type": "markdown",
   "metadata": {},
   "source": [
    "## 3. 函数总结\n",
    "\n",
    "- 定义函数时，需要确定 **函数名** 和 **参数**；\n",
    "- 函数体内部一般都有输出结果"
   ]
  },
  {
   "cell_type": "markdown",
   "metadata": {},
   "source": [
    "## 4.  常用内置函数\n",
    "\n",
    "- **help()** 查看帮助文档\n",
    "- **print()** 打印\n",
    "- **range(start, end, step)**  生成从start到end，步长为step的序列\n",
    "- **len()** 计算数据的长度（容量）\n",
    "- **min()/max()/sum()** 对元素为数字的列表进行操作\n",
    "- **type()** 查看某个变量的类型\n",
    "- **sorted()** 对列表数据进行排序\n",
    "- **eval('表达式字符串')**  将表达式字符串转化为python语法，并执行。\n",
    "- **open()** 数据读取或数据保存\n",
    "- **enumerate()** 列表索引操作"
   ]
  },
  {
   "cell_type": "markdown",
   "metadata": {},
   "source": [
    "### 4.1 help()\n",
    "查看帮助文档"
   ]
  },
  {
   "cell_type": "markdown",
   "metadata": {},
   "source": [
    "### 4.2 range(start, end, step)\n",
    "生成从start到end，步长为step的序列。"
   ]
  },
  {
   "cell_type": "code",
   "execution_count": null,
   "metadata": {},
   "outputs": [],
   "source": [
    "range(1, 20, 5)"
   ]
  },
  {
   "cell_type": "code",
   "execution_count": 33,
   "metadata": {
    "collapsed": true
   },
   "outputs": [
    {
     "data": {
      "text/plain": [
       "[1, 6, 11, 16]"
      ]
     },
     "execution_count": 33,
     "metadata": {},
     "output_type": "execute_result"
    }
   ],
   "source": [
    "list(range(1, 20, 5))"
   ]
  },
  {
   "cell_type": "markdown",
   "metadata": {},
   "source": [
    "### 4.3 len()\n",
    "计算数据的长度、容量、内部元素个数"
   ]
  },
  {
   "cell_type": "code",
   "execution_count": 34,
   "metadata": {
    "collapsed": true
   },
   "outputs": [
    {
     "data": {
      "text/plain": [
       "8"
      ]
     },
     "execution_count": 34,
     "metadata": {},
     "output_type": "execute_result"
    }
   ],
   "source": [
    "len('123ddddd')"
   ]
  },
  {
   "cell_type": "code",
   "execution_count": null,
   "metadata": {},
   "outputs": [],
   "source": [
    "len([1,2,9,4])"
   ]
  },
  {
   "cell_type": "markdown",
   "metadata": {},
   "source": [
    "### 4.4 max/min/mean\n",
    "计算列表（内部元素是数字）的最大最小均值 "
   ]
  },
  {
   "cell_type": "code",
   "execution_count": 35,
   "metadata": {
    "collapsed": true
   },
   "outputs": [
    {
     "data": {
      "text/plain": [
       "9"
      ]
     },
     "execution_count": 35,
     "metadata": {},
     "output_type": "execute_result"
    }
   ],
   "source": [
    "max([1,2,9,4])"
   ]
  },
  {
   "cell_type": "markdown",
   "metadata": {},
   "source": [
    "### 4.5 print()"
   ]
  },
  {
   "cell_type": "code",
   "execution_count": 1,
   "metadata": {
    "collapsed": true
   },
   "outputs": [
    {
     "name": "stdout",
     "output_type": "stream",
     "text": [
      "张三\n",
      "李四\n",
      "王五\n"
     ]
    }
   ],
   "source": [
    "for name in ['张三', '李四', '王五']:\n",
    "    print(name)"
   ]
  },
  {
   "cell_type": "code",
   "execution_count": 37,
   "metadata": {
    "collapsed": true
   },
   "outputs": [
    {
     "name": "stdout",
     "output_type": "stream",
     "text": [
      "0 张三\n",
      "1 李四\n",
      "2 王五\n"
     ]
    }
   ],
   "source": [
    "for idx, name in enumerate(['张三', '李四', '王五']):\n",
    "    print(idx, name)"
   ]
  },
  {
   "cell_type": "markdown",
   "metadata": {},
   "source": [
    "### 4.6 enumerate()\n",
    "列表索引操作,得到列表内部每个元素及其对应的索引值（排位值）"
   ]
  },
  {
   "cell_type": "code",
   "execution_count": null,
   "metadata": {},
   "outputs": [],
   "source": [
    "enumerate(['张三', '李四', '王五'])"
   ]
  },
  {
   "cell_type": "code",
   "execution_count": 18,
   "metadata": {
    "collapsed": true
   },
   "outputs": [
    {
     "data": {
      "text/plain": [
       "[(0, '张三'), (1, '李四'), (2, '王五')]"
      ]
     },
     "execution_count": 18,
     "metadata": {},
     "output_type": "execute_result"
    }
   ],
   "source": [
    "list(enumerate(['张三', '李四', '王五']))"
   ]
  },
  {
   "cell_type": "markdown",
   "metadata": {},
   "source": [
    "### 4.7 sorted()\n",
    "sorted(data, key, reverse)\n",
    "- data 传入的数据\n",
    "- key 排序依据的规则。一般传入lambda函数\n",
    "- reverse参数：布尔值True（False） 负责排序的方向；"
   ]
  },
  {
   "cell_type": "code",
   "execution_count": 42,
   "metadata": {
    "collapsed": true
   },
   "outputs": [
    {
     "data": {
      "text/plain": [
       "[20, 11, 10, 6]"
      ]
     },
     "execution_count": 42,
     "metadata": {},
     "output_type": "execute_result"
    }
   ],
   "source": [
    "sorted([10,20,11,6], reverse=True)"
   ]
  },
  {
   "cell_type": "code",
   "execution_count": 13,
   "metadata": {},
   "outputs": [
    {
     "data": {
      "text/plain": [
       "[('python', 321), ('a', 100), ('only', 30), ('good', 20), ('julia', 3)]"
      ]
     },
     "execution_count": 13,
     "metadata": {},
     "output_type": "execute_result"
    }
   ],
   "source": [
    "data = [('good', 20), \n",
    "        ('a', 100), \n",
    "        ('only', 30), \n",
    "        ('python', 321),\n",
    "        ('julia', 3)]\n",
    "\n",
    "sorted(data, key=lambda k:k[1], reverse=True)"
   ]
  },
  {
   "cell_type": "markdown",
   "metadata": {},
   "source": [
    "### 4.8 eval()"
   ]
  },
  {
   "cell_type": "code",
   "execution_count": 3,
   "metadata": {
    "collapsed": true
   },
   "outputs": [
    {
     "data": {
      "text/plain": [
       "'a+b'"
      ]
     },
     "execution_count": 3,
     "metadata": {},
     "output_type": "execute_result"
    }
   ],
   "source": [
    "a = 5\n",
    "b = 10\n",
    "'a+b'"
   ]
  },
  {
   "cell_type": "code",
   "execution_count": 5,
   "metadata": {
    "collapsed": true
   },
   "outputs": [
    {
     "data": {
      "text/plain": [
       "15"
      ]
     },
     "execution_count": 5,
     "metadata": {},
     "output_type": "execute_result"
    }
   ],
   "source": [
    "#eval功能\n",
    "a = 5\n",
    "b = 10\n",
    "eval('a+b')"
   ]
  }
 ],
 "metadata": {
  "kernelspec": {
   "display_name": "Python 3",
   "language": "python",
   "name": "python3"
  },
  "language_info": {
   "codemirror_mode": {
    "name": "ipython",
    "version": 3
   },
   "file_extension": ".py",
   "mimetype": "text/x-python",
   "name": "python",
   "nbconvert_exporter": "python",
   "pygments_lexer": "ipython3",
   "version": "3.7.2"
  },
  "toc": {
   "base_numbering": 1,
   "nav_menu": {},
   "number_sections": false,
   "sideBar": true,
   "skip_h1_title": false,
   "title_cell": "Table of Contents",
   "title_sidebar": "Contents",
   "toc_cell": true,
   "toc_position": {
    "height": "calc(100% - 180px)",
    "left": "10px",
    "top": "150px",
    "width": "384px"
   },
   "toc_section_display": true,
   "toc_window_display": true
  }
 },
 "nbformat": 4,
 "nbformat_minor": 2
}
