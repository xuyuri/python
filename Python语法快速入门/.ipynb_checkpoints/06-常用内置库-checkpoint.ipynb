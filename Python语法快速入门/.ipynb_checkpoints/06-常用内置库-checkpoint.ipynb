{
 "cells": [
  {
   "cell_type": "markdown",
   "metadata": {
    "toc": true
   },
   "source": [
    "<h1>Table of Contents<span class=\"tocSkip\"></span></h1>\n",
    "<div class=\"toc\"><ul class=\"toc-item\"><li><span><a href=\"#常用内置库\" data-toc-modified-id=\"常用内置库-1\">常用内置库</a></span></li><li><span><a href=\"#1.-第三方库安装方法\" data-toc-modified-id=\"1.-第三方库安装方法-2\">1. 第三方库安装方法</a></span></li><li><span><a href=\"#2.-安装问题解决办法\" data-toc-modified-id=\"2.-安装问题解决办法-3\">2. 安装问题解决办法</a></span></li><li><span><a href=\"#3.-导入库的写法\" data-toc-modified-id=\"3.-导入库的写法-4\">3. 导入库的写法</a></span></li><li><span><a href=\"#4.-csv写入库\" data-toc-modified-id=\"4.-csv写入库-5\">4. csv写入库</a></span></li><li><span><a href=\"#5.-os路径库\" data-toc-modified-id=\"5.-os路径库-6\">5. os路径库</a></span></li><li><span><a href=\"#6.-time\" data-toc-modified-id=\"6.-time-7\">6. time</a></span></li><li><span><a href=\"#7.-re库-正则表达式\" data-toc-modified-id=\"7.-re库-正则表达式-8\">7. re库-正则表达式</a></span><ul class=\"toc-item\"><li><span><a href=\"#re库常用方法\" data-toc-modified-id=\"re库常用方法-8.1\">re库常用方法</a></span></li><li><span><a href=\"#pattern设计步骤：\" data-toc-modified-id=\"pattern设计步骤：-8.2\">pattern设计步骤：</a></span></li><li><span><a href=\"#re.findall(pattern,-text)\" data-toc-modified-id=\"re.findall(pattern,-text)-8.3\">re.findall(pattern, text)</a></span></li><li><span><a href=\"#re.split(pattern,-text)\" data-toc-modified-id=\"re.split(pattern,-text)-8.4\">re.split(pattern, text)</a></span></li><li><span><a href=\"#re.sub(old,-new,-text)\" data-toc-modified-id=\"re.sub(old,-new,-text)-8.5\">re.sub(old, new, text)</a></span></li></ul></li></ul></div>"
   ]
  },
  {
   "cell_type": "markdown",
   "metadata": {},
   "source": [
    "## 常用内置库"
   ]
  },
  {
   "cell_type": "markdown",
   "metadata": {},
   "source": [
    "python的库有两种：\n",
    "- 内置库，如os、time、csv、re等\n",
    "- 第三方库，需要先安装才能使用。如jieba、pandas、scikit-learn"
   ]
  },
  {
   "cell_type": "markdown",
   "metadata": {},
   "source": [
    "## 1. 第三方库安装方法\n",
    "\n",
    "```terminal\n",
    "!pip install 库的名字\n",
    "```\n",
    "\n",
    "或\n",
    "\n",
    "```terminal\n",
    "!pip3 install 库的名字\n",
    "```\n",
    "\n",
    "**解释**\n",
    "\n",
    "苹果电脑中自带着python2.x，所以使用pip对应的是python2，而pip3对应的是python3。\n",
    "\n",
    "在windows电脑中，原始电脑中没有安装python，所以安装python3的用户可以直接使用pip来安装包。"
   ]
  },
  {
   "cell_type": "markdown",
   "metadata": {},
   "source": [
    "## 2. 安装问题解决办法\n",
    "pip下载安装库的时候，下载的资源来自国外站，所以网速会比较慢，运气不好的话经常无法安装成功。\n",
    "\n",
    "所以需要将pip默认访问的站点改为国内站。\n",
    "\n",
    "常用的镜像站点有\n",
    "- 阿里云  ``http://mirrors.aliyun.com/pypi/simple/``\n",
    "- 豆瓣  ``http://pypi.douban.com/simple/``\n",
    "- 清华大学 ``https://pypi.tuna.tsinghua.edu.cn/simple/``\n",
    "- 中国科学技术大学 ``http://pypi.mirrors.ustc.edu.cn/simple/``\n",
    "- 华中科技大学 ``http://pypi.hustunique.com/``\n",
    "\n",
    "在命令行的设置方法\n",
    "\n",
    "```terminal\n",
    "pip3 config set global.index-url https://pypi.tuna.tsinghua.edu.cn/simple/\n",
    "```\n",
    "\n",
    "也可以在jupyter notebook的cell中运行如下\n"
   ]
  },
  {
   "cell_type": "code",
   "execution_count": null,
   "metadata": {},
   "outputs": [],
   "source": [
    "!pip3 config set global.index-url https://pypi.tuna.tsinghua.edu.cn/simple/"
   ]
  },
  {
   "cell_type": "markdown",
   "metadata": {},
   "source": [
    "## 3. 导入库的写法\n",
    "\n",
    "**导入库语法**\n",
    "\n",
    "语法1\n",
    "\n",
    "```python\n",
    "import packagename\n",
    "```\n",
    "\n",
    "语法2\n",
    "\n",
    "```python\n",
    "from packagename import somemethod\n",
    "```\n",
    "\n",
    "语法3\n",
    "\n",
    "```python\n",
    "#取别名\n",
    "from packagename import somemethod as smd\n",
    "```\n",
    "\n"
   ]
  },
  {
   "cell_type": "markdown",
   "metadata": {},
   "source": [
    "## 4. csv写入库\n",
    "将数据保存到csv中，最常用的库是csv库。常用的写法有以下几种"
   ]
  },
  {
   "cell_type": "code",
   "execution_count": 1,
   "metadata": {},
   "outputs": [],
   "source": [
    "#给csv文件写入一行数据\n",
    "import csv\n",
    "\n",
    "csvf = open('output\\\\csv测试.csv', 'a+', encoding='utf-8', newline='')\n",
    "writer = csv.writer(csvf)\n",
    "\n",
    "line1 = ('张三', '25')\n",
    "writer.writerow(line1)\n",
    "\n",
    "csvf.close()"
   ]
  },
  {
   "cell_type": "code",
   "execution_count": 2,
   "metadata": {},
   "outputs": [],
   "source": [
    "#给csv文件写入多行数据\n",
    "import csv\n",
    "\n",
    "csvf = open('output\\\\csv测试.csv', 'a+', encoding='utf-8')\n",
    "writer = csv.writer(csvf)\n",
    "\n",
    "line1 = ('张三', '25')\n",
    "writer.writerow(line1)\n",
    "line2 = ('李四', '26')\n",
    "writer.writerow(line2)\n",
    "line3 = ('王五', '27')\n",
    "writer.writerow(line3)\n",
    "\n",
    "csvf.close()"
   ]
  },
  {
   "cell_type": "code",
   "execution_count": 8,
   "metadata": {},
   "outputs": [],
   "source": [
    "# for循环去做重复的写入操作\n",
    "import csv\n",
    "\n",
    "csvf = open('output\\\\for循环写入csv文件.csv', 'a+', encoding='utf-8', newline='')\n",
    "writer = csv.writer(csvf)\n",
    "writer.writerow(('name', 'age'))  #给csv文件写抬头（变量名）\n",
    "\n",
    "nameages = [('张三', '25'), ('李四', '26'), ('王五', '27')]\n",
    "\n",
    "for nameage in nameages:\n",
    "    writer.writerow(nameage)\n",
    "    \n",
    "csvf.close()"
   ]
  },
  {
   "cell_type": "markdown",
   "metadata": {},
   "source": [
    "## 5. os路径库\n",
    "os 模块提供了非常丰富的方法用来处理文件（夹）和路径。\n",
    "\n",
    "|常用方法|功能|\n",
    "|---|---|\n",
    "|os.getcwd()|返回当前工作路径（获取当前运行脚本所在的路径）|\n",
    "|os.listdir(path)|获取某个path下的所有文件名|\n",
    "|os.mkdir(path)|基于path创建一个文件夹|"
   ]
  },
  {
   "cell_type": "code",
   "execution_count": 3,
   "metadata": {},
   "outputs": [
    {
     "data": {
      "text/plain": [
       "'/Users/thunderhit/Desktop/十一工作坊/notes/01-Python基础'"
      ]
     },
     "execution_count": 3,
     "metadata": {},
     "output_type": "execute_result"
    }
   ],
   "source": [
    "import os\n",
    "#currentworkdirectory\n",
    "os.getcwd()"
   ]
  },
  {
   "cell_type": "code",
   "execution_count": 4,
   "metadata": {},
   "outputs": [
    {
     "data": {
      "text/plain": [
       "['.DS_Store', '用python做文本分析.txt', 'csv测试.csv']"
      ]
     },
     "execution_count": 4,
     "metadata": {},
     "output_type": "execute_result"
    }
   ],
   "source": [
    "os.listdir('data')"
   ]
  },
  {
   "cell_type": "code",
   "execution_count": 5,
   "metadata": {},
   "outputs": [],
   "source": [
    "#在test文件夹中  新建名字为MKDIR的文件夹\n",
    "os.mkdir('output\\\\MKDIR')"
   ]
  },
  {
   "cell_type": "markdown",
   "metadata": {},
   "source": [
    "## 6. time\n",
    "time提供了时间操作，常用的方法有获取时间戳和等待（睡眠）。\n",
    "\n",
    "|常用方法|功能|\n",
    "|---|---|\n",
    "|time.time()|获取当前时间戳|\n",
    "|time.sleep(delay)|程序在该代码行等待（睡眠）delay秒|"
   ]
  },
  {
   "cell_type": "code",
   "execution_count": 14,
   "metadata": {},
   "outputs": [
    {
     "data": {
      "text/plain": [
       "1563334354.409339"
      ]
     },
     "execution_count": 14,
     "metadata": {},
     "output_type": "execute_result"
    }
   ],
   "source": [
    "import time\n",
    "\n",
    "time.time()"
   ]
  },
  {
   "cell_type": "code",
   "execution_count": 15,
   "metadata": {
    "collapsed": true
   },
   "outputs": [
    {
     "name": "stdout",
     "output_type": "stream",
     "text": [
      "0\n",
      "1\n",
      "2\n",
      "3\n",
      "4\n",
      "5\n",
      "6\n",
      "7\n",
      "8\n",
      "9\n"
     ]
    }
   ],
   "source": [
    "for i in range(10):\n",
    "    print(i)"
   ]
  },
  {
   "cell_type": "code",
   "execution_count": 16,
   "metadata": {
    "collapsed": true
   },
   "outputs": [
    {
     "name": "stdout",
     "output_type": "stream",
     "text": [
      "0\n",
      "1\n",
      "2\n",
      "3\n",
      "4\n",
      "5\n",
      "6\n",
      "7\n",
      "8\n",
      "9\n"
     ]
    }
   ],
   "source": [
    "#控制节奏\n",
    "import time\n",
    "for i in range(10):\n",
    "    print(i)\n",
    "    time.sleep(1)"
   ]
  },
  {
   "cell_type": "markdown",
   "metadata": {},
   "source": [
    "## 7. re库-正则表达式\n",
    "可用于数据清洗，提取有用的信息\n",
    "\n",
    "|正则符号|描述|\n",
    "|---|---|\n",
    "|``( )``|标记一个子表达式的开始和结束位置。|\n",
    "|.|\t匹配除换行符 ``\\n`` 之外的任何单字符。要匹配 ``. ``，请使用 ``\\. ``。|\n",
    "|\\*|\t匹配前面的子表达式零次或多次。要匹配 \\* 字符，请使用 ``\\*``。|\n",
    "|?|\t匹配前面的子表达式零次或一次，或指明一个非贪婪限定符。要匹配 \\? 字符，请使用 \\\\?。|\n",
    "|+|匹配前面的子表达式一次或多次。要匹配 ``+ ``字符，请使用 ``\\+``。|\n",
    "|``[``|\t标记一个中括号表达式的开始。|\n",
    "|``\\``|\t转义字符。例如， 'n' 匹配字符 'n'。``'\\n'`` 匹配换行符。|\n",
    "|\\d|匹配字符串中的单个数字|\n",
    "|a-zA-Z|匹配全部英文字符|\n",
    "|0-9|匹配全部数字|\n",
    "|``\\s``|匹配字符串中的``\\n``,``\\t``,``空格``|"
   ]
  },
  {
   "cell_type": "markdown",
   "metadata": {},
   "source": [
    "**正则符号**组成**正则表达式**，用于**匹配**需要的字符。\n",
    "\n",
    "### re库常用方法\n",
    "\n",
    "|re库常用函数|作用|\n",
    "|---|---|\n",
    "|``re.findall(pattern, string)``|根据pattern返回匹配结果（列表）|\n",
    "|``re.split(pattern, string)`` |使用pattern分割string，返回列表        \n",
    "|``re.sub(pattern, repl, string)``|使用repl替换string中的pattern|\n",
    "\n",
    "\n",
    "### pattern设计步骤：\n",
    "1. 找到重复的一致的规律\n",
    "2. 复制粘贴到pattern中\n",
    "3. 删除**想要的数据**\n",
    "4. 替换为**相应的正则符号表达式**\n",
    "\n",
    "###  re.findall(pattern, text)\n",
    "在text中查找满足pattern条件的文本，返回列表\n",
    "\n",
    "- pattern:用正则表达式设计的匹配规则\n",
    "- text：文本数据\n",
    "\n"
   ]
  },
  {
   "cell_type": "code",
   "execution_count": 2,
   "metadata": {},
   "outputs": [
    {
     "data": {
      "text/plain": [
       "[('张三', '25')]"
      ]
     },
     "execution_count": 2,
     "metadata": {},
     "output_type": "execute_result"
    }
   ],
   "source": [
    "import re\n",
    "\n",
    "description = '我叫张三,今年25岁'\n",
    "\n",
    "pattern = '我叫(.*?),今年(.*?)岁'\n",
    "name_age = re.findall(pattern, description)\n",
    "name_age"
   ]
  },
  {
   "cell_type": "code",
   "execution_count": 3,
   "metadata": {},
   "outputs": [
    {
     "name": "stdout",
     "output_type": "stream",
     "text": [
      "[('张三', '17')]\n",
      "[('李四', '弱冠')]\n",
      "[('张丽丽', '年方二八')]\n"
     ]
    }
   ],
   "source": [
    "import re\n",
    "\n",
    "descriptions = ['我叫张三,今年17岁,来自河北省。',\n",
    "               '我叫李四,今年弱冠岁,来自辽宁省。',\n",
    "               '我叫张丽丽,今年年方二八岁,来自山西省。']\n",
    "\n",
    "pattern = '我叫(.*?),今年(.*?)岁'\n",
    "for description in descriptions:\n",
    "    name_age = re.findall(pattern, description)\n",
    "    print(name_age)"
   ]
  },
  {
   "cell_type": "code",
   "execution_count": 4,
   "metadata": {},
   "outputs": [
    {
     "data": {
      "text/plain": [
       "['David']"
      ]
     },
     "execution_count": 4,
     "metadata": {},
     "output_type": "execute_result"
    }
   ],
   "source": [
    "string = '嘿David，早上吃的啥啊？'\n",
    "\n",
    "\n",
    "english = re.findall('[a-zA-Z]+', string)\n",
    "english"
   ]
  },
  {
   "cell_type": "markdown",
   "metadata": {},
   "source": [
    "### re.split(pattern, text)\n",
    "用pattern分割text，返回列表\n",
    "\n",
    "- pattern:用正则表达式设计的匹配规则\n",
    "- text：待分割的文本数据"
   ]
  },
  {
   "cell_type": "code",
   "execution_count": 2,
   "metadata": {
    "scrolled": true
   },
   "outputs": [
    {
     "data": {
      "text/plain": [
       "[' 天文学家叶文洁在期间历经劫难，被带到军方绝秘计划“红岸工程”。\\n             ',\n",
       " ' 人类组建起同样庞大的太空舰队，同时（PDC）利用三体人思维透明的致命缺陷，制订了“面壁计划”。\\n             ',\n",
       " ' 只有程心和艾AA两个幸存者乘坐光速飞船离开。她们在冥王星带走人类文明的精华。']"
      ]
     },
     "execution_count": 2,
     "metadata": {},
     "output_type": "execute_result"
    }
   ],
   "source": [
    "import re\n",
    "\n",
    "string2 = \"\"\"第一部 天文学家叶文洁在期间历经劫难，被带到军方绝秘计划“红岸工程”。\n",
    "             第二部 人类组建起同样庞大的太空舰队，同时（PDC）利用三体人思维透明的致命缺陷，制订了“面壁计划”。\n",
    "             第三部 只有程心和艾AA两个幸存者乘坐光速飞船离开。她们在冥王星带走人类文明的精华。\"\"\"\n",
    "\n",
    "\n",
    "parts = re.split('第[一二三]+部', string2)\n",
    "\n",
    "#剔除空数据\n",
    "parts = [part \n",
    "         for part in parts \n",
    "         if part]\n",
    "parts"
   ]
  },
  {
   "cell_type": "markdown",
   "metadata": {},
   "source": [
    "### re.sub(old, new, text)\n",
    "将text中的old替换为new，返回字符串"
   ]
  },
  {
   "cell_type": "code",
   "execution_count": 5,
   "metadata": {},
   "outputs": [
    {
     "name": "stdout",
     "output_type": "stream",
     "text": [
      "第一部 革命如火如荼地进行  第二部 面对地球文明前所未有的危局。 第三部 在地球人类接近灭亡之际\n"
     ]
    }
   ],
   "source": [
    "import re\n",
    "\n",
    "string4 = \"\"\"第一部 文化大革命如火如荼地进行  第二部 面对地球文明前所未有的危局。 第三部 在地球人类接近灭亡之际\"\"\"\n",
    "#文化大革命  替换为  革命\n",
    "titles = re.sub('文化大革命', '革命', string4)\n",
    "\n",
    "print(titles)"
   ]
  },
  {
   "cell_type": "code",
   "execution_count": null,
   "metadata": {},
   "outputs": [],
   "source": []
  }
 ],
 "metadata": {
  "kernelspec": {
   "display_name": "Python 3",
   "language": "python",
   "name": "python3"
  },
  "language_info": {
   "codemirror_mode": {
    "name": "ipython",
    "version": 3
   },
   "file_extension": ".py",
   "mimetype": "text/x-python",
   "name": "python",
   "nbconvert_exporter": "python",
   "pygments_lexer": "ipython3",
   "version": "3.7.2"
  },
  "toc": {
   "base_numbering": 1,
   "nav_menu": {},
   "number_sections": false,
   "sideBar": true,
   "skip_h1_title": false,
   "title_cell": "Table of Contents",
   "title_sidebar": "Contents",
   "toc_cell": true,
   "toc_position": {},
   "toc_section_display": true,
   "toc_window_display": true
  }
 },
 "nbformat": 4,
 "nbformat_minor": 2
}
