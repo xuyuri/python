{
 "cells": [
  {
   "cell_type": "markdown",
   "metadata": {
    "slideshow": {
     "slide_type": "slide"
    }
   },
   "source": [
    "# notebook课件使用方法\n",
    "\n",
    "#### 1. 快捷键\n",
    "在jupyter notebook菜单栏有Help按钮，可以查看jupyter的快捷键\n",
    "\n",
    "|快捷键组合|功能|\n",
    "|---|---|\n",
    "|Esc+M|将cell的代码编辑模式变为markdown编辑模式|\n",
    "|Esc+A|在当前cell上面新建一个cell|\n",
    "|Esc+B|在当前cell下面新建一个cell|\n",
    "|D+D|删除当前cell|\n",
    "\n",
    "#### 2 问号？\n",
    "除了Help菜单能让我们快读查看numpy、pandas、scipy和matplotlib库，其实在cell中使用``?``可以查看库、函数、方法和变量的信息。"
   ]
  },
  {
   "cell_type": "code",
   "execution_count": 1,
   "metadata": {
    "slideshow": {
     "slide_type": "slide"
    }
   },
   "outputs": [],
   "source": [
    "#查看库的信息\n",
    "import os\n",
    "\n",
    "?os"
   ]
  },
  {
   "cell_type": "code",
   "execution_count": 2,
   "metadata": {},
   "outputs": [],
   "source": [
    "help(os)"
   ]
  },
  {
   "cell_type": "markdown",
   "metadata": {
    "slideshow": {
     "slide_type": "slide"
    }
   },
   "source": [
    "![](img/01-os.png)"
   ]
  },
  {
   "cell_type": "code",
   "execution_count": 4,
   "metadata": {
    "slideshow": {
     "slide_type": "slide"
    }
   },
   "outputs": [],
   "source": [
    "#查看函数信息\n",
    "?print"
   ]
  },
  {
   "cell_type": "markdown",
   "metadata": {},
   "source": [
    "![](img/02-print.png)"
   ]
  },
  {
   "cell_type": "code",
   "execution_count": 2,
   "metadata": {
    "slideshow": {
     "slide_type": "slide"
    }
   },
   "outputs": [],
   "source": [
    "#查看变量信息\n",
    "a = [1,2,3,4]\n",
    "?a"
   ]
  },
  {
   "cell_type": "markdown",
   "metadata": {
    "slideshow": {
     "slide_type": "slide"
    }
   },
   "source": [
    "#### 3.  在notebook中画图\n",
    "作图最常用的就是matplotlib，记得在cell中写上这句\n",
    "\n",
    "```python\n",
    "%matplotlib inline\n",
    "```"
   ]
  },
  {
   "cell_type": "code",
   "execution_count": 1,
   "metadata": {
    "scrolled": true,
    "slideshow": {
     "slide_type": "slide"
    }
   },
   "outputs": [
    {
     "data": {
      "text/plain": [
       "<matplotlib.axes._subplots.AxesSubplot at 0x1177197b8>"
      ]
     },
     "execution_count": 1,
     "metadata": {},
     "output_type": "execute_result"
    },
    {
     "data": {
      "image/png": "[encoded data removed]",
      "text/plain": [
       "<Figure size 432x288 with 1 Axes>"
      ]
     },
     "metadata": {},
     "output_type": "display_data"
    }
   ],
   "source": [
    "%matplotlib inline\n",
    "import pandas as pd\n",
    "\n",
    "series = pd.Series([1,3,5,6,2])\n",
    "series.plot(kind='pie')"
   ]
  },
  {
   "cell_type": "markdown",
   "metadata": {
    "slideshow": {
     "slide_type": "slide"
    }
   },
   "source": [
    "#### 4 执行shell命令\n",
    "命令行的命令前面加个``!``即可在notebook中进行。\n",
    "\n",
    "比如我们想要安装jieba库,需要打开终端输入\n",
    "\n",
    "```\n",
    "pip3 install jieba\n",
    "```\n",
    "\n",
    "现在，我们可以在notebook中输入下面命令安装jieba"
   ]
  },
  {
   "cell_type": "code",
   "execution_count": 5,
   "metadata": {
    "slideshow": {
     "slide_type": "slide"
    }
   },
   "outputs": [],
   "source": [
    "!pip3 install jieba"
   ]
  },
  {
   "cell_type": "markdown",
   "metadata": {
    "slideshow": {
     "slide_type": "slide"
    }
   },
   "source": [
    "#### 5. 做笔记 markdown\n",
    "\n",
    "|markdown语法|作用|\n",
    "|---|---|\n",
    "|#|有几个#就是几级标题|\n",
    "|**|两对**夹住的内容变为斜体|\n",
    "|-|无序列表|\n",
    "\n",
    "-------\n",
    "\n",
    "\n",
    "有序列表\n",
    "\n",
    "1. 元素1\n",
    "2. 元素2\n",
    "3. 元素3\n",
    "\n",
    "\n",
    "\n",
    "```\n",
    "有序列表\n",
    "\n",
    "1. 元素1\n",
    "2. 元素2\n",
    "3. 元素3\n",
    "```\n",
    "\n",
    "-----\n",
    "\n",
    "无序列表\n",
    "\n",
    "- 元素1\n",
    "- 元素2\n",
    "- 元素3\n",
    "\n",
    "\n",
    "\n",
    "```\n",
    "无序列表\n",
    "\n",
    "- 元素1\n",
    "- 元素2\n",
    "- 元素3\n",
    "```\n",
    "\n",
    "------\n",
    "\n",
    "|函数|作用|\n",
    "|---|---|\n",
    "|print()|打印|\n",
    "|help()|查看帮助文档|\n",
    "\n",
    "```\n",
    "|函数|作用|\n",
    "|---|---|\n",
    "|print()|打印|\n",
    "|help()|查看帮助文档|\n",
    "```"
   ]
  },
  {
   "cell_type": "markdown",
   "metadata": {},
   "source": [
    "#### 6 插入图片\n",
    "\n",
    "```\n",
    "![](图片路径)\n",
    "```\n",
    "\n",
    "![](img/python.jpeg)"
   ]
  },
  {
   "cell_type": "markdown",
   "metadata": {
    "slideshow": {
     "slide_type": "slide"
    }
   },
   "source": [
    "#### 7. 使用LaTex写公式\n",
    "\n",
    "当我们在markdown编辑模式下输入\n",
    "\n",
    "```\n",
    "$P(A|B)=\\frac{P(B|A)P(A)}{P(B)}$\n",
    "```\n",
    "\n",
    "会被MathJax渲染成\n",
    "\n",
    "$P(A|B)=\\frac{P(B|A)P(A)}{P(B)}$"
   ]
  },
  {
   "cell_type": "code",
   "execution_count": null,
   "metadata": {},
   "outputs": [],
   "source": []
  },
  {
   "cell_type": "markdown",
   "metadata": {},
   "source": [
    "# Python基础\n",
    "\n",
    "## Python是一门“语言”\n",
    "![](img/python.jpeg)\n"
   ]
  },
  {
   "cell_type": "code",
   "execution_count": null,
   "metadata": {},
   "outputs": [],
   "source": [
    "import matplotlib.pyplot as plt\n",
    "import math\n",
    "\n",
    "Be_better = 1.01\n",
    "\n",
    "every_day_powers = []\n",
    "for day in range(1, 365):\n",
    "    more_power = math.pow(Be_better, day)\n",
    "    every_day_powers.append(more_power)\n",
    "    \n",
    "plt.plot(range(1, 365), every_day_powers)\n",
    "plt.title('Be better everyday!')"
   ]
  },
  {
   "cell_type": "code",
   "execution_count": null,
   "metadata": {},
   "outputs": [],
   "source": [
    "#输出数字a的绝对数\n",
    "\n",
    "a = -50\n",
    "\n",
    "if a >= 0:\n",
    "    print(a)\n",
    "else:\n",
    "    print(-a)"
   ]
  },
  {
   "cell_type": "markdown",
   "metadata": {},
   "source": [
    "**总结：**\n",
    "\n",
    "- 单行注释  #后面的代码不执行，用来写注释\n",
    "- 多行注释 使用\"\"\"将需要不执行或者注释的内容包裹\n",
    "- a是变量，变量名根据自己需要起名字。变量是用来存储 -50 这个值的\n",
    "- 当语句以冒号:结尾时，缩进（4个空格）的语句视为 代码块。\n",
    "- 一般的编辑器默认 Tab键 等同于4空格。\n",
    "- 由于python的缩进，复制-粘贴 原来的代码要特别注意！！\n",
    "- 要注意中英文书写格式\n",
    "------\n",
    "\n",
    "\n",
    "## 理解类（对象）与属性（方法）\n",
    "人类是类型的话，作为人类的子集，某个人（或某个人群）就是对象。这个对象天然的具有人类的一般属性。\n",
    "\n",
    "属性与方法是 类型（对象）的特点或者本领。\n",
    "\n",
    "### 类（对象）与属性（方法）\n",
    "![](img/对象与属性.jpeg)"
   ]
  },
  {
   "cell_type": "markdown",
   "metadata": {},
   "source": [
    "## 一、数据类型\n",
    "\n",
    "学习英语需要背单词，学习编程语言同样也需要记“单词”，只不过这“单词”是数据类型。数据类型是编程语言的基石，下面我们看看数据类型是什么样子\n",
    "\n",
    "|类型|例子|\n",
    "|---|---|\n",
    "|数字|``a = 5``|\n",
    "|字符串|``my_str = \"abcdefg\"``|\n",
    "|列表|``my_list = [1, 2, 3]``|\n",
    "|元组|``my_tuple = (1, 2, 3)``|\n",
    "|字典|``my_dict = {'David': 25, 'Mark':30}``|\n",
    "|空值|``None、''、[]、``|\n",
    "\n",
    "### 1.1 空值\n",
    "空值是Python里一个特殊的值，用None表示。\n",
    "\n",
    "None不能理解为0，因为0是有意义的，而None是一个特殊的空值。 "
   ]
  },
  {
   "cell_type": "code",
   "execution_count": 1,
   "metadata": {},
   "outputs": [],
   "source": [
    "None"
   ]
  },
  {
   "cell_type": "code",
   "execution_count": 2,
   "metadata": {},
   "outputs": [
    {
     "data": {
      "text/plain": [
       "''"
      ]
     },
     "execution_count": 2,
     "metadata": {},
     "output_type": "execute_result"
    }
   ],
   "source": [
    "''"
   ]
  },
  {
   "cell_type": "code",
   "execution_count": 3,
   "metadata": {},
   "outputs": [
    {
     "data": {
      "text/plain": [
       "[]"
      ]
     },
     "execution_count": 3,
     "metadata": {},
     "output_type": "execute_result"
    }
   ],
   "source": [
    "[]"
   ]
  },
  {
   "cell_type": "markdown",
   "metadata": {},
   "source": [
    "### 1.2 布尔型\n",
    "\n",
    "一个布尔值只有``True、False``两种值，要么是``True``，要么是``False``.\n",
    "\n",
    "布尔值可以进行``且and、或or和非not运算``，一般与``if语句``结合使用。"
   ]
  },
  {
   "cell_type": "code",
   "execution_count": 5,
   "metadata": {},
   "outputs": [
    {
     "data": {
      "text/plain": [
       "False"
      ]
     },
     "execution_count": 5,
     "metadata": {},
     "output_type": "execute_result"
    }
   ],
   "source": [
    "a = 5\n",
    "b = 3\n",
    "a == b"
   ]
  },
  {
   "cell_type": "code",
   "execution_count": 6,
   "metadata": {},
   "outputs": [
    {
     "name": "stdout",
     "output_type": "stream",
     "text": [
      "True and False 结果为 False\n",
      "True or False  结果为 True\n",
      "not True       结果为 False\n"
     ]
    }
   ],
   "source": [
    "print('True and False 结果为',  True and False)\n",
    "print('True or False  结果为',  True or False)\n",
    "print('not True       结果为',  not True)"
   ]
  },
  {
   "cell_type": "markdown",
   "metadata": {},
   "source": [
    "### 1.3 字符串\n",
    "字符串是以  **单引号**  或  **双引号**  括起来的任意文本，比如``'abc'，\"xyz\"``等等。\n",
    "\n",
    "**注意**:  ``''`` 或 ``\"\"`` 本身不是字符串的一部分，因此，字符串 ``'abc'`` 只有a，b，c这3个字符。\n"
   ]
  },
  {
   "cell_type": "code",
   "execution_count": 9,
   "metadata": {},
   "outputs": [
    {
     "name": "stdout",
     "output_type": "stream",
     "text": [
      "abc\n",
      "xyz\n",
      "False\n"
     ]
    }
   ],
   "source": [
    "print('abc')\n",
    "print(\"xyz\")\n",
    "print('abc'=='xyz')\n",
    "type('abc')"
   ]
  },
  {
   "cell_type": "markdown",
   "metadata": {},
   "source": [
    "如果字符串内部既包含 ``单引号`` 又包含 ``双引号`` 怎么办？\n",
    "\n",
    "\n",
    "```\n",
    "'I'm \"OK\"!'\n",
    "```\n",
    "\n"
   ]
  },
  {
   "cell_type": "code",
   "execution_count": 13,
   "metadata": {},
   "outputs": [
    {
     "ename": "SyntaxError",
     "evalue": "invalid syntax (<ipython-input-13-af5dc904b170>, line 1)",
     "output_type": "error",
     "traceback": [
      "\u001b[0;36m  File \u001b[0;32m\"<ipython-input-13-af5dc904b170>\"\u001b[0;36m, line \u001b[0;32m1\u001b[0m\n\u001b[0;31m    print('I'm \"OK\"!')\u001b[0m\n\u001b[0m             ^\u001b[0m\n\u001b[0;31mSyntaxError\u001b[0m\u001b[0;31m:\u001b[0m invalid syntax\n"
     ]
    }
   ],
   "source": [
    "print('I'm \"OK\"!')"
   ]
  },
  {
   "cell_type": "markdown",
   "metadata": {},
   "source": [
    "可以用 ``转义字符\\`` 来标识，比如："
   ]
  },
  {
   "cell_type": "code",
   "execution_count": 14,
   "metadata": {},
   "outputs": [
    {
     "name": "stdout",
     "output_type": "stream",
     "text": [
      "I'm \"OK\"!\n"
     ]
    }
   ],
   "source": [
    "print('I\\'m \\\"OK\\\"!')"
   ]
  },
  {
   "cell_type": "markdown",
   "metadata": {},
   "source": [
    "#### 1.3.1  字符串拼接\n",
    "使用 ``+`` ，可以将两个字符串按照顺序拼接起来，"
   ]
  },
  {
   "cell_type": "code",
   "execution_count": 15,
   "metadata": {},
   "outputs": [
    {
     "name": "stdout",
     "output_type": "stream",
     "text": [
      "Python\n",
      "ythonP\n"
     ]
    }
   ],
   "source": [
    "#字符串拼接\n",
    "a = 'P'\n",
    "b = 'ython'\n",
    "print(a+b)\n",
    "print(b+a)"
   ]
  },
  {
   "cell_type": "markdown",
   "metadata": {},
   "source": [
    "#### 1.3.2 字符串常用方法\n",
    "- str.lower() /str.upper() 变小写、变大写\n",
    "- str.split(sep)  使用sep将字符串分割，默认sep为空格\n",
    "- str.strip(chars)    移除字符串头尾指定的字符序列chars。\n",
    "- str.replace(old, new) 将str中的old替换为new\n",
    "- str.format() 向str中填充内容"
   ]
  },
  {
   "cell_type": "code",
   "execution_count": 23,
   "metadata": {},
   "outputs": [
    {
     "name": "stdout",
     "output_type": "stream",
     "text": [
      "000hello python!dddd000\n",
      "000HELLO PYTHON!DDDD000\n",
      "Hello python!dddd\n",
      "000Hello Julia!dddd000\n"
     ]
    }
   ],
   "source": [
    "content = \"000Hello python!dddd000\"\n",
    "\n",
    "print(content.lower())   #变小写\n",
    "print(content.upper())   #变大写\n",
    "print(content.strip('0'))#移除字符串头尾指定的字符\n",
    "print(content.replace('python', 'Julia')) #替换"
   ]
  },
  {
   "cell_type": "markdown",
   "metadata": {},
   "source": [
    "####  1.3.2 转义符 \\\n",
    "转义字符\\可以转义很多字符，比如:\n",
    "\n",
    "- ``\\n`` 换行\n",
    "- ``\\t`` 制表符\n",
    "- ``字符\\`` 本身也要转义，所以 ``\\\\`` 表示的字符就是 ``\\``\n",
    "\n",
    "可以在Python的交互式命令行用print()打印字符串看看下面打印结果是？：\n",
    "\n",
    "```python\n",
    "print('Hello\\tWorld!')\n",
    "print('转义\\n换行!')\n",
    "print('反斜杠线\\\\')\n",
    "```"
   ]
  },
  {
   "cell_type": "code",
   "execution_count": 25,
   "metadata": {},
   "outputs": [
    {
     "name": "stdout",
     "output_type": "stream",
     "text": [
      "Hello\tWorld!\n",
      "Hello World!\n"
     ]
    }
   ],
   "source": [
    "print('Hello\\tWorld!')\n",
    "print('Hello World!')"
   ]
  },
  {
   "cell_type": "code",
   "execution_count": 26,
   "metadata": {},
   "outputs": [
    {
     "name": "stdout",
     "output_type": "stream",
     "text": [
      "转义\n",
      "换行!\n"
     ]
    }
   ],
   "source": [
    "print('转义\\n换行!')"
   ]
  },
  {
   "cell_type": "code",
   "execution_count": 27,
   "metadata": {},
   "outputs": [
    {
     "name": "stdout",
     "output_type": "stream",
     "text": [
      "反斜杠线\\\n"
     ]
    }
   ],
   "source": [
    "print('反斜杠线\\\\')"
   ]
  },
  {
   "cell_type": "markdown",
   "metadata": {},
   "source": [
    "如果字符串里面有很多字符都需要转义，就需要加很多``\\``，为了简化，Python还允许用``r''``表示``''内部``的字符串默认不转义,例如\n",
    "\n",
    "```python\n",
    "print('\\\\\\t\\\\')\n",
    "print(r'\\\\\\t\\\\')\n",
    "print('hello world!')\n",
    "```"
   ]
  },
  {
   "cell_type": "code",
   "execution_count": 28,
   "metadata": {},
   "outputs": [
    {
     "name": "stdout",
     "output_type": "stream",
     "text": [
      "\\\\n\t\\\n"
     ]
    }
   ],
   "source": [
    "print('\\\\\\\\n\\t\\\\')"
   ]
  },
  {
   "cell_type": "code",
   "execution_count": 29,
   "metadata": {},
   "outputs": [
    {
     "name": "stdout",
     "output_type": "stream",
     "text": [
      "\\\\\\t\\\\\n"
     ]
    }
   ],
   "source": [
    "print(r'\\\\\\t\\\\')"
   ]
  },
  {
   "cell_type": "markdown",
   "metadata": {},
   "source": [
    "#### 1.3.4 格式化format\n",
    "比如每个月给员工发放工资时，需要发送每个员工的工资组成详情。\n",
    "\n",
    "```\n",
    "\"张三,你这个月的工资是2310元；以下是你的工资详情。。。。\"\n",
    "\"李四,你这个月的工资是3456元；以下是你的工资详情。。。。\"\n",
    "\"王五,你这个月的工资是2431元；以下是你的工资详情。。。。\"\n",
    "...\n",
    "```\n",
    "\n",
    "如何自动化自动化填充\n",
    "\n",
    "##### format-关键词传参"
   ]
  },
  {
   "cell_type": "code",
   "execution_count": 30,
   "metadata": {},
   "outputs": [
    {
     "name": "stdout",
     "output_type": "stream",
     "text": [
      "张三,你这个月的工资是2310元；以下是你的工资详情\n"
     ]
    }
   ],
   "source": [
    "content = '{name},你这个月的工资是{salary}元；以下是你的工资详情'\n",
    "\n",
    "\n",
    "print(content.format(name='张三', salary='2310'))"
   ]
  },
  {
   "cell_type": "code",
   "execution_count": 36,
   "metadata": {},
   "outputs": [
    {
     "name": "stdout",
     "output_type": "stream",
     "text": [
      "李四,你这个月的工资是3456元；以下是你的工资详情。。。。\n"
     ]
    }
   ],
   "source": [
    "print(content.format(name='李四', salary='3456'))"
   ]
  },
  {
   "cell_type": "code",
   "execution_count": 37,
   "metadata": {},
   "outputs": [
    {
     "name": "stdout",
     "output_type": "stream",
     "text": [
      "王五,你这个月的工资是2431元；以下是你的工资详情。。。。\n"
     ]
    }
   ],
   "source": [
    "print(content.format(name='王五', salary='2431'))"
   ]
  },
  {
   "cell_type": "markdown",
   "metadata": {},
   "source": [
    "### 1.4 列表list\n",
    "list是一种有序的集合，可以随时添加和删除其中的元素(该元素可以是字符串、元组、列表等)。"
   ]
  },
  {
   "cell_type": "code",
   "execution_count": 32,
   "metadata": {},
   "outputs": [
    {
     "data": {
      "text/plain": [
       "6"
      ]
     },
     "execution_count": 32,
     "metadata": {},
     "output_type": "execute_result"
    }
   ],
   "source": [
    "A = ['a', 'b', 'a', 'c', 'a', 'a']\n",
    "\n",
    "#A的元素个数（长度）\n",
    "len(A)"
   ]
  },
  {
   "cell_type": "code",
   "execution_count": 33,
   "metadata": {},
   "outputs": [
    {
     "data": {
      "text/plain": [
       "['a', 'b', 'a', 'c', 'a', 'a']"
      ]
     },
     "execution_count": 33,
     "metadata": {},
     "output_type": "execute_result"
    }
   ],
   "source": [
    "A"
   ]
  },
  {
   "cell_type": "markdown",
   "metadata": {},
   "source": [
    "#### 1.4.1 列表常用方法\n",
    "- list.append(a) 向list中添加元素a\n",
    "- list.count(a) 统计list中a的个数"
   ]
  },
  {
   "cell_type": "code",
   "execution_count": 34,
   "metadata": {},
   "outputs": [
    {
     "name": "stdout",
     "output_type": "stream",
     "text": [
      "['a', 'b', 'a', 'c', 'a', 'a']\n",
      "['a', 'b', 'a', 'c', 'a', 'a', 'ffff']\n"
     ]
    }
   ],
   "source": [
    "A = ['a', 'b', 'a', 'c', 'a', 'a']\n",
    "print(A)\n",
    "A.append('ffff')     #list.append(a) 向list中添加元素a\n",
    "print(A)"
   ]
  },
  {
   "cell_type": "code",
   "execution_count": 36,
   "metadata": {},
   "outputs": [
    {
     "name": "stdout",
     "output_type": "stream",
     "text": [
      "4\n"
     ]
    }
   ],
   "source": [
    "#A中a的个数\n",
    "print(A.count('a'))"
   ]
  },
  {
   "cell_type": "markdown",
   "metadata": {},
   "source": [
    "#### 1.4.2 加法\n",
    "将一个列表与另一个列表合并（拼接）"
   ]
  },
  {
   "cell_type": "code",
   "execution_count": 37,
   "metadata": {},
   "outputs": [
    {
     "name": "stdout",
     "output_type": "stream",
     "text": [
      "['Michael', 'Bob', 'David', 'Lee']\n",
      "['David', 'Lee', 'Michael', 'Bob']\n"
     ]
    }
   ],
   "source": [
    "names1 = ['Michael', 'Bob']\n",
    "names2 = ['David', 'Lee']\n",
    "\n",
    "print(names1 + names2)\n",
    "print(names2 + names1)"
   ]
  },
  {
   "cell_type": "markdown",
   "metadata": {},
   "source": [
    "#### 1.4.3 索引值\n",
    "根据索引值，我们可以拿到列表中对应的数据。\n",
    "\n",
    "索引值一般从左往右计数，从0开始，0表示'第一个'。\n",
    "\n",
    "如果是从右向左计数，-1表示‘倒数第一个’，-2表示倒数第二个"
   ]
  },
  {
   "cell_type": "code",
   "execution_count": 6,
   "metadata": {},
   "outputs": [
    {
     "name": "stdout",
     "output_type": "stream",
     "text": [
      "David\n",
      "Unique\n"
     ]
    }
   ],
   "source": [
    "names3 = ['Michael', 'Bob', 'David', 'Lee', 'Mary', 'Unique']\n",
    "\n",
    "print(names3[2])\n",
    "print(names3[-1])"
   ]
  },
  {
   "cell_type": "markdown",
   "metadata": {},
   "source": [
    "### 练习"
   ]
  },
  {
   "cell_type": "code",
   "execution_count": 8,
   "metadata": {},
   "outputs": [],
   "source": [
    "L = [['Apple', 'Google', 'Microsoft'],\n",
    "     ['Java', 'Python', 'Ruby', 'PHP'],\n",
    "     ['Adam', 'Bart', 'Lisa']]\n",
    "\n",
    "# 打印出Apple:\n",
    "# 打印出Python:\n",
    "# 打印出Lisa:"
   ]
  },
  {
   "cell_type": "markdown",
   "metadata": {},
   "source": [
    "### 1.5 元组tuple\n",
    "与list类型类似，为了方便学习理解，我们可以简单地认为列表与元组的区别仅仅是``[]``变成了``()``。"
   ]
  },
  {
   "cell_type": "code",
   "execution_count": 9,
   "metadata": {},
   "outputs": [
    {
     "data": {
      "text/plain": [
       "('Michael', 'Bob', 'David', 'Lee', 'Mary', 'Unique')"
      ]
     },
     "execution_count": 9,
     "metadata": {},
     "output_type": "execute_result"
    }
   ],
   "source": [
    "my_tuples = ('Michael', 'Bob', 'David', 'Lee', 'Mary', 'Unique')\n",
    "my_tuples"
   ]
  },
  {
   "cell_type": "markdown",
   "metadata": {},
   "source": [
    "\n",
    "这里要注意，只有一个元素的元组，应该在元素后面加一个逗号\n",
    "\n",
    "```\n",
    "a = (1,)\n",
    "```"
   ]
  },
  {
   "cell_type": "code",
   "execution_count": 58,
   "metadata": {},
   "outputs": [
    {
     "data": {
      "text/plain": [
       "False"
      ]
     },
     "execution_count": 58,
     "metadata": {},
     "output_type": "execute_result"
    }
   ],
   "source": [
    "(1,)==1"
   ]
  },
  {
   "cell_type": "code",
   "execution_count": 46,
   "metadata": {},
   "outputs": [
    {
     "data": {
      "text/plain": [
       "tuple"
      ]
     },
     "execution_count": 46,
     "metadata": {},
     "output_type": "execute_result"
    }
   ],
   "source": [
    "type((1,))"
   ]
  },
  {
   "cell_type": "code",
   "execution_count": 54,
   "metadata": {},
   "outputs": [
    {
     "data": {
      "text/plain": [
       "(1, 2, 3, 4)"
      ]
     },
     "execution_count": 54,
     "metadata": {},
     "output_type": "execute_result"
    }
   ],
   "source": [
    "t = (1,2,3,4)\n",
    "t"
   ]
  },
  {
   "cell_type": "code",
   "execution_count": 48,
   "metadata": {},
   "outputs": [
    {
     "data": {
      "text/plain": [
       "(1,)"
      ]
     },
     "execution_count": 48,
     "metadata": {},
     "output_type": "execute_result"
    }
   ],
   "source": [
    "a = (1,)\n",
    "a"
   ]
  },
  {
   "cell_type": "code",
   "execution_count": 46,
   "metadata": {},
   "outputs": [
    {
     "data": {
      "text/plain": [
       "1"
      ]
     },
     "execution_count": 46,
     "metadata": {},
     "output_type": "execute_result"
    }
   ],
   "source": [
    "A = (1)\n",
    "A"
   ]
  },
  {
   "cell_type": "code",
   "execution_count": 47,
   "metadata": {},
   "outputs": [
    {
     "name": "stdout",
     "output_type": "stream",
     "text": [
      "1\n",
      "<class 'int'>\n",
      "('c',)\n",
      "<class 'tuple'>\n"
     ]
    }
   ],
   "source": [
    "#否则，这个元组变成了元素所属的类型\n",
    "a = (1)\n",
    "print(a)\n",
    "print(type(a))\n",
    "\n",
    "b = ('c',)\n",
    "print(b)\n",
    "print(type(b))"
   ]
  },
  {
   "cell_type": "markdown",
   "metadata": {},
   "source": [
    "### 1.6 字典dict\n",
    "dict全称dictionary，使用``键-值对（key-value-pair）``存储。\n",
    "\n",
    "一般我们将dict作为数据容器，可以用来记录对象（个体）的属性信息。"
   ]
  },
  {
   "cell_type": "code",
   "execution_count": 62,
   "metadata": {},
   "outputs": [
    {
     "name": "stdout",
     "output_type": "stream",
     "text": [
      "0\n"
     ]
    },
    {
     "data": {
      "text/plain": [
       "{}"
      ]
     },
     "execution_count": 62,
     "metadata": {},
     "output_type": "execute_result"
    }
   ],
   "source": [
    "#字典的初始化,  空字典\n",
    "somedata = dict()\n",
    "print(len(somedata))\n",
    "somedata"
   ]
  },
  {
   "cell_type": "code",
   "execution_count": 10,
   "metadata": {},
   "outputs": [
    {
     "name": "stdout",
     "output_type": "stream",
     "text": [
      "3\n"
     ]
    },
    {
     "data": {
      "text/plain": [
       "75"
      ]
     },
     "execution_count": 10,
     "metadata": {},
     "output_type": "execute_result"
    }
   ],
   "source": [
    "#生成一个典型的字典\n",
    "grades = {'Michael': 95, \n",
    "          'Bob': 75, \n",
    "          'Tracy': 85}\n",
    "\n",
    "print(len(grades))\n",
    "grades['Bob']"
   ]
  },
  {
   "cell_type": "code",
   "execution_count": 64,
   "metadata": {},
   "outputs": [
    {
     "data": {
      "text/plain": [
       "{'Michael': 95, 'Bob': 75, 'Tracy': 85, 'David': 100}"
      ]
     },
     "execution_count": 64,
     "metadata": {},
     "output_type": "execute_result"
    }
   ],
   "source": [
    "#写入新的数据\n",
    "grades['David'] = 100\n",
    "grades"
   ]
  },
  {
   "cell_type": "code",
   "execution_count": 65,
   "metadata": {},
   "outputs": [
    {
     "data": {
      "text/plain": [
       "{'Michael': 95, 'Bob': 75, 'Tracy': 85, 'David': 99}"
      ]
     },
     "execution_count": 65,
     "metadata": {},
     "output_type": "execute_result"
    }
   ],
   "source": [
    "grades['David'] = 99\n",
    "grades"
   ]
  },
  {
   "cell_type": "code",
   "execution_count": 11,
   "metadata": {},
   "outputs": [
    {
     "ename": "KeyError",
     "evalue": "'Mary'",
     "output_type": "error",
     "traceback": [
      "\u001b[0;31m---------------------------------------------------------------------------\u001b[0m",
      "\u001b[0;31mKeyError\u001b[0m                                  Traceback (most recent call last)",
      "\u001b[0;32m<ipython-input-11-77dd275c6fe1>\u001b[0m in \u001b[0;36m<module>\u001b[0;34m\u001b[0m\n\u001b[1;32m      1\u001b[0m \u001b[0;31m#对未知Key进行查询，报错\u001b[0m\u001b[0;34m\u001b[0m\u001b[0;34m\u001b[0m\u001b[0;34m\u001b[0m\u001b[0m\n\u001b[0;32m----> 2\u001b[0;31m \u001b[0mgrades\u001b[0m\u001b[0;34m[\u001b[0m\u001b[0;34m'Mary'\u001b[0m\u001b[0;34m]\u001b[0m\u001b[0;34m\u001b[0m\u001b[0;34m\u001b[0m\u001b[0m\n\u001b[0m",
      "\u001b[0;31mKeyError\u001b[0m: 'Mary'"
     ]
    }
   ],
   "source": [
    "#对未知Key进行查询，报错\n",
    "grades['Mary']"
   ]
  },
  {
   "cell_type": "code",
   "execution_count": 12,
   "metadata": {},
   "outputs": [
    {
     "name": "stdout",
     "output_type": "stream",
     "text": [
      "None\n"
     ]
    }
   ],
   "source": [
    "#使用get方法对未知Key进行查询，不报错，返回None\n",
    "result = grades.get('Mary')\n",
    "print(result)"
   ]
  },
  {
   "cell_type": "markdown",
   "metadata": {},
   "source": [
    "**字典常用的方法：**\n",
    "- dictdata.keys()  返回该dictdata所有的关键词key\n",
    "- dictdata.values()  返回该dictdata所有的值value\n",
    "- dcitdata.items() 返回键值对序列"
   ]
  },
  {
   "cell_type": "code",
   "execution_count": 88,
   "metadata": {},
   "outputs": [
    {
     "data": {
      "text/plain": [
       "[1, 2, 3, 4]"
      ]
     },
     "execution_count": 88,
     "metadata": {},
     "output_type": "execute_result"
    }
   ],
   "source": [
    "grades = {'Michael': [1,2,3,4], \n",
    "          'Bob': 75, \n",
    "          'Tracy': 85}\n",
    "\n",
    "\n",
    "grades['Michael']"
   ]
  },
  {
   "cell_type": "code",
   "execution_count": 69,
   "metadata": {},
   "outputs": [
    {
     "data": {
      "text/plain": [
       "dict_values([95, 75, 85])"
      ]
     },
     "execution_count": 69,
     "metadata": {},
     "output_type": "execute_result"
    }
   ],
   "source": [
    "grades.values()"
   ]
  },
  {
   "cell_type": "code",
   "execution_count": 70,
   "metadata": {},
   "outputs": [
    {
     "data": {
      "text/plain": [
       "dict_items([('Michael', 95), ('Bob', 75), ('Tracy', 85)])"
      ]
     },
     "execution_count": 70,
     "metadata": {},
     "output_type": "execute_result"
    }
   ],
   "source": [
    "grades.items()"
   ]
  },
  {
   "cell_type": "code",
   "execution_count": 76,
   "metadata": {},
   "outputs": [
    {
     "name": "stdout",
     "output_type": "stream",
     "text": [
      "Michael 95\n",
      "Bob 75\n",
      "Tracy 85\n"
     ]
    }
   ],
   "source": [
    "#items\n",
    "sons = grades.items()\n",
    "for name, grade in sons:\n",
    "    print(name, grade)"
   ]
  },
  {
   "cell_type": "markdown",
   "metadata": {},
   "source": [
    "### 1.6 集合set\n",
    "要创建一个set，有两种方法:\n",
    "- 先建空集合\n",
    "- 或者将list转换为集合"
   ]
  },
  {
   "cell_type": "code",
   "execution_count": 77,
   "metadata": {},
   "outputs": [
    {
     "data": {
      "text/plain": [
       "{'a', 'b', 'c'}"
      ]
     },
     "execution_count": 77,
     "metadata": {},
     "output_type": "execute_result"
    }
   ],
   "source": [
    "s = set(['c' ,'a', 'b', 'c', 'a'])\n",
    "s"
   ]
  },
  {
   "cell_type": "markdown",
   "metadata": {},
   "source": [
    "通过add()方法可以向集合中添加元素。注意，向集合中添加 ``已有的元素``， 集合没有变化。\n",
    "\n",
    "向集合中添加 ``新的元素``， 集合发生变化。"
   ]
  },
  {
   "cell_type": "code",
   "execution_count": 78,
   "metadata": {},
   "outputs": [
    {
     "data": {
      "text/plain": [
       "{2, 4, 5, 7, 9, 100}"
      ]
     },
     "execution_count": 78,
     "metadata": {},
     "output_type": "execute_result"
    }
   ],
   "source": [
    "numbers = set([5,4,7,9,2])\n",
    "numbers.add(100)\n",
    "numbers"
   ]
  },
  {
   "cell_type": "code",
   "execution_count": 79,
   "metadata": {},
   "outputs": [
    {
     "data": {
      "text/plain": [
       "{2, 4, 5, 7, 9, 100}"
      ]
     },
     "execution_count": 79,
     "metadata": {},
     "output_type": "execute_result"
    }
   ],
   "source": [
    "#向集合中添加已有的元素，集合没有变化\n",
    "numbers.add(5)\n",
    "numbers"
   ]
  },
  {
   "cell_type": "markdown",
   "metadata": {},
   "source": [
    "## 二、语句 \n",
    "\n",
    "- 条件语句（if-else  if-elif-else）\n",
    "- 循环语句（for、while）\n",
    "- 异常处理语句try-except\n",
    "\n",
    "### 2.1 条件语句\n",
    "#### 2.1.1简单的if\n",
    "\n",
    "```python\n",
    "if condition:\n",
    "    dosomething\n",
    "```\n",
    "\n",
    "``condition`` 为True时，执行 ``dosomething``\n",
    "\n",
    "输入用户年龄，根据年龄打印不同的内容"
   ]
  },
  {
   "cell_type": "code",
   "execution_count": 2,
   "metadata": {},
   "outputs": [],
   "source": [
    "age = 17\n",
    "if age >= 18:\n",
    "    print('your age is', age)\n",
    "    print('adult')"
   ]
  },
  {
   "cell_type": "markdown",
   "metadata": {},
   "source": [
    "#### 2.1.2 if-else\n",
    "根据Python的缩进规则，如果if语句判断是True，就把缩进的两行print语句执行了，否则，什么也不做。\n",
    "\n",
    "也可以给if添加一个else语句，意思是，如果if判断是False，不要执行if的内容，去把else执行了："
   ]
  },
  {
   "cell_type": "code",
   "execution_count": 3,
   "metadata": {},
   "outputs": [
    {
     "name": "stdout",
     "output_type": "stream",
     "text": [
      "your age is 3\n",
      "teenager\n"
     ]
    }
   ],
   "source": [
    "age = 3\n",
    "if age >= 18:\n",
    "    print('your age is', age)\n",
    "    print('adult')\n",
    "else:\n",
    "    print('your age is', age)\n",
    "    print('teenager')"
   ]
  },
  {
   "cell_type": "markdown",
   "metadata": {},
   "source": [
    "**注意不要少写了冒号:**。\n",
    "\n",
    "#### 2.1.3 if-elif-else\n",
    "当然上面的判断是很粗略的，完全可以用elif做更细致的判断："
   ]
  },
  {
   "cell_type": "code",
   "execution_count": 4,
   "metadata": {},
   "outputs": [
    {
     "name": "stdout",
     "output_type": "stream",
     "text": [
      "your age is 20\n",
      "adult\n"
     ]
    }
   ],
   "source": [
    "age = 20\n",
    "\n",
    "if 0<=age <= 3:\n",
    "    print('your age is', age)\n",
    "    print('baby')\n",
    "elif 3<age<18:\n",
    "    print('your age is', age)\n",
    "    print('teenager')\n",
    "else:\n",
    "    print('your age is', age)\n",
    "    print('adult')"
   ]
  },
  {
   "cell_type": "markdown",
   "metadata": {},
   "source": [
    "#### 2.1.4  注意\n",
    "\n",
    "```python\n",
    "if condition:\n",
    "    dosomeding\n",
    "```\n",
    "\n",
    "注意：``None、[]、''、0``与False功效几乎完全等同！\n",
    "\n",
    "如果condition为``None、[]、''、0、False``，dosomething是不执行的！"
   ]
  },
  {
   "cell_type": "code",
   "execution_count": 8,
   "metadata": {},
   "outputs": [
    {
     "name": "stdout",
     "output_type": "stream",
     "text": [
      "执行else语句的命令\n"
     ]
    }
   ],
   "source": [
    "if '':\n",
    "    print('执行if语句内的命令')\n",
    "else:\n",
    "    print('执行else语句的命令')"
   ]
  },
  {
   "cell_type": "code",
   "execution_count": 9,
   "metadata": {},
   "outputs": [
    {
     "name": "stdout",
     "output_type": "stream",
     "text": [
      "执行if语句内的命令\n"
     ]
    }
   ],
   "source": [
    "if 'sss':\n",
    "    print('执行if语句内的命令')\n",
    "else:\n",
    "    print('执行else语句的命令')"
   ]
  },
  {
   "cell_type": "code",
   "execution_count": 10,
   "metadata": {},
   "outputs": [
    {
     "name": "stdout",
     "output_type": "stream",
     "text": [
      "执行if语句的命令\n"
     ]
    }
   ],
   "source": [
    "if {'a':1}:\n",
    "    print(\"执行if语句的命令\")\n",
    "else:\n",
    "    print('执行else语句的命令')"
   ]
  },
  {
   "cell_type": "markdown",
   "metadata": {},
   "source": [
    "### 2.2 循环\n",
    "#### 2.2.1 for循环语句\n",
    "要计算1+2+3+4+。。。+10,我们可能逐个码入加总。但是假如要计算``[1,100]``，可能逐个码入变得不经济。这时候需要使用for循环\n",
    "\n",
    "常用的for循环有两种作用：\n",
    "\n",
    "- 依次把list或tuple中的每个元素迭代出来,没有多余的操作\n",
    "- 把每个元素代入变量x（此处的x可以起任意名），然后执行代码块内的语句"
   ]
  },
  {
   "cell_type": "markdown",
   "metadata": {},
   "source": [
    "**迭代出来**"
   ]
  },
  {
   "cell_type": "code",
   "execution_count": 11,
   "metadata": {},
   "outputs": [
    {
     "name": "stdout",
     "output_type": "stream",
     "text": [
      "Michael\n",
      "Bob\n",
      "Tracy\n"
     ]
    }
   ],
   "source": [
    "#迭代功能\n",
    "names = ['Michael', 'Bob', 'Tracy']\n",
    "for name in names:\n",
    "    print(name)"
   ]
  },
  {
   "cell_type": "markdown",
   "metadata": {},
   "source": [
    "进行一定目的或逻辑的for循环"
   ]
  },
  {
   "cell_type": "code",
   "execution_count": 12,
   "metadata": {},
   "outputs": [
    {
     "data": {
      "text/plain": [
       "5050"
      ]
     },
     "execution_count": 12,
     "metadata": {},
     "output_type": "execute_result"
    }
   ],
   "source": [
    "#进行一定目的或逻辑的for循环\n",
    "result = 0\n",
    "for i in range(1, 101):\n",
    "    result = result + i  \n",
    "result"
   ]
  },
  {
   "cell_type": "markdown",
   "metadata": {},
   "source": [
    "**字典的for循环**"
   ]
  },
  {
   "cell_type": "code",
   "execution_count": 18,
   "metadata": {},
   "outputs": [
    {
     "name": "stdout",
     "output_type": "stream",
     "text": [
      "Michael 95\n",
      "Bob 75\n",
      "Tracy 85\n"
     ]
    }
   ],
   "source": [
    "grades = {'Michael': 95, \n",
    "          'Bob': 75, \n",
    "          'Tracy': 85}\n",
    "\n",
    "for name, grde in grades.items():\n",
    "    print(name, grde)"
   ]
  },
  {
   "cell_type": "markdown",
   "metadata": {},
   "source": [
    "#### 2.2.2 while循环\n",
    "只要条件满足，就不断循环，条件不满足时退出循环"
   ]
  },
  {
   "cell_type": "code",
   "execution_count": 19,
   "metadata": {},
   "outputs": [
    {
     "name": "stdout",
     "output_type": "stream",
     "text": [
      "1\n",
      "2\n",
      "3\n",
      "4\n",
      "5\n",
      "END\n"
     ]
    }
   ],
   "source": [
    "n = 1\n",
    "while n <= 5:\n",
    "    print(n)\n",
    "    n = n + 1\n",
    "print('END')"
   ]
  },
  {
   "cell_type": "markdown",
   "metadata": {},
   "source": [
    "#### 2.2.3 break\n",
    "break的作用是提前结束循环。"
   ]
  },
  {
   "cell_type": "code",
   "execution_count": 23,
   "metadata": {},
   "outputs": [
    {
     "name": "stdout",
     "output_type": "stream",
     "text": [
      "2\n",
      "3\n",
      "4\n",
      "5\n",
      "END\n"
     ]
    }
   ],
   "source": [
    "n = 1\n",
    "while n <= 20:\n",
    "    n = n + 1\n",
    "    if n > 5: # 当n = 6时，条件满足，执行break语句\n",
    "        break # break语句会结束当前循环\n",
    "    print(n)\n",
    "    \n",
    "    \n",
    "print('END')   "
   ]
  },
  {
   "cell_type": "code",
   "execution_count": 27,
   "metadata": {},
   "outputs": [
    {
     "name": "stdout",
     "output_type": "stream",
     "text": [
      "5\n",
      "6\n",
      "7\n",
      "8\n",
      "9\n",
      "10\n",
      "11\n",
      "12\n",
      "13\n",
      "14\n",
      "15\n",
      "16\n",
      "17\n",
      "18\n",
      "19\n",
      "20\n",
      "21\n"
     ]
    }
   ],
   "source": [
    "n = 1\n",
    "while n <= 20:\n",
    "    n = n + 1\n",
    "    if n < 5: # 当n 小于5时跳出这次循环，继续执行后面的循环。所以1234都没打印，但是5之后的数字都打印了\n",
    "        continue# break语句会结束当前循环\n",
    "    print(n)"
   ]
  },
  {
   "cell_type": "markdown",
   "metadata": {},
   "source": [
    "#### 2.2.4 continue\n",
    "跳过当前的这次循环，继续执行后面的循环"
   ]
  },
  {
   "cell_type": "code",
   "execution_count": 27,
   "metadata": {},
   "outputs": [
    {
     "name": "stdout",
     "output_type": "stream",
     "text": [
      "1\n",
      "3\n",
      "5\n",
      "7\n",
      "9\n",
      "11\n",
      "13\n",
      "15\n",
      "17\n",
      "19\n"
     ]
    }
   ],
   "source": [
    "n = 0\n",
    "\n",
    "while n < 20:\n",
    "    n = n + 1\n",
    "    if n % 2 == 0: # 如果n是偶数，执行continue语句\n",
    "        continue # continue语句会直接继续下一轮循环，后续的print()语句不会执行\n",
    "    print(n)"
   ]
  },
  {
   "cell_type": "markdown",
   "metadata": {},
   "source": [
    "**break和continue总结**\n",
    "- break语句可以在循环过程中直接退出循环， **直接终结程序**\n",
    "- continue语句可以提前结束本轮循环，并直接开始下一轮循环。 **继续后面的执行**\n",
    "- 这两个 **关键词** 通常都必须配合if语句使用。"
   ]
  },
  {
   "cell_type": "markdown",
   "metadata": {},
   "source": [
    "#### 2.2.5 迭代\n",
    "可以直接作用于for循环的数据类型有以下几种：\n",
    "\n",
    "- 一类是集合数据类型，如list、tuple、dict、set、str等；\n",
    "\n",
    "- 另一类是generator（进阶知识，绝大多数场景用不到，除非为了提升运算效率）\n",
    "\n",
    "这些可以直接作用于for循环的对象统称为  **可迭代对象：Iterable**。"
   ]
  },
  {
   "cell_type": "markdown",
   "metadata": {},
   "source": [
    "### 2.3 让程序更强壮 （try-except）\n",
    "如果代码中遇到 **错误Error** ，那么程序会在 **错误** 所在的代码行停止。而错误后面的代码将无法执行。"
   ]
  },
  {
   "cell_type": "code",
   "execution_count": 28,
   "metadata": {},
   "outputs": [
    {
     "name": "stdout",
     "output_type": "stream",
     "text": [
      "10 3 3.3333333333333335\n",
      "10 4 2.5\n",
      "10 5 2.0\n",
      "10 2 5.0\n"
     ]
    },
    {
     "ename": "ZeroDivisionError",
     "evalue": "division by zero",
     "output_type": "error",
     "traceback": [
      "\u001b[0;31m---------------------------------------------------------------------------\u001b[0m",
      "\u001b[0;31mZeroDivisionError\u001b[0m                         Traceback (most recent call last)",
      "\u001b[0;32m<ipython-input-28-7a76035dfc42>\u001b[0m in \u001b[0;36m<module>\u001b[0;34m\u001b[0m\n\u001b[1;32m      2\u001b[0m \u001b[0mnums\u001b[0m \u001b[0;34m=\u001b[0m \u001b[0;34m[\u001b[0m\u001b[0;36m3\u001b[0m\u001b[0;34m,\u001b[0m\u001b[0;36m4\u001b[0m\u001b[0;34m,\u001b[0m\u001b[0;36m5\u001b[0m\u001b[0;34m,\u001b[0m\u001b[0;36m2\u001b[0m\u001b[0;34m,\u001b[0m\u001b[0;36m0\u001b[0m\u001b[0;34m,\u001b[0m\u001b[0;36m1\u001b[0m\u001b[0;34m,\u001b[0m\u001b[0;36m7\u001b[0m\u001b[0;34m,\u001b[0m\u001b[0;36m8\u001b[0m\u001b[0;34m]\u001b[0m\u001b[0;34m\u001b[0m\u001b[0;34m\u001b[0m\u001b[0m\n\u001b[1;32m      3\u001b[0m \u001b[0;32mfor\u001b[0m \u001b[0mb\u001b[0m \u001b[0;32min\u001b[0m \u001b[0mnums\u001b[0m\u001b[0;34m:\u001b[0m\u001b[0;34m\u001b[0m\u001b[0;34m\u001b[0m\u001b[0m\n\u001b[0;32m----> 4\u001b[0;31m     \u001b[0mprint\u001b[0m\u001b[0;34m(\u001b[0m\u001b[0ma\u001b[0m\u001b[0;34m,\u001b[0m \u001b[0mb\u001b[0m\u001b[0;34m,\u001b[0m \u001b[0ma\u001b[0m\u001b[0;34m/\u001b[0m\u001b[0mb\u001b[0m\u001b[0;34m)\u001b[0m\u001b[0;34m\u001b[0m\u001b[0;34m\u001b[0m\u001b[0m\n\u001b[0m",
      "\u001b[0;31mZeroDivisionError\u001b[0m: division by zero"
     ]
    }
   ],
   "source": [
    "a = 10\n",
    "nums = [3,4,5,2,0,1,7,8]\n",
    "for b in nums:\n",
    "    try:\n",
    "        print(a, b, a/b)\n",
    "    exc"
   ]
  },
  {
   "cell_type": "markdown",
   "metadata": {},
   "source": [
    "有时候我们想忽略这个错误，继续执行后面的代码。"
   ]
  },
  {
   "cell_type": "code",
   "execution_count": 18,
   "metadata": {
    "collapsed": true
   },
   "outputs": [
    {
     "name": "stdout",
     "output_type": "stream",
     "text": [
      "10/3= 3.3333333333333335\n",
      "10/4= 2.5\n",
      "10/5= 2.0\n",
      "10/2= 5.0\n",
      "10/1= 10.0\n",
      "10/7= 1.4285714285714286\n",
      "10/8= 1.25\n"
     ]
    }
   ],
   "source": [
    "a = 10\n",
    "nums = [3,4,5,2,0,1,7,8]\n",
    "for b in nums:\n",
    "    try:\n",
    "        print(a, b, a/b)\n",
    "    except:\n",
    "        continue"
   ]
  },
  {
   "cell_type": "markdown",
   "metadata": {},
   "source": [
    "## 三、高级语法知识\n",
    "\n",
    "- 切片\n",
    "- 列表生成式\n",
    "- 函数\n",
    "- 库"
   ]
  },
  {
   "cell_type": "markdown",
   "metadata": {},
   "source": [
    "### 3.1 切片\n",
    "读取一个list或str的部分元素是非常常见的操作，这种操作被称为**切片**。\n",
    "\n",
    "**切片语法：**\n",
    "- 使用 **方括号、起点、冒号、终点** 共同选取list、str、tuple中需要的部分\n",
    "- 正数 表示从 **左边第一个元素** 开始计算\n",
    "- 负数 表示从 **右边第一个元素** 开始计算\n",
    "- 左闭，右开（即取不到最右边的那个值）\n",
    "- ``[:]`` 全部选中\n",
    "- 索引值超出字符串长度范围，报错 ``IndexError: string index out of range``"
   ]
  },
  {
   "cell_type": "markdown",
   "metadata": {},
   "source": [
    "**注意**\n",
    "当索引超出了范围时，Python会报一个 **IndexError** 错误，所以，要确保索引不要越界，记得最后一个元素的索引是len(classmates) - 1"
   ]
  },
  {
   "cell_type": "markdown",
   "metadata": {},
   "source": [
    "#### 3.1.1 列表切片操作"
   ]
  },
  {
   "cell_type": "code",
   "execution_count": 1,
   "metadata": {},
   "outputs": [
    {
     "name": "stdout",
     "output_type": "stream",
     "text": [
      "Michael\n"
     ]
    }
   ],
   "source": [
    "classmates = ['Michael', 'Bob', 'Tracy']\n",
    "\n",
    "#获取classmates中第一个同学\n",
    "print(classmates[0])"
   ]
  },
  {
   "cell_type": "code",
   "execution_count": 2,
   "metadata": {},
   "outputs": [
    {
     "name": "stdout",
     "output_type": "stream",
     "text": [
      "Tracy\n"
     ]
    }
   ],
   "source": [
    "#获取classmates中最后一个同学\n",
    "print(classmates[-1])"
   ]
  },
  {
   "cell_type": "code",
   "execution_count": 11,
   "metadata": {},
   "outputs": [
    {
     "name": "stdout",
     "output_type": "stream",
     "text": [
      "['Michael', 'Bob', 'Tracy', 'ssss']\n",
      "['Michael', 'Bob', 'Tracy', 'ssss']\n"
     ]
    }
   ],
   "source": [
    "#获取classmates中前两个同学\n",
    "classmates = ['Michael', 'Bob', 'Tracy', 'ssss','aaaa']\n",
    "print(classmates[0:4])\n",
    "print(classmates[:4])"
   ]
  },
  {
   "cell_type": "code",
   "execution_count": 14,
   "metadata": {},
   "outputs": [
    {
     "name": "stdout",
     "output_type": "stream",
     "text": [
      "['Bob', 'Tracy', 'ssss', 'aaaa']\n",
      "['Bob', 'Tracy', 'ssss', 'aaaa']\n"
     ]
    }
   ],
   "source": [
    "#获取classmates中最后两个同学\n",
    "classmates = ['Michael', 'Bob', 'Tracy', 'ssss','aaaa']\n",
    "print(classmates[1:])\n",
    "#print(classmates[1:5])"
   ]
  },
  {
   "cell_type": "code",
   "execution_count": 15,
   "metadata": {},
   "outputs": [
    {
     "name": "stdout",
     "output_type": "stream",
     "text": [
      "Michael\n"
     ]
    },
    {
     "ename": "IndexError",
     "evalue": "list index out of range",
     "output_type": "error",
     "traceback": [
      "\u001b[0;31m---------------------------------------------------------------------------\u001b[0m",
      "\u001b[0;31mIndexError\u001b[0m                                Traceback (most recent call last)",
      "\u001b[0;32m<ipython-input-15-207fb94dfd2c>\u001b[0m in \u001b[0;36m<module>\u001b[0;34m\u001b[0m\n\u001b[1;32m     10\u001b[0m \u001b[0;34m\u001b[0m\u001b[0m\n\u001b[1;32m     11\u001b[0m \u001b[0;31m#超出索引值范围，报错\u001b[0m\u001b[0;34m\u001b[0m\u001b[0;34m\u001b[0m\u001b[0;34m\u001b[0m\u001b[0m\n\u001b[0;32m---> 12\u001b[0;31m \u001b[0mprint\u001b[0m\u001b[0;34m(\u001b[0m\u001b[0mclassmates\u001b[0m\u001b[0;34m[\u001b[0m\u001b[0;36m4\u001b[0m\u001b[0;34m]\u001b[0m\u001b[0;34m)\u001b[0m\u001b[0;34m\u001b[0m\u001b[0;34m\u001b[0m\u001b[0m\n\u001b[0m",
      "\u001b[0;31mIndexError\u001b[0m: list index out of range"
     ]
    }
   ],
   "source": [
    "classmates = ['Michael', 'Bob', 'Tracy']\n",
    "\n",
    "#获取classmates中第一个同学\n",
    "print(classmates[0])\n",
    "\n",
    "\n",
    "\n",
    "#全部选中所有的元素\n",
    "#print(classmates[:])\n",
    "\n",
    "#超出索引值范围，报错\n",
    "print(classmates[4])"
   ]
  },
  {
   "cell_type": "markdown",
   "metadata": {},
   "source": [
    "### 3.1.2 字符串切片"
   ]
  },
  {
   "cell_type": "code",
   "execution_count": 17,
   "metadata": {},
   "outputs": [
    {
     "name": "stdout",
     "output_type": "stream",
     "text": [
      "张三\n"
     ]
    }
   ],
   "source": [
    "describption = '我叫张三，来自美国'\n",
    "#获取姓名\n",
    "print(describption[2:4])"
   ]
  },
  {
   "cell_type": "code",
   "execution_count": 18,
   "metadata": {},
   "outputs": [
    {
     "name": "stdout",
     "output_type": "stream",
     "text": [
      "美国\n"
     ]
    }
   ],
   "source": [
    "#获取国籍信息\n",
    "print(describption[7:9])"
   ]
  },
  {
   "cell_type": "code",
   "execution_count": 10,
   "metadata": {
    "collapsed": true
   },
   "outputs": [
    {
     "name": "stdout",
     "output_type": "stream",
     "text": [
      "美国\n"
     ]
    }
   ],
   "source": [
    "#另外一种表达方法\n",
    "print(describption[-2:])"
   ]
  },
  {
   "cell_type": "code",
   "execution_count": 12,
   "metadata": {
    "collapsed": true
   },
   "outputs": [
    {
     "data": {
      "text/plain": [
       "'简化'"
      ]
     },
     "execution_count": 12,
     "metadata": {},
     "output_type": "execute_result"
    }
   ],
   "source": [
    "aaa = '列表生成式可以简化代码语句'\n",
    "\n",
    "aaa[7:9]"
   ]
  },
  {
   "cell_type": "markdown",
   "metadata": {},
   "source": [
    "### 3.2 列表生成式\n",
    "列表生成式可以简化代码语句，使代码更具有可读性。\n",
    "\n",
    "例如我们想生成1到10步长为1的序列，并对该序列中每个元素求平方，得到新的序列。"
   ]
  },
  {
   "cell_type": "code",
   "execution_count": 19,
   "metadata": {},
   "outputs": [
    {
     "data": {
      "text/plain": [
       "[1, 4, 9, 16, 25, 36, 49, 64, 81, 100]"
      ]
     },
     "execution_count": 19,
     "metadata": {},
     "output_type": "execute_result"
    }
   ],
   "source": [
    "L = []\n",
    "\n",
    "for x in range(1, 11):\n",
    "    L.append(x * x)\n",
    "L"
   ]
  },
  {
   "cell_type": "code",
   "execution_count": 20,
   "metadata": {},
   "outputs": [
    {
     "data": {
      "text/plain": [
       "[1, 4, 9, 16, 25, 36, 49, 64, 81, 100]"
      ]
     },
     "execution_count": 20,
     "metadata": {},
     "output_type": "execute_result"
    }
   ],
   "source": [
    "[x*x \n",
    " for x in range(1, 11)]"
   ]
  },
  {
   "cell_type": "code",
   "execution_count": 21,
   "metadata": {},
   "outputs": [
    {
     "data": {
      "text/plain": [
       "[1, 9, 25, 49, 81]"
      ]
     },
     "execution_count": 21,
     "metadata": {},
     "output_type": "execute_result"
    }
   ],
   "source": [
    "#只对奇数操作\n",
    "L = []\n",
    "for x in range(1, 11):\n",
    "    if x%2==1:\n",
    "        L.append(x * x)\n",
    "L"
   ]
  },
  {
   "cell_type": "code",
   "execution_count": 22,
   "metadata": {},
   "outputs": [
    {
     "data": {
      "text/plain": [
       "[1, 9, 25, 49, 81]"
      ]
     },
     "execution_count": 22,
     "metadata": {},
     "output_type": "execute_result"
    }
   ],
   "source": [
    "[x*x for x in range(1,11) if x%2==1]"
   ]
  },
  {
   "cell_type": "code",
   "execution_count": 26,
   "metadata": {},
   "outputs": [
    {
     "data": {
      "text/plain": [
       "['xA', 'yB', 'zC']"
      ]
     },
     "execution_count": 26,
     "metadata": {},
     "output_type": "execute_result"
    }
   ],
   "source": [
    "d = {'x': 'A', \n",
    "     'y': 'B', \n",
    "     'z': 'C' }\n",
    "\n",
    "[kk+vv for kk, vv in d.items()]"
   ]
  },
  {
   "cell_type": "code",
   "execution_count": 27,
   "metadata": {},
   "outputs": [
    {
     "data": {
      "text/plain": [
       "['hello', 'world', 'ibm', 'apple']"
      ]
     },
     "execution_count": 27,
     "metadata": {},
     "output_type": "execute_result"
    }
   ],
   "source": [
    "words = ['Hello', 'World', 'IBM', 'Apple']\n",
    "[word.lower() for word in words]"
   ]
  },
  {
   "cell_type": "markdown",
   "metadata": {},
   "source": [
    "### 3.3 函数\n",
    "#### 3.3.1定义函数\n",
    "使用def语句，依次写出函数名、括号、括号中的参数和冒号:，\n",
    "\n",
    "然后，在缩进块中编写函数体，函数的返回值用return语句返回。\n",
    "\n",
    "```python\n",
    "def function(param):\n",
    "    dosomething\n",
    "    return something\n",
    "    \n",
    "```\n",
    "\n",
    "例如定义一个求绝对数的函数my\\_abs()\n",
    "\n",
    "\n"
   ]
  },
  {
   "cell_type": "code",
   "execution_count": 28,
   "metadata": {},
   "outputs": [
    {
     "data": {
      "text/plain": [
       "100"
      ]
     },
     "execution_count": 28,
     "metadata": {},
     "output_type": "execute_result"
    }
   ],
   "source": [
    "def my_abs(x):\n",
    "    if x >= 0:\n",
    "        return x\n",
    "    else:\n",
    "        return -x\n",
    "    \n",
    "my_abs(-100)"
   ]
  },
  {
   "cell_type": "code",
   "execution_count": 31,
   "metadata": {},
   "outputs": [
    {
     "name": "stdout",
     "output_type": "stream",
     "text": [
      "None\n",
      "None\n",
      "(1, 4)\n"
     ]
    }
   ],
   "source": [
    "def returnNone_1(x):\n",
    "    pass\n",
    "\n",
    "def returnNone_2(x):\n",
    "    return None\n",
    "\n",
    "def return_muti_result(x):\n",
    "    return x[0], x[-1]\n",
    "\n",
    "\n",
    "print(returnNone_1(5))\n",
    "print(returnNone_2(5))\n",
    "print(return_muti_result([1,2,3,4]))\n"
   ]
  },
  {
   "cell_type": "code",
   "execution_count": 26,
   "metadata": {},
   "outputs": [
    {
     "data": {
      "text/plain": [
       "(1, 4)"
      ]
     },
     "execution_count": 26,
     "metadata": {},
     "output_type": "execute_result"
    }
   ],
   "source": [
    "def return_muti_result(x):\n",
    "    return x[0], x[-1]\n",
    "\n",
    "return_muti_result([1,2,3,4])"
   ]
  },
  {
   "cell_type": "markdown",
   "metadata": {},
   "source": [
    "**函数总结**\n",
    "\n",
    "- 定义函数时，需要确定 **函数名** 和 **参数**；\n",
    "- 函数体内部可以用 **return返回函数结果** ；\n",
    "- 函数执行完毕 **没有return语句** 时，函数自动return None。\n",
    "- 函数可以同时 **返回多个值**， 其实就是一个 **tuple类型数据**。"
   ]
  },
  {
   "cell_type": "markdown",
   "metadata": {},
   "source": [
    "#### 3.3.2 常用的Python内置函数\n",
    "- **help()** 查看帮助文档，传入的参数可以是函数名、类名等\n",
    "- **print()** 打印\n",
    "- **range(start, end, step)**  生成从start到end，步长为step的序列\n",
    "- **len()** 计算数据的长度（容量）\n",
    "- **min()/max()/sum()** 对元素为数字的列表进行操作\n",
    "- **type()** 查看某个变量的类型\n",
    "- **enumerate()** 列表索引操作\n",
    "- **sorted()** 对列表数据进行排序；reverse参数：布尔值True（False） 负责排序的方向；\n",
    "- **open(file, mode, encoding)** 重点讲讲读取对文件进行读写操作，\n",
    "\n",
    "mode参数有 **'r'、'w'、'a+'** 等，分别表示只读、只写、追加。encoding常用的编码方式为 **utf-8、gbk、gb2312** 等。\n",
    "\n",
    "现在挨个试试"
   ]
  },
  {
   "cell_type": "code",
   "execution_count": 33,
   "metadata": {},
   "outputs": [
    {
     "data": {
      "text/plain": [
       "[1, 6, 11, 16]"
      ]
     },
     "execution_count": 33,
     "metadata": {},
     "output_type": "execute_result"
    }
   ],
   "source": [
    "list(range(1, 20, 5))"
   ]
  },
  {
   "cell_type": "code",
   "execution_count": 34,
   "metadata": {},
   "outputs": [
    {
     "data": {
      "text/plain": [
       "8"
      ]
     },
     "execution_count": 34,
     "metadata": {},
     "output_type": "execute_result"
    }
   ],
   "source": [
    "len('123ddddd')"
   ]
  },
  {
   "cell_type": "code",
   "execution_count": 35,
   "metadata": {},
   "outputs": [
    {
     "data": {
      "text/plain": [
       "9"
      ]
     },
     "execution_count": 35,
     "metadata": {},
     "output_type": "execute_result"
    }
   ],
   "source": [
    "max([1,2,9,4])"
   ]
  },
  {
   "cell_type": "code",
   "execution_count": 1,
   "metadata": {},
   "outputs": [
    {
     "name": "stdout",
     "output_type": "stream",
     "text": [
      "张三\n",
      "李四\n",
      "王五\n"
     ]
    }
   ],
   "source": [
    "for name in ['张三', '李四', '王五']:\n",
    "    print(name)"
   ]
  },
  {
   "cell_type": "code",
   "execution_count": 37,
   "metadata": {},
   "outputs": [
    {
     "name": "stdout",
     "output_type": "stream",
     "text": [
      "0 张三\n",
      "1 李四\n",
      "2 王五\n"
     ]
    }
   ],
   "source": [
    "for idx, name in enumerate(['张三', '李四', '王五']):\n",
    "    print(idx, name)"
   ]
  },
  {
   "cell_type": "code",
   "execution_count": 39,
   "metadata": {},
   "outputs": [
    {
     "data": {
      "text/plain": [
       "[(0, '张三'), (1, '李四'), (2, '王五')]"
      ]
     },
     "execution_count": 39,
     "metadata": {},
     "output_type": "execute_result"
    }
   ],
   "source": [
    "list(enumerate(['张三', '李四', '王五']))"
   ]
  },
  {
   "cell_type": "code",
   "execution_count": 42,
   "metadata": {},
   "outputs": [
    {
     "data": {
      "text/plain": [
       "[20, 11, 10, 6]"
      ]
     },
     "execution_count": 42,
     "metadata": {},
     "output_type": "execute_result"
    }
   ],
   "source": [
    "#reverse参数：布尔值True（False） 负责排序的方向；\n",
    "sorted([10,20,11,6], reverse=True)"
   ]
  },
  {
   "cell_type": "code",
   "execution_count": 9,
   "metadata": {},
   "outputs": [
    {
     "data": {
      "text/plain": [
       "['a', 's', 'b', 'g', 'd']"
      ]
     },
     "execution_count": 9,
     "metadata": {},
     "output_type": "execute_result"
    }
   ],
   "source": [
    "'a s b g d'.split(' ')"
   ]
  },
  {
   "cell_type": "code",
   "execution_count": 10,
   "metadata": {},
   "outputs": [
    {
     "data": {
      "text/plain": [
       "['a s ', ' g d']"
      ]
     },
     "execution_count": 10,
     "metadata": {},
     "output_type": "execute_result"
    }
   ],
   "source": [
    "'a s b g d'.split('b')"
   ]
  },
  {
   "cell_type": "code",
   "execution_count": 18,
   "metadata": {
    "collapsed": true
   },
   "outputs": [
    {
     "name": "stdout",
     "output_type": "stream",
     "text": [
      "Help on class list in module builtins:\n",
      "\n",
      "class list(object)\n",
      " |  list(iterable=(), /)\n",
      " |  \n",
      " |  Built-in mutable sequence.\n",
      " |  \n",
      " |  If no argument is given, the constructor creates a new empty list.\n",
      " |  The argument must be an iterable if specified.\n",
      " |  \n",
      " |  Methods defined here:\n",
      " |  \n",
      " |  __add__(self, value, /)\n",
      " |      Return self+value.\n",
      " |  \n",
      " |  __contains__(self, key, /)\n",
      " |      Return key in self.\n",
      " |  \n",
      " |  __delitem__(self, key, /)\n",
      " |      Delete self[key].\n",
      " |  \n",
      " |  __eq__(self, value, /)\n",
      " |      Return self==value.\n",
      " |  \n",
      " |  __ge__(self, value, /)\n",
      " |      Return self>=value.\n",
      " |  \n",
      " |  __getattribute__(self, name, /)\n",
      " |      Return getattr(self, name).\n",
      " |  \n",
      " |  __getitem__(...)\n",
      " |      x.__getitem__(y) <==> x[y]\n",
      " |  \n",
      " |  __gt__(self, value, /)\n",
      " |      Return self>value.\n",
      " |  \n",
      " |  __iadd__(self, value, /)\n",
      " |      Implement self+=value.\n",
      " |  \n",
      " |  __imul__(self, value, /)\n",
      " |      Implement self*=value.\n",
      " |  \n",
      " |  __init__(self, /, *args, **kwargs)\n",
      " |      Initialize self.  See help(type(self)) for accurate signature.\n",
      " |  \n",
      " |  __iter__(self, /)\n",
      " |      Implement iter(self).\n",
      " |  \n",
      " |  __le__(self, value, /)\n",
      " |      Return self<=value.\n",
      " |  \n",
      " |  __len__(self, /)\n",
      " |      Return len(self).\n",
      " |  \n",
      " |  __lt__(self, value, /)\n",
      " |      Return self<value.\n",
      " |  \n",
      " |  __mul__(self, value, /)\n",
      " |      Return self*value.\n",
      " |  \n",
      " |  __ne__(self, value, /)\n",
      " |      Return self!=value.\n",
      " |  \n",
      " |  __repr__(self, /)\n",
      " |      Return repr(self).\n",
      " |  \n",
      " |  __reversed__(self, /)\n",
      " |      Return a reverse iterator over the list.\n",
      " |  \n",
      " |  __rmul__(self, value, /)\n",
      " |      Return value*self.\n",
      " |  \n",
      " |  __setitem__(self, key, value, /)\n",
      " |      Set self[key] to value.\n",
      " |  \n",
      " |  __sizeof__(self, /)\n",
      " |      Return the size of the list in memory, in bytes.\n",
      " |  \n",
      " |  append(self, object, /)\n",
      " |      Append object to the end of the list.\n",
      " |  \n",
      " |  clear(self, /)\n",
      " |      Remove all items from list.\n",
      " |  \n",
      " |  copy(self, /)\n",
      " |      Return a shallow copy of the list.\n",
      " |  \n",
      " |  count(self, value, /)\n",
      " |      Return number of occurrences of value.\n",
      " |  \n",
      " |  extend(self, iterable, /)\n",
      " |      Extend list by appending elements from the iterable.\n",
      " |  \n",
      " |  index(self, value, start=0, stop=9223372036854775807, /)\n",
      " |      Return first index of value.\n",
      " |      \n",
      " |      Raises ValueError if the value is not present.\n",
      " |  \n",
      " |  insert(self, index, object, /)\n",
      " |      Insert object before index.\n",
      " |  \n",
      " |  pop(self, index=-1, /)\n",
      " |      Remove and return item at index (default last).\n",
      " |      \n",
      " |      Raises IndexError if list is empty or index is out of range.\n",
      " |  \n",
      " |  remove(self, value, /)\n",
      " |      Remove first occurrence of value.\n",
      " |      \n",
      " |      Raises ValueError if the value is not present.\n",
      " |  \n",
      " |  reverse(self, /)\n",
      " |      Reverse *IN PLACE*.\n",
      " |  \n",
      " |  sort(self, /, *, key=None, reverse=False)\n",
      " |      Stable sort *IN PLACE*.\n",
      " |  \n",
      " |  ----------------------------------------------------------------------\n",
      " |  Static methods defined here:\n",
      " |  \n",
      " |  __new__(*args, **kwargs) from builtins.type\n",
      " |      Create and return a new object.  See help(type) for accurate signature.\n",
      " |  \n",
      " |  ----------------------------------------------------------------------\n",
      " |  Data and other attributes defined here:\n",
      " |  \n",
      " |  __hash__ = None\n",
      "\n"
     ]
    }
   ],
   "source": [
    "help(list)\n",
    "\n",
    "#在cell中可以使用  ?list\n",
    "#?list"
   ]
  },
  {
   "cell_type": "code",
   "execution_count": 46,
   "metadata": {},
   "outputs": [
    {
     "data": {
      "text/plain": [
       "True"
      ]
     },
     "execution_count": 46,
     "metadata": {},
     "output_type": "execute_result"
    }
   ],
   "source": [
    "names = ['张三', '李四', '王五']\n",
    "help(names)"
   ]
  },
  {
   "cell_type": "code",
   "execution_count": 48,
   "metadata": {},
   "outputs": [
    {
     "data": {
      "text/plain": [
       "True"
      ]
     },
     "execution_count": 48,
     "metadata": {},
     "output_type": "execute_result"
    }
   ],
   "source": [
    "'张三' in '张三王五'"
   ]
  },
  {
   "cell_type": "markdown",
   "metadata": {},
   "source": [
    "## 4. 读写操作-open()函数\n",
    "可以读csv、txt、html等文件\n",
    "\n",
    "### 4.1读取操作\n",
    "``open(file)``\n",
    "\n",
    "- file:代表文件或者文件路径  "
   ]
  },
  {
   "cell_type": "code",
   "execution_count": 1,
   "metadata": {
    "scrolled": true
   },
   "outputs": [],
   "source": [
    "#mac\n",
    "#open('data/用python做文本分析.txt')\n",
    "\n",
    "#win\n",
    "#open('data\\\\用python做文本分析.txt') "
   ]
  },
  {
   "cell_type": "code",
   "execution_count": 2,
   "metadata": {},
   "outputs": [],
   "source": [
    "#mac\n",
    "#open('data/用python做文本分析.txt').read()\n",
    "\n",
    "#win\n",
    "#open('data\\\\用python做文本分析.txt').read()"
   ]
  },
  {
   "cell_type": "code",
   "execution_count": 5,
   "metadata": {},
   "outputs": [
    {
     "data": {
      "text/plain": [
       "'章节设计\\n\\n第一部分  环境配置\\n第二部分  快速入门python\\n第三部分  网络爬虫\\n第四部分  简单的文本分析\\n第五部分  进阶文本分析'"
      ]
     },
     "execution_count": 5,
     "metadata": {},
     "output_type": "execute_result"
    }
   ],
   "source": [
    "open('test.txt').read()"
   ]
  },
  {
   "cell_type": "markdown",
   "metadata": {},
   "source": [
    "**注意： win/mac路径的写法是不同的**\n",
    "\n",
    "- win： ``\\``\n",
    "- mac :``/``"
   ]
  },
  {
   "cell_type": "markdown",
   "metadata": {},
   "source": [
    "win下的路径会有字符串转义问题，所以需要对``\\``本身进行转义。 ``\\\\``\n",
    "\n",
    "```python\n",
    "open('\\\\Users\\\\suosuo\\\\Desktop\\\\用python做文本分析\\\\用python做文本分析（课件）\\\\02-快速入门Python语法\\\\data\\\\用python做文本分析.txt').read()\n",
    "```\n",
    "\n",
    "win路径 的上面的写法太繁琐了。实际我们可以使用 ``r'字符串'``\n",
    "\n",
    "```\n",
    "open(r'\\Users\\suosuo\\Desktop\\用python做文本分析\\用python做文本分析（课件）\\02-快速入门Python语法\\data\\用python做文本分析.txt').read()\n",
    "```"
   ]
  },
  {
   "cell_type": "markdown",
   "metadata": {},
   "source": [
    "### 4.2 写入操作（新建一个文件）\n",
    "open(file, mode) \n",
    "\n",
    "- mode:a+(append)/w(write)\n",
    "- ``a+`` 追加\n",
    "- ``w``  写"
   ]
  },
  {
   "cell_type": "markdown",
   "metadata": {},
   "source": [
    "**追加保存-open(file, 'a+')**\n",
    "\n",
    "mode = a追加\n",
    "\n",
    "如果没有这个文件，就新建\n",
    "\n",
    "如果有这个文件，就不停的往里面追加\n",
    "\n",
    "**注意：从后面开始代码的路径都是win的写法**"
   ]
  },
  {
   "cell_type": "code",
   "execution_count": 3,
   "metadata": {},
   "outputs": [],
   "source": [
    "f = open('data\\\\test.txt', 'a+')\n",
    "f.write('这是a+模式下的写入操作\\n')\n",
    "f.close()"
   ]
  },
  {
   "cell_type": "code",
   "execution_count": 5,
   "metadata": {},
   "outputs": [],
   "source": [
    "f = open('data\\\\test.txt', 'a+')\n",
    "f.write('a+第二次写入\\n')\n",
    "f.close()"
   ]
  },
  {
   "cell_type": "markdown",
   "metadata": {},
   "source": [
    "**覆盖写入w**"
   ]
  },
  {
   "cell_type": "code",
   "execution_count": 6,
   "metadata": {},
   "outputs": [],
   "source": [
    "wf = open('data\\\\w覆盖写入.txt', 'w')\n",
    "wf.write('w覆盖写第一次')\n",
    "wf.close()"
   ]
  },
  {
   "cell_type": "code",
   "execution_count": 8,
   "metadata": {},
   "outputs": [],
   "source": [
    "wf = open('data/w覆盖写入.txt', 'w')\n",
    "wf.write('w覆盖写第二次')\n",
    "wf.close()"
   ]
  },
  {
   "cell_type": "markdown",
   "metadata": {},
   "source": [
    "## 5. 常用内置库"
   ]
  },
  {
   "cell_type": "markdown",
   "metadata": {},
   "source": [
    "python的库有两种：\n",
    "- 内置库，如os、time、csv、re等\n",
    "- 第三方库，需要先安装才能使用。如jieba、pandas、scikit-learn"
   ]
  },
  {
   "cell_type": "markdown",
   "metadata": {},
   "source": [
    "**第三方库的安装方法**\n",
    "\n",
    "\n",
    "```\n",
    "!pip install 库的名字\n",
    "```\n",
    "\n",
    "或\n",
    "\n",
    "```\n",
    "!pip3 install 库的名字\n",
    "```\n",
    "\n",
    "**解释**\n",
    "\n",
    "苹果电脑中自带着python2.x，所以使用pip对应的是python2，而pip3对应的是python3。\n",
    "\n",
    "在windows电脑中，原始电脑中没有安装python，所以安装python3的用户可以直接使用pip来安装包。"
   ]
  },
  {
   "cell_type": "markdown",
   "metadata": {},
   "source": [
    "**导入库语法**\n",
    "\n",
    "语法1\n",
    "\n",
    "```python\n",
    "import packagename\n",
    "```\n",
    "\n",
    "语法2\n",
    "\n",
    "```python\n",
    "from packagename import somemethod\n",
    "```\n",
    "\n",
    "语法3\n",
    "\n",
    "```python\n",
    "#取别名\n",
    "from packagename import somemethod as smd\n",
    "```\n",
    "\n"
   ]
  },
  {
   "cell_type": "markdown",
   "metadata": {},
   "source": [
    "### 5.1 csv\n",
    "将数据保存到csv中，最常用的库是csv库。常用的写法有以下几种"
   ]
  },
  {
   "cell_type": "code",
   "execution_count": 1,
   "metadata": {},
   "outputs": [],
   "source": [
    "#给csv文件写入一行数据\n",
    "import csv\n",
    "\n",
    "csvf = open('data/csv测试.csv', 'a+', encoding='utf-8', newline='')\n",
    "writer = csv.writer(csvf)\n",
    "\n",
    "line1 = ('张三', '25')\n",
    "writer.writerow(line1)\n",
    "\n",
    "csvf.close()"
   ]
  },
  {
   "cell_type": "code",
   "execution_count": 2,
   "metadata": {},
   "outputs": [],
   "source": [
    "#给csv文件写入多行数据\n",
    "import csv\n",
    "\n",
    "csvf = open('data/csv测试.csv', 'a+', encoding='utf-8')\n",
    "writer = csv.writer(csvf)\n",
    "\n",
    "line1 = ('张三', '25')\n",
    "writer.writerow(line1)\n",
    "line2 = ('李四', '26')\n",
    "writer.writerow(line2)\n",
    "line3 = ('王五', '27')\n",
    "writer.writerow(line3)\n",
    "\n",
    "csvf.close()"
   ]
  },
  {
   "cell_type": "code",
   "execution_count": 5,
   "metadata": {},
   "outputs": [],
   "source": [
    "import csv\n",
    "\n",
    "csvf = open('data/有列名的csv文件.csv', 'a+', encoding='gbk', newline='')\n",
    "writer = csv.writer(csvf)\n",
    "#给csv文件写入抬头\n",
    "header = ('name', 'age')\n",
    "writer.writerow(header)\n",
    "\n",
    "\n",
    "line2 = ('李四', '26')\n",
    "writer.writerow(line2)\n",
    "line3 = ('王五', '27')\n",
    "writer.writerow(line3)\n",
    "\n",
    "csvf.close()"
   ]
  },
  {
   "cell_type": "code",
   "execution_count": 10,
   "metadata": {},
   "outputs": [],
   "source": [
    "#with语句\n",
    "import csv\n",
    "\n",
    "with open('data/with创建csv测试.csv', 'a+', encoding='utf-8', newline='') as csvf:\n",
    "    writer = csv.writer(csvf)\n",
    "    writer.writerow(('name', 'age'))\n",
    "    \n",
    "    writer.writerow(('张三', '25'))\n",
    "    line2 = ('李四', '26')\n",
    "    writer.writerow(line2)\n",
    "    line3 = ('王五', '27')\n",
    "    writer.writerow(line3)"
   ]
  },
  {
   "cell_type": "code",
   "execution_count": 8,
   "metadata": {},
   "outputs": [],
   "source": [
    "# for循环去做重复的写入操作\n",
    "import csv\n",
    "\n",
    "csvf = open('data/for循环写入csv文件.csv', 'a+', encoding='utf-8', newline='')\n",
    "writer = csv.writer(csvf)\n",
    "writer.writerow(('name', 'age'))  #给csv文件写抬头（变量名）\n",
    "\n",
    "nameages = [('张三', '25'), ('李四', '26'), ('王五', '27')]\n",
    "\n",
    "for nameage in nameages:\n",
    "    writer.writerow(nameage)\n",
    "    \n",
    "csvf.close()"
   ]
  },
  {
   "cell_type": "code",
   "execution_count": 9,
   "metadata": {},
   "outputs": [],
   "source": [
    "#方法三：以字典方式写入csv\n",
    "import csv\n",
    "\n",
    "with open('data/Dictdata.csv', 'w') as csvf:\n",
    "    #给csv文件写字段名\n",
    "    fieldnames = ['id', 'name', 'age']\n",
    "    writer = csv.DictWriter(csvf, fieldnames=fieldnames)\n",
    "    writer.writeheader()\n",
    "    \n",
    "    #写入数据\n",
    "    writer.writerow({'id':'1', 'name':'david', 'age':25})\n",
    "    writer.writerow({'id':'2', 'name':'mike', 'age':23})\n",
    "    writer.writerow({'id':'3', 'name':'susan', 'age':27})"
   ]
  },
  {
   "cell_type": "markdown",
   "metadata": {},
   "source": [
    "### 5.2 os\n",
    "os 模块提供了非常丰富的方法用来处理文件（夹）和路径。\n",
    "\n",
    "|常用方法|功能|\n",
    "|---|---|\n",
    "|os.getcwd()|返回当前工作路径（获取当前运行脚本所在的路径）|\n",
    "|os.listdir(path)|获取某个path下的所有文件名|\n",
    "|os.mkdir(path)|基于path创建一个文件夹|"
   ]
  },
  {
   "cell_type": "code",
   "execution_count": 3,
   "metadata": {},
   "outputs": [
    {
     "data": {
      "text/plain": [
       "'/Users/thunderhit/Desktop/十一工作坊/notes/01-Python基础'"
      ]
     },
     "execution_count": 3,
     "metadata": {},
     "output_type": "execute_result"
    }
   ],
   "source": [
    "import os\n",
    "#currentworkdirectory\n",
    "os.getcwd()"
   ]
  },
  {
   "cell_type": "code",
   "execution_count": 4,
   "metadata": {},
   "outputs": [
    {
     "data": {
      "text/plain": [
       "['.DS_Store', '用python做文本分析.txt', 'csv测试.csv']"
      ]
     },
     "execution_count": 4,
     "metadata": {},
     "output_type": "execute_result"
    }
   ],
   "source": [
    "os.listdir('data')"
   ]
  },
  {
   "cell_type": "code",
   "execution_count": 5,
   "metadata": {},
   "outputs": [],
   "source": [
    "#在test文件夹中  新建名字为MKDIR的文件夹\n",
    "os.mkdir('data/MKDIR')"
   ]
  },
  {
   "cell_type": "markdown",
   "metadata": {},
   "source": [
    "**MAC路径样式(/)**\n",
    "\n",
    "'C:/Users/hunderhit/Desktop/02-base/MKDIR'\n",
    "\n",
    "**WINDOWS路径样式(``\\\\``)**\n",
    "- 'C:\\\\Users\\\\thunderhit\\\\Desktop\\\\02-base'\n",
    "- r'C:\\\\Users\\\\thunderhit\\\\Desktop\\\\02-base'"
   ]
  },
  {
   "cell_type": "markdown",
   "metadata": {},
   "source": [
    "### 5.3 time\n",
    "time提供了时间操作，常用的方法有获取时间戳和等待（睡眠）。\n",
    "\n",
    "|常用方法|功能|\n",
    "|---|---|\n",
    "|time.time()|获取当前时间戳|\n",
    "|time.sleep(delay)|程序在该代码行等待（睡眠）delay秒|"
   ]
  },
  {
   "cell_type": "code",
   "execution_count": 14,
   "metadata": {},
   "outputs": [
    {
     "data": {
      "text/plain": [
       "1563334354.409339"
      ]
     },
     "execution_count": 14,
     "metadata": {},
     "output_type": "execute_result"
    }
   ],
   "source": [
    "import time\n",
    "\n",
    "time.time()"
   ]
  },
  {
   "cell_type": "code",
   "execution_count": 15,
   "metadata": {},
   "outputs": [
    {
     "name": "stdout",
     "output_type": "stream",
     "text": [
      "0\n",
      "1\n",
      "2\n",
      "3\n",
      "4\n",
      "5\n",
      "6\n",
      "7\n",
      "8\n",
      "9\n"
     ]
    }
   ],
   "source": [
    "for i in range(10):\n",
    "    print(i)"
   ]
  },
  {
   "cell_type": "code",
   "execution_count": 16,
   "metadata": {},
   "outputs": [
    {
     "name": "stdout",
     "output_type": "stream",
     "text": [
      "0\n",
      "1\n",
      "2\n",
      "3\n",
      "4\n",
      "5\n",
      "6\n",
      "7\n",
      "8\n",
      "9\n"
     ]
    }
   ],
   "source": [
    "#控制节奏\n",
    "import time\n",
    "for i in range(10):\n",
    "    print(i)\n",
    "    time.sleep(1)"
   ]
  },
  {
   "cell_type": "markdown",
   "metadata": {},
   "source": [
    "### 5.4 re库-正则表达式\n",
    "\n",
    "#### 部分正则符号\n",
    "\n",
    "|正则符号|描述|\n",
    "|---|---|\n",
    "|``( )``|标记一个子表达式的开始和结束位置。|\n",
    "|.|\t匹配除换行符 ``\\n`` 之外的任何单字符。要匹配 ``. ``，请使用 ``\\. ``。|\n",
    "|\\*|\t匹配前面的子表达式零次或多次。要匹配 \\* 字符，请使用 ``\\*``。|\n",
    "|?|\t匹配前面的子表达式零次或一次，或指明一个非贪婪限定符。要匹配 \\? 字符，请使用 \\\\?。|\n",
    "|+|匹配前面的子表达式一次或多次。要匹配 ``+ ``字符，请使用 ``\\+``。|\n",
    "|``[``|\t标记一个中括号表达式的开始。|\n",
    "|``\\``|\t转义字符。例如， 'n' 匹配字符 'n'。``'\\n'`` 匹配换行符。|\n",
    "|\\d|匹配字符串中的单个数字|\n",
    "|a-zA-Z|匹配全部英文字符|\n",
    "|0-9|匹配全部数字|\n",
    "|``\\s``|匹配字符串中的``\\n``,``\\t``,``空格``|"
   ]
  },
  {
   "cell_type": "markdown",
   "metadata": {},
   "source": [
    "**正则符号**组成**正则表达式**，用于**匹配**需要的字符。\n",
    "\n",
    "#### re库常用方法\n",
    "\n",
    "|re库常用函数|作用|\n",
    "|---|---|\n",
    "|``re.findall(pattern, string)``|根据pattern返回匹配结果（列表）|\n",
    "|``re.split(pattern, string)`` |使用pattern分割string，返回列表        \n",
    "|``re.sub(pattern, repl, string)``|使用repl替换string中的pattern|\n",
    "\n",
    "### re.findall(pattern, text)\n",
    "在text中查找满足pattern条件的文本，返回列表\n",
    "\n",
    "- pattern:用正则表达式设计的匹配规则\n",
    "- text：文本数据"
   ]
  },
  {
   "cell_type": "code",
   "execution_count": 7,
   "metadata": {},
   "outputs": [
    {
     "data": {
      "text/plain": [
       "[('张三', '25')]"
      ]
     },
     "execution_count": 7,
     "metadata": {},
     "output_type": "execute_result"
    }
   ],
   "source": [
    "import re\n",
    "\n",
    "description = '我叫张三,今年25岁'\n",
    "\n",
    "pattern = '我叫(.*?),今年(\\d+)岁'\n",
    "name_age = re.findall(pattern, description)\n",
    "name_age"
   ]
  },
  {
   "cell_type": "code",
   "execution_count": 8,
   "metadata": {},
   "outputs": [
    {
     "data": {
      "text/plain": [
       "['Good', 'Moring']"
      ]
     },
     "execution_count": 8,
     "metadata": {},
     "output_type": "execute_result"
    }
   ],
   "source": [
    "string = 'Good Moring，张三！'\n",
    "\n",
    "#english = re.findall('[a-zA-Z]+', string)\n",
    "english = re.findall('[a-zA-Z]+', string)\n",
    "english"
   ]
  },
  {
   "cell_type": "code",
   "execution_count": 9,
   "metadata": {},
   "outputs": [
    {
     "data": {
      "text/plain": [
       "[' 文化大革命如火如荼地进行，天文学家叶文洁在期间历经劫难，被带到军方绝秘计划“红岸工程”。\\n             ',\n",
       " ' 面对地球文明前所未有的危局，人类组建起同样庞大的太空舰队，同时（PDC）利用三体人思维透明的致命缺陷，制订了“面壁计划”。\\n             ',\n",
       " ' 在地球人类接近灭亡之际，只有程心和艾AA两个幸存者乘坐光速飞船离开。她们在冥王星带走人类文明的精华。']"
      ]
     },
     "execution_count": 9,
     "metadata": {},
     "output_type": "execute_result"
    }
   ],
   "source": [
    "import re\n",
    "#re.split()\n",
    "string3 = \"\"\"第一部 文化大革命如火如荼地进行，天文学家叶文洁在期间历经劫难，被带到军方绝秘计划“红岸工程”。\n",
    "             第二部 面对地球文明前所未有的危局，人类组建起同样庞大的太空舰队，同时（PDC）利用三体人思维透明的致命缺陷，制订了“面壁计划”。\n",
    "             第三部 在地球人类接近灭亡之际，只有程心和艾AA两个幸存者乘坐光速飞船离开。她们在冥王星带走人类文明的精华。\"\"\"\n",
    "\n",
    "\n",
    "titles = re.split('第[一二三]部', string3)\n",
    "\n",
    "[ t for t in titles if t!='']"
   ]
  },
  {
   "cell_type": "markdown",
   "metadata": {},
   "source": [
    "### re.split(pattern, text)\n",
    "用pattern分割text，返回列表\n",
    "\n",
    "- pattern:用正则表达式设计的匹配规则\n",
    "- text：待分割的文本数据"
   ]
  },
  {
   "cell_type": "code",
   "execution_count": null,
   "metadata": {},
   "outputs": [],
   "source": [
    "import re\n",
    "\n",
    "string2 = \"\"\"第一部 文化大革命如火如荼地进行，天文学家叶文洁在期间历经劫难，被带到军方绝秘计划“红岸工程”。\n",
    "             第二部 面对地球文明前所未有的危局，人类组建起同样庞大的太空舰队，同时（PDC）利用三体人思维透明的致命缺陷，制订了“面壁计划”。\n",
    "             第三部 在地球人类接近灭亡之际，只有程心和艾AA两个幸存者乘坐光速飞船离开。她们在冥王星带走人类文明的精华。\"\"\"\n",
    "\n",
    "#\n",
    "parts = re.split('第[一二三]+部', string2)\n",
    "\n",
    "#剔除空数据\n",
    "parts = [part \n",
    "         for part in parts \n",
    "         if part]\n",
    "parts"
   ]
  },
  {
   "cell_type": "markdown",
   "metadata": {},
   "source": [
    "### re.sub(old, new, text)\n",
    "将text中的old替换为new，返回字符串"
   ]
  },
  {
   "cell_type": "code",
   "execution_count": null,
   "metadata": {},
   "outputs": [],
   "source": [
    "import re\n",
    "\n",
    "string4 = \"\"\"第一部 文化大革命如火如荼地进行  第二部 面对地球文明前所未有的危局。 第三部 在地球人类接近灭亡之际\"\"\"\n",
    "#文化大革命  替换为  革命\n",
    "titles = re.sub('文化大革命', '革命', string4)\n",
    "\n",
    "print(titles)"
   ]
  },
  {
   "cell_type": "markdown",
   "metadata": {},
   "source": [
    "## 6. 常见Python编程错误\n",
    "- 缩进\n",
    "- 中英文输入法\n",
    "- 常用库、函数名方法的拼写错误\n",
    "- 使用未命名的变量"
   ]
  },
  {
   "cell_type": "code",
   "execution_count": null,
   "metadata": {},
   "outputs": [],
   "source": []
  },
  {
   "cell_type": "markdown",
   "metadata": {},
   "source": [
    "folium是一个基于leaflet.js的python地图库，可以通过folium来操纵数据，并将其可视化。\n",
    "\n",
    "官方文档  https://python-visualization.github.io/folium/\n",
    "\n",
    "### 安装"
   ]
  },
  {
   "cell_type": "code",
   "execution_count": 3,
   "metadata": {},
   "outputs": [],
   "source": [
    "!pip3 install folium"
   ]
  },
  {
   "cell_type": "markdown",
   "metadata": {},
   "source": [
    "### 最简单的地图\n",
    "这里我使用哈尔滨（45.7476198321, 126.6324558375）所在的经纬度信息，绘制出最简单的Map地图对象，直接调用该对象即可在notebook中显示。"
   ]
  },
  {
   "cell_type": "code",
   "execution_count": 12,
   "metadata": {},
   "outputs": [],
   "source": [
    "import folium\n",
    "\n",
    "#绘制哈尔滨地图图层\n",
    "m = folium.Map(location=[45.7476198321,126.6324558375])\n",
    "m"
   ]
  },
  {
   "cell_type": "markdown",
   "metadata": {},
   "source": [
    "![](img/01.png)"
   ]
  },
  {
   "cell_type": "markdown",
   "metadata": {},
   "source": [
    "### 保存地图到html\n",
    "为了将地图保存到html文件中，可以使用如下命令"
   ]
  },
  {
   "cell_type": "code",
   "execution_count": 5,
   "metadata": {},
   "outputs": [],
   "source": [
    "m.save('data/Harbin.html')"
   ]
  },
  {
   "cell_type": "markdown",
   "metadata": {},
   "source": [
    "### 地图纹理样式 tiles\n",
    "tiles默认是设置成 ``OpenStreetMap``，但folium也内置了 ``Stamen Terrain, Stamen Toner, Mapbox Bright, and Mapbox Control Room``。具体大家可以试试不同的tiles的显示效果"
   ]
  },
  {
   "cell_type": "code",
   "execution_count": 11,
   "metadata": {},
   "outputs": [],
   "source": [
    "import folium\n",
    "\n",
    "m = folium.Map(location=[45.747,126.632],\n",
    "               tiles='Stamen Toner',  \n",
    "               zoom_start=12) #地图缩放程度\n",
    "m"
   ]
  },
  {
   "cell_type": "markdown",
   "metadata": {},
   "source": [
    "![](img/03.png)"
   ]
  },
  {
   "cell_type": "code",
   "execution_count": 21,
   "metadata": {},
   "outputs": [],
   "source": [
    "import folium\n",
    "\n",
    "m = folium.Map(location=[45.747,126.632],\n",
    "               tiles='Stamen Terrain',  \n",
    "               zoom_start=12) #地图缩放程度\n",
    "m"
   ]
  },
  {
   "cell_type": "markdown",
   "metadata": {},
   "source": [
    "![](img/04.png)"
   ]
  },
  {
   "cell_type": "markdown",
   "metadata": {},
   "source": [
    "### 地图标注\n",
    "在folium中有很多标记类型，而且拥有popup和tooltip 的 HTML，这块我翻译的也不太到位，大家直接看代码和运行结果吧"
   ]
  },
  {
   "cell_type": "code",
   "execution_count": 26,
   "metadata": {},
   "outputs": [
    {
     "data": {
      "text/plain": [
       "<folium.map.Marker at 0x117045400>"
      ]
     },
     "execution_count": 26,
     "metadata": {},
     "output_type": "execute_result"
    }
   ],
   "source": [
    "import folium\n",
    "\n",
    "m = folium.Map(location=[45.747,126.632],\n",
    "               tiles='Stamen Terrain',  \n",
    "               zoom_start=12) #地图缩放程度\n",
    "\n",
    "tooltip = '请点击我查看该点信息'\n",
    "folium.Marker([45.7476198321,126.6324558375], \n",
    "             popup='<i>哈工大</i>', \n",
    "             tooltip=tooltip).add_to(m)\n",
    "folium.Marker([45.7757912763,126.6821874003], \n",
    "             popup='<b>哈工程</b>', \n",
    "             tooltip=tooltip).add_to(m)\n",
    "m"
   ]
  },
  {
   "cell_type": "markdown",
   "metadata": {},
   "source": [
    "![](img/05.gif)"
   ]
  },
  {
   "cell_type": "markdown",
   "metadata": {},
   "source": [
    "### 标记的样式\n",
    "标记marker的icon可以设置不同的风格，如下面的颜色不同的三种标记"
   ]
  },
  {
   "cell_type": "code",
   "execution_count": 29,
   "metadata": {},
   "outputs": [
    {
     "data": {
      "text/plain": [
       "<folium.map.Marker at 0x1170735f8>"
      ]
     },
     "execution_count": 29,
     "metadata": {},
     "output_type": "execute_result"
    }
   ],
   "source": [
    "import folium\n",
    "\n",
    "#哈尔滨地图图层\n",
    "m = folium.Map(location=[45.747,126.632],\n",
    "               tiles='Stamen Terrain',  \n",
    "               zoom_start=12) #地图缩放程度\n",
    "\n",
    "tooltip = '请点击我查看该点信息'\n",
    "#在哈尔滨地图图层中添加标记\n",
    "folium.Marker([45.7476198321,126.6324558375], \n",
    "             popup='<i>哈工大</i>', \n",
    "             tooltip=tooltip,\n",
    "             icon=folium.Icon(color='red')).add_to(m)\n",
    "\n",
    "folium.Marker([45.7757912763,126.6821874003], \n",
    "             popup='<b>哈工程</b>', \n",
    "             tooltip=tooltip,\n",
    "             icon=folium.Icon(color='blue')).add_to(m)\n",
    "\n",
    "folium.Marker([45.7207185264,126.6381461963], \n",
    "             popup='<b>东北林业大学</b>', \n",
    "             tooltip=tooltip,\n",
    "             icon=folium.Icon(color='green')).add_to(m)\n",
    "m"
   ]
  },
  {
   "cell_type": "markdown",
   "metadata": {},
   "source": [
    "![](img/06.gif)"
   ]
  },
  {
   "cell_type": "markdown",
   "metadata": {},
   "source": [
    "### 地图中画圈\n",
    "有时候我们需要标记某个点的周围，如使用圆形或者圆点。"
   ]
  },
  {
   "cell_type": "code",
   "execution_count": 13,
   "metadata": {},
   "outputs": [
    {
     "data": {
      "text/html": [
       "<div style=\"width:100%;\"><div style=\"position:relative;width:100%;height:0;padding-bottom:60%;\"><iframe src=\"data:text/html;charset=utf-8;base64,PCFET0NUWVBFIGh0bWw+CjxoZWFkPiAgICAKICAgIDxtZXRhIGh0dHAtZXF1aXY9ImNvbnRlbnQtdHlwZSIgY29udGVudD0idGV4dC9odG1sOyBjaGFyc2V0PVVURi04IiAvPgogICAgCiAgICAgICAgPHNjcmlwdD4KICAgICAgICAgICAgTF9OT19UT1VDSCA9IGZhbHNlOwogICAgICAgICAgICBMX0RJU0FCTEVfM0QgPSBmYWxzZTsKICAgICAgICA8L3NjcmlwdD4KICAgIAogICAgPHNjcmlwdCBzcmM9Imh0dHBzOi8vY2RuLmpzZGVsaXZyLm5ldC9ucG0vbGVhZmxldEAxLjUuMS9kaXN0L2xlYWZsZXQuanMiPjwvc2NyaXB0PgogICAgPHNjcmlwdCBzcmM9Imh0dHBzOi8vY29kZS5qcXVlcnkuY29tL2pxdWVyeS0xLjEyLjQubWluLmpzIj48L3NjcmlwdD4KICAgIDxzY3JpcHQgc3JjPSJodHRwczovL21heGNkbi5ib290c3RyYXBjZG4uY29tL2Jvb3RzdHJhcC8zLjIuMC9qcy9ib290c3RyYXAubWluLmpzIj48L3NjcmlwdD4KICAgIDxzY3JpcHQgc3JjPSJodHRwczovL2NkbmpzLmNsb3VkZmxhcmUuY29tL2FqYXgvbGlicy9MZWFmbGV0LmF3ZXNvbWUtbWFya2Vycy8yLjAuMi9sZWFmbGV0LmF3ZXNvbWUtbWFya2Vycy5qcyI+PC9zY3JpcHQ+CiAgICA8bGluayByZWw9InN0eWxlc2hlZXQiIGhyZWY9Imh0dHBzOi8vY2RuLmpzZGVsaXZyLm5ldC9ucG0vbGVhZmxldEAxLjUuMS9kaXN0L2xlYWZsZXQuY3NzIi8+CiAgICA8bGluayByZWw9InN0eWxlc2hlZXQiIGhyZWY9Imh0dHBzOi8vbWF4Y2RuLmJvb3RzdHJhcGNkbi5jb20vYm9vdHN0cmFwLzMuMi4wL2Nzcy9ib290c3RyYXAubWluLmNzcyIvPgogICAgPGxpbmsgcmVsPSJzdHlsZXNoZWV0IiBocmVmPSJodHRwczovL21heGNkbi5ib290c3RyYXBjZG4uY29tL2Jvb3RzdHJhcC8zLjIuMC9jc3MvYm9vdHN0cmFwLXRoZW1lLm1pbi5jc3MiLz4KICAgIDxsaW5rIHJlbD0ic3R5bGVzaGVldCIgaHJlZj0iaHR0cHM6Ly9tYXhjZG4uYm9vdHN0cmFwY2RuLmNvbS9mb250LWF3ZXNvbWUvNC42LjMvY3NzL2ZvbnQtYXdlc29tZS5taW4uY3NzIi8+CiAgICA8bGluayByZWw9InN0eWxlc2hlZXQiIGhyZWY9Imh0dHBzOi8vY2RuanMuY2xvdWRmbGFyZS5jb20vYWpheC9saWJzL0xlYWZsZXQuYXdlc29tZS1tYXJrZXJzLzIuMC4yL2xlYWZsZXQuYXdlc29tZS1tYXJrZXJzLmNzcyIvPgogICAgPGxpbmsgcmVsPSJzdHlsZXNoZWV0IiBocmVmPSJodHRwczovL3Jhd2Nkbi5naXRoYWNrLmNvbS9weXRob24tdmlzdWFsaXphdGlvbi9mb2xpdW0vbWFzdGVyL2ZvbGl1bS90ZW1wbGF0ZXMvbGVhZmxldC5hd2Vzb21lLnJvdGF0ZS5jc3MiLz4KICAgIDxzdHlsZT5odG1sLCBib2R5IHt3aWR0aDogMTAwJTtoZWlnaHQ6IDEwMCU7bWFyZ2luOiAwO3BhZGRpbmc6IDA7fTwvc3R5bGU+CiAgICA8c3R5bGU+I21hcCB7cG9zaXRpb246YWJzb2x1dGU7dG9wOjA7Ym90dG9tOjA7cmlnaHQ6MDtsZWZ0OjA7fTwvc3R5bGU+CiAgICAKICAgICAgICAgICAgPG1ldGEgbmFtZT0idmlld3BvcnQiIGNvbnRlbnQ9IndpZHRoPWRldmljZS13aWR0aCwKICAgICAgICAgICAgICAgIGluaXRpYWwtc2NhbGU9MS4wLCBtYXhpbXVtLXNjYWxlPTEuMCwgdXNlci1zY2FsYWJsZT1ubyIgLz4KICAgICAgICAgICAgPHN0eWxlPgogICAgICAgICAgICAgICAgI21hcF9hODc0NDlmYTJhMzY0ZDU3ODk1MjFhYjgwYmE5NGI1MSB7CiAgICAgICAgICAgICAgICAgICAgcG9zaXRpb246IHJlbGF0aXZlOwogICAgICAgICAgICAgICAgICAgIHdpZHRoOiAxMDAuMCU7CiAgICAgICAgICAgICAgICAgICAgaGVpZ2h0OiAxMDAuMCU7CiAgICAgICAgICAgICAgICAgICAgbGVmdDogMC4wJTsKICAgICAgICAgICAgICAgICAgICB0b3A6IDAuMCU7CiAgICAgICAgICAgICAgICB9CiAgICAgICAgICAgIDwvc3R5bGU+CiAgICAgICAgCjwvaGVhZD4KPGJvZHk+ICAgIAogICAgCiAgICAgICAgICAgIDxkaXYgY2xhc3M9ImZvbGl1bS1tYXAiIGlkPSJtYXBfYTg3NDQ5ZmEyYTM2NGQ1Nzg5NTIxYWI4MGJhOTRiNTEiID48L2Rpdj4KICAgICAgICAKPC9ib2R5Pgo8c2NyaXB0PiAgICAKICAgIAogICAgICAgICAgICB2YXIgbWFwX2E4NzQ0OWZhMmEzNjRkNTc4OTUyMWFiODBiYTk0YjUxID0gTC5tYXAoCiAgICAgICAgICAgICAgICAibWFwX2E4NzQ0OWZhMmEzNjRkNTc4OTUyMWFiODBiYTk0YjUxIiwKICAgICAgICAgICAgICAgIHsKICAgICAgICAgICAgICAgICAgICBjZW50ZXI6IFs0NS43NDcsIDEyNi42MzJdLAogICAgICAgICAgICAgICAgICAgIGNyczogTC5DUlMuRVBTRzM4NTcsCiAgICAgICAgICAgICAgICAgICAgem9vbTogMTMsCiAgICAgICAgICAgICAgICAgICAgem9vbUNvbnRyb2w6IHRydWUsCiAgICAgICAgICAgICAgICAgICAgcHJlZmVyQ2FudmFzOiBmYWxzZSwKICAgICAgICAgICAgICAgIH0KICAgICAgICAgICAgKTsKCiAgICAgICAgICAgIAoKICAgICAgICAKICAgIAogICAgICAgICAgICB2YXIgdGlsZV9sYXllcl8yNjIwMTMyYmM4MWQ0MzgyOGZiNGY4YzI3NTk0YWIxYSA9IEwudGlsZUxheWVyKAogICAgICAgICAgICAgICAgImh0dHBzOi8vc3RhbWVuLXRpbGVzLXtzfS5hLnNzbC5mYXN0bHkubmV0L3RvbmVyL3t6fS97eH0ve3l9LnBuZyIsCiAgICAgICAgICAgICAgICB7ImF0dHJpYnV0aW9uIjogIk1hcCB0aWxlcyBieSBcdTAwM2NhIGhyZWY9XCJodHRwOi8vc3RhbWVuLmNvbVwiXHUwMDNlU3RhbWVuIERlc2lnblx1MDAzYy9hXHUwMDNlLCB1bmRlciBcdTAwM2NhIGhyZWY9XCJodHRwOi8vY3JlYXRpdmVjb21tb25zLm9yZy9saWNlbnNlcy9ieS8zLjBcIlx1MDAzZUNDIEJZIDMuMFx1MDAzYy9hXHUwMDNlLiBEYXRhIGJ5IFx1MDAyNmNvcHk7IFx1MDAzY2EgaHJlZj1cImh0dHA6Ly9vcGVuc3RyZWV0bWFwLm9yZ1wiXHUwMDNlT3BlblN0cmVldE1hcFx1MDAzYy9hXHUwMDNlLCB1bmRlciBcdTAwM2NhIGhyZWY9XCJodHRwOi8vd3d3Lm9wZW5zdHJlZXRtYXAub3JnL2NvcHlyaWdodFwiXHUwMDNlT0RiTFx1MDAzYy9hXHUwMDNlLiIsICJkZXRlY3RSZXRpbmEiOiBmYWxzZSwgIm1heE5hdGl2ZVpvb20iOiAxOCwgIm1heFpvb20iOiAxOCwgIm1pblpvb20iOiAwLCAibm9XcmFwIjogZmFsc2UsICJvcGFjaXR5IjogMSwgInN1YmRvbWFpbnMiOiAiYWJjIiwgInRtcyI6IGZhbHNlfQogICAgICAgICAgICApLmFkZFRvKG1hcF9hODc0NDlmYTJhMzY0ZDU3ODk1MjFhYjgwYmE5NGI1MSk7CiAgICAgICAgCiAgICAKICAgICAgICAgICAgdmFyIGNpcmNsZV9jNTQ2NGYyOTllMzg0MDZiOGY4YmU2YjU4ODY0YjJiZCA9IEwuY2lyY2xlKAogICAgICAgICAgICAgICAgWzQ1LjcyMDcxODUyNjQsIDEyNi42MzgxNDYxOTYzXSwKICAgICAgICAgICAgICAgIHsiYnViYmxpbmdNb3VzZUV2ZW50cyI6IHRydWUsICJjb2xvciI6ICJibHVlIiwgImRhc2hBcnJheSI6IG51bGwsICJkYXNoT2Zmc2V0IjogbnVsbCwgImZpbGwiOiBmYWxzZSwgImZpbGxDb2xvciI6ICJibHVlIiwgImZpbGxPcGFjaXR5IjogMC4yLCAiZmlsbFJ1bGUiOiAiZXZlbm9kZCIsICJsaW5lQ2FwIjogInJvdW5kIiwgImxpbmVKb2luIjogInJvdW5kIiwgIm9wYWNpdHkiOiAxLjAsICJyYWRpdXMiOiAxMDAsICJzdHJva2UiOiB0cnVlLCAid2VpZ2h0IjogM30KICAgICAgICAgICAgKS5hZGRUbyhtYXBfYTg3NDQ5ZmEyYTM2NGQ1Nzg5NTIxYWI4MGJhOTRiNTEpOwogICAgICAgIAogICAgCiAgICAgICAgdmFyIHBvcHVwXzA4Yzg4ZDU5MTQ0ZjQzNTQ5MzZhNmNmMjZhMjE1NmZjID0gTC5wb3B1cCh7Im1heFdpZHRoIjogIjEwMCUifSk7CgogICAgICAgIAogICAgICAgICAgICB2YXIgaHRtbF8zYTMzMzE5ZjgzMGE0MWZjOWQ4YWNhZjcyMWMxYTZkNCA9ICQoYDxkaXYgaWQ9Imh0bWxfM2EzMzMxOWY4MzBhNDFmYzlkOGFjYWY3MjFjMWE2ZDQiIHN0eWxlPSJ3aWR0aDogMTAwLjAlOyBoZWlnaHQ6IDEwMC4wJTsiPuS4nOWMl+ael+S4muWkp+WtpjwvZGl2PmApWzBdOwogICAgICAgICAgICBwb3B1cF8wOGM4OGQ1OTE0NGY0MzU0OTM2YTZjZjI2YTIxNTZmYy5zZXRDb250ZW50KGh0bWxfM2EzMzMxOWY4MzBhNDFmYzlkOGFjYWY3MjFjMWE2ZDQpOwogICAgICAgIAoKICAgICAgICBjaXJjbGVfYzU0NjRmMjk5ZTM4NDA2YjhmOGJlNmI1ODg2NGIyYmQuYmluZFBvcHVwKHBvcHVwXzA4Yzg4ZDU5MTQ0ZjQzNTQ5MzZhNmNmMjZhMjE1NmZjKQogICAgICAgIDsKCiAgICAgICAgCiAgICAKICAgIAogICAgICAgICAgICB2YXIgY2lyY2xlX21hcmtlcl80MDU0MGRjNTM1YjM0ZWJkODk1ZGE3OTg2MDdjY2FiMSA9IEwuY2lyY2xlTWFya2VyKAogICAgICAgICAgICAgICAgWzQ1Ljc0NzYxOTgzMjEsIDEyNi42MzI0NTU4Mzc1XSwKICAgICAgICAgICAgICAgIHsiYnViYmxpbmdNb3VzZUV2ZW50cyI6IHRydWUsICJjb2xvciI6ICIjMzE4NmNjIiwgImRhc2hBcnJheSI6IG51bGwsICJkYXNoT2Zmc2V0IjogbnVsbCwgImZpbGwiOiB0cnVlLCAiZmlsbENvbG9yIjogIiMzMTg2Y2MiLCAiZmlsbE9wYWNpdHkiOiAwLjIsICJmaWxsUnVsZSI6ICJldmVub2RkIiwgImxpbmVDYXAiOiAicm91bmQiLCAibGluZUpvaW4iOiAicm91bmQiLCAib3BhY2l0eSI6IDEuMCwgInJhZGl1cyI6IDEwMCwgInN0cm9rZSI6IHRydWUsICJ3ZWlnaHQiOiAzfQogICAgICAgICAgICApLmFkZFRvKG1hcF9hODc0NDlmYTJhMzY0ZDU3ODk1MjFhYjgwYmE5NGI1MSk7CiAgICAgICAgCiAgICAKICAgICAgICB2YXIgcG9wdXBfYTkwNjE5ZmE0M2I4NGM3OTgyNTM5OTY2YmFiYzk4ODkgPSBMLnBvcHVwKHsibWF4V2lkdGgiOiAiMTAwJSJ9KTsKCiAgICAgICAgCiAgICAgICAgICAgIHZhciBodG1sXzRkMTdjNGFiNzVhMzQ1NTk4NTJjMjhhY2ZiNTYxMjE0ID0gJChgPGRpdiBpZD0iaHRtbF80ZDE3YzRhYjc1YTM0NTU5ODUyYzI4YWNmYjU2MTIxNCIgc3R5bGU9IndpZHRoOiAxMDAuMCU7IGhlaWdodDogMTAwLjAlOyI+5ZOI5bel5aSnPC9kaXY+YClbMF07CiAgICAgICAgICAgIHBvcHVwX2E5MDYxOWZhNDNiODRjNzk4MjUzOTk2NmJhYmM5ODg5LnNldENvbnRlbnQoaHRtbF80ZDE3YzRhYjc1YTM0NTU5ODUyYzI4YWNmYjU2MTIxNCk7CiAgICAgICAgCgogICAgICAgIGNpcmNsZV9tYXJrZXJfNDA1NDBkYzUzNWIzNGViZDg5NWRhNzk4NjA3Y2NhYjEuYmluZFBvcHVwKHBvcHVwX2E5MDYxOWZhNDNiODRjNzk4MjUzOTk2NmJhYmM5ODg5KQogICAgICAgIDsKCiAgICAgICAgCiAgICAKPC9zY3JpcHQ+\" style=\"position:absolute;width:100%;height:100%;left:0;top:0;border:none !important;\" allowfullscreen webkitallowfullscreen mozallowfullscreen></iframe></div></div>"
      ],
      "text/plain": [
       "<folium.folium.Map at 0x117c479e8>"
      ]
     },
     "execution_count": 13,
     "metadata": {},
     "output_type": "execute_result"
    }
   ],
   "source": [
    "import folium\n",
    "\n",
    "#哈尔滨地图图层\n",
    "m = folium.Map(location=[45.747,126.632],\n",
    "               tiles='Stamen Toner',  \n",
    "               zoom_start=13) #地图缩放程度\n",
    "\n",
    "\n",
    "#在哈尔滨地图图层中添加标记\n",
    "folium.Circle(\n",
    "    location = [45.7207185264,126.6381461963], \n",
    "    radius=100,\n",
    "    popup='东北林业大学',\n",
    "    color='blue',\n",
    "    fill=False\n",
    ").add_to(m)\n",
    "\n",
    "folium.CircleMarker(\n",
    "    location = [45.7476198321,126.6324558375],\n",
    "    radius=100,\n",
    "    popup='哈工大',\n",
    "    color='#3186cc',\n",
    "    fill=True,\n",
    "    fill_color='#3186cc'\n",
    ").add_to(m)\n",
    "\n",
    "m"
   ]
  },
  {
   "cell_type": "markdown",
   "metadata": {},
   "source": [
    "folium其实还有更多的精致的地图可视化效果，但是代码比较复杂，现在只是为了让大家知道python很好玩，也很强大。课后大家如果对folium感兴趣，可以阅读官方文档。\n",
    "\n",
    "``\n",
    "https://python-visualization.github.io/folium/index.html\n",
    "``"
   ]
  },
  {
   "cell_type": "code",
   "execution_count": null,
   "metadata": {},
   "outputs": [],
   "source": []
  }
 ],
 "metadata": {
  "kernelspec": {
   "display_name": "Python 3",
   "language": "python",
   "name": "python3"
  },
  "language_info": {
   "codemirror_mode": {
    "name": "ipython",
    "version": 3
   },
   "file_extension": ".py",
   "mimetype": "text/x-python",
   "name": "python",
   "nbconvert_exporter": "python",
   "pygments_lexer": "ipython3",
   "version": "3.7.2"
  }
 },
 "nbformat": 4,
 "nbformat_minor": 2
}
