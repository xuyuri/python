{
 "cells": [
  {
   "cell_type": "markdown",
   "metadata": {
    "toc": true
   },
   "source": [
    "<h1>Table of Contents<span class=\"tocSkip\"></span></h1>\n",
    "<div class=\"toc\"><ul class=\"toc-item\"><li><span><a href=\"#使用open()函数进行读写操作\" data-toc-modified-id=\"使用open()函数进行读写操作-1\">使用open()函数进行读写操作</a></span></li><li><span><a href=\"#文件路径\" data-toc-modified-id=\"文件路径-2\">文件路径</a></span><ul class=\"toc-item\"><li><ul class=\"toc-item\"><li><span><a href=\"#1.-理解绝对与相对路径\" data-toc-modified-id=\"1.-理解绝对与相对路径-2.0.1\">1. 理解绝对与相对路径</a></span></li><li><span><a href=\"#2.-win文件路径写法\" data-toc-modified-id=\"2.-win文件路径写法-2.0.2\">2. win文件路径写法</a></span></li><li><span><a href=\"#3.-mac路径写法\" data-toc-modified-id=\"3.-mac路径写法-2.0.3\">3. mac路径写法</a></span></li></ul></li></ul></li><li><span><a href=\"#读取操作\" data-toc-modified-id=\"读取操作-3\">读取操作</a></span></li><li><span><a href=\"#写入操作（新建一个文件）\" data-toc-modified-id=\"写入操作（新建一个文件）-4\">写入操作（新建一个文件）</a></span><ul class=\"toc-item\"><li><ul class=\"toc-item\"><li><span><a href=\"#1.-追加保存\" data-toc-modified-id=\"1.-追加保存-4.0.1\">1. 追加保存</a></span></li><li><span><a href=\"#2.-覆盖写入\" data-toc-modified-id=\"2.-覆盖写入-4.0.2\">2. 覆盖写入</a></span></li><li><span><a href=\"#3.-建议用a+\" data-toc-modified-id=\"3.-建议用a+-4.0.3\">3. 建议用a+</a></span></li></ul></li></ul></li></ul></div>"
   ]
  },
  {
   "cell_type": "markdown",
   "metadata": {
    "toc-hr-collapsed": false
   },
   "source": [
    "# 使用open()函数进行读写操作\n",
    "可以读csv、txt、html等文件\n",
    "\n",
    "\n",
    "# 文件路径\n",
    "### 1. 理解绝对与相对路径\n",
    "路径是家族树，绝对路径是从祖宗到子孙。\n",
    "相对路径是从同辈开始标记\n",
    "\n",
    "### 2. win文件路径写法\n",
    "- 绝对路径  '\\\\Users\\\\suosuo\\\\Desktop\\\\用python做文本分析\\\\用python做文本分析（课件）\\\\02-快速入门Python语法\\\\data\\\\用python做文本分析.txt'\n",
    "- 相对路径  'data\\\\用python做文本分析.txt'\n",
    "\n",
    "有时候为了好看好写，可以用\n",
    "\n",
    "r'\\Users\\suosuo\\Desktop\\用python做文本分析\\用python做文本分析（课件）\\02-快速入门Python语法\\data\\用python做文本分析.txt'\n",
    "\n",
    "### 3. mac路径写法\n",
    "- 绝对路径  '/Users/suosuo/Desktop/用python做文本分析/用python做文本分析（课件）/02-快速入门Python语法/data/用python做文本分析.txt'\n",
    "- 相对路径  'data/用python做文本分析.txt'"
   ]
  },
  {
   "cell_type": "markdown",
   "metadata": {},
   "source": [
    "# 读取操作\n",
    "``open(file, encoding, errors)``\n",
    "\n",
    "- file:代表文件或者文件路径\n",
    "- encoding: 文件编码解码方式(理解成通讯密码本)，常见的有 ``utf-8、gbk``\n",
    "- errors: 如果读取文件前两个参数都确认没问题了，还是读取失败，可使用errors='ignore'"
   ]
  },
  {
   "cell_type": "code",
   "execution_count": 1,
   "metadata": {
    "scrolled": true
   },
   "outputs": [],
   "source": [
    "#mac\n",
    "#open('data/用python做文本分析.txt')\n",
    "\n",
    "#win\n",
    "#open('data\\\\用python做文本分析.txt') "
   ]
  },
  {
   "cell_type": "code",
   "execution_count": 2,
   "metadata": {},
   "outputs": [],
   "source": [
    "#mac\n",
    "#open('data/用python做文本分析.txt').read()\n",
    "\n",
    "#win\n",
    "#open('data\\\\用python做文本分析.txt').read()"
   ]
  },
  {
   "cell_type": "code",
   "execution_count": 5,
   "metadata": {},
   "outputs": [
    {
     "data": {
      "text/plain": [
       "'章节设计\\n\\n第一部分  环境配置\\n第二部分  快速入门python\\n第三部分  网络爬虫\\n第四部分  简单的文本分析\\n第五部分  进阶文本分析'"
      ]
     },
     "execution_count": 5,
     "metadata": {},
     "output_type": "execute_result"
    }
   ],
   "source": [
    "open('test.txt').read()"
   ]
  },
  {
   "cell_type": "markdown",
   "metadata": {},
   "source": [
    "# 写入操作（新建一个文件）\n",
    "open(file, mode, encoding) \n",
    "- mode:a+(append)/w(write)\n",
    "- encoding:用utf-8或gbk，记住你用的编码方式"
   ]
  },
  {
   "cell_type": "markdown",
   "metadata": {},
   "source": [
    "### 1. 追加保存\n",
    "\n",
    "open(file, 'a+')\n",
    "- 如果没有这个文件，就新建\n",
    "- 如果有这个文件，就不停的往里面追加\n",
    "\n",
    "**注意：从后面开始代码的路径都是win的写法**"
   ]
  },
  {
   "cell_type": "code",
   "execution_count": 3,
   "metadata": {},
   "outputs": [],
   "source": [
    "f = open('output\\\\test.txt', 'a+')\n",
    "f.write('这是a+模式下的写入操作\\n')\n",
    "f.close()"
   ]
  },
  {
   "cell_type": "code",
   "execution_count": 5,
   "metadata": {},
   "outputs": [],
   "source": [
    "f = open('output\\\\test.txt', 'a+')\n",
    "f.write('a+第二次写入\\n')\n",
    "f.close()"
   ]
  },
  {
   "cell_type": "markdown",
   "metadata": {},
   "source": [
    "### 2. 覆盖写入\n",
    "open(file, 'w')"
   ]
  },
  {
   "cell_type": "code",
   "execution_count": 6,
   "metadata": {},
   "outputs": [],
   "source": [
    "wf = open('output\\\\w覆盖写入.txt', 'w')\n",
    "wf.write('w覆盖写第一次')\n",
    "wf.close()"
   ]
  },
  {
   "cell_type": "code",
   "execution_count": 8,
   "metadata": {},
   "outputs": [],
   "source": [
    "wf = open('output/w覆盖写入.txt', 'w')\n",
    "wf.write('w覆盖写第二次')\n",
    "wf.close()"
   ]
  },
  {
   "cell_type": "markdown",
   "metadata": {},
   "source": [
    "### 3. 建议用a+"
   ]
  },
  {
   "cell_type": "code",
   "execution_count": null,
   "metadata": {},
   "outputs": [],
   "source": []
  }
 ],
 "metadata": {
  "kernelspec": {
   "display_name": "Python 3",
   "language": "python",
   "name": "python3"
  },
  "language_info": {
   "codemirror_mode": {
    "name": "ipython",
    "version": 3
   },
   "file_extension": ".py",
   "mimetype": "text/x-python",
   "name": "python",
   "nbconvert_exporter": "python",
   "pygments_lexer": "ipython3",
   "version": "3.7.2"
  },
  "toc": {
   "base_numbering": 1,
   "nav_menu": {},
   "number_sections": false,
   "sideBar": true,
   "skip_h1_title": false,
   "title_cell": "Table of Contents",
   "title_sidebar": "Contents",
   "toc_cell": true,
   "toc_position": {},
   "toc_section_display": true,
   "toc_window_display": true
  },
  "toc-showtags": true
 },
 "nbformat": 4,
 "nbformat_minor": 4
}
