{
 "cells": [
  {
   "cell_type": "markdown",
   "metadata": {},
   "source": [
    "![](img/首图.png)\n",
    "在前面一期文章中我分享了如何使用HTML模板来创建pdf报告的方法。虽然pdf很不错，但更多的人实际上在用微软的WORD来操作文档。实际上对于用户来说，创建所需的模板会更加简单，该模板支持Word中所需的所有自定义格式，而不是尝试使用HTML + CSS。 幸运的是，有一个库支持在python中进行MS Word 邮件合并。 这种方法的优点是可以在任何系统上运行 - 即使没有安装Word。 \n",
    "\n",
    "### 背景\n",
    "使所有这一切成为可能的包叫做 ``docx-mailmerge``。 它是一个成熟的包，可以解析MS Word docx文件，找到 ``合并字段`` 并将您需要的任何值填充给它们。 该包还支持一些辅助函数，用于填充表并生成具有多个分页符的单个文件。\n",
    "\n",
    "我知道标准的Word方法是将此进程称为 ``mailmerge`` ，但本文中的这个 ``“mailmerge”`` 可以是一个有用的模板系统，可以用于更复杂的解决方案，而不仅仅是填充文档中的 ``名称和地址``。\n",
    "\n",
    "### 安装\n",
    "``docx-mailmerge`` 需要依赖 ``lxml`` ，所以需要先安装lxml，再安装 docx-mailmerge\n",
    "\n",
    "```\n",
    "pip install lxml\n",
    "pip install docx-mailmerge\n",
    "```\n",
    "\n",
    "### WORD合并字段\n",
    "为了使docx-mailmerge正常工作，您需要创建标准Word文档，并定义适当的 ``合并字段`` 。 以下示例适用于Word 2016.其他版本的Word应该类似。 实际上花了我一段时间来弄清楚这个过程，但是一旦你做了几次，这很简单。\n",
    "\n",
    "启动Word并创建基本文档结构。 然后将光标放在应插入 ``合并数据`` 的位置，并选择``插入  - > 域``\n",
    "![](img/图1.png)\n",
    "\n",
    "从“字段”对话框中，从“字段名称”列表中选择“MergeField”选项。 在“字段名称”中，输入字段所需的名称。 在这种情况下，我们使用的是商业名称。\n",
    "\n",
    "单击确定后，您应该在Word文档中看到类似这样的内容：<< BusinessName >>。 您可以继续创建包含所有必填字段的文档。\n",
    "![](img/图2.png)\n",
    "\n",
    "### 简单的合并\n",
    "创建Word文档后，填充字段值是一项很简单的操作。"
   ]
  },
  {
   "cell_type": "code",
   "execution_count": 15,
   "metadata": {},
   "outputs": [],
   "source": [
    "from mailmerge import MailMerge\n",
    "import datetime\n",
    "\n",
    "template = \"PracticalPython.docx\""
   ]
  },
  {
   "cell_type": "markdown",
   "metadata": {},
   "source": [
    "我们的 ``PracticalPython.docx`` 文件可以看做是用来给大家群发新年祝福邮件模板。\n",
    "![](img/邮件模板.png)\n",
    "\n",
    "下面我们先看看docx文档中有哪些合并字段"
   ]
  },
  {
   "cell_type": "code",
   "execution_count": 16,
   "metadata": {},
   "outputs": [
    {
     "name": "stdout",
     "output_type": "stream",
     "text": [
      "{'From', 'date', 'FromUserName', 'To', 'ToUserName'}\n"
     ]
    }
   ],
   "source": [
    "document = MailMerge(template)\n",
    "print(document.get_merge_fields())"
   ]
  },
  {
   "cell_type": "markdown",
   "metadata": {},
   "source": [
    "我们发现 ``PracticalPython.docx`` 文档中有我们上图邮件模板中设计的几个 ``合并字段``,如 ``From, date, FromUserName, To, ToUserName`` 。下面我们对这几个变量进行填充。"
   ]
  },
  {
   "cell_type": "code",
   "execution_count": 17,
   "metadata": {},
   "outputs": [],
   "source": [
    "document.merge(\n",
    "    From='123456dadeng@qq.com',\n",
    "    FromUserName='大邓',\n",
    "    To = '654321guanzhuzhe@qq.com',\n",
    "    ToUserName='关注者的昵称',\n",
    "    date='{:%d-%b-%Y}'.format(datetime.date.today())\n",
    ")\n",
    "\n",
    "#输出的docx文件\n",
    "document.write('output.docx')"
   ]
  },
  {
   "cell_type": "markdown",
   "metadata": {},
   "source": [
    "这是简单的Word文档填充效果\n",
    "![](img/输出结果.png)"
   ]
  },
  {
   "cell_type": "markdown",
   "metadata": {},
   "source": [
    "### 插入表格\n",
    "插入表格会用到document.merge_rows方法\n",
    "![](img/表格.png)"
   ]
  },
  {
   "cell_type": "code",
   "execution_count": null,
   "metadata": {},
   "outputs": [],
   "source": []
  }
 ],
 "metadata": {
  "kernelspec": {
   "display_name": "Python 3",
   "language": "python",
   "name": "python3"
  },
  "language_info": {
   "codemirror_mode": {
    "name": "ipython",
    "version": 3
   },
   "file_extension": ".py",
   "mimetype": "text/x-python",
   "name": "python",
   "nbconvert_exporter": "python",
   "pygments_lexer": "ipython3",
   "version": "3.7.0"
  }
 },
 "nbformat": 4,
 "nbformat_minor": 2
}
