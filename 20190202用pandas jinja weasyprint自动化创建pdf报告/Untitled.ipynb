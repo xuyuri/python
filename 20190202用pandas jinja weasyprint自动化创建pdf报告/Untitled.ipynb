{
 "cells": [
  {
   "cell_type": "markdown",
   "metadata": {},
   "source": [
    "Pandas非常善于处理大规模数据，支持将结果导出到CSV，Excel，HTML，json等文件中。 如果您想将 ``多种信息（excel、图片等）组合`` 到一个文档中，那么事情变得更加困难。 例如，如果要在一个Excel工作表上放置两个DataFrame，则需要使用相应的Excel库才能输出。 这当然是OK的，但走起来真不简单。 本文将介绍一种方法，将多种 ``信息（excel、图片等）组合`` 成一个 ``HTML模板`` ，然后使用``Jinja模板和WeasyPrint`` 再将其转换为独立的PDF文档。\n",
    "\n",
    "## 操作流程\n",
    "使用Pandas将数据输出到Excel文件中的多个工作表或者用DataFrames创建多个Excel文件非常方便。 但是，如果您想将 ``多种信息（excel、图片等）组合`` 输出到一个文件中，那么直接从Pandas进行操作的方法并不多。 幸运的是，万能的python大法有很多选项可以帮助我们。\n",
    "\n",
    "在本文中，我将采用以下流程来创建多页PDF文档。\n",
    "![](img/pdf-conversion-pipeline.png)\n",
    "\n",
    "## 工具\n",
    "我决定使用HTML作为模板语言，因为它可能是生成结构化数据最便捷的方法，支持各种格式数据（如图片、excel表）。我也认为每个人都知道（或可以弄清楚）足够的HTML知识来生成一个简单的报告。\n",
    "\n",
    "这个工作流程中最困难的部分是弄清楚如何将HTML呈现为PDF。我觉得还没有最佳的解决方案，但我选择了 ``WeasyPrint`` ，因为它仍然在积极维护，我发现我可以相对容易地使它工作。作为替代方案，我过去使用过xhtml2pdf，它的效果也很好，遗憾的是该库缺乏文档说明，但它已存在一段时间，并且确实可以从HTML生成PDF。\n",
    "\n",
    "## 数据\n",
    "如上所述，我们将使用之前文章中的相同数据集。 为了使这一切成为一个独立的文章，下面是我如何导入数据,做描述性统计，及并生成关于CPU和软件销售的 ``数据透视表`` 。\n",
    "\n",
    "导入模块，并读入销售渠道信息。"
   ]
  },
  {
   "cell_type": "code",
   "execution_count": 1,
   "metadata": {},
   "outputs": [
    {
     "data": {
      "text/html": [
       "<div>\n",
       "<style scoped>\n",
       "    .dataframe tbody tr th:only-of-type {\n",
       "        vertical-align: middle;\n",
       "    }\n",
       "\n",
       "    .dataframe tbody tr th {\n",
       "        vertical-align: top;\n",
       "    }\n",
       "\n",
       "    .dataframe thead th {\n",
       "        text-align: right;\n",
       "    }\n",
       "</style>\n",
       "<table border=\"1\" class=\"dataframe\">\n",
       "  <thead>\n",
       "    <tr style=\"text-align: right;\">\n",
       "      <th></th>\n",
       "      <th>Account</th>\n",
       "      <th>Name</th>\n",
       "      <th>Rep</th>\n",
       "      <th>Manager</th>\n",
       "      <th>Product</th>\n",
       "      <th>Quantity</th>\n",
       "      <th>Price</th>\n",
       "      <th>Status</th>\n",
       "    </tr>\n",
       "  </thead>\n",
       "  <tbody>\n",
       "    <tr>\n",
       "      <th>0</th>\n",
       "      <td>714466</td>\n",
       "      <td>Trantow-Barrows</td>\n",
       "      <td>Craig Booker</td>\n",
       "      <td>Debra Henley</td>\n",
       "      <td>CPU</td>\n",
       "      <td>1</td>\n",
       "      <td>30000</td>\n",
       "      <td>presented</td>\n",
       "    </tr>\n",
       "    <tr>\n",
       "      <th>1</th>\n",
       "      <td>714466</td>\n",
       "      <td>Trantow-Barrows</td>\n",
       "      <td>Craig Booker</td>\n",
       "      <td>Debra Henley</td>\n",
       "      <td>Software</td>\n",
       "      <td>1</td>\n",
       "      <td>10000</td>\n",
       "      <td>presented</td>\n",
       "    </tr>\n",
       "    <tr>\n",
       "      <th>2</th>\n",
       "      <td>714466</td>\n",
       "      <td>Trantow-Barrows</td>\n",
       "      <td>Craig Booker</td>\n",
       "      <td>Debra Henley</td>\n",
       "      <td>Maintenance</td>\n",
       "      <td>2</td>\n",
       "      <td>5000</td>\n",
       "      <td>pending</td>\n",
       "    </tr>\n",
       "    <tr>\n",
       "      <th>3</th>\n",
       "      <td>737550</td>\n",
       "      <td>Fritsch, Russel and Anderson</td>\n",
       "      <td>Craig Booker</td>\n",
       "      <td>Debra Henley</td>\n",
       "      <td>CPU</td>\n",
       "      <td>1</td>\n",
       "      <td>35000</td>\n",
       "      <td>declined</td>\n",
       "    </tr>\n",
       "    <tr>\n",
       "      <th>4</th>\n",
       "      <td>146832</td>\n",
       "      <td>Kiehn-Spinka</td>\n",
       "      <td>Daniel Hilton</td>\n",
       "      <td>Debra Henley</td>\n",
       "      <td>CPU</td>\n",
       "      <td>2</td>\n",
       "      <td>65000</td>\n",
       "      <td>won</td>\n",
       "    </tr>\n",
       "  </tbody>\n",
       "</table>\n",
       "</div>"
      ],
      "text/plain": [
       "   Account                          Name            Rep       Manager  \\\n",
       "0   714466               Trantow-Barrows   Craig Booker  Debra Henley   \n",
       "1   714466               Trantow-Barrows   Craig Booker  Debra Henley   \n",
       "2   714466               Trantow-Barrows   Craig Booker  Debra Henley   \n",
       "3   737550  Fritsch, Russel and Anderson   Craig Booker  Debra Henley   \n",
       "4   146832                  Kiehn-Spinka  Daniel Hilton  Debra Henley   \n",
       "\n",
       "       Product  Quantity  Price     Status  \n",
       "0          CPU         1  30000  presented  \n",
       "1     Software         1  10000  presented  \n",
       "2  Maintenance         2   5000    pending  \n",
       "3          CPU         1  35000   declined  \n",
       "4          CPU         2  65000        won  "
      ]
     },
     "execution_count": 1,
     "metadata": {},
     "output_type": "execute_result"
    }
   ],
   "source": [
    "import pandas as pd\n",
    "import numpy as np\n",
    "\n",
    "df = pd.read_excel('salesfunnel.xlsx')\n",
    "df.head()"
   ]
  },
  {
   "cell_type": "markdown",
   "metadata": {},
   "source": [
    "对数据做透视表"
   ]
  },
  {
   "cell_type": "code",
   "execution_count": 2,
   "metadata": {},
   "outputs": [
    {
     "data": {
      "text/html": [
       "<div>\n",
       "<style scoped>\n",
       "    .dataframe tbody tr th:only-of-type {\n",
       "        vertical-align: middle;\n",
       "    }\n",
       "\n",
       "    .dataframe tbody tr th {\n",
       "        vertical-align: top;\n",
       "    }\n",
       "\n",
       "    .dataframe thead tr th {\n",
       "        text-align: left;\n",
       "    }\n",
       "\n",
       "    .dataframe thead tr:last-of-type th {\n",
       "        text-align: right;\n",
       "    }\n",
       "</style>\n",
       "<table border=\"1\" class=\"dataframe\">\n",
       "  <thead>\n",
       "    <tr>\n",
       "      <th></th>\n",
       "      <th></th>\n",
       "      <th></th>\n",
       "      <th colspan=\"2\" halign=\"left\">sum</th>\n",
       "      <th colspan=\"2\" halign=\"left\">mean</th>\n",
       "    </tr>\n",
       "    <tr>\n",
       "      <th></th>\n",
       "      <th></th>\n",
       "      <th></th>\n",
       "      <th>Price</th>\n",
       "      <th>Quantity</th>\n",
       "      <th>Price</th>\n",
       "      <th>Quantity</th>\n",
       "    </tr>\n",
       "    <tr>\n",
       "      <th>Manager</th>\n",
       "      <th>Rep</th>\n",
       "      <th>Product</th>\n",
       "      <th></th>\n",
       "      <th></th>\n",
       "      <th></th>\n",
       "      <th></th>\n",
       "    </tr>\n",
       "  </thead>\n",
       "  <tbody>\n",
       "    <tr>\n",
       "      <th rowspan=\"5\" valign=\"top\">Debra Henley</th>\n",
       "      <th rowspan=\"3\" valign=\"top\">Craig Booker</th>\n",
       "      <th>CPU</th>\n",
       "      <td>65000</td>\n",
       "      <td>2</td>\n",
       "      <td>32500</td>\n",
       "      <td>1.0</td>\n",
       "    </tr>\n",
       "    <tr>\n",
       "      <th>Maintenance</th>\n",
       "      <td>5000</td>\n",
       "      <td>2</td>\n",
       "      <td>5000</td>\n",
       "      <td>2.0</td>\n",
       "    </tr>\n",
       "    <tr>\n",
       "      <th>Software</th>\n",
       "      <td>10000</td>\n",
       "      <td>1</td>\n",
       "      <td>10000</td>\n",
       "      <td>1.0</td>\n",
       "    </tr>\n",
       "    <tr>\n",
       "      <th rowspan=\"2\" valign=\"top\">Daniel Hilton</th>\n",
       "      <th>CPU</th>\n",
       "      <td>105000</td>\n",
       "      <td>4</td>\n",
       "      <td>52500</td>\n",
       "      <td>2.0</td>\n",
       "    </tr>\n",
       "    <tr>\n",
       "      <th>Software</th>\n",
       "      <td>10000</td>\n",
       "      <td>1</td>\n",
       "      <td>10000</td>\n",
       "      <td>1.0</td>\n",
       "    </tr>\n",
       "  </tbody>\n",
       "</table>\n",
       "</div>"
      ],
      "text/plain": [
       "                                           sum            mean         \n",
       "                                         Price Quantity  Price Quantity\n",
       "Manager      Rep           Product                                     \n",
       "Debra Henley Craig Booker  CPU           65000        2  32500      1.0\n",
       "                           Maintenance    5000        2   5000      2.0\n",
       "                           Software      10000        1  10000      1.0\n",
       "             Daniel Hilton CPU          105000        4  52500      2.0\n",
       "                           Software      10000        1  10000      1.0"
      ]
     },
     "execution_count": 2,
     "metadata": {},
     "output_type": "execute_result"
    }
   ],
   "source": [
    "sales_report = pd.pivot_table(df, index=[\"Manager\", \"Rep\", \"Product\"], \n",
    "                              values=[\"Price\", \"Quantity\"],\n",
    "                              aggfunc=[np.sum, np.mean], \n",
    "                              fill_value=0)\n",
    "sales_report.head()"
   ]
  },
  {
   "cell_type": "markdown",
   "metadata": {},
   "source": [
    "## 模板\n",
    "DataFrame拥有to_html()的方法，可以将dataframe数据转化为含有HTML格式的字符串。\n",
    "\n",
    "但是随着您的报告变得越来越复杂或您选择将Jinja模板用于您的网络应用，jinja的这些功能将为您提供良好的服务。Jinja的另一个不错的功能是它包含多个内置过滤器，这些过滤器允许我们以Pandas中难以做到的方式格式化我们的一些数据。\n",
    "\n",
    "为了在我们的应用程序中使用Jinja，我们需要做三件事：\n",
    "\n",
    "```\n",
    "1. 创建一个模板\n",
    "2. 将变量添加到模板上下文中\n",
    "3. 将模板渲染为HTML\n",
    "```\n",
    "\n",
    "这是一个非常简单的模板，我们称之为myreport.html：\n",
    "\n",
    "```html\n",
    "<!DOCTYPE html>\n",
    "<html>\n",
    "<head lang=\"en\">\n",
    "    <meta charset=\"UTF-8\">\n",
    "    <title>{{ title }}</title>\n",
    "</head>\n",
    "<body>\n",
    "    <h2>Sales Funnel Report - National</h2>\n",
    "     {{ national_pivot_table }}\n",
    "</body>\n",
    "</html>\n",
    "```\n",
    "\n",
    "上面html代码中拥有 ``{{title}} 和 {{national_pivot_table }}`` 这两个关键词。这两个关键词用来接收需要渲染的数据，比如图片对象、dataframe对象等。\n",
    "\n",
    "要填充这些变量，我们需要创建一个Jinja环境并获取我们的模板对象："
   ]
  },
  {
   "cell_type": "code",
   "execution_count": 3,
   "metadata": {},
   "outputs": [],
   "source": [
    "from jinja2 import Environment, FileSystemLoader\n",
    "env = Environment(loader=FileSystemLoader('.'))\n",
    "template = env.get_template('myreport.html')"
   ]
  },
  {
   "cell_type": "markdown",
   "metadata": {},
   "source": [
    "在上面的示例中，我假设模板位于当前目录中，但您可以将完整路径放到模板位置。\n",
    "\n",
    "另一个关键组件是 ``env`` 的创建。 这个变量是我们将数据（或对象）填充给模板的方式。 我们创建了一个名为 ``template_var`` 的字典，其中包含我们想要传递给模板的所有变量。\n",
    "\n",
    "``请注意变量的名称如何与我们的模板匹配。即名称要与myreport.html中的{{}}夹住的关键词一样。``"
   ]
  },
  {
   "cell_type": "code",
   "execution_count": 4,
   "metadata": {},
   "outputs": [],
   "source": [
    "template_vars = {\"title\" : \"Sales Funnel Report - National\",\n",
    "                 \"national_pivot_table\": sales_report.to_html()}"
   ]
  },
  {
   "cell_type": "markdown",
   "metadata": {},
   "source": [
    "最后一步是将 ``template_vars`` 渲染到html模板中，并输出为html字符串，最终我们将使用该html字符串来生成pdf报告。 "
   ]
  },
  {
   "cell_type": "code",
   "execution_count": 5,
   "metadata": {},
   "outputs": [],
   "source": [
    "html_out = template.render(template_vars)"
   ]
  },
  {
   "cell_type": "markdown",
   "metadata": {},
   "source": [
    "为简洁起见，我不会显示完整的HTML，但您应该明白这一点。\n",
    "## 生成pdf\n",
    "pdf报告的生成部分相当简单，这里用到weasyprint库"
   ]
  },
  {
   "cell_type": "code",
   "execution_count": 9,
   "metadata": {},
   "outputs": [],
   "source": [
    "from weasyprint import HTML\n",
    "HTML(string=html_out).write_pdf(\"report.pdf\")"
   ]
  },
  {
   "cell_type": "markdown",
   "metadata": {},
   "source": [
    "![](img/ugly_table.png)\n",
    "但是打开的pdf样式很简单，白底黑字并不美观。之所以这样是因为我们没有使用自定义样式表css，但是咱们不熟悉css，有一种简单的办法就是用成熟的css，这里我用的``typography.css`` 作为填充表格时的样式表。这个css的优点有：\n",
    "\n",
    "```\n",
    "1. 相对较小且易于理解\n",
    "2. 可以在PDF引擎中运行而不会抛出错误和警告\n",
    "3. 能让表格表格看起来很美观\n",
    "```\n",
    "\n",
    "让我们尝试使用我们更新的样式表重新渲染它："
   ]
  },
  {
   "cell_type": "code",
   "execution_count": 12,
   "metadata": {},
   "outputs": [],
   "source": [
    "HTML(string=html_out).write_pdf('beautiful_report.pdf', stylesheets=[\"typography.css\"])"
   ]
  },
  {
   "cell_type": "markdown",
   "metadata": {},
   "source": [
    "![](img/beautiful_table.png)\n",
    "仅仅是添加了一个stylesheets参数就让输出结果瞬间变得高端大气上档次。\n",
    "\n",
    "## 更复杂的模板\n",
    "到目前为止，我们输出的pdf结果中只有一种数据，即dataframe。如果pdf中除了dataframe信息，我们还要有excel信息，这就要用到to_excel()方法。\n",
    "\n",
    "为了生成更有用的报告，我们将结合上面显示的摘要统计信息以及分析报告，以便为每个Manager包含一个单独的PDF页面。\n",
    "\n",
    "让我们从更新的模板（newmyreport.html）开始：\n",
    "\n",
    "```html\n",
    "<!DOCTYPE html>\n",
    "<html>\n",
    "<head lang=\"en\">\n",
    "    <meta charset=\"UTF-8\">\n",
    "    <title>{{ title }} </title>\n",
    "</head>\n",
    "<body>\n",
    "<div class=\"container\">\n",
    "    <h2>Sales Funnel Report - National</h2>\n",
    "     {{ national_pivot_table }}\n",
    "    {% include \"summary.html\" %}\n",
    "</div>\n",
    "<div class=\"container\">\n",
    "    {% for manager in Manager_Detail %}\n",
    "        <p style=\"page-break-before: always\" ></p>\n",
    "        <h2>Sales Funnel Report - {{manager.0}}</h2>\n",
    "        {{manager.1}}\n",
    "        {% include \"summary.html\" %}\n",
    "    {% endfor %}\n",
    "</div>\n",
    "</body>\n",
    "</html>\n",
    "```\n",
    "\n",
    "你会注意到的第一件事是有一个include语句提到了另一个文件。 include允许我们引入一段HTML代码并在代码的不同部分中重复使用它。在这种情况下，摘要包含我们希望包含在每个报告中的一些简单的国家级统计数据，以便管理人员可以将其绩效与全国平均水平进行比较。\n",
    "\n",
    "这是summary.html的样子：\n",
    "\n",
    "```html\n",
    "<h3>National Summary: CPUs</h3>\n",
    "    <ul>\n",
    "        <li>Average Quantity: {{CPU.0|round(1)}}</li>\n",
    "        <li>Average Price: {{CPU.1|round(1)}}</li>\n",
    "    </ul>\n",
    "<h3>National Summary: Software</h3>\n",
    "    <ul>\n",
    "        <li>Average Quantity: {{Software.0|round(1)}}</li>\n",
    "        <li>Average Price: {{Software.1|round(1)}}</li>\n",
    "    </ul>\n",
    "```\n",
    "\n",
    "在这个片段中，您将看到我们可以访问的其他变量：``CPU和Software``。其中每个都是``一个python列表``，其中包括CPU和Software销售的平均数量和价格。\n",
    "\n",
    "您可能还注意到我们使用了 ``|`` 将每个值舍入到小数点后1位。这是使用Jinja过滤器的一个具体示例。\n",
    "\n",
    "还有一个 ``for循环`` ，允许我们在报告中显示每个 ``Manager``的详细信息。 Jinja的模板语言只包含一小部分改变控制流的代码。基本for循环几乎是任何模板的支柱，因此它们应该对大多数人有意义。\n",
    "\n",
    "我想调出一段看起来有点不合适的最后一段代码：\n",
    "\n",
    "```\n",
    "<p style=\"page-break-before: always\" ></p>\n",
    "```\n",
    "\n",
    "这是一个简单的CSS指令，加了这个样式的元素，会和后面的隔开，单独作为一页，该元素后的内容被作为另起一页。"
   ]
  },
  {
   "cell_type": "markdown",
   "metadata": {},
   "source": [
    "## 额外的统计量\n",
    "现在我们已经完成了模板，这里是如何创建模板中使用的额外变量。\n",
    "\n",
    "这是一个简单的汇总函数："
   ]
  },
  {
   "cell_type": "code",
   "execution_count": 21,
   "metadata": {},
   "outputs": [],
   "source": [
    "def get_summary_stats(df, product):\n",
    "    \"\"\"\n",
    "    For certain products we want National Summary level information on the reports\n",
    "    Return a list of the average quantity and price\n",
    "    \"\"\"\n",
    "    results = []\n",
    "    results.append(df[df[\"Product\"]==product][\"Quantity\"].mean())\n",
    "    results.append(df[df[\"Product\"]==product][\"Price\"].mean())\n",
    "    return results"
   ]
  },
  {
   "cell_type": "markdown",
   "metadata": {},
   "source": [
    "我们也需要创建manager details "
   ]
  },
  {
   "cell_type": "code",
   "execution_count": 22,
   "metadata": {},
   "outputs": [],
   "source": [
    "manager_df = []\n",
    "for manager in sales_report.index.get_level_values(0).unique():\n",
    "    manager_df.append([manager, sales_report.xs(manager, level=0).to_html()])"
   ]
  },
  {
   "cell_type": "markdown",
   "metadata": {},
   "source": [
    "最后，在模板中调用这些变量"
   ]
  },
  {
   "cell_type": "code",
   "execution_count": 23,
   "metadata": {},
   "outputs": [],
   "source": [
    "template_vars2 = {\"title\" : \"National Sales Funnel Report\",\n",
    "                 \"CPU\" : get_summary_stats(df, \"CPU\"),\n",
    "                 \"Software\": get_summary_stats(df, \"Software\"),\n",
    "                 \"national_pivot_table\": sales_report.to_html(),\n",
    "                 \"Manager_Detail\": manager_df}\n",
    "\n",
    "# Render our file and create the PDF using our css style file\n",
    "html_out = template.render(template_vars2)\n",
    "HTML(string=html_out).write_pdf(\"wholereport.pdf\",  stylesheets=[\"typography.css\"])"
   ]
  },
  {
   "cell_type": "code",
   "execution_count": 20,
   "metadata": {},
   "outputs": [
    {
     "data": {
      "text/plain": [
       "[1.8888888888888888, 51666.666666666664]"
      ]
     },
     "execution_count": 20,
     "metadata": {},
     "output_type": "execute_result"
    }
   ],
   "source": [
    "get_summary_stats(df, \"CPU\")"
   ]
  },
  {
   "cell_type": "markdown",
   "metadata": {},
   "source": [
    "pip3 install cairocffi\n",
    "brew install cairo\n",
    "brew install pango"
   ]
  }
 ],
 "metadata": {
  "kernelspec": {
   "display_name": "Python 3",
   "language": "python",
   "name": "python3"
  },
  "language_info": {
   "codemirror_mode": {
    "name": "ipython",
    "version": 3
   },
   "file_extension": ".py",
   "mimetype": "text/x-python",
   "name": "python",
   "nbconvert_exporter": "python",
   "pygments_lexer": "ipython3",
   "version": "3.7.0"
  }
 },
 "nbformat": 4,
 "nbformat_minor": 2
}
