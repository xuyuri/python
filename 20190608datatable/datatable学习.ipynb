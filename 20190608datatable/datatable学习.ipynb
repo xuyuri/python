{
 "cells": [
  {
   "cell_type": "markdown",
   "metadata": {},
   "source": [
    "虽然pandas是数据分析、机器学习等必备利器，但现在流行的机器学习应用训练模型动辄需要GB级别的数据，很多时候pandas无法快速读取大数据文件或者进行高效运算，甚至可能存在内存溢出等情况。\n",
    "\n",
    "如果是R语言的用户应该很熟悉data.table库， 该库是R语言中data.frame库的拓展库，可以让R语言用户轻松处理海量数据，比如让电脑很轻松高速地读取100Gb文件。现在python生态圈也有了自己的data.table，这个库的名字叫做datatable。目前datatable不支持windows系统，相应的windows版本正在开发中。\n",
    "![](img/datatable.png)\n",
    "\n",
    "### 安装"
   ]
  },
  {
   "cell_type": "code",
   "execution_count": 2,
   "metadata": {},
   "outputs": [],
   "source": [
    "!pip3 install datatable"
   ]
  },
  {
   "cell_type": "markdown",
   "metadata": {},
   "source": [
    "## 一、读取数据\n",
    "读取的数据先转化为Frame对象，是一种拥有很多行很多列的二维数组，功能类似于DataFrame或者SQL表。\n",
    "\n",
    "我们用的测试数据来源于Kaggle的lending数据集 https://www.kaggle.com/wendykan/lending-club-loan-data#loan.csv， 该数据集包括2007-2015年的含有相关145个特征，共计226万条贷款记录。文件大概700M，我们可以使用pandas和datatable库分别读取，测试读取速度"
   ]
  },
  {
   "cell_type": "code",
   "execution_count": 8,
   "metadata": {},
   "outputs": [],
   "source": [
    "import numpy as np\n",
    "import pandas as pd\n",
    "import datatable as dt"
   ]
  },
  {
   "cell_type": "code",
   "execution_count": 9,
   "metadata": {},
   "outputs": [
    {
     "name": "stdout",
     "output_type": "stream",
     "text": [
      "CPU times: user 33.2 s, sys: 8.96 s, total: 42.1 s                              \u001b[m\u001b[38m\u001b[38m\u001b[38m\u001b[38m\u001b[38m\u001b[38m\u001b[38m\u001b[38m\u001b[38m\u001b[38m\u001b[38m\u001b[38m\u001b[38m\u001b[38m\u001b[38m\u001b[38m\u001b[38m\u001b[38m\u001b[38m\u001b[38m\u001b[38m\u001b[38m\u001b[38m\u001b[38m\u001b[38m\u001b[38m\u001b[38m\u001b[38m\u001b[38m\u001b[38m\u001b[38m\u001b[38m\u001b[38m\u001b[38m\u001b[38m\u001b[38m\u001b[38m\u001b[38m\u001b[38m\u001b[38m\u001b[38m\u001b[38m\u001b[38m\u001b[38m\u001b[38m\u001b[38m\u001b[38m\u001b[38m\u001b[38m\u001b[38m\u001b[38m\u001b[38m\u001b[38m\u001b[38m\u001b[38m\u001b[38m\u001b[38m\u001b[38m\u001b[38m\u001b[38m\u001b[38m\u001b[38m\u001b[38m\u001b[38m\u001b[38m\u001b[38m\u001b[38m\u001b[38m\u001b[38m\u001b[38m\u001b[38m\u001b[38m\u001b[38m\u001b[38m\u001b[38m\u001b[38m\u001b[38m\u001b[38m\u001b[38m\u001b[38m\u001b[38m\u001b[38m\u001b[38m\u001b[38m\u001b[38m\u001b[38m\u001b[38m\u001b[38m\u001b[38m\u001b[38m\u001b[38m\u001b[38m\u001b[38m\u001b[38m\u001b[38m\u001b[38m\u001b[38m\u001b[38m\u001b[38m\u001b[38m\u001b[38m\u001b[38m\u001b[38m\u001b[38m\u001b[38m\u001b[38m\u001b[38m\u001b[38m\u001b[38m\u001b[38m\u001b[38m\u001b[38m\u001b[38m\u001b[38m\u001b[38m\u001b[38m\u001b[38m\u001b[38m\u001b[38m\u001b[38m\u001b[38m\u001b[38m\u001b[38m\u001b[38m\u001b[38m\u001b[38m\u001b[38m\u001b[38m\u001b[38m\u001b[38m\u001b[38m\u001b[38m\u001b[38m\u001b[38m\u001b[38m\u001b[38m\u001b[38m\u001b[38m\u001b[38m\u001b[38m\u001b[38m\u001b[38m\u001b[38m\u001b[38m\u001b[38m\u001b[38m\u001b[38m\u001b[38m\u001b[38m\u001b[38m\u001b[38m\u001b[38m\u001b[38m\u001b[38m\u001b[38m\u001b[38m\u001b[38m\u001b[38m\u001b[38m\u001b[38m\u001b[38m\u001b[38m\u001b[38m\u001b[38m\u001b[38m\u001b[38m\u001b[38m\u001b[38m\u001b[38m\u001b[38m\u001b[38m\u001b[38m\u001b[38m\u001b[38m\u001b[38m\u001b[38m\u001b[38m\u001b[38m\u001b[38m\u001b[38m\u001b[38m\u001b[38m\u001b[38m\u001b[38m\u001b[38m\u001b[38m\u001b[38m\u001b[38m\u001b[38m\u001b[38m\u001b[38m\u001b[38m\u001b[38m\u001b[38m\u001b[38m\u001b[38m\u001b[38m\u001b[38m\u001b[38m\u001b[38m\u001b[38m\u001b[38m\u001b[38m\u001b[38m\u001b[38m\u001b[38m\u001b[38m\u001b[38m\u001b[38m\u001b[38m\u001b[38m\u001b[38m\u001b[38m\u001b[38m\u001b[38m\u001b[38m\u001b[38m\u001b[38m\u001b[38m\u001b[38m\u001b[38m\u001b[38m\u001b[38m\u001b[38m\u001b[38m\u001b[38m\u001b[38m\u001b[38m\u001b[38m\u001b[38m\u001b[38m\u001b[38m\u001b[38m\u001b[38m\u001b[38m\u001b[38m\u001b[38m\u001b[38m\u001b[38m\u001b[38m\u001b[38m\u001b[38m\u001b[38m\u001b[38m\u001b[38m\u001b[38m\u001b[38m\u001b[38m\u001b[38m\u001b[38m\u001b[38m\u001b[38m\u001b[38m\u001b[38m\u001b[38m\u001b[38m\u001b[38m\u001b[38m\u001b[38m\u001b[38m\u001b[38m\u001b[38m\u001b[38m\u001b[38m\u001b[38m\u001b[38m\u001b[38m\u001b[38m\u001b[38m\u001b[38m\u001b[38m\u001b[38m\u001b[38m\u001b[38m\u001b[38m\u001b[38m\u001b[38m\u001b[38m\u001b[38m\u001b[38m\u001b[38m\u001b[38m\u001b[38m\u001b[38m\u001b[38m\u001b[38m\u001b[38m\u001b[38m\u001b[38m\u001b[38m\u001b[38m\u001b[38m\u001b[38m\u001b[38m\u001b[38m\u001b[38m\u001b[38m\u001b[38m\u001b[38m\u001b[38m\u001b[38m\u001b[38m\u001b[38m\u001b[38m\u001b[38m\u001b[38m\u001b[38m\u001b[38m\u001b[38m\u001b[38m\u001b[38m\u001b[38m\u001b[38m\u001b[38m\u001b[38m\u001b[38m\u001b[38m\u001b[38m\u001b[38m\u001b[38m\u001b[38m\u001b[38m\u001b[38m\u001b[38m\u001b[38m\u001b[38m\u001b[38m\u001b[38m\u001b[38m\u001b[38m\u001b[38m\u001b[38m\u001b[38m\u001b[38m\u001b[38m\u001b[38m\u001b[38m\u001b[38m\u001b[38m\u001b[38m\u001b[38m\u001b[38m\u001b[38m\u001b[38m\u001b[38m\u001b[38m\u001b[38m\u001b[38m\u001b[38m\u001b[38m\u001b[38m\u001b[38m\u001b[38m\u001b[38m\u001b[38m\u001b[38m\u001b[38m\u001b[38m\u001b[38m\u001b[38m\u001b[38m\u001b[38m\u001b[38m\u001b[38m\u001b[38m\u001b[38m\u001b[38m\u001b[38m\u001b[38m\u001b[38m\u001b[38m\u001b[38m\u001b[38m\u001b[38m\u001b[38m\u001b[38m\u001b[38m\u001b[38m\u001b[38m\u001b[38m\u001b[38m\u001b[38m\u001b[38m\u001b[38m\u001b[38m\u001b[38m\u001b[38m\u001b[38m\u001b[38m\u001b[38m\u001b[38m\u001b[38m\u001b[38m\u001b[38m\u001b[38m\u001b[38m\u001b[38m\u001b[38m\u001b[38m\u001b[38m\u001b[38m\u001b[38m\u001b[38m\u001b[38m\u001b[38m\u001b[38m\u001b[38m\u001b[38m\u001b[38m\u001b[38m\u001b[38m\u001b[38m\u001b[38m\u001b[38m\u001b[38m\u001b[38m\u001b[38m\u001b[38m\u001b[38m\u001b[38m\u001b[38m\u001b[38m\u001b[38m\u001b[38m\u001b[38m\u001b[38m\u001b[38m\u001b[38m\u001b[38m\u001b[38m\u001b[38m\u001b[38m\u001b[38m\u001b[38m\u001b[38m\u001b[38m\u001b[38m\u001b[38m\u001b[38m\u001b[38m\u001b[38m\u001b[38m\u001b[38m\u001b[38m\u001b[38m\u001b[38m\u001b[38m\u001b[38m\u001b[38m\u001b[38m\u001b[38m\u001b[38m\u001b[38m\u001b[38m\u001b[38m\u001b[38m\u001b[38m\u001b[38m\u001b[38m\u001b[38m\u001b[38m\u001b[38m\u001b[38m\u001b[38m\u001b[38m\u001b[38m\u001b[38m\u001b[38m\u001b[38m\u001b[38m\u001b[38m\u001b[38m\u001b[38m\u001b[38m\u001b[38m\u001b[38m\u001b[38m\u001b[38m\u001b[38m\u001b[38m\u001b[38m\u001b[38m\u001b[38m\u001b[38m\u001b[38m\u001b[38m\u001b[38m\u001b[38m\u001b[38m\u001b[38m\u001b[38m\u001b[38m\u001b[38m\u001b[38m\u001b[38m\u001b[38m\u001b[38m\u001b[38m\u001b[38m\u001b[38m\u001b[38m\u001b[38m\u001b[38m\u001b[38m\u001b[38m\u001b[38m\u001b[38m\u001b[38m\u001b[38m\u001b[38m\u001b[38m\u001b[38m\u001b[38m\u001b[38m\u001b[38m\u001b[38m\u001b[38m\u001b[38m\u001b[38m\u001b[38m\u001b[38m\u001b[38m\u001b[38m\u001b[38m\u001b[38m\u001b[38m\u001b[38m\u001b[38m\u001b[38m\u001b[38m\u001b[38m\u001b[38m\u001b[38m\u001b[38m\u001b[38m\u001b[38m\u001b[38m\u001b[38m\u001b[38m\u001b[38m\u001b[38m\u001b[38m\u001b[38m\u001b[38m\u001b[38m\u001b[38m\u001b[38m\u001b[38m\u001b[38m\u001b[38m\u001b[38m\u001b[38m\u001b[38m\u001b[38m\u001b[38m\u001b[38m\u001b[38m\u001b[38m\u001b[38m\u001b[38m\u001b[38m\u001b[38m\u001b[38m\u001b[38m\u001b[38m\u001b[38m\u001b[38m\u001b[38m\u001b[38m\u001b[38m\u001b[38m\u001b[38m\u001b[38m\u001b[38m\u001b[38m\u001b[38m\u001b[38m\u001b[38m\u001b[38m\u001b[38m\u001b[38m\u001b[38m\u001b[38m\u001b[38m\u001b[38m\u001b[38m\u001b[38m\u001b[38m\u001b[38m\u001b[38m\u001b[38m\u001b[38m\u001b[38m\u001b[38m\u001b[38m\u001b[38m\u001b[38m\u001b[38m\u001b[38m\u001b[38m\u001b[38m\u001b[38m\u001b[38m\u001b[38m\u001b[38m\u001b[38m\u001b[38m\u001b[38m\u001b[38m\u001b[38m\u001b[38m\u001b[38m\u001b[38m\u001b[38m\u001b[38m\u001b[38m\u001b[38m\u001b[38m\u001b[38m\u001b[38m\u001b[38m\u001b[38m\u001b[38m\u001b[38m\u001b[38m\u001b[38m\u001b[38m\u001b[38m\u001b[38m\u001b[38m\u001b[38m\u001b[38m\u001b[38m\u001b[38m\u001b[38m\u001b[38m\u001b[38m\u001b[38m\u001b[38m\u001b[38m\u001b[38m\u001b[38m\u001b[38m\u001b[38m\u001b[38m\u001b[38m\u001b[38m\u001b[38m\u001b[38m\u001b[38m\u001b[38m\u001b[38m\u001b[38m\u001b[38m\u001b[38m\u001b[38m\u001b[38m\u001b[38m\u001b[38m\u001b[38m\u001b[38m\u001b[38m\u001b[38m\u001b[38m\u001b[38m\u001b[38m\u001b[38m\u001b[38m\u001b[38m\u001b[38m\u001b[38m\u001b[38m\u001b[38m\u001b[38m\u001b[38m\u001b[38m\u001b[38m\u001b[38m\u001b[38m\u001b[38m\u001b[38m\u001b[38m\u001b[38m\u001b[38m\u001b[38m\u001b[38m\u001b[38m\u001b[38m\u001b[38m\u001b[38m\u001b[38m\u001b[38m\u001b[38m\u001b[38m\u001b[38m\u001b[38m\u001b[38m\u001b[38m\u001b[38m\u001b[38m\u001b[38m\u001b[38m\u001b[38m\u001b[38m\u001b[38m\u001b[38m\u001b[38m\u001b[38m\u001b[38m\u001b[38m\u001b[38m\u001b[38m\u001b[38m\u001b[38m\u001b[38m\u001b[38m\u001b[38m\u001b[38m\u001b[38m\u001b[38m\u001b[38m\u001b[38m\u001b[38m\u001b[38m\u001b[38m\u001b[38m\u001b[38m\u001b[38m\u001b[38m\u001b[38m\u001b[38m\u001b[38m\u001b[38m\u001b[38m\u001b[38m\u001b[38m\u001b[38m\u001b[38m\u001b[38m\u001b[38m\u001b[38m\u001b[38m\u001b[38m\u001b[38m\u001b[38m\u001b[38m\u001b[38m\u001b[38m\u001b[38m\u001b[38m\u001b[38m\u001b[38m\u001b[38m\u001b[38m\u001b[38m\u001b[38m\u001b[38m\u001b[38m\u001b[38m\u001b[38m\u001b[38m\u001b[38m\u001b[38m\u001b[38m\u001b[38m\u001b[38m\u001b[38m\u001b[38m\u001b[38m\u001b[38m\u001b[38m\u001b[38m\u001b[38m\u001b[38m\u001b[38m\u001b[38m\u001b[38m\u001b[38m\u001b[38m\u001b[38m\u001b[38m\u001b[38m\u001b[38m\u001b[38m\u001b[38m\u001b[38m\u001b[38m\u001b[38m\u001b[38m\u001b[38m\u001b[38m\u001b[38m\u001b[38m\u001b[38m\u001b[38m\u001b[38m\u001b[38m\u001b[38m\u001b[38m\u001b[38m\u001b[38m\u001b[38m\u001b[38m\u001b[38m\u001b[38m\u001b[38m\u001b[38m\u001b[38m\u001b[38m\u001b[38m\u001b[38m\u001b[38m\u001b[38m\u001b[38m\u001b[38m\u001b[38m\u001b[38m\u001b[38m\u001b[38m\u001b[38m\u001b[38m\u001b[38m\u001b[38m\u001b[38m\u001b[38m\u001b[38m\u001b[38m\u001b[38m\u001b[38m\u001b[38m\u001b[38m\u001b[38m\u001b[38m\u001b[38m\u001b[38m\u001b[38m\u001b[38m\u001b[38m\u001b[38m\u001b[38m\u001b[38m\u001b[38m\u001b[38m\u001b[38m\u001b[38m\u001b[38m\u001b[38m\u001b[38m\u001b[38m\u001b[38m\u001b[38m\u001b[38m\u001b[38m\u001b[38m\u001b[38m\u001b[38m\u001b[38m\u001b[38m\u001b[38m\u001b[38m\u001b[38m\u001b[38m\u001b[38m\u001b[38m\u001b[38m\u001b[38m\u001b[38m\u001b[38m\u001b[38m\u001b[38m\u001b[38m\u001b[38m\u001b[38m\u001b[38m\u001b[38m\u001b[38m\u001b[38m\u001b[38m\u001b[38m\u001b[38m\u001b[38m\u001b[38m\u001b[38m\u001b[38m\u001b[38m\u001b[38m\u001b[38m\u001b[38m\u001b[38m\u001b[38m\u001b[38m\u001b[38m\u001b[38m\u001b[38m\u001b[38m\u001b[38m\u001b[38m\u001b[38m\u001b[38m\u001b[38m\u001b[38m\u001b[38m\u001b[38m\u001b[38m\u001b[38m\u001b[38m\u001b[38m\u001b[38m\u001b[38m\u001b[38m\u001b[38m\u001b[38m\u001b[38m\u001b[38m\u001b[38m\u001b[38m\u001b[38m\u001b[38m\u001b[38m\u001b[38m\u001b[38m\u001b[38m\u001b[38m\u001b[38m\u001b[38m\u001b[38m\u001b[38m\u001b[38m\u001b[38m\u001b[38m\u001b[38m\u001b[38m\u001b[38m\u001b[38m\u001b[38m\u001b[38m\u001b[38m\u001b[38m\u001b[38m\u001b[38m\u001b[38m\u001b[38m\u001b[38m\u001b[38m\u001b[38m\u001b[38m\u001b[38m\u001b[38m\u001b[38m\u001b[38m\u001b[38m\u001b[38m\u001b[38m\u001b[38m\u001b[38m\u001b[38m\u001b[38m\u001b[38m\u001b[38m\u001b[38m\u001b[38m\u001b[38m\u001b[38m\u001b[38m\u001b[38m\u001b[38m\u001b[38m\u001b[38m\u001b[38m\u001b[38m\u001b[38m\u001b[38m\u001b[38m\u001b[38m\u001b[38m\u001b[38m\u001b[38m\u001b[38m\u001b[38m\u001b[38m\u001b[38m\u001b[38m\u001b[38m\u001b[38m\u001b[38m\u001b[38m\u001b[38m\u001b[38m\u001b[38m\u001b[38m\u001b[38m\u001b[38m\u001b[38m\u001b[38m\u001b[38m\u001b[38m\u001b[38m\u001b[38m\u001b[38m\u001b[38m\u001b[38m\u001b[38m\u001b[38m\u001b[38m\u001b[38m\u001b[38m\u001b[38m\u001b[38m\u001b[38m\u001b[38m\u001b[38m\u001b[38m\u001b[38m\u001b[38m\u001b[38m\u001b[38m\u001b[38m\u001b[38m\u001b[38m\u001b[38m\u001b[38m\u001b[38m\u001b[38m\u001b[38m\u001b[38m\u001b[38m\u001b[38m\u001b[38m\u001b[38m\u001b[38m\u001b[38m\u001b[38m\u001b[38m\u001b[38m\u001b[38m\u001b[38m\u001b[38m\u001b[38m\u001b[38m\u001b[38m\u001b[38m\u001b[38m\u001b[38m\u001b[38m\u001b[38m\u001b[38m\u001b[38m\u001b[38m\u001b[38m\u001b[38m\u001b[38m\u001b[38m\u001b[38m\u001b[38m\u001b[38m\u001b[38m\u001b[38m\u001b[38m\u001b[38m\u001b[38m\u001b[38m\u001b[38m\u001b[38m\u001b[38m\u001b[38m\u001b[38m\u001b[38m\u001b[38m\u001b[38m\u001b[38m\u001b[38m\u001b[38m\u001b[38m\u001b[38m\u001b[38m\u001b[38m\u001b[38m\u001b[38m\u001b[38m\u001b[38m\u001b[38m\u001b[38m\u001b[38m\u001b[38m\u001b[38m\u001b[38m\u001b[38m\u001b[38m\u001b[38m\u001b[38m\u001b[38m\u001b[38m\u001b[38m\u001b[38m\u001b[38m\u001b[38m\u001b[38m\u001b[38m\u001b[38m\u001b[38m\u001b[38m\u001b[38m\u001b[38m\u001b[38m\u001b[38m\u001b[38m\u001b[38m\u001b[38m\u001b[38m\u001b[38m\u001b[38m\u001b[38m\u001b[38m\u001b[38m\u001b[38m\u001b[38m\u001b[38m\u001b[38m\u001b[38m\u001b[38m\u001b[38m\u001b[38m\u001b[38m\u001b[38m\u001b[38m\u001b[38m\u001b[38m\u001b[38m\u001b[38m\u001b[38m\u001b[38m\u001b[38m\u001b[38m\u001b[38m\u001b[38m\u001b[38m\n",
      "Wall time: 24.6 s\n"
     ]
    }
   ],
   "source": [
    "%time datatable_df = dt.fread('data.csv')"
   ]
  },
  {
   "cell_type": "code",
   "execution_count": 3,
   "metadata": {},
   "outputs": [
    {
     "name": "stderr",
     "output_type": "stream",
     "text": [
      "<string>:2: DtypeWarning: Columns (19,47,55,112,123,124,125,128,129,130,133,139,140,141) have mixed types. Specify dtype option on import or set low_memory=False.\n"
     ]
    },
    {
     "name": "stdout",
     "output_type": "stream",
     "text": [
      "CPU times: user 53.5 s, sys: 15 s, total: 1min 8s\n",
      "Wall time: 1min 12s\n"
     ]
    }
   ],
   "source": [
    "%time pandas_df = pd.read_csv('data.csv')"
   ]
  },
  {
   "cell_type": "markdown",
   "metadata": {},
   "source": [
    "从上面两个读取方式看，pandas用时1分钟，而datatable用时14.2秒\n",
    "## 二、 Frame转换\n",
    "datatable读取数据可以转化为pd.DataFrame"
   ]
  },
  {
   "cell_type": "code",
   "execution_count": 4,
   "metadata": {},
   "outputs": [
    {
     "name": "stdout",
     "output_type": "stream",
     "text": [
      "CPU times: user 21.3 s, sys: 28.8 s, total: 50.1 s\n",
      "Wall time: 1min 3s\n"
     ]
    }
   ],
   "source": [
    "#转化为dataframe\n",
    "%time pandas_df = datatable_df.to_pandas()"
   ]
  },
  {
   "cell_type": "markdown",
   "metadata": {},
   "source": [
    "正常来讲使用datatable读取数据再转化为pd.DataFrame格式 比  直接使用pandas读取要快一些。\n",
    "## 三、基本的Frame属性"
   ]
  },
  {
   "cell_type": "code",
   "execution_count": 5,
   "metadata": {},
   "outputs": [
    {
     "name": "stdout",
     "output_type": "stream",
     "text": [
      "(2260668, 145)\n",
      "('id', 'member_id', 'loan_amnt', 'funded_amnt', 'funded_amnt_inv')\n",
      "(stype.bool8, stype.bool8, stype.int32, stype.int32, stype.float64)\n"
     ]
    }
   ],
   "source": [
    "print(datatable_df.shape)       # (行数, 列数)\n",
    "print(datatable_df.names[:5])   # 前5列的字段名\n",
    "print(datatable_df.stypes[:5])  # 列的数据类型(前5列)"
   ]
  },
  {
   "cell_type": "markdown",
   "metadata": {},
   "source": [
    "显示前5行"
   ]
  },
  {
   "cell_type": "code",
   "execution_count": 6,
   "metadata": {},
   "outputs": [
    {
     "data": {
      "text/html": [
       "<style type='text/css'>\n",
       ".datatable table.frame { margin-bottom: 0; }\n",
       ".datatable table.frame thead { border-bottom: none; }\n",
       ".datatable table.frame tr.coltypes td {  color: #FFFFFF;  line-height: 6px;  padding: 0 0.5em;}\n",
       ".datatable .bool { background: #DDDD99; }\n",
       ".datatable .obj  { background: #565656; }\n",
       ".datatable .int  { background: #5D9E5D; }\n",
       ".datatable .real { background: #4040CC; }\n",
       ".datatable .str  { background: #CC4040; }\n",
       ".datatable .row_index {  background: var(--jp-border-color3);  border-right: 1px solid var(--jp-border-color0);  color: var(--jp-ui-font-color3);  font-size: 9px;}\n",
       ".datatable .frame tr.coltypes .row_index {  background: var(--jp-border-color0);}\n",
       ".datatable th:nth-child(2) { padding-left: 12px; }\n",
       ".datatable .hellipsis {  color: var(--jp-cell-editor-border-color);}\n",
       ".datatable .vellipsis {  background: var(--jp-layout-color0);  color: var(--jp-cell-editor-border-color);}\n",
       ".datatable .na {  color: var(--jp-cell-editor-border-color);  font-size: 80%;}\n",
       ".datatable .footer { font-size: 9px; }\n",
       ".datatable .frame_dimensions {  background: var(--jp-border-color3);  border-top: 1px solid var(--jp-border-color0);  color: var(--jp-ui-font-color3);  display: inline-block;  opacity: 0.6;  padding: 1px 10px 1px 5px;}\n",
       "</style>\n",
       "<div class='datatable'>\n",
       "  <table class='frame'>\n",
       "  <thead>\n",
       "    <tr class='colnames'><td class='row_index'></td><th>id</th><th>member_id</th><th>loan_amnt</th><th>funded_amnt</th><th>funded_amnt_inv</th><th>term</th><th>int_rate</th><th>installment</th><th>grade</th><th>sub_grade</th><th class='vellipsis'>&hellip;</th><th>settlement_status</th><th>settlement_date</th><th>settlement_amount</th><th>settlement_percentage</th><th>settlement_term</th></tr>\n",
       "    <tr class='coltypes'><td class='row_index'></td><td class='bool' title='bool8'>&#x25AA;</td><td class='bool' title='bool8'>&#x25AA;</td><td class='int' title='int32'>&#x25AA;&#x25AA;&#x25AA;&#x25AA;</td><td class='int' title='int32'>&#x25AA;&#x25AA;&#x25AA;&#x25AA;</td><td class='real' title='float64'>&#x25AA;&#x25AA;&#x25AA;&#x25AA;&#x25AA;&#x25AA;&#x25AA;&#x25AA;</td><td class='str' title='str32'>&#x25AA;&#x25AA;&#x25AA;&#x25AA;</td><td class='real' title='float64'>&#x25AA;&#x25AA;&#x25AA;&#x25AA;&#x25AA;&#x25AA;&#x25AA;&#x25AA;</td><td class='real' title='float64'>&#x25AA;&#x25AA;&#x25AA;&#x25AA;&#x25AA;&#x25AA;&#x25AA;&#x25AA;</td><td class='str' title='str32'>&#x25AA;&#x25AA;&#x25AA;&#x25AA;</td><td class='str' title='str32'>&#x25AA;&#x25AA;&#x25AA;&#x25AA;</td><th class='vellipsis'>&hellip;</th><td class='str' title='str32'>&#x25AA;&#x25AA;&#x25AA;&#x25AA;</td><td class='str' title='str32'>&#x25AA;&#x25AA;&#x25AA;&#x25AA;</td><td class='real' title='float64'>&#x25AA;&#x25AA;&#x25AA;&#x25AA;&#x25AA;&#x25AA;&#x25AA;&#x25AA;</td><td class='real' title='float64'>&#x25AA;&#x25AA;&#x25AA;&#x25AA;&#x25AA;&#x25AA;&#x25AA;&#x25AA;</td><td class='int' title='int32'>&#x25AA;&#x25AA;&#x25AA;&#x25AA;</td></tr>\n",
       "  </thead>\n",
       "  <tbody>\n",
       "    <tr><td class='row_index'>0</td><td><span class=na>NA</span></td><td><span class=na>NA</span></td><td>2500</td><td>2500</td><td>2500</td><td>36 months</td><td>13.56</td><td>84.92</td><td>C</td><td>C1</td><td class=vellipsis>&hellip;</td><td></td><td></td><td><span class=na>NA</span></td><td><span class=na>NA</span></td><td><span class=na>NA</span></td></tr>\n",
       "    <tr><td class='row_index'>1</td><td><span class=na>NA</span></td><td><span class=na>NA</span></td><td>30000</td><td>30000</td><td>30000</td><td>60 months</td><td>18.94</td><td>777.23</td><td>D</td><td>D2</td><td class=vellipsis>&hellip;</td><td></td><td></td><td><span class=na>NA</span></td><td><span class=na>NA</span></td><td><span class=na>NA</span></td></tr>\n",
       "    <tr><td class='row_index'>2</td><td><span class=na>NA</span></td><td><span class=na>NA</span></td><td>5000</td><td>5000</td><td>5000</td><td>36 months</td><td>17.97</td><td>180.69</td><td>D</td><td>D1</td><td class=vellipsis>&hellip;</td><td></td><td></td><td><span class=na>NA</span></td><td><span class=na>NA</span></td><td><span class=na>NA</span></td></tr>\n",
       "    <tr><td class='row_index'>3</td><td><span class=na>NA</span></td><td><span class=na>NA</span></td><td>4000</td><td>4000</td><td>4000</td><td>36 months</td><td>18.94</td><td>146.51</td><td>D</td><td>D2</td><td class=vellipsis>&hellip;</td><td></td><td></td><td><span class=na>NA</span></td><td><span class=na>NA</span></td><td><span class=na>NA</span></td></tr>\n",
       "    <tr><td class='row_index'>4</td><td><span class=na>NA</span></td><td><span class=na>NA</span></td><td>30000</td><td>30000</td><td>30000</td><td>60 months</td><td>16.14</td><td>731.78</td><td>C</td><td>C4</td><td class=vellipsis>&hellip;</td><td></td><td></td><td><span class=na>NA</span></td><td><span class=na>NA</span></td><td><span class=na>NA</span></td></tr>\n",
       "    <tr><td class='row_index'>5</td><td><span class=na>NA</span></td><td><span class=na>NA</span></td><td>5550</td><td>5550</td><td>5550</td><td>36 months</td><td>15.02</td><td>192.45</td><td>C</td><td>C3</td><td class=vellipsis>&hellip;</td><td></td><td></td><td><span class=na>NA</span></td><td><span class=na>NA</span></td><td><span class=na>NA</span></td></tr>\n",
       "    <tr><td class='row_index'>6</td><td><span class=na>NA</span></td><td><span class=na>NA</span></td><td>2000</td><td>2000</td><td>2000</td><td>36 months</td><td>17.97</td><td>72.28</td><td>D</td><td>D1</td><td class=vellipsis>&hellip;</td><td></td><td></td><td><span class=na>NA</span></td><td><span class=na>NA</span></td><td><span class=na>NA</span></td></tr>\n",
       "    <tr><td class='row_index'>7</td><td><span class=na>NA</span></td><td><span class=na>NA</span></td><td>6000</td><td>6000</td><td>6000</td><td>36 months</td><td>13.56</td><td>203.79</td><td>C</td><td>C1</td><td class=vellipsis>&hellip;</td><td></td><td></td><td><span class=na>NA</span></td><td><span class=na>NA</span></td><td><span class=na>NA</span></td></tr>\n",
       "    <tr><td class='row_index'>8</td><td><span class=na>NA</span></td><td><span class=na>NA</span></td><td>5000</td><td>5000</td><td>5000</td><td>36 months</td><td>17.97</td><td>180.69</td><td>D</td><td>D1</td><td class=vellipsis>&hellip;</td><td></td><td></td><td><span class=na>NA</span></td><td><span class=na>NA</span></td><td><span class=na>NA</span></td></tr>\n",
       "    <tr><td class='row_index'>9</td><td><span class=na>NA</span></td><td><span class=na>NA</span></td><td>6000</td><td>6000</td><td>6000</td><td>36 months</td><td>14.47</td><td>206.44</td><td>C</td><td>C2</td><td class=vellipsis>&hellip;</td><td></td><td></td><td><span class=na>NA</span></td><td><span class=na>NA</span></td><td><span class=na>NA</span></td></tr>\n",
       "  </tbody>\n",
       "  </table>\n",
       "  <div class='footer'>\n",
       "    <div class='frame_dimensions'>10 rows &times; 145 columns</div>\n",
       "  </div>\n",
       "</div>\n"
      ],
      "text/plain": []
     },
     "execution_count": 6,
     "metadata": {},
     "output_type": "execute_result"
    }
   ],
   "source": [
    "datatable_df.head(10)"
   ]
  },
  {
   "cell_type": "markdown",
   "metadata": {},
   "source": [
    "字段名的颜色表示数据类型，其中红色表示文本，绿色表示整数，蓝色表示浮点型。\n",
    "## 四、描述性统计\n",
    "在pandas中进行描述性统计是一件很吃内存的进程，但datatable不怕这事。"
   ]
  },
  {
   "cell_type": "code",
   "execution_count": null,
   "metadata": {},
   "outputs": [],
   "source": [
    "datatable_df.sum()  \n",
    "datatable_df.nunique()\n",
    "datatable_df.sd()       \n",
    "datatable_df.max()\n",
    "datatable_df.min()\n",
    "datatable_df.mean()"
   ]
  },
  {
   "cell_type": "markdown",
   "metadata": {},
   "source": [
    "例如我们分别使用datatable和pandas来计算mean"
   ]
  },
  {
   "cell_type": "code",
   "execution_count": 24,
   "metadata": {},
   "outputs": [
    {
     "name": "stdout",
     "output_type": "stream",
     "text": [
      "CPU times: user 2.67 ms, sys: 729 µs, total: 3.4 ms\n",
      "Wall time: 2.32 ms\n"
     ]
    },
    {
     "data": {
      "text/html": [
       "<div class='datatable'>\n",
       "  <table class='frame'>\n",
       "  <thead>\n",
       "    <tr class='colnames'><td class='row_index'></td><th>id</th><th>member_id</th><th>loan_amnt</th><th>funded_amnt</th><th>funded_amnt_inv</th><th>term</th><th>int_rate</th><th>installment</th><th>grade</th><th>sub_grade</th><th class='vellipsis'>&hellip;</th><th>settlement_status</th><th>settlement_date</th><th>settlement_amount</th><th>settlement_percentage</th><th>settlement_term</th></tr>\n",
       "    <tr class='coltypes'><td class='row_index'></td><td class='real' title='float64'>&#x25AA;&#x25AA;&#x25AA;&#x25AA;&#x25AA;&#x25AA;&#x25AA;&#x25AA;</td><td class='real' title='float64'>&#x25AA;&#x25AA;&#x25AA;&#x25AA;&#x25AA;&#x25AA;&#x25AA;&#x25AA;</td><td class='real' title='float64'>&#x25AA;&#x25AA;&#x25AA;&#x25AA;&#x25AA;&#x25AA;&#x25AA;&#x25AA;</td><td class='real' title='float64'>&#x25AA;&#x25AA;&#x25AA;&#x25AA;&#x25AA;&#x25AA;&#x25AA;&#x25AA;</td><td class='real' title='float64'>&#x25AA;&#x25AA;&#x25AA;&#x25AA;&#x25AA;&#x25AA;&#x25AA;&#x25AA;</td><td class='real' title='float64'>&#x25AA;&#x25AA;&#x25AA;&#x25AA;&#x25AA;&#x25AA;&#x25AA;&#x25AA;</td><td class='real' title='float64'>&#x25AA;&#x25AA;&#x25AA;&#x25AA;&#x25AA;&#x25AA;&#x25AA;&#x25AA;</td><td class='real' title='float64'>&#x25AA;&#x25AA;&#x25AA;&#x25AA;&#x25AA;&#x25AA;&#x25AA;&#x25AA;</td><td class='real' title='float64'>&#x25AA;&#x25AA;&#x25AA;&#x25AA;&#x25AA;&#x25AA;&#x25AA;&#x25AA;</td><td class='real' title='float64'>&#x25AA;&#x25AA;&#x25AA;&#x25AA;&#x25AA;&#x25AA;&#x25AA;&#x25AA;</td><th class='vellipsis'>&hellip;</th><td class='real' title='float64'>&#x25AA;&#x25AA;&#x25AA;&#x25AA;&#x25AA;&#x25AA;&#x25AA;&#x25AA;</td><td class='real' title='float64'>&#x25AA;&#x25AA;&#x25AA;&#x25AA;&#x25AA;&#x25AA;&#x25AA;&#x25AA;</td><td class='real' title='float64'>&#x25AA;&#x25AA;&#x25AA;&#x25AA;&#x25AA;&#x25AA;&#x25AA;&#x25AA;</td><td class='real' title='float64'>&#x25AA;&#x25AA;&#x25AA;&#x25AA;&#x25AA;&#x25AA;&#x25AA;&#x25AA;</td><td class='real' title='float64'>&#x25AA;&#x25AA;&#x25AA;&#x25AA;&#x25AA;&#x25AA;&#x25AA;&#x25AA;</td></tr>\n",
       "  </thead>\n",
       "  <tbody>\n",
       "    <tr><td class='row_index'>0</td><td><span class=na>NA</span></td><td><span class=na>NA</span></td><td>15046.9</td><td>15041.7</td><td>15023.4</td><td><span class=na>NA</span></td><td>13.0929</td><td>445.808</td><td><span class=na>NA</span></td><td><span class=na>NA</span></td><td class=vellipsis>&hellip;</td><td><span class=na>NA</span></td><td><span class=na>NA</span></td><td>5030.61</td><td>47.7756</td><td>13.1486</td></tr>\n",
       "  </tbody>\n",
       "  </table>\n",
       "  <div class='footer'>\n",
       "    <div class='frame_dimensions'>1 row &times; 145 columns</div>\n",
       "  </div>\n",
       "</div>\n"
      ],
      "text/plain": []
     },
     "execution_count": 24,
     "metadata": {},
     "output_type": "execute_result"
    }
   ],
   "source": [
    "%time datatable_df.mean()"
   ]
  },
  {
   "cell_type": "code",
   "execution_count": null,
   "metadata": {},
   "outputs": [],
   "source": [
    "pandas_df.mean()"
   ]
  },
  {
   "cell_type": "markdown",
   "metadata": {},
   "source": [
    "上面的 ``pandas_df.mean()`` 无法再pandas中完成，因为会抛出内存错误。"
   ]
  },
  {
   "cell_type": "markdown",
   "metadata": {},
   "source": [
    "## 五、数据操作\n",
    "数据的操作方法与dataframe类似\n",
    "### 5.1 数据选择\n",
    "选中所有行， 列只选择funded_amnt列"
   ]
  },
  {
   "cell_type": "code",
   "execution_count": null,
   "metadata": {},
   "outputs": [],
   "source": [
    "datatable_df[:,'funded_amnt']"
   ]
  },
  {
   "cell_type": "markdown",
   "metadata": {},
   "source": [
    "### 5.2 排序\n",
    "根据 funded_amnt_inv 列进行排序"
   ]
  },
  {
   "cell_type": "code",
   "execution_count": 11,
   "metadata": {},
   "outputs": [],
   "source": [
    "# datatable\n",
    "%time datatable_df.sort('funded_amnt_inv')"
   ]
  },
  {
   "cell_type": "markdown",
   "metadata": {},
   "source": [
    "还别说，datatable一眨眼功夫就出来，排序真的很快"
   ]
  },
  {
   "cell_type": "code",
   "execution_count": null,
   "metadata": {},
   "outputs": [],
   "source": [
    "# pandas排序\n",
    "%time pandas_df.sort_values(by = 'funded_amnt_inv')"
   ]
  },
  {
   "cell_type": "markdown",
   "metadata": {},
   "source": [
    "而pandas排序用了12.4s，慢！\n",
    "### 5.3 删除列\n",
    "删除指定列，如下。"
   ]
  },
  {
   "cell_type": "code",
   "execution_count": null,
   "metadata": {},
   "outputs": [],
   "source": [
    "del datatable_df[:, '列名']"
   ]
  },
  {
   "cell_type": "markdown",
   "metadata": {},
   "source": [
    "### 5.4 条件筛选\n",
    "条件筛选也跟dataframe很类似，这里要注意代码中的f代指的是Frame。输出的数据行列分别:\n",
    "- 所有的行中loan_amnt要大于funded_amnt\n",
    "- 只输出loan_amnt列"
   ]
  },
  {
   "cell_type": "code",
   "execution_count": null,
   "metadata": {},
   "outputs": [],
   "source": [
    "datatable_df[dt.f.loan_amnt>dt.f.funded_amnt, \"loan_amnt\"]"
   ]
  },
  {
   "cell_type": "markdown",
   "metadata": {},
   "source": [
    "### 5.5 保存结果"
   ]
  },
  {
   "cell_type": "code",
   "execution_count": 12,
   "metadata": {},
   "outputs": [],
   "source": [
    "datatable_df.to_csv('output.csv')"
   ]
  },
  {
   "cell_type": "markdown",
   "metadata": {},
   "source": [
    "## 总结\n",
    "与鼎鼎大名的pandas相比，datatable有很高效的执行速度，这在处理大型数据集时肯定是一个福音。 然而就功能而言，datatable落后于pandas。 但由于datatable仍在更新迭代，我们可能会在未来看到该库的一些重要补充。"
   ]
  }
 ],
 "metadata": {
  "kernelspec": {
   "display_name": "Python 3",
   "language": "python",
   "name": "python3"
  },
  "language_info": {
   "codemirror_mode": {
    "name": "ipython",
    "version": 3
   },
   "file_extension": ".py",
   "mimetype": "text/x-python",
   "name": "python",
   "nbconvert_exporter": "python",
   "pygments_lexer": "ipython3",
   "version": "3.7.2"
  }
 },
 "nbformat": 4,
 "nbformat_minor": 2
}
