{
 "cells": [
  {
   "cell_type": "markdown",
   "metadata": {},
   "source": [
    "## 理解endog、exog\n",
    "![](img/endogexog.png)"
   ]
  },
  {
   "cell_type": "markdown",
   "metadata": {},
   "source": [
    "## statsmodel的api"
   ]
  },
  {
   "cell_type": "code",
   "execution_count": 3,
   "metadata": {},
   "outputs": [
    {
     "name": "stdout",
     "output_type": "stream",
     "text": [
      "['BayesGaussMI', 'BinomialBayesMixedGLM', 'Factor', 'GEE', 'GLM', 'GLMGam', 'GLS', 'GLSAR', 'GeneralizedPoisson', 'Logit', 'MANOVA', 'MI', 'MICE', 'MICEData', 'MNLogit', 'MixedLM', 'NegativeBinomial', 'NegativeBinomialP', 'NominalGEE', 'OLS', 'OrdinalGEE', 'PCA', 'PHReg', 'Poisson', 'PoissonBayesMixedGLM', 'ProbPlot', 'Probit', 'QuantReg', 'RLM', 'RecursiveLS', 'SurvfuncRight', 'WLS', 'ZeroInflatedGeneralizedPoisson', 'ZeroInflatedNegativeBinomialP', 'ZeroInflatedPoisson', '__builtins__', '__cached__', '__doc__', '__file__', '__loader__', '__name__', '__package__', '__spec__', '__version__', 'add_constant', 'categorical', 'cov_struct', 'datasets', 'distributions', 'duration', 'emplike', 'families', 'formula', 'gam', 'genmod', 'graphics', 'iolib', 'load', 'multivariate', 'nonparametric', 'qqline', 'qqplot', 'qqplot_2samples', 'regression', 'robust', 'show_versions', 'stats', 'test', 'tools', 'tsa', 'webdoc']\n"
     ]
    }
   ],
   "source": [
    "import statsmodels.api as sm\n",
    "print(dir(sm))"
   ]
  },
  {
   "cell_type": "code",
   "execution_count": 4,
   "metadata": {},
   "outputs": [
    {
     "name": "stdout",
     "output_type": "stream",
     "text": [
      "['__builtins__', '__cached__', '__doc__', '__file__', '__loader__', '__name__', '__package__', '__spec__', 'abline_plot', 'beanplot', 'fboxplot', 'hdrboxplot', 'influence_plot', 'interaction_plot', 'mean_diff_plot', 'plot_ccpr', 'plot_ccpr_grid', 'plot_corr', 'plot_corr_grid', 'plot_fit', 'plot_leverage_resid2', 'plot_partregress', 'plot_partregress_grid', 'plot_regress_exog', 'qqplot', 'rainbow', 'rainbowplot', 'tsa', 'violinplot']\n"
     ]
    }
   ],
   "source": [
    "#作图相关api\n",
    "print(dir(sm.graphics))"
   ]
  },
  {
   "cell_type": "code",
   "execution_count": 5,
   "metadata": {},
   "outputs": [
    {
     "name": "stdout",
     "output_type": "stream",
     "text": [
      "['AR', 'ARIMA', 'ARMA', 'ArmaProcess', 'DynamicFactor', 'DynamicVAR', 'ExponentialSmoothing', 'Holt', 'MarkovAutoregression', 'MarkovRegression', 'SARIMAX', 'SVAR', 'SimpleExpSmoothing', 'UnobservedComponents', 'VAR', 'VARMAX', 'VECM', '__all__', '__builtins__', '__cached__', '__doc__', '__file__', '__loader__', '__name__', '__package__', '__spec__', 'acf', 'acovf', 'add_lag', 'add_trend', 'adfuller', 'arma_generate_sample', 'arma_order_select_ic', 'bds', 'ccf', 'ccovf', 'coint', 'datetools', 'detrend', 'filters', 'graphics', 'innovations', 'interp', 'kpss', 'lagmat', 'lagmat2ds', 'pacf', 'pacf_ols', 'pacf_yw', 'periodogram', 'q_stat', 'seasonal_decompose', 'statespace', 'stattools', 'tsatools', 'var', 'x13_arima_analysis', 'x13_arima_select_order']\n"
     ]
    }
   ],
   "source": [
    "#时间序列相关api\n",
    "print(dir(sm.tsa))"
   ]
  },
  {
   "cell_type": "markdown",
   "metadata": {},
   "source": [
    "### statsmodel库的架构\n",
    "是按照话题来设计的\n",
    "\n",
    "```\n",
    "statsmodels/\n",
    "    __init__.py\n",
    "    api.py\n",
    "    discrete/\n",
    "        __init__.py\n",
    "        discrete_model.py\n",
    "        tests/\n",
    "            results/\n",
    "    tsa/\n",
    "        __init__.py\n",
    "        api.py\n",
    "        tsatools.py\n",
    "        stattools.py\n",
    "        arima_model.py\n",
    "        arima_process.py\n",
    "        vector_ar/\n",
    "            __init__.py\n",
    "            var_model.py\n",
    "            tests/\n",
    "                results/\n",
    "        tests/\n",
    "            results/\n",
    "    stats/\n",
    "        __init__.py\n",
    "        api.py\n",
    "        stattools.py\n",
    "        tests/\n",
    "    tools/\n",
    "        __init__.py\n",
    "        tools.py\n",
    "        decorators.py\n",
    "        tests/\n",
    "```\n"
   ]
  },
  {
   "cell_type": "markdown",
   "metadata": {},
   "source": [
    "### import方法\n",
    "#### 函数和类"
   ]
  },
  {
   "cell_type": "code",
   "execution_count": 18,
   "metadata": {},
   "outputs": [],
   "source": [
    "from statsmodels.regression.linear_model import OLS, WLS\n",
    "from statsmodels.tools.tools import add_constant"
   ]
  },
  {
   "cell_type": "markdown",
   "metadata": {},
   "source": [
    "#### 模块"
   ]
  },
  {
   "cell_type": "code",
   "execution_count": 20,
   "metadata": {},
   "outputs": [],
   "source": [
    "from statsmodels.datasets import macrodata\n",
    "from statsmodels.stats import diagnostic"
   ]
  },
  {
   "cell_type": "markdown",
   "metadata": {},
   "source": [
    "#### 起别名"
   ]
  },
  {
   "cell_type": "code",
   "execution_count": 21,
   "metadata": {},
   "outputs": [],
   "source": [
    "import statsmodels.regression.linear_model as lm\n",
    "import statsmodels.stats.diagnostic as smsdia\n",
    "import statsmodels.stats.outliers_influence as oi"
   ]
  },
  {
   "cell_type": "markdown",
   "metadata": {},
   "source": [
    "## R语言的style\n",
    "statsmodels自从0.5.0版本之后，允许R语言风格的公式写法。\n",
    "\n",
    "\n",
    "**注意**\n",
    "statsmodels.formula.api支持小写调用，如ols、gls等，而小写的ols支持R语言公式写法。\n",
    "\n",
    "```\n",
    "公式0 y ～ x\n",
    "公式1 Lottery ~ Literacy + Wealth + Region\n",
    "公式2 Lottery ~ Literacy + Wealth + Region-1\n",
    "公式3 Lottery ~ Literacy:Wealth\n",
    "公式4 Lottery ~ Literacy*Wealth\n",
    "公式4 Lottery ~ np.log(Literacy)\n",
    "```\n",
    "\n",
    "- 公式0被默认执行为y～1+x\n",
    "- \"~\"左侧是y，右侧是x变量，x之间使用\"+\"分割\n",
    "- 公式2中有“-1”， \"-\" 被用于移除某个变量或者列，公式2移除来常数项\n",
    "- 公式3要研究的**自变量**仅有一个，就是变量**LiteracyWealth**\n",
    "- 公式4要研究的**自变量**有3个，分别是**Literacy、Wealth、LiteracyWealth**\n",
    "- 可以在模型中使用向量化函数，操作公式中的变量，例如**公式4**"
   ]
  },
  {
   "cell_type": "code",
   "execution_count": 25,
   "metadata": {},
   "outputs": [
    {
     "data": {
      "text/html": [
       "<div>\n",
       "<style scoped>\n",
       "    .dataframe tbody tr th:only-of-type {\n",
       "        vertical-align: middle;\n",
       "    }\n",
       "\n",
       "    .dataframe tbody tr th {\n",
       "        vertical-align: top;\n",
       "    }\n",
       "\n",
       "    .dataframe thead th {\n",
       "        text-align: right;\n",
       "    }\n",
       "</style>\n",
       "<table border=\"1\" class=\"dataframe\">\n",
       "  <thead>\n",
       "    <tr style=\"text-align: right;\">\n",
       "      <th></th>\n",
       "      <th>Lottery</th>\n",
       "      <th>Literacy</th>\n",
       "      <th>Wealth</th>\n",
       "      <th>Region</th>\n",
       "    </tr>\n",
       "  </thead>\n",
       "  <tbody>\n",
       "    <tr>\n",
       "      <th>0</th>\n",
       "      <td>41</td>\n",
       "      <td>37</td>\n",
       "      <td>73</td>\n",
       "      <td>E</td>\n",
       "    </tr>\n",
       "    <tr>\n",
       "      <th>1</th>\n",
       "      <td>38</td>\n",
       "      <td>51</td>\n",
       "      <td>22</td>\n",
       "      <td>N</td>\n",
       "    </tr>\n",
       "    <tr>\n",
       "      <th>2</th>\n",
       "      <td>66</td>\n",
       "      <td>13</td>\n",
       "      <td>61</td>\n",
       "      <td>C</td>\n",
       "    </tr>\n",
       "    <tr>\n",
       "      <th>3</th>\n",
       "      <td>80</td>\n",
       "      <td>46</td>\n",
       "      <td>76</td>\n",
       "      <td>E</td>\n",
       "    </tr>\n",
       "    <tr>\n",
       "      <th>4</th>\n",
       "      <td>79</td>\n",
       "      <td>69</td>\n",
       "      <td>83</td>\n",
       "      <td>E</td>\n",
       "    </tr>\n",
       "  </tbody>\n",
       "</table>\n",
       "</div>"
      ],
      "text/plain": [
       "   Lottery  Literacy  Wealth Region\n",
       "0       41        37      73      E\n",
       "1       38        51      22      N\n",
       "2       66        13      61      C\n",
       "3       80        46      76      E\n",
       "4       79        69      83      E"
      ]
     },
     "execution_count": 25,
     "metadata": {},
     "output_type": "execute_result"
    }
   ],
   "source": [
    "#from statsmodels.regression.linear_model import OLS\n",
    "import statsmodels.formula.api as smf\n",
    "import pandas as pd\n",
    "\n",
    "df = pd.read_csv('data/guerry.csv')\n",
    "df = df[['Lottery', 'Literacy', 'Wealth', 'Region']]\n",
    "df.head()"
   ]
  },
  {
   "cell_type": "code",
   "execution_count": 55,
   "metadata": {},
   "outputs": [
    {
     "name": "stdout",
     "output_type": "stream",
     "text": [
      "                            OLS Regression Results                            \n",
      "==============================================================================\n",
      "Dep. Variable:                Lottery   R-squared:                       0.358\n",
      "Model:                            OLS   Adj. R-squared:                  0.300\n",
      "Method:                 Least Squares   F-statistic:                     6.205\n",
      "Date:                Thu, 19 Dec 2019   Prob (F-statistic):           8.69e-06\n",
      "Time:                        16:16:23   Log-Likelihood:                -379.21\n",
      "No. Observations:                  86   AIC:                             774.4\n",
      "Df Residuals:                      78   BIC:                             794.1\n",
      "Df Model:                           7                                         \n",
      "Covariance Type:            nonrobust                                         \n",
      "===============================================================================\n",
      "                  coef    std err          t      P>|t|      [0.025      0.975]\n",
      "-------------------------------------------------------------------------------\n",
      "Intercept      75.4006     23.971      3.145      0.002      27.677     123.124\n",
      "Region[T.C]   -36.7489     22.014     -1.669      0.099     -80.576       7.078\n",
      "Region[T.E]   -52.1767     21.630     -2.412      0.018     -95.239      -9.114\n",
      "Region[T.N]   -46.7659     21.554     -2.170      0.033     -89.677      -3.855\n",
      "Region[T.S]   -41.2972     21.779     -1.896      0.062     -84.656       2.062\n",
      "Region[T.W]   -46.8402     21.940     -2.135      0.036     -90.519      -3.161\n",
      "Literacy       -0.1858      0.210     -0.886      0.378      -0.603       0.232\n",
      "Wealth          0.4515      0.103      4.390      0.000       0.247       0.656\n",
      "==============================================================================\n",
      "Omnibus:                        2.896   Durbin-Watson:                   1.787\n",
      "Prob(Omnibus):                  0.235   Jarque-Bera (JB):                2.635\n",
      "Skew:                          -0.342   Prob(JB):                        0.268\n",
      "Kurtosis:                       2.483   Cond. No.                     1.43e+03\n",
      "==============================================================================\n",
      "\n",
      "Warnings:\n",
      "[1] Standard Errors assume that the covariance matrix of the errors is correctly specified.\n",
      "[2] The condition number is large, 1.43e+03. This might indicate that there are\n",
      "strong multicollinearity or other numerical problems.\n"
     ]
    }
   ],
   "source": [
    "#Region是分类变量，这里没有做dummy虚拟变量\n",
    "model = smf.ols(formula='Lottery ~ Literacy + Wealth + Region',\n",
    "                data=df)\n",
    "result = model.fit()\n",
    "print(result.summary())"
   ]
  },
  {
   "cell_type": "code",
   "execution_count": 35,
   "metadata": {},
   "outputs": [
    {
     "data": {
      "text/plain": [
       "Intercept      75.400576\n",
       "Region[T.C]   -36.748921\n",
       "Region[T.E]   -52.176706\n",
       "Region[T.N]   -46.765882\n",
       "Region[T.S]   -41.297178\n",
       "Region[T.W]   -46.840197\n",
       "Literacy       -0.185819\n",
       "Wealth          0.451475\n",
       "dtype: float64"
      ]
     },
     "execution_count": 35,
     "metadata": {},
     "output_type": "execute_result"
    }
   ],
   "source": [
    "result.params"
   ]
  },
  {
   "cell_type": "code",
   "execution_count": 59,
   "metadata": {},
   "outputs": [
    {
     "data": {
      "text/plain": [
       "Intercept      0.002347\n",
       "Region[T.E]    0.018206\n",
       "Region[T.N]    0.033076\n",
       "Region[T.W]    0.035906\n",
       "Wealth         0.000035\n",
       "dtype: float64"
      ]
     },
     "execution_count": 59,
     "metadata": {},
     "output_type": "execute_result"
    }
   ],
   "source": [
    "result.pvalues[result.pvalues<0.05]"
   ]
  },
  {
   "cell_type": "code",
   "execution_count": 51,
   "metadata": {},
   "outputs": [
    {
     "name": "stdout",
     "output_type": "stream",
     "text": [
      "Intercept           113.405982\n",
      "np.log(Literacy)    -19.622903\n",
      "dtype: float64\n"
     ]
    }
   ],
   "source": [
    "import numpy as np\n",
    "model2 = smf.ols(formula='Lottery ~ np.log(Literacy)',\n",
    "                data=df)\n",
    "result2 = model2.fit()\n",
    "print(result2.params)"
   ]
  },
  {
   "cell_type": "code",
   "execution_count": 52,
   "metadata": {},
   "outputs": [
    {
     "name": "stdout",
     "output_type": "stream",
     "text": [
      "Intercept          38.185708\n",
      "Literacy:Wealth     0.003344\n",
      "dtype: float64\n"
     ]
    }
   ],
   "source": [
    "model3 = smf.ols(formula='Lottery ~ Literacy:Wealth',\n",
    "                data=df)\n",
    "result3 = model3.fit()\n",
    "print(result3.params)"
   ]
  },
  {
   "cell_type": "code",
   "execution_count": 54,
   "metadata": {},
   "outputs": [
    {
     "name": "stdout",
     "output_type": "stream",
     "text": [
      "Intercept          38.843678\n",
      "Literacy           -0.340264\n",
      "Wealth              0.429771\n",
      "Literacy:Wealth    -0.000429\n",
      "dtype: float64\n"
     ]
    }
   ],
   "source": [
    "model4 = smf.ols(formula='Lottery ~ Literacy*Wealth',\n",
    "                data=df)\n",
    "result4 = model4.fit()\n",
    "print(result4.params)"
   ]
  }
 ],
 "metadata": {
  "kernelspec": {
   "display_name": "Python 3",
   "language": "python",
   "name": "python3"
  },
  "language_info": {
   "codemirror_mode": {
    "name": "ipython",
    "version": 3
   },
   "file_extension": ".py",
   "mimetype": "text/x-python",
   "name": "python",
   "nbconvert_exporter": "python",
   "pygments_lexer": "ipython3",
   "version": "3.7.4"
  },
  "toc": {
   "base_numbering": 1,
   "nav_menu": {},
   "number_sections": false,
   "sideBar": true,
   "skip_h1_title": false,
   "title_cell": "Table of Contents",
   "title_sidebar": "Contents",
   "toc_cell": false,
   "toc_position": {},
   "toc_section_display": true,
   "toc_window_display": true
  }
 },
 "nbformat": 4,
 "nbformat_minor": 2
}
