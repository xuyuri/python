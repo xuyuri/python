{
 "cells": [
  {
   "cell_type": "markdown",
   "metadata": {},
   "source": [
    ">因变量endog\n",
    "自变量exogd \n",
    "\n",
    "线性模型包括\n",
    "- 独立同分布(独立，同方差)\n",
    "- 异方差\n",
    "- 自相关\n",
    "\n",
    "\n",
    "估计的方法包括：\n",
    "- OLS   方差服从正态分布，使用OLS ordinary least squares ，\n",
    "- WLS   异方差使用WLS  weighted least squares， \n",
    "- GLS  任意方差，使用GLS   generalized least squares\n",
    "- AR   自回归使用GLSAR（generalized least squares with autocorrelated） \n",
    "\n",
    "GLS是其他回归类的超类,也就是说剩下的RecursiveLS, RollingWLS and RollingOLS可以与GLS是同一辈分，互不统属。"
   ]
  },
  {
   "cell_type": "code",
   "execution_count": 13,
   "metadata": {},
   "outputs": [
    {
     "data": {
      "text/html": [
       "<div>\n",
       "<style scoped>\n",
       "    .dataframe tbody tr th:only-of-type {\n",
       "        vertical-align: middle;\n",
       "    }\n",
       "\n",
       "    .dataframe tbody tr th {\n",
       "        vertical-align: top;\n",
       "    }\n",
       "\n",
       "    .dataframe thead th {\n",
       "        text-align: right;\n",
       "    }\n",
       "</style>\n",
       "<table border=\"1\" class=\"dataframe\">\n",
       "  <thead>\n",
       "    <tr style=\"text-align: right;\">\n",
       "      <th></th>\n",
       "      <th>GPA</th>\n",
       "      <th>TUCE</th>\n",
       "      <th>PSI</th>\n",
       "      <th>GRADE</th>\n",
       "    </tr>\n",
       "  </thead>\n",
       "  <tbody>\n",
       "    <tr>\n",
       "      <th>0</th>\n",
       "      <td>2.66</td>\n",
       "      <td>20.0</td>\n",
       "      <td>0.0</td>\n",
       "      <td>0.0</td>\n",
       "    </tr>\n",
       "    <tr>\n",
       "      <th>1</th>\n",
       "      <td>2.89</td>\n",
       "      <td>22.0</td>\n",
       "      <td>0.0</td>\n",
       "      <td>0.0</td>\n",
       "    </tr>\n",
       "    <tr>\n",
       "      <th>2</th>\n",
       "      <td>3.28</td>\n",
       "      <td>24.0</td>\n",
       "      <td>0.0</td>\n",
       "      <td>0.0</td>\n",
       "    </tr>\n",
       "    <tr>\n",
       "      <th>3</th>\n",
       "      <td>2.92</td>\n",
       "      <td>12.0</td>\n",
       "      <td>0.0</td>\n",
       "      <td>0.0</td>\n",
       "    </tr>\n",
       "    <tr>\n",
       "      <th>4</th>\n",
       "      <td>4.00</td>\n",
       "      <td>21.0</td>\n",
       "      <td>0.0</td>\n",
       "      <td>1.0</td>\n",
       "    </tr>\n",
       "  </tbody>\n",
       "</table>\n",
       "</div>"
      ],
      "text/plain": [
       "    GPA  TUCE  PSI  GRADE\n",
       "0  2.66  20.0  0.0    0.0\n",
       "1  2.89  22.0  0.0    0.0\n",
       "2  3.28  24.0  0.0    0.0\n",
       "3  2.92  12.0  0.0    0.0\n",
       "4  4.00  21.0  0.0    1.0"
      ]
     },
     "execution_count": 13,
     "metadata": {},
     "output_type": "execute_result"
    }
   ],
   "source": [
    "import pandas as pd\n",
    "\n",
    "#自变量['GPA', 'TUCE', 'PSI']， \n",
    "#因变量GRADE    \n",
    "df = pd.read_csv('data/spector.csv')\n",
    "df.head()"
   ]
  },
  {
   "cell_type": "code",
   "execution_count": 15,
   "metadata": {},
   "outputs": [
    {
     "name": "stdout",
     "output_type": "stream",
     "text": [
      "                            OLS Regression Results                            \n",
      "==============================================================================\n",
      "Dep. Variable:                  GRADE   R-squared:                       0.416\n",
      "Model:                            OLS   Adj. R-squared:                  0.353\n",
      "Method:                 Least Squares   F-statistic:                     6.646\n",
      "Date:                Thu, 19 Dec 2019   Prob (F-statistic):            0.00157\n",
      "Time:                        16:32:55   Log-Likelihood:                -12.978\n",
      "No. Observations:                  32   AIC:                             33.96\n",
      "Df Residuals:                      28   BIC:                             39.82\n",
      "Df Model:                           3                                         \n",
      "Covariance Type:            nonrobust                                         \n",
      "==============================================================================\n",
      "                 coef    std err          t      P>|t|      [0.025      0.975]\n",
      "------------------------------------------------------------------------------\n",
      "Intercept     -1.4980      0.524     -2.859      0.008      -2.571      -0.425\n",
      "GPA            0.4639      0.162      2.864      0.008       0.132       0.796\n",
      "TUCE           0.0105      0.019      0.539      0.594      -0.029       0.050\n",
      "PSI            0.3786      0.139      2.720      0.011       0.093       0.664\n",
      "==============================================================================\n",
      "Omnibus:                        0.176   Durbin-Watson:                   2.346\n",
      "Prob(Omnibus):                  0.916   Jarque-Bera (JB):                0.167\n",
      "Skew:                           0.141   Prob(JB):                        0.920\n",
      "Kurtosis:                       2.786   Cond. No.                         176.\n",
      "==============================================================================\n",
      "\n",
      "Warnings:\n",
      "[1] Standard Errors assume that the covariance matrix of the errors is correctly specified.\n"
     ]
    }
   ],
   "source": [
    "import statsmodels.formula.api as sm\n",
    "\n",
    "model = sm.ols(formula='GRADE ~ GPA + TUCE + PSI',\n",
    "               data=df)\n",
    "result = model.fit()\n",
    "print(result.summary())"
   ]
  },
  {
   "cell_type": "markdown",
   "metadata": {},
   "source": [
    "### 模型的属性\n",
    "model的常见属性\n",
    "- df_model 模型的自由度，通常等于p-1,p为变量数\n",
    "- df_resid 模型残差自由度， 等于n-p，n为观测数，p为变量数\n",
    "- llf 模型拟合的似然值\n",
    "- nobs  观测数\n",
    "- wexog 自变量矩阵\n",
    "- wendog 因变量数组"
   ]
  },
  {
   "cell_type": "code",
   "execution_count": 26,
   "metadata": {},
   "outputs": [
    {
     "data": {
      "text/plain": [
       "3.0"
      ]
     },
     "execution_count": 26,
     "metadata": {},
     "output_type": "execute_result"
    }
   ],
   "source": [
    "model.df_model"
   ]
  },
  {
   "cell_type": "code",
   "execution_count": 29,
   "metadata": {},
   "outputs": [
    {
     "data": {
      "text/plain": [
       "28.0"
      ]
     },
     "execution_count": 29,
     "metadata": {},
     "output_type": "execute_result"
    }
   ],
   "source": [
    "model.df_resid"
   ]
  },
  {
   "cell_type": "code",
   "execution_count": 31,
   "metadata": {},
   "outputs": [
    {
     "data": {
      "text/plain": [
       "32.0"
      ]
     },
     "execution_count": 31,
     "metadata": {},
     "output_type": "execute_result"
    }
   ],
   "source": [
    "model.nobs"
   ]
  },
  {
   "cell_type": "code",
   "execution_count": 32,
   "metadata": {},
   "outputs": [
    {
     "data": {
      "text/plain": [
       "array([[ 1.  ,  2.66, 20.  ,  0.  ],\n",
       "       [ 1.  ,  2.89, 22.  ,  0.  ],\n",
       "       [ 1.  ,  3.28, 24.  ,  0.  ],\n",
       "       [ 1.  ,  2.92, 12.  ,  0.  ],\n",
       "       [ 1.  ,  4.  , 21.  ,  0.  ],\n",
       "       [ 1.  ,  2.86, 17.  ,  0.  ],\n",
       "       [ 1.  ,  2.76, 17.  ,  0.  ],\n",
       "       [ 1.  ,  2.87, 21.  ,  0.  ],\n",
       "       [ 1.  ,  3.03, 25.  ,  0.  ],\n",
       "       [ 1.  ,  3.92, 29.  ,  0.  ],\n",
       "       [ 1.  ,  2.63, 20.  ,  0.  ],\n",
       "       [ 1.  ,  3.32, 23.  ,  0.  ],\n",
       "       [ 1.  ,  3.57, 23.  ,  0.  ],\n",
       "       [ 1.  ,  3.26, 25.  ,  0.  ],\n",
       "       [ 1.  ,  3.53, 26.  ,  0.  ],\n",
       "       [ 1.  ,  2.74, 19.  ,  0.  ],\n",
       "       [ 1.  ,  2.75, 25.  ,  0.  ],\n",
       "       [ 1.  ,  2.83, 19.  ,  0.  ],\n",
       "       [ 1.  ,  3.12, 23.  ,  1.  ],\n",
       "       [ 1.  ,  3.16, 25.  ,  1.  ],\n",
       "       [ 1.  ,  2.06, 22.  ,  1.  ],\n",
       "       [ 1.  ,  3.62, 28.  ,  1.  ],\n",
       "       [ 1.  ,  2.89, 14.  ,  1.  ],\n",
       "       [ 1.  ,  3.51, 26.  ,  1.  ],\n",
       "       [ 1.  ,  3.54, 24.  ,  1.  ],\n",
       "       [ 1.  ,  2.83, 27.  ,  1.  ],\n",
       "       [ 1.  ,  3.39, 17.  ,  1.  ],\n",
       "       [ 1.  ,  2.67, 24.  ,  1.  ],\n",
       "       [ 1.  ,  3.65, 21.  ,  1.  ],\n",
       "       [ 1.  ,  4.  , 23.  ,  1.  ],\n",
       "       [ 1.  ,  3.1 , 21.  ,  1.  ],\n",
       "       [ 1.  ,  2.39, 19.  ,  1.  ]])"
      ]
     },
     "execution_count": 32,
     "metadata": {},
     "output_type": "execute_result"
    }
   ],
   "source": [
    "model.wexog"
   ]
  },
  {
   "cell_type": "code",
   "execution_count": 33,
   "metadata": {},
   "outputs": [
    {
     "data": {
      "text/plain": [
       "array([0., 0., 0., 0., 1., 0., 0., 0., 0., 1., 0., 0., 0., 1., 0., 0., 0.,\n",
       "       0., 0., 1., 0., 1., 0., 0., 1., 1., 1., 0., 1., 1., 0., 1.])"
      ]
     },
     "execution_count": 33,
     "metadata": {},
     "output_type": "execute_result"
    }
   ],
   "source": [
    "model.wendog"
   ]
  },
  {
   "cell_type": "code",
   "execution_count": null,
   "metadata": {},
   "outputs": [],
   "source": []
  }
 ],
 "metadata": {
  "kernelspec": {
   "display_name": "Python 3",
   "language": "python",
   "name": "python3"
  },
  "language_info": {
   "codemirror_mode": {
    "name": "ipython",
    "version": 3
   },
   "file_extension": ".py",
   "mimetype": "text/x-python",
   "name": "python",
   "nbconvert_exporter": "python",
   "pygments_lexer": "ipython3",
   "version": "3.7.4"
  },
  "toc": {
   "base_numbering": 1,
   "nav_menu": {},
   "number_sections": false,
   "sideBar": true,
   "skip_h1_title": false,
   "title_cell": "Table of Contents",
   "title_sidebar": "Contents",
   "toc_cell": false,
   "toc_position": {},
   "toc_section_display": true,
   "toc_window_display": false
  }
 },
 "nbformat": 4,
 "nbformat_minor": 2
}
