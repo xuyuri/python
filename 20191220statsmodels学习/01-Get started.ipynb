{
 "cells": [
  {
   "cell_type": "code",
   "execution_count": 35,
   "metadata": {},
   "outputs": [
    {
     "data": {
      "text/html": [
       "<div>\n",
       "<style scoped>\n",
       "    .dataframe tbody tr th:only-of-type {\n",
       "        vertical-align: middle;\n",
       "    }\n",
       "\n",
       "    .dataframe tbody tr th {\n",
       "        vertical-align: top;\n",
       "    }\n",
       "\n",
       "    .dataframe thead th {\n",
       "        text-align: right;\n",
       "    }\n",
       "</style>\n",
       "<table border=\"1\" class=\"dataframe\">\n",
       "  <thead>\n",
       "    <tr style=\"text-align: right;\">\n",
       "      <th></th>\n",
       "      <th>Department</th>\n",
       "      <th>Lottery</th>\n",
       "      <th>Literacy</th>\n",
       "      <th>Wealth</th>\n",
       "      <th>Region</th>\n",
       "    </tr>\n",
       "  </thead>\n",
       "  <tbody>\n",
       "    <tr>\n",
       "      <th>81</th>\n",
       "      <td>Vienne</td>\n",
       "      <td>40</td>\n",
       "      <td>25</td>\n",
       "      <td>68</td>\n",
       "      <td>W</td>\n",
       "    </tr>\n",
       "    <tr>\n",
       "      <th>82</th>\n",
       "      <td>Haute-Vienne</td>\n",
       "      <td>55</td>\n",
       "      <td>13</td>\n",
       "      <td>67</td>\n",
       "      <td>C</td>\n",
       "    </tr>\n",
       "    <tr>\n",
       "      <th>83</th>\n",
       "      <td>Vosges</td>\n",
       "      <td>14</td>\n",
       "      <td>62</td>\n",
       "      <td>82</td>\n",
       "      <td>E</td>\n",
       "    </tr>\n",
       "    <tr>\n",
       "      <th>84</th>\n",
       "      <td>Yonne</td>\n",
       "      <td>51</td>\n",
       "      <td>47</td>\n",
       "      <td>30</td>\n",
       "      <td>C</td>\n",
       "    </tr>\n",
       "    <tr>\n",
       "      <th>85</th>\n",
       "      <td>Corse</td>\n",
       "      <td>83</td>\n",
       "      <td>49</td>\n",
       "      <td>37</td>\n",
       "      <td></td>\n",
       "    </tr>\n",
       "  </tbody>\n",
       "</table>\n",
       "</div>"
      ],
      "text/plain": [
       "      Department  Lottery  Literacy  Wealth Region\n",
       "81        Vienne       40        25      68      W\n",
       "82  Haute-Vienne       55        13      67      C\n",
       "83        Vosges       14        62      82      E\n",
       "84         Yonne       51        47      30      C\n",
       "85         Corse       83        49      37       "
      ]
     },
     "execution_count": 35,
     "metadata": {},
     "output_type": "execute_result"
    }
   ],
   "source": [
    "import pandas as pd\n",
    "from patsy import dmatrices\n",
    "import statsmodels.api as sm\n",
    "#import statsmodels.tsa.api as sm\n",
    "#注意这两者的区别\n",
    "\n",
    "vars = ['Department', 'Lottery', 'Literacy', 'Wealth', 'Region']\n",
    "df = pd.read_csv('data/guerry.csv')\n",
    "df = df[vars]\n",
    "df.dropna()\n",
    "df.tail()"
   ]
  },
  {
   "cell_type": "markdown",
   "metadata": {},
   "source": [
    "### pasty整理数据\n",
    "patsy是python中的描述性统计库\n",
    "\n",
    "https://patsy.readthedocs.io/en/latest/\n",
    "\n",
    "pasty功能:\n",
    "- 将Region分类变量dummy化\n",
    "- 给回归方程右侧的矩阵加入了常数项\n",
    "- 返回的X,y都是dataframe数据类型\n",
    "\n",
    "\n",
    "这简化了statsmodels的OLS过程"
   ]
  },
  {
   "cell_type": "code",
   "execution_count": 36,
   "metadata": {},
   "outputs": [
    {
     "data": {
      "text/html": [
       "<div>\n",
       "<style scoped>\n",
       "    .dataframe tbody tr th:only-of-type {\n",
       "        vertical-align: middle;\n",
       "    }\n",
       "\n",
       "    .dataframe tbody tr th {\n",
       "        vertical-align: top;\n",
       "    }\n",
       "\n",
       "    .dataframe thead th {\n",
       "        text-align: right;\n",
       "    }\n",
       "</style>\n",
       "<table border=\"1\" class=\"dataframe\">\n",
       "  <thead>\n",
       "    <tr style=\"text-align: right;\">\n",
       "      <th></th>\n",
       "      <th>Lottery</th>\n",
       "    </tr>\n",
       "  </thead>\n",
       "  <tbody>\n",
       "    <tr>\n",
       "      <th>0</th>\n",
       "      <td>41.0</td>\n",
       "    </tr>\n",
       "    <tr>\n",
       "      <th>1</th>\n",
       "      <td>38.0</td>\n",
       "    </tr>\n",
       "    <tr>\n",
       "      <th>2</th>\n",
       "      <td>66.0</td>\n",
       "    </tr>\n",
       "    <tr>\n",
       "      <th>3</th>\n",
       "      <td>80.0</td>\n",
       "    </tr>\n",
       "    <tr>\n",
       "      <th>4</th>\n",
       "      <td>79.0</td>\n",
       "    </tr>\n",
       "  </tbody>\n",
       "</table>\n",
       "</div>"
      ],
      "text/plain": [
       "   Lottery\n",
       "0     41.0\n",
       "1     38.0\n",
       "2     66.0\n",
       "3     80.0\n",
       "4     79.0"
      ]
     },
     "execution_count": 36,
     "metadata": {},
     "output_type": "execute_result"
    }
   ],
   "source": [
    "y, X = dmatrices('Lottery ~ Literacy + Wealth + Region', data=df, return_type='dataframe')\n",
    "y.head()"
   ]
  },
  {
   "cell_type": "code",
   "execution_count": 37,
   "metadata": {},
   "outputs": [
    {
     "data": {
      "text/html": [
       "<div>\n",
       "<style scoped>\n",
       "    .dataframe tbody tr th:only-of-type {\n",
       "        vertical-align: middle;\n",
       "    }\n",
       "\n",
       "    .dataframe tbody tr th {\n",
       "        vertical-align: top;\n",
       "    }\n",
       "\n",
       "    .dataframe thead th {\n",
       "        text-align: right;\n",
       "    }\n",
       "</style>\n",
       "<table border=\"1\" class=\"dataframe\">\n",
       "  <thead>\n",
       "    <tr style=\"text-align: right;\">\n",
       "      <th></th>\n",
       "      <th>Intercept</th>\n",
       "      <th>Region[T.C]</th>\n",
       "      <th>Region[T.E]</th>\n",
       "      <th>Region[T.N]</th>\n",
       "      <th>Region[T.S]</th>\n",
       "      <th>Region[T.W]</th>\n",
       "      <th>Literacy</th>\n",
       "      <th>Wealth</th>\n",
       "    </tr>\n",
       "  </thead>\n",
       "  <tbody>\n",
       "    <tr>\n",
       "      <th>0</th>\n",
       "      <td>1.0</td>\n",
       "      <td>0.0</td>\n",
       "      <td>1.0</td>\n",
       "      <td>0.0</td>\n",
       "      <td>0.0</td>\n",
       "      <td>0.0</td>\n",
       "      <td>37.0</td>\n",
       "      <td>73.0</td>\n",
       "    </tr>\n",
       "    <tr>\n",
       "      <th>1</th>\n",
       "      <td>1.0</td>\n",
       "      <td>0.0</td>\n",
       "      <td>0.0</td>\n",
       "      <td>1.0</td>\n",
       "      <td>0.0</td>\n",
       "      <td>0.0</td>\n",
       "      <td>51.0</td>\n",
       "      <td>22.0</td>\n",
       "    </tr>\n",
       "    <tr>\n",
       "      <th>2</th>\n",
       "      <td>1.0</td>\n",
       "      <td>1.0</td>\n",
       "      <td>0.0</td>\n",
       "      <td>0.0</td>\n",
       "      <td>0.0</td>\n",
       "      <td>0.0</td>\n",
       "      <td>13.0</td>\n",
       "      <td>61.0</td>\n",
       "    </tr>\n",
       "    <tr>\n",
       "      <th>3</th>\n",
       "      <td>1.0</td>\n",
       "      <td>0.0</td>\n",
       "      <td>1.0</td>\n",
       "      <td>0.0</td>\n",
       "      <td>0.0</td>\n",
       "      <td>0.0</td>\n",
       "      <td>46.0</td>\n",
       "      <td>76.0</td>\n",
       "    </tr>\n",
       "    <tr>\n",
       "      <th>4</th>\n",
       "      <td>1.0</td>\n",
       "      <td>0.0</td>\n",
       "      <td>1.0</td>\n",
       "      <td>0.0</td>\n",
       "      <td>0.0</td>\n",
       "      <td>0.0</td>\n",
       "      <td>69.0</td>\n",
       "      <td>83.0</td>\n",
       "    </tr>\n",
       "  </tbody>\n",
       "</table>\n",
       "</div>"
      ],
      "text/plain": [
       "   Intercept  Region[T.C]  Region[T.E]  Region[T.N]  Region[T.S]  Region[T.W]  \\\n",
       "0        1.0          0.0          1.0          0.0          0.0          0.0   \n",
       "1        1.0          0.0          0.0          1.0          0.0          0.0   \n",
       "2        1.0          1.0          0.0          0.0          0.0          0.0   \n",
       "3        1.0          0.0          1.0          0.0          0.0          0.0   \n",
       "4        1.0          0.0          1.0          0.0          0.0          0.0   \n",
       "\n",
       "   Literacy  Wealth  \n",
       "0      37.0    73.0  \n",
       "1      51.0    22.0  \n",
       "2      13.0    61.0  \n",
       "3      46.0    76.0  \n",
       "4      69.0    83.0  "
      ]
     },
     "execution_count": 37,
     "metadata": {},
     "output_type": "execute_result"
    }
   ],
   "source": [
    "X.head()"
   ]
  },
  {
   "cell_type": "markdown",
   "metadata": {},
   "source": [
    "### OLS"
   ]
  },
  {
   "cell_type": "code",
   "execution_count": 34,
   "metadata": {},
   "outputs": [
    {
     "name": "stdout",
     "output_type": "stream",
     "text": [
      "                            OLS Regression Results                            \n",
      "==============================================================================\n",
      "Dep. Variable:                Lottery   R-squared:                       0.358\n",
      "Model:                            OLS   Adj. R-squared:                  0.300\n",
      "Method:                 Least Squares   F-statistic:                     6.205\n",
      "Date:                Thu, 19 Dec 2019   Prob (F-statistic):           8.69e-06\n",
      "Time:                        14:12:44   Log-Likelihood:                -379.21\n",
      "No. Observations:                  86   AIC:                             774.4\n",
      "Df Residuals:                      78   BIC:                             794.1\n",
      "Df Model:                           7                                         \n",
      "Covariance Type:            nonrobust                                         \n",
      "===============================================================================\n",
      "                  coef    std err          t      P>|t|      [0.025      0.975]\n",
      "-------------------------------------------------------------------------------\n",
      "Intercept      75.4006     23.971      3.145      0.002      27.677     123.124\n",
      "Region[T.C]   -36.7489     22.014     -1.669      0.099     -80.576       7.078\n",
      "Region[T.E]   -52.1767     21.630     -2.412      0.018     -95.239      -9.114\n",
      "Region[T.N]   -46.7659     21.554     -2.170      0.033     -89.677      -3.855\n",
      "Region[T.S]   -41.2972     21.779     -1.896      0.062     -84.656       2.062\n",
      "Region[T.W]   -46.8402     21.940     -2.135      0.036     -90.519      -3.161\n",
      "Literacy       -0.1858      0.210     -0.886      0.378      -0.603       0.232\n",
      "Wealth          0.4515      0.103      4.390      0.000       0.247       0.656\n",
      "==============================================================================\n",
      "Omnibus:                        2.896   Durbin-Watson:                   1.787\n",
      "Prob(Omnibus):                  0.235   Jarque-Bera (JB):                2.635\n",
      "Skew:                          -0.342   Prob(JB):                        0.268\n",
      "Kurtosis:                       2.483   Cond. No.                     1.43e+03\n",
      "==============================================================================\n",
      "\n",
      "Warnings:\n",
      "[1] Standard Errors assume that the covariance matrix of the errors is correctly specified.\n",
      "[2] The condition number is large, 1.43e+03. This might indicate that there are\n",
      "strong multicollinearity or other numerical problems.\n"
     ]
    }
   ],
   "source": [
    "model = sm.OLS(y, X)\n",
    "res = model.fit()\n",
    "print(res.summary())"
   ]
  },
  {
   "cell_type": "markdown",
   "metadata": {},
   "source": [
    "### model的参数\n",
    "- res.params  OLS各个变量的系数\n",
    "- res.pvalues  OLS各个变量的p值\n",
    "- res.rsquared OLS模型的R方"
   ]
  },
  {
   "cell_type": "code",
   "execution_count": 40,
   "metadata": {},
   "outputs": [
    {
     "data": {
      "text/plain": [
       "Intercept      75.400576\n",
       "Region[T.C]   -36.748921\n",
       "Region[T.E]   -52.176706\n",
       "Region[T.N]   -46.765882\n",
       "Region[T.S]   -41.297178\n",
       "Region[T.W]   -46.840197\n",
       "Literacy       -0.185819\n",
       "Wealth          0.451475\n",
       "dtype: float64"
      ]
     },
     "execution_count": 40,
     "metadata": {},
     "output_type": "execute_result"
    }
   ],
   "source": [
    "res.params"
   ]
  },
  {
   "cell_type": "code",
   "execution_count": 42,
   "metadata": {},
   "outputs": [
    {
     "data": {
      "text/plain": [
       "Intercept      0.002347\n",
       "Region[T.C]    0.099065\n",
       "Region[T.E]    0.018206\n",
       "Region[T.N]    0.033076\n",
       "Region[T.S]    0.061639\n",
       "Region[T.W]    0.035906\n",
       "Literacy       0.378495\n",
       "Wealth         0.000035\n",
       "dtype: float64"
      ]
     },
     "execution_count": 42,
     "metadata": {},
     "output_type": "execute_result"
    }
   ],
   "source": [
    "res.pvalues"
   ]
  },
  {
   "cell_type": "code",
   "execution_count": 43,
   "metadata": {},
   "outputs": [
    {
     "data": {
      "text/plain": [
       "0.3576709437680746"
      ]
     },
     "execution_count": 43,
     "metadata": {},
     "output_type": "execute_result"
    }
   ],
   "source": [
    "res.rsquared"
   ]
  },
  {
   "cell_type": "markdown",
   "metadata": {},
   "source": [
    "### 模型检验"
   ]
  },
  {
   "cell_type": "code",
   "execution_count": 44,
   "metadata": {},
   "outputs": [
    {
     "data": {
      "text/plain": [
       "(0.8040648600983513, 0.7546709285647615)"
      ]
     },
     "execution_count": 44,
     "metadata": {},
     "output_type": "execute_result"
    }
   ],
   "source": [
    "sm.stats.linear_rainbow(res)"
   ]
  },
  {
   "cell_type": "code",
   "execution_count": 46,
   "metadata": {},
   "outputs": [
    {
     "name": "stdout",
     "output_type": "stream",
     "text": [
      "Rainbow test for linearity\n",
      "\n",
      "    The Null hypothesis is that the regression is correctly modelled as linear.\n",
      "    The alternative for which the power might be large are convex, check\n",
      "\n",
      "    Parameters\n",
      "    ----------\n",
      "    res : Result instance\n",
      "\n",
      "    Returns\n",
      "    -------\n",
      "    fstat : float\n",
      "        test statistic based of F test\n",
      "    pvalue : float\n",
      "        pvalue of the test\n",
      "\n",
      "    \n"
     ]
    }
   ],
   "source": [
    "print(sm.stats.linear_rainbow.__doc__)"
   ]
  },
  {
   "cell_type": "markdown",
   "metadata": {},
   "source": [
    "### 作图"
   ]
  },
  {
   "cell_type": "code",
   "execution_count": 62,
   "metadata": {},
   "outputs": [
    {
     "data": {
      "image/png": "[encoded data removed]",
      "text/plain": [
       "<Figure size 432x288 with 1 Axes>"
      ]
     },
     "metadata": {
      "needs_background": "light"
     },
     "output_type": "display_data"
    }
   ],
   "source": [
    "import matplotlib.pyplot as plt\n",
    "sm.graphics.plot_partregress('Lottery', 'Wealth',['Region', 'Literacy'],\n",
    "                             data=df, obs_labels=False)\n",
    "plt.show()"
   ]
  },
  {
   "cell_type": "code",
   "execution_count": 53,
   "metadata": {},
   "outputs": [
    {
     "name": "stdout",
     "output_type": "stream",
     "text": [
      "Help on function plot_partregress in module statsmodels.graphics.regressionplots:\n",
      "\n",
      "plot_partregress(endog, exog_i, exog_others, data=None, title_kwargs={}, obs_labels=True, label_kwargs={}, ax=None, ret_coords=False, **kwargs)\n",
      "    Plot partial regression for a single regressor.\n",
      "    \n",
      "    Parameters\n",
      "    ----------\n",
      "    endog : ndarray or string\n",
      "       endogenous or response variable. If string is given, you can use a\n",
      "       arbitrary translations as with a formula.\n",
      "    exog_i : ndarray or string\n",
      "        exogenous, explanatory variable. If string is given, you can use a\n",
      "        arbitrary translations as with a formula.\n",
      "    exog_others : ndarray or list of strings\n",
      "        other exogenous, explanatory variables. If a list of strings is given,\n",
      "        each item is a term in formula. You can use a arbitrary translations\n",
      "        as with a formula. The effect of these variables will be removed by\n",
      "        OLS regression.\n",
      "    data : DataFrame, dict, or recarray\n",
      "        Some kind of data structure with names if the other variables are\n",
      "        given as strings.\n",
      "    title_kwargs : dict\n",
      "        Keyword arguments to pass on for the title. The key to control the\n",
      "        fonts is fontdict.\n",
      "    obs_labels : bool or array-like\n",
      "        Whether or not to annotate the plot points with their observation\n",
      "        labels. If obs_labels is a boolean, the point labels will try to do\n",
      "        the right thing. First it will try to use the index of data, then\n",
      "        fall back to the index of exog_i. Alternatively, you may give an\n",
      "        array-like object corresponding to the obseveration numbers.\n",
      "    labels_kwargs : dict\n",
      "        Keyword arguments that control annotate for the observation labels.\n",
      "    ax : Matplotlib AxesSubplot instance, optional\n",
      "        If given, this subplot is used to plot in instead of a new figure being\n",
      "        created.\n",
      "    ret_coords : bool\n",
      "        If True will return the coordinates of the points in the plot. You\n",
      "        can use this to add your own annotations.\n",
      "    kwargs\n",
      "        The keyword arguments passed to plot for the points.\n",
      "    \n",
      "    Returns\n",
      "    -------\n",
      "    fig : Matplotlib figure instance\n",
      "        If `ax` is None, the created figure.  Otherwise the figure to which\n",
      "        `ax` is connected.\n",
      "    coords : list, optional\n",
      "        If ret_coords is True, return a tuple of arrays (x_coords, y_coords).\n",
      "    \n",
      "    Notes\n",
      "    -----\n",
      "    The slope of the fitted line is the that of `exog_i` in the full\n",
      "    multiple regression. The individual points can be used to assess the\n",
      "    influence of points on the estimated coefficient.\n",
      "    \n",
      "    See Also\n",
      "    --------\n",
      "    plot_partregress_grid : Plot partial regression for a set of regressors.\n",
      "    \n",
      "    Examples\n",
      "    --------\n",
      "    Load the Statewide Crime data set and plot partial regression of the rate\n",
      "    of high school graduation (hs_grad) on the murder rate(murder).\n",
      "    \n",
      "    The effects of the percent of the population living in urban areas (urban),\n",
      "    below the poverty line (poverty) , and in a single person household (single)\n",
      "    are removed by OLS regression.\n",
      "    \n",
      "    >>> import statsmodels.api as sm\n",
      "    >>> import matplotlib.pyplot as plt\n",
      "    \n",
      "    >>> crime_data = sm.datasets.statecrime.load_pandas()\n",
      "    >>> sm.graphics.plot_partregress(endog='murder', exog_i='hs_grad',\n",
      "    ...                              exog_others=['urban', 'poverty', 'single'],\n",
      "    ...                              data=crime_data.data, obs_labels=False)\n",
      "    >>> plt.show()\n",
      "    \n",
      "    .. plot:: plots/graphics_regression_partregress.py\n",
      "    \n",
      "    More detailed examples can be found in the Regression Plots notebook\n",
      "    on the examples page.\n",
      "\n"
     ]
    }
   ],
   "source": [
    "help(sm.graphics.plot_partregress)"
   ]
  },
  {
   "cell_type": "code",
   "execution_count": 64,
   "metadata": {},
   "outputs": [],
   "source": [
    "sm.webdoc('ols')"
   ]
  },
  {
   "cell_type": "code",
   "execution_count": 65,
   "metadata": {},
   "outputs": [],
   "source": [
    "sm.webdoc(sm.OLS, stable=False)"
   ]
  },
  {
   "cell_type": "code",
   "execution_count": null,
   "metadata": {},
   "outputs": [],
   "source": []
  }
 ],
 "metadata": {
  "kernelspec": {
   "display_name": "Python 3",
   "language": "python",
   "name": "python3"
  },
  "language_info": {
   "codemirror_mode": {
    "name": "ipython",
    "version": 3
   },
   "file_extension": ".py",
   "mimetype": "text/x-python",
   "name": "python",
   "nbconvert_exporter": "python",
   "pygments_lexer": "ipython3",
   "version": "3.7.4"
  },
  "toc": {
   "base_numbering": 1,
   "nav_menu": {},
   "number_sections": false,
   "sideBar": true,
   "skip_h1_title": false,
   "title_cell": "Table of Contents",
   "title_sidebar": "Contents",
   "toc_cell": false,
   "toc_position": {},
   "toc_section_display": true,
   "toc_window_display": false
  }
 },
 "nbformat": 4,
 "nbformat_minor": 2
}
