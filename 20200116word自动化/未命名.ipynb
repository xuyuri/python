{
 "cells": [
  {
   "cell_type": "markdown",
   "metadata": {},
   "source": [
    "很多岗位经常发送模板化的内容，比如给员工发送工资条信息，实际上改动的地方只有有限的几个字段，诸如姓名、岗位、底薪、补助等，而其他部分内容基本不改动。\n",
    "\n",
    "如果能用python自动化填充需要调整的字段，那么工作量将会大大降低。docxtpl可以让我们实现docx文件的自动化批量生成。\n",
    "\n",
    "\n",
    "### 安装docxtpl"
   ]
  },
  {
   "cell_type": "code",
   "execution_count": 3,
   "metadata": {},
   "outputs": [
    {
     "name": "stdout",
     "output_type": "stream",
     "text": [
      "Looking in indexes: https://pypi.tuna.tsinghua.edu.cn/simple\r\n",
      "Requirement already satisfied: docxtpl in /usr/local/lib/python3.7/site-packages (0.6.3)\r\n",
      "Requirement already satisfied: lxml in /usr/local/lib/python3.7/site-packages (from docxtpl) (4.4.1)\r\n",
      "Requirement already satisfied: six in /usr/local/lib/python3.7/site-packages (from docxtpl) (1.12.0)\r\n",
      "Requirement already satisfied: python-docx<=0.8.7 in /usr/local/lib/python3.7/site-packages (from docxtpl) (0.8.7)\r\n",
      "Requirement already satisfied: jinja2 in /usr/local/lib/python3.7/site-packages (from docxtpl) (2.10.3)\r\n",
      "Requirement already satisfied: MarkupSafe>=0.23 in /usr/local/lib/python3.7/site-packages (from jinja2->docxtpl) (1.1.1)\r\n"
     ]
    }
   ],
   "source": [
    "!pip3 install docxtpl"
   ]
  },
  {
   "cell_type": "markdown",
   "metadata": {},
   "source": [
    "### 工资条模板\n",
    "假设这是工资条模板，我们需要在docx内做标记告诉python哪些地方需要填充内容。\n",
    "\n",
    "这里使用到jinja2标记方式， 如下图{{variablename}}是需要填充的变量名\n",
    "\n",
    "我在template文件夹内建立来一个\"**工资条.docx**\"模板，其中的jinja模板内容如下\n",
    "\n",
    "![](img/工资条.png)\n",
    "\n",
    "docx文件中的varibalename会在python代码的字典中当作关键词承接相应的值，比如下面的代码会生成**张三.docx**"
   ]
  },
  {
   "cell_type": "code",
   "execution_count": 6,
   "metadata": {},
   "outputs": [],
   "source": [
    "from docxtpl import DocxTemplate\n",
    "\n",
    "doc = DocxTemplate(\"template/工资条.docx\")\n",
    "context = {'name' : \"张三\",\n",
    "           'occupation': '销售',\n",
    "           'base': 3000,\n",
    "           'food':1000,\n",
    "           'transport': 2000,\n",
    "           'bonus': 5000,\n",
    "           'salary': 11000}\n",
    "\n",
    "doc.render(context)\n",
    "doc.save(\"output/张三.docx\")"
   ]
  },
  {
   "cell_type": "code",
   "execution_count": null,
   "metadata": {},
   "outputs": [],
   "source": []
  }
 ],
 "metadata": {
  "kernelspec": {
   "display_name": "Python 3",
   "language": "python",
   "name": "python3"
  },
  "language_info": {
   "codemirror_mode": {
    "name": "ipython",
    "version": 3
   },
   "file_extension": ".py",
   "mimetype": "text/x-python",
   "name": "python",
   "nbconvert_exporter": "python",
   "pygments_lexer": "ipython3",
   "version": "3.7.4"
  },
  "toc": {
   "base_numbering": 1,
   "nav_menu": {},
   "number_sections": true,
   "sideBar": true,
   "skip_h1_title": false,
   "title_cell": "Table of Contents",
   "title_sidebar": "Contents",
   "toc_cell": false,
   "toc_position": {},
   "toc_section_display": true,
   "toc_window_display": false
  }
 },
 "nbformat": 4,
 "nbformat_minor": 2
}
