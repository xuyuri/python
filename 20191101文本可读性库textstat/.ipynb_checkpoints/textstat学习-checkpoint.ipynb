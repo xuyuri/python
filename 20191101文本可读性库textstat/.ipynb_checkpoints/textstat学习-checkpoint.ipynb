{
 "cells": [
  {
   "cell_type": "markdown",
   "metadata": {},
   "source": [
    "![](Flesch–Kincaid-Readability-Tests.jpg)\n",
    "textstat是python的文本可读性计算包，可以计算``文章层面、段落层面·句子层面`` 的文本的\n",
    "- 音节统计syllable_count\n",
    "- 词汇数统计lexicon_count\n",
    "- 句子数统计sentence_count\n",
    "- 各种可读性算法\n",
    "\n",
    "目前支持的语言有英语en、德语de、西班牙语es、法语fr、意大利语it、荷兰语nl、波兰语pl、俄语ru，**目前不支持中文**呢。\n",
    "\n",
    "### 可读性计算方法有\n",
    "- The Flesch Reading Ease formula\n",
    "- Flesch-Kincaid Grade Level\n",
    "- The Fog Scale (Gunning FOG Formula)\n",
    "- The SMOG Index\n",
    "- Automated Readability Index\n",
    "- The Coleman-Liau Index\n",
    "- Linsear Write Formula\n",
    "- Dale-Chall Readability Score\n",
    "\n",
    "\n",
    "具体每种算法说明，请阅读textstat官方文档 https://github.com/shivam5992/textstat\n",
    "\n",
    "### 安装"
   ]
  },
  {
   "cell_type": "code",
   "execution_count": 21,
   "metadata": {},
   "outputs": [],
   "source": [
    "!pip3 install textstat"
   ]
  },
  {
   "cell_type": "markdown",
   "metadata": {},
   "source": [
    "### 音节统计\n",
    "\n",
    "textstat.syllable_count(text)"
   ]
  },
  {
   "cell_type": "code",
   "execution_count": 23,
   "metadata": {},
   "outputs": [
    {
     "data": {
      "text/plain": [
       "3"
      ]
     },
     "execution_count": 23,
     "metadata": {},
     "output_type": "execute_result"
    }
   ],
   "source": [
    "import textstat\n",
    "\n",
    "test = 'Playing games'\n",
    "textstat.syllable_count(test)"
   ]
  },
  {
   "cell_type": "markdown",
   "metadata": {},
   "source": [
    "### 词汇统计\n",
    "textstat.lexicon_count(text, removepunct=True)"
   ]
  },
  {
   "cell_type": "code",
   "execution_count": 26,
   "metadata": {},
   "outputs": [
    {
     "data": {
      "text/plain": [
       "4"
      ]
     },
     "execution_count": 26,
     "metadata": {},
     "output_type": "execute_result"
    }
   ],
   "source": [
    "test2 = \"Playing games has always!\"\n",
    "\n",
    "textstat.lexicon_count(test2, removepunct=True)"
   ]
  },
  {
   "cell_type": "markdown",
   "metadata": {},
   "source": [
    "### 可读性\n",
    "输入text，返回可读性值。\n",
    "\n",
    "- textstat.flesch_reading_ease(text)\n",
    "- textstat.smog_index(text)\n",
    "- textstat.flesch_kincaid_grade(text)\n",
    "- textstat.coleman_liau_index(text)\n",
    "- textstat.automated_readability_index(text)\n",
    "- textstat.dale_chall_readability_score(text)\n",
    "- textstat.difficult_words(text)\n",
    "- textstat.linsear_write_formula(text)\n",
    "- textstat.gunning_fog(text)\n",
    "- textstat.text_standard(text)\n",
    "\n",
    "每种算法大家请移步到github项目链接\n",
    "\n",
    "https://github.com/shivam5992/textstat\n",
    "\n",
    "查看计算原理及得分的解读。"
   ]
  },
  {
   "cell_type": "code",
   "execution_count": null,
   "metadata": {},
   "outputs": [],
   "source": [
    "test_data = \"Playing games has always been thought to be important to the development of well-balanced \\\n",
    "and creative children; however, what part, if any, they should play in the lives of \\\n",
    "adults has never been researched that deeply. I believe that playing games is every bit \\\n",
    "as important for adults as for children. Not only is taking time out to play games with our \\\n",
    "children and other adults valuable to building interpersonal relationships but is also a wonderful way \\\n",
    "to release built up tension.\""
   ]
  },
  {
   "cell_type": "code",
   "execution_count": 19,
   "metadata": {},
   "outputs": [
    {
     "name": "stdout",
     "output_type": "stream",
     "text": [
      "52.23\n",
      "12.5\n",
      "12.8\n",
      "11.03\n",
      "15.5\n",
      "6.72\n",
      "9\n",
      "16.333333333333332\n",
      "12.38\n",
      "12th and 13th grade\n"
     ]
    }
   ],
   "source": [
    "print(textstat.flesch_reading_ease(test_data))\n",
    "print(textstat.smog_index(test_data))\n",
    "print(textstat.flesch_kincaid_grade(test_data))\n",
    "print(textstat.coleman_liau_index(test_data))\n",
    "print(textstat.automated_readability_index(test_data))\n",
    "print(textstat.dale_chall_readability_score(test_data))\n",
    "print(textstat.difficult_words(test_data))\n",
    "print(textstat.linsear_write_formula(test_data))\n",
    "print(textstat.gunning_fog(test_data))\n",
    "print(textstat.text_standard(test_data))"
   ]
  }
 ],
 "metadata": {
  "kernelspec": {
   "display_name": "Python 3",
   "language": "python",
   "name": "python3"
  },
  "language_info": {
   "codemirror_mode": {
    "name": "ipython",
    "version": 3
   },
   "file_extension": ".py",
   "mimetype": "text/x-python",
   "name": "python",
   "nbconvert_exporter": "python",
   "pygments_lexer": "ipython3",
   "version": "3.7.2"
  },
  "toc": {
   "base_numbering": 1,
   "nav_menu": {},
   "number_sections": true,
   "sideBar": true,
   "skip_h1_title": false,
   "title_cell": "Table of Contents",
   "title_sidebar": "Contents",
   "toc_cell": false,
   "toc_position": {},
   "toc_section_display": true,
   "toc_window_display": false
  }
 },
 "nbformat": 4,
 "nbformat_minor": 2
}
