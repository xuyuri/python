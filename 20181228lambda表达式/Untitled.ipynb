{
 "cells": [
  {
   "cell_type": "markdown",
   "metadata": {},
   "source": [
    "初学者接触 ``lambda表达式`` ，觉得语法很清奇，正好今天看到 ``python weekly`` 推送了一个youtube的视频教程，今天大邓就顺便领大家简单认识一下lambda语法。\n",
    "\n",
    "```\n",
    "up主：PyLenin\n",
    "视频标题：Python Lambda | Advanced Python | Tutorial 18\n",
    "https://www.youtube.com/watch?v=iMOIGsNHQjM\n",
    "```\n",
    "\n",
    "## 初识lambda表达式\n",
    "其实lambda作用类似于函数，下面是python函数与lambda表达式的参数与返回值\n",
    "![](img/参数.png)\n",
    "![](img/返回值.png)\n",
    "其实这么一看，lambda语法是很简洁的，一般只需要一行就能实现一定功能。"
   ]
  },
  {
   "cell_type": "markdown",
   "metadata": {},
   "source": [
    "![](img/为什么用.png)\n",
    "## 为什么要用lambda表达式\n",
    "既然lambda表达式与python函数都能实现相同的效果，为什么要用lambda表达式？\n",
    "\n",
    "\n",
    "1. 有些时候python函数无法使用的地方，lambda表达式依然可以使用，而且更方便简洁\n",
    "![](img/是一种表达式.png)\n",
    "\n",
    "2. 函数要起名，但这是一个很困难的事情，而且容易重名，但是lambda表达式就不太是一个问题。\n",
    "\n",
    "3. lambda表达式只需要一行，增强了代码的可读性"
   ]
  },
  {
   "cell_type": "code",
   "execution_count": null,
   "metadata": {},
   "outputs": [],
   "source": []
  }
 ],
 "metadata": {
  "kernelspec": {
   "display_name": "Python 3",
   "language": "python",
   "name": "python3"
  },
  "language_info": {
   "codemirror_mode": {
    "name": "ipython",
    "version": 3
   },
   "file_extension": ".py",
   "mimetype": "text/x-python",
   "name": "python",
   "nbconvert_exporter": "python",
   "pygments_lexer": "ipython3",
   "version": "3.7.0"
  }
 },
 "nbformat": 4,
 "nbformat_minor": 2
}
